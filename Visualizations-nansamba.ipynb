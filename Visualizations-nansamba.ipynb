{
 "cells": [
  {
   "cell_type": "code",
   "execution_count": null,
   "id": "852d7842",
   "metadata": {
    "scrolled": true,
    "tags": [
     "meta"
    ]
   },
   "outputs": [],
   "source": [
    "import hvplot.pandas\n",
    "\n",
    "import numpy  as np\n",
    "import pandas as pd\n",
    "import panel  as pn\n",
    "\n",
    "import ipywidgets           as widgets\n",
    "import matplotlib.pyplot    as plt\n",
    "import plotly.graph_objects as go\n",
    "import plotly.express       as px\n",
    "\n",
    "from pathlib                   import Path\n",
    "from utils.plot.total_mentions import mentions_bar\n",
    "from utils.plot.stats          import stats_bar\n",
    "from jupyter_bokeh             import BokehModel\n",
    "from bokeh.models.formatters   import DatetimeTickFormatter\n",
    "\n",
    "\n",
    "from IPython.core.display import display, HTML\n",
    "from IPython.display      import (\n",
    "    set_matplotlib_formats,\n",
    "    clear_output,\n",
    "    display\n",
    ")\n",
    "\n",
    "\n",
    "# display(HTML(\"<style>.container { width:100% !important; }</style>\"))\n",
    "\n",
    "set_matplotlib_formats('svg')\n",
    "\n",
    "%matplotlib inline\n"
   ]
  },
  {
   "cell_type": "markdown",
   "id": "47a3286a",
   "metadata": {
    "tags": [
     "sidebar"
    ]
   },
   "source": [
    "# Sidebar"
   ]
  },
  {
   "cell_type": "markdown",
   "id": "38932473",
   "metadata": {},
   "source": [
    "### Sidebar Card 1"
   ]
  },
  {
   "cell_type": "markdown",
   "id": "3215a87a",
   "metadata": {
    "tags": [
     "body"
    ]
   },
   "source": [
    "\"\"\"\n",
    "The sidebar is the sidebar of the dashboard.\n",
    "\n",
    "It will always be there even after switching pages.\n",
    "\n",
    "This content is a regular Card, for example *this* **is** [markdown](https://daringfireball.net/projects/markdown/).\n",
    "\"\"\""
   ]
  },
  {
   "cell_type": "markdown",
   "id": "28ae54e9",
   "metadata": {
    "tags": [
     "body"
    ]
   },
   "source": [
    "---"
   ]
  },
  {
   "cell_type": "markdown",
   "id": "9191e324",
   "metadata": {},
   "source": [
    "### Sidebar Card 2"
   ]
  },
  {
   "cell_type": "code",
   "execution_count": null,
   "id": "9b13b219",
   "metadata": {
    "tags": [
     "parameters"
    ]
   },
   "outputs": [],
   "source": [
    "flex_orientation     = \"row\"\n",
    "flex_vertical_layout = \"scroll\""
   ]
  },
  {
   "cell_type": "markdown",
   "id": "dab4e497",
   "metadata": {},
   "source": [
    "# Global Crypto Visualizations\n"
   ]
  },
  {
   "cell_type": "markdown",
   "id": "9fdef9b7",
   "metadata": {},
   "source": [
    "# Analytics Page"
   ]
  },
  {
   "cell_type": "markdown",
   "id": "3a68e661",
   "metadata": {
    "tags": [
     "tabs"
    ]
   },
   "source": [
    "## Crytpocurrency Statistics"
   ]
  },
  {
   "cell_type": "markdown",
   "id": "1afd6df3",
   "metadata": {},
   "source": [
    "### Crypto Price Charts (USD)"
   ]
  },
  {
   "cell_type": "code",
   "execution_count": null,
   "id": "e3a5351d",
   "metadata": {
    "tags": [
     "source"
    ]
   },
   "outputs": [],
   "source": [
    "tickers = [\"BTC\", \"ETH\", \"ADA\", \"LTC\", \"XMR\", \"DOGE\"]\n"
   ]
  },
  {
   "cell_type": "code",
   "execution_count": null,
   "id": "9956a363",
   "metadata": {
    "scrolled": false,
    "tags": [
     "source"
    ]
   },
   "outputs": [],
   "source": [
    "file_path = \"./data/latest-quotes_data_ALL.csv\"\n",
    "df = pd.read_csv(file_path)\n",
    "df[\"quote.USD.last_updated\"] = pd.to_datetime(df[\"quote.USD.last_updated\"])\n"
   ]
  },
  {
   "cell_type": "markdown",
   "id": "2e21d4bf",
   "metadata": {},
   "source": [
    "#### Daily Price"
   ]
  },
  {
   "cell_type": "code",
   "execution_count": null,
   "id": "141f8956",
   "metadata": {
    "tags": [
     "body"
    ]
   },
   "outputs": [],
   "source": [
    "fig_last = df.hvplot.line(\n",
    "    x='quote.USD.last_updated',\n",
    "    y='quote.USD.price',\n",
    "    xlabel='Date',\n",
    "    ylabel='Price',\n",
    "    figsize=(700,750),\n",
    "    groupby='symbol',\n",
    "    title='Daily Price Fluctuation',\n",
    "    rot=45,\n",
    "    widget_location=\"left\",\n",
    "    height=250,\n",
    "    width=1350,\n",
    "    fontsize={'title':'12pt','xlabel':'10pt', 'ylabel':'10pt'}\n",
    ")\n",
    "\n",
    "\n",
    "fig_last._sizing_mode_param_value = \"stretch_both\"\n",
    "\n",
    "BokehModel(fig_last.get_root())"
   ]
  },
  {
   "cell_type": "markdown",
   "id": "233514cc",
   "metadata": {},
   "source": [
    "#### Crypto 24 Hour Rolling Average"
   ]
  },
  {
   "cell_type": "code",
   "execution_count": null,
   "id": "eecb0d43",
   "metadata": {
    "scrolled": false,
    "tags": [
     "body"
    ]
   },
   "outputs": [],
   "source": [
    "fig_24h = df.hvplot.line(\n",
    "    y='quote.USD.percent_change_24h',\n",
    "    x='quote.USD.last_updated',\n",
    "    ylabel='Percent Change',\n",
    "    xlabel='Date',\n",
    "    figsize=(700,750),\n",
    "    groupby='symbol',\n",
    "    title='24 Hours Percent Change',\n",
    "    rot=45,\n",
    "    widget_location=\"left\",\n",
    "    height=250,\n",
    "    width=1350,\n",
    "    fontsize={'title':'12pt','xlabel':'10pt', 'ylabel':'10pt'}\n",
    ")\n",
    "\n",
    "fig_24h._sizing_mode_param_value = \"stretch_both\"\n",
    "\n",
    "BokehModel(fig_24h.get_root())"
   ]
  },
  {
   "cell_type": "markdown",
   "id": "aad09049",
   "metadata": {},
   "source": [
    "#### Crypto 7 Day Rolling Average"
   ]
  },
  {
   "cell_type": "code",
   "execution_count": null,
   "id": "5b9cf677",
   "metadata": {
    "tags": [
     "body"
    ]
   },
   "outputs": [],
   "source": [
    "fig_7d = df.hvplot.line(\n",
    "    y='quote.USD.percent_change_7d',\n",
    "    x='quote.USD.last_updated',\n",
    "    ylabel='Percent Change',\n",
    "    xlabel='Date',\n",
    "    figsize=(700,750),\n",
    "    groupby='symbol',\n",
    "    title='7 Days Percent Change',\n",
    "    rot=45,\n",
    "    widget_location=\"left\",\n",
    "    height=250,\n",
    "    width=1350,\n",
    "    fontsize={'title':'12pt','xlabel':'10pt', 'ylabel':'10pt'}\n",
    ")\n",
    "\n",
    "fig_7d._sizing_mode_param_value = \"stretch_both\"\n",
    "\n",
    "BokehModel(fig_7d.get_root())"
   ]
  },
  {
   "cell_type": "markdown",
   "id": "4bf2e550",
   "metadata": {},
   "source": [
    "### Raw Price Data (USD)"
   ]
  },
  {
   "cell_type": "code",
   "execution_count": null,
   "id": "9d96a424",
   "metadata": {
    "tags": [
     "source"
    ]
   },
   "outputs": [],
   "source": [
    "start_date, end_date  = 14, 19\n",
    "series_time_formatter = lambda d: pd.to_datetime(d, infer_datetime_format=True).dt.strftime(\"%Y-%b-%d\")\n",
    "\n",
    "available_dates = [f\"2021-08-{d}\" for d in range(start_date, end_date)]\n",
    "available_dates = list(pd.to_datetime(available_dates, format=\"%Y-%m-%d\").strftime(\"%Y-%b-%d\"))\n"
   ]
  },
  {
   "cell_type": "code",
   "execution_count": null,
   "id": "0e9c20df",
   "metadata": {
    "scrolled": false,
    "tags": [
     "source"
    ]
   },
   "outputs": [],
   "source": [
    "select_df = df.filter([\n",
    "    \"name\",\n",
    "    \"last_updated\",\n",
    "    \"quote.USD.price\",\n",
    "    'quote.USD.volume_24h',\n",
    "    \"quote.USD.percent_change_24h\",\n",
    "    \"quote.USD.percent_change_7d\",\n",
    "    \"quote.USD.percent_change_30d\",\n",
    "    \"quote.USD.percent_change_90d\",\n",
    "])\n",
    "\n",
    "select_df.columns = [\n",
    "    \"Crytpo\",\n",
    "    \"Date\",\n",
    "    \"Price\",\n",
    "    \"24H Volume\",\n",
    "    \"24H % Change\",\n",
    "    \"7D % Change\",\n",
    "    \"30D % Change\",\n",
    "    \"90D % Change\",\n",
    "]\n",
    "\n",
    "select_df[\"Date\"] = pd.to_datetime(select_df[\"Date\"], infer_datetime_format=True).dt.strftime(\"%d%b%y %H:%M:%S\")\n",
    "select_df         = select_df.sort_values([\"Date\", \"Crytpo\"], ascending=False)\n",
    "select_df         = select_df.loc[series_time_formatter(select_df[\"Date\"]).isin(available_dates)]\n"
   ]
  },
  {
   "cell_type": "code",
   "execution_count": null,
   "id": "fec7c51d",
   "metadata": {},
   "outputs": [],
   "source": [
    "2 * (7/2)"
   ]
  },
  {
   "cell_type": "code",
   "execution_count": null,
   "id": "835f2a85",
   "metadata": {},
   "outputs": [],
   "source": [
    "[[\"rgb(31, 119, 180)\", \"rgb(0, 0, 0)\"] * ]"
   ]
  },
  {
   "cell_type": "code",
   "execution_count": null,
   "id": "6ae13976",
   "metadata": {
    "tags": [
     "body"
    ]
   },
   "outputs": [],
   "source": [
    "header_values = [f\"<b>{col}</b>\" for col in select_df.columns]\n",
    "cell_values   = [select_df[col] for col in select_df.columns]\n",
    "\n",
    "fig_table = go.Figure(\n",
    "    data=[go.Table(\n",
    "        header=dict(\n",
    "            values=header_values, align='left',\n",
    "            align=[\"left\", \"center\"],\n",
    "            font=dict(size=12),\n",
    "        )\n",
    "        cells=dict(values=cell_values,    align='left')\n",
    "    )])\n",
    "\n",
    "fig_table.update_layout(\n",
    "    margin=go.layout.Margin(\n",
    "        l=5,\n",
    "        r=5,\n",
    "        b=10,\n",
    "        t=10,\n",
    "        pad=4,\n",
    "    ),\n",
    "    width=1600,\n",
    ")\n"
   ]
  },
  {
   "cell_type": "code",
   "execution_count": null,
   "id": "f1d8063f",
   "metadata": {
    "tags": [
     "parameters"
    ]
   },
   "outputs": [],
   "source": [
    "flex_orientation     = \"columns\"\n",
    "flex_vertical_layout = \"scroll\"\n"
   ]
  },
  {
   "cell_type": "markdown",
   "id": "948757d9",
   "metadata": {},
   "source": [
    "## Media Statistics"
   ]
  },
  {
   "cell_type": "markdown",
   "id": "9ad42444",
   "metadata": {},
   "source": [
    "### Media Stats"
   ]
  },
  {
   "cell_type": "code",
   "execution_count": null,
   "id": "8572a922",
   "metadata": {
    "tags": [
     "body"
    ]
   },
   "outputs": [],
   "source": [
    "# Create ipython widget.\n",
    "date_stats = widgets.SelectMultiple(\n",
    "    options=available_dates,\n",
    "    value=available_dates,\n",
    "    description=\"Dates:\",\n",
    "    disabled=False,\n",
    ")\n",
    "\n",
    "widgets.VBox([date_stats,])\n"
   ]
  },
  {
   "cell_type": "code",
   "execution_count": null,
   "id": "ddc02a02",
   "metadata": {
    "scrolled": false,
    "tags": [
     "body"
    ]
   },
   "outputs": [],
   "source": [
    "# Create an Ouput widget object out_stats that will hold the\n",
    "# final plot.\n",
    "out_stats = widgets.Output()\n",
    "\n",
    "\n",
    "# Use observe() function from ipywidgets to generate the data and\n",
    "# create the plot inside the output widget.\n",
    "def stats_eventhandler(change):\n",
    "    date           = date_stats.value\n",
    "    file_path      = f\"./data/ticker-stats_last7days.csv\"\n",
    "    df_bar         = pd.read_csv(file_path)\n",
    "    df_bar[\"date\"] = series_time_formatter(df_bar[\"date\"])\n",
    "    \n",
    "    with out_stats:\n",
    "        df_bar    = df_bar.loc[df_bar[\"date\"].isin(date)]\n",
    "        fig_stats = stats_bar(df_bar)\n",
    "\n",
    "        clear_output(wait=True)        \n",
    "        fig_stats.show()\n",
    "\n",
    "date_stats.observe(stats_eventhandler, names=\"value\")\n",
    "\n",
    "\n",
    "# Output the Output widget.\n",
    "stats_eventhandler(None)\n",
    "out_stats\n",
    "\n"
   ]
  },
  {
   "cell_type": "markdown",
   "id": "1c5980a0",
   "metadata": {},
   "source": [
    "## Media Stats Col 2"
   ]
  },
  {
   "cell_type": "markdown",
   "id": "86e983fe",
   "metadata": {},
   "source": [
    "### Media Sources "
   ]
  },
  {
   "cell_type": "code",
   "execution_count": null,
   "id": "b284a9e3",
   "metadata": {
    "tags": [
     "source"
    ]
   },
   "outputs": [],
   "source": [
    "file_path = \"./data/ticker-news_data_ALL.csv\"\n",
    "df = pd.read_csv(file_path)\n",
    "# df.head(3)"
   ]
  },
  {
   "cell_type": "code",
   "execution_count": null,
   "id": "2de7f63f",
   "metadata": {
    "scrolled": false,
    "tags": [
     "body"
    ]
   },
   "outputs": [],
   "source": [
    "# hover is title and article\n",
    "df[\"date\"] = pd.to_datetime(df[\"date\"])\n",
    "xformatter = DatetimeTickFormatter(months='%b %Y')\n",
    "\n",
    "\n",
    "fig_rank = df.hvplot.bar(\n",
    "    title=\"Correlating News Source and Rank Score\",\n",
    "    y='rank_score',\n",
    "    x='date',\n",
    "    ylabel='Rank Score',\n",
    "    xlabel='Date',\n",
    "    figsize=(700,750),\n",
    "    groupby='source_name',\n",
    "    rot=45,\n",
    "    height=500,\n",
    "    widget_location=\"top\",\n",
    "    hover_cols=[\"title\",\"text\"],\n",
    "    ylim=(3,8),\n",
    "    fontsize={'title':'12pt','xlabel':'10pt', 'ylabel':'10pt'},\n",
    "    xformatter=xformatter,\n",
    ")\n",
    "\n",
    "fig_rank._sizing_mode_param_value = \"stretch_both\"\n",
    "\n",
    "BokehModel(fig_rank.get_root())\n"
   ]
  },
  {
   "cell_type": "code",
   "execution_count": null,
   "id": "8a4a1aa4",
   "metadata": {
    "scrolled": false
   },
   "outputs": [],
   "source": [
    "# kind = pn.widgets.Select(\n",
    "#     name='kind',\n",
    "#     value='bar',\n",
    "#     options=['bar', 'line','scatter']\n",
    "# )\n",
    "\n",
    "# fig_type = df.hvplot(\n",
    "#     x= 'date',\n",
    "#     y='rank_score',\n",
    "#     ylabel='Rank Score',\n",
    "#     kind=kind,\n",
    "#     colorbar=False,\n",
    "#     width=900,\n",
    "#     widget_location=\"bottom\",\n",
    "#     xaxis=\"\",\n",
    "#     hover_cols=[\"title\",\"text\"],\n",
    "#     title=\"Various Views of Rank Score\"\n",
    "# )\n",
    "\n",
    "\n",
    "# BokehModel(fig_type.get_root())"
   ]
  }
 ],
 "metadata": {
  "celltoolbar": "Tags",
  "kernelspec": {
   "display_name": "Python (dev)",
   "language": "python",
   "name": "dev"
  },
  "language_info": {
   "codemirror_mode": {
    "name": "ipython",
    "version": 3
   },
   "file_extension": ".py",
   "mimetype": "text/x-python",
   "name": "python",
   "nbconvert_exporter": "python",
   "pygments_lexer": "ipython3",
   "version": "3.8.8"
  }
 },
 "nbformat": 4,
 "nbformat_minor": 5
}
