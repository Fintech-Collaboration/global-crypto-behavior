{
 "cells": [
  {
   "cell_type": "markdown",
   "id": "dab4e497",
   "metadata": {},
   "source": [
    "# Global Crypto Visualizations\n"
   ]
  },
  {
   "cell_type": "code",
   "execution_count": 17,
   "id": "852d7842",
   "metadata": {},
   "outputs": [],
   "source": [
    "import hvplot.pandas\n",
    "\n",
    "import numpy  as np\n",
    "import pandas as pd\n",
    "import panel as pn\n",
    "\n",
    "import plotly.graph_objects as go\n",
    "import plotly.express       as px\n",
    "\n",
    "\n",
    "from pathlib import Path\n",
    "\n",
    "from utils.plot.total_mentions import mentions_bar\n",
    "from utils.plot.stats          import stats_bar\n",
    "\n",
    "%matplotlib inline\n"
   ]
  },
  {
   "cell_type": "code",
   "execution_count": 12,
   "id": "0c6b6049",
   "metadata": {},
   "outputs": [],
   "source": [
    "tickers = [\"BTC\", \"ETH\", \"ADA\", \"LTC\", \"XMR\", \"DOGE\"]\n"
   ]
  },
  {
   "cell_type": "code",
   "execution_count": 3,
   "id": "9956a363",
   "metadata": {
    "scrolled": false
   },
   "outputs": [
    {
     "data": {
      "text/html": [
       "<div>\n",
       "<style scoped>\n",
       "    .dataframe tbody tr th:only-of-type {\n",
       "        vertical-align: middle;\n",
       "    }\n",
       "\n",
       "    .dataframe tbody tr th {\n",
       "        vertical-align: top;\n",
       "    }\n",
       "\n",
       "    .dataframe thead th {\n",
       "        text-align: right;\n",
       "    }\n",
       "</style>\n",
       "<table border=\"1\" class=\"dataframe\">\n",
       "  <thead>\n",
       "    <tr style=\"text-align: right;\">\n",
       "      <th></th>\n",
       "      <th>Unnamed: 0</th>\n",
       "      <th>name</th>\n",
       "      <th>symbol</th>\n",
       "      <th>slug</th>\n",
       "      <th>num_market_pairs</th>\n",
       "      <th>is_active</th>\n",
       "      <th>cmc_rank</th>\n",
       "      <th>last_updated</th>\n",
       "      <th>quote.USD.price</th>\n",
       "      <th>quote.USD.volume_24h</th>\n",
       "      <th>quote.USD.percent_change_1h</th>\n",
       "      <th>quote.USD.percent_change_24h</th>\n",
       "      <th>quote.USD.percent_change_7d</th>\n",
       "      <th>quote.USD.percent_change_30d</th>\n",
       "      <th>quote.USD.percent_change_60d</th>\n",
       "      <th>quote.USD.percent_change_90d</th>\n",
       "      <th>quote.USD.last_updated</th>\n",
       "    </tr>\n",
       "  </thead>\n",
       "  <tbody>\n",
       "    <tr>\n",
       "      <th>0</th>\n",
       "      <td>0</td>\n",
       "      <td>Bitcoin</td>\n",
       "      <td>BTC</td>\n",
       "      <td>bitcoin</td>\n",
       "      <td>8939</td>\n",
       "      <td>1</td>\n",
       "      <td>1</td>\n",
       "      <td>2021-08-13T13:19:02.000Z</td>\n",
       "      <td>46621.913290</td>\n",
       "      <td>3.011084e+10</td>\n",
       "      <td>0.640637</td>\n",
       "      <td>4.543904</td>\n",
       "      <td>13.998488</td>\n",
       "      <td>42.511239</td>\n",
       "      <td>15.494834</td>\n",
       "      <td>-4.939644</td>\n",
       "      <td>2021-08-13 13:19:02+00:00</td>\n",
       "    </tr>\n",
       "    <tr>\n",
       "      <th>1</th>\n",
       "      <td>1</td>\n",
       "      <td>Litecoin</td>\n",
       "      <td>LTC</td>\n",
       "      <td>litecoin</td>\n",
       "      <td>710</td>\n",
       "      <td>1</td>\n",
       "      <td>12</td>\n",
       "      <td>2021-08-13T13:19:02.000Z</td>\n",
       "      <td>181.251205</td>\n",
       "      <td>2.190324e+09</td>\n",
       "      <td>0.107650</td>\n",
       "      <td>8.689300</td>\n",
       "      <td>24.417377</td>\n",
       "      <td>39.315065</td>\n",
       "      <td>5.977775</td>\n",
       "      <td>-42.043048</td>\n",
       "      <td>2021-08-13 13:19:02+00:00</td>\n",
       "    </tr>\n",
       "    <tr>\n",
       "      <th>2</th>\n",
       "      <td>2</td>\n",
       "      <td>Dogecoin</td>\n",
       "      <td>DOGE</td>\n",
       "      <td>dogecoin</td>\n",
       "      <td>379</td>\n",
       "      <td>1</td>\n",
       "      <td>7</td>\n",
       "      <td>2021-08-13T13:19:03.000Z</td>\n",
       "      <td>0.278661</td>\n",
       "      <td>3.814042e+09</td>\n",
       "      <td>0.447748</td>\n",
       "      <td>4.224259</td>\n",
       "      <td>38.744745</td>\n",
       "      <td>40.263210</td>\n",
       "      <td>-14.948840</td>\n",
       "      <td>-46.998978</td>\n",
       "      <td>2021-08-13 13:19:03+00:00</td>\n",
       "    </tr>\n",
       "    <tr>\n",
       "      <th>3</th>\n",
       "      <td>3</td>\n",
       "      <td>Monero</td>\n",
       "      <td>XMR</td>\n",
       "      <td>monero</td>\n",
       "      <td>161</td>\n",
       "      <td>1</td>\n",
       "      <td>29</td>\n",
       "      <td>2021-08-13T13:19:04.000Z</td>\n",
       "      <td>269.918605</td>\n",
       "      <td>2.290027e+08</td>\n",
       "      <td>0.862228</td>\n",
       "      <td>2.853090</td>\n",
       "      <td>1.658224</td>\n",
       "      <td>33.478329</td>\n",
       "      <td>2.111425</td>\n",
       "      <td>-36.360225</td>\n",
       "      <td>2021-08-13 13:19:04+00:00</td>\n",
       "    </tr>\n",
       "    <tr>\n",
       "      <th>4</th>\n",
       "      <td>4</td>\n",
       "      <td>Ethereum</td>\n",
       "      <td>ETH</td>\n",
       "      <td>ethereum</td>\n",
       "      <td>5609</td>\n",
       "      <td>1</td>\n",
       "      <td>2</td>\n",
       "      <td>2021-08-13T13:19:02.000Z</td>\n",
       "      <td>3239.449958</td>\n",
       "      <td>2.513839e+10</td>\n",
       "      <td>0.326163</td>\n",
       "      <td>4.497529</td>\n",
       "      <td>16.609544</td>\n",
       "      <td>63.740552</td>\n",
       "      <td>28.066210</td>\n",
       "      <td>-17.088063</td>\n",
       "      <td>2021-08-13 13:19:02+00:00</td>\n",
       "    </tr>\n",
       "    <tr>\n",
       "      <th>5</th>\n",
       "      <td>5</td>\n",
       "      <td>Cardano</td>\n",
       "      <td>ADA</td>\n",
       "      <td>cardano</td>\n",
       "      <td>286</td>\n",
       "      <td>1</td>\n",
       "      <td>4</td>\n",
       "      <td>2021-08-13T13:18:07.000Z</td>\n",
       "      <td>2.043207</td>\n",
       "      <td>6.630972e+09</td>\n",
       "      <td>0.139518</td>\n",
       "      <td>16.226653</td>\n",
       "      <td>48.516226</td>\n",
       "      <td>61.846313</td>\n",
       "      <td>31.735741</td>\n",
       "      <td>-9.485440</td>\n",
       "      <td>2021-08-13 13:18:07+00:00</td>\n",
       "    </tr>\n",
       "    <tr>\n",
       "      <th>6</th>\n",
       "      <td>6</td>\n",
       "      <td>Bitcoin</td>\n",
       "      <td>BTC</td>\n",
       "      <td>bitcoin</td>\n",
       "      <td>8939</td>\n",
       "      <td>1</td>\n",
       "      <td>1</td>\n",
       "      <td>2021-08-13T13:24:02.000Z</td>\n",
       "      <td>46649.942680</td>\n",
       "      <td>3.017188e+10</td>\n",
       "      <td>0.592743</td>\n",
       "      <td>4.309974</td>\n",
       "      <td>13.763203</td>\n",
       "      <td>42.562350</td>\n",
       "      <td>14.953379</td>\n",
       "      <td>-4.932852</td>\n",
       "      <td>2021-08-13 13:24:02+00:00</td>\n",
       "    </tr>\n",
       "    <tr>\n",
       "      <th>7</th>\n",
       "      <td>7</td>\n",
       "      <td>Litecoin</td>\n",
       "      <td>LTC</td>\n",
       "      <td>litecoin</td>\n",
       "      <td>710</td>\n",
       "      <td>1</td>\n",
       "      <td>12</td>\n",
       "      <td>2021-08-13T13:24:02.000Z</td>\n",
       "      <td>181.338083</td>\n",
       "      <td>2.191737e+09</td>\n",
       "      <td>-0.083943</td>\n",
       "      <td>8.377851</td>\n",
       "      <td>24.593745</td>\n",
       "      <td>39.519745</td>\n",
       "      <td>5.812005</td>\n",
       "      <td>-41.964348</td>\n",
       "      <td>2021-08-13 13:24:02+00:00</td>\n",
       "    </tr>\n",
       "    <tr>\n",
       "      <th>8</th>\n",
       "      <td>8</td>\n",
       "      <td>Dogecoin</td>\n",
       "      <td>DOGE</td>\n",
       "      <td>dogecoin</td>\n",
       "      <td>379</td>\n",
       "      <td>1</td>\n",
       "      <td>7</td>\n",
       "      <td>2021-08-13T13:24:03.000Z</td>\n",
       "      <td>0.278758</td>\n",
       "      <td>3.818195e+09</td>\n",
       "      <td>0.210817</td>\n",
       "      <td>3.705683</td>\n",
       "      <td>38.717177</td>\n",
       "      <td>40.447567</td>\n",
       "      <td>-15.900106</td>\n",
       "      <td>-47.174834</td>\n",
       "      <td>2021-08-13 13:24:03+00:00</td>\n",
       "    </tr>\n",
       "    <tr>\n",
       "      <th>9</th>\n",
       "      <td>9</td>\n",
       "      <td>Monero</td>\n",
       "      <td>XMR</td>\n",
       "      <td>monero</td>\n",
       "      <td>161</td>\n",
       "      <td>1</td>\n",
       "      <td>29</td>\n",
       "      <td>2021-08-13T13:24:04.000Z</td>\n",
       "      <td>269.923059</td>\n",
       "      <td>2.289117e+08</td>\n",
       "      <td>0.763273</td>\n",
       "      <td>2.559315</td>\n",
       "      <td>1.509764</td>\n",
       "      <td>33.196793</td>\n",
       "      <td>1.817863</td>\n",
       "      <td>-36.172778</td>\n",
       "      <td>2021-08-13 13:24:04+00:00</td>\n",
       "    </tr>\n",
       "  </tbody>\n",
       "</table>\n",
       "</div>"
      ],
      "text/plain": [
       "   Unnamed: 0      name symbol      slug  num_market_pairs  is_active  \\\n",
       "0           0   Bitcoin    BTC   bitcoin              8939          1   \n",
       "1           1  Litecoin    LTC  litecoin               710          1   \n",
       "2           2  Dogecoin   DOGE  dogecoin               379          1   \n",
       "3           3    Monero    XMR    monero               161          1   \n",
       "4           4  Ethereum    ETH  ethereum              5609          1   \n",
       "5           5   Cardano    ADA   cardano               286          1   \n",
       "6           6   Bitcoin    BTC   bitcoin              8939          1   \n",
       "7           7  Litecoin    LTC  litecoin               710          1   \n",
       "8           8  Dogecoin   DOGE  dogecoin               379          1   \n",
       "9           9    Monero    XMR    monero               161          1   \n",
       "\n",
       "   cmc_rank              last_updated  quote.USD.price  quote.USD.volume_24h  \\\n",
       "0         1  2021-08-13T13:19:02.000Z     46621.913290          3.011084e+10   \n",
       "1        12  2021-08-13T13:19:02.000Z       181.251205          2.190324e+09   \n",
       "2         7  2021-08-13T13:19:03.000Z         0.278661          3.814042e+09   \n",
       "3        29  2021-08-13T13:19:04.000Z       269.918605          2.290027e+08   \n",
       "4         2  2021-08-13T13:19:02.000Z      3239.449958          2.513839e+10   \n",
       "5         4  2021-08-13T13:18:07.000Z         2.043207          6.630972e+09   \n",
       "6         1  2021-08-13T13:24:02.000Z     46649.942680          3.017188e+10   \n",
       "7        12  2021-08-13T13:24:02.000Z       181.338083          2.191737e+09   \n",
       "8         7  2021-08-13T13:24:03.000Z         0.278758          3.818195e+09   \n",
       "9        29  2021-08-13T13:24:04.000Z       269.923059          2.289117e+08   \n",
       "\n",
       "   quote.USD.percent_change_1h  quote.USD.percent_change_24h  \\\n",
       "0                     0.640637                      4.543904   \n",
       "1                     0.107650                      8.689300   \n",
       "2                     0.447748                      4.224259   \n",
       "3                     0.862228                      2.853090   \n",
       "4                     0.326163                      4.497529   \n",
       "5                     0.139518                     16.226653   \n",
       "6                     0.592743                      4.309974   \n",
       "7                    -0.083943                      8.377851   \n",
       "8                     0.210817                      3.705683   \n",
       "9                     0.763273                      2.559315   \n",
       "\n",
       "   quote.USD.percent_change_7d  quote.USD.percent_change_30d  \\\n",
       "0                    13.998488                     42.511239   \n",
       "1                    24.417377                     39.315065   \n",
       "2                    38.744745                     40.263210   \n",
       "3                     1.658224                     33.478329   \n",
       "4                    16.609544                     63.740552   \n",
       "5                    48.516226                     61.846313   \n",
       "6                    13.763203                     42.562350   \n",
       "7                    24.593745                     39.519745   \n",
       "8                    38.717177                     40.447567   \n",
       "9                     1.509764                     33.196793   \n",
       "\n",
       "   quote.USD.percent_change_60d  quote.USD.percent_change_90d  \\\n",
       "0                     15.494834                     -4.939644   \n",
       "1                      5.977775                    -42.043048   \n",
       "2                    -14.948840                    -46.998978   \n",
       "3                      2.111425                    -36.360225   \n",
       "4                     28.066210                    -17.088063   \n",
       "5                     31.735741                     -9.485440   \n",
       "6                     14.953379                     -4.932852   \n",
       "7                      5.812005                    -41.964348   \n",
       "8                    -15.900106                    -47.174834   \n",
       "9                      1.817863                    -36.172778   \n",
       "\n",
       "     quote.USD.last_updated  \n",
       "0 2021-08-13 13:19:02+00:00  \n",
       "1 2021-08-13 13:19:02+00:00  \n",
       "2 2021-08-13 13:19:03+00:00  \n",
       "3 2021-08-13 13:19:04+00:00  \n",
       "4 2021-08-13 13:19:02+00:00  \n",
       "5 2021-08-13 13:18:07+00:00  \n",
       "6 2021-08-13 13:24:02+00:00  \n",
       "7 2021-08-13 13:24:02+00:00  \n",
       "8 2021-08-13 13:24:03+00:00  \n",
       "9 2021-08-13 13:24:04+00:00  "
      ]
     },
     "execution_count": 3,
     "metadata": {},
     "output_type": "execute_result"
    }
   ],
   "source": [
    "file_path = \"./data/latest-quotes_data_ALL.csv\"\n",
    "df = pd.read_csv(file_path)\n",
    "df[\"quote.USD.last_updated\"] = pd.to_datetime(df[\"quote.USD.last_updated\"])\n",
    "df.head(10)\n"
   ]
  },
  {
   "cell_type": "code",
   "execution_count": 4,
   "id": "141f8956",
   "metadata": {},
   "outputs": [
    {
     "data": {},
     "metadata": {},
     "output_type": "display_data"
    },
    {
     "data": {},
     "metadata": {},
     "output_type": "display_data"
    },
    {
     "data": {
      "application/vnd.holoviews_exec.v0+json": "",
      "text/html": [
       "<div id='1002'>\n",
       "\n",
       "\n",
       "\n",
       "\n",
       "\n",
       "  <div class=\"bk-root\" id=\"929383f8-9212-435f-882d-5bb09e9adcf4\" data-root-id=\"1002\"></div>\n",
       "</div>\n",
       "<script type=\"application/javascript\">(function(root) {\n",
       "  function embed_document(root) {\n",
       "    var docs_json = {\"5e858cc0-b01c-4b29-acca-f50cf36285e7\":{\"defs\":[{\"extends\":null,\"module\":null,\"name\":\"ReactiveHTML1\",\"overrides\":[],\"properties\":[]},{\"extends\":null,\"module\":null,\"name\":\"FlexBox1\",\"overrides\":[],\"properties\":[{\"default\":\"flex-start\",\"kind\":null,\"name\":\"align_content\"},{\"default\":\"flex-start\",\"kind\":null,\"name\":\"align_items\"},{\"default\":\"row\",\"kind\":null,\"name\":\"flex_direction\"},{\"default\":\"wrap\",\"kind\":null,\"name\":\"flex_wrap\"},{\"default\":\"flex-start\",\"kind\":null,\"name\":\"justify_content\"}]},{\"extends\":null,\"module\":null,\"name\":\"TemplateActions1\",\"overrides\":[],\"properties\":[{\"default\":0,\"kind\":null,\"name\":\"open_modal\"},{\"default\":0,\"kind\":null,\"name\":\"close_modal\"}]},{\"extends\":null,\"module\":null,\"name\":\"MaterialTemplateActions1\",\"overrides\":[],\"properties\":[{\"default\":0,\"kind\":null,\"name\":\"open_modal\"},{\"default\":0,\"kind\":null,\"name\":\"close_modal\"}]}],\"roots\":{\"references\":[{\"attributes\":{\"source\":{\"id\":\"1041\"}},\"id\":\"1048\",\"type\":\"CDSView\"},{\"attributes\":{\"line_color\":\"#30a2da\",\"line_width\":2,\"x\":{\"field\":\"quote.USD.last_updated\"},\"y\":{\"field\":\"quote.USD.price\"}},\"id\":\"1049\",\"type\":\"Line\"},{\"attributes\":{},\"id\":\"1051\",\"type\":\"DatetimeTickFormatter\"},{\"attributes\":{\"mantissas\":[1,2,5],\"max_interval\":500.0,\"num_minor_ticks\":0},\"id\":\"1072\",\"type\":\"AdaptiveTicker\"},{\"attributes\":{\"base\":60,\"mantissas\":[1,2,5,10,15,20,30],\"max_interval\":1800000.0,\"min_interval\":1000.0,\"num_minor_ticks\":0},\"id\":\"1073\",\"type\":\"AdaptiveTicker\"},{\"attributes\":{\"line_alpha\":0.1,\"line_color\":\"#30a2da\",\"line_width\":2,\"x\":{\"field\":\"quote.USD.last_updated\"},\"y\":{\"field\":\"quote.USD.price\"}},\"id\":\"1045\",\"type\":\"Line\"},{\"attributes\":{},\"id\":\"1050\",\"type\":\"AllLabels\"},{\"attributes\":{},\"id\":\"1029\",\"type\":\"PanTool\"},{\"attributes\":{\"line_alpha\":0.2,\"line_color\":\"#30a2da\",\"line_width\":2,\"x\":{\"field\":\"quote.USD.last_updated\"},\"y\":{\"field\":\"quote.USD.price\"}},\"id\":\"1046\",\"type\":\"Line\"},{\"attributes\":{\"days\":[1,2,3,4,5,6,7,8,9,10,11,12,13,14,15,16,17,18,19,20,21,22,23,24,25,26,27,28,29,30,31]},\"id\":\"1075\",\"type\":\"DaysTicker\"},{\"attributes\":{\"base\":24,\"mantissas\":[1,2,4,6,8,12],\"max_interval\":43200000.0,\"min_interval\":3600000.0,\"num_minor_ticks\":0},\"id\":\"1074\",\"type\":\"AdaptiveTicker\"},{\"attributes\":{\"months\":[0,1,2,3,4,5,6,7,8,9,10,11]},\"id\":\"1079\",\"type\":\"MonthsTicker\"},{\"attributes\":{\"client_comm_id\":\"c771fd7cf81e4760a70598c385d4de85\",\"comm_id\":\"fcc7067ecbb446749d40055acaf23a2c\",\"plot_id\":\"1002\"},\"id\":\"1172\",\"type\":\"panel.models.comm_manager.CommManager\"},{\"attributes\":{\"margin\":[20,20,20,20],\"min_width\":250,\"options\":[\"BTC\",\"LTC\",\"DOGE\",\"XMR\",\"ETH\",\"ADA\"],\"title\":\"symbol\",\"value\":\"BTC\",\"width\":250},\"id\":\"1006\",\"type\":\"Select\"},{\"attributes\":{\"data_source\":{\"id\":\"1041\"},\"glyph\":{\"id\":\"1044\"},\"hover_glyph\":null,\"muted_glyph\":{\"id\":\"1046\"},\"nonselection_glyph\":{\"id\":\"1045\"},\"selection_glyph\":{\"id\":\"1049\"},\"view\":{\"id\":\"1048\"}},\"id\":\"1047\",\"type\":\"GlyphRenderer\"},{\"attributes\":{\"months\":[0,2,4,6,8,10]},\"id\":\"1080\",\"type\":\"MonthsTicker\"},{\"attributes\":{},\"id\":\"1054\",\"type\":\"BasicTickFormatter\"},{\"attributes\":{\"days\":[1,4,7,10,13,16,19,22,25,28]},\"id\":\"1076\",\"type\":\"DaysTicker\"},{\"attributes\":{\"days\":[1,15]},\"id\":\"1078\",\"type\":\"DaysTicker\"},{\"attributes\":{\"line_color\":\"#30a2da\",\"line_width\":2,\"x\":{\"field\":\"quote.USD.last_updated\"},\"y\":{\"field\":\"quote.USD.price\"}},\"id\":\"1044\",\"type\":\"Line\"},{\"attributes\":{\"months\":[0,6]},\"id\":\"1082\",\"type\":\"MonthsTicker\"},{\"attributes\":{\"reload\":false},\"id\":\"1239\",\"type\":\"panel.models.location.Location\"},{\"attributes\":{\"callback\":null,\"formatters\":{\"@{quote.USD.last_updated}\":\"datetime\",\"@{quote_full_stop_USD_full_stop_last_updated}\":\"datetime\"},\"renderers\":[{\"id\":\"1047\"}],\"tags\":[\"hv_created\"],\"tooltips\":[[\"quote.USD.last_updated\",\"@{quote_full_stop_USD_full_stop_last_updated}\"],[\"quote.USD.price\",\"@{quote_full_stop_USD_full_stop_price}\"]]},\"id\":\"1010\",\"type\":\"HoverTool\"},{\"attributes\":{\"days\":[1,8,15,22]},\"id\":\"1077\",\"type\":\"DaysTicker\"},{\"attributes\":{},\"id\":\"1083\",\"type\":\"YearsTicker\"},{\"attributes\":{\"bottom_units\":\"screen\",\"fill_alpha\":0.5,\"fill_color\":\"lightgrey\",\"left_units\":\"screen\",\"level\":\"overlay\",\"line_alpha\":1.0,\"line_color\":\"black\",\"line_dash\":[4,4],\"line_width\":2,\"right_units\":\"screen\",\"syncable\":false,\"top_units\":\"screen\"},\"id\":\"1033\",\"type\":\"BoxAnnotation\"},{\"attributes\":{\"months\":[0,4,8]},\"id\":\"1081\",\"type\":\"MonthsTicker\"},{\"attributes\":{\"end\":48380.789353,\"reset_end\":48380.789353,\"reset_start\":43599.908797,\"start\":43599.908797,\"tags\":[[[\"quote.USD.price\",\"quote.USD.price\",null]]]},\"id\":\"1009\",\"type\":\"Range1d\"},{\"attributes\":{},\"id\":\"1042\",\"type\":\"Selection\"},{\"attributes\":{\"children\":[{\"id\":\"1004\"},{\"id\":\"1005\"},{\"id\":\"1007\"}],\"margin\":[0,0,0,0],\"name\":\"Row01597\"},\"id\":\"1003\",\"type\":\"Row\"},{\"attributes\":{},\"id\":\"1053\",\"type\":\"AllLabels\"},{\"attributes\":{\"children\":[{\"id\":\"1006\"}],\"css_classes\":[\"panel-widget-box\"],\"margin\":[5,5,5,5],\"name\":\"WidgetBox01590\"},\"id\":\"1005\",\"type\":\"Column\"},{\"attributes\":{\"end\":1629406442000.0,\"reset_end\":1629406442000.0,\"reset_start\":1628860742000.0,\"start\":1628860742000.0,\"tags\":[[[\"quote.USD.last_updated\",\"quote.USD.last_updated\",null]]]},\"id\":\"1008\",\"type\":\"Range1d\"},{\"attributes\":{\"text\":\"Crypto Analyzer - Price Fluctuation\",\"text_color\":\"black\",\"text_font_size\":\"20pt\"},\"id\":\"1012\",\"type\":\"Title\"},{\"attributes\":{\"num_minor_ticks\":5,\"tickers\":[{\"id\":\"1072\"},{\"id\":\"1073\"},{\"id\":\"1074\"},{\"id\":\"1075\"},{\"id\":\"1076\"},{\"id\":\"1077\"},{\"id\":\"1078\"},{\"id\":\"1079\"},{\"id\":\"1080\"},{\"id\":\"1081\"},{\"id\":\"1082\"},{\"id\":\"1083\"}]},\"id\":\"1021\",\"type\":\"DatetimeTicker\"},{\"attributes\":{\"children\":[{\"id\":\"1003\"},{\"id\":\"1011\"}],\"margin\":[0,0,0,0],\"name\":\"Column01598\"},\"id\":\"1002\",\"type\":\"Column\"},{\"attributes\":{},\"id\":\"1018\",\"type\":\"LinearScale\"},{\"attributes\":{\"axis\":{\"id\":\"1020\"},\"grid_line_color\":null,\"ticker\":null},\"id\":\"1023\",\"type\":\"Grid\"},{\"attributes\":{\"margin\":[5,5,5,5],\"name\":\"HSpacer01595\",\"sizing_mode\":\"stretch_width\"},\"id\":\"1004\",\"type\":\"Spacer\"},{\"attributes\":{\"axis_label\":\"Date\",\"axis_label_text_font_size\":\"15pt\",\"formatter\":{\"id\":\"1051\"},\"major_label_orientation\":0.7853981633974483,\"major_label_policy\":{\"id\":\"1050\"},\"ticker\":{\"id\":\"1021\"}},\"id\":\"1020\",\"type\":\"DatetimeAxis\"},{\"attributes\":{\"below\":[{\"id\":\"1020\"}],\"center\":[{\"id\":\"1023\"},{\"id\":\"1027\"}],\"height\":500,\"left\":[{\"id\":\"1024\"}],\"margin\":[5,5,5,5],\"min_border_bottom\":10,\"min_border_left\":10,\"min_border_right\":10,\"min_border_top\":10,\"renderers\":[{\"id\":\"1047\"}],\"sizing_mode\":\"fixed\",\"title\":{\"id\":\"1012\"},\"toolbar\":{\"id\":\"1034\"},\"width\":700,\"x_range\":{\"id\":\"1008\"},\"x_scale\":{\"id\":\"1016\"},\"y_range\":{\"id\":\"1009\"},\"y_scale\":{\"id\":\"1018\"}},\"id\":\"1011\",\"subtype\":\"Figure\",\"type\":\"Plot\"},{\"attributes\":{},\"id\":\"1016\",\"type\":\"LinearScale\"},{\"attributes\":{},\"id\":\"1069\",\"type\":\"UnionRenderers\"},{\"attributes\":{\"axis\":{\"id\":\"1024\"},\"dimension\":1,\"grid_line_color\":null,\"ticker\":null},\"id\":\"1027\",\"type\":\"Grid\"},{\"attributes\":{\"margin\":[5,5,5,5],\"name\":\"HSpacer01596\",\"sizing_mode\":\"stretch_width\"},\"id\":\"1007\",\"type\":\"Spacer\"},{\"attributes\":{\"axis_label\":\"Price\",\"axis_label_text_font_size\":\"15pt\",\"formatter\":{\"id\":\"1054\"},\"major_label_policy\":{\"id\":\"1053\"},\"ticker\":{\"id\":\"1025\"}},\"id\":\"1024\",\"type\":\"LinearAxis\"},{\"attributes\":{},\"id\":\"1025\",\"type\":\"BasicTicker\"},{\"attributes\":{},\"id\":\"1030\",\"type\":\"WheelZoomTool\"},{\"attributes\":{\"active_multi\":null,\"tools\":[{\"id\":\"1010\"},{\"id\":\"1028\"},{\"id\":\"1029\"},{\"id\":\"1030\"},{\"id\":\"1031\"},{\"id\":\"1032\"}]},\"id\":\"1034\",\"type\":\"Toolbar\"},{\"attributes\":{},\"id\":\"1028\",\"type\":\"SaveTool\"},{\"attributes\":{\"overlay\":{\"id\":\"1033\"}},\"id\":\"1031\",\"type\":\"BoxZoomTool\"},{\"attributes\":{\"data\":{\"quote.USD.last_updated\":{\"__ndarray__\":\"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\",\"dtype\":\"float64\",\"order\":\"little\",\"shape\":[1670]},\"quote.USD.price\":{\"__ndarray__\":\"OPOrOb3D5kBTP28qPsfmQJz51Rz7uuZA7rH0oRW05kD92Y8UNrXmQGq8dJMarOZAtr5IaAe15kCDL0ymDrvmQJMANbUQu+ZAkwA1tRC75kCTADW1ELvmQJMANbUQu+ZAkwA1tRC75kCTADW1ELvmQDWYhuFrruZA6udNReqc5kD2C3bDPJ/mQPQau0TmreZAxty1hIG15kBEF9S31bDmQHf4a7JZs+ZAd/hrslmz5kB3+GuyWbPmQHf4a7JZs+ZATdaoh6mW5kBvgQTFNJTmQOdvQiE3k+ZA+3Q8ZpST5kBUxr/PV5XmQCHqPgCdluZAiSmRRPGZ5kARAYdQtZvmQPwApDb2p+ZA4JwRpVKy5kDe5SK+ra3mQMOedvhlqOZAL4uJzW2V5kBNMnIWxqLmQMI0DB9kquZAur2kMUOk5kDElEiiCavmQKRTVz7YqeZAejarPtKp5kCzXgzln7DmQN1B7EyDt+ZArW71nCGy5kApIsMq2LDmQHi5iO+2ruZA6IL6lmmr5kDZPXlYlqvmQOQUHcnbruZAI74Ts4W05kACZVOuzrbmQOF6FK4LteZA4XoUrgu15kCmuKrsn7rmQK98luf5t+ZAUAEwnkSm5kCXHHdKDq7mQJccd0oOruZAlxx3Sg6u5kAlr84xqK3mQKt4I/NDu+ZAq3gj80O75kBF8L+Vp8DmQFsIclAZxeZAWwhyUBnF5kAaNPRParjmQBo09E9quOZAs82N6Raz5kAUlnhAw6vmQL9gN2xssuZA3h/vVf6w5kAbR6zFkq3mQHQkl//on+ZAryXkgxKi5kCvJeSDEqLmQKJ/gosanuZA3IDPD7Cc5kDcgM8PsJzmQAiPNo6oquZAWd3qOTO05kBZ3eo5M7TmQFnd6jkztOZAWd3qOTO05kD6uDZUuTjnQPq4NlS5OOdA+rg2VLk450Aw9fOm7SfnQPXWwFahLOdAt0WZDZQp50BcIEHxnzTnQPFL/bwENudAKnReY7BD50BG66hquELnQNsWZTYeVOdAdVlMbI9F50CrWz0nbEnnQJ7vp8b8UOdAwD46dYxL50BuhhvwG0znQG6GG/AbTOdAd4TTgvdH50BjesISUD/nQBakGYvUPOdA/wkuVjVB50CuR+F6M0DnQHkj88g5PedATFRvDbA450CQSUbOGjfnQJBJRs4aN+dAcHztmRM350BwfO2ZEzfnQD55WKisPedABTQRNltA50AhsHJookHnQP5l9+TDN+dAiC6ob1g350DA7J484DbnQDRLAtQVN+dAgosVNSdD50C/8bVnxkHnQE8jLZVhSudAsp3vp6BF50BFKowtCUPnQJJ55A+4RedAkElGzrdL50DUZTGxo1fnQPM8uDv/WudAhEcbRypW50AH8BZIrUrnQKKcaFdIR+dAA1slWDZH50A2PL1SXUfnQEjcY+mlUOdArMq+K/NS50CDhv4J5kDnQJKzsKelPudAk2+2uYE650BRa5p3w0HnQNxoAG/DRudAZVOu8J9M50DdmJ6woknnQMu+K4KwSudApfeNr81K50AvF/Gd/kbnQDQRNjyXRedA845TdEZE50D0T3Cx5kHnQNhkjXpAMudAZ341B3Iv50BvRzgtqzTnQI20VN6fNudAKJtyhVo450BTrvAuSzLnQMmrcww8LOdAWYY41rQw50BTP28qZj3nQJCIKZGMRedA4q/JGoFA50Bo0NA/7UHnQB4Wak20O+dAAFKbOGFA50C9HeG0qDfnQDpAMEcDMudAmpSCbrwv50DIBz2b7y/nQAMmcOuANOdAy0qTUtg250D/BBcrXzvnQIo8SbqHOedA3c1THYY150Aofoy52jjnQFcE/1tYMOdA1nPS+x8x50Cx3NJqBDPnQH3Qs1maO+dAWMUbmcA350Dq7GRwSzXnQF3hXS6mNudAxlBOtPZD50DLviuCeD/nQABXsmPiQedAOjsZHH1C50A1JO6x8UTnQH2zzY2HQedAWJBmLLQ850C+3v3x3T3nQCNKe4N3O+dAZtr+lfg250Claybf9jTnQKVrJt/2NOdAfoy5a2pG50BDc51GskvnQDFfXoDgR+dAAOMZNMRL50DjNhrACkvnQJY+dEGkT+dAlj50QaRP50CWPnRBpE/nQB2s/3OEROdAoWez6hFD50DvycNCe0PnQD8AqU2wPudAescpOjtB50B6xyk6O0HnQHrHKTo7QedAexSuR9VF50DqPgCpGUfnQLq9pDEMRudAur2kMQxG50C6vaQxDEbnQH2zzY1iQudAfbPNjWJC50CIEcKjdkXnQIgRwqN2RedAiBHCo3ZF50CIEcKjdkXnQIgRwqN2RedAiBHCo3ZF50CIEcKjdkXnQIgRwqN2RedAiBHCo3ZF50CIEcKjdkXnQIgRwqN2RedAiBHCo3ZF50CIEcKjdkXnQIgRwqN2RedA2T15WCrt5kA2sFWCRN7mQBYYsrqzyuZA1edqK4zo5kDejnBaIeTmQFovhnIsz+ZAWd3qOQCn5kC30QDevKHmQFUTRN0+luZANV66SZWZ5kC0ccRacaDmQO5Cc51np+ZA83FtqGyb5kAp7Q2+q57mQKAaL91LreZAVcGopIet5kBVwaikh63mQFXBqKSHreZAVcGopIet5kBVwaikh63mQFXBqKSHreZAVcGopIet5kDNzMzM3aLmQPXzpiLVquZAK6T8pGWq5kCmD11QZqXmQPT91HhDouZAzeSbbamc5kC7uI0G3pnmQF8HzhlIpuZAl8XE5v6W5kAjLZW3cqjmQLbz/dQfrOZARG6GG+Wq5kCILqhvMqzmQG3/ykpXrOZAtJPBURao5kB7a2CrcKjmQCRiSiScr+ZA4bTgRaSz5kB9Ik+SH7HmQGoYPiK9uOZAGH0FafLH5kCgMv59EMvmQO22C83j0uZAV5V9Vx/d5kBXlX1XH93mQOv/HOZf2OZA6/8c5l/Y5kDr/xzmX9jmQOv/HOZf2OZAYygn2qDs5kB1kxgErufmQH0FacZY4+ZAfQVpxljj5kB9BWnGWOPmQH0FacZY4+ZAfQVpxljj5kB9BWnGWOPmQH0FacZY4+ZA9+Rhocbn5kD35GGhxufmQOqymNhy7OZAYygn2kvp5kDTMHxEvezmQFOu8C6i4uZAjliLTwTd5kDfbHNjCd7mQO5Cc5134OZAg8DKobPo5kBqh78mJOXmQFmLTwEZ3+ZArWnecSfl5kCE2JlCCNXmQD9XW7Hy3eZAhXe5iObp5kBLWYY4auLmQEtZhjhq4uZAS1mGOGri5kDEJcedLObmQC5W1GCzy+ZAwW7YtqrY5kCk/KTaOtLmQO0qpPyd3OZAJLTlXE7g5kBSmzi5tubmQHi0ccS34+ZAImx4egjc5kCl2qfjwtXmQOKvyRpz0+ZAnfS+8WXX5kCq1OyBydTmQBSzXgzq3OZA/YLdsNrg5kDecYqOG+XmQPvL7smP5OZA6/8c5qLf5kA/OnXludXmQD90QX300+ZAKJtyhYbY5kDkFB3JrtvmQPnaM0u72OZAu+1Cc1Db5kBE+u3rn9jmQET67euf2OZAWrvtQs3V5kCDbi9p4tLmQMjqVs+I4eZA/89hvqsL50BLH7qg9fzmQLq9pDHL/+ZAxawXQ4v/5kB88rBQH+7mQE3WqIfd2eZAZqAy/qDN5kBmoDL+oM3mQDf92Y+hsuZADTfg89y15kBQx2MGzLDmQBnnb0LhveZAe6AVGDLC5kAxlBPt28fmQOlg/Z+mv+ZAO8eA7HTG5kCHFtnOmsnmQAaBlUMDz+ZAkGYsmrjU5kBeukkMz9DmQIAO8+XF2uZAJV0z+dLb5kB07+GS9uTmQK0XQznv7eZAUPwYcxjs5kDhRV9Bn+7mQFJEhlUs7OZARZ4kXWv25kD2RUJbgPbmQIRHG0dJ8OZAKjqSy/zq5kCC597DTgDnQDy9UpbZ/uZAYtuizHv65kCFCDiEWPzmQCUjZ2FZ++ZA5IOezVLx5kBEwCFUKO7mQALxun5Y7OZAgIKLFR/m5kAj2/l+9uTmQAH20amk7uZAjswjf2/u5kBBSBYwzv7mQED2evfKB+dA9dvXgY4E50B6whIPUwbnQJBJRs5lBudAtJPBUXwL50Bv2LYo9gTnQFQdcjPJ/OZApMLYQh7/5kCkqgminv/mQHkB9tFKBudABkfJqzwH50B5Xb9gxBHnQL+36c/tBedAvtnmxhsC50Ce0sH6WvbmQCpXeJfL+eZASiTRy4n45kC8P96rEPnmQFc+y/PYBOdAhc5r7PYL50ARqtTs1wrnQJuPa0MmDedA/Knx0v4M50Dpmsk35AznQJ1LcVV/EOdA5IOezekV50AW9rTD/RrnQNgN2xZ3E+dA0gDeAlQS50DRkVz+ygTnQGjLuRTCB+dAjSjtDVkE50A5l+KqhwvnQJmByviiDOdAG/UQjZgL50D7OnDOiBHnQB7+mqymF+dAGD4ipq4U50AhzVg0FxvnQNtQMc5YGudAWUxsPjUX50CAfXTqzhLnQIWxhSDYGudAuvdwyaQP50AYeO49eRHnQB2PGahuDedAV1uxv3AL50DYgXNGwArnQChhpu2ICOdA626e6mEN50ARGVbx7xPnQOrPfqT7E+dAIchBCRsG50BeonpravXmQBiyutU+9OZA1pC4x6rl5kBd/kP6P9PmQM8sCVBY0+ZAi6azkw7A5kAEVg4tsMjmQFZl3xWd0OZARIZVvL/S5kBma32R/dfmQEuTUtCB2OZApvJ2hErb5kATm49rMdPmQBiV1AlB0eZAc2N6wgnR5kB6qkNupc7mQEs8oGzm2uZArJDyk4Xc5kBdxHdiUuHmQPRPcLHa3uZAjliLT5PX5kAexM4Uf9LmQD4/jBAB0eZAuVM6WGPL5kDI7236PMXmQLqgvmXHw+ZANsgkI+HM5kCDaRg+CtDmQFIP0ehe0+ZAA+yjU7PF5kAGKuPfRLPmQNI6qpq5r+ZAmIbhIyGy5kCeJF0z97HmQBgJbTmqt+ZAZw+0AnK55kAGgZVDlrvmQEVHcvl0suZAbxKDwC2y5kDGv8+4YrDmQHKKjuTFm+ZAlBPtKiKT5kAx68VQ753mQLZnlgQSoeZA0ZFc/sGg5kCvzjEgIpjmQF3Ed2I1keZAB3x+GKyM5kDCTNu/u1fmQKPp7GRKV+ZAOiNKe91c5kBm9+RhE07mQFUwKql1XuZAR8mrc0No5kB9XBsqh1/mQMP1KFwLXuZAf8Fu2BRV5kC2SrA4MmPmQPLvMy7ra+ZAirDh6clc5kCZDTLJbGTmQEok0cuBXeZAvFzEd9Bj5kC8XMR30GPmQLA4nPlaa+ZAuVM6WGhs5kC5UzpYaGzmQI/C9Sj9aeZAA1slWLJp5kC3nEtxxGzmQCNKe4PpcOZAgPEMGsZ25kAJG55eqYfmQBgJbTlsheZAswdagft75kBPQBNhRHfmQA1xrItQeeZAxqLp7CSH5kDHndLBBIXmQBZNZycteOZACFVq9rV35kC4O2u3L3nmQHWr56S9ceZAuDtrt6F85kDAIVSpzG3mQD5cctySaOZAx2MGKhR15kDwiuB/jWzmQNHLKJbRWuZAi2zn+w9c5kCLbOf7D1zmQPJ7m/4XZ+ZAUu3T8XVn5kAhByXM94HmQIUIOIRFe+ZAtYmT+3mC5kDoTUUqcHvmQCAkC5gZcOZAcF8Hzktw5kDKGvUQyGrmQD4/jBCafOZAHSCYo+iB5kAdIJij6IHmQB0gmKPogeZARBfUt0hp5kBpHVVNG2nmQL7Z5sbSYuZA6njMQCNi5kBdp5GWplrmQHXIzXCCYuZAgq0SLMdm5kApeXWO5mTmQDNt/8ona+ZAklz+Q5Fx5kBl5CzsunLmQMQlx51MbuZA3ZiesBZq5kDLSpNS3G3mQINpGD4KYeZAroGtEsVT5kDKGvUQw1bmQPvL7skSb+ZADoRkAe915kABwRw9yHbmQFDHYwberOZAI0p7g+ai5kD1vvG1e57mQH+8V62FoOZA/wkuVn6j5kAqqRPQsZvmQPsFu2GEmeZA5lyKq+eQ5kB/wW7Yv4vmQH/Bbti/i+ZAf8Fu2L+L5kCOWItPMHDmQJvJN9vzc+ZAnZ0MjjF35kCBlUOL/nrmQKVJKej+euZAgc8PI2d35kCBzw8jZ3fmQPuWOV1sd+ZAnx9GCFN75kAVdHtJeX3mQLbWFwk6iuZA+dozS/mM5kBZaVIKR5zmQEBqEyfll+ZAZk6Xxc2K5kCSs7Cn7IHmQMPTK2WSgeZAj/zBwMaL5kBseHqlxILmQD7QCgwmgOZAKH6Muc915kAgDDz3cHXmQLbbLjTqc+ZALNSa5oZq5kBortNIB2PmQOm3rwNvW+ZA1EhL5QtX5kBhbCHIrFbmQHu9++PFU+ZAEd+JWUds5kCif4KL6XTmQNXPm4qzc+ZAxXJLq/5w5kDk2lAxBH/mQDHT9q9AeuZAfZbnwf915kBPkq6ZLH3mQHldv2DCgOZAZ5sb09B/5kDs+gW7tXnmQOz6Bbu1eeZA7PoFu7V55kBsJt9s9m7mQGwm32z2buZAbCbfbPZu5kDJPPIHCo/mQMk88gcKj+ZARIts55+c5kDXL9gNHJ/mQLsnDwuqleZAt7QaEvuO5kC0dtuFoozmQLR224WijOZAuECC4tOP5kCGcqJdK5jmQIZyol0rmOZAYcPTKwee5kC5NlSMb6DmQLk2VIxvoOZAuTZUjG+g5kAWE5uPMqHmQDkoYaYuneZAYr68AJWj5kDQJ/IkcKnmQN4CCYqoq+ZA3gIJiqir5kDzqzlAf83mQJKumXwaweZAkq6ZfBrB5kAC8bp+OcHmQD4/jBC0zOZAGa2jquXP5kAwZHWrq9fmQHh/vFfb1uZAeH+8V9vW5kAbL90kWuPmQHicoiML2eZAeJyiIwvZ5kBTeTvC6tDmQONw5leV1eZALPGAstvR5kAs8YCy29HmQCzxgLLb0eZALPGAstvR5kAs8YCy29HmQN52obkI/+ZAiEuOOy/15kDtmSUB+fnmQH+8V60f++ZAjErqBEcD50B/arx08AbnQDxmoDIHB+dAPGagMgcH50A8ZqAyBwfnQDxmoDIHB+dA5ssLsNoM50Bma32RjAnnQOIeSx8kCudAigJ9IjYO50A2yCQjHvvmQCCYo8c//+ZAC9KMRVkA50BuF5rrHgPnQL8rgv9O++ZAYOXQIpfy5kDKT6p9VfbmQG2tLxJU8uZAzLT9KxT75kAgKSLDfvXmQCvZsRG9BOdAMUJ4tOzt5kCsVib8IUfnQK7YX3ZKROdAlPYGXzgv50DkZrgB4EnnQHam0Hm0S+dAkGtDxZ5K50D8NVmj0EvnQDI9YYlKS+dAsD2zJD1A50BwlLw6oEDnQHTqymd7N+dAnWhXIeo450D2I0VkGjvnQO/mqQ4JOedAbZBJRu0950C9HeG0mUnnQHva4a/EQ+dAGeJYFwQ950Cs/3OYpD7nQKmHaHTVPedAMGR1q85G50CVYHE4tk/nQJD3qpXaTudAH6LRHdFK50BCW86lgknnQBL3WPrVQudAiuWWVoBD50Dwoq8gUUXnQOuQm+HoQedAybCKN9FJ50DAeAYNxWfnQK00KQXUYOdAxT2WPsxt50B06spn4l7nQEUqjC0hWOdAKld4l5xK50DTMHxE+UXnQFLVBFG/T+dAxqLp7GBL50CpwTQM4kfnQHPXEvJLPedANrBVgug750A7cM6IdzvnQNB+pIiXLOdA38Mlx+8o50DX+iKhETDnQLgeheuWM+dAoRABh98o50CpE9BEZjTnQAdCsoDVMudAA5Xx750s50ALtaZ5CyvnQLxXrUxDNedAXW3F/hI050Co4zEDNzDnQCHIQQmlNOdAbZBJRkEu50B6pSxDSC3nQOcdp+jqMudAw9MrZc4050CVZYhj6y/nQHmvWpnQL+dAz/dT4xg050CYhuEjAjHnQGMLQQ4cLudAsi5uo8sy50C2uTE9myznQLHEA8rTM+dAxoUDIeY950DdByC1YD/nQFzmdFkaMedAyy2thjkv50AK9Ik8MRLnQBsv3ST+FedAeHqlLIIU50AZVvFGNBznQFeVfVcgHedATmIQWA0h50DyDBr6aCnnQO7O2m26KedAVIzzN7Ad50AipkQSmifnQBQF+kQQIOdAmBdgH5Uh50AkKH6MLCLnQJ1jQPZ3H+dASgwCK/In50Ck374OCCjnQCaN0To0KudAaOif4Ngo50B8LH3oYCPnQESLbOfxH+dAisiwioUd50AR/G8l8SPnQGnjiLXZDudAngyOkiYK50CR1a2eLwTnQANbJVjO/+ZAKpFEL8cL50BenWNAPxXnQBh9BWm+C+dAa7ddaAAO50BpjNZR2Q7nQGvUQzQADudAjzaOWGkJ50DBVgkW3AbnQLQ8D+52DOdAj8cMVG8O50AjEK/r5A3nQChhpu1rAOdA0NVW7N7+5kBrfZHQbAznQHZxGw2BBudALLe0GnwA50DyJOmaPP7mQOVEuwoeCedA5bM8D+oL50AwgVt3TTTnQO8gdqYkIudAirDh6RYi50AjvhOzmSLnQKt4I/OGIudAFakwtpQY50CPGaiMkx/nQIe/JmuAIedAHhuBeDAg50DsNNJSGCTnQPt0PGZ6KOdAmWTkLF0j50DPTgZHriTnQHrf+NrwJudA6IcRwl4350DtgVZg1TrnQO2BVmDVOudAIZOMnEM450BuizIbnDPnQIOG/gkeNedAnDOitCAy50Didf2CNDHnQIz4TswCMudAskY9RPcw50A10lJ5tTTnQHrf+NqRI+dAsacd/iIi50DQ1VbsgzTnQBDpt69BG+dAGQRWDhMp50C0HykihCHnQA034POHJ+dAwXPv4c4h50Bi+IiYJBnnQKBP5ElPGedAEw8om8Ib50AQ6bev9RfnQPd14Jx4HudAeLmI7/IV50CCixU1EhbnQKbydoSADudALbKd75EE50CFX+rntAbnQEUSvYwQAedA8Uv9vPzT5kDGxObjjcjmQL3jFB2Zv+ZAyM1wA76u5kBG09nJdrLmQHP0+L3LwuZAPKBsyguo5kB87ZklzaXmQOVEuwrjr+ZAkGtDxWan5kDpYP2fRKjmQAoRcAhroOZAf95UpKee5kAsvMtFOZTmQKVOQBP0oOZA+RQA40WY5kDqz36ktYbmQHtJY7Qyl+ZA2A3bFjiL5kAMPPce+YTmQN+JWS+sieZAls/yPOGL5kA2donqPYXmQPFjzF27j+ZARPrt64GS5kAMHxFTLpvmQPW52oonnOZAuVM6WIuh5kCsxacAtZ7mQMlxp3StpuZAeEXwv6Sz5kBGX0Gas6zmQJVliGNNq+ZA8wLso3ef5kAHzhlRqZ3mQNI1k2/WouZAdCSX/7We5kBx5ldzU6bmQHE9CtdWquZAGRwlrwms5kAMk6mCP6rmQIqO5PLRouZA8YCyKfqr5kC/t+nPlqHmQKd0sP6WpeZAvvbMkgKj5kBL6gQ0wpLmQL8rgv86pOZAuXAgJN6e5kB1zeSbiarmQBNJ9DIMt+ZAqOMxA9ux5kAp0CfyUrjmQLjM6bLNqOZA8G36szKn5kCdS3FVIbTmQPCiryBJxOZA0lJ5OwbF5kDSUnk7Tb3mQD4/jBBNvOZAajANw0+x5kAWNZiG66nmQNi7P95Dr+ZAP+PCgc+05kBZhjjWnrTmQAwCK4fZpOZA76zddrys5kD9MEJ4ZaDmQPOTap9VouZAnil0Xuql5kCXOV0WcpfmQIYb8PmonuZAHCWvzhSg5kDzWZ4HY6bmQDFCeLSrkOZAXFoNieyM5kDxgLIpwYTmQJfK2xE+ZOZAoaF/gu1e5kAlkuhldGnmQG2QSUb6WeZAclDCTIpQ5kBblNkgS1zmQHke3J1ra+ZAOzYC8adg5kB0DMhePGLmQAk4hCpQYuZA2v6VlcRy5kDBi76Czn3mQNejcD1ee+ZAWvW52kV05kC5iO/ExnnmQLX9KyskcOZA46qy74dx5kDy6hwDUXXmQEurIXETjOZAizIbZMOP5kBkr3d/b5HmQPvo1JUmhuZAeo1dosiE5kBQGf8+Cn/mQEq1T8c4heZA7s7abemR5kA1tWytvJLmQKWD9X+rnOZAl8XE5lWW5kDpYP2fOY7mQEGasWh1iOZA5BQdyfmK5kA3T3XIx4zmQHEgJAsihOZAh22LMjqS5kDHLlG9o4XmQHBfB84ih+ZAcjPcgDJ85kB7a2Cr8n/mQNrJ4CjQa+ZAOUVHchhf5kAh5SfVzGjmQKw5QDAfeeZAdonqrWaB5kDVeOkmKYzmQPNUh9wNc+ZAj6omiEhl5kAVV5V9j3bmQD7L8+Cec+ZAOdGuQrtj5kCGAyFZqlzmQPLqHAMqUuZAqz5XW91G5kCc4QZ8ii/mQGjon+BVROZAFoczv9s65kAH6/8cljrmQMwollv/TOZAza/mAJNX5kDBOSNKr1jmQK71RUIAaOZAKnReY2Nz5kDjcOZXLnfmQM7fhELNcuZAIk+SruKA5kAMB0KyYpzmQKJFtvPqj+ZAAG+BBD+K5kA26iEa247mQL3GLlGOouZAc9cS8n+T5kAsDmd+ZpPmQIZa07z5nOZAWi+GcmWW5kB3SgfrfpnmQIXOa+yQk+ZAoYSZtvCQ5kCfq63YI5DmQOFFX0EYmeZAtoR80Bai5kCWQ4ts+qzmQDylg/WMpOZA4nX9gouv5kCatn9lJq7mQALZ690Lp+ZAeZJ0zYGm5kCVZYhjDqjmQKn7AKTrsOZAKdAn8jOw5kBivrwAprTmQEZ8J2bxuuZAPIidKXC85kAnoImwRLHmQIXOa+z7q+ZAvRjKiaip5kBvKlJhd63mQBKlvcGnreZAqTC2EK205kDDZKpgh73mQNuizAaqtuZA1ouhnMuo5kBaZDvfc6LmQHi5iO91o+ZA8zy4O1qp5kAjhEcbg6jmQGzPLAmHq+ZA5pZWQy205kD83qY/96fmQNV46SYgn+ZA3SQGgUSe5kBuwOeHSJnmQCuk/KT4i+ZAvOgrSIKh5kBBmrFoR7HmQOwvuyctnOZAy/j3GSab5kCMEB5trpzmQJm7lpDlkeZAiPTb18iP5kDPa+wS14HmQHjRV5A6hOZAObTIdo1n5kABTYQNzGrmQFmjHqK3duZAcJS8Oi915kDYR6euP3nmQG+70FyXeOZAfxMKET115kDMRXwnE2bmQHzVyoRvZ+ZAfjoeMy1o5kCYUSy3IV7mQLNeDOXQUuZAyxDHuvBV5kBaEqCmVmDmQH46HjOrc+ZAsylXeB1h5kAMdsO2Z1LmQDpY/+f5UOZAmBdgHyJR5kD60AX1rmjmQHh/vFfObuZA1SZO7lto5kCpnzcV3GrmQB6n6Ehcd+ZA7UeKyG5/5kA2qz5XGHbmQCApIsPqgeZAyJi7lniK5kDhl/p5FJzmQApoImzPl+ZAS6shce6V5kD2XRH855rmQCAMPPcSmuZASDMWTY6Q5kC4I5wWE5DmQC8X8Z0KpuZAZk6XxV+Y5kBw626en5/mQAQ5KGHXoOZAVz7L846w5kCyne+nzrrmQPOTap8u0eZAqcE0DBTK5kAD7KNTPNPmQCSX/5CazeZAi1QYWxzb5kAeG4F4at3mQDl/EwpB5eZAYB+dugze5kDEQq1p0NzmQEVHcvkb1uZAD5wzomva5kDThy6oWdzmQOi8xi5+4+ZAhxbZzv3h5kCHp1fKM+LmQFDCTNsC6eZA1ouhnGHn5kC3f2WlisjmQIQSZtqd3uZA10y+2eTe5kD/lZUmRdPmQAMmcOs6zOZAAyZw6zrM5kDN6bKYj9zmQL4Ts15n3OZABW7dzcjn5kCkqgmiaOrmQKg1zTvWAOdAajANw8vr5kAEyqZchermQJzEILAY1uZAVpqUgo7z5kCpnzcVIfHmQEVHcvl27uZAbw1slers5kBxAz4/YfbmQLn8h/Sp8+ZAHaz/c8zp5kAvF/GdsNPmQJz51Rzq3OZAknTN5A3T5kAuOe6UFdPmQCbfbHP61eZAIEHxY7TT5kBtHLEWCtnmQFt8CoByuuZATdaoh+mw5kCwOJz5MqzmQDDw3HtwuOZAfCx96ISq5kCyhSAHZ6/mQGqHvybBuOZA+KqVCdG45kAGTODWP67mQJqZmZk8puZALgQ5KJuu5kB5Bg39+qLmQPhrskacj+ZAJ6CJsDaM5kAP0egOaYvmQITYmUK7ceZATrnCu8p15kDuJY3RkHfmQAiUTbn7ceZAQ1a3ei+B5kDwxKwXA3nmQEPFOH9Bc+ZAB9MwfNRy5kCYUSy3O2nmQBWMSuphXuZACwxZ3Sxj5kBjuaXVJF/mQH2zzY3pZOZAuVM6WDZi5kDyJOmaZWDmQKX3ja9wUuZAEywOZ1xd5kCEDU+vHFvmQERpb/BMVeZA7iWN0dc/5kDghEIEr2vmQLddaK7TZeZA0A8jhEpj5kCPGaiMCFvmQHtmSYB/YOZAFHmSdMFi5kC1N/jCVlvmQIOG/gk/W+ZAAKlNnPxe5kCeJF0zU17mQKqCUUkJUuZAkBSRYQJS5kB5HtydCVXmQH3Qs1l1TeZAMNgN22dI5kBzol2FxkrmQC7FVWUkWOZAEF1Q37lX5kAf14aKiGLmQNfAVglAZeZASP5g4Ghf5kCC/61kdGfmQPXWwFacZeZAs+pztQRn5kBSCrq9C3rmQDo7GRyXi+ZAxCXHnX545kCV8e8zx3zmQOOlm8QTc+ZAoP1IEXpt5kANq3gj1FXmQM8sCVDFXOZAvHmqQxxe5kBuhhvwOWrmQEeP39uIVOZAQKTfvqtM5kAKLlbUmEbmQO7O2m0nLOZAp5at9SA45kA+0AoMVkHmQE4LXvSVPeZAIlSp2W035kD/z2G+mjvmQKxzDMiDMuZAMzMzMygt5kCX4qqyYzXmQF1txf4mHeZAONvcmLAJ5kAzxLEuPA3mQBQ/xtwxCeZA+yKhLZnn5UBi26LMP+LlQNBhvrwA1+VAQ3OdRm/R5UDikuNOc+/lQAmnBS+N8OVAxlBOtLsE5kAo1T4dZ/zlQHqqQ24J9+VAYTdsW+v35UAFbt3NguLlQHgoCvQP7+VA4Sh5dRnl5UDiAWVTQtzlQMJR8ur15+VA7Sqk/Bvc5UALtaZ5Ne/lQIRkARPi8uVAZr0Yyiv15UDECOHR0uPlQJkqGJVd3+VAur2kMeHr5UAhByXMVNzlQEfJq3OyzuVAAd4CCYzY5UB4CyQoa8jlQE0VjEpyzeVAluzYCHno5UB5Htyddd/lQMUDyqbL6eVAdO/hktHb5UBSRIZVXuzlQNJSeTuv6+VAO+RmuM7n5UAknBa8gd/lQOc1dolm3+VA0zB8RNbW5UDKw0Kt5dDlQEMc6+Jw3OVAnG1uTLDw5UAp6PaSg+3lQKyowTQL0+VAtrkxPdrX5UDgoSjQksXlQI1/n3Hr0uVAIZOMnPTu5UBYVpqUN87lQJs90Aoi3uVAlrIMcbvl5UCOWItPZeHlQMjqVs823OVAVpqUgtDQ5UCqDrkZpcflQK4SLA4xx+VAJjYf14zN5UDJAiZwZeblQM3MzMxD5OVABDkoYR/Q5UBN1qiHOMjlQPMf0m/frOVAbM8sCRTB5UCBPpEnQsblQA2Jeyze0OVABrth28fl5UB/wW7YVOPlQM8xIHu78eVAcJnTZXro5UBLWYY4IuXlQCeloNuoAeZABcB4BhT45UAK16NwOfzlQIFDqFLWBuZAjWK5paYA5kDWxW00Cf3lQLGiBtNG9uVAQPZ691r25UB2GmmpzezlQJpC5zWM3eVA443MI+nf5UCjQJ/Is+zlQLRxxFop9OVAi/1l99Xy5UC2hHzQB+rlQEj5SbU94eVAj8L1KI3f5UA/NV66YdjlQI4ev7d/0uVA5SfVPt3W5UD6uDZUJujlQCdO7net6eVALWACt3Ty5UBt5/upo+/lQKm8HeHC/eVAEvdY+gQC5kAZVvFGdxjmQMh71crsCeZA1CtlGcgI5kCbj2tDsgTmQDHrxVAI/OVAKa4q+0X/5UBYxRuZ6P7lQCno9pKM9eVAhA1Pr6zs5UDuWkI+Q/zlQH46HjNqAeZAJZLoZXAK5kDTakjc6xDmQEaU9gZ1EuZAMUJ4tKsW5kCFzmvsqxjmQMDnhxEbH+ZAB9MwfLwk5kAEHEKVEB7mQNRIS+WjI+ZAD5ccdy4o5kCoxks31SnmQBNJ9DIMMeZAAU2EDU0q5kCfq63YaCLmQKzFpwCMI+ZAl1ZD4hg05kDghEIEZB3mQAYv+griKeZAvw6cMyYb5kCTHRuBzxvmQCntDb6+IOZAX0ax3NUo5kD99nXgHS/mQPfMkgB1LuZAXkvIB1kh5kAnZr0YSiTmQL3GLlHAG+ZAv0NRoJ8R5kDhC5Opww7mQMo329ywDOZA0egOYoAL5kB4eqUsRg7mQOohGt2pEuZAPIOG/v8A5kDs+gW7xvjlQHXN5Jsu+OVAPrMkQFP75UBybagYdAXmQH2utmJ8DOZASphp+0MX5kDcaABvOP3lQE0VjEp1+uVAqDXNOxnu5UBnfjUHmP/lQGgFhqzEBuZAX3tmSTsH5kBqatlanBHmQM8UOq/jFOZAPGagMlwj5kAyIHu99g/mQAX6RJ4gHuZAe05639Ap5kC+nxov+SvmQEku/yFFI+ZAAaQ2cRgl5kBkQPZ63yHmQHcQO1MoKOZAJH8w8B4q5kAMk6mC9yzmQNmxEYgjKOZAgjl6/BE25kA6BmSvADbmQOcdp+gXJeZAFXR7SYsd5kDnxvSEdRvmQP8+48LvFOZA9dvXgVAY5kAGKuPfex3mQFUTRN2MxeVAgLdAgsPJ5UB0QX3L19PlQBLCo41N0uVAwOeHEWjG5UCdaFchILzlQJiG4SOZyuVAk8ZoHWDG5UDy7zMuXcXlQJOMnIU3zeVAlgm/1A3U5UDZsRGIWszlQNWVz/KfzOVAAOMZNPzT5UArTUpB29DlQKfLYmJ33uVAl8XE5gDf5UBpb/CF+97lQHva4a9/6+VAINJvX4Th5UBvKlJhIuDlQOQxA5Uf4eVAizIbZKvg5UA486s5cOLlQOT3Nv2s6eVAfVwbKqb05UC4O2u3EPDlQEIhAg599OVAyeU/pCP35UA7GRwlhvnlQO27Ivim/eVA4umVsuEN5kD+ZffkBgHmQKCJsOHL+eVAJLn8hy/15UBj0XR2eevlQIOG/gkm4OVAAkht4kDa5UDa5sb01PTlQGKE8Gjp2+VAcRsN4MXF5UATYcPTxt/lQO1HisgB2+VAXCBB8ZPO5UCIgEOodMvlQK98luey4eVAuw9Aag3w5UAvo1huZPHlQDl/EwpT/OVAMlUwKvb25UBUqdkD3e3lQJhuEoMB9+VAJVgczr3/5UCNtFTe5ADmQAYN/RMfB+ZAUKp9OlQK5kAi/fZ18QzmQPs/h/nPDuZAn8iTpEkQ5kBJopdRoQHmQIW2nEve+eVAZCMQr1ne5UBHyatz+OXlQF3+Q/rr5eVAnUZaKlvY5UAx0/avN9HlQPYLdsN+0+VA3gIJipzW5UArweJwrM/lQMvbEU510OVAZk6XxTzQ5UDQ7SWNxcnlQEQ0uoOUxOVAibX4FD2x5UBRTrSr3KflQGEyVTCDqOVAUwWjkp2d5UD2XRH82pzlQF4R/G+SnuVAppvEIDeg5UAtsp3vo5DlQDHT9q/jmOVAgez17tea5UDEfHkB2Y3lQCY2H9cVjuVAsdzSavKV5UDzqzlAIIXlQHJtqBjKe+VAZ+22C4Kb5UAf14aKJaLlQFxaDYl/peVAVOOlm4Cd5UCgbMoVaprlQJet9UX/m+VADXGsi06V5UBvEoPAr47lQLO1vkiomeVAlufB3YCP5UCBW3fz7ZrlQHe+nxrPn+VAkZvhBu+k5UAo8iTpcrDlQPNZngelu+VAfLjkuGK15UCnXOFde6/lQGdhTzswt+VACFVq9tSz5UDri4S2xK/lQP5l9+RgrOVAy74rgmSn5UCu9UVCrKDlQFhzgGDEqOVAhPV/DpGn5UBwsaIGeKvlQOG04EXDs+VAq7Lvirey5UBmoDL+tKrlQPCFyVSYo+VA68VQTva25UBSflLt4q3lQCxIMxaPtuVAcQM+P6a55UD3r6w0NbvlQB6KAn0At+VAGD4ipiG35UDXL9gN8LPlQE5iEFhzp+VA3ZiesImi5UBORSqMNLLlQNKMRdNSn+VAkuhlFAak5UCr7Lsi8cXlQBWpMLZl6uVAKh2s/3Po5UDyzTY3pcXlQEZfQZoKteVAogvqW0++5UC8lpAP9djlQJEnSddb3eVAhUIEHJLU5UCob5nTBtrlQMLdWbvbz+VA1PGYgWLM5UDeVKTC+NXlQLYQ5KDj4OVAdsO2Rfjg5UAjFcYW0NzlQAcI5uhc1uVAwqONIxLN5UDVlc/ybtXlQMSxLm6W4uVArrt5qlba5UAQ6bevmd/lQDmX4qru4OVASddMvsrj5UD5D+m32eDlQOeMKO0u5OVAJsed0pDj5UCY+nlT69TlQAN4CySBxuVA5x2n6B/P5UDfN772cdXlQDKs4o2VyuVAO420VMG95UBpxqLpyLjlQBk5C3v4sOVA0qkrn5ut5UDZWl8kb7LlQAoRcAg6suVAAK5kx5uk5UBS8uoc2ablQN/98V6WreVA3/3xXpat5UBr8SkA0rDlQJqUgm4uquVAvOgrSKy25UBBKzBkhLDlQE8eFmoiq+VARMAhVKGd5UA50a5CpqjlQH0FacYTnuVAT1jiARyT5UAPuRluj5HlQGwE4nXunuVAqz5XWyag5UDfFcH/vLDlQCHNWDQxteVADVTGv/Gr5UDmdFlMTq3lQIW2nEuNuOVAcQM+PwO75UCmRBK9/LXlQMucLotNxuVA4V0u4jPB5UAMdsO2X8zlQNIA3gJs1OVAL/oK0mTJ5UB6pSxDHMnlQFZ9rrbExOVARz1Eo87N5UBt/8pKktHlQFFOtKvp2uVAxhaCHMXu5UAzUBn/cvPlQKCJsOFD9+VAcqd0sO8K5kBYVpqUPB/mQFoqb0d9FeZAYabtX3kr5kBfXoB9nifmQI/C9SifIeZAF7fRABoS5kBzhXe5pyjmQMjShy7aJOZAREyJJGkn5kDXo3A9gR7mQNieWRIhL+ZAEJIFTHJM5kDfT42XaEPmQA4V4/zPQ+ZAttsuND085kDZJaq3c0LmQHqlLEO7QeZAraOqCUdI5kCoABjPo07mQCS5/IcrSeZAl8rbEcNS5kD/5zBfUVXmQMH/VrJpX+ZAkj8YeGBo5kCeKXReSFbmQNCbilShUeZArhIsDmJS5kDrkJvhyFfmQJ5eKcvSV+ZAbf/KSoNY5kBFgT6RxlrmQKFKzR5fXuZASWjLuaRb5kD11sBWaU/mQEYIjzY6TOZARpT2Bl5M5kCVDtb/BDbmQKFns+oNNeZATGw+rq075kD04O6s1ETmQP/nMF9YSeZA3C401/ZR5kC9UpYhSFDmQAqi7gNWSOZASUvl7UJS5kB3vp8aHFrmQAisHFqKT+ZAt0WZDW9V5kAbKsb5rlfmQJvmHaf7VuZA7GmHv8Rl5kBrDhDMNHDmQFmjHqKUpOZAsBu2LWe/5kC/fR04na3mQNYcIJgUu+ZAGJXUCV+y5kBbzqW49LjmQKbydoQ/t+ZAb9Of/d7H5kBzLsVVXszmQH7ja896weZA30+Nl0u35kCyRj1Ea7zmQFK4HoUQxeZACf63kufH5kDusfShtsvmQF3cRgNYyuZAQMHFikW95kCph2h0I8nmQDHrxVBmzOZAfPKwUMbN5kCaX80Bob/mQMqJdhVSseZAkiIyrHW05kDNWDSdRq/mQPSmIhWmtOZA1ouhnIy75kDt0/GYlbnmQMTOFDpxv+ZAfT81XvKu5kAziuWWM7nmQA==\",\"dtype\":\"float64\",\"order\":\"little\",\"shape\":[1670]},\"quote_full_stop_USD_full_stop_last_updated\":{\"__ndarray__\":\"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\",\"dtype\":\"float64\",\"order\":\"little\",\"shape\":[1670]},\"quote_full_stop_USD_full_stop_price\":{\"__ndarray__\":\"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\",\"dtype\":\"float64\",\"order\":\"little\",\"shape\":[1670]}},\"selected\":{\"id\":\"1042\"},\"selection_policy\":{\"id\":\"1069\"}},\"id\":\"1041\",\"type\":\"ColumnDataSource\"},{\"attributes\":{},\"id\":\"1032\",\"type\":\"ResetTool\"}],\"root_ids\":[\"1002\",\"1172\",\"1239\"]},\"title\":\"Bokeh Application\",\"version\":\"2.3.3\"}};\n",
       "    var render_items = [{\"docid\":\"5e858cc0-b01c-4b29-acca-f50cf36285e7\",\"root_ids\":[\"1002\"],\"roots\":{\"1002\":\"929383f8-9212-435f-882d-5bb09e9adcf4\"}}];\n",
       "    root.Bokeh.embed.embed_items_notebook(docs_json, render_items);\n",
       "  }\n",
       "  if (root.Bokeh !== undefined && root.Bokeh.Panel !== undefined) {\n",
       "    embed_document(root);\n",
       "  } else {\n",
       "    var attempts = 0;\n",
       "    var timer = setInterval(function(root) {\n",
       "      if (root.Bokeh !== undefined && root.Bokeh.Panel !== undefined) {\n",
       "        clearInterval(timer);\n",
       "        embed_document(root);\n",
       "      } else if (document.readyState == \"complete\") {\n",
       "        attempts++;\n",
       "        if (attempts > 200) {\n",
       "          clearInterval(timer);\n",
       "          console.log(\"Bokeh: ERROR: Unable to run BokehJS code because BokehJS library is missing\");\n",
       "        }\n",
       "      }\n",
       "    }, 25, root)\n",
       "  }\n",
       "})(window);</script>"
      ],
      "text/plain": [
       "Column\n",
       "    [0] Row\n",
       "        [0] HSpacer()\n",
       "        [1] WidgetBox\n",
       "            [0] Select(margin=(20, 20, 20, 20), name='symbol', options=['BTC', 'LTC', ...], value='BTC', width=250)\n",
       "        [2] HSpacer()\n",
       "    [1] HoloViews(DynamicMap, widget_location='top')"
      ]
     },
     "execution_count": 4,
     "metadata": {
      "application/vnd.holoviews_exec.v0+json": {
       "id": "1002"
      }
     },
     "output_type": "execute_result"
    }
   ],
   "source": [
    "df.hvplot.line(\n",
    "    x='quote.USD.last_updated',\n",
    "    y='quote.USD.price',\n",
    "    xlabel='Date',\n",
    "    ylabel='Price',\n",
    "    figsize=(700,750),\n",
    "    groupby='symbol',\n",
    "    title='Crypto Analyzer - Price Fluctuation',\n",
    "    rot=45,\n",
    "    widget_location=\"top\",\n",
    "    height=500,\n",
    "    fontsize={'title':'20pt','xlabel':'15pt', 'ylabel':'15pt'}\n",
    ")"
   ]
  },
  {
   "cell_type": "code",
   "execution_count": 5,
   "id": "5b9cf677",
   "metadata": {},
   "outputs": [
    {
     "data": {},
     "metadata": {},
     "output_type": "display_data"
    },
    {
     "data": {},
     "metadata": {},
     "output_type": "display_data"
    },
    {
     "data": {
      "application/vnd.holoviews_exec.v0+json": "",
      "text/html": [
       "<div id='1306'>\n",
       "\n",
       "\n",
       "\n",
       "\n",
       "\n",
       "  <div class=\"bk-root\" id=\"fc66c46c-9235-4c48-9ac7-39a9f4ca3ff7\" data-root-id=\"1306\"></div>\n",
       "</div>\n",
       "<script type=\"application/javascript\">(function(root) {\n",
       "  function embed_document(root) {\n",
       "    var docs_json = {\"45450b8e-346a-4529-b694-d51eed0590d0\":{\"defs\":[{\"extends\":null,\"module\":null,\"name\":\"ReactiveHTML1\",\"overrides\":[],\"properties\":[]},{\"extends\":null,\"module\":null,\"name\":\"FlexBox1\",\"overrides\":[],\"properties\":[{\"default\":\"flex-start\",\"kind\":null,\"name\":\"align_content\"},{\"default\":\"flex-start\",\"kind\":null,\"name\":\"align_items\"},{\"default\":\"row\",\"kind\":null,\"name\":\"flex_direction\"},{\"default\":\"wrap\",\"kind\":null,\"name\":\"flex_wrap\"},{\"default\":\"flex-start\",\"kind\":null,\"name\":\"justify_content\"}]},{\"extends\":null,\"module\":null,\"name\":\"TemplateActions1\",\"overrides\":[],\"properties\":[{\"default\":0,\"kind\":null,\"name\":\"open_modal\"},{\"default\":0,\"kind\":null,\"name\":\"close_modal\"}]},{\"extends\":null,\"module\":null,\"name\":\"MaterialTemplateActions1\",\"overrides\":[],\"properties\":[{\"default\":0,\"kind\":null,\"name\":\"open_modal\"},{\"default\":0,\"kind\":null,\"name\":\"close_modal\"}]}],\"roots\":{\"references\":[{\"attributes\":{},\"id\":\"1358\",\"type\":\"BasicTickFormatter\"},{\"attributes\":{\"callback\":null,\"formatters\":{\"@{quote.USD.last_updated}\":\"datetime\",\"@{quote_full_stop_USD_full_stop_last_updated}\":\"datetime\"},\"renderers\":[{\"id\":\"1351\"}],\"tags\":[\"hv_created\"],\"tooltips\":[[\"quote.USD.last_updated\",\"@{quote_full_stop_USD_full_stop_last_updated}\"],[\"quote.USD.percent_change_7d\",\"@{quote_full_stop_USD_full_stop_percent_change_7d}\"]]},\"id\":\"1314\",\"type\":\"HoverTool\"},{\"attributes\":{\"text\":\"Crypto Analyzer - Percent Change in 7 Days\",\"text_color\":\"black\",\"text_font_size\":\"20pt\"},\"id\":\"1316\",\"type\":\"Title\"},{\"attributes\":{},\"id\":\"1357\",\"type\":\"AllLabels\"},{\"attributes\":{},\"id\":\"1346\",\"type\":\"Selection\"},{\"attributes\":{\"client_comm_id\":\"7ab9e660b1714c6f80b21f7e9cab5f05\",\"comm_id\":\"869531bd5ff74500b7bdd1b1718b4d80\",\"plot_id\":\"1306\"},\"id\":\"1476\",\"type\":\"panel.models.comm_manager.CommManager\"},{\"attributes\":{\"active_multi\":null,\"tools\":[{\"id\":\"1314\"},{\"id\":\"1332\"},{\"id\":\"1333\"},{\"id\":\"1334\"},{\"id\":\"1335\"},{\"id\":\"1336\"}]},\"id\":\"1338\",\"type\":\"Toolbar\"},{\"attributes\":{\"children\":[{\"id\":\"1307\"},{\"id\":\"1315\"}],\"margin\":[0,0,0,0],\"name\":\"Column01869\"},\"id\":\"1306\",\"type\":\"Column\"},{\"attributes\":{\"axis\":{\"id\":\"1324\"},\"grid_line_color\":null,\"ticker\":null},\"id\":\"1327\",\"type\":\"Grid\"},{\"attributes\":{\"margin\":[5,5,5,5],\"name\":\"HSpacer01866\",\"sizing_mode\":\"stretch_width\"},\"id\":\"1308\",\"type\":\"Spacer\"},{\"attributes\":{\"bottom_units\":\"screen\",\"fill_alpha\":0.5,\"fill_color\":\"lightgrey\",\"left_units\":\"screen\",\"level\":\"overlay\",\"line_alpha\":1.0,\"line_color\":\"black\",\"line_dash\":[4,4],\"line_width\":2,\"right_units\":\"screen\",\"syncable\":false,\"top_units\":\"screen\"},\"id\":\"1337\",\"type\":\"BoxAnnotation\"},{\"attributes\":{\"num_minor_ticks\":5,\"tickers\":[{\"id\":\"1376\"},{\"id\":\"1377\"},{\"id\":\"1378\"},{\"id\":\"1379\"},{\"id\":\"1380\"},{\"id\":\"1381\"},{\"id\":\"1382\"},{\"id\":\"1383\"},{\"id\":\"1384\"},{\"id\":\"1385\"},{\"id\":\"1386\"},{\"id\":\"1387\"}]},\"id\":\"1325\",\"type\":\"DatetimeTicker\"},{\"attributes\":{},\"id\":\"1320\",\"type\":\"LinearScale\"},{\"attributes\":{},\"id\":\"1354\",\"type\":\"AllLabels\"},{\"attributes\":{\"below\":[{\"id\":\"1324\"}],\"center\":[{\"id\":\"1327\"},{\"id\":\"1331\"}],\"height\":500,\"left\":[{\"id\":\"1328\"}],\"margin\":[5,5,5,5],\"min_border_bottom\":10,\"min_border_left\":10,\"min_border_right\":10,\"min_border_top\":10,\"renderers\":[{\"id\":\"1351\"}],\"sizing_mode\":\"fixed\",\"title\":{\"id\":\"1316\"},\"toolbar\":{\"id\":\"1338\"},\"width\":700,\"x_range\":{\"id\":\"1312\"},\"x_scale\":{\"id\":\"1320\"},\"y_range\":{\"id\":\"1313\"},\"y_scale\":{\"id\":\"1322\"}},\"id\":\"1315\",\"subtype\":\"Figure\",\"type\":\"Plot\"},{\"attributes\":{\"axis_label\":\"Percent Change\",\"axis_label_text_font_size\":\"15pt\",\"formatter\":{\"id\":\"1358\"},\"major_label_policy\":{\"id\":\"1357\"},\"ticker\":{\"id\":\"1329\"}},\"id\":\"1328\",\"type\":\"LinearAxis\"},{\"attributes\":{},\"id\":\"1322\",\"type\":\"LinearScale\"},{\"attributes\":{\"data\":{\"quote.USD.last_updated\":{\"__ndarray__\":\"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\",\"dtype\":\"float64\",\"order\":\"little\",\"shape\":[1670]},\"quote.USD.percent_change_7d\":{\"__ndarray__\":\"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\",\"dtype\":\"float64\",\"order\":\"little\",\"shape\":[1670]},\"quote_full_stop_USD_full_stop_last_updated\":{\"__ndarray__\":\"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\",\"dtype\":\"float64\",\"order\":\"little\",\"shape\":[1670]},\"quote_full_stop_USD_full_stop_percent_change_7d\":{\"__ndarray__\":\"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\",\"dtype\":\"float64\",\"order\":\"little\",\"shape\":[1670]}},\"selected\":{\"id\":\"1346\"},\"selection_policy\":{\"id\":\"1373\"}},\"id\":\"1345\",\"type\":\"ColumnDataSource\"},{\"attributes\":{\"mantissas\":[1,2,5],\"max_interval\":500.0,\"num_minor_ticks\":0},\"id\":\"1376\",\"type\":\"AdaptiveTicker\"},{\"attributes\":{\"months\":[0,1,2,3,4,5,6,7,8,9,10,11]},\"id\":\"1383\",\"type\":\"MonthsTicker\"},{\"attributes\":{},\"id\":\"1333\",\"type\":\"PanTool\"},{\"attributes\":{\"axis_label\":\"Date\",\"axis_label_text_font_size\":\"15pt\",\"formatter\":{\"id\":\"1355\"},\"major_label_orientation\":0.7853981633974483,\"major_label_policy\":{\"id\":\"1354\"},\"ticker\":{\"id\":\"1325\"}},\"id\":\"1324\",\"type\":\"DatetimeAxis\"},{\"attributes\":{\"line_color\":\"#30a2da\",\"line_width\":2,\"x\":{\"field\":\"quote.USD.last_updated\"},\"y\":{\"field\":\"quote.USD.percent_change_7d\"}},\"id\":\"1348\",\"type\":\"Line\"},{\"attributes\":{},\"id\":\"1334\",\"type\":\"WheelZoomTool\"},{\"attributes\":{\"axis\":{\"id\":\"1328\"},\"dimension\":1,\"grid_line_color\":null,\"ticker\":null},\"id\":\"1331\",\"type\":\"Grid\"},{\"attributes\":{\"children\":[{\"id\":\"1310\"}],\"css_classes\":[\"panel-widget-box\"],\"margin\":[5,5,5,5],\"name\":\"WidgetBox01861\"},\"id\":\"1309\",\"type\":\"Column\"},{\"attributes\":{\"months\":[0,2,4,6,8,10]},\"id\":\"1384\",\"type\":\"MonthsTicker\"},{\"attributes\":{},\"id\":\"1329\",\"type\":\"BasicTicker\"},{\"attributes\":{\"data_source\":{\"id\":\"1345\"},\"glyph\":{\"id\":\"1348\"},\"hover_glyph\":null,\"muted_glyph\":{\"id\":\"1350\"},\"nonselection_glyph\":{\"id\":\"1349\"},\"selection_glyph\":{\"id\":\"1353\"},\"view\":{\"id\":\"1352\"}},\"id\":\"1351\",\"type\":\"GlyphRenderer\"},{\"attributes\":{\"children\":[{\"id\":\"1308\"},{\"id\":\"1309\"},{\"id\":\"1311\"}],\"margin\":[0,0,0,0],\"name\":\"Row01868\"},\"id\":\"1307\",\"type\":\"Row\"},{\"attributes\":{\"line_alpha\":0.1,\"line_color\":\"#30a2da\",\"line_width\":2,\"x\":{\"field\":\"quote.USD.last_updated\"},\"y\":{\"field\":\"quote.USD.percent_change_7d\"}},\"id\":\"1349\",\"type\":\"Line\"},{\"attributes\":{\"end\":1629406442000.0,\"reset_end\":1629406442000.0,\"reset_start\":1628860742000.0,\"start\":1628860742000.0,\"tags\":[[[\"quote.USD.last_updated\",\"quote.USD.last_updated\",null]]]},\"id\":\"1312\",\"type\":\"Range1d\"},{\"attributes\":{\"line_alpha\":0.2,\"line_color\":\"#30a2da\",\"line_width\":2,\"x\":{\"field\":\"quote.USD.last_updated\"},\"y\":{\"field\":\"quote.USD.percent_change_7d\"}},\"id\":\"1350\",\"type\":\"Line\"},{\"attributes\":{\"margin\":[20,20,20,20],\"min_width\":250,\"options\":[\"BTC\",\"LTC\",\"DOGE\",\"XMR\",\"ETH\",\"ADA\"],\"title\":\"symbol\",\"value\":\"BTC\",\"width\":250},\"id\":\"1310\",\"type\":\"Select\"},{\"attributes\":{},\"id\":\"1332\",\"type\":\"SaveTool\"},{\"attributes\":{},\"id\":\"1373\",\"type\":\"UnionRenderers\"},{\"attributes\":{\"margin\":[5,5,5,5],\"name\":\"HSpacer01867\",\"sizing_mode\":\"stretch_width\"},\"id\":\"1311\",\"type\":\"Spacer\"},{\"attributes\":{\"source\":{\"id\":\"1345\"}},\"id\":\"1352\",\"type\":\"CDSView\"},{\"attributes\":{\"base\":24,\"mantissas\":[1,2,4,6,8,12],\"max_interval\":43200000.0,\"min_interval\":3600000.0,\"num_minor_ticks\":0},\"id\":\"1378\",\"type\":\"AdaptiveTicker\"},{\"attributes\":{\"overlay\":{\"id\":\"1337\"}},\"id\":\"1335\",\"type\":\"BoxZoomTool\"},{\"attributes\":{},\"id\":\"1336\",\"type\":\"ResetTool\"},{\"attributes\":{},\"id\":\"1355\",\"type\":\"DatetimeTickFormatter\"},{\"attributes\":{\"end\":15.917808024,\"reset_end\":15.917808024,\"reset_start\":-6.166510104,\"start\":-6.166510104,\"tags\":[[[\"quote.USD.percent_change_7d\",\"quote.USD.percent_change_7d\",null]]]},\"id\":\"1313\",\"type\":\"Range1d\"},{\"attributes\":{\"days\":[1,2,3,4,5,6,7,8,9,10,11,12,13,14,15,16,17,18,19,20,21,22,23,24,25,26,27,28,29,30,31]},\"id\":\"1379\",\"type\":\"DaysTicker\"},{\"attributes\":{\"days\":[1,8,15,22]},\"id\":\"1381\",\"type\":\"DaysTicker\"},{\"attributes\":{\"months\":[0,4,8]},\"id\":\"1385\",\"type\":\"MonthsTicker\"},{\"attributes\":{\"days\":[1,15]},\"id\":\"1382\",\"type\":\"DaysTicker\"},{\"attributes\":{\"days\":[1,4,7,10,13,16,19,22,25,28]},\"id\":\"1380\",\"type\":\"DaysTicker\"},{\"attributes\":{\"months\":[0,6]},\"id\":\"1386\",\"type\":\"MonthsTicker\"},{\"attributes\":{},\"id\":\"1387\",\"type\":\"YearsTicker\"},{\"attributes\":{\"line_color\":\"#30a2da\",\"line_width\":2,\"x\":{\"field\":\"quote.USD.last_updated\"},\"y\":{\"field\":\"quote.USD.percent_change_7d\"}},\"id\":\"1353\",\"type\":\"Line\"},{\"attributes\":{\"base\":60,\"mantissas\":[1,2,5,10,15,20,30],\"max_interval\":1800000.0,\"min_interval\":1000.0,\"num_minor_ticks\":0},\"id\":\"1377\",\"type\":\"AdaptiveTicker\"}],\"root_ids\":[\"1306\",\"1476\"]},\"title\":\"Bokeh Application\",\"version\":\"2.3.3\"}};\n",
       "    var render_items = [{\"docid\":\"45450b8e-346a-4529-b694-d51eed0590d0\",\"root_ids\":[\"1306\"],\"roots\":{\"1306\":\"fc66c46c-9235-4c48-9ac7-39a9f4ca3ff7\"}}];\n",
       "    root.Bokeh.embed.embed_items_notebook(docs_json, render_items);\n",
       "  }\n",
       "  if (root.Bokeh !== undefined && root.Bokeh.Panel !== undefined) {\n",
       "    embed_document(root);\n",
       "  } else {\n",
       "    var attempts = 0;\n",
       "    var timer = setInterval(function(root) {\n",
       "      if (root.Bokeh !== undefined && root.Bokeh.Panel !== undefined) {\n",
       "        clearInterval(timer);\n",
       "        embed_document(root);\n",
       "      } else if (document.readyState == \"complete\") {\n",
       "        attempts++;\n",
       "        if (attempts > 200) {\n",
       "          clearInterval(timer);\n",
       "          console.log(\"Bokeh: ERROR: Unable to run BokehJS code because BokehJS library is missing\");\n",
       "        }\n",
       "      }\n",
       "    }, 25, root)\n",
       "  }\n",
       "})(window);</script>"
      ],
      "text/plain": [
       "Column\n",
       "    [0] Row\n",
       "        [0] HSpacer()\n",
       "        [1] WidgetBox\n",
       "            [0] Select(margin=(20, 20, 20, 20), name='symbol', options=['BTC', 'LTC', ...], value='BTC', width=250)\n",
       "        [2] HSpacer()\n",
       "    [1] HoloViews(DynamicMap, widget_location='top')"
      ]
     },
     "execution_count": 5,
     "metadata": {
      "application/vnd.holoviews_exec.v0+json": {
       "id": "1306"
      }
     },
     "output_type": "execute_result"
    }
   ],
   "source": [
    "df.hvplot.line(\n",
    "    y='quote.USD.percent_change_7d',\n",
    "    x='quote.USD.last_updated',\n",
    "    ylabel='Percent Change',\n",
    "    xlabel='Date',\n",
    "    figsize=(700,750),\n",
    "    groupby='symbol',\n",
    "    title='Crypto Analyzer - Percent Change in 7 Days',\n",
    "    rot=45,\n",
    "    widget_location=\"top\",\n",
    "    height=500,\n",
    "    fontsize={'title':'20pt','xlabel':'15pt', 'ylabel':'15pt'}\n",
    ")"
   ]
  },
  {
   "cell_type": "code",
   "execution_count": 6,
   "id": "eecb0d43",
   "metadata": {
    "scrolled": false
   },
   "outputs": [
    {
     "data": {},
     "metadata": {},
     "output_type": "display_data"
    },
    {
     "data": {},
     "metadata": {},
     "output_type": "display_data"
    },
    {
     "data": {
      "application/vnd.holoviews_exec.v0+json": "",
      "text/html": [
       "<div id='1587'>\n",
       "\n",
       "\n",
       "\n",
       "\n",
       "\n",
       "  <div class=\"bk-root\" id=\"58ae904e-42ff-47aa-b481-364958902fa5\" data-root-id=\"1587\"></div>\n",
       "</div>\n",
       "<script type=\"application/javascript\">(function(root) {\n",
       "  function embed_document(root) {\n",
       "    var docs_json = {\"3a9f8b92-1f6b-4683-bb74-90bbb3abc2c8\":{\"defs\":[{\"extends\":null,\"module\":null,\"name\":\"ReactiveHTML1\",\"overrides\":[],\"properties\":[]},{\"extends\":null,\"module\":null,\"name\":\"FlexBox1\",\"overrides\":[],\"properties\":[{\"default\":\"flex-start\",\"kind\":null,\"name\":\"align_content\"},{\"default\":\"flex-start\",\"kind\":null,\"name\":\"align_items\"},{\"default\":\"row\",\"kind\":null,\"name\":\"flex_direction\"},{\"default\":\"wrap\",\"kind\":null,\"name\":\"flex_wrap\"},{\"default\":\"flex-start\",\"kind\":null,\"name\":\"justify_content\"}]},{\"extends\":null,\"module\":null,\"name\":\"TemplateActions1\",\"overrides\":[],\"properties\":[{\"default\":0,\"kind\":null,\"name\":\"open_modal\"},{\"default\":0,\"kind\":null,\"name\":\"close_modal\"}]},{\"extends\":null,\"module\":null,\"name\":\"MaterialTemplateActions1\",\"overrides\":[],\"properties\":[{\"default\":0,\"kind\":null,\"name\":\"open_modal\"},{\"default\":0,\"kind\":null,\"name\":\"close_modal\"}]}],\"roots\":{\"references\":[{\"attributes\":{\"line_color\":\"#30a2da\",\"line_width\":2,\"x\":{\"field\":\"quote.USD.last_updated\"},\"y\":{\"field\":\"quote.USD.percent_change_24h\"}},\"id\":\"1634\",\"type\":\"Line\"},{\"attributes\":{\"children\":[{\"id\":\"1588\"},{\"id\":\"1596\"}],\"margin\":[0,0,0,0],\"name\":\"Column02139\"},\"id\":\"1587\",\"type\":\"Column\"},{\"attributes\":{},\"id\":\"1614\",\"type\":\"PanTool\"},{\"attributes\":{\"client_comm_id\":\"5cd97810788441c8af7cca07d8ea9555\",\"comm_id\":\"f821267e63274a6d8ac9a014cdeb53ca\",\"plot_id\":\"1587\"},\"id\":\"1757\",\"type\":\"panel.models.comm_manager.CommManager\"},{\"attributes\":{\"margin\":[20,20,20,20],\"min_width\":250,\"options\":[\"BTC\",\"LTC\",\"DOGE\",\"XMR\",\"ETH\",\"ADA\"],\"title\":\"symbol\",\"value\":\"BTC\",\"width\":250},\"id\":\"1591\",\"type\":\"Select\"},{\"attributes\":{\"active_multi\":null,\"tools\":[{\"id\":\"1595\"},{\"id\":\"1613\"},{\"id\":\"1614\"},{\"id\":\"1615\"},{\"id\":\"1616\"},{\"id\":\"1617\"}]},\"id\":\"1619\",\"type\":\"Toolbar\"},{\"attributes\":{},\"id\":\"1654\",\"type\":\"UnionRenderers\"},{\"attributes\":{},\"id\":\"1615\",\"type\":\"WheelZoomTool\"},{\"attributes\":{},\"id\":\"1613\",\"type\":\"SaveTool\"},{\"attributes\":{\"overlay\":{\"id\":\"1618\"}},\"id\":\"1616\",\"type\":\"BoxZoomTool\"},{\"attributes\":{},\"id\":\"1635\",\"type\":\"AllLabels\"},{\"attributes\":{\"children\":[{\"id\":\"1591\"}],\"css_classes\":[\"panel-widget-box\"],\"margin\":[5,5,5,5],\"name\":\"WidgetBox02131\"},\"id\":\"1590\",\"type\":\"Column\"},{\"attributes\":{},\"id\":\"1617\",\"type\":\"ResetTool\"},{\"attributes\":{\"axis\":{\"id\":\"1609\"},\"dimension\":1,\"grid_line_color\":null,\"ticker\":null},\"id\":\"1612\",\"type\":\"Grid\"},{\"attributes\":{\"data\":{\"quote.USD.last_updated\":{\"__ndarray__\":\"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\",\"dtype\":\"float64\",\"order\":\"little\",\"shape\":[1670]},\"quote.USD.percent_change_24h\":{\"__ndarray__\":\"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\",\"dtype\":\"float64\",\"order\":\"little\",\"shape\":[1670]},\"quote_full_stop_USD_full_stop_last_updated\":{\"__ndarray__\":\"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\",\"dtype\":\"float64\",\"order\":\"little\",\"shape\":[1670]},\"quote_full_stop_USD_full_stop_percent_change_24h\":{\"__ndarray__\":\"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\",\"dtype\":\"float64\",\"order\":\"little\",\"shape\":[1670]}},\"selected\":{\"id\":\"1627\"},\"selection_policy\":{\"id\":\"1654\"}},\"id\":\"1626\",\"type\":\"ColumnDataSource\"},{\"attributes\":{},\"id\":\"1638\",\"type\":\"AllLabels\"},{\"attributes\":{\"margin\":[5,5,5,5],\"name\":\"HSpacer02137\",\"sizing_mode\":\"stretch_width\"},\"id\":\"1592\",\"type\":\"Spacer\"},{\"attributes\":{\"line_color\":\"#30a2da\",\"line_width\":2,\"x\":{\"field\":\"quote.USD.last_updated\"},\"y\":{\"field\":\"quote.USD.percent_change_24h\"}},\"id\":\"1629\",\"type\":\"Line\"},{\"attributes\":{},\"id\":\"1603\",\"type\":\"LinearScale\"},{\"attributes\":{\"data_source\":{\"id\":\"1626\"},\"glyph\":{\"id\":\"1629\"},\"hover_glyph\":null,\"muted_glyph\":{\"id\":\"1631\"},\"nonselection_glyph\":{\"id\":\"1630\"},\"selection_glyph\":{\"id\":\"1634\"},\"view\":{\"id\":\"1633\"}},\"id\":\"1632\",\"type\":\"GlyphRenderer\"},{\"attributes\":{\"mantissas\":[1,2,5],\"max_interval\":500.0,\"num_minor_ticks\":0},\"id\":\"1657\",\"type\":\"AdaptiveTicker\"},{\"attributes\":{},\"id\":\"1639\",\"type\":\"BasicTickFormatter\"},{\"attributes\":{\"line_alpha\":0.2,\"line_color\":\"#30a2da\",\"line_width\":2,\"x\":{\"field\":\"quote.USD.last_updated\"},\"y\":{\"field\":\"quote.USD.percent_change_24h\"}},\"id\":\"1631\",\"type\":\"Line\"},{\"attributes\":{\"base\":60,\"mantissas\":[1,2,5,10,15,20,30],\"max_interval\":1800000.0,\"min_interval\":1000.0,\"num_minor_ticks\":0},\"id\":\"1658\",\"type\":\"AdaptiveTicker\"},{\"attributes\":{\"days\":[1,2,3,4,5,6,7,8,9,10,11,12,13,14,15,16,17,18,19,20,21,22,23,24,25,26,27,28,29,30,31]},\"id\":\"1660\",\"type\":\"DaysTicker\"},{\"attributes\":{\"source\":{\"id\":\"1626\"}},\"id\":\"1633\",\"type\":\"CDSView\"},{\"attributes\":{\"base\":24,\"mantissas\":[1,2,4,6,8,12],\"max_interval\":43200000.0,\"min_interval\":3600000.0,\"num_minor_ticks\":0},\"id\":\"1659\",\"type\":\"AdaptiveTicker\"},{\"attributes\":{},\"id\":\"1636\",\"type\":\"DatetimeTickFormatter\"},{\"attributes\":{\"months\":[0,1,2,3,4,5,6,7,8,9,10,11]},\"id\":\"1664\",\"type\":\"MonthsTicker\"},{\"attributes\":{\"months\":[0,2,4,6,8,10]},\"id\":\"1665\",\"type\":\"MonthsTicker\"},{\"attributes\":{\"bottom_units\":\"screen\",\"fill_alpha\":0.5,\"fill_color\":\"lightgrey\",\"left_units\":\"screen\",\"level\":\"overlay\",\"line_alpha\":1.0,\"line_color\":\"black\",\"line_dash\":[4,4],\"line_width\":2,\"right_units\":\"screen\",\"syncable\":false,\"top_units\":\"screen\"},\"id\":\"1618\",\"type\":\"BoxAnnotation\"},{\"attributes\":{\"callback\":null,\"formatters\":{\"@{quote.USD.last_updated}\":\"datetime\",\"@{quote_full_stop_USD_full_stop_last_updated}\":\"datetime\"},\"renderers\":[{\"id\":\"1632\"}],\"tags\":[\"hv_created\"],\"tooltips\":[[\"quote.USD.last_updated\",\"@{quote_full_stop_USD_full_stop_last_updated}\"],[\"quote.USD.percent_change_24h\",\"@{quote_full_stop_USD_full_stop_percent_change_24h}\"]]},\"id\":\"1595\",\"type\":\"HoverTool\"},{\"attributes\":{\"days\":[1,4,7,10,13,16,19,22,25,28]},\"id\":\"1661\",\"type\":\"DaysTicker\"},{\"attributes\":{\"days\":[1,15]},\"id\":\"1663\",\"type\":\"DaysTicker\"},{\"attributes\":{},\"id\":\"1627\",\"type\":\"Selection\"},{\"attributes\":{\"children\":[{\"id\":\"1589\"},{\"id\":\"1590\"},{\"id\":\"1592\"}],\"margin\":[0,0,0,0],\"name\":\"Row02138\"},\"id\":\"1588\",\"type\":\"Row\"},{\"attributes\":{\"end\":9.735970931999999,\"reset_end\":9.735970931999999,\"reset_start\":-5.876127132000001,\"start\":-5.876127132000001,\"tags\":[[[\"quote.USD.percent_change_24h\",\"quote.USD.percent_change_24h\",null]]]},\"id\":\"1594\",\"type\":\"Range1d\"},{\"attributes\":{\"months\":[0,6]},\"id\":\"1667\",\"type\":\"MonthsTicker\"},{\"attributes\":{\"end\":1629406442000.0,\"reset_end\":1629406442000.0,\"reset_start\":1628860742000.0,\"start\":1628860742000.0,\"tags\":[[[\"quote.USD.last_updated\",\"quote.USD.last_updated\",null]]]},\"id\":\"1593\",\"type\":\"Range1d\"},{\"attributes\":{\"days\":[1,8,15,22]},\"id\":\"1662\",\"type\":\"DaysTicker\"},{\"attributes\":{},\"id\":\"1668\",\"type\":\"YearsTicker\"},{\"attributes\":{\"months\":[0,4,8]},\"id\":\"1666\",\"type\":\"MonthsTicker\"},{\"attributes\":{\"axis_label\":\"Date\",\"axis_label_text_font_size\":\"15pt\",\"formatter\":{\"id\":\"1636\"},\"major_label_orientation\":0.7853981633974483,\"major_label_policy\":{\"id\":\"1635\"},\"ticker\":{\"id\":\"1606\"}},\"id\":\"1605\",\"type\":\"DatetimeAxis\"},{\"attributes\":{\"line_alpha\":0.1,\"line_color\":\"#30a2da\",\"line_width\":2,\"x\":{\"field\":\"quote.USD.last_updated\"},\"y\":{\"field\":\"quote.USD.percent_change_24h\"}},\"id\":\"1630\",\"type\":\"Line\"},{\"attributes\":{},\"id\":\"1601\",\"type\":\"LinearScale\"},{\"attributes\":{\"text\":\"Crypto Analyzer - Percent Change in 24 Hours\",\"text_color\":\"black\",\"text_font_size\":\"20pt\"},\"id\":\"1597\",\"type\":\"Title\"},{\"attributes\":{\"num_minor_ticks\":5,\"tickers\":[{\"id\":\"1657\"},{\"id\":\"1658\"},{\"id\":\"1659\"},{\"id\":\"1660\"},{\"id\":\"1661\"},{\"id\":\"1662\"},{\"id\":\"1663\"},{\"id\":\"1664\"},{\"id\":\"1665\"},{\"id\":\"1666\"},{\"id\":\"1667\"},{\"id\":\"1668\"}]},\"id\":\"1606\",\"type\":\"DatetimeTicker\"},{\"attributes\":{\"axis\":{\"id\":\"1605\"},\"grid_line_color\":null,\"ticker\":null},\"id\":\"1608\",\"type\":\"Grid\"},{\"attributes\":{\"margin\":[5,5,5,5],\"name\":\"HSpacer02136\",\"sizing_mode\":\"stretch_width\"},\"id\":\"1589\",\"type\":\"Spacer\"},{\"attributes\":{},\"id\":\"1610\",\"type\":\"BasicTicker\"},{\"attributes\":{\"below\":[{\"id\":\"1605\"}],\"center\":[{\"id\":\"1608\"},{\"id\":\"1612\"}],\"height\":500,\"left\":[{\"id\":\"1609\"}],\"margin\":[5,5,5,5],\"min_border_bottom\":10,\"min_border_left\":10,\"min_border_right\":10,\"min_border_top\":10,\"renderers\":[{\"id\":\"1632\"}],\"sizing_mode\":\"fixed\",\"title\":{\"id\":\"1597\"},\"toolbar\":{\"id\":\"1619\"},\"width\":700,\"x_range\":{\"id\":\"1593\"},\"x_scale\":{\"id\":\"1601\"},\"y_range\":{\"id\":\"1594\"},\"y_scale\":{\"id\":\"1603\"}},\"id\":\"1596\",\"subtype\":\"Figure\",\"type\":\"Plot\"},{\"attributes\":{\"axis_label\":\"Percent Change\",\"axis_label_text_font_size\":\"15pt\",\"formatter\":{\"id\":\"1639\"},\"major_label_policy\":{\"id\":\"1638\"},\"ticker\":{\"id\":\"1610\"}},\"id\":\"1609\",\"type\":\"LinearAxis\"}],\"root_ids\":[\"1587\",\"1757\"]},\"title\":\"Bokeh Application\",\"version\":\"2.3.3\"}};\n",
       "    var render_items = [{\"docid\":\"3a9f8b92-1f6b-4683-bb74-90bbb3abc2c8\",\"root_ids\":[\"1587\"],\"roots\":{\"1587\":\"58ae904e-42ff-47aa-b481-364958902fa5\"}}];\n",
       "    root.Bokeh.embed.embed_items_notebook(docs_json, render_items);\n",
       "  }\n",
       "  if (root.Bokeh !== undefined && root.Bokeh.Panel !== undefined) {\n",
       "    embed_document(root);\n",
       "  } else {\n",
       "    var attempts = 0;\n",
       "    var timer = setInterval(function(root) {\n",
       "      if (root.Bokeh !== undefined && root.Bokeh.Panel !== undefined) {\n",
       "        clearInterval(timer);\n",
       "        embed_document(root);\n",
       "      } else if (document.readyState == \"complete\") {\n",
       "        attempts++;\n",
       "        if (attempts > 200) {\n",
       "          clearInterval(timer);\n",
       "          console.log(\"Bokeh: ERROR: Unable to run BokehJS code because BokehJS library is missing\");\n",
       "        }\n",
       "      }\n",
       "    }, 25, root)\n",
       "  }\n",
       "})(window);</script>"
      ],
      "text/plain": [
       "Column\n",
       "    [0] Row\n",
       "        [0] HSpacer()\n",
       "        [1] WidgetBox\n",
       "            [0] Select(margin=(20, 20, 20, 20), name='symbol', options=['BTC', 'LTC', ...], value='BTC', width=250)\n",
       "        [2] HSpacer()\n",
       "    [1] HoloViews(DynamicMap, widget_location='top')"
      ]
     },
     "execution_count": 6,
     "metadata": {
      "application/vnd.holoviews_exec.v0+json": {
       "id": "1587"
      }
     },
     "output_type": "execute_result"
    }
   ],
   "source": [
    "df.hvplot.line(\n",
    "    y='quote.USD.percent_change_24h',\n",
    "    x='quote.USD.last_updated',\n",
    "    ylabel='Percent Change',\n",
    "    xlabel='Date',\n",
    "    figsize=(700,750),\n",
    "    groupby='symbol',\n",
    "    title='Crypto Analyzer - Percent Change in 24 Hours',\n",
    "    rot=45,\n",
    "    widget_location=\"top\",\n",
    "    height=500,\n",
    "    fontsize={'title':'20pt','xlabel':'15pt', 'ylabel':'15pt'}\n",
    ")"
   ]
  },
  {
   "cell_type": "code",
   "execution_count": 9,
   "id": "962b698e",
   "metadata": {},
   "outputs": [
    {
     "data": {
      "text/html": [
       "<div>\n",
       "<style scoped>\n",
       "    .dataframe tbody tr th:only-of-type {\n",
       "        vertical-align: middle;\n",
       "    }\n",
       "\n",
       "    .dataframe tbody tr th {\n",
       "        vertical-align: top;\n",
       "    }\n",
       "\n",
       "    .dataframe thead th {\n",
       "        text-align: right;\n",
       "    }\n",
       "</style>\n",
       "<table border=\"1\" class=\"dataframe\">\n",
       "  <thead>\n",
       "    <tr style=\"text-align: right;\">\n",
       "      <th></th>\n",
       "      <th>Unnamed: 0</th>\n",
       "      <th>news_url</th>\n",
       "      <th>title</th>\n",
       "      <th>text</th>\n",
       "      <th>source_name</th>\n",
       "      <th>date</th>\n",
       "      <th>topics</th>\n",
       "      <th>sentiment</th>\n",
       "      <th>tickers</th>\n",
       "      <th>rank_score</th>\n",
       "    </tr>\n",
       "  </thead>\n",
       "  <tbody>\n",
       "    <tr>\n",
       "      <th>0</th>\n",
       "      <td>0</td>\n",
       "      <td>https://www.coindesk.com/podcasts/coindesk-pod...</td>\n",
       "      <td>Why Bitcoin Matters in Nigeria and Iraq</td>\n",
       "      <td>A reading of two essays from crypto voices aro...</td>\n",
       "      <td>Coindesk</td>\n",
       "      <td>2021-08-15 13:45:13+00:00</td>\n",
       "      <td>[]</td>\n",
       "      <td>Neutral</td>\n",
       "      <td>['BTC']</td>\n",
       "      <td>6.28</td>\n",
       "    </tr>\n",
       "    <tr>\n",
       "      <th>1</th>\n",
       "      <td>1</td>\n",
       "      <td>https://cointelegraph.com/news/gosats-launches...</td>\n",
       "      <td>GoSats launches Bitcoin cashback rewards card ...</td>\n",
       "      <td>Users will be able to earn yield paid in BTC o...</td>\n",
       "      <td>Cointelegraph</td>\n",
       "      <td>2021-08-15 17:00:00+00:00</td>\n",
       "      <td>[]</td>\n",
       "      <td>Positive</td>\n",
       "      <td>['BTC']</td>\n",
       "      <td>6.22</td>\n",
       "    </tr>\n",
       "    <tr>\n",
       "      <th>2</th>\n",
       "      <td>2</td>\n",
       "      <td>https://cointelegraph.com/news/btc-price-slips...</td>\n",
       "      <td>BTC price slips under $46K but analysts are be...</td>\n",
       "      <td>A dip below $46,000 has little impact on senti...</td>\n",
       "      <td>Cointelegraph</td>\n",
       "      <td>2021-08-15 09:36:18+00:00</td>\n",
       "      <td>[]</td>\n",
       "      <td>Positive</td>\n",
       "      <td>['BTC']</td>\n",
       "      <td>6.22</td>\n",
       "    </tr>\n",
       "  </tbody>\n",
       "</table>\n",
       "</div>"
      ],
      "text/plain": [
       "   Unnamed: 0                                           news_url  \\\n",
       "0           0  https://www.coindesk.com/podcasts/coindesk-pod...   \n",
       "1           1  https://cointelegraph.com/news/gosats-launches...   \n",
       "2           2  https://cointelegraph.com/news/btc-price-slips...   \n",
       "\n",
       "                                               title  \\\n",
       "0            Why Bitcoin Matters in Nigeria and Iraq   \n",
       "1  GoSats launches Bitcoin cashback rewards card ...   \n",
       "2  BTC price slips under $46K but analysts are be...   \n",
       "\n",
       "                                                text    source_name  \\\n",
       "0  A reading of two essays from crypto voices aro...       Coindesk   \n",
       "1  Users will be able to earn yield paid in BTC o...  Cointelegraph   \n",
       "2  A dip below $46,000 has little impact on senti...  Cointelegraph   \n",
       "\n",
       "                        date topics sentiment  tickers  rank_score  \n",
       "0  2021-08-15 13:45:13+00:00     []   Neutral  ['BTC']        6.28  \n",
       "1  2021-08-15 17:00:00+00:00     []  Positive  ['BTC']        6.22  \n",
       "2  2021-08-15 09:36:18+00:00     []  Positive  ['BTC']        6.22  "
      ]
     },
     "execution_count": 9,
     "metadata": {},
     "output_type": "execute_result"
    }
   ],
   "source": [
    "file_path = \"./data/ticker-news_data_ALL.csv\"\n",
    "df = pd.read_csv(file_path)\n",
    "#time_format='%Y-%m-%d'\n",
    "#df['date'] = pd.to_datetime(df['date'],format=time_format)\n",
    "#df[\"date\"] = pd.to_datetime(df[\"date\"])\n",
    "#df = df.set_index(pd.DatetimeIndex(df['date']))\n",
    "df.head(3)"
   ]
  },
  {
   "cell_type": "code",
   "execution_count": 10,
   "id": "2de7f63f",
   "metadata": {},
   "outputs": [
    {
     "data": {},
     "metadata": {},
     "output_type": "display_data"
    },
    {
     "data": {},
     "metadata": {},
     "output_type": "display_data"
    },
    {
     "data": {
      "application/vnd.holoviews_exec.v0+json": "",
      "text/html": [
       "<div id='1868'>\n",
       "\n",
       "\n",
       "\n",
       "\n",
       "\n",
       "  <div class=\"bk-root\" id=\"09ef0cfd-0979-435f-9aba-97a80b8d1969\" data-root-id=\"1868\"></div>\n",
       "</div>\n",
       "<script type=\"application/javascript\">(function(root) {\n",
       "  function embed_document(root) {\n",
       "    var docs_json = {\"92690f90-3bea-4a6b-9e68-660c89c7a47c\":{\"defs\":[{\"extends\":null,\"module\":null,\"name\":\"ReactiveHTML1\",\"overrides\":[],\"properties\":[]},{\"extends\":null,\"module\":null,\"name\":\"FlexBox1\",\"overrides\":[],\"properties\":[{\"default\":\"flex-start\",\"kind\":null,\"name\":\"align_content\"},{\"default\":\"flex-start\",\"kind\":null,\"name\":\"align_items\"},{\"default\":\"row\",\"kind\":null,\"name\":\"flex_direction\"},{\"default\":\"wrap\",\"kind\":null,\"name\":\"flex_wrap\"},{\"default\":\"flex-start\",\"kind\":null,\"name\":\"justify_content\"}]},{\"extends\":null,\"module\":null,\"name\":\"TemplateActions1\",\"overrides\":[],\"properties\":[{\"default\":0,\"kind\":null,\"name\":\"open_modal\"},{\"default\":0,\"kind\":null,\"name\":\"close_modal\"}]},{\"extends\":null,\"module\":null,\"name\":\"MaterialTemplateActions1\",\"overrides\":[],\"properties\":[{\"default\":0,\"kind\":null,\"name\":\"open_modal\"},{\"default\":0,\"kind\":null,\"name\":\"close_modal\"}]}],\"roots\":{\"references\":[{\"attributes\":{\"bottom\":{\"value\":0},\"fill_alpha\":{\"value\":1.0},\"fill_color\":{\"value\":\"#30a2da\"},\"hatch_alpha\":{\"value\":1.0},\"hatch_color\":{\"value\":\"black\"},\"hatch_scale\":{\"value\":12.0},\"hatch_weight\":{\"value\":1.0},\"line_alpha\":{\"value\":1.0},\"line_cap\":{\"value\":\"butt\"},\"line_color\":{\"value\":\"black\"},\"line_dash\":{\"value\":[]},\"line_dash_offset\":{\"value\":0},\"line_join\":{\"value\":\"bevel\"},\"line_width\":{\"value\":1},\"top\":{\"field\":\"rank_score\"},\"width\":{\"value\":0.8},\"x\":{\"field\":\"date\"}},\"id\":\"1914\",\"type\":\"VBar\"},{\"attributes\":{\"factors\":[\"2021-08-15 13:45:13+00:00\",\"2021-08-13 20:29:12+00:00\",\"2021-08-13 09:34:12+00:00\",\"2021-08-13 18:33:12+00:00\",\"2021-08-09 10:39:12+00:00\",\"2021-07-27 06:39:12+00:00\",\"2021-08-03 18:49:13+00:00\",\"2021-07-01 13:45:12+00:00\",\"2021-06-22 14:00:12+00:00\",\"2021-06-21 20:19:13+00:00\",\"2021-05-22 21:54:12+00:00\",\"2021-05-21 20:42:12+00:00\",\"2021-05-10 13:05:12+00:00\"],\"tags\":[[[\"date\",\"date\",null]]]},\"id\":\"1874\",\"type\":\"FactorRange\"},{\"attributes\":{\"margin\":[20,20,20,20],\"min_width\":250,\"options\":[\"Coindesk\",\"Cointelegraph\",\"Bitcoin\",\"The Daily Hodl\",\"AMBCrypto\",\"UToday\",\"CryptoPotato\",\"CoinPedia\",\"Bitcoin Magazine\",\"Coingape\",\"Cryptopolitan\",\"Crypto Daily\",\"Bitcoinist\",\"The Currency Analytics\",\"DCForecasts\",\"Cryptonews\",\"Benzinga\",\"Decrypt\",\"NewsBTC\",\"The Cryptonomist\",\"CryptoGlobe\",\"CryptoTicker\",\"Coin Idol\",\"Forbes\",\"DailyFX\",\"Trustnodes\",\"BeInCrypto\",\"FinanceMagnates\",\"Crypto Briefing\",\"Invezz\",\"CryptoSlate\",\"Koinpost\",\"Investorplace\",\"BTCManager\",\"Coinfomania\",\"TCU\",\"CNBC\",\"The Block\",\"Yahoo Finance\",\"Coinnounce\",\"Altcoin Buzz\"],\"title\":\"source_name\",\"value\":\"Coindesk\",\"width\":250},\"id\":\"1872\",\"type\":\"Select\"},{\"attributes\":{\"fill_color\":{\"value\":\"#30a2da\"},\"top\":{\"field\":\"rank_score\"},\"width\":{\"value\":0.8},\"x\":{\"field\":\"date\"}},\"id\":\"1909\",\"type\":\"VBar\"},{\"attributes\":{\"fill_alpha\":{\"value\":0.1},\"fill_color\":{\"value\":\"#30a2da\"},\"line_alpha\":{\"value\":0.1},\"top\":{\"field\":\"rank_score\"},\"width\":{\"value\":0.8},\"x\":{\"field\":\"date\"}},\"id\":\"1910\",\"type\":\"VBar\"},{\"attributes\":{\"axis_label\":\"Date\",\"axis_label_text_font_size\":\"15pt\",\"formatter\":{\"id\":\"1916\"},\"major_label_orientation\":0.7853981633974483,\"major_label_policy\":{\"id\":\"1917\"},\"ticker\":{\"id\":\"1887\"}},\"id\":\"1886\",\"type\":\"CategoricalAxis\"},{\"attributes\":{},\"id\":\"1934\",\"type\":\"UnionRenderers\"},{\"attributes\":{\"margin\":[5,5,5,5],\"name\":\"HSpacer02400\",\"sizing_mode\":\"stretch_width\"},\"id\":\"1873\",\"type\":\"Spacer\"},{\"attributes\":{\"data\":{\"date\":[\"2021-08-15 13:45:13+00:00\",\"2021-08-13 20:29:12+00:00\",\"2021-08-13 09:34:12+00:00\",\"2021-08-13 18:33:12+00:00\",\"2021-08-09 10:39:12+00:00\",\"2021-07-27 06:39:12+00:00\",\"2021-08-03 18:49:13+00:00\",\"2021-07-01 13:45:12+00:00\",\"2021-06-22 14:00:12+00:00\",\"2021-06-21 20:19:13+00:00\",\"2021-05-22 21:54:12+00:00\",\"2021-05-21 20:42:12+00:00\",\"2021-05-10 13:05:12+00:00\",\"2021-08-03 18:49:13+00:00\",\"2021-07-01 13:45:12+00:00\",\"2021-06-22 14:00:12+00:00\",\"2021-06-21 20:19:13+00:00\",\"2021-05-22 21:54:12+00:00\",\"2021-05-21 20:42:12+00:00\",\"2021-05-10 13:05:12+00:00\",\"2021-08-03 18:49:13+00:00\",\"2021-07-01 13:45:12+00:00\",\"2021-06-22 14:00:12+00:00\",\"2021-06-21 20:19:13+00:00\",\"2021-05-22 21:54:12+00:00\",\"2021-05-21 20:42:12+00:00\",\"2021-05-10 13:05:12+00:00\",\"2021-08-03 18:49:13+00:00\",\"2021-07-01 13:45:12+00:00\",\"2021-06-22 14:00:12+00:00\",\"2021-06-21 20:19:13+00:00\",\"2021-05-22 21:54:12+00:00\",\"2021-05-21 20:42:12+00:00\",\"2021-05-10 13:05:12+00:00\",\"2021-08-03 18:49:13+00:00\",\"2021-07-01 13:45:12+00:00\",\"2021-06-22 14:00:12+00:00\",\"2021-06-21 20:19:13+00:00\",\"2021-05-22 21:54:12+00:00\",\"2021-05-21 20:42:12+00:00\",\"2021-05-10 13:05:12+00:00\"],\"rank_score\":{\"__ndarray__\":\"H4XrUbgeGUAfhetRuB4ZQB+F61G4HhlAexSuR+F6GkDsUbgehesRQOxRuB6F6xpAH4XrUbgeGUDNzMzMzMwSQOxRuB6F6xFAuB6F61G4E0AAAAAAAAAZQJqZmZmZmRNAzczMzMzMGkAfhetRuB4ZQM3MzMzMzBJA7FG4HoXrEUC4HoXrUbgTQAAAAAAAABlAmpmZmZmZE0DNzMzMzMwaQB+F61G4HhlAzczMzMzMEkDsUbgehesRQLgehetRuBNAAAAAAAAAGUCamZmZmZkTQM3MzMzMzBpAH4XrUbgeGUDNzMzMzMwSQOxRuB6F6xFAuB6F61G4E0AAAAAAAAAZQJqZmZmZmRNAzczMzMzMGkAfhetRuB4ZQM3MzMzMzBJA7FG4HoXrEUC4HoXrUbgTQAAAAAAAABlAmpmZmZmZE0DNzMzMzMwaQA==\",\"dtype\":\"float64\",\"order\":\"little\",\"shape\":[41]},\"text\":[\"A reading of two essays from crypto voices around the world.\",\"The largest cryptocurrency by market value was trading close to its highest level in more than two months\",\"The ETH/BTC ratio is holding support above 0.05 and could face initial resistance near 0.08.\",\"The plan to add smart contracts next month could defy skeptics who have bet that the functionality wouldn't come anytime soon.\",\"The exchange will consolidate UNIDOWN and LTCDOWN tokens by 100,000 to 1.\",\"\\\"This does not reveal anything about addresses or transaction amounts ... This bug persists in the official wallet code today,\\\" said Monero.\",\"The changing trading patterns in USDT might be the result of China's recent crackdown on cryptocurrency mining and trading.\",\"\\\"First Mover\\\" dives into crypto markets and business news, including Ethereum's upcoming upgrade. Is it bullish or bearish for ETH?\",\"China ramps up the pressure on crypto, telling banks to stop facilitating transactions. Cryptocurrencies fell with bitcoin dropping below $30K Tuesday morning.\",\"CME's bitcoin futures goes into \\\"backwardation\\\" and BTC inflows to exchanges rise as China \\\"FUD\\\" continues.\",\"The vulnerability was first discovered in late 2019.\",\"Within two hours of the State Council statement, BTC fell 11%, based on CoinDesk 20 data.\",\"Top cryptocurrencies are a sea of green as observers ponder a new Dogecoin mystery: Why did the meme crypto suddenly crash and recover? Igor Telyatnikov of exchange software provider AlphaPoint joins our markets discussion.\",\"The changing trading patterns in USDT might be the result of China's recent crackdown on cryptocurrency mining and trading.\",\"\\\"First Mover\\\" dives into crypto markets and business news, including Ethereum's upcoming upgrade. Is it bullish or bearish for ETH?\",\"China ramps up the pressure on crypto, telling banks to stop facilitating transactions. Cryptocurrencies fell with bitcoin dropping below $30K Tuesday morning.\",\"CME's bitcoin futures goes into \\\"backwardation\\\" and BTC inflows to exchanges rise as China \\\"FUD\\\" continues.\",\"The vulnerability was first discovered in late 2019.\",\"Within two hours of the State Council statement, BTC fell 11%, based on CoinDesk 20 data.\",\"Top cryptocurrencies are a sea of green as observers ponder a new Dogecoin mystery: Why did the meme crypto suddenly crash and recover? Igor Telyatnikov of exchange software provider AlphaPoint joins our markets discussion.\",\"The changing trading patterns in USDT might be the result of China's recent crackdown on cryptocurrency mining and trading.\",\"\\\"First Mover\\\" dives into crypto markets and business news, including Ethereum's upcoming upgrade. Is it bullish or bearish for ETH?\",\"China ramps up the pressure on crypto, telling banks to stop facilitating transactions. Cryptocurrencies fell with bitcoin dropping below $30K Tuesday morning.\",\"CME's bitcoin futures goes into \\\"backwardation\\\" and BTC inflows to exchanges rise as China \\\"FUD\\\" continues.\",\"The vulnerability was first discovered in late 2019.\",\"Within two hours of the State Council statement, BTC fell 11%, based on CoinDesk 20 data.\",\"Top cryptocurrencies are a sea of green as observers ponder a new Dogecoin mystery: Why did the meme crypto suddenly crash and recover? Igor Telyatnikov of exchange software provider AlphaPoint joins our markets discussion.\",\"The changing trading patterns in USDT might be the result of China's recent crackdown on cryptocurrency mining and trading.\",\"\\\"First Mover\\\" dives into crypto markets and business news, including Ethereum's upcoming upgrade. Is it bullish or bearish for ETH?\",\"China ramps up the pressure on crypto, telling banks to stop facilitating transactions. Cryptocurrencies fell with bitcoin dropping below $30K Tuesday morning.\",\"CME's bitcoin futures goes into \\\"backwardation\\\" and BTC inflows to exchanges rise as China \\\"FUD\\\" continues.\",\"The vulnerability was first discovered in late 2019.\",\"Within two hours of the State Council statement, BTC fell 11%, based on CoinDesk 20 data.\",\"Top cryptocurrencies are a sea of green as observers ponder a new Dogecoin mystery: Why did the meme crypto suddenly crash and recover? Igor Telyatnikov of exchange software provider AlphaPoint joins our markets discussion.\",\"The changing trading patterns in USDT might be the result of China's recent crackdown on cryptocurrency mining and trading.\",\"\\\"First Mover\\\" dives into crypto markets and business news, including Ethereum's upcoming upgrade. Is it bullish or bearish for ETH?\",\"China ramps up the pressure on crypto, telling banks to stop facilitating transactions. Cryptocurrencies fell with bitcoin dropping below $30K Tuesday morning.\",\"CME's bitcoin futures goes into \\\"backwardation\\\" and BTC inflows to exchanges rise as China \\\"FUD\\\" continues.\",\"The vulnerability was first discovered in late 2019.\",\"Within two hours of the State Council statement, BTC fell 11%, based on CoinDesk 20 data.\",\"Top cryptocurrencies are a sea of green as observers ponder a new Dogecoin mystery: Why did the meme crypto suddenly crash and recover? Igor Telyatnikov of exchange software provider AlphaPoint joins our markets discussion.\"],\"title\":[\"Why Bitcoin Matters in Nigeria and Iraq\",\"Market Wrap: Ethereum Keeps Burning and Price Is Hot\",\"Ether Upside Strengthens Relative to Bitcoin\",\"Cardano Announces \\u2018Alonzo' Upgrade Launch Date; Price Jumps 16%\",\"Binance to Perform Reverse Splits on Uniswap, Litecoin-Linked Tokens\",\"Bug Found in Decoy Algorithm for Privacy Coin Monero\",\"USDT Usage on Ethereum Shifts Away From Asia Daytime Hours\",\"Bitcoin, Ether Analysis, Japanese Industry Leader on 'Stupid' Regulator Warnings Against Binance, State of Crypto in Japan\",\"Bitcoin, Ether Plummet as China Crypto Crackdown Continues, Ethereum Improvement Proposal Explained\",\"Market Wrap: Bitcoin Slides to Two-Week Low, Ether to Below $2K as China Reiterates Crypto Ban\",\"Ethereum Foundation Says Berlin Hardfork Addressed 'Clear and Present' Threat\",\"Market Wrap: China Breaks Crypto as Bitcoin Falls to $36K, ETH Drops $300 in Two Hours\",\"Ether's Record-breaking Rally; the Musk Effect, What Crypto Means to Latin America\",\"USDT Usage on Ethereum Shifts Away From Asia Daytime Hours\",\"Bitcoin, Ether Analysis, Japanese Industry Leader on 'Stupid' Regulator Warnings Against Binance, State of Crypto in Japan\",\"Bitcoin, Ether Plummet as China Crypto Crackdown Continues, Ethereum Improvement Proposal Explained\",\"Market Wrap: Bitcoin Slides to Two-Week Low, Ether to Below $2K as China Reiterates Crypto Ban\",\"Ethereum Foundation Says Berlin Hardfork Addressed 'Clear and Present' Threat\",\"Market Wrap: China Breaks Crypto as Bitcoin Falls to $36K, ETH Drops $300 in Two Hours\",\"Ether's Record-breaking Rally; the Musk Effect, What Crypto Means to Latin America\",\"USDT Usage on Ethereum Shifts Away From Asia Daytime Hours\",\"Bitcoin, Ether Analysis, Japanese Industry Leader on 'Stupid' Regulator Warnings Against Binance, State of Crypto in Japan\",\"Bitcoin, Ether Plummet as China Crypto Crackdown Continues, Ethereum Improvement Proposal Explained\",\"Market Wrap: Bitcoin Slides to Two-Week Low, Ether to Below $2K as China Reiterates Crypto Ban\",\"Ethereum Foundation Says Berlin Hardfork Addressed 'Clear and Present' Threat\",\"Market Wrap: China Breaks Crypto as Bitcoin Falls to $36K, ETH Drops $300 in Two Hours\",\"Ether's Record-breaking Rally; the Musk Effect, What Crypto Means to Latin America\",\"USDT Usage on Ethereum Shifts Away From Asia Daytime Hours\",\"Bitcoin, Ether Analysis, Japanese Industry Leader on 'Stupid' Regulator Warnings Against Binance, State of Crypto in Japan\",\"Bitcoin, Ether Plummet as China Crypto Crackdown Continues, Ethereum Improvement Proposal Explained\",\"Market Wrap: Bitcoin Slides to Two-Week Low, Ether to Below $2K as China Reiterates Crypto Ban\",\"Ethereum Foundation Says Berlin Hardfork Addressed 'Clear and Present' Threat\",\"Market Wrap: China Breaks Crypto as Bitcoin Falls to $36K, ETH Drops $300 in Two Hours\",\"Ether's Record-breaking Rally; the Musk Effect, What Crypto Means to Latin America\",\"USDT Usage on Ethereum Shifts Away From Asia Daytime Hours\",\"Bitcoin, Ether Analysis, Japanese Industry Leader on 'Stupid' Regulator Warnings Against Binance, State of Crypto in Japan\",\"Bitcoin, Ether Plummet as China Crypto Crackdown Continues, Ethereum Improvement Proposal Explained\",\"Market Wrap: Bitcoin Slides to Two-Week Low, Ether to Below $2K as China Reiterates Crypto Ban\",\"Ethereum Foundation Says Berlin Hardfork Addressed 'Clear and Present' Threat\",\"Market Wrap: China Breaks Crypto as Bitcoin Falls to $36K, ETH Drops $300 in Two Hours\",\"Ether's Record-breaking Rally; the Musk Effect, What Crypto Means to Latin America\"]},\"selected\":{\"id\":\"1907\"},\"selection_policy\":{\"id\":\"1934\"}},\"id\":\"1906\",\"type\":\"ColumnDataSource\"},{\"attributes\":{\"data_source\":{\"id\":\"1906\"},\"glyph\":{\"id\":\"1909\"},\"hover_glyph\":null,\"muted_glyph\":{\"id\":\"1911\"},\"nonselection_glyph\":{\"id\":\"1910\"},\"selection_glyph\":{\"id\":\"1914\"},\"view\":{\"id\":\"1913\"}},\"id\":\"1912\",\"type\":\"GlyphRenderer\"},{\"attributes\":{\"axis_label\":\"Rank Score\",\"axis_label_text_font_size\":\"15pt\",\"formatter\":{\"id\":\"1919\"},\"major_label_policy\":{\"id\":\"1918\"},\"ticker\":{\"id\":\"1890\"}},\"id\":\"1889\",\"type\":\"LinearAxis\"},{\"attributes\":{\"source\":{\"id\":\"1906\"}},\"id\":\"1913\",\"type\":\"CDSView\"},{\"attributes\":{},\"id\":\"1890\",\"type\":\"BasicTicker\"},{\"attributes\":{},\"id\":\"1916\",\"type\":\"CategoricalTickFormatter\"},{\"attributes\":{\"end\":8,\"reset_end\":8,\"reset_start\":3,\"start\":3,\"tags\":[[[\"rank_score\",\"rank_score\",null]]]},\"id\":\"1875\",\"type\":\"Range1d\"},{\"attributes\":{\"fill_alpha\":{\"value\":0.2},\"fill_color\":{\"value\":\"#30a2da\"},\"line_alpha\":{\"value\":0.2},\"top\":{\"field\":\"rank_score\"},\"width\":{\"value\":0.8},\"x\":{\"field\":\"date\"}},\"id\":\"1911\",\"type\":\"VBar\"},{\"attributes\":{},\"id\":\"1897\",\"type\":\"ResetTool\"},{\"attributes\":{\"children\":[{\"id\":\"1872\"}],\"css_classes\":[\"panel-widget-box\"],\"margin\":[5,5,5,5],\"name\":\"WidgetBox02394\"},\"id\":\"1871\",\"type\":\"Column\"},{\"attributes\":{\"margin\":[5,5,5,5],\"name\":\"HSpacer02399\",\"sizing_mode\":\"stretch_width\"},\"id\":\"1870\",\"type\":\"Spacer\"},{\"attributes\":{\"bottom_units\":\"screen\",\"fill_alpha\":0.5,\"fill_color\":\"lightgrey\",\"left_units\":\"screen\",\"level\":\"overlay\",\"line_alpha\":1.0,\"line_color\":\"black\",\"line_dash\":[4,4],\"line_width\":2,\"right_units\":\"screen\",\"syncable\":false,\"top_units\":\"screen\"},\"id\":\"1898\",\"type\":\"BoxAnnotation\"},{\"attributes\":{},\"id\":\"1918\",\"type\":\"AllLabels\"},{\"attributes\":{},\"id\":\"1917\",\"type\":\"AllLabels\"},{\"attributes\":{},\"id\":\"1887\",\"type\":\"CategoricalTicker\"},{\"attributes\":{},\"id\":\"1882\",\"type\":\"CategoricalScale\"},{\"attributes\":{\"children\":[{\"id\":\"1870\"},{\"id\":\"1871\"},{\"id\":\"1873\"}],\"margin\":[0,0,0,0],\"name\":\"Row02401\"},\"id\":\"1869\",\"type\":\"Row\"},{\"attributes\":{\"active_multi\":null,\"tools\":[{\"id\":\"1876\"},{\"id\":\"1893\"},{\"id\":\"1894\"},{\"id\":\"1895\"},{\"id\":\"1896\"},{\"id\":\"1897\"}]},\"id\":\"1899\",\"type\":\"Toolbar\"},{\"attributes\":{\"axis\":{\"id\":\"1889\"},\"dimension\":1,\"grid_line_color\":null,\"ticker\":null},\"id\":\"1892\",\"type\":\"Grid\"},{\"attributes\":{},\"id\":\"1893\",\"type\":\"SaveTool\"},{\"attributes\":{},\"id\":\"1894\",\"type\":\"PanTool\"},{\"attributes\":{\"client_comm_id\":\"4adfbb8f95b243a6aec265f47080b95f\",\"comm_id\":\"9917ed79d2354047b391a288d1d48bec\",\"plot_id\":\"1868\"},\"id\":\"1977\",\"type\":\"panel.models.comm_manager.CommManager\"},{\"attributes\":{\"text\":\"Correlating News Source and Rank Score\",\"text_color\":\"black\",\"text_font_size\":\"20pt\"},\"id\":\"1878\",\"type\":\"Title\"},{\"attributes\":{},\"id\":\"1895\",\"type\":\"WheelZoomTool\"},{\"attributes\":{},\"id\":\"1919\",\"type\":\"BasicTickFormatter\"},{\"attributes\":{\"callback\":null,\"renderers\":[{\"id\":\"1912\"}],\"tags\":[\"hv_created\"],\"tooltips\":[[\"date\",\"@{date}\"],[\"rank_score\",\"@{rank_score}\"],[\"title\",\"@{title}\"],[\"text\",\"@{text}\"]]},\"id\":\"1876\",\"type\":\"HoverTool\"},{\"attributes\":{\"children\":[{\"id\":\"1869\"},{\"id\":\"1877\"}],\"margin\":[0,0,0,0],\"name\":\"Column02402\"},\"id\":\"1868\",\"type\":\"Column\"},{\"attributes\":{\"overlay\":{\"id\":\"1898\"}},\"id\":\"1896\",\"type\":\"BoxZoomTool\"},{\"attributes\":{\"below\":[{\"id\":\"1886\"}],\"center\":[{\"id\":\"1888\"},{\"id\":\"1892\"}],\"height\":500,\"left\":[{\"id\":\"1889\"}],\"margin\":[5,5,5,5],\"min_border_bottom\":10,\"min_border_left\":10,\"min_border_right\":10,\"min_border_top\":10,\"renderers\":[{\"id\":\"1912\"}],\"sizing_mode\":\"fixed\",\"title\":{\"id\":\"1878\"},\"toolbar\":{\"id\":\"1899\"},\"width\":700,\"x_range\":{\"id\":\"1874\"},\"x_scale\":{\"id\":\"1882\"},\"y_range\":{\"id\":\"1875\"},\"y_scale\":{\"id\":\"1884\"}},\"id\":\"1877\",\"subtype\":\"Figure\",\"type\":\"Plot\"},{\"attributes\":{},\"id\":\"1884\",\"type\":\"LinearScale\"},{\"attributes\":{},\"id\":\"1907\",\"type\":\"Selection\"},{\"attributes\":{\"axis\":{\"id\":\"1886\"},\"grid_line_color\":null,\"ticker\":null},\"id\":\"1888\",\"type\":\"Grid\"}],\"root_ids\":[\"1868\",\"1977\"]},\"title\":\"Bokeh Application\",\"version\":\"2.3.3\"}};\n",
       "    var render_items = [{\"docid\":\"92690f90-3bea-4a6b-9e68-660c89c7a47c\",\"root_ids\":[\"1868\"],\"roots\":{\"1868\":\"09ef0cfd-0979-435f-9aba-97a80b8d1969\"}}];\n",
       "    root.Bokeh.embed.embed_items_notebook(docs_json, render_items);\n",
       "  }\n",
       "  if (root.Bokeh !== undefined && root.Bokeh.Panel !== undefined) {\n",
       "    embed_document(root);\n",
       "  } else {\n",
       "    var attempts = 0;\n",
       "    var timer = setInterval(function(root) {\n",
       "      if (root.Bokeh !== undefined && root.Bokeh.Panel !== undefined) {\n",
       "        clearInterval(timer);\n",
       "        embed_document(root);\n",
       "      } else if (document.readyState == \"complete\") {\n",
       "        attempts++;\n",
       "        if (attempts > 200) {\n",
       "          clearInterval(timer);\n",
       "          console.log(\"Bokeh: ERROR: Unable to run BokehJS code because BokehJS library is missing\");\n",
       "        }\n",
       "      }\n",
       "    }, 25, root)\n",
       "  }\n",
       "})(window);</script>"
      ],
      "text/plain": [
       "Column\n",
       "    [0] Row\n",
       "        [0] HSpacer()\n",
       "        [1] WidgetBox\n",
       "            [0] Select(margin=(20, 20, 20, 20), name='source_name', options=['Coindesk', 'Cointelegrap...], value='Coindesk', width=250)\n",
       "        [2] HSpacer()\n",
       "    [1] HoloViews(DynamicMap, widget_location='top')"
      ]
     },
     "execution_count": 10,
     "metadata": {
      "application/vnd.holoviews_exec.v0+json": {
       "id": "1868"
      }
     },
     "output_type": "execute_result"
    }
   ],
   "source": [
    "# hover is title and article\n",
    "df.hvplot.bar(\n",
    "    title=\"Correlating News Source and Rank Score\",\n",
    "    y='rank_score',\n",
    "    x='date',\n",
    "    ylabel='Rank Score',\n",
    "    xlabel='Date',\n",
    "    figsize=(700,750),\n",
    "    groupby='source_name',\n",
    "    rot=45,\n",
    "    height=500,\n",
    "    widget_location=\"top\",\n",
    "    hover_cols=[\"title\",\"text\"],\n",
    "    ylim=(3,8),\n",
    "    fontsize={'title':'20pt','xlabel':'15pt', 'ylabel':'15pt'}\n",
    ")"
   ]
  },
  {
   "cell_type": "code",
   "execution_count": 11,
   "id": "8a4a1aa4",
   "metadata": {
    "scrolled": false
   },
   "outputs": [
    {
     "data": {},
     "metadata": {},
     "output_type": "display_data"
    },
    {
     "data": {},
     "metadata": {},
     "output_type": "display_data"
    },
    {
     "data": {
      "application/vnd.holoviews_exec.v0+json": "",
      "text/html": [
       "<div id='2044'>\n",
       "\n",
       "\n",
       "\n",
       "\n",
       "\n",
       "  <div class=\"bk-root\" id=\"a3705e3b-434e-442f-9fd8-d1286716a932\" data-root-id=\"2044\"></div>\n",
       "</div>\n",
       "<script type=\"application/javascript\">(function(root) {\n",
       "  function embed_document(root) {\n",
       "    var docs_json = {\"477d75b9-1944-41e7-9781-5600254d63cb\":{\"defs\":[{\"extends\":null,\"module\":null,\"name\":\"ReactiveHTML1\",\"overrides\":[],\"properties\":[]},{\"extends\":null,\"module\":null,\"name\":\"FlexBox1\",\"overrides\":[],\"properties\":[{\"default\":\"flex-start\",\"kind\":null,\"name\":\"align_content\"},{\"default\":\"flex-start\",\"kind\":null,\"name\":\"align_items\"},{\"default\":\"row\",\"kind\":null,\"name\":\"flex_direction\"},{\"default\":\"wrap\",\"kind\":null,\"name\":\"flex_wrap\"},{\"default\":\"flex-start\",\"kind\":null,\"name\":\"justify_content\"}]},{\"extends\":null,\"module\":null,\"name\":\"TemplateActions1\",\"overrides\":[],\"properties\":[{\"default\":0,\"kind\":null,\"name\":\"open_modal\"},{\"default\":0,\"kind\":null,\"name\":\"close_modal\"}]},{\"extends\":null,\"module\":null,\"name\":\"MaterialTemplateActions1\",\"overrides\":[],\"properties\":[{\"default\":0,\"kind\":null,\"name\":\"open_modal\"},{\"default\":0,\"kind\":null,\"name\":\"close_modal\"}]}],\"roots\":{\"references\":[{\"attributes\":{\"children\":[{\"id\":\"2046\"}],\"css_classes\":[\"panel-widget-box\"],\"margin\":[5,5,5,5],\"name\":\"WidgetBox02938\"},\"id\":\"2045\",\"type\":\"Column\"},{\"attributes\":{},\"id\":\"2056\",\"type\":\"CategoricalScale\"},{\"attributes\":{},\"id\":\"2090\",\"type\":\"CategoricalTickFormatter\"},{\"attributes\":{\"margin\":[5,10,5,10],\"options\":[\"bar\",\"line\",\"scatter\"],\"title\":\"kind\",\"value\":\"bar\"},\"id\":\"2046\",\"type\":\"Select\"},{\"attributes\":{\"below\":[{\"id\":\"2060\"}],\"center\":[{\"id\":\"2062\"},{\"id\":\"2066\"}],\"height\":300,\"left\":[{\"id\":\"2063\"}],\"margin\":[5,5,5,5],\"min_border_bottom\":10,\"min_border_left\":10,\"min_border_right\":10,\"min_border_top\":10,\"renderers\":[{\"id\":\"2086\"}],\"sizing_mode\":\"fixed\",\"title\":{\"id\":\"2052\"},\"toolbar\":{\"id\":\"2073\"},\"width\":900,\"x_range\":{\"id\":\"2048\"},\"x_scale\":{\"id\":\"2056\"},\"y_range\":{\"id\":\"2049\"},\"y_scale\":{\"id\":\"2058\"}},\"id\":\"2051\",\"subtype\":\"Figure\",\"type\":\"Plot\"},{\"attributes\":{},\"id\":\"2061\",\"type\":\"CategoricalTicker\"},{\"attributes\":{\"text\":\"Various Views of Rank Score\",\"text_color\":\"black\",\"text_font_size\":\"12pt\"},\"id\":\"2052\",\"type\":\"Title\"},{\"attributes\":{\"children\":[{\"id\":\"2045\"},{\"id\":\"2047\"}],\"margin\":[0,0,0,0],\"name\":\"Column02939\"},\"id\":\"2044\",\"type\":\"Column\"},{\"attributes\":{\"client_comm_id\":\"31b2451f0cb943ca9b079922a910cd19\",\"comm_id\":\"f1a4dd345c814133914027347b777591\",\"plot_id\":\"2044\"},\"id\":\"2145\",\"type\":\"panel.models.comm_manager.CommManager\"},{\"attributes\":{\"axis\":{\"id\":\"2060\"},\"grid_line_color\":null,\"ticker\":null},\"id\":\"2062\",\"type\":\"Grid\"},{\"attributes\":{},\"id\":\"2093\",\"type\":\"BasicTickFormatter\"},{\"attributes\":{},\"id\":\"2058\",\"type\":\"LinearScale\"},{\"attributes\":{},\"id\":\"2091\",\"type\":\"AllLabels\"},{\"attributes\":{\"axis\":{\"id\":\"2063\"},\"dimension\":1,\"grid_line_color\":null,\"ticker\":null},\"id\":\"2066\",\"type\":\"Grid\"},{\"attributes\":{\"callback\":null,\"renderers\":[{\"id\":\"2086\"}],\"tags\":[\"hv_created\"],\"tooltips\":[[\"date\",\"@{date}\"],[\"rank_score\",\"@{rank_score}\"],[\"title\",\"@{title}\"],[\"text\",\"@{text}\"]]},\"id\":\"2050\",\"type\":\"HoverTool\"},{\"attributes\":{},\"id\":\"2068\",\"type\":\"PanTool\"},{\"attributes\":{\"axis_label\":\"date\",\"formatter\":{\"id\":\"2090\"},\"major_label_policy\":{\"id\":\"2091\"},\"ticker\":{\"id\":\"2061\"},\"visible\":false},\"id\":\"2060\",\"type\":\"CategoricalAxis\"},{\"attributes\":{},\"id\":\"2092\",\"type\":\"AllLabels\"},{\"attributes\":{\"axis_label\":\"Rank Score\",\"formatter\":{\"id\":\"2093\"},\"major_label_policy\":{\"id\":\"2092\"},\"ticker\":{\"id\":\"2064\"}},\"id\":\"2063\",\"type\":\"LinearAxis\"},{\"attributes\":{},\"id\":\"2064\",\"type\":\"BasicTicker\"},{\"attributes\":{},\"id\":\"2069\",\"type\":\"WheelZoomTool\"},{\"attributes\":{\"active_multi\":null,\"tools\":[{\"id\":\"2050\"},{\"id\":\"2067\"},{\"id\":\"2068\"},{\"id\":\"2069\"},{\"id\":\"2070\"},{\"id\":\"2071\"}]},\"id\":\"2073\",\"type\":\"Toolbar\"},{\"attributes\":{},\"id\":\"2067\",\"type\":\"SaveTool\"},{\"attributes\":{\"overlay\":{\"id\":\"2072\"}},\"id\":\"2070\",\"type\":\"BoxZoomTool\"},{\"attributes\":{},\"id\":\"2071\",\"type\":\"ResetTool\"},{\"attributes\":{\"bottom\":{\"value\":0},\"fill_alpha\":{\"value\":1.0},\"fill_color\":{\"value\":\"#30a2da\"},\"hatch_alpha\":{\"value\":1.0},\"hatch_color\":{\"value\":\"black\"},\"hatch_scale\":{\"value\":12.0},\"hatch_weight\":{\"value\":1.0},\"line_alpha\":{\"value\":1.0},\"line_cap\":{\"value\":\"butt\"},\"line_color\":{\"value\":\"black\"},\"line_dash\":{\"value\":[]},\"line_dash_offset\":{\"value\":0},\"line_join\":{\"value\":\"bevel\"},\"line_width\":{\"value\":1},\"top\":{\"field\":\"rank_score\"},\"width\":{\"value\":0.8},\"x\":{\"field\":\"date\"}},\"id\":\"2088\",\"type\":\"VBar\"},{\"attributes\":{\"fill_color\":{\"value\":\"#30a2da\"},\"top\":{\"field\":\"rank_score\"},\"width\":{\"value\":0.8},\"x\":{\"field\":\"date\"}},\"id\":\"2083\",\"type\":\"VBar\"},{\"attributes\":{\"factors\":[\"2021-08-15 13:45:13+00:00\",\"2021-08-15 17:00:00+00:00\",\"2021-08-15 09:36:18+00:00\",\"2021-08-15 13:30:37+00:00\",\"2021-08-15 09:00:45+00:00\",\"2021-08-15 15:00:16+00:00\",\"2021-08-15 07:45:00+00:00\",\"2021-08-15 10:54:26+00:00\",\"2021-08-15 15:09:51+00:00\",\"2021-08-15 11:26:25+00:00\",\"2021-08-15 15:00:00+00:00\",\"2021-08-15 12:00:51+00:00\",\"2021-08-15 13:42:24+00:00\",\"2021-08-15 17:00:59+00:00\",\"2021-08-15 11:00:32+00:00\",\"2021-08-15 09:00:41+00:00\",\"2021-08-15 12:46:46+00:00\",\"2021-08-15 16:18:03+00:00\",\"2021-08-15 11:00:00+00:00\",\"2021-08-15 13:00:43+00:00\",\"2021-08-15 09:49:00+00:00\",\"2021-08-15 11:09:50+00:00\",\"2021-08-14 19:26:26+00:00\",\"2021-08-14 14:44:58+00:00\",\"2021-08-14 13:33:00+00:00\",\"2021-08-14 10:31:00+00:00\",\"2021-08-14 08:47:01+00:00\",\"2021-08-14 12:02:54+00:00\",\"2021-08-15 03:00:50+00:00\",\"2021-08-14 20:00:22+00:00\",\"2021-08-14 11:45:46+00:00\",\"2021-08-14 15:00:27+00:00\",\"2021-08-14 08:00:06+00:00\",\"2021-08-14 10:37:26+00:00\",\"2021-08-14 17:00:23+00:00\",\"2021-08-14 12:02:00+00:00\",\"2021-08-14 20:39:13+00:00\",\"2021-08-14 18:34:42+00:00\",\"2021-08-14 11:28:43+00:00\",\"2021-08-14 08:21:45+00:00\",\"2021-08-14 08:22:33+00:00\",\"2021-08-14 12:38:30+00:00\",\"2021-08-15 00:00:00+00:00\",\"2021-08-14 15:00:00+00:00\",\"2021-08-14 19:02:00+00:00\",\"2021-08-14 17:49:00+00:00\",\"2021-08-14 06:01:23+00:00\",\"2021-08-15 14:16:16+00:00\",\"2021-08-15 14:31:00+00:00\",\"2021-08-15 11:09:22+00:00\",\"2021-08-15 17:15:00+00:00\",\"2021-08-15 11:37:13+00:00\",\"2021-08-15 07:04:40+00:00\",\"2021-08-14 22:02:03+00:00\",\"2021-08-14 18:45:30+00:00\",\"2021-08-14 17:01:45+00:00\",\"2021-08-14 13:32:05+00:00\",\"2021-08-14 08:23:29+00:00\",\"2021-08-14 16:29:57+00:00\",\"2021-08-14 17:00:17+00:00\",\"2021-08-14 20:29:33+00:00\",\"2021-08-14 23:01:29+00:00\",\"2021-08-14 17:15:00+00:00\",\"2021-08-14 08:21:00+00:00\",\"2021-08-14 10:10:00+00:00\",\"2021-08-14 12:31:21+00:00\",\"2021-08-14 07:00:00+00:00\",\"2021-08-14 15:00:39+00:00\",\"2021-08-14 12:36:54+00:00\",\"2021-08-14 20:00:43+00:00\",\"2021-08-14 04:59:08+00:00\",\"2021-08-14 13:26:12+00:00\",\"2021-08-13 07:32:47+00:00\",\"2021-08-13 07:38:34+00:00\",\"2021-08-13 20:29:12+00:00\",\"2021-08-13 09:34:12+00:00\",\"2021-08-13 19:34:06+00:00\",\"2021-08-13 09:46:37+00:00\",\"2021-08-13 11:30:47+00:00\",\"2021-08-13 15:25:16+00:00\",\"2021-08-13 15:46:41+00:00\",\"2021-08-13 07:04:22+00:00\",\"2021-08-13 16:44:53+00:00\",\"2021-08-13 18:00:58+00:00\",\"2021-08-13 21:15:48+00:00\",\"2021-08-13 15:37:56+00:00\",\"2021-08-13 16:59:18+00:00\",\"2021-08-13 21:16:07+00:00\",\"2021-08-13 16:17:57+00:00\",\"2021-08-13 05:08:06+00:00\",\"2021-08-13 07:38:00+00:00\",\"2021-08-13 10:16:00+00:00\",\"2021-08-13 18:35:00+00:00\",\"2021-08-13 17:15:00+00:00\",\"2021-08-13 12:47:14+00:00\",\"2021-08-15 13:55:51+00:00\",\"2021-08-15 17:00:09+00:00\",\"2021-08-15 08:53:38+00:00\",\"2021-08-15 16:09:11+00:00\",\"2021-08-15 06:11:10+00:00\",\"2021-08-14 04:30:02+00:00\",\"2021-08-14 09:00:59+00:00\",\"2021-08-14 17:49:49+00:00\",\"2021-08-14 17:21:33+00:00\",\"2021-08-14 04:00:50+00:00\",\"2021-08-14 19:00:40+00:00\",\"2021-08-14 14:00:51+00:00\",\"2021-08-14 09:40:11+00:00\",\"2021-08-14 12:00:55+00:00\",\"2021-08-14 18:01:13+00:00\",\"2021-08-14 10:15:00+00:00\",\"2021-08-14 05:30:00+00:00\",\"2021-08-14 12:37:28+00:00\",\"2021-08-14 19:44:32+00:00\",\"2021-08-14 13:05:49+00:00\",\"2021-08-14 12:30:42+00:00\",\"2021-08-14 10:56:24+00:00\",\"2021-08-14 21:23:46+00:00\",\"2021-08-14 11:43:08+00:00\",\"2021-08-14 11:00:56+00:00\",\"2021-08-15 00:00:38+00:00\",\"2021-08-14 22:00:46+00:00\",\"2021-08-14 21:20:37+00:00\",\"2021-08-13 20:39:54+00:00\",\"2021-08-13 16:01:40+00:00\",\"2021-08-13 09:28:12+00:00\",\"2021-08-13 08:25:00+00:00\",\"2021-08-13 18:33:12+00:00\",\"2021-08-13 08:56:57+00:00\",\"2021-08-13 15:42:41+00:00\",\"2021-08-13 09:00:26+00:00\",\"2021-08-13 15:11:30+00:00\",\"2021-08-13 12:31:49+00:00\",\"2021-08-13 17:47:32+00:00\",\"2021-08-13 10:34:58+00:00\",\"2021-08-13 23:00:47+00:00\",\"2021-08-13 11:13:00+00:00\",\"2021-08-13 09:11:00+00:00\",\"2021-08-13 05:08:00+00:00\",\"2021-08-15 10:44:28+00:00\",\"2021-08-14 09:59:43+00:00\",\"2021-08-14 15:21:12+00:00\",\"2021-08-14 23:00:42+00:00\",\"2021-08-13 14:11:54+00:00\",\"2021-08-13 13:00:16+00:00\",\"2021-08-13 20:00:59+00:00\",\"2021-08-13 18:58:52+00:00\",\"2021-08-13 20:00:32+00:00\",\"2021-08-12 07:04:56+00:00\",\"2021-08-12 19:00:00+00:00\",\"2021-08-12 21:00:05+00:00\",\"2021-08-11 11:02:40+00:00\",\"2021-08-11 07:00:10+00:00\",\"2021-08-11 23:00:50+00:00\",\"2021-08-11 17:45:00+00:00\",\"2021-08-10 11:46:28+00:00\",\"2021-08-10 13:34:43+00:00\",\"2021-08-10 11:22:00+00:00\",\"2021-08-10 04:59:54+00:00\",\"2021-08-09 14:53:13+00:00\",\"2021-08-09 15:00:42+00:00\",\"2021-08-09 09:09:16+00:00\",\"2021-08-09 13:00:33+00:00\",\"2021-08-09 10:39:12+00:00\",\"2021-08-09 20:00:37+00:00\",\"2021-08-09 14:00:21+00:00\",\"2021-08-08 11:06:55+00:00\",\"2021-08-09 00:15:52+00:00\",\"2021-08-08 18:00:12+00:00\",\"2021-08-07 13:00:10+00:00\",\"2021-08-07 11:07:47+00:00\",\"2021-08-06 18:30:55+00:00\",\"2021-08-06 14:29:34+00:00\",\"2021-08-05 17:17:00+00:00\",\"2021-08-05 22:27:29+00:00\",\"2021-08-05 15:42:43+00:00\",\"2021-08-04 20:54:58+00:00\",\"2021-08-04 14:30:44+00:00\",\"2021-08-04 15:30:20+00:00\",\"2021-08-05 03:17:34+00:00\",\"2021-08-04 15:00:58+00:00\",\"2021-08-03 09:10:12+00:00\",\"2021-08-03 10:38:14+00:00\",\"2021-08-03 12:12:00+00:00\",\"2021-08-03 18:00:17+00:00\",\"2021-08-03 01:45:45+00:00\",\"2021-08-01 14:00:00+00:00\",\"2021-08-12 05:55:00+00:00\",\"2021-08-10 10:07:09+00:00\",\"2021-08-09 14:14:38+00:00\",\"2021-08-07 06:01:21+00:00\",\"2021-08-06 16:32:53+00:00\",\"2021-08-06 14:46:27+00:00\",\"2021-08-06 10:07:38+00:00\",\"2021-08-06 03:30:34+00:00\",\"2021-08-05 17:00:11+00:00\",\"2021-08-04 13:30:31+00:00\",\"2021-08-04 10:00:53+00:00\",\"2021-08-04 21:41:14+00:00\",\"2021-08-04 10:23:22+00:00\",\"2021-08-03 07:59:30+00:00\",\"2021-08-02 17:41:00+00:00\",\"2021-08-01 09:00:27+00:00\",\"2021-08-01 23:43:17+00:00\",\"2021-07-29 18:45:34+00:00\",\"2021-07-29 14:52:36+00:00\",\"2021-07-28 19:02:49+00:00\",\"2021-07-28 22:00:10+00:00\",\"2021-07-27 06:39:12+00:00\",\"2021-07-27 12:32:21+00:00\",\"2021-07-27 09:38:05+00:00\",\"2021-07-28 02:00:29+00:00\",\"2021-07-27 10:46:14+00:00\",\"2021-07-27 18:00:27+00:00\",\"2021-07-27 19:23:26+00:00\",\"2021-07-27 16:00:18+00:00\",\"2021-07-27 11:31:57+00:00\",\"2021-07-27 13:24:20+00:00\",\"2021-07-27 16:56:06+00:00\",\"2021-07-27 18:16:42+00:00\",\"2021-07-27 11:00:34+00:00\",\"2021-07-27 10:41:54+00:00\",\"2021-07-26 09:00:41+00:00\",\"2021-07-26 22:00:31+00:00\",\"2021-07-23 20:30:16+00:00\",\"2021-07-23 08:02:00+00:00\",\"2021-07-22 08:50:26+00:00\",\"2021-07-20 18:00:53+00:00\",\"2021-07-19 20:00:32+00:00\",\"2021-07-18 02:30:37+00:00\",\"2021-07-14 11:00:04+00:00\",\"2021-07-14 11:03:29+00:00\",\"2021-07-11 20:00:57+00:00\",\"2021-07-06 22:00:49+00:00\",\"2021-07-06 10:09:03+00:00\",\"2021-06-30 10:31:24+00:00\",\"2021-08-15 10:10:00+00:00\",\"2021-08-15 11:51:00+00:00\",\"2021-08-15 13:37:18+00:00\",\"2021-08-15 16:55:56+00:00\",\"2021-08-15 16:00:41+00:00\",\"2021-08-15 13:10:03+00:00\",\"2021-08-15 12:56:08+00:00\",\"2021-08-15 12:14:16+00:00\",\"2021-08-15 12:43:19+00:00\",\"2021-08-15 08:30:00+00:00\",\"2021-08-14 19:00:44+00:00\",\"2021-08-15 01:00:37+00:00\",\"2021-08-14 18:16:00+00:00\",\"2021-08-14 04:30:04+00:00\",\"2021-08-14 14:25:48+00:00\",\"2021-08-15 03:40:31+00:00\",\"2021-08-14 21:00:46+00:00\",\"2021-08-14 12:20:41+00:00\",\"2021-08-14 13:32:34+00:00\",\"2021-08-14 19:00:22+00:00\",\"2021-08-14 10:51:47+00:00\",\"2021-08-13 21:00:53+00:00\",\"2021-08-13 19:48:05+00:00\",\"2021-08-13 09:37:03+00:00\",\"2021-08-13 20:50:07+00:00\",\"2021-08-13 23:00:35+00:00\",\"2021-08-13 16:03:06+00:00\",\"2021-08-13 16:00:47+00:00\",\"2021-08-13 11:45:00+00:00\",\"2021-08-13 15:57:00+00:00\",\"2021-08-13 05:19:28+00:00\",\"2021-08-13 07:09:40+00:00\",\"2021-08-13 21:00:42+00:00\",\"2021-08-12 09:13:44+00:00\",\"2021-08-12 17:30:33+00:00\",\"2021-08-12 13:11:43+00:00\",\"2021-08-12 07:06:06+00:00\",\"2021-08-12 13:28:24+00:00\",\"2021-08-12 17:00:34+00:00\",\"2021-08-12 10:25:04+00:00\",\"2021-08-12 09:38:18+00:00\",\"2021-08-12 17:52:25+00:00\",\"2021-08-15 17:46:19+00:00\",\"2021-08-15 18:00:09+00:00\",\"2021-08-15 18:00:18+00:00\",\"2021-08-15 15:55:17+00:00\",\"2021-08-15 14:34:11+00:00\",\"2021-08-15 15:21:19+00:00\",\"2021-08-13 08:00:10+00:00\",\"2021-08-12 10:12:20+00:00\",\"2021-08-12 00:00:00+00:00\",\"2021-08-11 01:53:26+00:00\",\"2021-08-11 02:02:05+00:00\",\"2021-08-10 13:12:36+00:00\",\"2021-08-10 21:00:46+00:00\",\"2021-08-09 09:00:38+00:00\",\"2021-08-06 07:43:14+00:00\",\"2021-08-06 09:42:05+00:00\",\"2021-08-06 10:36:38+00:00\",\"2021-08-06 11:26:25+00:00\",\"2021-08-06 15:24:11+00:00\",\"2021-08-06 15:31:51+00:00\",\"2021-08-05 10:56:10+00:00\",\"2021-08-05 16:11:00+00:00\",\"2021-08-05 17:30:21+00:00\",\"2021-08-05 08:44:08+00:00\",\"2021-08-05 10:58:15+00:00\",\"2021-08-05 14:39:30+00:00\",\"2021-08-05 12:12:00+00:00\",\"2021-08-04 17:39:00+00:00\",\"2021-08-04 22:28:08+00:00\",\"2021-08-03 16:57:20+00:00\",\"2021-08-03 18:15:23+00:00\",\"2021-08-03 17:30:58+00:00\",\"2021-08-03 17:05:34+00:00\",\"2021-08-03 18:44:01+00:00\",\"2021-08-02 14:31:00+00:00\",\"2021-08-03 02:30:33+00:00\",\"2021-08-02 07:45:06+00:00\",\"2021-08-03 01:01:13+00:00\",\"2021-08-02 19:58:36+00:00\",\"2021-08-02 16:01:04+00:00\",\"2021-08-02 09:17:50+00:00\",\"2021-08-02 13:00:29+00:00\",\"2021-08-02 18:30:42+00:00\",\"2021-08-02 22:00:38+00:00\",\"2021-08-01 16:13:34+00:00\",\"2021-08-01 19:24:22+00:00\",\"2021-08-01 18:38:00+00:00\",\"2021-07-31 14:19:03+00:00\",\"2021-07-30 17:16:04+00:00\",\"2021-07-30 04:19:50+00:00\",\"2021-07-30 19:10:50+00:00\",\"2021-07-30 12:04:11+00:00\",\"2021-07-30 18:30:32+00:00\",\"2021-07-30 17:52:25+00:00\",\"2021-07-30 15:13:15+00:00\",\"2021-08-12 22:45:07+00:00\",\"2021-08-05 20:28:26+00:00\",\"2021-08-04 13:30:27+00:00\",\"2021-08-03 18:49:13+00:00\",\"2021-07-28 09:52:38+00:00\",\"2021-07-27 07:51:02+00:00\",\"2021-07-27 18:01:00+00:00\",\"2021-07-24 15:39:38+00:00\",\"2021-07-22 00:50:23+00:00\",\"2021-07-15 20:00:50+00:00\",\"2021-07-14 23:30:38+00:00\",\"2021-07-14 07:17:26+00:00\",\"2021-07-14 18:07:38+00:00\",\"2021-07-14 14:06:43+00:00\",\"2021-07-14 05:27:41+00:00\",\"2021-07-14 10:43:44+00:00\",\"2021-07-14 10:43:08+00:00\",\"2021-07-14 03:08:05+00:00\",\"2021-07-11 11:10:00+00:00\",\"2021-07-05 13:52:04+00:00\",\"2021-07-05 12:00:00+00:00\",\"2021-07-01 13:45:12+00:00\",\"2021-06-30 06:10:19+00:00\",\"2021-06-22 14:00:12+00:00\",\"2021-06-21 10:57:46+00:00\",\"2021-06-21 20:19:13+00:00\",\"2021-06-21 03:11:00+00:00\",\"2021-06-17 09:37:26+00:00\",\"2021-06-17 12:17:20+00:00\",\"2021-06-14 11:15:47+00:00\",\"2021-06-12 06:00:36+00:00\",\"2021-06-08 20:12:28+00:00\",\"2021-06-08 09:07:12+00:00\",\"2021-06-08 21:27:33+00:00\",\"2021-06-02 07:09:13+00:00\",\"2021-05-29 09:53:38+00:00\",\"2021-05-22 21:54:12+00:00\",\"2021-05-21 14:11:54+00:00\",\"2021-05-21 20:42:12+00:00\",\"2021-05-21 19:20:57+00:00\",\"2021-05-20 20:23:34+00:00\",\"2021-05-18 10:57:37+00:00\",\"2021-05-10 13:05:12+00:00\",\"2021-05-09 14:53:00+00:00\",\"2021-05-03 05:07:17+00:00\",\"2021-05-03 12:47:11+00:00\",\"2021-05-03 01:34:49+00:00\",\"2021-05-02 19:25:36+00:00\",\"2021-08-10 14:30:00+00:00\",\"2021-08-09 18:45:29+00:00\",\"2021-08-08 08:01:14+00:00\",\"2021-08-05 17:00:06+00:00\",\"2021-08-04 12:15:38+00:00\",\"2021-08-03 12:50:50+00:00\",\"2021-05-26 06:39:14+00:00\",\"2021-05-21 22:05:09+00:00\",\"2021-05-20 16:10:00+00:00\",\"2021-05-16 10:56:00+00:00\",\"2021-05-13 10:00:41+00:00\",\"2021-05-02 15:10:07+00:00\",\"2021-04-26 18:25:52+00:00\",\"2021-03-02 06:00:52+00:00\",\"2021-03-01 11:36:44+00:00\",\"2021-04-06 12:18:45+00:00\",\"2021-07-24 13:05:07+00:00\",\"2021-07-12 07:15:37+00:00\",\"2021-07-05 10:18:57+00:00\",\"2021-06-19 12:34:38+00:00\",\"2021-06-18 20:47:54+00:00\",\"2021-06-10 07:20:40+00:00\",\"2021-06-09 11:50:21+00:00\",\"2021-06-09 11:30:23+00:00\",\"2021-06-08 13:16:11+00:00\",\"2021-06-08 22:01:13+00:00\",\"2021-06-07 21:03:47+00:00\",\"2021-05-17 13:20:00+00:00\",\"2021-05-13 05:52:53+00:00\",\"2021-05-06 23:31:58+00:00\",\"2021-05-05 20:37:58+00:00\",\"2021-05-05 16:00:25+00:00\",\"2021-04-15 04:30:56+00:00\",\"2021-04-15 04:00:05+00:00\",\"2021-04-14 07:47:32+00:00\",\"2021-03-12 00:29:13+00:00\",\"2021-03-08 13:00:30+00:00\",\"2021-03-05 14:35:00+00:00\",\"2021-03-05 10:02:01+00:00\",\"2021-03-05 13:12:43+00:00\",\"2021-03-04 19:52:34+00:00\",\"2021-03-04 17:54:30+00:00\",\"2021-03-04 16:23:54+00:00\",\"2021-03-04 21:57:12+00:00\",\"2021-03-04 18:00:10+00:00\",\"2021-03-04 23:14:37+00:00\",\"2021-03-02 13:44:48+00:00\",\"2021-08-16 18:45:20+00:00\",\"2021-08-16 18:43:19+00:00\",\"2021-08-17 16:56:32+00:00\",\"2021-08-17 22:22:10+00:00\",\"2021-08-18 06:18:46+00:00\"],\"tags\":[[[\"date\",\"date\",null]]]},\"id\":\"2048\",\"type\":\"FactorRange\"},{\"attributes\":{},\"id\":\"2102\",\"type\":\"UnionRenderers\"},{\"attributes\":{},\"id\":\"2081\",\"type\":\"Selection\"},{\"attributes\":{\"fill_alpha\":{\"value\":0.1},\"fill_color\":{\"value\":\"#30a2da\"},\"line_alpha\":{\"value\":0.1},\"top\":{\"field\":\"rank_score\"},\"width\":{\"value\":0.8},\"x\":{\"field\":\"date\"}},\"id\":\"2084\",\"type\":\"VBar\"},{\"attributes\":{\"data_source\":{\"id\":\"2080\"},\"glyph\":{\"id\":\"2083\"},\"hover_glyph\":null,\"muted_glyph\":{\"id\":\"2085\"},\"nonselection_glyph\":{\"id\":\"2084\"},\"selection_glyph\":{\"id\":\"2088\"},\"view\":{\"id\":\"2087\"}},\"id\":\"2086\",\"type\":\"GlyphRenderer\"},{\"attributes\":{\"source\":{\"id\":\"2080\"}},\"id\":\"2087\",\"type\":\"CDSView\"},{\"attributes\":{\"fill_alpha\":{\"value\":0.2},\"fill_color\":{\"value\":\"#30a2da\"},\"line_alpha\":{\"value\":0.2},\"top\":{\"field\":\"rank_score\"},\"width\":{\"value\":0.8},\"x\":{\"field\":\"date\"}},\"id\":\"2085\",\"type\":\"VBar\"},{\"attributes\":{\"data\":{\"date\":[\"2021-08-15 13:45:13+00:00\",\"2021-08-15 17:00:00+00:00\",\"2021-08-15 09:36:18+00:00\",\"2021-08-15 13:30:37+00:00\",\"2021-08-15 09:00:45+00:00\",\"2021-08-15 15:00:16+00:00\",\"2021-08-15 07:45:00+00:00\",\"2021-08-15 10:54:26+00:00\",\"2021-08-15 15:09:51+00:00\",\"2021-08-15 11:26:25+00:00\",\"2021-08-15 15:00:00+00:00\",\"2021-08-15 12:00:51+00:00\",\"2021-08-15 13:42:24+00:00\",\"2021-08-15 17:00:00+00:00\",\"2021-08-15 17:00:59+00:00\",\"2021-08-15 11:00:32+00:00\",\"2021-08-15 09:00:41+00:00\",\"2021-08-15 17:00:59+00:00\",\"2021-08-15 12:46:46+00:00\",\"2021-08-15 16:18:03+00:00\",\"2021-08-15 11:00:00+00:00\",\"2021-08-15 13:00:43+00:00\",\"2021-08-15 09:49:00+00:00\",\"2021-08-15 11:09:50+00:00\",\"2021-08-15 15:00:16+00:00\",\"2021-08-14 19:26:26+00:00\",\"2021-08-14 14:44:58+00:00\",\"2021-08-14 13:33:00+00:00\",\"2021-08-14 10:31:00+00:00\",\"2021-08-14 08:47:01+00:00\",\"2021-08-14 12:02:54+00:00\",\"2021-08-15 03:00:50+00:00\",\"2021-08-14 20:00:22+00:00\",\"2021-08-14 11:45:46+00:00\",\"2021-08-14 15:00:27+00:00\",\"2021-08-14 08:00:06+00:00\",\"2021-08-14 10:37:26+00:00\",\"2021-08-14 17:00:23+00:00\",\"2021-08-14 12:02:00+00:00\",\"2021-08-14 20:39:13+00:00\",\"2021-08-14 18:34:42+00:00\",\"2021-08-14 11:28:43+00:00\",\"2021-08-14 08:21:45+00:00\",\"2021-08-14 08:22:33+00:00\",\"2021-08-14 12:38:30+00:00\",\"2021-08-15 00:00:00+00:00\",\"2021-08-14 15:00:00+00:00\",\"2021-08-14 19:02:00+00:00\",\"2021-08-14 17:49:00+00:00\",\"2021-08-14 06:01:23+00:00\",\"2021-08-15 14:16:16+00:00\",\"2021-08-15 14:31:00+00:00\",\"2021-08-15 11:09:22+00:00\",\"2021-08-15 17:15:00+00:00\",\"2021-08-15 11:37:13+00:00\",\"2021-08-15 07:04:40+00:00\",\"2021-08-14 22:02:03+00:00\",\"2021-08-14 18:45:30+00:00\",\"2021-08-14 17:01:45+00:00\",\"2021-08-14 13:32:05+00:00\",\"2021-08-14 08:23:29+00:00\",\"2021-08-14 16:29:57+00:00\",\"2021-08-14 17:00:17+00:00\",\"2021-08-14 20:29:33+00:00\",\"2021-08-14 23:01:29+00:00\",\"2021-08-14 17:15:00+00:00\",\"2021-08-14 08:21:00+00:00\",\"2021-08-14 10:10:00+00:00\",\"2021-08-14 12:31:21+00:00\",\"2021-08-14 07:00:00+00:00\",\"2021-08-14 15:00:39+00:00\",\"2021-08-14 12:36:54+00:00\",\"2021-08-14 20:00:43+00:00\",\"2021-08-14 04:59:08+00:00\",\"2021-08-14 13:26:12+00:00\",\"2021-08-13 07:32:47+00:00\",\"2021-08-13 07:38:34+00:00\",\"2021-08-13 20:29:12+00:00\",\"2021-08-13 09:34:12+00:00\",\"2021-08-13 19:34:06+00:00\",\"2021-08-13 09:46:37+00:00\",\"2021-08-13 11:30:47+00:00\",\"2021-08-13 15:25:16+00:00\",\"2021-08-13 15:46:41+00:00\",\"2021-08-13 07:04:22+00:00\",\"2021-08-13 16:44:53+00:00\",\"2021-08-13 18:00:58+00:00\",\"2021-08-13 21:15:48+00:00\",\"2021-08-13 15:37:56+00:00\",\"2021-08-13 16:59:18+00:00\",\"2021-08-13 21:16:07+00:00\",\"2021-08-13 16:17:57+00:00\",\"2021-08-13 05:08:06+00:00\",\"2021-08-13 07:38:00+00:00\",\"2021-08-13 10:16:00+00:00\",\"2021-08-13 18:35:00+00:00\",\"2021-08-13 17:15:00+00:00\",\"2021-08-13 12:47:14+00:00\",\"2021-08-15 13:55:51+00:00\",\"2021-08-15 17:00:09+00:00\",\"2021-08-15 08:53:38+00:00\",\"2021-08-15 16:09:11+00:00\",\"2021-08-15 06:11:10+00:00\",\"2021-08-14 04:30:02+00:00\",\"2021-08-14 09:00:59+00:00\",\"2021-08-14 17:49:49+00:00\",\"2021-08-14 17:21:33+00:00\",\"2021-08-14 04:00:50+00:00\",\"2021-08-14 19:00:40+00:00\",\"2021-08-14 14:00:51+00:00\",\"2021-08-14 09:40:11+00:00\",\"2021-08-14 12:00:55+00:00\",\"2021-08-14 18:01:13+00:00\",\"2021-08-14 10:15:00+00:00\",\"2021-08-14 05:30:00+00:00\",\"2021-08-14 12:37:28+00:00\",\"2021-08-14 19:44:32+00:00\",\"2021-08-14 13:05:49+00:00\",\"2021-08-14 12:30:42+00:00\",\"2021-08-14 10:56:24+00:00\",\"2021-08-14 21:23:46+00:00\",\"2021-08-14 15:00:00+00:00\",\"2021-08-14 11:43:08+00:00\",\"2021-08-14 11:00:56+00:00\",\"2021-08-15 00:00:38+00:00\",\"2021-08-14 22:00:46+00:00\",\"2021-08-14 21:20:37+00:00\",\"2021-08-13 20:39:54+00:00\",\"2021-08-13 16:01:40+00:00\",\"2021-08-13 09:28:12+00:00\",\"2021-08-13 08:25:00+00:00\",\"2021-08-13 18:33:12+00:00\",\"2021-08-13 08:56:57+00:00\",\"2021-08-13 15:42:41+00:00\",\"2021-08-13 09:00:26+00:00\",\"2021-08-13 15:11:30+00:00\",\"2021-08-13 12:31:49+00:00\",\"2021-08-13 17:47:32+00:00\",\"2021-08-13 10:34:58+00:00\",\"2021-08-13 23:00:47+00:00\",\"2021-08-13 11:13:00+00:00\",\"2021-08-13 09:11:00+00:00\",\"2021-08-13 05:08:00+00:00\",\"2021-08-15 10:44:28+00:00\",\"2021-08-14 09:59:43+00:00\",\"2021-08-14 15:21:12+00:00\",\"2021-08-14 23:00:42+00:00\",\"2021-08-13 14:11:54+00:00\",\"2021-08-13 13:00:16+00:00\",\"2021-08-13 20:00:59+00:00\",\"2021-08-13 18:58:52+00:00\",\"2021-08-13 20:00:32+00:00\",\"2021-08-12 07:04:56+00:00\",\"2021-08-12 19:00:00+00:00\",\"2021-08-12 21:00:05+00:00\",\"2021-08-11 11:02:40+00:00\",\"2021-08-11 07:00:10+00:00\",\"2021-08-11 23:00:50+00:00\",\"2021-08-11 17:45:00+00:00\",\"2021-08-10 11:46:28+00:00\",\"2021-08-10 13:34:43+00:00\",\"2021-08-10 11:22:00+00:00\",\"2021-08-10 04:59:54+00:00\",\"2021-08-09 14:53:13+00:00\",\"2021-08-09 15:00:42+00:00\",\"2021-08-09 09:09:16+00:00\",\"2021-08-09 13:00:33+00:00\",\"2021-08-09 10:39:12+00:00\",\"2021-08-09 20:00:37+00:00\",\"2021-08-09 14:00:21+00:00\",\"2021-08-08 11:06:55+00:00\",\"2021-08-09 00:15:52+00:00\",\"2021-08-08 18:00:12+00:00\",\"2021-08-07 13:00:10+00:00\",\"2021-08-07 11:07:47+00:00\",\"2021-08-06 18:30:55+00:00\",\"2021-08-06 14:29:34+00:00\",\"2021-08-05 17:17:00+00:00\",\"2021-08-05 22:27:29+00:00\",\"2021-08-05 15:42:43+00:00\",\"2021-08-04 20:54:58+00:00\",\"2021-08-04 14:30:44+00:00\",\"2021-08-04 15:30:20+00:00\",\"2021-08-05 03:17:34+00:00\",\"2021-08-04 15:00:58+00:00\",\"2021-08-04 15:00:58+00:00\",\"2021-08-03 09:10:12+00:00\",\"2021-08-03 10:38:14+00:00\",\"2021-08-03 12:12:00+00:00\",\"2021-08-03 18:00:17+00:00\",\"2021-08-03 01:45:45+00:00\",\"2021-08-01 14:00:00+00:00\",\"2021-08-12 05:55:00+00:00\",\"2021-08-10 10:07:09+00:00\",\"2021-08-09 14:14:38+00:00\",\"2021-08-07 06:01:21+00:00\",\"2021-08-06 16:32:53+00:00\",\"2021-08-06 14:46:27+00:00\",\"2021-08-06 10:07:38+00:00\",\"2021-08-06 03:30:34+00:00\",\"2021-08-05 17:00:11+00:00\",\"2021-08-04 13:30:31+00:00\",\"2021-08-04 10:00:53+00:00\",\"2021-08-04 21:41:14+00:00\",\"2021-08-04 10:23:22+00:00\",\"2021-08-03 07:59:30+00:00\",\"2021-08-02 17:41:00+00:00\",\"2021-08-01 09:00:27+00:00\",\"2021-08-01 23:43:17+00:00\",\"2021-07-29 18:45:34+00:00\",\"2021-07-29 14:52:36+00:00\",\"2021-07-28 19:02:49+00:00\",\"2021-07-28 22:00:10+00:00\",\"2021-07-27 06:39:12+00:00\",\"2021-07-27 12:32:21+00:00\",\"2021-07-27 09:38:05+00:00\",\"2021-07-28 02:00:29+00:00\",\"2021-07-27 10:46:14+00:00\",\"2021-07-27 18:00:27+00:00\",\"2021-07-27 19:23:26+00:00\",\"2021-07-27 16:00:18+00:00\",\"2021-07-27 11:31:57+00:00\",\"2021-07-27 13:24:20+00:00\",\"2021-07-27 16:56:06+00:00\",\"2021-07-27 18:16:42+00:00\",\"2021-07-27 11:00:34+00:00\",\"2021-07-27 10:41:54+00:00\",\"2021-07-26 09:00:41+00:00\",\"2021-07-26 22:00:31+00:00\",\"2021-07-23 20:30:16+00:00\",\"2021-07-23 08:02:00+00:00\",\"2021-07-22 08:50:26+00:00\",\"2021-07-20 18:00:53+00:00\",\"2021-07-19 20:00:32+00:00\",\"2021-07-18 02:30:37+00:00\",\"2021-07-14 11:00:04+00:00\",\"2021-07-14 11:03:29+00:00\",\"2021-07-11 20:00:57+00:00\",\"2021-07-06 22:00:49+00:00\",\"2021-07-06 10:09:03+00:00\",\"2021-06-30 10:31:24+00:00\",\"2021-08-15 10:10:00+00:00\",\"2021-08-15 11:51:00+00:00\",\"2021-08-15 13:37:18+00:00\",\"2021-08-15 16:55:56+00:00\",\"2021-08-15 16:00:41+00:00\",\"2021-08-15 13:10:03+00:00\",\"2021-08-15 12:56:08+00:00\",\"2021-08-15 12:14:16+00:00\",\"2021-08-15 12:43:19+00:00\",\"2021-08-15 08:30:00+00:00\",\"2021-08-14 19:00:44+00:00\",\"2021-08-15 01:00:37+00:00\",\"2021-08-14 18:16:00+00:00\",\"2021-08-14 04:30:04+00:00\",\"2021-08-14 14:25:48+00:00\",\"2021-08-15 03:40:31+00:00\",\"2021-08-14 21:00:46+00:00\",\"2021-08-14 12:20:41+00:00\",\"2021-08-14 13:32:34+00:00\",\"2021-08-14 19:00:22+00:00\",\"2021-08-14 10:51:47+00:00\",\"2021-08-13 21:00:53+00:00\",\"2021-08-13 19:48:05+00:00\",\"2021-08-13 09:37:03+00:00\",\"2021-08-13 20:50:07+00:00\",\"2021-08-13 23:00:35+00:00\",\"2021-08-13 16:03:06+00:00\",\"2021-08-13 16:00:47+00:00\",\"2021-08-13 11:45:00+00:00\",\"2021-08-13 15:57:00+00:00\",\"2021-08-13 05:19:28+00:00\",\"2021-08-13 07:09:40+00:00\",\"2021-08-13 21:00:42+00:00\",\"2021-08-12 09:13:44+00:00\",\"2021-08-12 17:30:33+00:00\",\"2021-08-12 13:11:43+00:00\",\"2021-08-12 07:06:06+00:00\",\"2021-08-12 13:28:24+00:00\",\"2021-08-12 17:00:34+00:00\",\"2021-08-12 10:25:04+00:00\",\"2021-08-12 09:38:18+00:00\",\"2021-08-12 17:52:25+00:00\",\"2021-08-15 17:46:19+00:00\",\"2021-08-15 18:00:09+00:00\",\"2021-08-15 18:00:18+00:00\",\"2021-08-15 15:00:16+00:00\",\"2021-08-15 15:09:51+00:00\",\"2021-08-15 15:00:00+00:00\",\"2021-08-15 13:55:51+00:00\",\"2021-08-15 17:46:19+00:00\",\"2021-08-15 17:00:00+00:00\",\"2021-08-15 17:00:59+00:00\",\"2021-08-15 18:00:09+00:00\",\"2021-08-15 17:15:00+00:00\",\"2021-08-15 17:00:09+00:00\",\"2021-08-15 16:00:41+00:00\",\"2021-08-15 15:55:17+00:00\",\"2021-08-15 14:34:11+00:00\",\"2021-08-15 15:21:19+00:00\",\"2021-08-13 08:00:10+00:00\",\"2021-08-12 10:12:20+00:00\",\"2021-08-12 00:00:00+00:00\",\"2021-08-11 01:53:26+00:00\",\"2021-08-11 02:02:05+00:00\",\"2021-08-10 13:12:36+00:00\",\"2021-08-10 21:00:46+00:00\",\"2021-08-09 09:00:38+00:00\",\"2021-08-06 07:43:14+00:00\",\"2021-08-06 09:42:05+00:00\",\"2021-08-06 10:36:38+00:00\",\"2021-08-06 11:26:25+00:00\",\"2021-08-06 15:24:11+00:00\",\"2021-08-06 15:31:51+00:00\",\"2021-08-05 10:56:10+00:00\",\"2021-08-05 16:11:00+00:00\",\"2021-08-05 17:30:21+00:00\",\"2021-08-05 08:44:08+00:00\",\"2021-08-05 10:58:15+00:00\",\"2021-08-05 14:39:30+00:00\",\"2021-08-05 12:12:00+00:00\",\"2021-08-04 17:39:00+00:00\",\"2021-08-04 22:28:08+00:00\",\"2021-08-03 16:57:20+00:00\",\"2021-08-03 18:15:23+00:00\",\"2021-08-03 17:30:58+00:00\",\"2021-08-03 17:05:34+00:00\",\"2021-08-03 18:44:01+00:00\",\"2021-08-02 14:31:00+00:00\",\"2021-08-03 02:30:33+00:00\",\"2021-08-02 07:45:06+00:00\",\"2021-08-03 01:01:13+00:00\",\"2021-08-02 19:58:36+00:00\",\"2021-08-02 16:01:04+00:00\",\"2021-08-02 09:17:50+00:00\",\"2021-08-02 13:00:29+00:00\",\"2021-08-02 18:30:42+00:00\",\"2021-08-02 22:00:38+00:00\",\"2021-08-01 16:13:34+00:00\",\"2021-08-01 19:24:22+00:00\",\"2021-08-01 18:38:00+00:00\",\"2021-07-31 14:19:03+00:00\",\"2021-07-30 17:16:04+00:00\",\"2021-07-30 04:19:50+00:00\",\"2021-07-30 19:10:50+00:00\",\"2021-07-30 12:04:11+00:00\",\"2021-07-30 18:30:32+00:00\",\"2021-07-30 17:52:25+00:00\",\"2021-07-30 15:13:15+00:00\",\"2021-08-12 22:45:07+00:00\",\"2021-08-05 20:28:26+00:00\",\"2021-08-04 13:30:27+00:00\",\"2021-08-03 18:49:13+00:00\",\"2021-07-28 09:52:38+00:00\",\"2021-07-27 07:51:02+00:00\",\"2021-07-27 18:01:00+00:00\",\"2021-07-24 15:39:38+00:00\",\"2021-07-22 00:50:23+00:00\",\"2021-07-15 20:00:50+00:00\",\"2021-07-14 23:30:38+00:00\",\"2021-07-14 07:17:26+00:00\",\"2021-07-14 18:07:38+00:00\",\"2021-07-14 14:06:43+00:00\",\"2021-07-14 05:27:41+00:00\",\"2021-07-14 10:43:44+00:00\",\"2021-07-14 10:43:08+00:00\",\"2021-07-14 03:08:05+00:00\",\"2021-07-11 11:10:00+00:00\",\"2021-07-05 13:52:04+00:00\",\"2021-07-05 12:00:00+00:00\",\"2021-07-01 13:45:12+00:00\",\"2021-06-30 06:10:19+00:00\",\"2021-06-22 14:00:12+00:00\",\"2021-06-21 10:57:46+00:00\",\"2021-06-21 20:19:13+00:00\",\"2021-06-21 03:11:00+00:00\",\"2021-06-17 09:37:26+00:00\",\"2021-06-17 12:17:20+00:00\",\"2021-06-14 11:15:47+00:00\",\"2021-06-12 06:00:36+00:00\",\"2021-06-08 20:12:28+00:00\",\"2021-06-08 09:07:12+00:00\",\"2021-06-08 21:27:33+00:00\",\"2021-06-02 07:09:13+00:00\",\"2021-05-29 09:53:38+00:00\",\"2021-05-22 21:54:12+00:00\",\"2021-05-21 14:11:54+00:00\",\"2021-05-21 20:42:12+00:00\",\"2021-05-21 19:20:57+00:00\",\"2021-05-20 20:23:34+00:00\",\"2021-05-18 10:57:37+00:00\",\"2021-05-10 13:05:12+00:00\",\"2021-05-09 14:53:00+00:00\",\"2021-05-03 05:07:17+00:00\",\"2021-05-03 12:47:11+00:00\",\"2021-05-03 01:34:49+00:00\",\"2021-05-02 19:25:36+00:00\",\"2021-08-10 14:30:00+00:00\",\"2021-08-09 18:45:29+00:00\",\"2021-08-08 08:01:14+00:00\",\"2021-08-05 17:00:06+00:00\",\"2021-08-04 12:15:38+00:00\",\"2021-08-03 12:50:50+00:00\",\"2021-05-26 06:39:14+00:00\",\"2021-05-21 22:05:09+00:00\",\"2021-05-20 16:10:00+00:00\",\"2021-05-16 10:56:00+00:00\",\"2021-05-13 10:00:41+00:00\",\"2021-05-02 15:10:07+00:00\",\"2021-04-26 18:25:52+00:00\",\"2021-03-02 06:00:52+00:00\",\"2021-03-01 11:36:44+00:00\",\"2021-04-06 12:18:45+00:00\",\"2021-07-24 13:05:07+00:00\",\"2021-07-12 07:15:37+00:00\",\"2021-07-05 10:18:57+00:00\",\"2021-06-19 12:34:38+00:00\",\"2021-06-18 20:47:54+00:00\",\"2021-06-10 07:20:40+00:00\",\"2021-06-09 11:50:21+00:00\",\"2021-06-09 11:30:23+00:00\",\"2021-06-08 13:16:11+00:00\",\"2021-06-08 22:01:13+00:00\",\"2021-06-07 21:03:47+00:00\",\"2021-05-17 13:20:00+00:00\",\"2021-05-13 05:52:53+00:00\",\"2021-05-06 23:31:58+00:00\",\"2021-05-05 20:37:58+00:00\",\"2021-05-05 16:00:25+00:00\",\"2021-04-15 04:30:56+00:00\",\"2021-04-15 04:00:05+00:00\",\"2021-04-14 07:47:32+00:00\",\"2021-03-12 00:29:13+00:00\",\"2021-03-08 13:00:30+00:00\",\"2021-03-05 14:35:00+00:00\",\"2021-03-05 10:02:01+00:00\",\"2021-03-05 13:12:43+00:00\",\"2021-03-04 19:52:34+00:00\",\"2021-03-04 17:54:30+00:00\",\"2021-03-04 16:23:54+00:00\",\"2021-03-04 21:57:12+00:00\",\"2021-03-04 18:00:10+00:00\",\"2021-03-04 23:14:37+00:00\",\"2021-03-02 13:44:48+00:00\",\"2021-08-15 17:00:00+00:00\",\"2021-08-13 08:00:10+00:00\",\"2021-08-12 10:12:20+00:00\",\"2021-08-12 00:00:00+00:00\",\"2021-08-11 01:53:26+00:00\",\"2021-08-11 02:02:05+00:00\",\"2021-08-10 13:12:36+00:00\",\"2021-08-10 21:00:46+00:00\",\"2021-08-09 09:00:38+00:00\",\"2021-08-06 07:43:14+00:00\",\"2021-08-06 09:42:05+00:00\",\"2021-08-06 10:36:38+00:00\",\"2021-08-06 11:26:25+00:00\",\"2021-08-06 15:24:11+00:00\",\"2021-08-06 15:31:51+00:00\",\"2021-08-05 10:56:10+00:00\",\"2021-08-05 16:11:00+00:00\",\"2021-08-05 17:30:21+00:00\",\"2021-08-05 08:44:08+00:00\",\"2021-08-05 10:58:15+00:00\",\"2021-08-05 14:39:30+00:00\",\"2021-08-05 12:12:00+00:00\",\"2021-08-04 17:39:00+00:00\",\"2021-08-04 22:28:08+00:00\",\"2021-08-03 16:57:20+00:00\",\"2021-08-03 18:15:23+00:00\",\"2021-08-03 17:30:58+00:00\",\"2021-08-03 17:05:34+00:00\",\"2021-08-03 18:44:01+00:00\",\"2021-08-02 14:31:00+00:00\",\"2021-08-03 02:30:33+00:00\",\"2021-08-02 07:45:06+00:00\",\"2021-08-03 01:01:13+00:00\",\"2021-08-02 19:58:36+00:00\",\"2021-08-02 16:01:04+00:00\",\"2021-08-02 09:17:50+00:00\",\"2021-08-02 13:00:29+00:00\",\"2021-08-02 18:30:42+00:00\",\"2021-08-02 22:00:38+00:00\",\"2021-08-01 16:13:34+00:00\",\"2021-08-01 19:24:22+00:00\",\"2021-08-01 18:38:00+00:00\",\"2021-07-31 14:19:03+00:00\",\"2021-07-30 17:16:04+00:00\",\"2021-07-30 04:19:50+00:00\",\"2021-07-30 19:10:50+00:00\",\"2021-07-30 12:04:11+00:00\",\"2021-07-30 18:30:32+00:00\",\"2021-07-30 17:52:25+00:00\",\"2021-07-30 15:13:15+00:00\",\"2021-08-15 18:00:09+00:00\",\"2021-08-12 22:45:07+00:00\",\"2021-08-05 20:28:26+00:00\",\"2021-08-04 13:30:27+00:00\",\"2021-08-03 18:49:13+00:00\",\"2021-07-28 09:52:38+00:00\",\"2021-07-27 07:51:02+00:00\",\"2021-07-27 18:01:00+00:00\",\"2021-07-24 15:39:38+00:00\",\"2021-07-22 00:50:23+00:00\",\"2021-07-15 20:00:50+00:00\",\"2021-07-14 23:30:38+00:00\",\"2021-07-14 07:17:26+00:00\",\"2021-07-14 18:07:38+00:00\",\"2021-07-14 14:06:43+00:00\",\"2021-07-14 05:27:41+00:00\",\"2021-07-14 10:43:44+00:00\",\"2021-07-14 10:43:08+00:00\",\"2021-07-14 03:08:05+00:00\",\"2021-07-11 11:10:00+00:00\",\"2021-07-05 13:52:04+00:00\",\"2021-07-05 12:00:00+00:00\",\"2021-07-01 13:45:12+00:00\",\"2021-06-30 06:10:19+00:00\",\"2021-06-22 14:00:12+00:00\",\"2021-06-21 10:57:46+00:00\",\"2021-06-21 20:19:13+00:00\",\"2021-06-21 03:11:00+00:00\",\"2021-06-17 09:37:26+00:00\",\"2021-06-17 12:17:20+00:00\",\"2021-06-14 11:15:47+00:00\",\"2021-06-12 06:00:36+00:00\",\"2021-06-08 20:12:28+00:00\",\"2021-06-08 09:07:12+00:00\",\"2021-06-08 21:27:33+00:00\",\"2021-06-02 07:09:13+00:00\",\"2021-05-29 09:53:38+00:00\",\"2021-05-22 21:54:12+00:00\",\"2021-05-21 14:11:54+00:00\",\"2021-05-21 20:42:12+00:00\",\"2021-05-21 19:20:57+00:00\",\"2021-05-20 20:23:34+00:00\",\"2021-05-18 10:57:37+00:00\",\"2021-05-10 13:05:12+00:00\",\"2021-05-09 14:53:00+00:00\",\"2021-05-03 05:07:17+00:00\",\"2021-05-03 12:47:11+00:00\",\"2021-05-03 01:34:49+00:00\",\"2021-05-02 19:25:36+00:00\",\"2021-08-10 14:30:00+00:00\",\"2021-08-09 18:45:29+00:00\",\"2021-08-08 08:01:14+00:00\",\"2021-08-05 17:00:06+00:00\",\"2021-08-04 12:15:38+00:00\",\"2021-08-03 12:50:50+00:00\",\"2021-05-26 06:39:14+00:00\",\"2021-05-21 22:05:09+00:00\",\"2021-05-20 16:10:00+00:00\",\"2021-05-16 10:56:00+00:00\",\"2021-05-13 10:00:41+00:00\",\"2021-05-02 15:10:07+00:00\",\"2021-04-26 18:25:52+00:00\",\"2021-03-02 06:00:52+00:00\",\"2021-03-01 11:36:44+00:00\",\"2021-04-06 12:18:45+00:00\",\"2021-07-24 13:05:07+00:00\",\"2021-07-12 07:15:37+00:00\",\"2021-07-05 10:18:57+00:00\",\"2021-06-19 12:34:38+00:00\",\"2021-06-18 20:47:54+00:00\",\"2021-06-10 07:20:40+00:00\",\"2021-06-09 11:50:21+00:00\",\"2021-06-09 11:30:23+00:00\",\"2021-06-08 13:16:11+00:00\",\"2021-06-08 22:01:13+00:00\",\"2021-06-07 21:03:47+00:00\",\"2021-05-17 13:20:00+00:00\",\"2021-05-13 05:52:53+00:00\",\"2021-05-06 23:31:58+00:00\",\"2021-05-05 20:37:58+00:00\",\"2021-05-05 16:00:25+00:00\",\"2021-04-15 04:30:56+00:00\",\"2021-04-15 04:00:05+00:00\",\"2021-04-14 07:47:32+00:00\",\"2021-03-12 00:29:13+00:00\",\"2021-03-08 13:00:30+00:00\",\"2021-03-05 14:35:00+00:00\",\"2021-03-05 10:02:01+00:00\",\"2021-03-05 13:12:43+00:00\",\"2021-03-04 19:52:34+00:00\",\"2021-03-04 17:54:30+00:00\",\"2021-03-04 16:23:54+00:00\",\"2021-03-04 21:57:12+00:00\",\"2021-03-04 18:00:10+00:00\",\"2021-03-04 23:14:37+00:00\",\"2021-03-02 13:44:48+00:00\",\"2021-08-16 18:45:20+00:00\",\"2021-08-15 17:00:00+00:00\",\"2021-08-13 08:00:10+00:00\",\"2021-08-12 10:12:20+00:00\",\"2021-08-12 00:00:00+00:00\",\"2021-08-11 01:53:26+00:00\",\"2021-08-11 02:02:05+00:00\",\"2021-08-10 13:12:36+00:00\",\"2021-08-10 21:00:46+00:00\",\"2021-08-09 09:00:38+00:00\",\"2021-08-06 07:43:14+00:00\",\"2021-08-06 09:42:05+00:00\",\"2021-08-06 10:36:38+00:00\",\"2021-08-06 11:26:25+00:00\",\"2021-08-06 15:24:11+00:00\",\"2021-08-06 15:31:51+00:00\",\"2021-08-05 10:56:10+00:00\",\"2021-08-05 16:11:00+00:00\",\"2021-08-05 17:30:21+00:00\",\"2021-08-05 08:44:08+00:00\",\"2021-08-05 10:58:15+00:00\",\"2021-08-05 14:39:30+00:00\",\"2021-08-05 12:12:00+00:00\",\"2021-08-04 17:39:00+00:00\",\"2021-08-04 22:28:08+00:00\",\"2021-08-03 16:57:20+00:00\",\"2021-08-03 18:15:23+00:00\",\"2021-08-03 17:30:58+00:00\",\"2021-08-03 17:05:34+00:00\",\"2021-08-03 18:44:01+00:00\",\"2021-08-02 14:31:00+00:00\",\"2021-08-03 02:30:33+00:00\",\"2021-08-02 07:45:06+00:00\",\"2021-08-03 01:01:13+00:00\",\"2021-08-02 19:58:36+00:00\",\"2021-08-02 16:01:04+00:00\",\"2021-08-02 09:17:50+00:00\",\"2021-08-02 13:00:29+00:00\",\"2021-08-02 18:30:42+00:00\",\"2021-08-02 22:00:38+00:00\",\"2021-08-01 16:13:34+00:00\",\"2021-08-01 19:24:22+00:00\",\"2021-08-01 18:38:00+00:00\",\"2021-07-31 14:19:03+00:00\",\"2021-07-30 17:16:04+00:00\",\"2021-07-30 04:19:50+00:00\",\"2021-07-30 19:10:50+00:00\",\"2021-07-30 12:04:11+00:00\",\"2021-07-30 18:30:32+00:00\",\"2021-07-30 17:52:25+00:00\",\"2021-07-30 15:13:15+00:00\",\"2021-08-16 18:45:20+00:00\",\"2021-08-15 18:00:09+00:00\",\"2021-08-12 22:45:07+00:00\",\"2021-08-05 20:28:26+00:00\",\"2021-08-04 13:30:27+00:00\",\"2021-08-03 18:49:13+00:00\",\"2021-07-28 09:52:38+00:00\",\"2021-07-27 07:51:02+00:00\",\"2021-07-27 18:01:00+00:00\",\"2021-07-24 15:39:38+00:00\",\"2021-07-22 00:50:23+00:00\",\"2021-07-15 20:00:50+00:00\",\"2021-07-14 23:30:38+00:00\",\"2021-07-14 07:17:26+00:00\",\"2021-07-14 18:07:38+00:00\",\"2021-07-14 14:06:43+00:00\",\"2021-07-14 05:27:41+00:00\",\"2021-07-14 10:43:44+00:00\",\"2021-07-14 10:43:08+00:00\",\"2021-07-14 03:08:05+00:00\",\"2021-07-11 11:10:00+00:00\",\"2021-07-05 13:52:04+00:00\",\"2021-07-05 12:00:00+00:00\",\"2021-07-01 13:45:12+00:00\",\"2021-06-30 06:10:19+00:00\",\"2021-06-22 14:00:12+00:00\",\"2021-06-21 10:57:46+00:00\",\"2021-06-21 20:19:13+00:00\",\"2021-06-21 03:11:00+00:00\",\"2021-06-17 09:37:26+00:00\",\"2021-06-17 12:17:20+00:00\",\"2021-06-14 11:15:47+00:00\",\"2021-06-12 06:00:36+00:00\",\"2021-06-08 20:12:28+00:00\",\"2021-06-08 09:07:12+00:00\",\"2021-06-08 21:27:33+00:00\",\"2021-06-02 07:09:13+00:00\",\"2021-05-29 09:53:38+00:00\",\"2021-05-22 21:54:12+00:00\",\"2021-05-21 14:11:54+00:00\",\"2021-05-21 20:42:12+00:00\",\"2021-05-21 19:20:57+00:00\",\"2021-05-20 20:23:34+00:00\",\"2021-05-18 10:57:37+00:00\",\"2021-05-10 13:05:12+00:00\",\"2021-05-09 14:53:00+00:00\",\"2021-05-03 05:07:17+00:00\",\"2021-05-03 12:47:11+00:00\",\"2021-05-03 01:34:49+00:00\",\"2021-08-10 14:30:00+00:00\",\"2021-08-09 18:45:29+00:00\",\"2021-08-08 08:01:14+00:00\",\"2021-08-05 17:00:06+00:00\",\"2021-08-04 12:15:38+00:00\",\"2021-08-03 12:50:50+00:00\",\"2021-05-26 06:39:14+00:00\",\"2021-05-21 22:05:09+00:00\",\"2021-05-20 16:10:00+00:00\",\"2021-05-16 10:56:00+00:00\",\"2021-05-13 10:00:41+00:00\",\"2021-05-02 15:10:07+00:00\",\"2021-04-26 18:25:52+00:00\",\"2021-03-02 06:00:52+00:00\",\"2021-03-01 11:36:44+00:00\",\"2021-04-06 12:18:45+00:00\",\"2021-07-24 13:05:07+00:00\",\"2021-07-12 07:15:37+00:00\",\"2021-07-05 10:18:57+00:00\",\"2021-06-19 12:34:38+00:00\",\"2021-06-18 20:47:54+00:00\",\"2021-06-10 07:20:40+00:00\",\"2021-06-09 11:50:21+00:00\",\"2021-06-09 11:30:23+00:00\",\"2021-06-08 13:16:11+00:00\",\"2021-06-08 22:01:13+00:00\",\"2021-06-07 21:03:47+00:00\",\"2021-05-17 13:20:00+00:00\",\"2021-05-13 05:52:53+00:00\",\"2021-05-06 23:31:58+00:00\",\"2021-05-05 20:37:58+00:00\",\"2021-05-05 16:00:25+00:00\",\"2021-04-15 04:30:56+00:00\",\"2021-04-15 04:00:05+00:00\",\"2021-04-14 07:47:32+00:00\",\"2021-03-12 00:29:13+00:00\",\"2021-03-08 13:00:30+00:00\",\"2021-03-05 14:35:00+00:00\",\"2021-03-05 10:02:01+00:00\",\"2021-03-05 13:12:43+00:00\",\"2021-03-04 19:52:34+00:00\",\"2021-03-04 17:54:30+00:00\",\"2021-03-04 16:23:54+00:00\",\"2021-03-04 21:57:12+00:00\",\"2021-03-04 18:00:10+00:00\",\"2021-03-04 23:14:37+00:00\",\"2021-03-02 13:44:48+00:00\",\"2021-08-16 18:43:19+00:00\",\"2021-08-17 16:56:32+00:00\",\"2021-08-16 18:43:19+00:00\",\"2021-08-15 17:00:00+00:00\",\"2021-08-13 08:00:10+00:00\",\"2021-08-12 10:12:20+00:00\",\"2021-08-12 00:00:00+00:00\",\"2021-08-11 01:53:26+00:00\",\"2021-08-11 02:02:05+00:00\",\"2021-08-10 13:12:36+00:00\",\"2021-08-10 21:00:46+00:00\",\"2021-08-09 09:00:38+00:00\",\"2021-08-06 07:43:14+00:00\",\"2021-08-06 09:42:05+00:00\",\"2021-08-06 10:36:38+00:00\",\"2021-08-06 11:26:25+00:00\",\"2021-08-06 15:24:11+00:00\",\"2021-08-06 15:31:51+00:00\",\"2021-08-05 10:56:10+00:00\",\"2021-08-05 16:11:00+00:00\",\"2021-08-05 17:30:21+00:00\",\"2021-08-05 08:44:08+00:00\",\"2021-08-05 10:58:15+00:00\",\"2021-08-05 14:39:30+00:00\",\"2021-08-05 12:12:00+00:00\",\"2021-08-04 17:39:00+00:00\",\"2021-08-04 22:28:08+00:00\",\"2021-08-03 16:57:20+00:00\",\"2021-08-03 18:15:23+00:00\",\"2021-08-03 17:30:58+00:00\",\"2021-08-03 17:05:34+00:00\",\"2021-08-03 18:44:01+00:00\",\"2021-08-02 14:31:00+00:00\",\"2021-08-03 02:30:33+00:00\",\"2021-08-02 07:45:06+00:00\",\"2021-08-03 01:01:13+00:00\",\"2021-08-02 19:58:36+00:00\",\"2021-08-02 16:01:04+00:00\",\"2021-08-02 09:17:50+00:00\",\"2021-08-02 13:00:29+00:00\",\"2021-08-02 18:30:42+00:00\",\"2021-08-02 22:00:38+00:00\",\"2021-08-01 16:13:34+00:00\",\"2021-08-01 19:24:22+00:00\",\"2021-08-01 18:38:00+00:00\",\"2021-07-31 14:19:03+00:00\",\"2021-07-30 17:16:04+00:00\",\"2021-07-30 04:19:50+00:00\",\"2021-07-30 19:10:50+00:00\",\"2021-07-30 12:04:11+00:00\",\"2021-07-30 18:30:32+00:00\",\"2021-07-30 17:52:25+00:00\",\"2021-08-17 16:56:32+00:00\",\"2021-08-16 18:45:20+00:00\",\"2021-08-15 18:00:09+00:00\",\"2021-08-12 22:45:07+00:00\",\"2021-08-05 20:28:26+00:00\",\"2021-08-04 13:30:27+00:00\",\"2021-08-03 18:49:13+00:00\",\"2021-07-28 09:52:38+00:00\",\"2021-07-27 07:51:02+00:00\",\"2021-07-27 18:01:00+00:00\",\"2021-07-24 15:39:38+00:00\",\"2021-07-22 00:50:23+00:00\",\"2021-07-15 20:00:50+00:00\",\"2021-07-14 23:30:38+00:00\",\"2021-07-14 07:17:26+00:00\",\"2021-07-14 18:07:38+00:00\",\"2021-07-14 14:06:43+00:00\",\"2021-07-14 05:27:41+00:00\",\"2021-07-14 10:43:44+00:00\",\"2021-07-14 10:43:08+00:00\",\"2021-07-14 03:08:05+00:00\",\"2021-07-11 11:10:00+00:00\",\"2021-07-05 13:52:04+00:00\",\"2021-07-05 12:00:00+00:00\",\"2021-07-01 13:45:12+00:00\",\"2021-06-30 06:10:19+00:00\",\"2021-06-22 14:00:12+00:00\",\"2021-06-21 10:57:46+00:00\",\"2021-06-21 20:19:13+00:00\",\"2021-06-21 03:11:00+00:00\",\"2021-06-17 09:37:26+00:00\",\"2021-06-17 12:17:20+00:00\",\"2021-06-14 11:15:47+00:00\",\"2021-06-12 06:00:36+00:00\",\"2021-06-08 20:12:28+00:00\",\"2021-06-08 09:07:12+00:00\",\"2021-06-08 21:27:33+00:00\",\"2021-06-02 07:09:13+00:00\",\"2021-05-29 09:53:38+00:00\",\"2021-05-22 21:54:12+00:00\",\"2021-05-21 14:11:54+00:00\",\"2021-05-21 20:42:12+00:00\",\"2021-05-21 19:20:57+00:00\",\"2021-05-20 20:23:34+00:00\",\"2021-05-18 10:57:37+00:00\",\"2021-05-10 13:05:12+00:00\",\"2021-05-09 14:53:00+00:00\",\"2021-05-03 05:07:17+00:00\",\"2021-05-03 12:47:11+00:00\",\"2021-08-10 14:30:00+00:00\",\"2021-08-09 18:45:29+00:00\",\"2021-08-08 08:01:14+00:00\",\"2021-08-05 17:00:06+00:00\",\"2021-08-04 12:15:38+00:00\",\"2021-08-03 12:50:50+00:00\",\"2021-05-26 06:39:14+00:00\",\"2021-05-21 22:05:09+00:00\",\"2021-05-20 16:10:00+00:00\",\"2021-05-16 10:56:00+00:00\",\"2021-05-13 10:00:41+00:00\",\"2021-05-02 15:10:07+00:00\",\"2021-04-26 18:25:52+00:00\",\"2021-03-02 06:00:52+00:00\",\"2021-03-01 11:36:44+00:00\",\"2021-04-06 12:18:45+00:00\",\"2021-07-24 13:05:07+00:00\",\"2021-07-12 07:15:37+00:00\",\"2021-07-05 10:18:57+00:00\",\"2021-06-19 12:34:38+00:00\",\"2021-06-18 20:47:54+00:00\",\"2021-06-10 07:20:40+00:00\",\"2021-06-09 11:50:21+00:00\",\"2021-06-09 11:30:23+00:00\",\"2021-06-08 13:16:11+00:00\",\"2021-06-08 22:01:13+00:00\",\"2021-06-07 21:03:47+00:00\",\"2021-05-17 13:20:00+00:00\",\"2021-05-13 05:52:53+00:00\",\"2021-05-06 23:31:58+00:00\",\"2021-05-05 20:37:58+00:00\",\"2021-05-05 16:00:25+00:00\",\"2021-04-15 04:30:56+00:00\",\"2021-04-15 04:00:05+00:00\",\"2021-04-14 07:47:32+00:00\",\"2021-03-12 00:29:13+00:00\",\"2021-03-08 13:00:30+00:00\",\"2021-03-05 14:35:00+00:00\",\"2021-03-05 10:02:01+00:00\",\"2021-03-05 13:12:43+00:00\",\"2021-03-04 19:52:34+00:00\",\"2021-03-04 17:54:30+00:00\",\"2021-03-04 16:23:54+00:00\",\"2021-03-04 21:57:12+00:00\",\"2021-03-04 18:00:10+00:00\",\"2021-03-04 23:14:37+00:00\",\"2021-03-02 13:44:48+00:00\",\"2021-08-17 22:22:10+00:00\",\"2021-08-17 22:22:10+00:00\",\"2021-08-18 06:18:46+00:00\",\"2021-08-18 06:18:46+00:00\",\"2021-08-17 22:22:10+00:00\",\"2021-08-16 18:43:19+00:00\",\"2021-08-15 17:00:00+00:00\",\"2021-08-13 08:00:10+00:00\",\"2021-08-12 10:12:20+00:00\",\"2021-08-12 00:00:00+00:00\",\"2021-08-11 01:53:26+00:00\",\"2021-08-11 02:02:05+00:00\",\"2021-08-10 13:12:36+00:00\",\"2021-08-10 21:00:46+00:00\",\"2021-08-09 09:00:38+00:00\",\"2021-08-06 07:43:14+00:00\",\"2021-08-06 09:42:05+00:00\",\"2021-08-06 10:36:38+00:00\",\"2021-08-06 11:26:25+00:00\",\"2021-08-06 15:24:11+00:00\",\"2021-08-06 15:31:51+00:00\",\"2021-08-05 10:56:10+00:00\",\"2021-08-05 16:11:00+00:00\",\"2021-08-05 17:30:21+00:00\",\"2021-08-05 08:44:08+00:00\",\"2021-08-05 10:58:15+00:00\",\"2021-08-05 14:39:30+00:00\",\"2021-08-05 12:12:00+00:00\",\"2021-08-04 17:39:00+00:00\",\"2021-08-04 22:28:08+00:00\",\"2021-08-03 16:57:20+00:00\",\"2021-08-03 18:15:23+00:00\",\"2021-08-03 17:30:58+00:00\",\"2021-08-03 17:05:34+00:00\",\"2021-08-03 18:44:01+00:00\",\"2021-08-02 14:31:00+00:00\",\"2021-08-03 02:30:33+00:00\",\"2021-08-02 07:45:06+00:00\",\"2021-08-03 01:01:13+00:00\",\"2021-08-02 19:58:36+00:00\",\"2021-08-02 16:01:04+00:00\",\"2021-08-02 09:17:50+00:00\",\"2021-08-02 13:00:29+00:00\",\"2021-08-02 18:30:42+00:00\",\"2021-08-02 22:00:38+00:00\",\"2021-08-01 16:13:34+00:00\",\"2021-08-01 19:24:22+00:00\",\"2021-08-01 18:38:00+00:00\",\"2021-07-31 14:19:03+00:00\",\"2021-07-30 17:16:04+00:00\",\"2021-07-30 04:19:50+00:00\",\"2021-07-30 19:10:50+00:00\",\"2021-07-30 12:04:11+00:00\",\"2021-08-17 16:56:32+00:00\",\"2021-08-16 18:45:20+00:00\",\"2021-08-15 18:00:09+00:00\",\"2021-08-12 22:45:07+00:00\",\"2021-08-05 20:28:26+00:00\",\"2021-08-04 13:30:27+00:00\",\"2021-08-03 18:49:13+00:00\",\"2021-07-28 09:52:38+00:00\",\"2021-07-27 07:51:02+00:00\",\"2021-07-27 18:01:00+00:00\",\"2021-07-24 15:39:38+00:00\",\"2021-07-22 00:50:23+00:00\",\"2021-07-15 20:00:50+00:00\",\"2021-07-14 23:30:38+00:00\",\"2021-07-14 07:17:26+00:00\",\"2021-07-14 18:07:38+00:00\",\"2021-07-14 14:06:43+00:00\",\"2021-07-14 05:27:41+00:00\",\"2021-07-14 10:43:44+00:00\",\"2021-07-14 10:43:08+00:00\",\"2021-07-14 03:08:05+00:00\",\"2021-07-11 11:10:00+00:00\",\"2021-07-05 13:52:04+00:00\",\"2021-07-05 12:00:00+00:00\",\"2021-07-01 13:45:12+00:00\",\"2021-06-30 06:10:19+00:00\",\"2021-06-22 14:00:12+00:00\",\"2021-06-21 10:57:46+00:00\",\"2021-06-21 20:19:13+00:00\",\"2021-06-21 03:11:00+00:00\",\"2021-06-17 09:37:26+00:00\",\"2021-06-17 12:17:20+00:00\",\"2021-06-14 11:15:47+00:00\",\"2021-06-12 06:00:36+00:00\",\"2021-06-08 20:12:28+00:00\",\"2021-06-08 09:07:12+00:00\",\"2021-06-08 21:27:33+00:00\",\"2021-06-02 07:09:13+00:00\",\"2021-05-29 09:53:38+00:00\",\"2021-05-22 21:54:12+00:00\",\"2021-05-21 14:11:54+00:00\",\"2021-05-21 20:42:12+00:00\",\"2021-05-21 19:20:57+00:00\",\"2021-05-20 20:23:34+00:00\",\"2021-05-18 10:57:37+00:00\",\"2021-05-10 13:05:12+00:00\",\"2021-05-09 14:53:00+00:00\",\"2021-05-03 05:07:17+00:00\",\"2021-05-03 12:47:11+00:00\",\"2021-08-10 14:30:00+00:00\",\"2021-08-09 18:45:29+00:00\",\"2021-08-08 08:01:14+00:00\",\"2021-08-05 17:00:06+00:00\",\"2021-08-04 12:15:38+00:00\",\"2021-08-03 12:50:50+00:00\",\"2021-05-26 06:39:14+00:00\",\"2021-05-21 22:05:09+00:00\",\"2021-05-20 16:10:00+00:00\",\"2021-05-16 10:56:00+00:00\",\"2021-05-13 10:00:41+00:00\",\"2021-05-02 15:10:07+00:00\",\"2021-04-26 18:25:52+00:00\",\"2021-03-02 06:00:52+00:00\",\"2021-03-01 11:36:44+00:00\",\"2021-04-06 12:18:45+00:00\",\"2021-07-24 13:05:07+00:00\",\"2021-07-12 07:15:37+00:00\",\"2021-07-05 10:18:57+00:00\",\"2021-06-19 12:34:38+00:00\",\"2021-06-18 20:47:54+00:00\",\"2021-06-10 07:20:40+00:00\",\"2021-06-09 11:50:21+00:00\",\"2021-06-09 11:30:23+00:00\",\"2021-06-08 13:16:11+00:00\",\"2021-06-08 22:01:13+00:00\",\"2021-06-07 21:03:47+00:00\",\"2021-05-17 13:20:00+00:00\",\"2021-05-13 05:52:53+00:00\",\"2021-05-06 23:31:58+00:00\",\"2021-05-05 20:37:58+00:00\",\"2021-05-05 16:00:25+00:00\",\"2021-04-15 04:30:56+00:00\",\"2021-04-15 04:00:05+00:00\",\"2021-04-14 07:47:32+00:00\",\"2021-03-12 00:29:13+00:00\",\"2021-03-08 13:00:30+00:00\",\"2021-03-05 14:35:00+00:00\",\"2021-03-05 10:02:01+00:00\",\"2021-03-05 13:12:43+00:00\",\"2021-03-04 19:52:34+00:00\",\"2021-03-04 17:54:30+00:00\",\"2021-03-04 16:23:54+00:00\",\"2021-03-04 21:57:12+00:00\",\"2021-03-04 18:00:10+00:00\",\"2021-03-04 23:14:37+00:00\",\"2021-03-02 13:44:48+00:00\"],\"rank_score\":{\"__ndarray__\":\"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\",\"dtype\":\"float64\",\"order\":\"little\",\"shape\":[1034]},\"text\":[\"A reading of two essays from crypto voices around the world.\",\"Users will be able to earn yield paid in BTC on all the rewards they've accumulated through the app.\",\"A dip below $46,000 has little impact on sentiment, with a longer-term view still favoring a showdown with $60,000 and above.\",\"Since January 3, 2009, the Bitcoin network has been functional for 99.98662952015% of the time. However, the protocol has had a few hiccups along the way and on a few occasions, the chain split into two. Most people are well aware of the Bitcoin Cash split that took place on August 1, 2017, but the [\\u2026]\",\"Prominent on-chain analyst Will Clemente is weighing in on the strength of Bitcoin's rally as the leading cryptocurrency soars above $47,000. In a new issue of Clemente's newsletter, the on-chain analyst says that crypto whales, or entities holding over 1,000 BTC, have massively accumulated over $5 billion worth of Bitcoin (BTC) in the last few [\\u2026] The post Is Bitcoin Doing a Head Fake? On-Chain Analyst Will Clemente Looks at Strength of BTC Surge to $47,000 appeared first on The Daily Hodl.\",\"The last few days have been pretty slippery for Bitcoin. Bulls were, however, able to prevent massive losses and fairly maintain their dominating position in the market.\",\"CEO of Digital Currency Group Barry Silbert believes that Bitcoin is heading towards $100,000\",\"The Advisor to the Colombian president talks about Bitcoin, his views about the asset, the country's stance on it, and more.\",\"As Bitcoin is back at it, popular analyst Scott Miller known as \\u201cWolf of All Street\\u201d has made ultra bullish predictions for BTC price action in the months to come. The analyst in his podcast says, $10 billion in liquidation was observed when bitcoin plummeted from $60,000 to $50,000. A total of one million retail \\u2026\",\"Yesterday's BTC price action shook traders throughout the day with rounds of short and long liquidations. Bitcoin's price managed to hold the 200-day moving average at $45.3k as support, making an intra-day wick to $46k, and pushing higher into yesterday's daily close at $47.1k \\u00a0 So far, today's price action appears similar to yesterday's wild [\\u2026]\",\"On the 50th anniversary of the fiat dollar, the U.S. is addicted to instant gratification in money printing, processed foods and more.\",\"BTC price has risen nearly 65% off its low in July BTC Price has finally cleared the 200MA RSI is printing a bearish divergence Are BTC Bulls Already Exhausted? Bitcoin price has finally broken out of its near 2 month range below $40,000.\",\"TL;DR Breakdown BTC reached the $48,000 mark overnight. BTC/USD retraced overnight.\",\"Bitcoin (BTC/USD) searched for market bias early in the Asian session as traders continued to seek fresh technical sentiment following recent trading activity around the 45000 level.\\u00a0 Traders recently lifted BTC/USD from the 43899.75 level, an area that represented a test of the 78.6% retracement of the appreciating range from 42505.02 to 48912.\",\"Bitcoin has become too big to be ignored anymore. And hip-hop star Megan Thee Stallion does not want her fanbase, known as Hotties, to get left behind.\",\"Catch up on the latest crypto market news at The Currency Analytics. Ever since buying his first bitcoin in 2011, Erik Voorhees has seen it all.\",\"Catch up on the latest crypto market news at The Currency Analytics. Barry Silbert stated that U.S.-based crypto companies would generate ~$10 billion of revenue this year.\",\"Catch up on the latest crypto market news at The Currency Analytics. Dan Held stated that Bitcoin is the killer blockchain application; it feels like it's ready for a breakout.\",\"BTC Slipped under $46K again but this drop had little impact on sentiment with a longer-term view still favoring the showdown of $60K or higher so let's read more in our latest Bitcoin news today. Bitcoin saw lows of under as BTC slipped under $45K a few days ago as the second installment of the [\\u2026]\",\"Darknet drug dealer named Ryan Farace allegedly laundered $136 million in Bitcoin while serving his drug-dealing sentence in federal prison as we are reading more in our latest Bitcoin news. The American authorities accused the Baltimore resident Ryan Farace of laundering $136M worth of bitcoin between 2019 and 2021 but he was sent to jail [\\u2026]\",\"Ethereum Classic (ETC) has had as good a bull market as pretty much every other top-50 cryptoassets out there. Long neglected by virtue of its well-documented vulnerability to 51% attacks, it nonetheless outperformed Ethereum (ETH) on various days in May, while enjoying a nearly 2,900% rise in trading volume. It continued to attract attention at the end of June, when it\",\"The crypto market opened with a mixed trading day today, as Bitcoin retreated below $47k. However, the industry's altcoins flashed some gains despite BTC's fall.\",\"Now that Bitcoin, ADA, XRP and other altcoins are rallying, the overall cryptocurrency market has regained the $2 trillion level\",\"The crypto market is making progress as Bitcoin is eyeing to hit $46K. Most top altcoins are also printing satisfactory gains. As the market reals, popular crypto analyst Micheal Van De Poppe has analyzed price action for leading tokens and 4 other altcoins. Bitcoin According to Van de Poppe, the leading cryptocurrency is attempting to \\u2026\",\"Catch up on the latest crypto market news at The Currency Analytics. Tyler Winklevoss expressed:\\u00a0 Bitcoin and Ether looking fierce.\",\"The Grayscale Bitcoin Trust, which trades under the ticker symbol GBTC, is being snatched up by institutional managers looking for more traditional exposure to digital assets.\",\"According to the metrics site Glassnode, Bitcoin's (CRYPTO: B\",\"Could Bitcoin's halving cycles power through a hypothetical post-COVID economic crisis, or is BTC destined to be correlated with stocks?\",\"As crypto sees a $2 trillion market cap once again, data suggests that investors are gravitating toward a more HODL-based mentality.\",\"Major milestones are flowing in for BTC price action this week, with the market still below the $50,000 level.\",\"An alternative measure of Bitcoin's market cap reached an all-time high.\",\"Crypto trader and investor Scott Melker, also known as \\u201cThe Wolf of All Streets,\\u201d expects the price of bitcoin to hit new all-time highs by the end of the year. \\u201cI would not be surprised at all to see bitcoin trading in six figures within the next six to 12 months, or ethereum even pushing [\\u2026]\",\"Quantitative analyst PlanB says he believes that his end-of-year price forecast for Bitcoin will be realized. Speaking on the What Bitcoin Did podcast, PlanB says that he's keeping faith in the stock-to-flow model he popularized in the cryptocurrency space. The stock-to-flow model, typically used in valuing traditional assets, aims to predict price by measuring existing [\\u2026] The post PlanB Maintains $100K Bitcoin Prediction, Reveals When His Model Would Be Invalidated appeared first on The Daily Hodl.\",\"Crypto derivatives platform BitMEX is revealing its total Bitcoin (BTC) reserve balance and is suggesting that other exchanges go public with their reserves as well. In a new blog post, BitMEX says that it holds 110,090 Bitcoin, worth $5.23 billion at time of writing. The firm also provided tools that anyone can use to verify [\\u2026] The post Bitcoin Firm Reveals Its Total BTC Reserves, Urges Other Crypto Exchanges To Disclose Holdings appeared first on The Daily Hodl.\",\"Who doesn't want an ideal portfolio, perfect investments, and a high return on investments? Almost everyone aspires to have a perfect investment portfolio with a balance of risk to ROIs, and a dream to retire by the beach towards the end of their 30s.\",\"US Securities and Exchange Commissioner Gary Gensler gave what may be termed the strongest sign of support\\u00a0from the agency for a Bitcoin exchange-traded fund. Yet the crypto community is not exactly thrilled.\",\"The value of the largest cryptocurrency, Bitcoin [BTC] finally breached $48,000. It witnessed a surge of nearly 9% over a day and saw the price hit this level for the first time, after its massive fall on 19th May.\",\"A lot of new investors believe that they have missed the opportunity on bitcoin. This is simply not true.\",\"Bears have decisively defended the $48,000 level, sending Bitcoin down nearly five percent\",\"Bitcoin has registered a new ATH... But not in price but in realized Market capitalization \\u2014and it is good news for the ecosystem.\",\"Extreme greed is back in the cryptocurrency market, as bitcoin has added roughly $20,000 since its July drop and tapped $48,000 earlier today.\",\"Ryan Farace supposedly laundered $136 million in bitcoin while serving his drug-dealing sentence in federal prison.\",\"The crypto market cap topped $2 trillion as bitcoin's price neared $48,000. BTC has gained more than 65% of value since July 20th.\",\"Bitcoin price after dumping below $44,000, bounced back and slashed through the upper resistance levels to head towards $48,000. The assets are currently consolidating above $47500, preparing for the next movement. The possibility of the BTC price surging close to $50K appears to be high. Following a couple of steep setbacks, the price is following \\u2026\",\"Recent BTC price action intensified after BTC closed above the 200-day moving average line on the daily time-frame, but then closed back below this significant key level on Thursday. However, things turned bullish, as BTC price pulled back to near-term support, backtested the downtrend line at $43.8k, successfully held the support level, and then printed [\\u2026]\",\"As regulators attempt to institute KYC and AML rules at the peril of our personal data, Bitcoin and encryption offer salvation.\",\"Calling Bitcoin's blockchain the \\u201ctimechain\\u201d would honor Satoshi's intention and help clear up altcoin misdirection.\",\"TL;DR Breakdown \\u2022 BTC trading may be standardized in Mexico like in El Salvador.\\u2022 BTC is trading above $46000, perpetuating a bullish streak for more than a week.\",\"TL;DR Breakdown \\u2022 BitMEX had to pay $100 million to avoid SEC regulations.\\u2022 The SEC president wants to expand the federal rules against Bitcoin platforms.\",\"The first company listed on Nasdaq with BTC as primary reserve\",\"While the boom for some crypto-collectible projects continues, sales of CryptoPunks, Bored Ape Yacht Club, and Meebits decline.\",\"Seasoned fund manager and policy advisor once and for all removes any uncertainty\",\"TL;DR Breakdown ETH set a slightly higher high yesterday. ETH/USD retraced overnight.\",\"Ethereum (ETH/USD) awaited fresh technical sentiment early in the Asian session as the pair continued to orbit the psychologically-important 3000 figure.\\u00a0 Traders recently lifted ETH/USD from the 2985.39 area following some brief trading activity below the 200-hour simple moving average.\",\"The CFTC Commissioner concluded that Ethereum is under the agency's jurisdiction, bringing plenty of controversy over the regulation of BTC, ETH, and other cryptocurrencies as we can see more in our latest Ethereum news. In an intervention on the Aspen Security Forum, Gary Gensler failed to clear the regulatory stand on ETH and hinted at [\\u2026]\",\"Crypto analyst and influencer Elliot Wainman is shining a spotlight on a handful of altcoins that he believes are ready to erupt in the coming weeks as the entire crypto market continues to rebound and Bitcoin floats within the $47,000 range. In a new strategy session, Wainman tells his 347,000 YouTube subscribers that Ethereum (ETH) [\\u2026] The post Ethereum, Cardano and Three Other Altcoins Have \\u2018Great Potential' in Coming Weeks: Trader Elliot Wainman appeared first on The Daily Hodl.\",\"Traders who believe ETH will reach $5,000 can use this low-risk options strategy to cast a long bullish bet.\",\"US business magazine Fortune says it will hold half of the proceeds from the recent sale of its non-fungible tokens (NFT) in crypto. In its first-ever NFT auction held on August 6th, the magazine sold a set of 256 digital collectibles of animated cover art priced at one Ether (ETH) each. The cover art is [\\u2026] The post This Iconic 92-Year-Old US Magazine Plans To Hold Ethereum appeared first on The Daily Hodl.\",\"Over the past week alone, Ethereum's price witnessed a jump from the $2900 level to $3300. In fact, the largest alt's price has inflated by 5% in the past 24 hours alone.\",\"Photographer Matthew Reamer is selling a tokenized piece of blockchain's early visual history.\",\"This is an interesting thought experiment. Is the current Ethereum unforkable?\",\"The new U.S. Securities and Exchange Commission (SEC) Chair Gary Gensler has brought much controversy over the regulation of Bitcoin, Ethereum, and cryptocurrencies. In an intervention on the Aspen Security Forum, Gensler failed to be clear on the regulator's stand on Ethereum and hinted at a potential further expansion of the Commission's jurisdiction over \\u201call [\\u2026]\",\"Ethereum EIP-1559 went into effect in the first week of August. An upgrade that had been anxiously waited upon by the broader market had finally come to fruition.\",\"Just days after Ethereum's London hard fork went live on the mainnet, crypto analyst and influencer \\u201cCoin Bureau\\u201d (\\u201c@coinbureau\\u201d on Twitter)\\u00a0talked about $ETH and his end-of-year price target for it. in a\\u00a0video\\u00a0(titled \\u201cTOP Altcoin Picks 2021 Q3\\u201d) released on YouTube channel \\u201cCoin Bureau\\u201c, the show's pseudonymous host told the channel's over 1.2 million subscribers\\u00a0why he [\\u2026]\",\"Ethereum security or not? This debate has long raged on, despite the authorities having a favorable response towards Ethereum in the past.\",\"Ethereum (ETH/USD) continued to orbit the psychologically-important 3000 figure early in the Asian session as traders searched for fresh technical sentiment. Traders recently lifted ETH/USD from the 2985.39 area following some brief trading activity below the 200-hour simple moving average.\",\"Over the past week, the Ethereum (ETH) price has maintained its recent rallies as it continues to consolidate below the $3,187 resistance. The Ether price has been fluctuating below its recent high since August 7.\",\"As cryptocurrency prices rally across the board, some bitcoin and crypto investors are feeling confident the bitcoin price could exceed its all-time high of over $60,000...\",\"There is a growing buzz surrounding the Dogecoin (CRYPTO: DOGE) and Ethereum (CRYPTO: ETH) bridge. Here are the key things you need to know about the link between the two major cryptocurrencies.\",\"Bitcoin is set to print its 4th weekly green candle in a row, the first time this has happened since late January when prices rallied to a fresh all-time high just a few weeks later.\",\"2021 has been an incredible year for bitcoin, ethereum, and a great number of the world's most popular digital assets. While bitcoin has gained around 300% during the last 12 months and ethereum has risen by 630%, a large swathe of crypto assets saw much larger gains. 12-Month Stats Show a Slew of Relatively Unknown [\\u2026]\",\"Silicon Valley's father of startups, Paul Graham (pictured speaking at Y Combinator), is propping up eth to his 1.3 million Twitter followers in publicly stating: \\u201cA friend of mine who.\",\"Bitcoin has been pumping since yesterday as it has managed to sustain itself above the $47,000 mark. Ethereum too stood above the $3K and eyed the $3329.94 resistance mark.\",\"The crypto market looks merry as BTC has broken above $45K and the top altcoins are having a stellar rally. Bitcoin kickstarting the bullish rally has paved the way for more altcoins to rise in the next quarter. Popular crypto analyst and trader \\u201cCoin Bureau\\u201d in his latest YouTube Video lists the top 5 altcoins \\u2026\",\"The mainnet for cross-chain interoperability protocol Wormhole has launched with support for Solana, Ethereum, Binance Smart Chain, and Terra. Furthermore, it promises to support other major blockchains in the near future. In a blog post published on August 9, the team said that Wormhole is \\u201ca cross-chain messaging protocol, secured by a network of Guardian [\\u2026]\",\"Delaware-based Kryptoin Investment Advisors has filed for an Ethereum exchange-traded fund with the U.S. Securities and Exchange Commission on Aug 12. The post Kryptoin Files for Ethereum ETF With SEC appeared first on BeInCrypto.\",\"The company's application for launching a Bitcoin ETF is still under SEC's review.\",\"The largest cryptocurrency by market value was trading close to its highest level in more than two months\",\"The ETH/BTC ratio is holding support above 0.05 and could face initial resistance near 0.08.\",\"Nearly $120M of Ethereum (CRYPTO: ETH) has already been burned since the implementation of the London network upgrade, which introduced the Ethereum improvement proposal (EIP) 1559.\",\"The hacker behind PolyNetwork's massive breach has returned a substantial amount of the funds and has refused a bounty award.\",\"Twitter CEO Jack Dorsey is doubling down on his Ether-skepticism by downplaying the network's potential to shake up the world of the social media giants.\",\"Even as Ethereum (CRYPTO: ETH) inches closer towards being a Proof-of-Stake (PoS) coin, miners and manufacturers have ramped up the production of Ether mining machines.\",\"The new fan token of major sports team Fenerbah\\u00e7e is in high demand. Too high, perhaps.\",\"Altcoin Daily host Aaron Arnold is listing four Ethereum competitors that he expects to surge in 2021. The crypto trader tells his 900,000 YouTube subscribers that as Ethereum (ETH) thrives, some its rivals will attract interest. \\u201cI believe in a world where Ethereum is so valued and my investor's thesis for Ethereum is playing out. [\\u2026] The post These Four Ethereum Competitors Are Set To Explode This Year, According to Altcoin Daily appeared first on The Daily Hodl.\",\"eToro, the global multi-asset investment platform, announced today that it will be expanding its crypto staking service to include the Ethereum 2.0 blockchain. eToro will offer its users the option of staking their ether tokens via the eToro Money crypto wallet ahead of the network's upgrade to Ethereum 2.0. Having launched its staking service in [\\u2026] The post eToro Launches ETH Staking appeared first on The Daily Hodl.\",\"The Ethereum market was on its way to form a fourth straight green candle on the weekly chart. The prior week saw the formation of \\u2018three white soldiers' which served as a possible reversal confirmation post ETH's mid-May plummet.\",\"Whether in the real world or in a web browser, you can experience the new \\u201cBorn in Chicago\\u201d exhibition and bid on Ethereum-based NFTs.\",\"It's meant to supplement the composer's new digital instrument, Holly+.\",\"Nansen's team say that DeFi on Ethereum is growing, despite the recent slump in token prices and yields.\",\"The Twitter CEO says that Ethereum has value, but that he has chosen to focus on Bitcoin.\",\"KingTiger Casino recently went out of operation due to Ethereum congestion issues. The online casino announced that they wouldn't be operating until they get a suitable solution for their users.\",\"Ethereum is holding gains above the $3,000 support zone against the US Dollar. ETH price is now facing resistance near the $3,150 and $3,180 levels.\",\"Fortune has sold its first NFT collection as part of an experiment as it joins the new blockchain trend, raking it $1.3 million in Ether and planning to HODL it\",\"Large Ethereum whales have increased their ETH holdings, now owning 43.7% of the total ETH supply\",\"TL;DR Breakdown Jack Dorsey has again belittled the crypto market's most significant altcoin, Ether (ETH) with his offhand statement on Twitter. The popular Bitcoin supporter and Twitter CEO had downplayed Ethereum's potential and future scopes many times in the past The statement says, \\u201cDisrupting \\u2018Big Tech' is exactly what's needed and what I want.\",\"Ethereum (ETH/USD) sought to reclaim some recent losses early in the Asian session as traders added to long positions above the psychologically-important 3000 figure.\\u00a0 Traders lifted ETH/USD from the 2985.39 area during yesterday's Asian session following some brief trading activity below the 200-hour simple moving average.\",\"Fortune, an American business magazine, has completed its first non-fungible token sale. The magazine announced this news earlier today, noting that the auction took place in the past week. Reportedly, this NFT sale saw the magazine net 429 ETH worth approximately $1.3 million (\\u00a30.94 million) at the time. According to the announcement, the sale comprised [\\u2026] The post Fortune's first-ever NFT auction rakes in 429 ETH worth $1.3M appeared first on Invezz.\",\"Crypto trader and influencer Aaron Arnold is highlighting an upcoming development for Cardano that he says could act as a catalyst for an ADA price surge in the coming weeks. In a new video, Arnold tells his 925,000 YouTube subscribers that Cardano is could be ready to blast off as the Ethereum competitor gears up [\\u2026] The post This Cardano Catalyst Could Send ADA to Greater Heights, According to Crypto Trader Aaron Arnold appeared first on The Daily Hodl.\",\"Cardano is currently one of the strongest assets in the entire market. The third-generation cryptocurrency has been making huge strides, ranging from 4% to as high as 13% and 17% in a single day.\",\"TL;DR Breakdown ADA continued to rally yesterday. New swing high set around $2.25.\",\"On Friday (August 13), popular crypto analyst Lark Davis (@TheCryptoLark on Twitter) explained why he believes that the upcoming launch of the Cardano's Alonzo hard fork, which provides support for smart contracts, is very bullish for $ADA. The New Zealand based crypto influencer had this to say about the significance of Cardano being finally able [\\u2026]\",\"This segment of our magazine covers everything Cardano by asking some questions to the people contributing to the security and decentralization of the network: the Stake Pool Operators\",\"On Friday, the price of the token cardano spiked over the $2 handle nearing the crypto asset's all-time high that took place three months ago. Cardano's price jump derived from a video announcement stemming from Cardano's Nigel Hemsley when he explained the Cardano network would upgrade on September 12, 2021. The highly anticipated \\u201cAlonzo Purple\\u201d [\\u2026]\",\"The blockchain research and engineering company Input Output Hong Kong (IOHK) has now set a date for when smart contracts will go live on the Cardano blockchain. The Cardano (ADA) developer says it is targeting September 12th for the platform's much-publicized Alonzo upgrade. Alonzo aims to bring smart contract functionality to the blockchain via a [\\u2026] The post Smart Contracts Now Scheduled To Arrive on Cardano on This Date: IOHK appeared first on The Daily Hodl.\",\"Prominent crypto analyst and trader Micha\\u00ebl\\u00a0van de Poppe, who believes that Cardano's $ADA token is \\u201cstrongest coins out there\\u201d, recently explains how the $ADA price could hit $5 in the near future. In a video released on his YouTube channel on August 11, he looked at $ADA's recent price action using technical analysis, and had [\\u2026]\",\"On Friday (August 13), blockchain technology company IOHK (aka \\u201cIOG\\u201d), which is developing the Cardano protocol, announced the date for the Alonzo hard fork on the Cardano mainnet. This news has helped $ADA to extend its recent bull run. During Cardano's \\u201cMid Month Development Update\\u201d event on August 13, Nigel Hemsley, Head of Delivery & [\\u2026]\",\"Cardano, which is referred to by many as a third-generation blockchain, is soon expected to announce the date for when its Alonzo Purple mainnet upgrade will go live on the network. The upgrade, which has been hotly anticipated by many, is poised to finally bring smart contract integration to the network, positioning it in the [\\u2026]\",\"The Cardano blockchain has had a tremendous year, to say the least. ADA's journey from $0.2 in January to $2.42 in May to institutional adoption and finally ranking fourth is one that's worth looking at.\",\"Sentiment in the Cardano market continues to be favorable the after Alonzo Upgrade was given on official launch date of 12th September. On the charts, a successful bull flag breakout catapulted ADA to the $2-mark for the first time in nearly 3 months as its value surged by an additional 23% from the upper trendline.\",\"ADA has passed the $2 mark, becoming the third-largest cryptocurrency in the world ahead of its proposed smart contracts launch The post Cardano (ADA) Crosses $2 Threshold Ahead of Smart Contract Launch appeared first on BeInCrypto.\",\"Cardano's native token ADA rallied on the back of the Alonzo Purple announcement. The highly anticipated Hard Fork Combinator [HFC] event was announced for 12th September 2021, by Nigel Hemsley, Head of Delivery & Products at IOHK.\",\"Emurgo signals its intent to turn the Yoroi wallet into the MetaMask of the Cardano ecosystem. The post Could Yoroi be the MetaMask of the Cardano (ADA) ecosystem?\",\"Charles Hoskinson has quelled some concerns about smart contracts being potentially hacked\",\"2009, for Bitcoin, and 2015, for Ethereum. But how many of us knew that the year 2015 marked another master cryptocurrency's advent? Not many, until it became the third most popular crypto money, smashing 74,00% up last year! That's the Cardano network, now considered as one of the most scalable systems, in the World Economic \\u2026\",\"The founder of IOHK, Charles Hokinson, held a surprise AMA to celebrate the announcement of the launch date of Cardano Smart Contracts. As the date for the Alonzo Hard Fork is set to 12th Sept 2021, ADA price spike with the huge positive market sentiments surrounding the space. Additionally, the integration of the smart contracts \\u2026\",\"TL;DR Breakdown Cardano ADA becomes third largest coin in crypto market Cardano price pumped after announcement of Alonzo hard fork on the Cardano mainnet Analyst predicts Cardano to hit $4 by end of 2021 Cardano ADA has become the third most valuable cryptocurrency after a week of radical and consistent price surge. The coin took [\\u2026]\",\"TL;DR Breakdown Cardano price analysis shows a healthy correction. ADA is correcting to $2.12 support level after a rise.\",\"Cardano (ADA/USD) has gone on an impressive surge as market participants are anxiously waiting for the Signals Smart Contracts protocol upgrade that will launch next month. The plan to include smart contracts could be a response to critics who insists that the functionality will take much more time to go live. Cardano's market becomes bullish [\\u2026] The post Cardano (ADA) becomes third-largest crypto as token surges amidst upgrade plans appeared first on Invezz.\",\"A fake Cardano ADA wallet is being marketed on Discord so investors should beware of the fake one mimicking the real one-Daedalus as we are reading more about in today's Cardano news. A Reddit user outlined a fake website trying to mimic and promise even more features than the verified Cardano wallet Daedalus but the [\\u2026]\",\"The post Scammers Targeting Daedalus Wallet To Swindle Cardano Hodlers appeared first on KOINPOST.\",\"$48,000 proves too much for BTC bulls Saturday as Cardano's ADA hits $2.20 in a fresh show of strength.\",\"Three of the biggest altcoins have posted notable gains overnight.\",\"Even though Bitcoin controls almost half of the entire crypto market, altcoins play a very important role in uplifting the market as well. Looking at the recent performance of some major altcoins, it appears that they have the potential to take the altcoin market cap (Altcap) to higher major levels.\",\"The past seven days have been a wild ride, with the bulls getting a clear upper hand this time. As the total crypto market cap went above the $2 trillion mark once again, anticipation around another rally peaked.\",\"XRP locked in a 13.6% gain while eyeing its $1.22 resistance level. Dogecoin, after logging gains, managed to stay afloat over the $0.26 support line and lastly, ADA's movement seemed optimistic amid Alonzo launch date updates.\",\"The broader digital currency ecosystem is seeing a gradual rewakening with Bitcoin (BTC) inching a slight gain of 1.31% to $47,179.75 after paring off losses for the better part of the weekend. The major uptick amongst the list of top altcoins is Cardano (ADA) whose runup sustenance has stirred its growth to now rank as The post Top Exchange Tokens Prints Differing Moves in Current Market Reawakening appeared first on Coingape.\",\"Cardano (CRYPTO: ADA) is trading higher Friday, along with the rest of the bullish crypto market. The coin has been trading in what technical traders call a cup pattern and may possibly become a handle.\",\"What Happened: Crypto markets looked to be on the road to recovery, with the overall market cap of the industry nearing $2 trillion for the first time since the crash in May.\",\"All eyes on a support/resistance flip at $2 as bearish sentiment stays absent for Cardano this week.\",\"Cardano coin holders are heading into the weekend with a smile on their faces as the 4th\\ufffdlargest cryptocurrency by market cap continues to pump higher.\",\"The plan to add smart contracts next month could defy skeptics who have bet that the functionality wouldn't come anytime soon.\",\"Cardano (ADA) became the world's third-largest cryptocurrency as its price soars to a 12-week high.\",\"Cardano price predictions are ramping up. The network is preparing its Alonzo Purple upgrade, which many think will cause huge gains.\",\"Popular crypto strategist Micha\\u00ebl van de Poppe is analyzing the path of Cardano (ADA) as traders await the Alonzo update that will bring smart contracts capability to the blockchain. In a new video, van de Poppe says ADA is breaking out of key resistance levels as it moves upwards. \\u201cCardano is breaking through resistance, and [\\u2026] The post Cardano on Its Way to $5? Crypto Strategist Micha\\u00ebl Van De Poppe Analyzes the Path Forward for ADA appeared first on The Daily Hodl.\",\"The Cardano crypto is surging ahead of its Alonzo Purple upgrade. The upgrade, coming in the next month, will be hugely important.\",\"Cardano's price action seems to be evolving around the upcoming Alonzo hardfork.\",\"Cardano may finally be ready to launch smart contracts.\",\"Cardano's ADA has become the world's third-largest cryptocurrency by market capitalization, according to CoinGecko, after its price surged 12% over the past day to a new 12-week high.\",\"Cardano (ADA) has been on a hot streak recently. The price of ADA has seen increasing growth in the market.\",\"Cardano's native crypto has become the third largest asset, outpacing BNB and USDT\",\"After flirting with the $2 level on Thursday, ADA has broken above the $2 mark ahead of the big announcement expected later today\",\"Cardano is having a massive day ahead of the big smart contract announcement\",\"TL;DR Breakdown LTC moved above $180 yesterday. The market traded around the resistance overnight.\",\"TL;DR Breakdown Litecoin price is expected to rise to $184 The closest support level is at $179 Litecoin price is facing resistance at the $185 Litecoin price has finally gone past the $160 mark and strong bullish momentum has carried the price to challenge the $182 mark. Litecoin price records an over 22 percent price [\\u2026]\",\"A Flawless LTC chart pattern could lead to a new \\u201cbiblical\\u201d bullish move as the price of the coin is 10% up in the past 24 hours and the recovery has only just begun so let's read more in our latest Litecoin news today. The LTC price is up nearly 10% in the past day [\\u2026]\",\"Most of the market's top coins witnessed a decent rally over the past week. Two of the most prominent alts, Litecoin and Chainlink, were able to fetch their HODLers 14.3% and 8.28% in the weekly time window.\",\"Over the past 24 hours, Litecoin's (CRYPTO: LTC) price rose 8.0% to $180.45. This continues its positive trend over the past week where it has experienced a 25.0% gain, moving from $145.66 to its current price.\",\"Litecoin bulls have had to negotiate through multiple bearish signals in the market. Refusing to bow down to a bearish head and shoulders pattern and RSI's double top has allowed the alt to maintain its upwards trajectory.\",\"Litecoin price is up nearly 10% in the last 24 hours, but the recovery might only have just begun. That is if a \\u201ctechnically flawless\\u201d chart pattern is valid, and resolves to the upside.\",\"The sharp rebound in Bitcoin and most major altcoins proves that traders are buying aggressively on every minor dip.\",\"Bitcoin's recent push to $47,052 had a ripple effect on altcoins such as AAVE and Litecoin. AAVE inched closer to breaking above $424 resistance while LTC noted a 6.3% jump over the last 24 hours.\",\"Crypto analyst Nicholas Merten is bullish on the altcoin market at large. The popular trader tells his 465,000 YouTube subscribers that altcoins have room to regain some dominance after Bitcoin's big move to a recent high of about $46,500. \\u201cIf you are in the belief that we've just gone through a mid-cycle correction, which is [\\u2026] The post Litecoin, Chainlink, Uniswap Could All Be Ready for Fireworks, According to Crypto Analyst Nicholas Merten appeared first on The Daily Hodl.\",\"The Bitcoin Family. Source: a video screenshot, Youtube, The Bitcoinfamily The Bitcoin Family has risen to international prominence after the Dutch family of five (parents Didi and Romaine Taihuttu, and their children Joli, Juna, and Jessa) sold everything they owned, including their house, in 2017 to invest everything in bitcoin (BTC) at a time when it was trading for around USD 900, and live\",\"As Bitcoin and Ethereum registered a slump in prices by 2.2% and 2.8%, respectively, altcoins such as BNB, LTC and LINK started to undo their gains on the charts. BNB declined after it tried to test the $402 resistance; LTC managed to float above its immediate support level of $161.19.\",\"TL;DR Breakdown LTC moved higher yesterday. $170 mark broken overnight.\",\"Catch up on the latest crypto market news at The Currency Analytics. A Litecoin investor pointed to the Psychology of a market cycle, which lists feelings appearing as the market fluctuates from\\u2026 The post ARISE Litecoin (LTC) Beyond the Psychology of the Market Cycle appeared first on Cryptocurrency News.\",\"Bitcoin or Ethereum may or may not be the best way to make purchases, but it can still be part of one's spending strategy \\u2014\\u00a0thanks to a growing number of crypto rewards credit cards. Instead of points and miles, risk-taking investors earn rewards redeemable toward certain cryptocurrencies.\",\"Cardano (ADA) has broken out from a descending resistance line and is trying to move above the $1.75-$1.83 resistance area. The post Old Majors Bounce and Break Resistance Levels \\u2013 ADA, LTC and BCH Analysis appeared first on BeInCrypto.\",\"The Litecoin (LTC/USD) price has rallied in the past few weeks helped by the resurgence of Bitcoin. The coin jumped to a multi-month high of $170.92, which was the highest level since June 18. Its market capitalisation has jumped to more than $10.8 billion. Litecoin rebound accelerates Litecoin is one of the oldest blockchain projects [\\u2026] The post Litecoin price prediction: Up to $200 or down to $150? appeared first on Invezz.\",\"TL;DR Breakdown LTC continued to rally yesterday. $170 mark reached overnight.\",\"Litecoin (LTC) has been trading in the overbought zone for the past 48 hours. Sellers have emerged to push prices lower. Litecoin is falling as it breaks below the 21-day line SMA.\",\"Litecoin sustains the uptrend within an ascending parallel channel, rising to $170 for the first time since June. Ripple finds refuge above $0.8 but loses the momentum to carry one with the breakout to $1.\",\"Over the past 24 hours, Litecoin's (CRYPTO: LTC) price has risen 5.82% to $160.74. This continues its positive trend over the past week where it has experienced a 9.0% gain, moving from $144.14 to its current price.Over the past 24 hours, Litecoin's (CRYPTO: LTC) price rose 5.82% to $160.74.\",\"The entire ecosystem of LTC can be expressed as that of confusion because as of now, it might be losing market credibility. It does not reflect any fundamental development, the asset is yet to break above its 2017 high, and it is 15th in the rankings!\",\"TL;DR Breakdown LTC retraced yesterday. LTC/USD found support above $145.\",\"Catch up on the latest crypto market news at The Currency Analytics. David Burkett expressed:\\u00a0 Satoshi showed not how to change laws but how to make them irrelevant.\",\"The exchange will consolidate UNIDOWN and LTCDOWN tokens by 100,000 to 1.\",\"A closely followed crypto trader is issuing a \\u201clast warning\\u201d that calls for one large-cap altcoin to potentially explode, and he's also revealing what he thinks is in store for Bitcoin for the next two months. The pseudonymous analyst known as Inmortal tells his 58,500 Twitter followers that Litecoin (LTC) is poised to \\u201cteleport to [\\u2026] The post Top Trader Issues \\u2018Last Warning' on This Large-Cap Altcoin, Predicts Bitcoin Cooling Off appeared first on The Daily Hodl.\",\"Riding on the back of Bitcoin's surge to $45k, most of the alts started witnessing upticks. Interesting, at the time of writing, only 12 cryptos out of the top 100 reflected negative weekly returns.\",\"TL;DR Breakdown LTC established a higher local low above $135 earlier this week. LTC/USD continued to rally overnight.\",\"Bitcoin is facing stiff resistance at the 200-day SMA but if bulls can clear this hurdle, LTC, ICP, THETA, and FTT may extend their relief rally.\",\"Bitcoin closed above $45,000, for the first time since May 19, and this milestone pumped the altcoins too. BTC's next resistance is at $48,000,\\u00a0 whereas, Ethereum eyed a move towards $3500.\",\"Most market altcoins rallied on the back of decent on-chain activity over the past fortnight. While many of these cryptos hiked as anticipated, Litecoin took many in the market by surprise.\",\"TL;DR Breakdown Litecoin price is expected to rise to $155 The closest support level lies at $152 Litecoin price is facing resistance at the $157 mark Litecoin price has finally gone past the $148 mark and strong bullish momentum has carried the price to challenge the $155 mark. Litecoin price records an over 8.45 percent [\\u2026]\",\"Disclaimer:\\u00a0The findings of the following analysis are the sole opinions of the writer and should not be taken as investment advice Litecoin's turning point was on 23 July after its price closed above its upper sloping trend. This marked a shift from LTC's downtrend which extended from its late-May levels.\",\"TL;DR Breakdown Litecoin price is experiencing sharp resistance above $145.68 mark. Remarkable improvement in today's market price expected.\",\"TL;DR Breakdown \\u2022 Litecoin has gained fame for its fast transactions and low fees.\\u2022 Newegg has accepted payments in Bitcoin since 2014 and hopes to expand its cryptocurrencies adoption.\",\"TL;DR Breakdown Litecoin price analysis chart indicating strong resistance at $137.64 mark. Latest chart shows bullish trend line.\",\"With Bitcoin taking a breather, it took down other cryptos. Here's a look at important price thresholds to watch this week.\",\"Litecoin (CRYPTO: LTC) is trading higher Wednesday, likely moving with the rest of the bullish cryptocurrency market. The majority of the market is trading green and Ethereum (CRYPTO: ETH) leads the pack.\",\"Disclaimer:\\u00a0The findings of the following analysis are the sole opinions of the writer and should not be taken as investment advice Hump day failed to account for a bullish reversal as Bitcoin opened yet another day in the red. Instead, its decline below $38k had a domino effect on other altcoins as they continued to [\\u2026]\",\"Litecoin, the crypto ranked 15th on CMC, has had a volatile year so far. In fact, it fell by over 66% in three months following its last ATH.\",\"\\u00a0 Today, the price of bitcoin has remained below $40,000. LTC's recent ascent has stalled after Bitcoin's struggle to hold over $40,000. Altcoins, such as Litecoin, are vulnerable to profit-taking if BTC continues to plummet this morning. The market appears to be displaying a very strong bullish trend as the Litecoin price appears to jump \\u2026\",\"TL;DR Breakdown Resistance is found above the Litecoin price 140 $ mark. Raise in price expected as the market continues to show bullish trend.\",\"TL;DR Breakdown Resistance is found above the Litecoin price $140 mark. Rise in price expected as the market continues to show bullish trend.\",\"It might finally be available on the blockchain by the end of 2021\",\"TL;DR Breakdown LTC retraced yesterday. Support is currently found at around $135.\",\"As of August 3, 2021 Litecoin (LTC) is trading at $138.28. Litecoin will likely continue to rise if the price bars remain above the moving averages.\",\"Bitcoin and Ethereum's minor southward movements have caused altcoins to struggle as they continued to defend their immediate support levels in order to avoid retracing further. Litecoin still held onto the crucial support level while Monero was pictured above its resistance level.\",\"TL;DR Breakdown Litecoin price analysis turns neutral with first major support at $136 The pivot level at $143 is turning out to be a tough level to crack LTC/USD faces first major resistance at $147 Litecoin had a mixed start to the day, which started rising early in the morning to an intraday high of [\\u2026]\",\"Global provider of bitcoin (BTC) and crypto payment services BitPay has announced it now supports Litecoin (LTC). As such, companies using BitPay should now accept LTC as a payment option.\",\"The secret network has announced that the Secret Monero Bridge is live on the Mainnet. The Monero Bridge will allow Monero (XMR) holders to access the secret DeFi ecosystem directly for the first time.\",\"Bitcoin (BTC) is approaching a confluence of resistance levels between $46,950 and $47,750. Technical indicators are showing weakness.\",\"TL;DR Breakdown Monero price analysis shows a bullish momentum. XMR price is likely to get past the $280 mark in the current momentum.\",\"A curious initiative asking Tesla to enable payments in XMR\",\"The developers of Monero (XMR) recently discovered a bug capable of exposing transactions of its users. Even though the team is working to fix it, they have announced that users' privacy is at risk as long as the bug remains.\",\"CipherTrace, a global leader in cryptocurrency compliance, has introduced improved Monero (XMR/USD) tracing visualization tools for financial institutions and qualified state agencies, PR News Wire reported, cited by Yahoo News. They are offering next-gen tools to visualize Monero tracing based on research funded partially by the U.S. Department of Homeland Security, Science & Technology Directorate. [\\u2026] The post CipherTrace introduces improved Monero tracing for financial institutions and state agencies appeared first on Invezz.\",\"The Monero (XMR/USD) price continued its bullish momentum on Friday. The coin jumped to a high of $260, which was the highest level since June 20. It has risen by more than 43% from its lowest level in July, bringing its total market capitalisation to more than $4.6 billion. Monero bullish trend accelerates Monero is [\\u2026] The post Monero Price Prediction: Bullish Breakout to $300 Likely appeared first on Invezz.\",\"Crypto compliance firm Ciphertrace has announced enhanced tools for tracing Monero transactions. \\u201cCiphertrace takes Monero tracing capabilities to the next level with the ability to follow the flow of funds backwards from the transaction of interest to its source,\\u201d the company claims. Ciphertrace Claims to Have \\u2018Enhanced' Tools to Trace Monero Transactions Blockchain analytics and [\\u2026]\",\"As the king coin's market moved towards recovery, the industry's altcoins shared the same sentiment in the market. XRP flashed a bullish outlook, while XMR shot up by 6.7% and DASH rested above the support level at press time.\",\"Former lead maintainer of Monero Riccardo Spagni, aka Fluffypony, has been arrested in the U.S. and is now waiting for his extradition to South Africa where he will stand trial for fraud. Spagni described the case as \\u201can old matter, which I have continuously been trying to resolve since 2011.\\u201d Fluffypony Arrested, Waiting for Extradition [\\u2026]\",\"Riccardo Spagni, better known as \\u201cFluffypony\\u201d and Monero's former lead maintainer, was arrested last month in the United States. The arrest was on account of allegations of fraud committed between 2009 and 2011 in South Africa.\",\"However, the Monero community remains skeptical of the toolset's potential.\",\"BTC has broken down from an ascending support line. ETH has broken out from an ascending parallel channel while XRP was rejected by resistance.\",\"After leaving Monero in December 2019, Ricardo Spagni has been apprehended on charges unrelated to the cryptocurrency.\",\"An arrest warrant for Ricardo Spagni was issued on July 20, 2021 at the request of the South African government. He was apprehended the same day in the United States.\",\"Catch up on the latest crypto market news at The Currency Analytics. A rather significant bug has been spotted in Monero's decoy selection algorithm that may impact your transaction's privacy.\",\"Bitcoin's sharp rally brought out the bulls and if the momentum sustains UNI, LINK, SOL and XMR could move higher.\",\"Software developer Justin Berman is investigating a privacy issue with the cryptocurrency Monero (XMR), exposing a bug. The Monero development team confirms that the bug, which could compromise privacy by revealing the target destination of transferred funds, lies in the cryptocurrency's \\u201cdecoy selection algorithm.\\u201d \\u201cA rather significant bug has been spotted in Monero's decoy selection [\\u2026] The post Bug Alert: Monero Users May Want To Wait Before Spending Newly Acquired XMR appeared first on The Daily Hodl.\",\"In 2013, there were only 66 altcoin cryptos, now there are over 6,000. Let's take a look at seven of the best altcoins to buy in August.\",\"With Bitcoin surging higher from its recent lows, here's a closer look at the price thresholds to watch for alternative cryptos.\",\"Market capitalization of Monero increased, however, despite the rise in prices, MATIC and Binance Coin's market capitalization witnessed a fall. XMR's price showed chances of low volatility, while MATIC recorded a 47.2% weekly gain and lastly, Binance Coin could be headed towards a possible price breakout.\",\"\\\"This does not reveal anything about addresses or transaction amounts ... This bug persists in the official wallet code today,\\\" said Monero.\",\"Monero developers are working on a software fix to a newly identified bug that may expose the occurrence of an output transaction made right away after receiving funds.\",\"A newly discovered flaw in Monero's code allows onlookers to pinpoint real transactions among numerous \\u201cdecoys.\\u201d\",\"The developers of privacy-centric cryptocurrency, Monero have identified a \\u201crather significant\\u201d bug in the algorithm that could allow for transaction destinations to be identified. According to a Twitter thread by the developers: \\u201cIf users spend funds immediately following the lock time in the first 2 blocks allowable by consensus rules (~20 minutes after receiving funds), [\\u2026]\",\"The bug only affects funds spent less than an hour after receiving them.\\u00a0\",\"A \\u201csignificant\\u201d decoy selection bug has been reported for Monero via the project's official Twitter handle. According to the investigation, carried out by software developer Justin Berman, the bug \\u201cmay impact your transaction's privacy\\u201d during a brief window of time after funds have been received.\",\"A software developer recently found a bug in the Decoy algorithm of XMR, with some implications in regard to its privacy.\",\"An investigation by Justin Berman, a software developer interested in the \\u201cintersection of finance and cryptography,\\u201d has discovered a significant bug in Monero's wallet code. The Bug in Monero's Wallet Code In a Twitter thread on July 27, Monero developers said the bug impacted the network's decoy selection algorithm. It, therefore, meant transactions weren't as\",\"TL;DR Breakdown: Monero developers have discovered a bug that can impact the users' privacy. Users have been instructed to wait longer before spending newly received XMR to curb the impact of the Monero bug.\",\"Not all cryptocurrencies offer the most collective features of privacy, security, or fungibility at the basis of their fundamental code level. But Monero does, the coin offers all of these features that make it a viable crypto choice among investors. The Project is also backed by its crypto exchange platoform Monero exchange. This makes it \\u2026\",\"Despite being considered by many to be the most privacy-focused cryptocurrency, Monero has revealed the discovery of a bug in its wallet code that may jeopardize users' privacy. The bug means that XMR recipients could have the transaction amount of their received XMR displayed to the public when they spend the asset within the first 20 minutes after receiving the funds.\",\"Clients' protection is presently not ensured on security-centered digital money convention Monero (XMR) because of the presence of a product bug in its fake determination...\",\"Monero devs disclose a huge bug in the privacy algorithm code that allows onlookers to pinpoint real transactions among the fake ones so let's read more in our latest Monero news today. The Monero devs disclose a huge bug that could impact the privacy of the users' transactions as one of them tweeted: \\u201cIf users [\\u2026]\",\"Bitcoin (BTC) has reached the $40,550 resistance area but failed to break out. It created a long upper wick and decreased towards $37,000.\",\"Attackers are abusing an attack vector present in one of the most popular execution engines (Argo Workflows) to repurpose Kubernetes systems to mine cryptocurrencies. The attack exploits a vulnerability in the system of permissions of Argo Workflows machines connected to the internet, deploying malicious workflows that install Monero-based containers. Attackers Leveraging Argo Workflows for Crypto [\\u2026]\",\"Catch up on the latest crypto market news at The Currency Analytics. Monero (XMR) Illegal use of Crypto Delisting from exchanges Regulatory crackdown Monero is about maintaining the privacy of cryptocurrency.\",\"Over the last 24 hours, the cryptocurrency market once again rallied to the tunes of Bitcoin's recovery on the charts. However, on the contrary, Monero\\u2018s [XMR] market seemed to be highlighting an unusual spike in its fundamentals, independent of whatever Bitcoin has been doing.\",\"Monero's trading volume is around average, but activity on the coin's blockchain might be a sign of something big\",\"Catch up on the latest crypto market news at The Currency Analytics. Compliance obligations and Monero Enthusiasts Justin Ehrenhofer on Anonymous Internet Money Honoring privacy regulation Formally established regulatory bodies overlooking the\\u2026 The post Monero (XMR) Privacy and Scope of Regulations and Compliance in Cryptocurrency Transactions appeared first on Cryptocurrency News.\",\"Ethereum tested a new low this month as it prepared to move past its crucial support level of $1744. This also meant it could see a price reversal after hitting a new low this month.\",\"Catch up on the latest crypto market news at The Currency Analytics. There are a few coins that have the potential to become just as valuable as Bitcoin or possibly even flip\\u2026 The post Can Monero (XMR) Flip Bitcoin And Does Buying It Put You At Risk?\",\"Monero [XMR], the market's leading privacy coin, has seen its fair share of ups and downs this year. The altcoin massively rallied during the initial few months of the year, hit its local 3-year high in May, and commenced its downfall right after that.\",\"Bitcoin was priced at $32,024.68 and was down by 4.1% over the last 24 hours, at press time. Subsequently, other altcoins too witnessed southbound price action.\",\"Bitcoin (BTC) is trading inside a range between $31,300 and $40,550.\\u00a0Technical indicators in the daily time frame are bullish.\",\"At the end of 2020, darknet markets (DNM) set new records as marketplaces like White House and the Russian-language DNM Hydra led the pack. A report published on May 25, shows Hydra saw a 624% year-over-year growth rate in three years, and researchers estimate roughly 75% of illicit DNM transactions stem from the Russian marketplace. [\\u2026]\",\"Catch up on the latest crypto market news at The Currency Analytics. Monero (XMR) is the secure, private, untraceable cryptocurrency which keeps your money confidential.\",\"Bitcoin (BTC) has created a bearish engulfing candlestick and reached a low of $33,125. Technical indicators are undecided.\",\"Bitcoin (BTC) has bounced at the $31,400 horizontal support area while Ethereum (ETH) has bounced at the $2,000 support area. The post BTC, ETH, XRP, XMR, KAVA, ETC, WAVES \\u2014 Technical Analysis June 30 appeared first on BeInCrypto.\",\"Dogecoin has added more than 10% this week, helping it climb over 30 cents per doge token for the first time since mid-June...\",\"Mark Cuban says he does not shill DOGE but 95% of sales in his companies are paid in Dogecoin now as he argues with a Morgan Creek Digital partner about DOGE and BTC\",\"It's no secret that Tesla, Inc. (NASDAQ: TSLA)'s flamboyant CEO Elon Musk and Shark Tank's Mark Cuban are staunch backers of Dogecoin (CRYPTO: DOGE), a cryptocurrency that is themed on the Shiba Inu dog.\",\"Watford FC players will wear a Dogecoin (CRYPTO: DOGE) logo on their jerseys for the 2021/22 season, The Athletic reports.\",\"Meme-coins have their fair share of, both, proponents and opponents. They often end up clashing with each other on social media.\",\"Dogecoin (DOGE) will serve as the shirt sleeve sponsor for Premier League football team Watford F.C. during the 2021/22 season.\",\"Mark Cuban called Dogecoin \\\"the people's way to pay,\\\" as he refuted assumptions that he was trying to shill the meme coin.\",\"DOGE price has risen nearly 40% the last week DOGE Bulls are attempting to break the 100MA An ascending channel has held the price in an upward trend DOGE price is struggling to gain traction over the last few weeks as many coins in its class have surged twice as much. Many anticipate DOGE price The post DOGE Price Analysis: Dogecoin Eyes Break of 100 MA, Here Are The Next Price Targets appeared first on Coingape.\",\"TL;DR Breakdown DOGE moved away from $0.29 resistance overnight. Dogecoin reached $0.31 overnight.\",\"Dogecoin (DOGE) shot up but was rejected at $0.29 resistance. Before the recent uptrend, the altcoin was in a sideways trend. Yesterday, buyers retested the $0.29 overhead resistance to resume the uptrend.\",\"While dogecoin fans saw the first crypto-scented Dogecan body spray made by Axe, Oscar Mayer's 10-pack of dogecoin branded weenies, and an augmented reality game called Dogemon Go, supporters now have the opportunity to attend a DOGE-centric festival called \\u201cDogepalooza.\\u201d The dogecoin-themed event will have live entertainment from major artists like Dionne Warwick, Damon Elliott, [\\u2026]\",\"Tesla CEO Elon Musk and Shark Tank star Mark Cuban see dogecoin as the \\u201cstrongest\\u201d cryptocurrency when it comes to using it as a means of payment. To promote the use of dogecoin further, the NBA team Dallas Mavericks will be offering \\u201cspecial pricing for those who pay with dogecoin.\\u201d Elon Musk Agrees With Mark [\\u2026]\",\"The entrepreneur is on the same page with fellow billionaire Mark Cuban when it comes to promoting Dogecoin as a means of payment\",\"Dogepalooza, the first Dogecoin (DOGE) festival is officially happening this October 2021. This is one of the interesting efforts to bring the Dogecoin community together.\",\"Will Watford F.C. fans cheer \\u201cmuch wow\\u201d when their team scores?\",\"Dogecoin (DOGE) is set to hit $0.42 by the end of the year, according to the average panel forecast in Finder's Dogecoin price predictions report, but any increase the coin sees could be short-lived. In fact, a vast majority of the panel (80%) thinks that DOGE is a bubble. Morgan Creek Digital general partner Xavier [\\u2026] The post Finder's Expert Panel Predicts \\u2018Pump and Dump' DOGE Will Hit $0.42 at End of 2021 appeared first on The Daily Hodl.\",\"The Internet's most loved alt- Dogecoin has been on a wild run in 2021 so far. Its leap into the top 10 rankings shortly after the GameStop short squeeze was a major talking point within the crypto space.\",\"Dogecoin (DOGE/USD) has continued to gain attention from Billionaires and notable figures within and outside the crypto industry. After Elon Musk's romance with the meme-based token, it has further gained attraction from another billionaire Mark Cuban, who owns NBA team Dallas Mavericks. In March, his NBA team stated that it will start accepting Dogecoin as [\\u2026] The post Dogecoin (DOGE) is the \\u201cstrongest cryptocurrency\\u201d Mark Cuban says appeared first on Invezz.\",\"Dogecoin, a cryptocurrency that sprang to prominence as a result of Elon Musk's (tech billionaire) tweets, is currently one of the world's most frequently used cryptocurrencies. The meme currency is used by people all around the world to make money. Some people purchase Dogecoin intending to resell it. Others mine the token with their computers. \\u2026\",\"The newly-promoted soccer club Watford will wear Dogecoin on kit sleeves in the 2021-22 English Premier League season. Watford FC To Wear Dogecoin On Sleeves In Sponsorship Deal With Stake.com As per a report from The Athletic, Watford FC's sponsorship deal with Stake.com will have the club wearing Dogecoin on kit sleeves.\",\"The DOGE festival is here finally! It was initially announced back in May following the growing popularity of the meme coin.\",\"The soul superstar is the latest celeb turned meme coin fan.\",\"Since starting to accept dogecoin as payment for merchandise in March, the Dallas Mavericks organization has seen made with the meme-inspired cryptocurrency, according to team owner Mark Cuban. In an effort to continue this push, Cuban that the organization will offer \\\"special pricing\\\" for those paying with dogecoin during the Mavericks' summer sale.\",\"Dogecoin (CRYPTO: DOGE) traded the green in the early hours of Friday. What's Moving?\",\"Late Thursday night, Dallas Maverick's owner and \\u201cShark Tank\\u201d host Mark Cuban said on Twitter fans of the basketball team would receive special pricing for merchandise at an upcoming sale if paying with Dogecoin (CRYPTO: DOGE).\",\"Dogecoin festival has been in the works for a while now. The festival was announced following the growing popularity of the meme coin.\",\"AMC Entertainment is making crypto headlines once again on Friday as investors are wondering: Will AMC accept Dogecoin as a form of payment?\",\"Dogecoin seems to have found renewed buying pressure in the market. The alt witnessed a prolonged consolidation and just managed to stay afloat above its 20-SMA (red) but its 7th August hike provided a much needed spark for another bull run.\",\"DOGE is showing strong price movements in recent days, but on-chain data suggests that it is not fundamentally supported\",\"The Dogecoin version of Lollapalooza is set to take place this October\",\"The price of Dogecoin has recovered in part due to recent cryptocurrency trends. Bitcoin has risen beyond $45,000 thanks to favourable technicals. Its incredible surge appears to have met a stumbling block before rising to around $0.30. Despite the fact that the market has repeatedly proved that it is volatile and subject to change at \\u2026\",\"TL;DR Breakdown The Dogecoin price analysis started off the day with bullish momentum Decreasing momentum saw the overall crypto market trade within the red zone overnight DOGE has been struggling to regain support above $0.2500 Dogecoin Price Analysis: General price overview The Dogecoin price analysis started off the day with bullish momentum, following a smooth [\\u2026]\",\"XRP gained substantially and continued to trade above the dollar mark at $1.02 while eyeing $1.08 resistance. Dogecoin rose by 5.3% while BCH prepared to target $644 next.\",\"Dogecoin (CRYPTO: DOGE) traded 1% higher over 24 hours early Thursday. What's Moving?\",\"Following this year's hype toward the meme-based digital currency dogecoin, a team of developers revealed the launch of an augmented reality (AR) mobile game called \\u201cDogemon Go.\\u201d Similar to the AR game Pok\\u00e9mon Go, players catch virtual characters dubbed \\u201cDogemons\\u201d and while characters level up they can earn dogecoin for rewards. Catching Dogemon and Earning [\\u2026]\",\"DOGE price has risen nearly 40% the last week Dogecoin Bulls are struggling to fully break its resistance zone 500MA is holding as support for the first time in almost 2 months DOGE price has been fairly slow compared to its performance in the beginning of the year. Even though it has revived nearly 77% The post DOGE Price Analysis: Dogecoin Attempts To Break Major Resistance Zone, Will Bulls Push It Past $0.30?\",\"A Twitter profile dedicated to DOGE's investor sentiment\",\"TL;DR Breakdown DOGE rallied to the $0.29 mark yesterday. Further upside heavily rejected.\",\"Catch up on the latest crypto market news at The Currency Analytics. \\u00a0 Adam Aron, CEO of AMC theatres expressed, AMC announced on Monday that by year-end, we would have the technology\\u2026 The post Most People Don't Understand How Big DogeCoin (DOGE) Will Be appeared first on Cryptocurrency News.\",\"DOGE rises further than the entire crypto market after a 41% surge in one week showing the meme token is alive and well with also a 12% boost in the price today alone so let's take a closer look at the price analysis in our Dogecoin news. Dogecoin has seen some strong value recently with [\\u2026]\",\"Twitter Inc. (NYSE: TWTR) and Square Inc.\",\"Why is the crypto market down today? Bitcoin is facing resistance and holding other cryptocurrencies down with it.\",\"A Weekly Series Of Essays About The Language Of Bitcoin by Alex McShane\",\"Ethereum is the second-largest cryptocurrency after Bitcoin. Although the majority of crypto transactions are legitimate, many are also fraudulent.\",\"As Bitcoin dipped, Ethereum too registered a 1.4% decline in prices over the last 24 hours. Altcoins such as XRP have paved their own trade trajectory as they recorded a multi-month high after surging by 22% since yesterday.\",\"The last few days have been pretty slippery for Bitcoin. Bulls were, however, able to prevent massive losses and fairly maintain their dominating position in the market.\",\"As Bitcoin is back at it, popular analyst Scott Miller known as \\u201cWolf of All Street\\u201d has made ultra bullish predictions for BTC price action in the months to come. The analyst in his podcast says, $10 billion in liquidation was observed when bitcoin plummeted from $60,000 to $50,000. A total of one million retail \\u2026\",\"On the 50th anniversary of the fiat dollar, the U.S. is addicted to instant gratification in money printing, processed foods and more.\",\"Crypto trader and influencer Aaron Arnold is highlighting an upcoming development for Cardano that he says could act as a catalyst for an ADA price surge in the coming weeks. In a new video, Arnold tells his 925,000 YouTube subscribers that Cardano is could be ready to blast off as the Ethereum competitor gears up [\\u2026] The post This Cardano Catalyst Could Send ADA to Greater Heights, According to Crypto Trader Aaron Arnold appeared first on The Daily Hodl.\",\"A Weekly Series Of Essays About The Language Of Bitcoin by Alex McShane\",\"Bitcoin (BTC/USD) searched for market bias early in the Asian session as traders continued to seek fresh technical sentiment following recent trading activity around the 45000 level.\\u00a0 Traders recently lifted BTC/USD from the 43899.75 level, an area that represented a test of the 78.6% retracement of the appreciating range from 42505.02 to 48912.\",\"Catch up on the latest crypto market news at The Currency Analytics. Dan Held stated that Bitcoin is the killer blockchain application; it feels like it's ready for a breakout.\",\"Ethereum is the second-largest cryptocurrency after Bitcoin. Although the majority of crypto transactions are legitimate, many are also fraudulent.\",\"Ethereum (ETH/USD) awaited fresh technical sentiment early in the Asian session as the pair continued to orbit the psychologically-important 3000 figure.\\u00a0 Traders recently lifted ETH/USD from the 2985.39 area following some brief trading activity below the 200-hour simple moving average.\",\"Cardano is currently one of the strongest assets in the entire market. The third-generation cryptocurrency has been making huge strides, ranging from 4% to as high as 13% and 17% in a single day.\",\"Meme-coins have their fair share of, both, proponents and opponents. They often end up clashing with each other on social media.\",\"The Ethereum 2.0 staking platform continues to see a slow grind to seven million ethereum being staked. The post ETH 2.0 Staking Nears 7M ETH, Totaling $21.7B in Value.\",\"Leading Dogecoin (DOGE) advocates Mark Cuban and Elon Musk have voiced their support for the meme-inspired altcoin as its price continues to climb. The post DOGE \\u2018Strongest' Crypto as Medium of Exchange, Says Mark Cuban appeared first on BeInCrypto.\",\"Matt Wallace is as close as you can get to a \\\"Dogecoin expert.\\\" On his YouTube channel Final Stand, Wallace covers everything under the moon when it comes to Dogecoin (CRYPTO: DOGE).\",\"Canada has been one of the pioneering countries to approve cryptocurrency exchange-traded funds [ETFs]. However, a recent survey indicated that despite the lenient guidelines for investors, the people were not convinced about the safety of their investment.\",\"The Bank of Russia expressed concerns over the increasing number of local investors pouring their money into Bitcoin.\",\"Discussing how potential tapering by the Federal Reserve, economics in China, U.S. legislation and more through a Bitcoin lens.\",\"Five North American bitcoin mining firms have churned out a total of 1,802 bitcoin in July \\u2013 on average 58% more than what they did in June. The post These five North American firms mined 58% more bitcoin in July thanks to China appeared first on The Block.\",\"What is the new \\u201cChina Model\\u201d? And why would that country ban an industry that made them the ultimate leaders in the most important development in recent times?\",\"In a deal being struck by Black Rock Petroleum Company, up to 1 million bitcoin mining machines will be relocated to three natural gas-producing sites in Alberta.\\u00a0 After the Chinese purge of bitcoin mining from the country, a huge amount of mining machinery has come up for grabs to countries where cryptocurrency mining is still encouraged.\",\"Catch up on the latest crypto market news at The Currency Analytics. I'm pleased to announce that Senators Warner, Toomey, Sinema, Lummis & I have reached an agreement on an amendment to\\u2026 The post Bitcoin (BTC) Bullish Crypto Community Senses America is Great Again appeared first on Cryptocurrency News.\",\"Catch up on the latest crypto market news at The Currency Analytics. Decentralized investment will ultimately be regulated.\",\"The official Portuguese shop of Chinese electronics giant Xiaomi has partnered with Utrust to unlock payments in five cryptocurrencies.\",\"Guizhou province is the first in China to announce an ambitious electric vehicle campaign, taking advantage of the power capacity freed up by Beijing's Bitcoin mining ban.\",\"China's leading smartphone manufacturer Xiaomi has announced that the recent advertisement for Bitcoin and crypto payment made by the Portugese MI store has no connection with the company's operation. A Facebook advertisement posted by the MI store indicated that it would accept payments in Bitcoin and a few other cryptocurrencies.\",\"The official retail store for Chinese multinational electronics company, Xiaomi, Mi Store Portugal revealed that it will start accepting crypto payments. According to a recent report, Mi Store Portugal disclosed that customers can now purchase all Xiaomi products with five different cryptocurrencies.\",\"Electronics giant's Xiaomi shops in Portugal will start accepting Bitcoin payments after partnering with Utrust to unlock this new feature in five cryptocurrencies as we can see more in our latest Bitcoin news. Chinese electronics manufacturer Xiaomi is the latest company to get involved in the crypto industry as its Xiaomi shops in Portugal will [\\u2026]\",\"Bakkt is bringing BTC payments to stores across the United States under a new partnership with restaurant quick-service Quiznos as we are reading more in our latest BTC news. Digital asset marketplace Bakkt is bringing btc payments as it announced in a new partnership with the restaurant chain Quiznos to launch the first physical location [\\u2026]\",\"Melanion Capital's fund will invest in stocks that intend to have up to a 90% correlation with the price of Bitcoin.\",\"Xiaomi's Portuguese branch has started accepting cryptocurrency payments\",\"The European Union has approved a French fund manager's filing for an exchange-traded fund [ETF] which will track Bitcoin\\u2018s price closely. This will make Melanion Capital among the first companies to offer the world's largest cryptocurrency through mutual funds in Europe, as per reports.\",\"The latest report shows that France-based fund manager Melanion Capital has received a regulatory go-ahead for an exchange-traded fund that seeks to track the price of Bitcoin (BTC) while satisfying the laws in Europe. In the information provided to Financial Times, Melanion Capital noted that the fund is 90% correlated to Bitcoin.\",\"It will be a fund that replicates the prices of a basket of equities linked to the price of BTC\",\"This is not a state initiative, but a promotion of a crypto exchange\",\"Although President Nayib Bukele was confident about his country's decision to recognize Bitcoin as legal tender, he was nearly brought down by widespread institutional criticism from agencies such as the International Monetary Fund (IMF), the World Bank and others. However, the recent endorsement from Bank of America gives Bukele renewed vigor and enthusiasm to continue pursuing the Bitcoin dream.\",\"Melanion Capital will launch an exchange-traded fund that closely tracks the price of Bitcoin with a basket of stocks\",\"French asset manager Melanion Capital is set to launch an EU-regulated fund that closely tracks the price of bitcoin, according to a Financial Times report on Wednesday. If successful, this will be the first time that investors in the region will be able to get exposure to Bitcoin through a mutual-fund investment vehicle.\",\"#bitcoinmining #Chinamining #bitcoinChina Chinese mining firms are looking to the United States amid the China crackdown on crypto. CoinDesk Global Macro Editor Emily Parker joins Yahoo Finance's Zack Guzman and Akiko Fujita to discuss.\",\"Select restaurants of Quiznos will test accepting bitcoin in certain locations in Denver, Colorado beginning in mid-August. The post Bakkt partners with Quiznos to pilot bitcoin payments in Denver appeared first on The Block.\",\"Bank of America (BofA), one of the largest banks in the US, believes El Salvador has a lot to gain from its decision to adopt Bitcoin. In a report shared by El Salvador's President Nayib Bukele to a state-owned publication, BofA\\u00a0highlights the four key upsides to the country's Bitcoin adoption.\\u00a0 The bank says that remittances [\\u2026] The post Here Are the Four Upsides to El Salvador's Bitcoin Adoption, According to Bank of America appeared first on The Daily Hodl.\",\"#bitcoin #bitcoinmining #Chinabitcoinminingcrackdown Chinese bitcoin miners are heading to Texas. Riot Blockchain CEO Jason Les joins Yahoo Finance's Zack Guzman and Akiko Fujita to discuss.\",\"Russia, a nation actually wrestling with different parts of managing digital currencies might be mellowing its position on the resource class, as ongoing occasions demonstrate....\",\"India's cryptocurrency ban is still up in the air\",\"Bank of America has outlined some benefits to be had from adopting bitcoin as legal tender in El Salvador. The opportunities include low-cost remittances, financial digitization, more choices, and greater investments from foreign companies. Bank of America Highlights Opportunities Bitcoin Brings to El Salvador as Legal Tender Bank of America (BOA) outlined some potential benefits [\\u2026]\",\"A report from the Bank of America lists some potential benefits for El Salvador as it works to implement bitcoin into its economy. The post Bank of America Report Sees Upsides to El Salvador Bitcoin Adoption appeared first on BeInCrypto.\",\"US financial services player Bank of America, one of the world's largest banks, has come out in support of El Salvador's Bitcoin bill in a note to clients last week. The post El Salvador's Bitcoin bill has 5 key benefits, says Bank of America appeared first on CryptoSlate.\",\"Bank Of America has said that it sees how El Salvador's adoption of Bitcoin could help the Island country. President Bukele Agrees With Bank Of America President Nayib Bukele of El Salvador, a Central American country, tweeted yesterday screenshots of a Bank of America economic outlook report (BofA).\",\"BofA sees four upsides to Bitcoin adoption in El Salvador, including remittances, financial digitalization, and foreign investments.\",\"The decision to make BTC legal tender in the country is also having consequences outside the country itself\",\"Catch up on the latest crypto market news at The Currency Analytics. Nayib Bukele pointed to the Bank of America statement, \\u201cWe recently revised up our GDP growth forecasts for 2021, to\\u2026 The post Why are Bitcoin (BTC) Fans looking at El Salvador and Bank of America Statements?\",\"Catch up on the latest crypto market news at The Currency Analytics. Cryptocurrencies are legal in Japan.\",\"Catch up on the latest crypto market news at The Currency Analytics. China has banned banks from using bitcoin and banished so-called crypto \\u2018miners' from the country.\",\"The new hires will help PayPal expand its crypto-focused business offering at a time of rapid adoption of Bitcoin and Ether.\",\"\\u201cMore than 70% of the adult population of El Salvador does not have a bank account,\\u201d reads the latest Global Research report from Bank of America. \\u201cFor that reason, democratizing access to electronic payments, through Bitcoin, has a progressive touch.\",\"America's second-largest bank sees a slew of advantages in El Salvador's move to adopt Bitcoin\",\"Finland is currently looking for cryptocurrency brokers to assist in the sale of bitcoin used in criminal activities. The post Finland Seeking Brokers to Assist in Sale of $82M Worth of Seized BTC\\u00a0 appeared first on BeInCrypto.\",\"Congressman Warren Davidson explained how the cryptocurrency tax addition to the Senate infrastructure bill is bad for the U.S.\",\"A daily close above $40,000 could see Bitcoin nurture a key uptrend to $50,000. PayPal to debut a crypto exchange platform in the UK as the market turns green.\",\"American retirement savings represent a new beachhead for bitcoin \\u2014 we just need to make sure people hold their own keys.\",\"As many as eight China-based Bitcoin mining firms are said to be looking to relocate operations to Paraguay, home to abundant hydroelectric energy.\",\"Finland's customs authority is looking for brokers to sell 1,981 bitcoins seized in drug cases. The coins are currently worth nearly $80 million. Finland's customs authority announced Thursday that it is seeking brokers to sell 1,981 bitcoins seized in drug busts, Bloomberg reported, noting that the coins were forfeited to the state by court order. [\\u2026]\",\"Bitcoin was exchanging lower on Friday, finishing the week around $39,000. Its 2% droop as of now might mirror some benefit taking\\u2014following a new 35%...\",\"China is going through one of its toughest month in years where international markets are concerned with the Chinese Communist Party (CCP) uneasy about what risks becoming an exodus, and.\",\"Cryptos seized are related to a scam whose victims are located in the UK, Europe, China, the US, Hong Kong, and Australia.\",\"Ethereum (CRYPTO: ETH) continues its astronomical rise as favorable fundamentals motivate buyers to pile up and drive demand for the coin, overtaking major publicly traded firms as proponents talk about it potentially overtaking top cryptocurrency Bitcoin (CRYPTO: BTC).\",\"Every sector within the digital asset industry saw significant growth in 2021. This included developments in DeFi, Bitcoin\\u2018s new ATH levels, and the growth of pre-existing projects such as Cardano and Binance Coin.\",\"The changing trading patterns in USDT might be the result of China's recent crackdown on cryptocurrency mining and trading.\",\"Ethereum (CRYPTO: ETH) co-founder Vitalik Buterin's donation of $1 billion in Shiba Inu (CRYPTO: SHIB) coins to an India Covid-19 relief fund about two months ago has been slow in reaching the people due to several issues, Bloomberg\",\"A new partnership with LegitDoc places India among early adopters to implement an e-governance system for higher education.\",\"TL;DR Breakdown The diploma certification verification in India to be done using Ethereum blockchain technology. A recent partnership was announced by LegitDoc with the Maharashtra Government.\",\"The first in-person Ethereum event since the pandemic was a low-key but upbeat affair in Paris last week. But EthCC was as far away from Bitcoin Miami as you could get.\",\"The founder of Ethereum has high hopes for the network's uses for social good that go way beyond the fast financial gains of DeFi investing.\",\"The Brazilian Securities Commission (CVM) just approved an exchange-traded fund (ETF) that tracks the performance of Ethereum (ETH). Blockchain investment firm QR Capital, the holding company of QR Asset Management, says\\u00a0the Ethereum ETF will be traded on the country's stock exchange, B3, with the ticker QETH11. QETH11 is the first ETF exchange-traded fund to be [\\u2026] The post Brazil Green Lights First Ethereum ETF in Latin America appeared first on The Daily Hodl.\",\"An Ethereum (CRYPTO: ETH) exchange-traded fund (ETF) has been approved by the Brazilian Securities Commission (CVM) to trade on the B3 stock exchange.\",\"The Brazilian Securities Commission (CVM) has approved the first exchange-traded fund tracking the performance of Ethereum (ETH) in Latin America.\",\"The new fund will be trading under the ticker \\\"QETH11\\\" in the B3 stock exchange.\",\"Ethereum network is taking a big step toward a scalable PoS blockchain. Here is how the London and Berlin hard forks fit into the road to Ethereum 2.0.\",\"On Tuesday, 13th July, the Brazilian Securities Regulator (CVM) approved the first-ever cryptocurrency exchange-traded fund (ETF) that tracks the performance of Ether digital currency in Latin America. The QR Asset Management announced the approval of this Ether ETF \\u2013 QETH11 \\u2013 which shall be listed on the Brazilian Stock Exchange B3.\",\"Brazil's Securities Commission approved the first Ethereum ETF in Latin America as we can see more in our latest ethereum news today. The Brazilian Securities Commission approved the first exchange-traded fund tracking the ETH performance in Latin America.\",\"The Chinese province of Anhui has become the latest to ban cryptocurrency mining as Beijing steps up efforts to restrict the energy-intensive practice and achieve its climate goals.\",\"On Tuesday, July 13, the Brazilian Securities Regulator (CVM) approved the new cryptocurrency exchange-traded fund (ETF) that tracks the performance of Ether digital currency. The QR Asset Management announced the approval of this Ether ETF\\u00a0 \\u2013 QETH11 \\u2013 which shall be listed on the Brazilian Stock Exchange B3.\",\"After reports former bitcoin and ethereum miners in China have been dumping GPUs, analysts have warned crypto prices are \\\"in danger\\\"...\",\"The Group is planning to move its staff to different countries including Canada, UAE, the US, Iceland, and Kazakhstan.\",\"Owing to the new stricter crypto regulations in China, the IBC Group has decided to pack up its mining operations in the country and move to new locations in UAE, Canada, USA, Kazakhstan, Iceland, and various South American countries. China's Crypto Crackdown Drives Out Institutional Miners The institutional crackdown on crypto-related activities in China has been chalked up to the government trying to \\u2018control financial risks.\",\"\\\"First Mover\\\" dives into crypto markets and business news, including Ethereum's upcoming upgrade. Is it bullish or bearish for ETH?\",\"The Bitcoin network is not the only victim of China's ongoing mining crackdown as a substantial amount of Ethereum is also mined on the mainland.\",\"China ramps up the pressure on crypto, telling banks to stop facilitating transactions. Cryptocurrencies fell with bitcoin dropping below $30K Tuesday morning.\",\"Officials told state media they have halted 90% of the country's bitcoin mining operations.\",\"CME's bitcoin futures goes into \\\"backwardation\\\" and BTC inflows to exchanges rise as China \\\"FUD\\\" continues.\",\"Those living in the Lone Star State will be able to buy Bitcoin (CRYPTO: BTC), Ethereum (CRYPTO: ETH), and Dogecoin (CRYPTO: DOGE) along with their apples and oranges soon.\",\"Privacy is a top concern for decentralised finance (\\u201cDeFi\\u201d) and general cryptocurrency users. The commonly held belief of anonymity formerly drove many to use currencies like Bitcoin and Ethereum, but this is quickly fading as more surveillance comes to light.\",\"Financial Conduct Authority (FCA) has confirmed an increase in the number of cryptocurrency holders in UK, arising from an increase in public interest and media coverage. Based on the findings from its recently conducted research, the FCA discovered a growing involvement of financial services players in the digital currency ecosystem, as well as increased interest The post Cryptocurrency Holders Rises to 2.3 Million in UK; BTC, XRP, ETH Among Top Choices appeared first on Coingape.\",\"With the debate on crypto mining's energy use increasingly involving renewable sources, a rising number of UK farmers are reaching for a surprising reservoir of power - cow waste, aka dung - using this traditional, multipurpose resource to generate electricity for carbon-neutral crypto mining operations, therefore to diversify and up their revenues. Currently,\",\"There's a lot of buzz in China around the Bee mainnet soft launch following the recent hype surrounding Filecoin and Chia. Reports detail that Swarm is set to kickstart the mainnet on June 13, and droves of miners from China are getting prepared to obtain rewards from the distributed storage platform and content distribution service. [\\u2026]\",\"Join us for the latest episode of \\\"Keeping Up With the Cryptocurrencies.\\\"\",\"San Jose Sharks has become the first NHL team to accept cryptocurrencies such as Bitcoin (BTC), Ethereum (ETH) and Dogecoin (DOGE) for large payments.\",\"The California-based National Hockey League team, San Jose Sharks have announced that they will now accept cryptocurrencies as payments through the BitPay payment service. The development will take effect starting in October, when the 2021-2022 NHL season begins.\",\"The acceptance of top cryptocurrencies like Bitcoin, Ethereum, and XRP on gambling sites are part of the reason why illegal online gambling is rising in Asia, a report from the Asian Racing Federation (ARF) said earlier this week. The post Crypto bets via Bitcoin, Ethereum, XRP are fueling illegal gambling in Asia appeared first on CryptoSlate.\",\"The Canadian Purpose Group Ether ETF\\u00a0 has breached 50,000 ETH worth $122.7 million in AUM even when the price of the second largest cryptocurrency has registered a 50% decline from the top during the recent market correction. The Ether ETF was launched by the firm on April 20 and in just over a month it The post Canada Based Purpose Ether ETF AUM Breach 50,000 ETH appeared first on Coingape.\",\"The vulnerability was first discovered in late 2019.\",\"Without providing his precise reasons, a UK Parliament member said he was more bullish on ether rather than bitcoin and even mentioned the \\\"flippening.\\\"\",\"Within two hours of the State Council statement, BTC fell 11%, based on CoinDesk 20 data.\",\"Tom Tugendhat has been in the united kingdom government for more than five years. The member of parliament has urged UK citizens to put more of their energy into financial innovations.\",\"Canada's central bank today issued a stark warning about \\u201chigh-risk\\u201d assets like Bitcoin and Ethereum.\",\"Ether search interest is higher than ever, and is attracting interest from around the globe, a new report reveals.\",\"Top cryptocurrencies are a sea of green as observers ponder a new Dogecoin mystery: Why did the meme crypto suddenly crash and recover? Igor Telyatnikov of exchange software provider AlphaPoint joins our markets discussion.\",\"The blockchain shift from Ethereum to alternate chains closely resembles the exodus of tech talent from San Francisco to emerging hubs.\",\"Ethereum, the world's most-used blockchain by daily transactions and the second-largest by market cap, broke the $3,000 price level in the early hours Monday, data from multiple sources shows. The post Ethereum breaks $3,000\\u2014it's now more valued than Bank of America appeared first on CryptoSlate.\",\"Asset manager WisdonTreees announced the listing of Ethereum exchange-traded products (ETP) on the Swiss and German stock exchanges. The new ETP will trade with the ticker \\u201cETHW\\u201d and will track the spot price of Ethereum (ETH). The physically-backed ETP also has an expense ratio of 0.95%, according to WisdomTree. This is coming barely a month [\\u2026] The post Another Ethereum ETF has been listed in Germany, this time from WisdomTree appeared first on Invezz.\",\"Further growth may be on the horizon for the world's largest smart contract platform.\",\"Two weeks after releasing a Bitcoin ETP, WisdomTree has launched an Ethereum ETP on Germany's B\\u00f6rse Xetra and the SIX Stock Exchange.\",\"The Alonzo upgrade for Team Cardano is chugging on at a steady speed, with the first fully public Cardano testnet went live this week. Let's look into what that means for the Cardano community and other mentionable incidents that happened for the fifth largest crypto this week.\",\"Crypto investors in Japan can look forward to buying and selling Cardano as the fifth-largest crypto asset gets the green light for listing on exchanges operating in the country. Sebastien Guillemot, the former executive of Cardano-founding entity EMURGO, says that getting ADA's regulatory approval is no easy feat due to Japan's \\u201cstrict\\u201d rules involving the [\\u2026] The post Cardano Gets Approval for Listing on Crypto Exchanges in Japan appeared first on The Daily Hodl.\",\"Cardano (ADA) just became one of the rare tokens that succeeded to receive approval to be listed on crypto exchanges in Japan. The post Cardano (ADA) sees Japan listing after passing strict crypto regulatory checks appeared first on CryptoSlate.\",\"Cardano (ADA) has recently secured another win in its long repertoire of wins lately. The native coin of Cardano, ADA, has now been approved to be listed in Japan, which features one of the hardest listing requirements in the world.\",\"Japan is probably one of the first countries in the world to open its doors to cryptocurrencies to the extent that it did, and while many nations have gone more crypto-friendly since then, Japan still plays a major role in crypto history. However, that does not mean that Japan is not extremely strict when it [\\u2026] The post Cardano (ADA) finally receives regulatory approval to be listed in Japan appeared first on Invezz.\",\"Earlier today, Sebastien Guillemot, CTO at dcSpark, as well as former Co-VP of Eng. & Cardano PM at EMURGO, said that $ADA has finally been approved for listing on a Japanese crypto exchange and explained why this is a big deal. According to Guillemot, it is not easy for cryptoassets to gain regulatory approval for [\\u2026]\",\"Catch up on the latest crypto market news at The Currency Analytics. Charles Hoskinson, Cardano (ADA), in response to China advances its war on Bitcoin, cracks down on mining:\\u00a0 Remember, with a\\u2026 The post PoS of Cardano (ADA) Scaring Devil out of PoW of Bitcoin (BTC) in China appeared first on Cryptocurrency News.\",\"Popular crypto trader Austin Arnold says seven altcoin crypto assets have tremendous potential to make gains in the near future. Arnold tells his 751,000 YouTube subscribers that he's excited about Cardano, citing news that Cardano's ERC20 converter is getting close to its testnet phase. \\u201cThis is huge for Cardano\\u2026 but this speaks even more so [\\u2026] The post Elite Group of Seven Crypto Assets Have \\u2018Insane Potential,' According to Trader Austin Arnold appeared first on The Daily Hodl.\",\"Vancouver-based iMining announced after extensive research and testing that they are set to launch a staking service for cardano (ADA). The post Canada-Based Crypto Company iMining Launches Cardano Staking appeared first on BeInCrypto.\",\"Billionaire Mark Cuban is taking a deeper dive into crypto with Cardano\",\"Swiss crypto payments processor FNTX Capital Suisse has teamed up with Portuguese property developer 355 Developments, allowing customers to buy luxury condos with Bitcoin (BTC), Dogecoin (DOGE), Ethereum (ETH), and Cardano (ADA), it said in a release today. The post You can now buy luxury condos with Dogecoin (DOGE) and Cardano (ADA) in Portugal appeared first on CryptoSlate.\",\"Crypto influencer and trader Austin Arnold is uncovering a list of three altcoins that have life-changing potential as they march toward mass adoption. In a new video, Arnold first spotlights Ethereum competitor Cardano (ADA), which has just locked in impressive partnerships in Ethiopia and Tanzania. Arnold notes that in Ethiopia the team behind Cardano, Input [\\u2026] The post Three Altcoins With Life-Changing Potential Are Blazing Toward Mass Adoption, Says Trader Austin Arnold appeared first on The Daily Hodl.\",\"The University of Zurich will include a class on Cardano in its Deep Dive Into Blockchain 2021 curriculum.\",\"A few days after FD7 Ventures, a Dubai-based crypto-investment fund, made news after it announced its decision to sell its Bitcoin holdings worth $750M to buy more Cardano and Polkadot, the fund is in the headlines again. According to a press release, FD7 Ventures has now launched a $250M Micro-Fund in India to invest in [\\u2026]\",\"Crypto investment fund opens an office in India and sets up a $250 million endeavor to invest in Cardano and Polkadot.\",\"Litecoin, the world's ninth-largest cryptocurrency by market cap, will soon see an institutional listing in the form of an exchange-traded product (ETP) in Switzerland, as per a press release by crypto investment firm CoinShares today. The post A Litecoin (LTC) ETP just launched in Switzerland appeared first on CryptoSlate.\",\"The XXXII Tokyo Summer Olympics are special not only because they take place under such difficult circumstances but also because they are happening when our understanding of the definition of money and assets is changing. Here's why.\",\"Young British investors are taking on large financial risks to get their hands on Bitcoin (BTC) and Dogecoin (DOGE), according to a new poll by market research firm Opinium. Opinium surveyed 1,000 UK citizens between 18 and 29 years old from June 21st to June 25th. The results of the survey show that Bitcoin is [\\u2026] The post Young Investors Taking Big Risks To Own Bitcoin and Dogecoin, According to New UK Survey appeared first on The Daily Hodl.\",\"While BTC and ETH rank 6th and 10th, CoinMarketCap data outlined Shiba Inu, Doge Killer, and other meme coins as the highest-trending tokens in the US.\",\"DOGE and BTC ATMs are coming to the Texas grocery giant H-E-B supermarkets and many more will be installed in the near future so let's read more in our latest Dogecoin news today. Coin Cloud's 2000th BTC ATMs are coming to the H-E-B store and many more will be installed.\",\"Coin Cloud's 2,000th Bitcoin ATM is arriving to a H-E-B store. Many more will be installed in the Texas supermarket chain's outlets.\",\"The founder of Doge dropped a three-tiered series of NFTs and Paris Hilton becomes an NFT advisor.\",\"What Happened: London-based Fintech company Revolut announced support for meme-based cryptocurrency Dogecoin on Tuesday.\",\"Ruffer revealed on Tuesday that it had sold its $600M position for $1.1B, citing concerns over excessive speculation across the cryptocurrency market.\",\"TL;DR Breakdown American hockey announced it now accepts digital currencies including Doge Other sports organizations that have adopted crypto payment In another significant development for the cryptocurrency space, more sports organizations are announcing their digital currency adoption as San Jose Sharks becomes the latest sporting team to add support for several cryptocurrencies. Jonathan Becher, president [\\u2026]\",\"Famous NHL's San Jose Sharks has joined a list of very few sports teams globally that accept cryptocurrencies like Bitcoin, Dogecoin, and Ethereum\\u00a0for transactions, according to an announcement made by the club's President, Jonathan Becher. The post NHL team San Jose Sharks to accept payments via Bitcoin, Dogecoin, and others appeared first on CryptoSlate.\",\"It's part of a partnership with BitPay.\",\"Cryptocurrency investors with Dogecoin (DOGE) to spare can now spend some of their Shiba Inu-themed coins to purchase luxury condos in Portugal, according to reports.\",\"You can now use Dogecoin to buy luxury apartments in Portugal, with a penthouse currently on sale for around 5 million DOGE, worth roughly $2.2 million.\",\"DOGE leading in volume and search hits, VeChain's blockchain solution on state run CGTN, and HOO launches a smart chain of its own\",\"KFC Canada claims to accept Dogecoin, but there is no apparent way to pay with the coin.\",\"South Korean crypto exchanges processed more Dogecoin trades yesterday than the average volume of stocks traded on the country's traditional exchanges, data from multiple sources shows. The post Dogecoin volumes in Korea exceeded those of its entire stock market yesterday appeared first on CryptoSlate.\",\"This week a number of digital assets saw significant gains, but the meme-themed digital asset dogecoin has seen a significant rise during the last 48 hours. Dogecoin tapped a high of $0.143 per unit on Wednesday and has spiked more than 104% during the last week. Meanwhile, the billionaire investor and television personality, Mark Cuban, [\\u2026]\",\"The billionaire owner of the Dallas Mavericks, Mark Cuban, tweeted his team had sold more than $122,000 worth of merch paid for in Dogecoin (DOGE). The post Much wow!\",\"Dogecoin has reentered the top ten and marked a new ATH at $0.14 as celebrity adoption continues and the Mavs said they will keep every single DOGE received for payments.\",\"In an unexpected move, Mark Cuban's NBA team, the Dallas Mavericks, have announced its decision to start accepting Dogecoin as a means of payment for tickets and other club merchandise. In addition, Mark Cuban spoke of how he's having fun with Dogecoin during a recent interview. The Dallas Mavericks, via its official Twitter account, disclosed [\\u2026] The post Dallas Mavericks Accepts Dogecoin, Mark Cuban Supports appeared first on Altcoin Buzz.\",\"The billionaire has taken a liking to cryptocurrencies and the DeFi space in recent times, and Dogecoin is now getting his attention. The post Dallas Mavericks boss Mark Cuban says Dogecoin will \\u2018definitely' reach $1 appeared first on CryptoSlate.\",\"Dallas Mavericks owner Mark Cuban says the NBA team is now accepting Dogecoin (DOGE) as payment for game tickets and merchandise. The billionaire reveals in a statement why the franchise has decided to support the meme cryptocurrency. \\u201cThe Mavericks have decided to accept Dogecoin as payment for Mavs tickets and merchandise for one very important, [\\u2026] The post Mark Cuban Says Dallas Mavericks Will Accept Dogecoin \\u2013 Here's Why appeared first on The Daily Hodl.\",\"Mark Cuban's Dallas Mavericks will accept Dogecoin payments for game tickets and merchandise on its online store via crypto payment service provider, BitPay.\",\"Mike\\u00a0Novogratz\\u00a0says that Mark Cuban is making a mistake by accepting Dogecoin for Dallas Mavericks tickets and merchandise, calling it a \\u201cjoke\\u201d and adding that the emphasis should be on Bitcoin.\\u00a0 In an interview on Bloomberg TV,\\u00a0Novogratz, the CEO of Galaxy Digital, said that Bitcoin was where it was all happening, and that banks were \\u201cfrantically\\u201d trying to get in on the leading cryptocurrency.\",\"\\\"We will HODL any we get,\\\" Mark Cuban told Cointelegraph.\",\"Dallas Mavericks, the NBA team owned by billionaire Mark Cuban has become the first professional sports team to accept Dogecoin as a form of payment. The basketball team was already accepting Bitcoin and going by Cuban's word, the team did not receive any significant payment in Bitcoin.\",\"Mark Cuban has said that almost no one has paid the Mavericks in Bitcoin. So will anyone pay in Dogecoin?\",\"NBA pro basketball team The Dallas Mavericks will soon accept Dogecoin as payment, according to DealBook. Jumping on the Doge-Wagon Shark Tank investor Mark Cuban, who in January jumped on the NFT bandwagon, reportedly told DealBook that his NBA team will accept DOGE as payments for tickets and merchandise.\",\"Entrepreneur Mark Cuban who owns Dallas Mavericks has recently been bullish on matters of cryptocurrencies and blockchain. The Shark Tank host recently declared his fondness for the Ethereum Network and said that Bitcoin is better than gold.\",\"In a seemingly unprecedented move, it seems the Dallas Mavericks will begin accepting DogeCoin as payment for tickets. Mark Cuba, the crypto-savvy entrepreneur is also the owner of the popular basketball team.\",\"CoinFlip\\u00a0 announced \\u00a0that it would add support for Dogecoin in a move to meet the market's demand. Much ATM for Dogecoin The largest Bitcoin ATM provider in the U.S. said that its network of over 1,800 terminals is ready for users to buy and sell DOGE \\u201ceven in the most rural towns\\u201d of the nation.\",\"Users will be able to earn yield paid in BTC on all the rewards they've accumulated through the app.\",\"Canada has been one of the pioneering countries to approve cryptocurrency exchange-traded funds [ETFs]. However, a recent survey indicated that despite the lenient guidelines for investors, the people were not convinced about the safety of their investment.\",\"The Bank of Russia expressed concerns over the increasing number of local investors pouring their money into Bitcoin.\",\"Discussing how potential tapering by the Federal Reserve, economics in China, U.S. legislation and more through a Bitcoin lens.\",\"Five North American bitcoin mining firms have churned out a total of 1,802 bitcoin in July \\u2013 on average 58% more than what they did in June. The post These five North American firms mined 58% more bitcoin in July thanks to China appeared first on The Block.\",\"What is the new \\u201cChina Model\\u201d? And why would that country ban an industry that made them the ultimate leaders in the most important development in recent times?\",\"In a deal being struck by Black Rock Petroleum Company, up to 1 million bitcoin mining machines will be relocated to three natural gas-producing sites in Alberta.\\u00a0 After the Chinese purge of bitcoin mining from the country, a huge amount of mining machinery has come up for grabs to countries where cryptocurrency mining is still encouraged.\",\"Catch up on the latest crypto market news at The Currency Analytics. I'm pleased to announce that Senators Warner, Toomey, Sinema, Lummis & I have reached an agreement on an amendment to\\u2026 The post Bitcoin (BTC) Bullish Crypto Community Senses America is Great Again appeared first on Cryptocurrency News.\",\"Catch up on the latest crypto market news at The Currency Analytics. Decentralized investment will ultimately be regulated.\",\"The official Portuguese shop of Chinese electronics giant Xiaomi has partnered with Utrust to unlock payments in five cryptocurrencies.\",\"Guizhou province is the first in China to announce an ambitious electric vehicle campaign, taking advantage of the power capacity freed up by Beijing's Bitcoin mining ban.\",\"China's leading smartphone manufacturer Xiaomi has announced that the recent advertisement for Bitcoin and crypto payment made by the Portugese MI store has no connection with the company's operation. A Facebook advertisement posted by the MI store indicated that it would accept payments in Bitcoin and a few other cryptocurrencies.\",\"The official retail store for Chinese multinational electronics company, Xiaomi, Mi Store Portugal revealed that it will start accepting crypto payments. According to a recent report, Mi Store Portugal disclosed that customers can now purchase all Xiaomi products with five different cryptocurrencies.\",\"Electronics giant's Xiaomi shops in Portugal will start accepting Bitcoin payments after partnering with Utrust to unlock this new feature in five cryptocurrencies as we can see more in our latest Bitcoin news. Chinese electronics manufacturer Xiaomi is the latest company to get involved in the crypto industry as its Xiaomi shops in Portugal will [\\u2026]\",\"Bakkt is bringing BTC payments to stores across the United States under a new partnership with restaurant quick-service Quiznos as we are reading more in our latest BTC news. Digital asset marketplace Bakkt is bringing btc payments as it announced in a new partnership with the restaurant chain Quiznos to launch the first physical location [\\u2026]\",\"Melanion Capital's fund will invest in stocks that intend to have up to a 90% correlation with the price of Bitcoin.\",\"Xiaomi's Portuguese branch has started accepting cryptocurrency payments\",\"The European Union has approved a French fund manager's filing for an exchange-traded fund [ETF] which will track Bitcoin\\u2018s price closely. This will make Melanion Capital among the first companies to offer the world's largest cryptocurrency through mutual funds in Europe, as per reports.\",\"The latest report shows that France-based fund manager Melanion Capital has received a regulatory go-ahead for an exchange-traded fund that seeks to track the price of Bitcoin (BTC) while satisfying the laws in Europe. In the information provided to Financial Times, Melanion Capital noted that the fund is 90% correlated to Bitcoin.\",\"It will be a fund that replicates the prices of a basket of equities linked to the price of BTC\",\"This is not a state initiative, but a promotion of a crypto exchange\",\"Although President Nayib Bukele was confident about his country's decision to recognize Bitcoin as legal tender, he was nearly brought down by widespread institutional criticism from agencies such as the International Monetary Fund (IMF), the World Bank and others. However, the recent endorsement from Bank of America gives Bukele renewed vigor and enthusiasm to continue pursuing the Bitcoin dream.\",\"Melanion Capital will launch an exchange-traded fund that closely tracks the price of Bitcoin with a basket of stocks\",\"French asset manager Melanion Capital is set to launch an EU-regulated fund that closely tracks the price of bitcoin, according to a Financial Times report on Wednesday. If successful, this will be the first time that investors in the region will be able to get exposure to Bitcoin through a mutual-fund investment vehicle.\",\"#bitcoinmining #Chinamining #bitcoinChina Chinese mining firms are looking to the United States amid the China crackdown on crypto. CoinDesk Global Macro Editor Emily Parker joins Yahoo Finance's Zack Guzman and Akiko Fujita to discuss.\",\"Select restaurants of Quiznos will test accepting bitcoin in certain locations in Denver, Colorado beginning in mid-August. The post Bakkt partners with Quiznos to pilot bitcoin payments in Denver appeared first on The Block.\",\"Bank of America (BofA), one of the largest banks in the US, believes El Salvador has a lot to gain from its decision to adopt Bitcoin. In a report shared by El Salvador's President Nayib Bukele to a state-owned publication, BofA\\u00a0highlights the four key upsides to the country's Bitcoin adoption.\\u00a0 The bank says that remittances [\\u2026] The post Here Are the Four Upsides to El Salvador's Bitcoin Adoption, According to Bank of America appeared first on The Daily Hodl.\",\"#bitcoin #bitcoinmining #Chinabitcoinminingcrackdown Chinese bitcoin miners are heading to Texas. Riot Blockchain CEO Jason Les joins Yahoo Finance's Zack Guzman and Akiko Fujita to discuss.\",\"Russia, a nation actually wrestling with different parts of managing digital currencies might be mellowing its position on the resource class, as ongoing occasions demonstrate....\",\"India's cryptocurrency ban is still up in the air\",\"Bank of America has outlined some benefits to be had from adopting bitcoin as legal tender in El Salvador. The opportunities include low-cost remittances, financial digitization, more choices, and greater investments from foreign companies. Bank of America Highlights Opportunities Bitcoin Brings to El Salvador as Legal Tender Bank of America (BOA) outlined some potential benefits [\\u2026]\",\"A report from the Bank of America lists some potential benefits for El Salvador as it works to implement bitcoin into its economy. The post Bank of America Report Sees Upsides to El Salvador Bitcoin Adoption appeared first on BeInCrypto.\",\"US financial services player Bank of America, one of the world's largest banks, has come out in support of El Salvador's Bitcoin bill in a note to clients last week. The post El Salvador's Bitcoin bill has 5 key benefits, says Bank of America appeared first on CryptoSlate.\",\"Bank Of America has said that it sees how El Salvador's adoption of Bitcoin could help the Island country. President Bukele Agrees With Bank Of America President Nayib Bukele of El Salvador, a Central American country, tweeted yesterday screenshots of a Bank of America economic outlook report (BofA).\",\"BofA sees four upsides to Bitcoin adoption in El Salvador, including remittances, financial digitalization, and foreign investments.\",\"The decision to make BTC legal tender in the country is also having consequences outside the country itself\",\"Catch up on the latest crypto market news at The Currency Analytics. Nayib Bukele pointed to the Bank of America statement, \\u201cWe recently revised up our GDP growth forecasts for 2021, to\\u2026 The post Why are Bitcoin (BTC) Fans looking at El Salvador and Bank of America Statements?\",\"Catch up on the latest crypto market news at The Currency Analytics. Cryptocurrencies are legal in Japan.\",\"Catch up on the latest crypto market news at The Currency Analytics. China has banned banks from using bitcoin and banished so-called crypto \\u2018miners' from the country.\",\"The new hires will help PayPal expand its crypto-focused business offering at a time of rapid adoption of Bitcoin and Ether.\",\"\\u201cMore than 70% of the adult population of El Salvador does not have a bank account,\\u201d reads the latest Global Research report from Bank of America. \\u201cFor that reason, democratizing access to electronic payments, through Bitcoin, has a progressive touch.\",\"America's second-largest bank sees a slew of advantages in El Salvador's move to adopt Bitcoin\",\"Finland is currently looking for cryptocurrency brokers to assist in the sale of bitcoin used in criminal activities. The post Finland Seeking Brokers to Assist in Sale of $82M Worth of Seized BTC\\u00a0 appeared first on BeInCrypto.\",\"Congressman Warren Davidson explained how the cryptocurrency tax addition to the Senate infrastructure bill is bad for the U.S.\",\"A daily close above $40,000 could see Bitcoin nurture a key uptrend to $50,000. PayPal to debut a crypto exchange platform in the UK as the market turns green.\",\"American retirement savings represent a new beachhead for bitcoin \\u2014 we just need to make sure people hold their own keys.\",\"As many as eight China-based Bitcoin mining firms are said to be looking to relocate operations to Paraguay, home to abundant hydroelectric energy.\",\"Finland's customs authority is looking for brokers to sell 1,981 bitcoins seized in drug cases. The coins are currently worth nearly $80 million. Finland's customs authority announced Thursday that it is seeking brokers to sell 1,981 bitcoins seized in drug busts, Bloomberg reported, noting that the coins were forfeited to the state by court order. [\\u2026]\",\"Bitcoin was exchanging lower on Friday, finishing the week around $39,000. Its 2% droop as of now might mirror some benefit taking\\u2014following a new 35%...\",\"China is going through one of its toughest month in years where international markets are concerned with the Chinese Communist Party (CCP) uneasy about what risks becoming an exodus, and.\",\"Ethereum is the second-largest cryptocurrency after Bitcoin. Although the majority of crypto transactions are legitimate, many are also fraudulent.\",\"Cryptos seized are related to a scam whose victims are located in the UK, Europe, China, the US, Hong Kong, and Australia.\",\"Ethereum (CRYPTO: ETH) continues its astronomical rise as favorable fundamentals motivate buyers to pile up and drive demand for the coin, overtaking major publicly traded firms as proponents talk about it potentially overtaking top cryptocurrency Bitcoin (CRYPTO: BTC).\",\"Every sector within the digital asset industry saw significant growth in 2021. This included developments in DeFi, Bitcoin\\u2018s new ATH levels, and the growth of pre-existing projects such as Cardano and Binance Coin.\",\"The changing trading patterns in USDT might be the result of China's recent crackdown on cryptocurrency mining and trading.\",\"Ethereum (CRYPTO: ETH) co-founder Vitalik Buterin's donation of $1 billion in Shiba Inu (CRYPTO: SHIB) coins to an India Covid-19 relief fund about two months ago has been slow in reaching the people due to several issues, Bloomberg\",\"A new partnership with LegitDoc places India among early adopters to implement an e-governance system for higher education.\",\"TL;DR Breakdown The diploma certification verification in India to be done using Ethereum blockchain technology. A recent partnership was announced by LegitDoc with the Maharashtra Government.\",\"The first in-person Ethereum event since the pandemic was a low-key but upbeat affair in Paris last week. But EthCC was as far away from Bitcoin Miami as you could get.\",\"The founder of Ethereum has high hopes for the network's uses for social good that go way beyond the fast financial gains of DeFi investing.\",\"The Brazilian Securities Commission (CVM) just approved an exchange-traded fund (ETF) that tracks the performance of Ethereum (ETH). Blockchain investment firm QR Capital, the holding company of QR Asset Management, says\\u00a0the Ethereum ETF will be traded on the country's stock exchange, B3, with the ticker QETH11. QETH11 is the first ETF exchange-traded fund to be [\\u2026] The post Brazil Green Lights First Ethereum ETF in Latin America appeared first on The Daily Hodl.\",\"An Ethereum (CRYPTO: ETH) exchange-traded fund (ETF) has been approved by the Brazilian Securities Commission (CVM) to trade on the B3 stock exchange.\",\"The Brazilian Securities Commission (CVM) has approved the first exchange-traded fund tracking the performance of Ethereum (ETH) in Latin America.\",\"The new fund will be trading under the ticker \\\"QETH11\\\" in the B3 stock exchange.\",\"Ethereum network is taking a big step toward a scalable PoS blockchain. Here is how the London and Berlin hard forks fit into the road to Ethereum 2.0.\",\"On Tuesday, 13th July, the Brazilian Securities Regulator (CVM) approved the first-ever cryptocurrency exchange-traded fund (ETF) that tracks the performance of Ether digital currency in Latin America. The QR Asset Management announced the approval of this Ether ETF \\u2013 QETH11 \\u2013 which shall be listed on the Brazilian Stock Exchange B3.\",\"Brazil's Securities Commission approved the first Ethereum ETF in Latin America as we can see more in our latest ethereum news today. The Brazilian Securities Commission approved the first exchange-traded fund tracking the ETH performance in Latin America.\",\"The Chinese province of Anhui has become the latest to ban cryptocurrency mining as Beijing steps up efforts to restrict the energy-intensive practice and achieve its climate goals.\",\"On Tuesday, July 13, the Brazilian Securities Regulator (CVM) approved the new cryptocurrency exchange-traded fund (ETF) that tracks the performance of Ether digital currency. The QR Asset Management announced the approval of this Ether ETF\\u00a0 \\u2013 QETH11 \\u2013 which shall be listed on the Brazilian Stock Exchange B3.\",\"After reports former bitcoin and ethereum miners in China have been dumping GPUs, analysts have warned crypto prices are \\\"in danger\\\"...\",\"The Group is planning to move its staff to different countries including Canada, UAE, the US, Iceland, and Kazakhstan.\",\"Owing to the new stricter crypto regulations in China, the IBC Group has decided to pack up its mining operations in the country and move to new locations in UAE, Canada, USA, Kazakhstan, Iceland, and various South American countries. China's Crypto Crackdown Drives Out Institutional Miners The institutional crackdown on crypto-related activities in China has been chalked up to the government trying to \\u2018control financial risks.\",\"\\\"First Mover\\\" dives into crypto markets and business news, including Ethereum's upcoming upgrade. Is it bullish or bearish for ETH?\",\"The Bitcoin network is not the only victim of China's ongoing mining crackdown as a substantial amount of Ethereum is also mined on the mainland.\",\"China ramps up the pressure on crypto, telling banks to stop facilitating transactions. Cryptocurrencies fell with bitcoin dropping below $30K Tuesday morning.\",\"Officials told state media they have halted 90% of the country's bitcoin mining operations.\",\"CME's bitcoin futures goes into \\\"backwardation\\\" and BTC inflows to exchanges rise as China \\\"FUD\\\" continues.\",\"Those living in the Lone Star State will be able to buy Bitcoin (CRYPTO: BTC), Ethereum (CRYPTO: ETH), and Dogecoin (CRYPTO: DOGE) along with their apples and oranges soon.\",\"Privacy is a top concern for decentralised finance (\\u201cDeFi\\u201d) and general cryptocurrency users. The commonly held belief of anonymity formerly drove many to use currencies like Bitcoin and Ethereum, but this is quickly fading as more surveillance comes to light.\",\"Financial Conduct Authority (FCA) has confirmed an increase in the number of cryptocurrency holders in UK, arising from an increase in public interest and media coverage. Based on the findings from its recently conducted research, the FCA discovered a growing involvement of financial services players in the digital currency ecosystem, as well as increased interest The post Cryptocurrency Holders Rises to 2.3 Million in UK; BTC, XRP, ETH Among Top Choices appeared first on Coingape.\",\"With the debate on crypto mining's energy use increasingly involving renewable sources, a rising number of UK farmers are reaching for a surprising reservoir of power - cow waste, aka dung - using this traditional, multipurpose resource to generate electricity for carbon-neutral crypto mining operations, therefore to diversify and up their revenues. Currently,\",\"There's a lot of buzz in China around the Bee mainnet soft launch following the recent hype surrounding Filecoin and Chia. Reports detail that Swarm is set to kickstart the mainnet on June 13, and droves of miners from China are getting prepared to obtain rewards from the distributed storage platform and content distribution service. [\\u2026]\",\"Join us for the latest episode of \\\"Keeping Up With the Cryptocurrencies.\\\"\",\"San Jose Sharks has become the first NHL team to accept cryptocurrencies such as Bitcoin (BTC), Ethereum (ETH) and Dogecoin (DOGE) for large payments.\",\"The California-based National Hockey League team, San Jose Sharks have announced that they will now accept cryptocurrencies as payments through the BitPay payment service. The development will take effect starting in October, when the 2021-2022 NHL season begins.\",\"The acceptance of top cryptocurrencies like Bitcoin, Ethereum, and XRP on gambling sites are part of the reason why illegal online gambling is rising in Asia, a report from the Asian Racing Federation (ARF) said earlier this week. The post Crypto bets via Bitcoin, Ethereum, XRP are fueling illegal gambling in Asia appeared first on CryptoSlate.\",\"The Canadian Purpose Group Ether ETF\\u00a0 has breached 50,000 ETH worth $122.7 million in AUM even when the price of the second largest cryptocurrency has registered a 50% decline from the top during the recent market correction. The Ether ETF was launched by the firm on April 20 and in just over a month it The post Canada Based Purpose Ether ETF AUM Breach 50,000 ETH appeared first on Coingape.\",\"The vulnerability was first discovered in late 2019.\",\"Without providing his precise reasons, a UK Parliament member said he was more bullish on ether rather than bitcoin and even mentioned the \\\"flippening.\\\"\",\"Within two hours of the State Council statement, BTC fell 11%, based on CoinDesk 20 data.\",\"Tom Tugendhat has been in the united kingdom government for more than five years. The member of parliament has urged UK citizens to put more of their energy into financial innovations.\",\"Canada's central bank today issued a stark warning about \\u201chigh-risk\\u201d assets like Bitcoin and Ethereum.\",\"Ether search interest is higher than ever, and is attracting interest from around the globe, a new report reveals.\",\"Top cryptocurrencies are a sea of green as observers ponder a new Dogecoin mystery: Why did the meme crypto suddenly crash and recover? Igor Telyatnikov of exchange software provider AlphaPoint joins our markets discussion.\",\"The blockchain shift from Ethereum to alternate chains closely resembles the exodus of tech talent from San Francisco to emerging hubs.\",\"Ethereum, the world's most-used blockchain by daily transactions and the second-largest by market cap, broke the $3,000 price level in the early hours Monday, data from multiple sources shows. The post Ethereum breaks $3,000\\u2014it's now more valued than Bank of America appeared first on CryptoSlate.\",\"Asset manager WisdonTreees announced the listing of Ethereum exchange-traded products (ETP) on the Swiss and German stock exchanges. The new ETP will trade with the ticker \\u201cETHW\\u201d and will track the spot price of Ethereum (ETH). The physically-backed ETP also has an expense ratio of 0.95%, according to WisdomTree. This is coming barely a month [\\u2026] The post Another Ethereum ETF has been listed in Germany, this time from WisdomTree appeared first on Invezz.\",\"Further growth may be on the horizon for the world's largest smart contract platform.\",\"Two weeks after releasing a Bitcoin ETP, WisdomTree has launched an Ethereum ETP on Germany's B\\u00f6rse Xetra and the SIX Stock Exchange.\",\"The Alonzo upgrade for Team Cardano is chugging on at a steady speed, with the first fully public Cardano testnet went live this week. Let's look into what that means for the Cardano community and other mentionable incidents that happened for the fifth largest crypto this week.\",\"Crypto investors in Japan can look forward to buying and selling Cardano as the fifth-largest crypto asset gets the green light for listing on exchanges operating in the country. Sebastien Guillemot, the former executive of Cardano-founding entity EMURGO, says that getting ADA's regulatory approval is no easy feat due to Japan's \\u201cstrict\\u201d rules involving the [\\u2026] The post Cardano Gets Approval for Listing on Crypto Exchanges in Japan appeared first on The Daily Hodl.\",\"Cardano (ADA) just became one of the rare tokens that succeeded to receive approval to be listed on crypto exchanges in Japan. The post Cardano (ADA) sees Japan listing after passing strict crypto regulatory checks appeared first on CryptoSlate.\",\"Cardano (ADA) has recently secured another win in its long repertoire of wins lately. The native coin of Cardano, ADA, has now been approved to be listed in Japan, which features one of the hardest listing requirements in the world.\",\"Japan is probably one of the first countries in the world to open its doors to cryptocurrencies to the extent that it did, and while many nations have gone more crypto-friendly since then, Japan still plays a major role in crypto history. However, that does not mean that Japan is not extremely strict when it [\\u2026] The post Cardano (ADA) finally receives regulatory approval to be listed in Japan appeared first on Invezz.\",\"Earlier today, Sebastien Guillemot, CTO at dcSpark, as well as former Co-VP of Eng. & Cardano PM at EMURGO, said that $ADA has finally been approved for listing on a Japanese crypto exchange and explained why this is a big deal. According to Guillemot, it is not easy for cryptoassets to gain regulatory approval for [\\u2026]\",\"Catch up on the latest crypto market news at The Currency Analytics. Charles Hoskinson, Cardano (ADA), in response to China advances its war on Bitcoin, cracks down on mining:\\u00a0 Remember, with a\\u2026 The post PoS of Cardano (ADA) Scaring Devil out of PoW of Bitcoin (BTC) in China appeared first on Cryptocurrency News.\",\"Popular crypto trader Austin Arnold says seven altcoin crypto assets have tremendous potential to make gains in the near future. Arnold tells his 751,000 YouTube subscribers that he's excited about Cardano, citing news that Cardano's ERC20 converter is getting close to its testnet phase. \\u201cThis is huge for Cardano\\u2026 but this speaks even more so [\\u2026] The post Elite Group of Seven Crypto Assets Have \\u2018Insane Potential,' According to Trader Austin Arnold appeared first on The Daily Hodl.\",\"Vancouver-based iMining announced after extensive research and testing that they are set to launch a staking service for cardano (ADA). The post Canada-Based Crypto Company iMining Launches Cardano Staking appeared first on BeInCrypto.\",\"Billionaire Mark Cuban is taking a deeper dive into crypto with Cardano\",\"Swiss crypto payments processor FNTX Capital Suisse has teamed up with Portuguese property developer 355 Developments, allowing customers to buy luxury condos with Bitcoin (BTC), Dogecoin (DOGE), Ethereum (ETH), and Cardano (ADA), it said in a release today. The post You can now buy luxury condos with Dogecoin (DOGE) and Cardano (ADA) in Portugal appeared first on CryptoSlate.\",\"Crypto influencer and trader Austin Arnold is uncovering a list of three altcoins that have life-changing potential as they march toward mass adoption. In a new video, Arnold first spotlights Ethereum competitor Cardano (ADA), which has just locked in impressive partnerships in Ethiopia and Tanzania. Arnold notes that in Ethiopia the team behind Cardano, Input [\\u2026] The post Three Altcoins With Life-Changing Potential Are Blazing Toward Mass Adoption, Says Trader Austin Arnold appeared first on The Daily Hodl.\",\"The University of Zurich will include a class on Cardano in its Deep Dive Into Blockchain 2021 curriculum.\",\"A few days after FD7 Ventures, a Dubai-based crypto-investment fund, made news after it announced its decision to sell its Bitcoin holdings worth $750M to buy more Cardano and Polkadot, the fund is in the headlines again. According to a press release, FD7 Ventures has now launched a $250M Micro-Fund in India to invest in [\\u2026]\",\"Crypto investment fund opens an office in India and sets up a $250 million endeavor to invest in Cardano and Polkadot.\",\"Litecoin, the world's ninth-largest cryptocurrency by market cap, will soon see an institutional listing in the form of an exchange-traded product (ETP) in Switzerland, as per a press release by crypto investment firm CoinShares today. The post A Litecoin (LTC) ETP just launched in Switzerland appeared first on CryptoSlate.\",\"The XXXII Tokyo Summer Olympics are special not only because they take place under such difficult circumstances but also because they are happening when our understanding of the definition of money and assets is changing. Here's why.\",\"Young British investors are taking on large financial risks to get their hands on Bitcoin (BTC) and Dogecoin (DOGE), according to a new poll by market research firm Opinium. Opinium surveyed 1,000 UK citizens between 18 and 29 years old from June 21st to June 25th. The results of the survey show that Bitcoin is [\\u2026] The post Young Investors Taking Big Risks To Own Bitcoin and Dogecoin, According to New UK Survey appeared first on The Daily Hodl.\",\"While BTC and ETH rank 6th and 10th, CoinMarketCap data outlined Shiba Inu, Doge Killer, and other meme coins as the highest-trending tokens in the US.\",\"DOGE and BTC ATMs are coming to the Texas grocery giant H-E-B supermarkets and many more will be installed in the near future so let's read more in our latest Dogecoin news today. Coin Cloud's 2000th BTC ATMs are coming to the H-E-B store and many more will be installed.\",\"Coin Cloud's 2,000th Bitcoin ATM is arriving to a H-E-B store. Many more will be installed in the Texas supermarket chain's outlets.\",\"The founder of Doge dropped a three-tiered series of NFTs and Paris Hilton becomes an NFT advisor.\",\"What Happened: London-based Fintech company Revolut announced support for meme-based cryptocurrency Dogecoin on Tuesday.\",\"Ruffer revealed on Tuesday that it had sold its $600M position for $1.1B, citing concerns over excessive speculation across the cryptocurrency market.\",\"TL;DR Breakdown American hockey announced it now accepts digital currencies including Doge Other sports organizations that have adopted crypto payment In another significant development for the cryptocurrency space, more sports organizations are announcing their digital currency adoption as San Jose Sharks becomes the latest sporting team to add support for several cryptocurrencies. Jonathan Becher, president [\\u2026]\",\"Famous NHL's San Jose Sharks has joined a list of very few sports teams globally that accept cryptocurrencies like Bitcoin, Dogecoin, and Ethereum\\u00a0for transactions, according to an announcement made by the club's President, Jonathan Becher. The post NHL team San Jose Sharks to accept payments via Bitcoin, Dogecoin, and others appeared first on CryptoSlate.\",\"It's part of a partnership with BitPay.\",\"Cryptocurrency investors with Dogecoin (DOGE) to spare can now spend some of their Shiba Inu-themed coins to purchase luxury condos in Portugal, according to reports.\",\"You can now use Dogecoin to buy luxury apartments in Portugal, with a penthouse currently on sale for around 5 million DOGE, worth roughly $2.2 million.\",\"DOGE leading in volume and search hits, VeChain's blockchain solution on state run CGTN, and HOO launches a smart chain of its own\",\"KFC Canada claims to accept Dogecoin, but there is no apparent way to pay with the coin.\",\"South Korean crypto exchanges processed more Dogecoin trades yesterday than the average volume of stocks traded on the country's traditional exchanges, data from multiple sources shows. The post Dogecoin volumes in Korea exceeded those of its entire stock market yesterday appeared first on CryptoSlate.\",\"This week a number of digital assets saw significant gains, but the meme-themed digital asset dogecoin has seen a significant rise during the last 48 hours. Dogecoin tapped a high of $0.143 per unit on Wednesday and has spiked more than 104% during the last week. Meanwhile, the billionaire investor and television personality, Mark Cuban, [\\u2026]\",\"The billionaire owner of the Dallas Mavericks, Mark Cuban, tweeted his team had sold more than $122,000 worth of merch paid for in Dogecoin (DOGE). The post Much wow!\",\"Dogecoin has reentered the top ten and marked a new ATH at $0.14 as celebrity adoption continues and the Mavs said they will keep every single DOGE received for payments.\",\"In an unexpected move, Mark Cuban's NBA team, the Dallas Mavericks, have announced its decision to start accepting Dogecoin as a means of payment for tickets and other club merchandise. In addition, Mark Cuban spoke of how he's having fun with Dogecoin during a recent interview. The Dallas Mavericks, via its official Twitter account, disclosed [\\u2026] The post Dallas Mavericks Accepts Dogecoin, Mark Cuban Supports appeared first on Altcoin Buzz.\",\"The billionaire has taken a liking to cryptocurrencies and the DeFi space in recent times, and Dogecoin is now getting his attention. The post Dallas Mavericks boss Mark Cuban says Dogecoin will \\u2018definitely' reach $1 appeared first on CryptoSlate.\",\"Dallas Mavericks owner Mark Cuban says the NBA team is now accepting Dogecoin (DOGE) as payment for game tickets and merchandise. The billionaire reveals in a statement why the franchise has decided to support the meme cryptocurrency. \\u201cThe Mavericks have decided to accept Dogecoin as payment for Mavs tickets and merchandise for one very important, [\\u2026] The post Mark Cuban Says Dallas Mavericks Will Accept Dogecoin \\u2013 Here's Why appeared first on The Daily Hodl.\",\"Mark Cuban's Dallas Mavericks will accept Dogecoin payments for game tickets and merchandise on its online store via crypto payment service provider, BitPay.\",\"Mike\\u00a0Novogratz\\u00a0says that Mark Cuban is making a mistake by accepting Dogecoin for Dallas Mavericks tickets and merchandise, calling it a \\u201cjoke\\u201d and adding that the emphasis should be on Bitcoin.\\u00a0 In an interview on Bloomberg TV,\\u00a0Novogratz, the CEO of Galaxy Digital, said that Bitcoin was where it was all happening, and that banks were \\u201cfrantically\\u201d trying to get in on the leading cryptocurrency.\",\"\\\"We will HODL any we get,\\\" Mark Cuban told Cointelegraph.\",\"Dallas Mavericks, the NBA team owned by billionaire Mark Cuban has become the first professional sports team to accept Dogecoin as a form of payment. The basketball team was already accepting Bitcoin and going by Cuban's word, the team did not receive any significant payment in Bitcoin.\",\"Mark Cuban has said that almost no one has paid the Mavericks in Bitcoin. So will anyone pay in Dogecoin?\",\"NBA pro basketball team The Dallas Mavericks will soon accept Dogecoin as payment, according to DealBook. Jumping on the Doge-Wagon Shark Tank investor Mark Cuban, who in January jumped on the NFT bandwagon, reportedly told DealBook that his NBA team will accept DOGE as payments for tickets and merchandise.\",\"Entrepreneur Mark Cuban who owns Dallas Mavericks has recently been bullish on matters of cryptocurrencies and blockchain. The Shark Tank host recently declared his fondness for the Ethereum Network and said that Bitcoin is better than gold.\",\"In a seemingly unprecedented move, it seems the Dallas Mavericks will begin accepting DogeCoin as payment for tickets. Mark Cuba, the crypto-savvy entrepreneur is also the owner of the popular basketball team.\",\"CoinFlip\\u00a0 announced \\u00a0that it would add support for Dogecoin in a move to meet the market's demand. Much ATM for Dogecoin The largest Bitcoin ATM provider in the U.S. said that its network of over 1,800 terminals is ready for users to buy and sell DOGE \\u201ceven in the most rural towns\\u201d of the nation.\",\"Detectives in the United Kingdom have reportedly seized a USB stick with $9.5 million in Ethereum (ETH) that was believed to be stolen through an alleged crypto scam. In a statement, the Greater Manchester Police (GMP say that their specialist officers from the Economic Crime Unit retrieved the USB stick after tracking down two alleged [\\u2026] The post UK Detectives Seize USB Stick With $9.5 Million in Ethereum in Alleged Crypto Scam appeared first on The Daily Hodl.\",\"Users will be able to earn yield paid in BTC on all the rewards they've accumulated through the app.\",\"Canada has been one of the pioneering countries to approve cryptocurrency exchange-traded funds [ETFs]. However, a recent survey indicated that despite the lenient guidelines for investors, the people were not convinced about the safety of their investment.\",\"The Bank of Russia expressed concerns over the increasing number of local investors pouring their money into Bitcoin.\",\"Discussing how potential tapering by the Federal Reserve, economics in China, U.S. legislation and more through a Bitcoin lens.\",\"Five North American bitcoin mining firms have churned out a total of 1,802 bitcoin in July \\u2013 on average 58% more than what they did in June. The post These five North American firms mined 58% more bitcoin in July thanks to China appeared first on The Block.\",\"What is the new \\u201cChina Model\\u201d? And why would that country ban an industry that made them the ultimate leaders in the most important development in recent times?\",\"In a deal being struck by Black Rock Petroleum Company, up to 1 million bitcoin mining machines will be relocated to three natural gas-producing sites in Alberta.\\u00a0 After the Chinese purge of bitcoin mining from the country, a huge amount of mining machinery has come up for grabs to countries where cryptocurrency mining is still encouraged.\",\"Catch up on the latest crypto market news at The Currency Analytics. I'm pleased to announce that Senators Warner, Toomey, Sinema, Lummis & I have reached an agreement on an amendment to\\u2026 The post Bitcoin (BTC) Bullish Crypto Community Senses America is Great Again appeared first on Cryptocurrency News.\",\"Catch up on the latest crypto market news at The Currency Analytics. Decentralized investment will ultimately be regulated.\",\"The official Portuguese shop of Chinese electronics giant Xiaomi has partnered with Utrust to unlock payments in five cryptocurrencies.\",\"Guizhou province is the first in China to announce an ambitious electric vehicle campaign, taking advantage of the power capacity freed up by Beijing's Bitcoin mining ban.\",\"China's leading smartphone manufacturer Xiaomi has announced that the recent advertisement for Bitcoin and crypto payment made by the Portugese MI store has no connection with the company's operation. A Facebook advertisement posted by the MI store indicated that it would accept payments in Bitcoin and a few other cryptocurrencies.\",\"The official retail store for Chinese multinational electronics company, Xiaomi, Mi Store Portugal revealed that it will start accepting crypto payments. According to a recent report, Mi Store Portugal disclosed that customers can now purchase all Xiaomi products with five different cryptocurrencies.\",\"Electronics giant's Xiaomi shops in Portugal will start accepting Bitcoin payments after partnering with Utrust to unlock this new feature in five cryptocurrencies as we can see more in our latest Bitcoin news. Chinese electronics manufacturer Xiaomi is the latest company to get involved in the crypto industry as its Xiaomi shops in Portugal will [\\u2026]\",\"Bakkt is bringing BTC payments to stores across the United States under a new partnership with restaurant quick-service Quiznos as we are reading more in our latest BTC news. Digital asset marketplace Bakkt is bringing btc payments as it announced in a new partnership with the restaurant chain Quiznos to launch the first physical location [\\u2026]\",\"Melanion Capital's fund will invest in stocks that intend to have up to a 90% correlation with the price of Bitcoin.\",\"Xiaomi's Portuguese branch has started accepting cryptocurrency payments\",\"The European Union has approved a French fund manager's filing for an exchange-traded fund [ETF] which will track Bitcoin\\u2018s price closely. This will make Melanion Capital among the first companies to offer the world's largest cryptocurrency through mutual funds in Europe, as per reports.\",\"The latest report shows that France-based fund manager Melanion Capital has received a regulatory go-ahead for an exchange-traded fund that seeks to track the price of Bitcoin (BTC) while satisfying the laws in Europe. In the information provided to Financial Times, Melanion Capital noted that the fund is 90% correlated to Bitcoin.\",\"It will be a fund that replicates the prices of a basket of equities linked to the price of BTC\",\"This is not a state initiative, but a promotion of a crypto exchange\",\"Although President Nayib Bukele was confident about his country's decision to recognize Bitcoin as legal tender, he was nearly brought down by widespread institutional criticism from agencies such as the International Monetary Fund (IMF), the World Bank and others. However, the recent endorsement from Bank of America gives Bukele renewed vigor and enthusiasm to continue pursuing the Bitcoin dream.\",\"Melanion Capital will launch an exchange-traded fund that closely tracks the price of Bitcoin with a basket of stocks\",\"French asset manager Melanion Capital is set to launch an EU-regulated fund that closely tracks the price of bitcoin, according to a Financial Times report on Wednesday. If successful, this will be the first time that investors in the region will be able to get exposure to Bitcoin through a mutual-fund investment vehicle.\",\"#bitcoinmining #Chinamining #bitcoinChina Chinese mining firms are looking to the United States amid the China crackdown on crypto. CoinDesk Global Macro Editor Emily Parker joins Yahoo Finance's Zack Guzman and Akiko Fujita to discuss.\",\"Select restaurants of Quiznos will test accepting bitcoin in certain locations in Denver, Colorado beginning in mid-August. The post Bakkt partners with Quiznos to pilot bitcoin payments in Denver appeared first on The Block.\",\"Bank of America (BofA), one of the largest banks in the US, believes El Salvador has a lot to gain from its decision to adopt Bitcoin. In a report shared by El Salvador's President Nayib Bukele to a state-owned publication, BofA\\u00a0highlights the four key upsides to the country's Bitcoin adoption.\\u00a0 The bank says that remittances [\\u2026] The post Here Are the Four Upsides to El Salvador's Bitcoin Adoption, According to Bank of America appeared first on The Daily Hodl.\",\"#bitcoin #bitcoinmining #Chinabitcoinminingcrackdown Chinese bitcoin miners are heading to Texas. Riot Blockchain CEO Jason Les joins Yahoo Finance's Zack Guzman and Akiko Fujita to discuss.\",\"Russia, a nation actually wrestling with different parts of managing digital currencies might be mellowing its position on the resource class, as ongoing occasions demonstrate....\",\"India's cryptocurrency ban is still up in the air\",\"Bank of America has outlined some benefits to be had from adopting bitcoin as legal tender in El Salvador. The opportunities include low-cost remittances, financial digitization, more choices, and greater investments from foreign companies. Bank of America Highlights Opportunities Bitcoin Brings to El Salvador as Legal Tender Bank of America (BOA) outlined some potential benefits [\\u2026]\",\"A report from the Bank of America lists some potential benefits for El Salvador as it works to implement bitcoin into its economy. The post Bank of America Report Sees Upsides to El Salvador Bitcoin Adoption appeared first on BeInCrypto.\",\"US financial services player Bank of America, one of the world's largest banks, has come out in support of El Salvador's Bitcoin bill in a note to clients last week. The post El Salvador's Bitcoin bill has 5 key benefits, says Bank of America appeared first on CryptoSlate.\",\"Bank Of America has said that it sees how El Salvador's adoption of Bitcoin could help the Island country. President Bukele Agrees With Bank Of America President Nayib Bukele of El Salvador, a Central American country, tweeted yesterday screenshots of a Bank of America economic outlook report (BofA).\",\"BofA sees four upsides to Bitcoin adoption in El Salvador, including remittances, financial digitalization, and foreign investments.\",\"The decision to make BTC legal tender in the country is also having consequences outside the country itself\",\"Catch up on the latest crypto market news at The Currency Analytics. Nayib Bukele pointed to the Bank of America statement, \\u201cWe recently revised up our GDP growth forecasts for 2021, to\\u2026 The post Why are Bitcoin (BTC) Fans looking at El Salvador and Bank of America Statements?\",\"Catch up on the latest crypto market news at The Currency Analytics. Cryptocurrencies are legal in Japan.\",\"Catch up on the latest crypto market news at The Currency Analytics. China has banned banks from using bitcoin and banished so-called crypto \\u2018miners' from the country.\",\"The new hires will help PayPal expand its crypto-focused business offering at a time of rapid adoption of Bitcoin and Ether.\",\"\\u201cMore than 70% of the adult population of El Salvador does not have a bank account,\\u201d reads the latest Global Research report from Bank of America. \\u201cFor that reason, democratizing access to electronic payments, through Bitcoin, has a progressive touch.\",\"America's second-largest bank sees a slew of advantages in El Salvador's move to adopt Bitcoin\",\"Finland is currently looking for cryptocurrency brokers to assist in the sale of bitcoin used in criminal activities. The post Finland Seeking Brokers to Assist in Sale of $82M Worth of Seized BTC\\u00a0 appeared first on BeInCrypto.\",\"Congressman Warren Davidson explained how the cryptocurrency tax addition to the Senate infrastructure bill is bad for the U.S.\",\"A daily close above $40,000 could see Bitcoin nurture a key uptrend to $50,000. PayPal to debut a crypto exchange platform in the UK as the market turns green.\",\"American retirement savings represent a new beachhead for bitcoin \\u2014 we just need to make sure people hold their own keys.\",\"As many as eight China-based Bitcoin mining firms are said to be looking to relocate operations to Paraguay, home to abundant hydroelectric energy.\",\"Finland's customs authority is looking for brokers to sell 1,981 bitcoins seized in drug cases. The coins are currently worth nearly $80 million. Finland's customs authority announced Thursday that it is seeking brokers to sell 1,981 bitcoins seized in drug busts, Bloomberg reported, noting that the coins were forfeited to the state by court order. [\\u2026]\",\"Bitcoin was exchanging lower on Friday, finishing the week around $39,000. Its 2% droop as of now might mirror some benefit taking\\u2014following a new 35%...\",\"China is going through one of its toughest month in years where international markets are concerned with the Chinese Communist Party (CCP) uneasy about what risks becoming an exodus, and.\",\"Detectives in the United Kingdom have reportedly seized a USB stick with $9.5 million in Ethereum (ETH) that was believed to be stolen through an alleged crypto scam. In a statement, the Greater Manchester Police (GMP say that their specialist officers from the Economic Crime Unit retrieved the USB stick after tracking down two alleged [\\u2026] The post UK Detectives Seize USB Stick With $9.5 Million in Ethereum in Alleged Crypto Scam appeared first on The Daily Hodl.\",\"Ethereum is the second-largest cryptocurrency after Bitcoin. Although the majority of crypto transactions are legitimate, many are also fraudulent.\",\"Cryptos seized are related to a scam whose victims are located in the UK, Europe, China, the US, Hong Kong, and Australia.\",\"Ethereum (CRYPTO: ETH) continues its astronomical rise as favorable fundamentals motivate buyers to pile up and drive demand for the coin, overtaking major publicly traded firms as proponents talk about it potentially overtaking top cryptocurrency Bitcoin (CRYPTO: BTC).\",\"Every sector within the digital asset industry saw significant growth in 2021. This included developments in DeFi, Bitcoin\\u2018s new ATH levels, and the growth of pre-existing projects such as Cardano and Binance Coin.\",\"The changing trading patterns in USDT might be the result of China's recent crackdown on cryptocurrency mining and trading.\",\"Ethereum (CRYPTO: ETH) co-founder Vitalik Buterin's donation of $1 billion in Shiba Inu (CRYPTO: SHIB) coins to an India Covid-19 relief fund about two months ago has been slow in reaching the people due to several issues, Bloomberg\",\"A new partnership with LegitDoc places India among early adopters to implement an e-governance system for higher education.\",\"TL;DR Breakdown The diploma certification verification in India to be done using Ethereum blockchain technology. A recent partnership was announced by LegitDoc with the Maharashtra Government.\",\"The first in-person Ethereum event since the pandemic was a low-key but upbeat affair in Paris last week. But EthCC was as far away from Bitcoin Miami as you could get.\",\"The founder of Ethereum has high hopes for the network's uses for social good that go way beyond the fast financial gains of DeFi investing.\",\"The Brazilian Securities Commission (CVM) just approved an exchange-traded fund (ETF) that tracks the performance of Ethereum (ETH). Blockchain investment firm QR Capital, the holding company of QR Asset Management, says\\u00a0the Ethereum ETF will be traded on the country's stock exchange, B3, with the ticker QETH11. QETH11 is the first ETF exchange-traded fund to be [\\u2026] The post Brazil Green Lights First Ethereum ETF in Latin America appeared first on The Daily Hodl.\",\"An Ethereum (CRYPTO: ETH) exchange-traded fund (ETF) has been approved by the Brazilian Securities Commission (CVM) to trade on the B3 stock exchange.\",\"The Brazilian Securities Commission (CVM) has approved the first exchange-traded fund tracking the performance of Ethereum (ETH) in Latin America.\",\"The new fund will be trading under the ticker \\\"QETH11\\\" in the B3 stock exchange.\",\"Ethereum network is taking a big step toward a scalable PoS blockchain. Here is how the London and Berlin hard forks fit into the road to Ethereum 2.0.\",\"On Tuesday, 13th July, the Brazilian Securities Regulator (CVM) approved the first-ever cryptocurrency exchange-traded fund (ETF) that tracks the performance of Ether digital currency in Latin America. The QR Asset Management announced the approval of this Ether ETF \\u2013 QETH11 \\u2013 which shall be listed on the Brazilian Stock Exchange B3.\",\"Brazil's Securities Commission approved the first Ethereum ETF in Latin America as we can see more in our latest ethereum news today. The Brazilian Securities Commission approved the first exchange-traded fund tracking the ETH performance in Latin America.\",\"The Chinese province of Anhui has become the latest to ban cryptocurrency mining as Beijing steps up efforts to restrict the energy-intensive practice and achieve its climate goals.\",\"On Tuesday, July 13, the Brazilian Securities Regulator (CVM) approved the new cryptocurrency exchange-traded fund (ETF) that tracks the performance of Ether digital currency. The QR Asset Management announced the approval of this Ether ETF\\u00a0 \\u2013 QETH11 \\u2013 which shall be listed on the Brazilian Stock Exchange B3.\",\"After reports former bitcoin and ethereum miners in China have been dumping GPUs, analysts have warned crypto prices are \\\"in danger\\\"...\",\"The Group is planning to move its staff to different countries including Canada, UAE, the US, Iceland, and Kazakhstan.\",\"Owing to the new stricter crypto regulations in China, the IBC Group has decided to pack up its mining operations in the country and move to new locations in UAE, Canada, USA, Kazakhstan, Iceland, and various South American countries. China's Crypto Crackdown Drives Out Institutional Miners The institutional crackdown on crypto-related activities in China has been chalked up to the government trying to \\u2018control financial risks.\",\"\\\"First Mover\\\" dives into crypto markets and business news, including Ethereum's upcoming upgrade. Is it bullish or bearish for ETH?\",\"The Bitcoin network is not the only victim of China's ongoing mining crackdown as a substantial amount of Ethereum is also mined on the mainland.\",\"China ramps up the pressure on crypto, telling banks to stop facilitating transactions. Cryptocurrencies fell with bitcoin dropping below $30K Tuesday morning.\",\"Officials told state media they have halted 90% of the country's bitcoin mining operations.\",\"CME's bitcoin futures goes into \\\"backwardation\\\" and BTC inflows to exchanges rise as China \\\"FUD\\\" continues.\",\"Those living in the Lone Star State will be able to buy Bitcoin (CRYPTO: BTC), Ethereum (CRYPTO: ETH), and Dogecoin (CRYPTO: DOGE) along with their apples and oranges soon.\",\"Privacy is a top concern for decentralised finance (\\u201cDeFi\\u201d) and general cryptocurrency users. The commonly held belief of anonymity formerly drove many to use currencies like Bitcoin and Ethereum, but this is quickly fading as more surveillance comes to light.\",\"Financial Conduct Authority (FCA) has confirmed an increase in the number of cryptocurrency holders in UK, arising from an increase in public interest and media coverage. Based on the findings from its recently conducted research, the FCA discovered a growing involvement of financial services players in the digital currency ecosystem, as well as increased interest The post Cryptocurrency Holders Rises to 2.3 Million in UK; BTC, XRP, ETH Among Top Choices appeared first on Coingape.\",\"With the debate on crypto mining's energy use increasingly involving renewable sources, a rising number of UK farmers are reaching for a surprising reservoir of power - cow waste, aka dung - using this traditional, multipurpose resource to generate electricity for carbon-neutral crypto mining operations, therefore to diversify and up their revenues. Currently,\",\"There's a lot of buzz in China around the Bee mainnet soft launch following the recent hype surrounding Filecoin and Chia. Reports detail that Swarm is set to kickstart the mainnet on June 13, and droves of miners from China are getting prepared to obtain rewards from the distributed storage platform and content distribution service. [\\u2026]\",\"Join us for the latest episode of \\\"Keeping Up With the Cryptocurrencies.\\\"\",\"San Jose Sharks has become the first NHL team to accept cryptocurrencies such as Bitcoin (BTC), Ethereum (ETH) and Dogecoin (DOGE) for large payments.\",\"The California-based National Hockey League team, San Jose Sharks have announced that they will now accept cryptocurrencies as payments through the BitPay payment service. The development will take effect starting in October, when the 2021-2022 NHL season begins.\",\"The acceptance of top cryptocurrencies like Bitcoin, Ethereum, and XRP on gambling sites are part of the reason why illegal online gambling is rising in Asia, a report from the Asian Racing Federation (ARF) said earlier this week. The post Crypto bets via Bitcoin, Ethereum, XRP are fueling illegal gambling in Asia appeared first on CryptoSlate.\",\"The Canadian Purpose Group Ether ETF\\u00a0 has breached 50,000 ETH worth $122.7 million in AUM even when the price of the second largest cryptocurrency has registered a 50% decline from the top during the recent market correction. The Ether ETF was launched by the firm on April 20 and in just over a month it The post Canada Based Purpose Ether ETF AUM Breach 50,000 ETH appeared first on Coingape.\",\"The vulnerability was first discovered in late 2019.\",\"Without providing his precise reasons, a UK Parliament member said he was more bullish on ether rather than bitcoin and even mentioned the \\\"flippening.\\\"\",\"Within two hours of the State Council statement, BTC fell 11%, based on CoinDesk 20 data.\",\"Tom Tugendhat has been in the united kingdom government for more than five years. The member of parliament has urged UK citizens to put more of their energy into financial innovations.\",\"Canada's central bank today issued a stark warning about \\u201chigh-risk\\u201d assets like Bitcoin and Ethereum.\",\"Ether search interest is higher than ever, and is attracting interest from around the globe, a new report reveals.\",\"Top cryptocurrencies are a sea of green as observers ponder a new Dogecoin mystery: Why did the meme crypto suddenly crash and recover? Igor Telyatnikov of exchange software provider AlphaPoint joins our markets discussion.\",\"The blockchain shift from Ethereum to alternate chains closely resembles the exodus of tech talent from San Francisco to emerging hubs.\",\"Ethereum, the world's most-used blockchain by daily transactions and the second-largest by market cap, broke the $3,000 price level in the early hours Monday, data from multiple sources shows. The post Ethereum breaks $3,000\\u2014it's now more valued than Bank of America appeared first on CryptoSlate.\",\"Asset manager WisdonTreees announced the listing of Ethereum exchange-traded products (ETP) on the Swiss and German stock exchanges. The new ETP will trade with the ticker \\u201cETHW\\u201d and will track the spot price of Ethereum (ETH). The physically-backed ETP also has an expense ratio of 0.95%, according to WisdomTree. This is coming barely a month [\\u2026] The post Another Ethereum ETF has been listed in Germany, this time from WisdomTree appeared first on Invezz.\",\"Further growth may be on the horizon for the world's largest smart contract platform.\",\"The Alonzo upgrade for Team Cardano is chugging on at a steady speed, with the first fully public Cardano testnet went live this week. Let's look into what that means for the Cardano community and other mentionable incidents that happened for the fifth largest crypto this week.\",\"Crypto investors in Japan can look forward to buying and selling Cardano as the fifth-largest crypto asset gets the green light for listing on exchanges operating in the country. Sebastien Guillemot, the former executive of Cardano-founding entity EMURGO, says that getting ADA's regulatory approval is no easy feat due to Japan's \\u201cstrict\\u201d rules involving the [\\u2026] The post Cardano Gets Approval for Listing on Crypto Exchanges in Japan appeared first on The Daily Hodl.\",\"Cardano (ADA) just became one of the rare tokens that succeeded to receive approval to be listed on crypto exchanges in Japan. The post Cardano (ADA) sees Japan listing after passing strict crypto regulatory checks appeared first on CryptoSlate.\",\"Cardano (ADA) has recently secured another win in its long repertoire of wins lately. The native coin of Cardano, ADA, has now been approved to be listed in Japan, which features one of the hardest listing requirements in the world.\",\"Japan is probably one of the first countries in the world to open its doors to cryptocurrencies to the extent that it did, and while many nations have gone more crypto-friendly since then, Japan still plays a major role in crypto history. However, that does not mean that Japan is not extremely strict when it [\\u2026] The post Cardano (ADA) finally receives regulatory approval to be listed in Japan appeared first on Invezz.\",\"Earlier today, Sebastien Guillemot, CTO at dcSpark, as well as former Co-VP of Eng. & Cardano PM at EMURGO, said that $ADA has finally been approved for listing on a Japanese crypto exchange and explained why this is a big deal. According to Guillemot, it is not easy for cryptoassets to gain regulatory approval for [\\u2026]\",\"Catch up on the latest crypto market news at The Currency Analytics. Charles Hoskinson, Cardano (ADA), in response to China advances its war on Bitcoin, cracks down on mining:\\u00a0 Remember, with a\\u2026 The post PoS of Cardano (ADA) Scaring Devil out of PoW of Bitcoin (BTC) in China appeared first on Cryptocurrency News.\",\"Popular crypto trader Austin Arnold says seven altcoin crypto assets have tremendous potential to make gains in the near future. Arnold tells his 751,000 YouTube subscribers that he's excited about Cardano, citing news that Cardano's ERC20 converter is getting close to its testnet phase. \\u201cThis is huge for Cardano\\u2026 but this speaks even more so [\\u2026] The post Elite Group of Seven Crypto Assets Have \\u2018Insane Potential,' According to Trader Austin Arnold appeared first on The Daily Hodl.\",\"Vancouver-based iMining announced after extensive research and testing that they are set to launch a staking service for cardano (ADA). The post Canada-Based Crypto Company iMining Launches Cardano Staking appeared first on BeInCrypto.\",\"Billionaire Mark Cuban is taking a deeper dive into crypto with Cardano\",\"Swiss crypto payments processor FNTX Capital Suisse has teamed up with Portuguese property developer 355 Developments, allowing customers to buy luxury condos with Bitcoin (BTC), Dogecoin (DOGE), Ethereum (ETH), and Cardano (ADA), it said in a release today. The post You can now buy luxury condos with Dogecoin (DOGE) and Cardano (ADA) in Portugal appeared first on CryptoSlate.\",\"Crypto influencer and trader Austin Arnold is uncovering a list of three altcoins that have life-changing potential as they march toward mass adoption. In a new video, Arnold first spotlights Ethereum competitor Cardano (ADA), which has just locked in impressive partnerships in Ethiopia and Tanzania. Arnold notes that in Ethiopia the team behind Cardano, Input [\\u2026] The post Three Altcoins With Life-Changing Potential Are Blazing Toward Mass Adoption, Says Trader Austin Arnold appeared first on The Daily Hodl.\",\"The University of Zurich will include a class on Cardano in its Deep Dive Into Blockchain 2021 curriculum.\",\"A few days after FD7 Ventures, a Dubai-based crypto-investment fund, made news after it announced its decision to sell its Bitcoin holdings worth $750M to buy more Cardano and Polkadot, the fund is in the headlines again. According to a press release, FD7 Ventures has now launched a $250M Micro-Fund in India to invest in [\\u2026]\",\"Crypto investment fund opens an office in India and sets up a $250 million endeavor to invest in Cardano and Polkadot.\",\"Litecoin, the world's ninth-largest cryptocurrency by market cap, will soon see an institutional listing in the form of an exchange-traded product (ETP) in Switzerland, as per a press release by crypto investment firm CoinShares today. The post A Litecoin (LTC) ETP just launched in Switzerland appeared first on CryptoSlate.\",\"The XXXII Tokyo Summer Olympics are special not only because they take place under such difficult circumstances but also because they are happening when our understanding of the definition of money and assets is changing. Here's why.\",\"Young British investors are taking on large financial risks to get their hands on Bitcoin (BTC) and Dogecoin (DOGE), according to a new poll by market research firm Opinium. Opinium surveyed 1,000 UK citizens between 18 and 29 years old from June 21st to June 25th. The results of the survey show that Bitcoin is [\\u2026] The post Young Investors Taking Big Risks To Own Bitcoin and Dogecoin, According to New UK Survey appeared first on The Daily Hodl.\",\"While BTC and ETH rank 6th and 10th, CoinMarketCap data outlined Shiba Inu, Doge Killer, and other meme coins as the highest-trending tokens in the US.\",\"DOGE and BTC ATMs are coming to the Texas grocery giant H-E-B supermarkets and many more will be installed in the near future so let's read more in our latest Dogecoin news today. Coin Cloud's 2000th BTC ATMs are coming to the H-E-B store and many more will be installed.\",\"Coin Cloud's 2,000th Bitcoin ATM is arriving to a H-E-B store. Many more will be installed in the Texas supermarket chain's outlets.\",\"The founder of Doge dropped a three-tiered series of NFTs and Paris Hilton becomes an NFT advisor.\",\"What Happened: London-based Fintech company Revolut announced support for meme-based cryptocurrency Dogecoin on Tuesday.\",\"Ruffer revealed on Tuesday that it had sold its $600M position for $1.1B, citing concerns over excessive speculation across the cryptocurrency market.\",\"TL;DR Breakdown American hockey announced it now accepts digital currencies including Doge Other sports organizations that have adopted crypto payment In another significant development for the cryptocurrency space, more sports organizations are announcing their digital currency adoption as San Jose Sharks becomes the latest sporting team to add support for several cryptocurrencies. Jonathan Becher, president [\\u2026]\",\"Famous NHL's San Jose Sharks has joined a list of very few sports teams globally that accept cryptocurrencies like Bitcoin, Dogecoin, and Ethereum\\u00a0for transactions, according to an announcement made by the club's President, Jonathan Becher. The post NHL team San Jose Sharks to accept payments via Bitcoin, Dogecoin, and others appeared first on CryptoSlate.\",\"It's part of a partnership with BitPay.\",\"Cryptocurrency investors with Dogecoin (DOGE) to spare can now spend some of their Shiba Inu-themed coins to purchase luxury condos in Portugal, according to reports.\",\"You can now use Dogecoin to buy luxury apartments in Portugal, with a penthouse currently on sale for around 5 million DOGE, worth roughly $2.2 million.\",\"DOGE leading in volume and search hits, VeChain's blockchain solution on state run CGTN, and HOO launches a smart chain of its own\",\"KFC Canada claims to accept Dogecoin, but there is no apparent way to pay with the coin.\",\"South Korean crypto exchanges processed more Dogecoin trades yesterday than the average volume of stocks traded on the country's traditional exchanges, data from multiple sources shows. The post Dogecoin volumes in Korea exceeded those of its entire stock market yesterday appeared first on CryptoSlate.\",\"This week a number of digital assets saw significant gains, but the meme-themed digital asset dogecoin has seen a significant rise during the last 48 hours. Dogecoin tapped a high of $0.143 per unit on Wednesday and has spiked more than 104% during the last week. Meanwhile, the billionaire investor and television personality, Mark Cuban, [\\u2026]\",\"The billionaire owner of the Dallas Mavericks, Mark Cuban, tweeted his team had sold more than $122,000 worth of merch paid for in Dogecoin (DOGE). The post Much wow!\",\"Dogecoin has reentered the top ten and marked a new ATH at $0.14 as celebrity adoption continues and the Mavs said they will keep every single DOGE received for payments.\",\"In an unexpected move, Mark Cuban's NBA team, the Dallas Mavericks, have announced its decision to start accepting Dogecoin as a means of payment for tickets and other club merchandise. In addition, Mark Cuban spoke of how he's having fun with Dogecoin during a recent interview. The Dallas Mavericks, via its official Twitter account, disclosed [\\u2026] The post Dallas Mavericks Accepts Dogecoin, Mark Cuban Supports appeared first on Altcoin Buzz.\",\"The billionaire has taken a liking to cryptocurrencies and the DeFi space in recent times, and Dogecoin is now getting his attention. The post Dallas Mavericks boss Mark Cuban says Dogecoin will \\u2018definitely' reach $1 appeared first on CryptoSlate.\",\"Dallas Mavericks owner Mark Cuban says the NBA team is now accepting Dogecoin (DOGE) as payment for game tickets and merchandise. The billionaire reveals in a statement why the franchise has decided to support the meme cryptocurrency. \\u201cThe Mavericks have decided to accept Dogecoin as payment for Mavs tickets and merchandise for one very important, [\\u2026] The post Mark Cuban Says Dallas Mavericks Will Accept Dogecoin \\u2013 Here's Why appeared first on The Daily Hodl.\",\"Mark Cuban's Dallas Mavericks will accept Dogecoin payments for game tickets and merchandise on its online store via crypto payment service provider, BitPay.\",\"Mike\\u00a0Novogratz\\u00a0says that Mark Cuban is making a mistake by accepting Dogecoin for Dallas Mavericks tickets and merchandise, calling it a \\u201cjoke\\u201d and adding that the emphasis should be on Bitcoin.\\u00a0 In an interview on Bloomberg TV,\\u00a0Novogratz, the CEO of Galaxy Digital, said that Bitcoin was where it was all happening, and that banks were \\u201cfrantically\\u201d trying to get in on the leading cryptocurrency.\",\"\\\"We will HODL any we get,\\\" Mark Cuban told Cointelegraph.\",\"Dallas Mavericks, the NBA team owned by billionaire Mark Cuban has become the first professional sports team to accept Dogecoin as a form of payment. The basketball team was already accepting Bitcoin and going by Cuban's word, the team did not receive any significant payment in Bitcoin.\",\"Mark Cuban has said that almost no one has paid the Mavericks in Bitcoin. So will anyone pay in Dogecoin?\",\"NBA pro basketball team The Dallas Mavericks will soon accept Dogecoin as payment, according to DealBook. Jumping on the Doge-Wagon Shark Tank investor Mark Cuban, who in January jumped on the NFT bandwagon, reportedly told DealBook that his NBA team will accept DOGE as payments for tickets and merchandise.\",\"Entrepreneur Mark Cuban who owns Dallas Mavericks has recently been bullish on matters of cryptocurrencies and blockchain. The Shark Tank host recently declared his fondness for the Ethereum Network and said that Bitcoin is better than gold.\",\"In a seemingly unprecedented move, it seems the Dallas Mavericks will begin accepting DogeCoin as payment for tickets. Mark Cuba, the crypto-savvy entrepreneur is also the owner of the popular basketball team.\",\"CoinFlip\\u00a0 announced \\u00a0that it would add support for Dogecoin in a move to meet the market's demand. Much ATM for Dogecoin The largest Bitcoin ATM provider in the U.S. said that its network of over 1,800 terminals is ready for users to buy and sell DOGE \\u201ceven in the most rural towns\\u201d of the nation.\",\"Photo by Ewan Kennedy on Unsplash It's clear bitcoin is having a breakthrough year in 2021.\",\"Greater Manchester Police recovered over $22 million in stolen crypto from scammers\\u2014including over $9 million on a single encrypted USB drive.\",\"Photo by Ewan Kennedy on Unsplash It's clear bitcoin is having a breakthrough year in 2021.\",\"Users will be able to earn yield paid in BTC on all the rewards they've accumulated through the app.\",\"Canada has been one of the pioneering countries to approve cryptocurrency exchange-traded funds [ETFs]. However, a recent survey indicated that despite the lenient guidelines for investors, the people were not convinced about the safety of their investment.\",\"The Bank of Russia expressed concerns over the increasing number of local investors pouring their money into Bitcoin.\",\"Discussing how potential tapering by the Federal Reserve, economics in China, U.S. legislation and more through a Bitcoin lens.\",\"Five North American bitcoin mining firms have churned out a total of 1,802 bitcoin in July \\u2013 on average 58% more than what they did in June. The post These five North American firms mined 58% more bitcoin in July thanks to China appeared first on The Block.\",\"What is the new \\u201cChina Model\\u201d? And why would that country ban an industry that made them the ultimate leaders in the most important development in recent times?\",\"In a deal being struck by Black Rock Petroleum Company, up to 1 million bitcoin mining machines will be relocated to three natural gas-producing sites in Alberta.\\u00a0 After the Chinese purge of bitcoin mining from the country, a huge amount of mining machinery has come up for grabs to countries where cryptocurrency mining is still encouraged.\",\"Catch up on the latest crypto market news at The Currency Analytics. I'm pleased to announce that Senators Warner, Toomey, Sinema, Lummis & I have reached an agreement on an amendment to\\u2026 The post Bitcoin (BTC) Bullish Crypto Community Senses America is Great Again appeared first on Cryptocurrency News.\",\"Catch up on the latest crypto market news at The Currency Analytics. Decentralized investment will ultimately be regulated.\",\"The official Portuguese shop of Chinese electronics giant Xiaomi has partnered with Utrust to unlock payments in five cryptocurrencies.\",\"Guizhou province is the first in China to announce an ambitious electric vehicle campaign, taking advantage of the power capacity freed up by Beijing's Bitcoin mining ban.\",\"China's leading smartphone manufacturer Xiaomi has announced that the recent advertisement for Bitcoin and crypto payment made by the Portugese MI store has no connection with the company's operation. A Facebook advertisement posted by the MI store indicated that it would accept payments in Bitcoin and a few other cryptocurrencies.\",\"The official retail store for Chinese multinational electronics company, Xiaomi, Mi Store Portugal revealed that it will start accepting crypto payments. According to a recent report, Mi Store Portugal disclosed that customers can now purchase all Xiaomi products with five different cryptocurrencies.\",\"Electronics giant's Xiaomi shops in Portugal will start accepting Bitcoin payments after partnering with Utrust to unlock this new feature in five cryptocurrencies as we can see more in our latest Bitcoin news. Chinese electronics manufacturer Xiaomi is the latest company to get involved in the crypto industry as its Xiaomi shops in Portugal will [\\u2026]\",\"Bakkt is bringing BTC payments to stores across the United States under a new partnership with restaurant quick-service Quiznos as we are reading more in our latest BTC news. Digital asset marketplace Bakkt is bringing btc payments as it announced in a new partnership with the restaurant chain Quiznos to launch the first physical location [\\u2026]\",\"Melanion Capital's fund will invest in stocks that intend to have up to a 90% correlation with the price of Bitcoin.\",\"Xiaomi's Portuguese branch has started accepting cryptocurrency payments\",\"The European Union has approved a French fund manager's filing for an exchange-traded fund [ETF] which will track Bitcoin\\u2018s price closely. This will make Melanion Capital among the first companies to offer the world's largest cryptocurrency through mutual funds in Europe, as per reports.\",\"The latest report shows that France-based fund manager Melanion Capital has received a regulatory go-ahead for an exchange-traded fund that seeks to track the price of Bitcoin (BTC) while satisfying the laws in Europe. In the information provided to Financial Times, Melanion Capital noted that the fund is 90% correlated to Bitcoin.\",\"It will be a fund that replicates the prices of a basket of equities linked to the price of BTC\",\"This is not a state initiative, but a promotion of a crypto exchange\",\"Although President Nayib Bukele was confident about his country's decision to recognize Bitcoin as legal tender, he was nearly brought down by widespread institutional criticism from agencies such as the International Monetary Fund (IMF), the World Bank and others. However, the recent endorsement from Bank of America gives Bukele renewed vigor and enthusiasm to continue pursuing the Bitcoin dream.\",\"Melanion Capital will launch an exchange-traded fund that closely tracks the price of Bitcoin with a basket of stocks\",\"French asset manager Melanion Capital is set to launch an EU-regulated fund that closely tracks the price of bitcoin, according to a Financial Times report on Wednesday. If successful, this will be the first time that investors in the region will be able to get exposure to Bitcoin through a mutual-fund investment vehicle.\",\"#bitcoinmining #Chinamining #bitcoinChina Chinese mining firms are looking to the United States amid the China crackdown on crypto. CoinDesk Global Macro Editor Emily Parker joins Yahoo Finance's Zack Guzman and Akiko Fujita to discuss.\",\"Select restaurants of Quiznos will test accepting bitcoin in certain locations in Denver, Colorado beginning in mid-August. The post Bakkt partners with Quiznos to pilot bitcoin payments in Denver appeared first on The Block.\",\"Bank of America (BofA), one of the largest banks in the US, believes El Salvador has a lot to gain from its decision to adopt Bitcoin. In a report shared by El Salvador's President Nayib Bukele to a state-owned publication, BofA\\u00a0highlights the four key upsides to the country's Bitcoin adoption.\\u00a0 The bank says that remittances [\\u2026] The post Here Are the Four Upsides to El Salvador's Bitcoin Adoption, According to Bank of America appeared first on The Daily Hodl.\",\"#bitcoin #bitcoinmining #Chinabitcoinminingcrackdown Chinese bitcoin miners are heading to Texas. Riot Blockchain CEO Jason Les joins Yahoo Finance's Zack Guzman and Akiko Fujita to discuss.\",\"Russia, a nation actually wrestling with different parts of managing digital currencies might be mellowing its position on the resource class, as ongoing occasions demonstrate....\",\"India's cryptocurrency ban is still up in the air\",\"Bank of America has outlined some benefits to be had from adopting bitcoin as legal tender in El Salvador. The opportunities include low-cost remittances, financial digitization, more choices, and greater investments from foreign companies. Bank of America Highlights Opportunities Bitcoin Brings to El Salvador as Legal Tender Bank of America (BOA) outlined some potential benefits [\\u2026]\",\"A report from the Bank of America lists some potential benefits for El Salvador as it works to implement bitcoin into its economy. The post Bank of America Report Sees Upsides to El Salvador Bitcoin Adoption appeared first on BeInCrypto.\",\"US financial services player Bank of America, one of the world's largest banks, has come out in support of El Salvador's Bitcoin bill in a note to clients last week. The post El Salvador's Bitcoin bill has 5 key benefits, says Bank of America appeared first on CryptoSlate.\",\"Bank Of America has said that it sees how El Salvador's adoption of Bitcoin could help the Island country. President Bukele Agrees With Bank Of America President Nayib Bukele of El Salvador, a Central American country, tweeted yesterday screenshots of a Bank of America economic outlook report (BofA).\",\"BofA sees four upsides to Bitcoin adoption in El Salvador, including remittances, financial digitalization, and foreign investments.\",\"The decision to make BTC legal tender in the country is also having consequences outside the country itself\",\"Catch up on the latest crypto market news at The Currency Analytics. Nayib Bukele pointed to the Bank of America statement, \\u201cWe recently revised up our GDP growth forecasts for 2021, to\\u2026 The post Why are Bitcoin (BTC) Fans looking at El Salvador and Bank of America Statements?\",\"Catch up on the latest crypto market news at The Currency Analytics. Cryptocurrencies are legal in Japan.\",\"Catch up on the latest crypto market news at The Currency Analytics. China has banned banks from using bitcoin and banished so-called crypto \\u2018miners' from the country.\",\"The new hires will help PayPal expand its crypto-focused business offering at a time of rapid adoption of Bitcoin and Ether.\",\"\\u201cMore than 70% of the adult population of El Salvador does not have a bank account,\\u201d reads the latest Global Research report from Bank of America. \\u201cFor that reason, democratizing access to electronic payments, through Bitcoin, has a progressive touch.\",\"America's second-largest bank sees a slew of advantages in El Salvador's move to adopt Bitcoin\",\"Finland is currently looking for cryptocurrency brokers to assist in the sale of bitcoin used in criminal activities. The post Finland Seeking Brokers to Assist in Sale of $82M Worth of Seized BTC\\u00a0 appeared first on BeInCrypto.\",\"Congressman Warren Davidson explained how the cryptocurrency tax addition to the Senate infrastructure bill is bad for the U.S.\",\"A daily close above $40,000 could see Bitcoin nurture a key uptrend to $50,000. PayPal to debut a crypto exchange platform in the UK as the market turns green.\",\"American retirement savings represent a new beachhead for bitcoin \\u2014 we just need to make sure people hold their own keys.\",\"As many as eight China-based Bitcoin mining firms are said to be looking to relocate operations to Paraguay, home to abundant hydroelectric energy.\",\"Finland's customs authority is looking for brokers to sell 1,981 bitcoins seized in drug cases. The coins are currently worth nearly $80 million. Finland's customs authority announced Thursday that it is seeking brokers to sell 1,981 bitcoins seized in drug busts, Bloomberg reported, noting that the coins were forfeited to the state by court order. [\\u2026]\",\"Bitcoin was exchanging lower on Friday, finishing the week around $39,000. Its 2% droop as of now might mirror some benefit taking\\u2014following a new 35%...\",\"Greater Manchester Police recovered over $22 million in stolen crypto from scammers\\u2014including over $9 million on a single encrypted USB drive.\",\"Detectives in the United Kingdom have reportedly seized a USB stick with $9.5 million in Ethereum (ETH) that was believed to be stolen through an alleged crypto scam. In a statement, the Greater Manchester Police (GMP say that their specialist officers from the Economic Crime Unit retrieved the USB stick after tracking down two alleged [\\u2026] The post UK Detectives Seize USB Stick With $9.5 Million in Ethereum in Alleged Crypto Scam appeared first on The Daily Hodl.\",\"Ethereum is the second-largest cryptocurrency after Bitcoin. Although the majority of crypto transactions are legitimate, many are also fraudulent.\",\"Cryptos seized are related to a scam whose victims are located in the UK, Europe, China, the US, Hong Kong, and Australia.\",\"Ethereum (CRYPTO: ETH) continues its astronomical rise as favorable fundamentals motivate buyers to pile up and drive demand for the coin, overtaking major publicly traded firms as proponents talk about it potentially overtaking top cryptocurrency Bitcoin (CRYPTO: BTC).\",\"Every sector within the digital asset industry saw significant growth in 2021. This included developments in DeFi, Bitcoin\\u2018s new ATH levels, and the growth of pre-existing projects such as Cardano and Binance Coin.\",\"The changing trading patterns in USDT might be the result of China's recent crackdown on cryptocurrency mining and trading.\",\"Ethereum (CRYPTO: ETH) co-founder Vitalik Buterin's donation of $1 billion in Shiba Inu (CRYPTO: SHIB) coins to an India Covid-19 relief fund about two months ago has been slow in reaching the people due to several issues, Bloomberg\",\"A new partnership with LegitDoc places India among early adopters to implement an e-governance system for higher education.\",\"TL;DR Breakdown The diploma certification verification in India to be done using Ethereum blockchain technology. A recent partnership was announced by LegitDoc with the Maharashtra Government.\",\"The first in-person Ethereum event since the pandemic was a low-key but upbeat affair in Paris last week. But EthCC was as far away from Bitcoin Miami as you could get.\",\"The founder of Ethereum has high hopes for the network's uses for social good that go way beyond the fast financial gains of DeFi investing.\",\"The Brazilian Securities Commission (CVM) just approved an exchange-traded fund (ETF) that tracks the performance of Ethereum (ETH). Blockchain investment firm QR Capital, the holding company of QR Asset Management, says\\u00a0the Ethereum ETF will be traded on the country's stock exchange, B3, with the ticker QETH11. QETH11 is the first ETF exchange-traded fund to be [\\u2026] The post Brazil Green Lights First Ethereum ETF in Latin America appeared first on The Daily Hodl.\",\"An Ethereum (CRYPTO: ETH) exchange-traded fund (ETF) has been approved by the Brazilian Securities Commission (CVM) to trade on the B3 stock exchange.\",\"The Brazilian Securities Commission (CVM) has approved the first exchange-traded fund tracking the performance of Ethereum (ETH) in Latin America.\",\"The new fund will be trading under the ticker \\\"QETH11\\\" in the B3 stock exchange.\",\"Ethereum network is taking a big step toward a scalable PoS blockchain. Here is how the London and Berlin hard forks fit into the road to Ethereum 2.0.\",\"On Tuesday, 13th July, the Brazilian Securities Regulator (CVM) approved the first-ever cryptocurrency exchange-traded fund (ETF) that tracks the performance of Ether digital currency in Latin America. The QR Asset Management announced the approval of this Ether ETF \\u2013 QETH11 \\u2013 which shall be listed on the Brazilian Stock Exchange B3.\",\"Brazil's Securities Commission approved the first Ethereum ETF in Latin America as we can see more in our latest ethereum news today. The Brazilian Securities Commission approved the first exchange-traded fund tracking the ETH performance in Latin America.\",\"The Chinese province of Anhui has become the latest to ban cryptocurrency mining as Beijing steps up efforts to restrict the energy-intensive practice and achieve its climate goals.\",\"On Tuesday, July 13, the Brazilian Securities Regulator (CVM) approved the new cryptocurrency exchange-traded fund (ETF) that tracks the performance of Ether digital currency. The QR Asset Management announced the approval of this Ether ETF\\u00a0 \\u2013 QETH11 \\u2013 which shall be listed on the Brazilian Stock Exchange B3.\",\"After reports former bitcoin and ethereum miners in China have been dumping GPUs, analysts have warned crypto prices are \\\"in danger\\\"...\",\"The Group is planning to move its staff to different countries including Canada, UAE, the US, Iceland, and Kazakhstan.\",\"Owing to the new stricter crypto regulations in China, the IBC Group has decided to pack up its mining operations in the country and move to new locations in UAE, Canada, USA, Kazakhstan, Iceland, and various South American countries. China's Crypto Crackdown Drives Out Institutional Miners The institutional crackdown on crypto-related activities in China has been chalked up to the government trying to \\u2018control financial risks.\",\"\\\"First Mover\\\" dives into crypto markets and business news, including Ethereum's upcoming upgrade. Is it bullish or bearish for ETH?\",\"The Bitcoin network is not the only victim of China's ongoing mining crackdown as a substantial amount of Ethereum is also mined on the mainland.\",\"China ramps up the pressure on crypto, telling banks to stop facilitating transactions. Cryptocurrencies fell with bitcoin dropping below $30K Tuesday morning.\",\"Officials told state media they have halted 90% of the country's bitcoin mining operations.\",\"CME's bitcoin futures goes into \\\"backwardation\\\" and BTC inflows to exchanges rise as China \\\"FUD\\\" continues.\",\"Those living in the Lone Star State will be able to buy Bitcoin (CRYPTO: BTC), Ethereum (CRYPTO: ETH), and Dogecoin (CRYPTO: DOGE) along with their apples and oranges soon.\",\"Privacy is a top concern for decentralised finance (\\u201cDeFi\\u201d) and general cryptocurrency users. The commonly held belief of anonymity formerly drove many to use currencies like Bitcoin and Ethereum, but this is quickly fading as more surveillance comes to light.\",\"Financial Conduct Authority (FCA) has confirmed an increase in the number of cryptocurrency holders in UK, arising from an increase in public interest and media coverage. Based on the findings from its recently conducted research, the FCA discovered a growing involvement of financial services players in the digital currency ecosystem, as well as increased interest The post Cryptocurrency Holders Rises to 2.3 Million in UK; BTC, XRP, ETH Among Top Choices appeared first on Coingape.\",\"With the debate on crypto mining's energy use increasingly involving renewable sources, a rising number of UK farmers are reaching for a surprising reservoir of power - cow waste, aka dung - using this traditional, multipurpose resource to generate electricity for carbon-neutral crypto mining operations, therefore to diversify and up their revenues. Currently,\",\"There's a lot of buzz in China around the Bee mainnet soft launch following the recent hype surrounding Filecoin and Chia. Reports detail that Swarm is set to kickstart the mainnet on June 13, and droves of miners from China are getting prepared to obtain rewards from the distributed storage platform and content distribution service. [\\u2026]\",\"Join us for the latest episode of \\\"Keeping Up With the Cryptocurrencies.\\\"\",\"San Jose Sharks has become the first NHL team to accept cryptocurrencies such as Bitcoin (BTC), Ethereum (ETH) and Dogecoin (DOGE) for large payments.\",\"The California-based National Hockey League team, San Jose Sharks have announced that they will now accept cryptocurrencies as payments through the BitPay payment service. The development will take effect starting in October, when the 2021-2022 NHL season begins.\",\"The acceptance of top cryptocurrencies like Bitcoin, Ethereum, and XRP on gambling sites are part of the reason why illegal online gambling is rising in Asia, a report from the Asian Racing Federation (ARF) said earlier this week. The post Crypto bets via Bitcoin, Ethereum, XRP are fueling illegal gambling in Asia appeared first on CryptoSlate.\",\"The Canadian Purpose Group Ether ETF\\u00a0 has breached 50,000 ETH worth $122.7 million in AUM even when the price of the second largest cryptocurrency has registered a 50% decline from the top during the recent market correction. The Ether ETF was launched by the firm on April 20 and in just over a month it The post Canada Based Purpose Ether ETF AUM Breach 50,000 ETH appeared first on Coingape.\",\"The vulnerability was first discovered in late 2019.\",\"Without providing his precise reasons, a UK Parliament member said he was more bullish on ether rather than bitcoin and even mentioned the \\\"flippening.\\\"\",\"Within two hours of the State Council statement, BTC fell 11%, based on CoinDesk 20 data.\",\"Tom Tugendhat has been in the united kingdom government for more than five years. The member of parliament has urged UK citizens to put more of their energy into financial innovations.\",\"Canada's central bank today issued a stark warning about \\u201chigh-risk\\u201d assets like Bitcoin and Ethereum.\",\"Ether search interest is higher than ever, and is attracting interest from around the globe, a new report reveals.\",\"Top cryptocurrencies are a sea of green as observers ponder a new Dogecoin mystery: Why did the meme crypto suddenly crash and recover? Igor Telyatnikov of exchange software provider AlphaPoint joins our markets discussion.\",\"The blockchain shift from Ethereum to alternate chains closely resembles the exodus of tech talent from San Francisco to emerging hubs.\",\"Ethereum, the world's most-used blockchain by daily transactions and the second-largest by market cap, broke the $3,000 price level in the early hours Monday, data from multiple sources shows. The post Ethereum breaks $3,000\\u2014it's now more valued than Bank of America appeared first on CryptoSlate.\",\"Asset manager WisdonTreees announced the listing of Ethereum exchange-traded products (ETP) on the Swiss and German stock exchanges. The new ETP will trade with the ticker \\u201cETHW\\u201d and will track the spot price of Ethereum (ETH). The physically-backed ETP also has an expense ratio of 0.95%, according to WisdomTree. This is coming barely a month [\\u2026] The post Another Ethereum ETF has been listed in Germany, this time from WisdomTree appeared first on Invezz.\",\"The Alonzo upgrade for Team Cardano is chugging on at a steady speed, with the first fully public Cardano testnet went live this week. Let's look into what that means for the Cardano community and other mentionable incidents that happened for the fifth largest crypto this week.\",\"Crypto investors in Japan can look forward to buying and selling Cardano as the fifth-largest crypto asset gets the green light for listing on exchanges operating in the country. Sebastien Guillemot, the former executive of Cardano-founding entity EMURGO, says that getting ADA's regulatory approval is no easy feat due to Japan's \\u201cstrict\\u201d rules involving the [\\u2026] The post Cardano Gets Approval for Listing on Crypto Exchanges in Japan appeared first on The Daily Hodl.\",\"Cardano (ADA) just became one of the rare tokens that succeeded to receive approval to be listed on crypto exchanges in Japan. The post Cardano (ADA) sees Japan listing after passing strict crypto regulatory checks appeared first on CryptoSlate.\",\"Cardano (ADA) has recently secured another win in its long repertoire of wins lately. The native coin of Cardano, ADA, has now been approved to be listed in Japan, which features one of the hardest listing requirements in the world.\",\"Japan is probably one of the first countries in the world to open its doors to cryptocurrencies to the extent that it did, and while many nations have gone more crypto-friendly since then, Japan still plays a major role in crypto history. However, that does not mean that Japan is not extremely strict when it [\\u2026] The post Cardano (ADA) finally receives regulatory approval to be listed in Japan appeared first on Invezz.\",\"Earlier today, Sebastien Guillemot, CTO at dcSpark, as well as former Co-VP of Eng. & Cardano PM at EMURGO, said that $ADA has finally been approved for listing on a Japanese crypto exchange and explained why this is a big deal. According to Guillemot, it is not easy for cryptoassets to gain regulatory approval for [\\u2026]\",\"Catch up on the latest crypto market news at The Currency Analytics. Charles Hoskinson, Cardano (ADA), in response to China advances its war on Bitcoin, cracks down on mining:\\u00a0 Remember, with a\\u2026 The post PoS of Cardano (ADA) Scaring Devil out of PoW of Bitcoin (BTC) in China appeared first on Cryptocurrency News.\",\"Popular crypto trader Austin Arnold says seven altcoin crypto assets have tremendous potential to make gains in the near future. Arnold tells his 751,000 YouTube subscribers that he's excited about Cardano, citing news that Cardano's ERC20 converter is getting close to its testnet phase. \\u201cThis is huge for Cardano\\u2026 but this speaks even more so [\\u2026] The post Elite Group of Seven Crypto Assets Have \\u2018Insane Potential,' According to Trader Austin Arnold appeared first on The Daily Hodl.\",\"Vancouver-based iMining announced after extensive research and testing that they are set to launch a staking service for cardano (ADA). The post Canada-Based Crypto Company iMining Launches Cardano Staking appeared first on BeInCrypto.\",\"Billionaire Mark Cuban is taking a deeper dive into crypto with Cardano\",\"Swiss crypto payments processor FNTX Capital Suisse has teamed up with Portuguese property developer 355 Developments, allowing customers to buy luxury condos with Bitcoin (BTC), Dogecoin (DOGE), Ethereum (ETH), and Cardano (ADA), it said in a release today. The post You can now buy luxury condos with Dogecoin (DOGE) and Cardano (ADA) in Portugal appeared first on CryptoSlate.\",\"Crypto influencer and trader Austin Arnold is uncovering a list of three altcoins that have life-changing potential as they march toward mass adoption. In a new video, Arnold first spotlights Ethereum competitor Cardano (ADA), which has just locked in impressive partnerships in Ethiopia and Tanzania. Arnold notes that in Ethiopia the team behind Cardano, Input [\\u2026] The post Three Altcoins With Life-Changing Potential Are Blazing Toward Mass Adoption, Says Trader Austin Arnold appeared first on The Daily Hodl.\",\"The University of Zurich will include a class on Cardano in its Deep Dive Into Blockchain 2021 curriculum.\",\"A few days after FD7 Ventures, a Dubai-based crypto-investment fund, made news after it announced its decision to sell its Bitcoin holdings worth $750M to buy more Cardano and Polkadot, the fund is in the headlines again. According to a press release, FD7 Ventures has now launched a $250M Micro-Fund in India to invest in [\\u2026]\",\"Crypto investment fund opens an office in India and sets up a $250 million endeavor to invest in Cardano and Polkadot.\",\"Litecoin, the world's ninth-largest cryptocurrency by market cap, will soon see an institutional listing in the form of an exchange-traded product (ETP) in Switzerland, as per a press release by crypto investment firm CoinShares today. The post A Litecoin (LTC) ETP just launched in Switzerland appeared first on CryptoSlate.\",\"The XXXII Tokyo Summer Olympics are special not only because they take place under such difficult circumstances but also because they are happening when our understanding of the definition of money and assets is changing. Here's why.\",\"Young British investors are taking on large financial risks to get their hands on Bitcoin (BTC) and Dogecoin (DOGE), according to a new poll by market research firm Opinium. Opinium surveyed 1,000 UK citizens between 18 and 29 years old from June 21st to June 25th. The results of the survey show that Bitcoin is [\\u2026] The post Young Investors Taking Big Risks To Own Bitcoin and Dogecoin, According to New UK Survey appeared first on The Daily Hodl.\",\"While BTC and ETH rank 6th and 10th, CoinMarketCap data outlined Shiba Inu, Doge Killer, and other meme coins as the highest-trending tokens in the US.\",\"DOGE and BTC ATMs are coming to the Texas grocery giant H-E-B supermarkets and many more will be installed in the near future so let's read more in our latest Dogecoin news today. Coin Cloud's 2000th BTC ATMs are coming to the H-E-B store and many more will be installed.\",\"Coin Cloud's 2,000th Bitcoin ATM is arriving to a H-E-B store. Many more will be installed in the Texas supermarket chain's outlets.\",\"The founder of Doge dropped a three-tiered series of NFTs and Paris Hilton becomes an NFT advisor.\",\"What Happened: London-based Fintech company Revolut announced support for meme-based cryptocurrency Dogecoin on Tuesday.\",\"Ruffer revealed on Tuesday that it had sold its $600M position for $1.1B, citing concerns over excessive speculation across the cryptocurrency market.\",\"TL;DR Breakdown American hockey announced it now accepts digital currencies including Doge Other sports organizations that have adopted crypto payment In another significant development for the cryptocurrency space, more sports organizations are announcing their digital currency adoption as San Jose Sharks becomes the latest sporting team to add support for several cryptocurrencies. Jonathan Becher, president [\\u2026]\",\"Famous NHL's San Jose Sharks has joined a list of very few sports teams globally that accept cryptocurrencies like Bitcoin, Dogecoin, and Ethereum\\u00a0for transactions, according to an announcement made by the club's President, Jonathan Becher. The post NHL team San Jose Sharks to accept payments via Bitcoin, Dogecoin, and others appeared first on CryptoSlate.\",\"It's part of a partnership with BitPay.\",\"Cryptocurrency investors with Dogecoin (DOGE) to spare can now spend some of their Shiba Inu-themed coins to purchase luxury condos in Portugal, according to reports.\",\"You can now use Dogecoin to buy luxury apartments in Portugal, with a penthouse currently on sale for around 5 million DOGE, worth roughly $2.2 million.\",\"DOGE leading in volume and search hits, VeChain's blockchain solution on state run CGTN, and HOO launches a smart chain of its own\",\"KFC Canada claims to accept Dogecoin, but there is no apparent way to pay with the coin.\",\"South Korean crypto exchanges processed more Dogecoin trades yesterday than the average volume of stocks traded on the country's traditional exchanges, data from multiple sources shows. The post Dogecoin volumes in Korea exceeded those of its entire stock market yesterday appeared first on CryptoSlate.\",\"This week a number of digital assets saw significant gains, but the meme-themed digital asset dogecoin has seen a significant rise during the last 48 hours. Dogecoin tapped a high of $0.143 per unit on Wednesday and has spiked more than 104% during the last week. Meanwhile, the billionaire investor and television personality, Mark Cuban, [\\u2026]\",\"The billionaire owner of the Dallas Mavericks, Mark Cuban, tweeted his team had sold more than $122,000 worth of merch paid for in Dogecoin (DOGE). The post Much wow!\",\"Dogecoin has reentered the top ten and marked a new ATH at $0.14 as celebrity adoption continues and the Mavs said they will keep every single DOGE received for payments.\",\"In an unexpected move, Mark Cuban's NBA team, the Dallas Mavericks, have announced its decision to start accepting Dogecoin as a means of payment for tickets and other club merchandise. In addition, Mark Cuban spoke of how he's having fun with Dogecoin during a recent interview. The Dallas Mavericks, via its official Twitter account, disclosed [\\u2026] The post Dallas Mavericks Accepts Dogecoin, Mark Cuban Supports appeared first on Altcoin Buzz.\",\"The billionaire has taken a liking to cryptocurrencies and the DeFi space in recent times, and Dogecoin is now getting his attention. The post Dallas Mavericks boss Mark Cuban says Dogecoin will \\u2018definitely' reach $1 appeared first on CryptoSlate.\",\"Dallas Mavericks owner Mark Cuban says the NBA team is now accepting Dogecoin (DOGE) as payment for game tickets and merchandise. The billionaire reveals in a statement why the franchise has decided to support the meme cryptocurrency. \\u201cThe Mavericks have decided to accept Dogecoin as payment for Mavs tickets and merchandise for one very important, [\\u2026] The post Mark Cuban Says Dallas Mavericks Will Accept Dogecoin \\u2013 Here's Why appeared first on The Daily Hodl.\",\"Mark Cuban's Dallas Mavericks will accept Dogecoin payments for game tickets and merchandise on its online store via crypto payment service provider, BitPay.\",\"Mike\\u00a0Novogratz\\u00a0says that Mark Cuban is making a mistake by accepting Dogecoin for Dallas Mavericks tickets and merchandise, calling it a \\u201cjoke\\u201d and adding that the emphasis should be on Bitcoin.\\u00a0 In an interview on Bloomberg TV,\\u00a0Novogratz, the CEO of Galaxy Digital, said that Bitcoin was where it was all happening, and that banks were \\u201cfrantically\\u201d trying to get in on the leading cryptocurrency.\",\"\\\"We will HODL any we get,\\\" Mark Cuban told Cointelegraph.\",\"Dallas Mavericks, the NBA team owned by billionaire Mark Cuban has become the first professional sports team to accept Dogecoin as a form of payment. The basketball team was already accepting Bitcoin and going by Cuban's word, the team did not receive any significant payment in Bitcoin.\",\"Mark Cuban has said that almost no one has paid the Mavericks in Bitcoin. So will anyone pay in Dogecoin?\",\"NBA pro basketball team The Dallas Mavericks will soon accept Dogecoin as payment, according to DealBook. Jumping on the Doge-Wagon Shark Tank investor Mark Cuban, who in January jumped on the NFT bandwagon, reportedly told DealBook that his NBA team will accept DOGE as payments for tickets and merchandise.\",\"Entrepreneur Mark Cuban who owns Dallas Mavericks has recently been bullish on matters of cryptocurrencies and blockchain. The Shark Tank host recently declared his fondness for the Ethereum Network and said that Bitcoin is better than gold.\",\"In a seemingly unprecedented move, it seems the Dallas Mavericks will begin accepting DogeCoin as payment for tickets. Mark Cuba, the crypto-savvy entrepreneur is also the owner of the popular basketball team.\",\"CoinFlip\\u00a0 announced \\u00a0that it would add support for Dogecoin in a move to meet the market's demand. Much ATM for Dogecoin The largest Bitcoin ATM provider in the U.S. said that its network of over 1,800 terminals is ready for users to buy and sell DOGE \\u201ceven in the most rural towns\\u201d of the nation.\",\"Bitcoin miners will have to properly time exchanges into dollars to take advantage of rising Bitcoin prices.\",\"Bitcoin miners will have to properly time exchanges into dollars to take advantage of rising Bitcoin prices.\",\"Ever since the start of the COVID-19 pandemic, the popularity of cryptocurrencies has risen rapidly. Several governments and private firms have started to invest vast sums of capital in expanding the Cryptocurrency industry. However, it should also be noted that digital currencies are still not considered a medium of exchange in many economies. Overall, there \\u2026\",\"Ever since the start of the COVID-19 pandemic, the popularity of cryptocurrencies has risen rapidly. Several governments and private firms have started to invest vast sums of capital in expanding the Cryptocurrency industry. However, it should also be noted that digital currencies are still not considered a medium of exchange in many economies. Overall, there \\u2026\",\"Bitcoin miners will have to properly time exchanges into dollars to take advantage of rising Bitcoin prices.\",\"Photo by Ewan Kennedy on Unsplash It's clear bitcoin is having a breakthrough year in 2021.\",\"Users will be able to earn yield paid in BTC on all the rewards they've accumulated through the app.\",\"Canada has been one of the pioneering countries to approve cryptocurrency exchange-traded funds [ETFs]. However, a recent survey indicated that despite the lenient guidelines for investors, the people were not convinced about the safety of their investment.\",\"The Bank of Russia expressed concerns over the increasing number of local investors pouring their money into Bitcoin.\",\"Discussing how potential tapering by the Federal Reserve, economics in China, U.S. legislation and more through a Bitcoin lens.\",\"Five North American bitcoin mining firms have churned out a total of 1,802 bitcoin in July \\u2013 on average 58% more than what they did in June. The post These five North American firms mined 58% more bitcoin in July thanks to China appeared first on The Block.\",\"What is the new \\u201cChina Model\\u201d? And why would that country ban an industry that made them the ultimate leaders in the most important development in recent times?\",\"In a deal being struck by Black Rock Petroleum Company, up to 1 million bitcoin mining machines will be relocated to three natural gas-producing sites in Alberta.\\u00a0 After the Chinese purge of bitcoin mining from the country, a huge amount of mining machinery has come up for grabs to countries where cryptocurrency mining is still encouraged.\",\"Catch up on the latest crypto market news at The Currency Analytics. I'm pleased to announce that Senators Warner, Toomey, Sinema, Lummis & I have reached an agreement on an amendment to\\u2026 The post Bitcoin (BTC) Bullish Crypto Community Senses America is Great Again appeared first on Cryptocurrency News.\",\"Catch up on the latest crypto market news at The Currency Analytics. Decentralized investment will ultimately be regulated.\",\"The official Portuguese shop of Chinese electronics giant Xiaomi has partnered with Utrust to unlock payments in five cryptocurrencies.\",\"Guizhou province is the first in China to announce an ambitious electric vehicle campaign, taking advantage of the power capacity freed up by Beijing's Bitcoin mining ban.\",\"China's leading smartphone manufacturer Xiaomi has announced that the recent advertisement for Bitcoin and crypto payment made by the Portugese MI store has no connection with the company's operation. A Facebook advertisement posted by the MI store indicated that it would accept payments in Bitcoin and a few other cryptocurrencies.\",\"The official retail store for Chinese multinational electronics company, Xiaomi, Mi Store Portugal revealed that it will start accepting crypto payments. According to a recent report, Mi Store Portugal disclosed that customers can now purchase all Xiaomi products with five different cryptocurrencies.\",\"Electronics giant's Xiaomi shops in Portugal will start accepting Bitcoin payments after partnering with Utrust to unlock this new feature in five cryptocurrencies as we can see more in our latest Bitcoin news. Chinese electronics manufacturer Xiaomi is the latest company to get involved in the crypto industry as its Xiaomi shops in Portugal will [\\u2026]\",\"Bakkt is bringing BTC payments to stores across the United States under a new partnership with restaurant quick-service Quiznos as we are reading more in our latest BTC news. Digital asset marketplace Bakkt is bringing btc payments as it announced in a new partnership with the restaurant chain Quiznos to launch the first physical location [\\u2026]\",\"Melanion Capital's fund will invest in stocks that intend to have up to a 90% correlation with the price of Bitcoin.\",\"Xiaomi's Portuguese branch has started accepting cryptocurrency payments\",\"The European Union has approved a French fund manager's filing for an exchange-traded fund [ETF] which will track Bitcoin\\u2018s price closely. This will make Melanion Capital among the first companies to offer the world's largest cryptocurrency through mutual funds in Europe, as per reports.\",\"The latest report shows that France-based fund manager Melanion Capital has received a regulatory go-ahead for an exchange-traded fund that seeks to track the price of Bitcoin (BTC) while satisfying the laws in Europe. In the information provided to Financial Times, Melanion Capital noted that the fund is 90% correlated to Bitcoin.\",\"It will be a fund that replicates the prices of a basket of equities linked to the price of BTC\",\"This is not a state initiative, but a promotion of a crypto exchange\",\"Although President Nayib Bukele was confident about his country's decision to recognize Bitcoin as legal tender, he was nearly brought down by widespread institutional criticism from agencies such as the International Monetary Fund (IMF), the World Bank and others. However, the recent endorsement from Bank of America gives Bukele renewed vigor and enthusiasm to continue pursuing the Bitcoin dream.\",\"Melanion Capital will launch an exchange-traded fund that closely tracks the price of Bitcoin with a basket of stocks\",\"French asset manager Melanion Capital is set to launch an EU-regulated fund that closely tracks the price of bitcoin, according to a Financial Times report on Wednesday. If successful, this will be the first time that investors in the region will be able to get exposure to Bitcoin through a mutual-fund investment vehicle.\",\"#bitcoinmining #Chinamining #bitcoinChina Chinese mining firms are looking to the United States amid the China crackdown on crypto. CoinDesk Global Macro Editor Emily Parker joins Yahoo Finance's Zack Guzman and Akiko Fujita to discuss.\",\"Select restaurants of Quiznos will test accepting bitcoin in certain locations in Denver, Colorado beginning in mid-August. The post Bakkt partners with Quiznos to pilot bitcoin payments in Denver appeared first on The Block.\",\"Bank of America (BofA), one of the largest banks in the US, believes El Salvador has a lot to gain from its decision to adopt Bitcoin. In a report shared by El Salvador's President Nayib Bukele to a state-owned publication, BofA\\u00a0highlights the four key upsides to the country's Bitcoin adoption.\\u00a0 The bank says that remittances [\\u2026] The post Here Are the Four Upsides to El Salvador's Bitcoin Adoption, According to Bank of America appeared first on The Daily Hodl.\",\"#bitcoin #bitcoinmining #Chinabitcoinminingcrackdown Chinese bitcoin miners are heading to Texas. Riot Blockchain CEO Jason Les joins Yahoo Finance's Zack Guzman and Akiko Fujita to discuss.\",\"Russia, a nation actually wrestling with different parts of managing digital currencies might be mellowing its position on the resource class, as ongoing occasions demonstrate....\",\"India's cryptocurrency ban is still up in the air\",\"Bank of America has outlined some benefits to be had from adopting bitcoin as legal tender in El Salvador. The opportunities include low-cost remittances, financial digitization, more choices, and greater investments from foreign companies. Bank of America Highlights Opportunities Bitcoin Brings to El Salvador as Legal Tender Bank of America (BOA) outlined some potential benefits [\\u2026]\",\"A report from the Bank of America lists some potential benefits for El Salvador as it works to implement bitcoin into its economy. The post Bank of America Report Sees Upsides to El Salvador Bitcoin Adoption appeared first on BeInCrypto.\",\"US financial services player Bank of America, one of the world's largest banks, has come out in support of El Salvador's Bitcoin bill in a note to clients last week. The post El Salvador's Bitcoin bill has 5 key benefits, says Bank of America appeared first on CryptoSlate.\",\"Bank Of America has said that it sees how El Salvador's adoption of Bitcoin could help the Island country. President Bukele Agrees With Bank Of America President Nayib Bukele of El Salvador, a Central American country, tweeted yesterday screenshots of a Bank of America economic outlook report (BofA).\",\"BofA sees four upsides to Bitcoin adoption in El Salvador, including remittances, financial digitalization, and foreign investments.\",\"The decision to make BTC legal tender in the country is also having consequences outside the country itself\",\"Catch up on the latest crypto market news at The Currency Analytics. Nayib Bukele pointed to the Bank of America statement, \\u201cWe recently revised up our GDP growth forecasts for 2021, to\\u2026 The post Why are Bitcoin (BTC) Fans looking at El Salvador and Bank of America Statements?\",\"Catch up on the latest crypto market news at The Currency Analytics. Cryptocurrencies are legal in Japan.\",\"Catch up on the latest crypto market news at The Currency Analytics. China has banned banks from using bitcoin and banished so-called crypto \\u2018miners' from the country.\",\"The new hires will help PayPal expand its crypto-focused business offering at a time of rapid adoption of Bitcoin and Ether.\",\"\\u201cMore than 70% of the adult population of El Salvador does not have a bank account,\\u201d reads the latest Global Research report from Bank of America. \\u201cFor that reason, democratizing access to electronic payments, through Bitcoin, has a progressive touch.\",\"America's second-largest bank sees a slew of advantages in El Salvador's move to adopt Bitcoin\",\"Finland is currently looking for cryptocurrency brokers to assist in the sale of bitcoin used in criminal activities. The post Finland Seeking Brokers to Assist in Sale of $82M Worth of Seized BTC\\u00a0 appeared first on BeInCrypto.\",\"Congressman Warren Davidson explained how the cryptocurrency tax addition to the Senate infrastructure bill is bad for the U.S.\",\"A daily close above $40,000 could see Bitcoin nurture a key uptrend to $50,000. PayPal to debut a crypto exchange platform in the UK as the market turns green.\",\"American retirement savings represent a new beachhead for bitcoin \\u2014 we just need to make sure people hold their own keys.\",\"As many as eight China-based Bitcoin mining firms are said to be looking to relocate operations to Paraguay, home to abundant hydroelectric energy.\",\"Greater Manchester Police recovered over $22 million in stolen crypto from scammers\\u2014including over $9 million on a single encrypted USB drive.\",\"Detectives in the United Kingdom have reportedly seized a USB stick with $9.5 million in Ethereum (ETH) that was believed to be stolen through an alleged crypto scam. In a statement, the Greater Manchester Police (GMP say that their specialist officers from the Economic Crime Unit retrieved the USB stick after tracking down two alleged [\\u2026] The post UK Detectives Seize USB Stick With $9.5 Million in Ethereum in Alleged Crypto Scam appeared first on The Daily Hodl.\",\"Ethereum is the second-largest cryptocurrency after Bitcoin. Although the majority of crypto transactions are legitimate, many are also fraudulent.\",\"Cryptos seized are related to a scam whose victims are located in the UK, Europe, China, the US, Hong Kong, and Australia.\",\"Ethereum (CRYPTO: ETH) continues its astronomical rise as favorable fundamentals motivate buyers to pile up and drive demand for the coin, overtaking major publicly traded firms as proponents talk about it potentially overtaking top cryptocurrency Bitcoin (CRYPTO: BTC).\",\"Every sector within the digital asset industry saw significant growth in 2021. This included developments in DeFi, Bitcoin\\u2018s new ATH levels, and the growth of pre-existing projects such as Cardano and Binance Coin.\",\"The changing trading patterns in USDT might be the result of China's recent crackdown on cryptocurrency mining and trading.\",\"Ethereum (CRYPTO: ETH) co-founder Vitalik Buterin's donation of $1 billion in Shiba Inu (CRYPTO: SHIB) coins to an India Covid-19 relief fund about two months ago has been slow in reaching the people due to several issues, Bloomberg\",\"A new partnership with LegitDoc places India among early adopters to implement an e-governance system for higher education.\",\"TL;DR Breakdown The diploma certification verification in India to be done using Ethereum blockchain technology. A recent partnership was announced by LegitDoc with the Maharashtra Government.\",\"The first in-person Ethereum event since the pandemic was a low-key but upbeat affair in Paris last week. But EthCC was as far away from Bitcoin Miami as you could get.\",\"The founder of Ethereum has high hopes for the network's uses for social good that go way beyond the fast financial gains of DeFi investing.\",\"The Brazilian Securities Commission (CVM) just approved an exchange-traded fund (ETF) that tracks the performance of Ethereum (ETH). Blockchain investment firm QR Capital, the holding company of QR Asset Management, says\\u00a0the Ethereum ETF will be traded on the country's stock exchange, B3, with the ticker QETH11. QETH11 is the first ETF exchange-traded fund to be [\\u2026] The post Brazil Green Lights First Ethereum ETF in Latin America appeared first on The Daily Hodl.\",\"An Ethereum (CRYPTO: ETH) exchange-traded fund (ETF) has been approved by the Brazilian Securities Commission (CVM) to trade on the B3 stock exchange.\",\"The Brazilian Securities Commission (CVM) has approved the first exchange-traded fund tracking the performance of Ethereum (ETH) in Latin America.\",\"The new fund will be trading under the ticker \\\"QETH11\\\" in the B3 stock exchange.\",\"Ethereum network is taking a big step toward a scalable PoS blockchain. Here is how the London and Berlin hard forks fit into the road to Ethereum 2.0.\",\"On Tuesday, 13th July, the Brazilian Securities Regulator (CVM) approved the first-ever cryptocurrency exchange-traded fund (ETF) that tracks the performance of Ether digital currency in Latin America. The QR Asset Management announced the approval of this Ether ETF \\u2013 QETH11 \\u2013 which shall be listed on the Brazilian Stock Exchange B3.\",\"Brazil's Securities Commission approved the first Ethereum ETF in Latin America as we can see more in our latest ethereum news today. The Brazilian Securities Commission approved the first exchange-traded fund tracking the ETH performance in Latin America.\",\"The Chinese province of Anhui has become the latest to ban cryptocurrency mining as Beijing steps up efforts to restrict the energy-intensive practice and achieve its climate goals.\",\"On Tuesday, July 13, the Brazilian Securities Regulator (CVM) approved the new cryptocurrency exchange-traded fund (ETF) that tracks the performance of Ether digital currency. The QR Asset Management announced the approval of this Ether ETF\\u00a0 \\u2013 QETH11 \\u2013 which shall be listed on the Brazilian Stock Exchange B3.\",\"After reports former bitcoin and ethereum miners in China have been dumping GPUs, analysts have warned crypto prices are \\\"in danger\\\"...\",\"The Group is planning to move its staff to different countries including Canada, UAE, the US, Iceland, and Kazakhstan.\",\"Owing to the new stricter crypto regulations in China, the IBC Group has decided to pack up its mining operations in the country and move to new locations in UAE, Canada, USA, Kazakhstan, Iceland, and various South American countries. China's Crypto Crackdown Drives Out Institutional Miners The institutional crackdown on crypto-related activities in China has been chalked up to the government trying to \\u2018control financial risks.\",\"\\\"First Mover\\\" dives into crypto markets and business news, including Ethereum's upcoming upgrade. Is it bullish or bearish for ETH?\",\"The Bitcoin network is not the only victim of China's ongoing mining crackdown as a substantial amount of Ethereum is also mined on the mainland.\",\"China ramps up the pressure on crypto, telling banks to stop facilitating transactions. Cryptocurrencies fell with bitcoin dropping below $30K Tuesday morning.\",\"Officials told state media they have halted 90% of the country's bitcoin mining operations.\",\"CME's bitcoin futures goes into \\\"backwardation\\\" and BTC inflows to exchanges rise as China \\\"FUD\\\" continues.\",\"Those living in the Lone Star State will be able to buy Bitcoin (CRYPTO: BTC), Ethereum (CRYPTO: ETH), and Dogecoin (CRYPTO: DOGE) along with their apples and oranges soon.\",\"Privacy is a top concern for decentralised finance (\\u201cDeFi\\u201d) and general cryptocurrency users. The commonly held belief of anonymity formerly drove many to use currencies like Bitcoin and Ethereum, but this is quickly fading as more surveillance comes to light.\",\"Financial Conduct Authority (FCA) has confirmed an increase in the number of cryptocurrency holders in UK, arising from an increase in public interest and media coverage. Based on the findings from its recently conducted research, the FCA discovered a growing involvement of financial services players in the digital currency ecosystem, as well as increased interest The post Cryptocurrency Holders Rises to 2.3 Million in UK; BTC, XRP, ETH Among Top Choices appeared first on Coingape.\",\"With the debate on crypto mining's energy use increasingly involving renewable sources, a rising number of UK farmers are reaching for a surprising reservoir of power - cow waste, aka dung - using this traditional, multipurpose resource to generate electricity for carbon-neutral crypto mining operations, therefore to diversify and up their revenues. Currently,\",\"There's a lot of buzz in China around the Bee mainnet soft launch following the recent hype surrounding Filecoin and Chia. Reports detail that Swarm is set to kickstart the mainnet on June 13, and droves of miners from China are getting prepared to obtain rewards from the distributed storage platform and content distribution service. [\\u2026]\",\"Join us for the latest episode of \\\"Keeping Up With the Cryptocurrencies.\\\"\",\"San Jose Sharks has become the first NHL team to accept cryptocurrencies such as Bitcoin (BTC), Ethereum (ETH) and Dogecoin (DOGE) for large payments.\",\"The California-based National Hockey League team, San Jose Sharks have announced that they will now accept cryptocurrencies as payments through the BitPay payment service. The development will take effect starting in October, when the 2021-2022 NHL season begins.\",\"The acceptance of top cryptocurrencies like Bitcoin, Ethereum, and XRP on gambling sites are part of the reason why illegal online gambling is rising in Asia, a report from the Asian Racing Federation (ARF) said earlier this week. The post Crypto bets via Bitcoin, Ethereum, XRP are fueling illegal gambling in Asia appeared first on CryptoSlate.\",\"The Canadian Purpose Group Ether ETF\\u00a0 has breached 50,000 ETH worth $122.7 million in AUM even when the price of the second largest cryptocurrency has registered a 50% decline from the top during the recent market correction. The Ether ETF was launched by the firm on April 20 and in just over a month it The post Canada Based Purpose Ether ETF AUM Breach 50,000 ETH appeared first on Coingape.\",\"The vulnerability was first discovered in late 2019.\",\"Without providing his precise reasons, a UK Parliament member said he was more bullish on ether rather than bitcoin and even mentioned the \\\"flippening.\\\"\",\"Within two hours of the State Council statement, BTC fell 11%, based on CoinDesk 20 data.\",\"Tom Tugendhat has been in the united kingdom government for more than five years. The member of parliament has urged UK citizens to put more of their energy into financial innovations.\",\"Canada's central bank today issued a stark warning about \\u201chigh-risk\\u201d assets like Bitcoin and Ethereum.\",\"Ether search interest is higher than ever, and is attracting interest from around the globe, a new report reveals.\",\"Top cryptocurrencies are a sea of green as observers ponder a new Dogecoin mystery: Why did the meme crypto suddenly crash and recover? Igor Telyatnikov of exchange software provider AlphaPoint joins our markets discussion.\",\"The blockchain shift from Ethereum to alternate chains closely resembles the exodus of tech talent from San Francisco to emerging hubs.\",\"Ethereum, the world's most-used blockchain by daily transactions and the second-largest by market cap, broke the $3,000 price level in the early hours Monday, data from multiple sources shows. The post Ethereum breaks $3,000\\u2014it's now more valued than Bank of America appeared first on CryptoSlate.\",\"Asset manager WisdonTreees announced the listing of Ethereum exchange-traded products (ETP) on the Swiss and German stock exchanges. The new ETP will trade with the ticker \\u201cETHW\\u201d and will track the spot price of Ethereum (ETH). The physically-backed ETP also has an expense ratio of 0.95%, according to WisdomTree. This is coming barely a month [\\u2026] The post Another Ethereum ETF has been listed in Germany, this time from WisdomTree appeared first on Invezz.\",\"The Alonzo upgrade for Team Cardano is chugging on at a steady speed, with the first fully public Cardano testnet went live this week. Let's look into what that means for the Cardano community and other mentionable incidents that happened for the fifth largest crypto this week.\",\"Crypto investors in Japan can look forward to buying and selling Cardano as the fifth-largest crypto asset gets the green light for listing on exchanges operating in the country. Sebastien Guillemot, the former executive of Cardano-founding entity EMURGO, says that getting ADA's regulatory approval is no easy feat due to Japan's \\u201cstrict\\u201d rules involving the [\\u2026] The post Cardano Gets Approval for Listing on Crypto Exchanges in Japan appeared first on The Daily Hodl.\",\"Cardano (ADA) just became one of the rare tokens that succeeded to receive approval to be listed on crypto exchanges in Japan. The post Cardano (ADA) sees Japan listing after passing strict crypto regulatory checks appeared first on CryptoSlate.\",\"Cardano (ADA) has recently secured another win in its long repertoire of wins lately. The native coin of Cardano, ADA, has now been approved to be listed in Japan, which features one of the hardest listing requirements in the world.\",\"Japan is probably one of the first countries in the world to open its doors to cryptocurrencies to the extent that it did, and while many nations have gone more crypto-friendly since then, Japan still plays a major role in crypto history. However, that does not mean that Japan is not extremely strict when it [\\u2026] The post Cardano (ADA) finally receives regulatory approval to be listed in Japan appeared first on Invezz.\",\"Earlier today, Sebastien Guillemot, CTO at dcSpark, as well as former Co-VP of Eng. & Cardano PM at EMURGO, said that $ADA has finally been approved for listing on a Japanese crypto exchange and explained why this is a big deal. According to Guillemot, it is not easy for cryptoassets to gain regulatory approval for [\\u2026]\",\"Catch up on the latest crypto market news at The Currency Analytics. Charles Hoskinson, Cardano (ADA), in response to China advances its war on Bitcoin, cracks down on mining:\\u00a0 Remember, with a\\u2026 The post PoS of Cardano (ADA) Scaring Devil out of PoW of Bitcoin (BTC) in China appeared first on Cryptocurrency News.\",\"Popular crypto trader Austin Arnold says seven altcoin crypto assets have tremendous potential to make gains in the near future. Arnold tells his 751,000 YouTube subscribers that he's excited about Cardano, citing news that Cardano's ERC20 converter is getting close to its testnet phase. \\u201cThis is huge for Cardano\\u2026 but this speaks even more so [\\u2026] The post Elite Group of Seven Crypto Assets Have \\u2018Insane Potential,' According to Trader Austin Arnold appeared first on The Daily Hodl.\",\"Vancouver-based iMining announced after extensive research and testing that they are set to launch a staking service for cardano (ADA). The post Canada-Based Crypto Company iMining Launches Cardano Staking appeared first on BeInCrypto.\",\"Billionaire Mark Cuban is taking a deeper dive into crypto with Cardano\",\"Swiss crypto payments processor FNTX Capital Suisse has teamed up with Portuguese property developer 355 Developments, allowing customers to buy luxury condos with Bitcoin (BTC), Dogecoin (DOGE), Ethereum (ETH), and Cardano (ADA), it said in a release today. The post You can now buy luxury condos with Dogecoin (DOGE) and Cardano (ADA) in Portugal appeared first on CryptoSlate.\",\"Crypto influencer and trader Austin Arnold is uncovering a list of three altcoins that have life-changing potential as they march toward mass adoption. In a new video, Arnold first spotlights Ethereum competitor Cardano (ADA), which has just locked in impressive partnerships in Ethiopia and Tanzania. Arnold notes that in Ethiopia the team behind Cardano, Input [\\u2026] The post Three Altcoins With Life-Changing Potential Are Blazing Toward Mass Adoption, Says Trader Austin Arnold appeared first on The Daily Hodl.\",\"The University of Zurich will include a class on Cardano in its Deep Dive Into Blockchain 2021 curriculum.\",\"A few days after FD7 Ventures, a Dubai-based crypto-investment fund, made news after it announced its decision to sell its Bitcoin holdings worth $750M to buy more Cardano and Polkadot, the fund is in the headlines again. According to a press release, FD7 Ventures has now launched a $250M Micro-Fund in India to invest in [\\u2026]\",\"Crypto investment fund opens an office in India and sets up a $250 million endeavor to invest in Cardano and Polkadot.\",\"Litecoin, the world's ninth-largest cryptocurrency by market cap, will soon see an institutional listing in the form of an exchange-traded product (ETP) in Switzerland, as per a press release by crypto investment firm CoinShares today. The post A Litecoin (LTC) ETP just launched in Switzerland appeared first on CryptoSlate.\",\"The XXXII Tokyo Summer Olympics are special not only because they take place under such difficult circumstances but also because they are happening when our understanding of the definition of money and assets is changing. Here's why.\",\"Young British investors are taking on large financial risks to get their hands on Bitcoin (BTC) and Dogecoin (DOGE), according to a new poll by market research firm Opinium. Opinium surveyed 1,000 UK citizens between 18 and 29 years old from June 21st to June 25th. The results of the survey show that Bitcoin is [\\u2026] The post Young Investors Taking Big Risks To Own Bitcoin and Dogecoin, According to New UK Survey appeared first on The Daily Hodl.\",\"While BTC and ETH rank 6th and 10th, CoinMarketCap data outlined Shiba Inu, Doge Killer, and other meme coins as the highest-trending tokens in the US.\",\"DOGE and BTC ATMs are coming to the Texas grocery giant H-E-B supermarkets and many more will be installed in the near future so let's read more in our latest Dogecoin news today. Coin Cloud's 2000th BTC ATMs are coming to the H-E-B store and many more will be installed.\",\"Coin Cloud's 2,000th Bitcoin ATM is arriving to a H-E-B store. Many more will be installed in the Texas supermarket chain's outlets.\",\"The founder of Doge dropped a three-tiered series of NFTs and Paris Hilton becomes an NFT advisor.\",\"What Happened: London-based Fintech company Revolut announced support for meme-based cryptocurrency Dogecoin on Tuesday.\",\"Ruffer revealed on Tuesday that it had sold its $600M position for $1.1B, citing concerns over excessive speculation across the cryptocurrency market.\",\"TL;DR Breakdown American hockey announced it now accepts digital currencies including Doge Other sports organizations that have adopted crypto payment In another significant development for the cryptocurrency space, more sports organizations are announcing their digital currency adoption as San Jose Sharks becomes the latest sporting team to add support for several cryptocurrencies. Jonathan Becher, president [\\u2026]\",\"Famous NHL's San Jose Sharks has joined a list of very few sports teams globally that accept cryptocurrencies like Bitcoin, Dogecoin, and Ethereum\\u00a0for transactions, according to an announcement made by the club's President, Jonathan Becher. The post NHL team San Jose Sharks to accept payments via Bitcoin, Dogecoin, and others appeared first on CryptoSlate.\",\"It's part of a partnership with BitPay.\",\"Cryptocurrency investors with Dogecoin (DOGE) to spare can now spend some of their Shiba Inu-themed coins to purchase luxury condos in Portugal, according to reports.\",\"You can now use Dogecoin to buy luxury apartments in Portugal, with a penthouse currently on sale for around 5 million DOGE, worth roughly $2.2 million.\",\"DOGE leading in volume and search hits, VeChain's blockchain solution on state run CGTN, and HOO launches a smart chain of its own\",\"KFC Canada claims to accept Dogecoin, but there is no apparent way to pay with the coin.\",\"South Korean crypto exchanges processed more Dogecoin trades yesterday than the average volume of stocks traded on the country's traditional exchanges, data from multiple sources shows. The post Dogecoin volumes in Korea exceeded those of its entire stock market yesterday appeared first on CryptoSlate.\",\"This week a number of digital assets saw significant gains, but the meme-themed digital asset dogecoin has seen a significant rise during the last 48 hours. Dogecoin tapped a high of $0.143 per unit on Wednesday and has spiked more than 104% during the last week. Meanwhile, the billionaire investor and television personality, Mark Cuban, [\\u2026]\",\"The billionaire owner of the Dallas Mavericks, Mark Cuban, tweeted his team had sold more than $122,000 worth of merch paid for in Dogecoin (DOGE). The post Much wow!\",\"Dogecoin has reentered the top ten and marked a new ATH at $0.14 as celebrity adoption continues and the Mavs said they will keep every single DOGE received for payments.\",\"In an unexpected move, Mark Cuban's NBA team, the Dallas Mavericks, have announced its decision to start accepting Dogecoin as a means of payment for tickets and other club merchandise. In addition, Mark Cuban spoke of how he's having fun with Dogecoin during a recent interview. The Dallas Mavericks, via its official Twitter account, disclosed [\\u2026] The post Dallas Mavericks Accepts Dogecoin, Mark Cuban Supports appeared first on Altcoin Buzz.\",\"The billionaire has taken a liking to cryptocurrencies and the DeFi space in recent times, and Dogecoin is now getting his attention. The post Dallas Mavericks boss Mark Cuban says Dogecoin will \\u2018definitely' reach $1 appeared first on CryptoSlate.\",\"Dallas Mavericks owner Mark Cuban says the NBA team is now accepting Dogecoin (DOGE) as payment for game tickets and merchandise. The billionaire reveals in a statement why the franchise has decided to support the meme cryptocurrency. \\u201cThe Mavericks have decided to accept Dogecoin as payment for Mavs tickets and merchandise for one very important, [\\u2026] The post Mark Cuban Says Dallas Mavericks Will Accept Dogecoin \\u2013 Here's Why appeared first on The Daily Hodl.\",\"Mark Cuban's Dallas Mavericks will accept Dogecoin payments for game tickets and merchandise on its online store via crypto payment service provider, BitPay.\",\"Mike\\u00a0Novogratz\\u00a0says that Mark Cuban is making a mistake by accepting Dogecoin for Dallas Mavericks tickets and merchandise, calling it a \\u201cjoke\\u201d and adding that the emphasis should be on Bitcoin.\\u00a0 In an interview on Bloomberg TV,\\u00a0Novogratz, the CEO of Galaxy Digital, said that Bitcoin was where it was all happening, and that banks were \\u201cfrantically\\u201d trying to get in on the leading cryptocurrency.\",\"\\\"We will HODL any we get,\\\" Mark Cuban told Cointelegraph.\",\"Dallas Mavericks, the NBA team owned by billionaire Mark Cuban has become the first professional sports team to accept Dogecoin as a form of payment. The basketball team was already accepting Bitcoin and going by Cuban's word, the team did not receive any significant payment in Bitcoin.\",\"Mark Cuban has said that almost no one has paid the Mavericks in Bitcoin. So will anyone pay in Dogecoin?\",\"NBA pro basketball team The Dallas Mavericks will soon accept Dogecoin as payment, according to DealBook. Jumping on the Doge-Wagon Shark Tank investor Mark Cuban, who in January jumped on the NFT bandwagon, reportedly told DealBook that his NBA team will accept DOGE as payments for tickets and merchandise.\",\"Entrepreneur Mark Cuban who owns Dallas Mavericks has recently been bullish on matters of cryptocurrencies and blockchain. The Shark Tank host recently declared his fondness for the Ethereum Network and said that Bitcoin is better than gold.\",\"In a seemingly unprecedented move, it seems the Dallas Mavericks will begin accepting DogeCoin as payment for tickets. Mark Cuba, the crypto-savvy entrepreneur is also the owner of the popular basketball team.\",\"CoinFlip\\u00a0 announced \\u00a0that it would add support for Dogecoin in a move to meet the market's demand. Much ATM for Dogecoin The largest Bitcoin ATM provider in the U.S. said that its network of over 1,800 terminals is ready for users to buy and sell DOGE \\u201ceven in the most rural towns\\u201d of the nation.\"],\"title\":[\"Why Bitcoin Matters in Nigeria and Iraq\",\"GoSats launches Bitcoin cashback rewards card in India\",\"BTC price slips under $46K but analysts are betting on new Bitcoin all-time highs\",\"An In Depth Look at Bitcoin's First Chain Split: Satoshi Helps Reverse the Creation of 184 Billion BTC\",\"Is Bitcoin Doing a Head Fake? On-Chain Analyst Will Clemente Looks at Strength of BTC Surge to $47,000\",\"Here's everything you need to know about Bitcoin's new all-time-highs\",\"$100k Is Magnet for Bitcoin, Grayscale Owner Barry Silbert Says\",\"Colombian President's Advisor: Bitcoin Is the Most Brilliant Piece of Software (Exclusive)\",\"BTC Price Prediction \\u2013 Here's When Bitcoin Price Will hit 100K\",\"Bitcoin Price Analysis: BTC Eyes Today's Critical Weekly Close As Volatility Continues\",\"On 50th Fiat Anniversary, Bitcoin Can Solve U.S. Gratification Addictions\",\"BTC Price Analysis: Bitcoin Hits 3 Month High But Prints Bearish Rising Wedge, What's Next?\",\"Bitcoin Price Analysis: BTC retraces to $46,000, set for a swift rally?\",\"BTC/USD Seeking Fresh Technical Sentiment: Sally Ho's Technical Analysis 16 August 2021 BTC\",\"Hot Girl Bitcoins: Hip-Hop Star Megan Thee Stallion Creates \\u201cBitcoin For Hotties\\u201d Video\",\"Erik Voorhees CEO of ShapeShift Opinions about Bitcoin (BTC)\",\"Bitcoin (BTC) is a Hedge Against Nothing Line of Code Went from 1 penny to $66,000\",\"Bitcoin is the Plan B According to Dan Held, the BTC Advocate\",\"BTC Slipped Under $46K But Analysts Bet On A New Bitcoin High\",\"Darknet Drug Dealer Allegedly Laundered $136M Worth Of BTC\",\"How \\u2018Bitcoin With Smart Contracts,' Ethereum Classic, Outperformed ETH\",\"Cardano, Bitcoin and Dogecoin Price Analysis: 15 August\",\"Crypto Market Back at $2 Trillion Market Cap as Bitcoin, ADA, XRP, DOGE Rise\",\"Popular Analyst Charts Next Levels for BTC, ETH and 4 other Altcoins\",\"Tyler Winklevoss on Bitcoin (BTC) and Ether (ETH) Looking Fierce\",\"Wealth managers gain exposure to Bitcoin via Grayscale, according to new SEC filings\",\"Bitcoin's Realized Market Cap Hits $378B, Total Market Cap at $880B\",\"Cause and effect: Will the Bitcoin price drop if the stock market crashes?\",\"Bitcoin's off-chain data points to more upward momentum for BTC price\",\"BTC price passes $47K 'worst-case scenario' as Bitcoin realized cap hits all-time high\",\"Bitcoin's 'Realized' Market Cap Hits All-Time High of $378 Billion\",\"\\u2018Wolf of All Streets' Trader Expects Bitcoin to Surpass $100K Within 6 to 12 Months\",\"PlanB Maintains $100K Bitcoin Prediction, Reveals When His Model Would Be Invalidated\",\"Bitcoin Firm Reveals Its Total BTC Reserves, Urges Other Crypto Exchanges To Disclose Holdings\",\"Bitcoin and altcoins: This portfolio technique could maximize your ROI\",\"Why this \\u2018would be the biggest single event in the history of Bitcoin'\",\"After briefly hitting $48k, will Bitcoin follow this \\u2018worst case scenario'\",\"By The Numbers: What $10 In Bitcoin Each Day Would Net Investors\",\"Bitcoin Sees Sharp Rejection at $48,000, Drops Nearly 5 Percent\",\"Bitcoin Realized Cap Hits a New ATH, Glassnode Reveals\",\"For the First Time in 3 Months: Bitcoin Fear and Greed Index Shows Extreme Greed\",\"Darknet Drug Dealer Accused of Laundering $136M Worth of Bitcoin\",\"Bitcoin Price Up 65% in 3.5 Weeks as BTC Eyes $48K (Market Watch)\",\"$60K Could Be The Next Stop For Bitcoin Price, Will It Make It This Weekend?\",\"Bitcoin's Upcoming Weekly Close Can Trigger The Most Bullish Buy Signal Since 2020 (BTC Price Analysis)\",\"KYC Will Not Protect Us, Bitcoin And Encryption Will\",\"Bitcoin's Blockchain Is The Timechain, Let's Call It That\",\"BTC adoption: Banco Azteca wants to accept Bitcoin\",\"Two Bitcoin platforms for trading pay millions to close investigations\",\"MicroStrategy and its first year with bitcoin\",\"Trading for Ethereum NFT Collectibles Cools Down After Frenzy\",\"Is Ethereum (ETH) a Security? CFTC's Commissioner Brian Quintenz Answers\",\"Ethereum Price Analysis: ETH prepares to target $3,600 after a rapid retracement overnight?\",\"ETH/USD Bulls Seeking Confirmation of Market Bias: Sally Ho's Technical Analysis 16 August 2021 ETH\",\"The CFTC Commissioner Concluded: Ethereum Is Under Our Jurisdiction\",\"Ethereum, Cardano and Three Other Altcoins Have \\u2018Great Potential' in Coming Weeks: Trader Elliot Wainman\",\"Bullish Ethereum traders can place risk-averse bets with this options strategy\",\"This Iconic 92-Year-Old US Magazine Plans To Hold Ethereum\",\"Ethereum's path to $3600: Addressing the most important questions\",\"Portraits of Ethereum Co-Founder Vitalik Buterin From 2015 Selling as NFTs\",\"Does DeFi Make Ethereum Unforkable? Here Are The Facts\",\"CFTC Commissioner Stresses: Ethereum Is Under Our Jurisdiction\",\"By The Numbers: How EIP-1559 Has Impacted Ethereum Thus Far\",\"Crypto Analyst: Ethereum ($ETH) Price Could Reach \\u2018$6,000 to $7,000' by Year End\",\"Ethereum Security Or Not, CFTC Commissioner Clarifies\",\"ETH/USD Orbiting 3000 Figure: Sally Ho's Technical Analysis 15 August 2021 ETH\",\"Ethereum Revisits the $3,272 High, Can Bulls Sustain an Upturn?\",\"Bitcoin Surge Fuels $100,000 Price Predictions As Massive Ethereum, Cardano, BNB, XRP And Dogecoin Rally Pushes Crypto Over $2 Trillion\",\"There's Growing Buzz Around Dogecoin-Ethereum Collaboration: Here's What The Progress Looks Like\",\"Bitcoin (BTC), Ethereum (ETH) Probing Multi-Week Highs, Alt-Coin Surge Continues\",\"The Crypto Economy's Biggest 12-Month Gainers Outshined Bitcoin and Ethereum by a Long Shot\",\"Paul Graham's Friend Sold 80% of His Bitcoin For ETH\",\"Ethereum, Binance Coin and Bitcoin Price Analysis: August 14\",\"Top Analyst lists Top 5 Altcoins Set to Skyrocket This Quarter\",\"Wormhole Goes Live, Providing Bridge Between Solana, Ethereum, Binance Smart Chain, and Terra\",\"Kryptoin Files for Ethereum ETF With SEC\",\"Kryptoin Files with the SEC for Listing an Ethereum ETF\",\"Market Wrap: Ethereum Keeps Burning and Price Is Hot\",\"Ether Upside Strengthens Relative to Bitcoin\",\"Nearly $125M Of Ether Already Burned As Coin Heads Towards Deflation\",\"PolyNetwork's Hacker Returns All Funds on Ethereum and Refuses a $500K Bug Bounty\",\"Ethereum alone not enough to disrupt Big Tech: Jack Dorsey\",\"Why Ethereum Miners Are Making A Million Dollar Bet Against Proof-of-Stake\",\"Fenerbah\\u00e7e's Ethereum Token Rises 433% On Launch, Crashing Crypto Exchange\",\"These Four Ethereum Competitors Are Set To Explode This Year, According to Altcoin Daily\",\"eToro Launches ETH Staking\",\"Why a rise above this level seems imminent for Ethereum\",\"Chicago's First NFT Gallery imnotArt Lives in the Ethereum Metaverse Too\",\"Holly Herndon Launches Music NFT Auction House on Ethereum\",\"Nansen Discuss the Growth of DeFi on Ethereum\",\"Jack Dorsey Explains Why He's Steered Clear of Ethereum\",\"KingTiger Casino Temporarily Shuts Down Due To Ethereum Network Congestion\",\"Ethereum (ETH) Steadies Above $3K, What Could Trigger Fresh Drop\",\"429 ETH Worth $1.3 Million Raised by Fortune Magazine and They Plan to Hodl Their Share\",\"Ethereum Wallets with 100K+ Coins Hold 43.7% of Total ETH Supply, Here's What It Means for Market\",\"Jack Dorsey claims Ethereum is not powerful enough to disrupt Big Tech\",\"ETH/USD Seeking Gains Above 3000: Sally Ho's Technical Analysis 14 August 2021 ETH\",\"Fortune's first-ever NFT auction rakes in 429 ETH worth $1.3M\",\"This Cardano Catalyst Could Send ADA to Greater Heights, According to Crypto Trader Aaron Arnold\",\"Cardano investors have this to look forward to\",\"Cardano Price Analysis: ADA spikes to $2.25, set for a slow retracement today\",\"Crypto Analyst: Cardano Smart Contracts Are \\u2018A Very Bullish Catalyst' for $ADA\",\"Cardano SPO Column: Easy Staking Pool [EASY1]\",\"Cardano's Alonzo Upgrade Date Revealed \\u2014 ADA Gains Over 16% After Announcement\",\"Smart Contracts Now Scheduled To Arrive on Cardano on This Date: IOHK\",\"Cardano ($ADA) \\u2018Is Ready To Run to $5', Says Crypto Analyst\",\"$ADA Now 3rd Most Valuable Crypto, Analyst Says \\u201cCardano's Best Days Are Ahead of It\\u201d\",\"\\u2018If Cardano gets it right then we could still see it rally a couple of hundred percent after\\u2026'\",\"Cardano price: Here's what has \\u2018provided a sort of security'\",\"Can these levels halt Cardano's attempt at a new ATH\",\"Cardano (ADA) Crosses $2 Threshold Ahead of Smart Contract Launch\",\"Cardano: \\u2018It's happening!' Alonzo upgrade is scheduled for\\u2026\",\"Could Yoroi be the MetaMask of the Cardano (ADA) ecosystem?\",\"Can Cardano's Smart Contracts Be Hacked? Charles Hoskinson Explains\",\"Cardano Price Prediction, Will ADA Price Hit $10 in 2021?\",\"Cardano Price Spikes Up More Than 5%, New ATH May Be Imminent!\",\"Cardano ADA becomes number 3 crypto after ETH\",\"Cardano price analysis: ADA correcting to healthy support level\",\"Cardano (ADA) becomes third-largest crypto as token surges amidst upgrade plans\",\"Fake Cardano ADA Wallet Is Being Marketed On Discord: Warning\",\"Scammers Targeting Daedalus Wallet To Swindle Cardano Hodlers\",\"Bitcoin holds $46K support after failed breakout, Cardano price passes $2.20\",\"Cardano, Dogecoin and XRP Surge Overnight\",\"Cardano, Litecoin and Polkadot: What traders need to know\",\"What does Bitcoin's current trajectory mean for Cardano, XRP, MATIC, and Dogecoin\",\"XRP, Dogecoin and Cardano Price Analysis: August 14\",\"Top Exchange Tokens Prints Differing Moves in Current Market Reawakening\",\"Cardano Looks To Be Forming Into A Bullish Pattern\",\"Cardano (ADA) Reclaims $2 For The First Time Since May Crash As Crypto Market Cap Nears $2 Trillion\",\"ADA hits $2 first the time since May ahead of Cardano smart contract announcement\",\"Cardano (ADA) Pumps Ahead of Smart Contract Announcement, Messi in The Money\",\"Cardano Announces \\u2018Alonzo' Upgrade Launch Date; Price Jumps 16%\",\"Cardano Becomes Number 3 Crypto After 11% Rise\",\"ADA to $3? Cardano Price Predictions Surge as ADA Becomes No. 4 Crypto\",\"Cardano on Its Way to $5? Crypto Strategist Micha\\u00ebl Van De Poppe Analyzes the Path Forward for ADA\",\"Dear Cardano Crypto Fans, Mark Your Calendars for a Big Smart Contracts Upgrade on Sept. 12\",\"Cardano Now Third Largest Crypto Ahead of Smart Contracts Update\",\"Cardano Says Smart Contracts Will Go Live in September\",\"Cardano Becomes Third Largest Cryptocurrency Overtaking Binance Coin And Tether\",\"Cardano (ADA) Breaks $2 For The First Time Since May, Why New All-Time High Is Imminent\",\"ADA Becomes Top-3 Asset on CoinGecko, Surpassing BNB and USDT\",\"Cardano's ADA Surpasses $2 Prior to Smart Contracts Luanch Announcement Later Today\",\"Cardano (ADA) Flirting with $2 Ahead of Big Announcement\",\"Litecoin Price Analysis: LTC breaks $180, slowly prepares to retrace?\",\"Litecoin price analysis: LTC ready to challenge the $184 mark again as bulls dominate the market\",\"Flawless LTC Chart Pattern Could Lead To \\u201cBiblical\\u201d Bullish Move: Analysis\",\"Chainlink and Litecoin: Here's how traders can book quick profits in the coming days\",\"Litecoin's Price Increased More Than 8% In 24 Hours As Bitcoin, Ethereum & BNB Recover\",\"Here's when and how Litecoin traders can long\",\"\\u201cTechnically Flawless\\u201d Litecoin Could Lead To \\u201cBiblical\\u201d Bullish Move\",\"Price analysis 8/13: BTC, ETH, BNB, ADA, XRP, DOGE, DOT, UNI, SOL, LTC\",\"AAVE, Litecoin and Bitcoin Price Analysis: August 13\",\"Litecoin, Chainlink, Uniswap Could All Be Ready for Fireworks, According to Crypto Analyst Nicholas Merten\",\"Here's How The Bitcoin Family Secures Their BTC, ETH & LTC Fortune\",\"Binance Coin, Litecoin and Chainlink Price Analysis: August 12\",\"Litecoin Price Analysis: LTC breaks above $170, targets $180 next?\",\"ARISE Litecoin (LTC) Beyond the Psychology of the Market Cycle\",\"Why this Cashback to Bitcoin, Ethereum, Litecoin, or Bitcoin Cash feature works for this firm\",\"Old Majors Bounce and Break Resistance Levels \\u2013 ADA, LTC and BCH Analysis\",\"Litecoin price prediction: Up to $200 or down to $150?\",\"Litecoin Price Analysis: LTC reaches $170 overnight, pauses before further highs?\",\"Litecoin Retraces as It Reaches the Overbought Region at $170\",\"Litecoin, Ripple Price Analysis: August 10, 2021\",\"Cryptocurrency Litecoin's Price Increased More Than 5% Within 24 hours\",\"Answering questions about Litecoin's relevancy\",\"Litecoin Price Analysis: LTC swiftly retraces to $145, pauses before reversal?\",\"David Burkett Shadowy Super Coder of Litecoin (LTC) Permissionless Network\",\"Binance to Perform Reverse Splits on Uniswap, Litecoin-Linked Tokens\",\"Top Trader Issues \\u2018Last Warning' on This Large-Cap Altcoin, Predicts Bitcoin Cooling Off\",\"Cardano, Chainlink, Litecoin: Which alt would do well on your portfolio\",\"Litecoin Price Analysis: LTC slowly sets a higher high at $157.5, reversal to follow?\",\"Top 5 cryptocurrencies to watch this week: BTC, LTC, ICP, THETA, FTT\",\"Bitcoin, Ethereum and Litecoin Price Analysis: 08 August\",\"Litecoin is \\u2018cruising,' but here's why there's so much more to it\",\"Litecoin price analysis: LTC ready to challenge the $155 mark\",\"Traders must be cautious of this negating Litecoin's bullish thesis\",\"Litecoin price analysis: Bullish move strengthens in LTC/USD at $145 resistance\",\"Bitpay app users can now accept Litecoin as a payment method\",\"Litecoin price analysis: LTC faces strong resistance at $137.64\",\"7 Alternative Cryptos to Watch as Bitcoin Excitement Softens\",\"Is Litecoin Ready For A Bounce Back?\",\"Litecoin: Warning signs ahead as this pattern threatens extended decline\",\"What's the latest on Litecoin's MWEB updates\",\"Litecoin Price Analysis, Will LTC Price gain strength above $136?\",\"Litecoin price shows strong bullish trend: Latest chart analysis shows\",\"Litecoin price analysis: LTC/USD zooms past $142 hurdle\",\"Litecoin and the latest news on Mimblewimble developments\",\"Litecoin Price Analysis: LTC retraces to $135, prepares for a rapid push higher?\",\"Litecoin Is In a New Downtrend as Bears Resume Selling Pressure Falls Below $143\",\"Litecoin, Monero, DASH Price Analysis: 03 August\",\"Litecoin price analysis: LTC hovers near $140 as bulls ride ascending price channel\",\"Litecoin Becomes Latest Payment Option Added to BitPay\",\"Secret Network Announces Launch Of Secret Monero Bridge On Mainnet\",\"BTC, ETH, XRP, XMR, CHZ, BNB, AAVE \\u2014 Technical Analysis Aug 10\",\"Monero price analysis: XMR likely to hit $280 in a bullish market\",\"Fundraising in Monero (XMR) to buy Tesla cars\",\"Newly Discovered Monero (XMR) Glitch Will Negatively Affect Transaction's Privacy\",\"CipherTrace introduces improved Monero tracing for financial institutions and state agencies\",\"Monero Price Prediction: Bullish Breakout to $300 Likely\",\"Ciphertrace Announces Enhanced Monero Tracing Capabilities for Governments\",\"XRP, Monero and DASH Price Analysis: 05 August\",\"Monero Developer Arrested in US on Fraud Charges at Request of South African Government\",\"Monero core team \\u2018removes potentially critical access' after ex-maintainer's arrest\",\"CipherTrace Releases DHS-Funded Monero Tracing Tools\",\"BTC, ETH, XRP, XMR, XDB, RVN, ZRX \\u2014 Technical Analysis Aug 4\",\"Former Monero Lead Developer Arrested for Fraud Unrelated to XMR\",\"Monero's former maintainer arrested in U.S. for allegations unrelated to cryptocurrency\",\"Monero (XMR) Has a Bug!\",\"Top 5 cryptocurrencies to watch this week: BTC, UNI, LINK, SOL, XMR\",\"Bug Alert: Monero Users May Want To Wait Before Spending Newly Acquired XMR\",\"7 Altcoins That Could See High Returns in August\",\"7 Alternative Cryptos to Buy as Bitcoin Rebounds\",\"Monero, MATIC and Binance Coin Price Analysis: July 28\",\"Bug Found in Decoy Algorithm for Privacy Coin Monero\",\"Newly found Monero bug may impact transaction privacy, developers warn\",\"Monero Developers Disclose \\u2018Significant' Bug in Privacy Algorithm\",\"What you need to know about Monero's decoy selection bug\",\"Monero Bug Breaks Transaction Privacy\",\"How This Monero Bug Could Impact User Privacy\",\"Monero Bug May Impact Transaction Privacy: Team Reveals\",\"Privacy-Threatening Flaw Discovered in Monero's (XMR) Wallet Code\",\"Monero bug: Developers warn of \\u2018significant bug' that can impact users' privacy\",\"Know how Monero's Supply Capitalization adds value to cryptos\",\"Monero Reports Bug That Makes Users' Spend Transaction Less Private\",\"Software Engineer Finds Protection Bug Influencing Monero's Decoy Algorithm\",\"Monero Devs Disclose Major Bug In Privacy Algorithm: Report\",\"BTC, ETH, XRP, XMR, KAVA, ICX, XEM \\u2014 Technical Analysis July 27\",\"Kubernetes Clusters Used to Mine Monero by Attackers\",\"What is the Circumference of Monero (XMR)? For As Much As People Realize the Importance of Privacy\",\"Monero transactions per block nearly double, but why\",\"Monero Hits Record Transaction Amount Per Day While Price Moves up by 11%\",\"Monero (XMR) Privacy and Scope of Regulations and Compliance in Cryptocurrency Transactions\",\"Ethereum, Monero, Uniswap Price Analysis: 20 July\",\"Can Monero (XMR) Flip Bitcoin And Does Buying It Put You At Risk?\",\"Monero's long-term may be sorted, but what about its short-term?\",\"EOS, Monero, IOTA Price Analysis: 14 July\",\"BTC, ETH, XRP, XMR, REP, COCOS, SOL \\u2014 Technical Analysis July 14\",\"Darknet Update: Hydra Reigns, Monero Acceptance Climbs, Russian State Collusion Questioned\",\"Monero (XMR) Atomic Swaps and The COMITs Recent Update\",\"BTC, ETH, XRP, KAVA, XMR, ENJ, CRV \\u2014 Technical Analysis July 6\",\"BTC, ETH, XRP, XMR, KAVA, ETC, WAVES \\u2014 Technical Analysis June 30\",\"Dogecoin \\u2018Strongest' Among Bitcoin And Crypto\\u2014Billionaires Elon Musk And Mark Cuban Help The Doge Price Soar\",\"DOGE Is \\u201cPeople's Way to Pay\\u201d As 95% of My Customers Choose Dogecoin: Billionaire Mark Cuban\",\"Doge Breaches 30-Cent Mark After Elon Musk Agrees With Mark Cuban: It's the 'Strongest Medium of Exchange' Among Cryptos\",\"Premier League Team Watford FC To Wear Dogecoin Shirts for 2021/22 Season\",\"Here's when traders can bet Dogecoin again\",\"Dogecoin to Feature on Watford F.C. Sleeves This Season\",\"Mark Cuban: I Do Not Shill Doge\",\"DOGE Price Analysis: Dogecoin Eyes Break of 100 MA, Here Are The Next Price Targets\",\"Dogecoin Price Analysis: DOGE spikes to $32 overnight, set to slowly retrace today?\",\"Dogecoin Battles the $0.29 Overhead Resistance as Buyers Poise To Reclaim It\",\"Dionne Warwick to Headline DOGE-Themed Festival Dogepalooza 2021\",\"Elon Musk and Mark Cuban See Dogecoin as the \\u2018Strongest' Cryptocurrency for Payments\",\"Elon Musk Claims Dogecoin Is \\\"Strongest\\\" Cryptocurrency When It Comes to Payments\",\"The First Dogecoin (DOGE) Music Festival Is Happening This October 2021, Who's Joining?\",\"Premier League Soccer Team to Wear Dogecoin Shirts in Upcoming Season\",\"Finder's Expert Panel Predicts \\u2018Pump and Dump' DOGE Will Hit $0.42 at End of 2021\",\"Here are the buy signals for Dogecoin traders\",\"Dogecoin (DOGE) is the \\u201cstrongest cryptocurrency\\u201d Mark Cuban says\",\"The Quick Guide to Mining Dogecoin on Your PC.\",\"Top DOGE: Premier League Soccer Club Watford To Feature Dogecoin On Kit Sleeve\",\"DOGE Festival Is Here!-Famous Singer Dionne Warwick Set To Perform\",\"Dogecoin Is Having Its Own Festival. And Dionne Warwick Is Headlining\",\"Mark Cuban says dogecoin is the 'strongest' cryptocurrency as a medium of exchange\",\"What's Going On With Dogecoin Today?\",\"Dogecoin Barks At Resistance As Bitcoin Breaks Bull\",\"Dogecoin Festival Is Happening And Dionne Warwick Is Coming!\",\"Will AMC Accept Dogecoin? DOGE Fans Are Barking for a Box Office Debut\",\"A close above this could trigger the next Dogecoin rally\",\"DOGE Daily Circulation and Volatility Plunges After Reaching $0.29\",\"This Dogecoin Festival Has Big-Name Headliner. Will Elon Musk Attend?\",\"Dogecoin to Breach the $0.30 Target Soon? DOGE Price to Break Major Resistance Levels!\",\"Dogecoin Price Analysis: DOGE/USD consolidating support at $0.2600 in preparation against $0.3000 resistance\",\"XRP, Dogecoin and Bitcoin Cash Price Analysis: August 13\",\"What's Up With Dogecoin Today?\",\"Augmented Reality-Based Dogemon Go Mobile Game Allows Players to Earn Dogecoin\",\"DOGE Price Analysis: Dogecoin Attempts To Break Major Resistance Zone, Will Bulls Push It Past $0.30?\",\"The Dogecoin Fear and Greed Index is here\",\"Dogecoin Price Analysis: DOGE spikes to $0.29, set for a slow retrace again?\",\"Most People Don't Understand How Big DogeCoin (DOGE) Will Be\",\"DOGE Rises Further Than The Market After 41% Surge In One Week\",\"Ethereum Is A 'Scam?' Twitter CEO Takes To Trolling Another Crypto After Playing Around With Dogecoin\",\"BTC, ETH, ADA, DOGE: Why Is the Crypto Market Down Today?\",\"Bitcoin Is The Best Explanation For The Way Money Is\",\"UK Police Seize Ethereum Worth $9.5 Million Found On USB Stick\",\"XRP, Ethereum and Polkadot Price Analysis: 15 August\",\"Here's everything you need to know about Bitcoin's new all-time-highs\",\"BTC Price Prediction \\u2013 Here's When Bitcoin Price Will hit 100K\",\"On 50th Fiat Anniversary, Bitcoin Can Solve U.S. Gratification Addictions\",\"This Cardano Catalyst Could Send ADA to Greater Heights, According to Crypto Trader Aaron Arnold\",\"Bitcoin Is The Best Explanation For The Way Money Is\",\"BTC/USD Seeking Fresh Technical Sentiment: Sally Ho's Technical Analysis 16 August 2021 BTC\",\"Bitcoin is the Plan B According to Dan Held, the BTC Advocate\",\"UK Police Seize Ethereum Worth $9.5 Million Found On USB Stick\",\"ETH/USD Bulls Seeking Confirmation of Market Bias: Sally Ho's Technical Analysis 16 August 2021 ETH\",\"Cardano investors have this to look forward to\",\"Here's when traders can bet Dogecoin again\",\"ETH 2.0 Staking Nears 7M ETH, Totaling $21.7B in Value.\",\"DOGE \\u2018Strongest' Crypto as Medium of Exchange, Says Mark Cuban\",\"Benzinga Exclusive: Why Dogecoin Will 'Absolutely' Reach $1, According To Matt Wallace\",\"The story of Bitcoin adoption in Canada seems strange\",\"Buying Bitcoin is like entering a minefield, Bank of Russia exec says\",\"How Taper Talk, Repos, China And U.S. Legislation Are Impacting The Bitcoin Market\",\"These five North American firms mined 58% more bitcoin in July thanks to China\",\"Could The New \\u201cChina Model\\u201d Be The Reason The Country Banned Bitcoin Mining?\",\"1 million bitcoin mining machines on the way from China to Alberta\",\"Bitcoin (BTC) Bullish Crypto Community Senses America is Great Again\",\"China and US Governments Will Only Strengthen Bitcoin (BTC) It in the End\",\"Xiaomi retailer in Portugal now accepts Bitcoin payments\",\"Bitcoin mining ban in China a 'game changer' for electric vehicle adoption\",\"Chinese Brand Xiaomi Steers Clear of Portugal MI Store Bitcoin Payment Ad\",\"Mi Store Portugal Now Accepts Bitcoin Although Xiaomi Inc. Knows Nothing ABout It\",\"Xiaomi Shops In Portugal Start Accepting Bitcoin Payments\",\"Bakkt Is Bringing BTC Payments To Stores Across The United States\",\"Paris-Based Fund Manager First To Get EU Regulatory Green Light For Bitcoin-Pegged ETF\",\"Xiaomi Starts Accepting Bitcoin, Ethereum and Other Cryptocurrencies in Portugal\",\"Paris-based fund manager gets green light for EU-regulated Bitcoin ETF\",\"France-based Melanion Capital Secures Regulatory Approval for An ETF Tracking Bitcoin (BTC)\",\"A Bitcoin ETF approved in Europe\",\"India: Olympic winners also awarded with bitcoin\",\"El Salvador Feels More Confident about Bitcoin as Bank of America Endorses President Buekele's Policy\",\"First EU-Regulated ETF That Tracks Bitcoin Price to Launch in France\",\"Paris-based Fund Manager to Launch Fund With Up to 90% Bitcoin Price Exposure\",\"Chinese bitcoin miners are look to the West amid China crackdown, plus a look at US regulators\",\"Bakkt partners with Quiznos to pilot bitcoin payments in Denver\",\"Here Are the Four Upsides to El Salvador's Bitcoin Adoption, According to Bank of America\",\"There's more bitcoin up for grabs' amid China crackdown: Riot Blockchain CEO\",\"Russia Is Gearing Up For Bitcoin\",\"India Still Considering Banning Bitcoin and Other Private Cryptocurrencies\",\"Bank of America Sees Benefits in Adopting Bitcoin as Legal Tender in El Salvador\",\"Bank of America Report Sees Upsides to El Salvador Bitcoin Adoption\",\"El Salvador's Bitcoin bill has 5 key benefits, says Bank of America\",\"Bank Of America Sees Four Upsides In El Salvador's Bitcoin Adoption\",\"Bank Of America Sees Opportunities With El Salvador's Bitcoin Adoption\",\"El Salvador: bitcoin's advantages according to Bank of America\",\"Why are Bitcoin (BTC) Fans looking at El Salvador and Bank of America Statements?\",\"Bitcoin in Japan Is Legal BTC Inheritance to Legal heirs is Complex Due to Its Anonymous Nature\",\"China Has Forever Been a Spicy and Soupy Participant in the Bitcoin (BTC) Space\",\"PayPal reportedly assembling crypto team in Ireland as Bitcoin adoption grows\",\"Bank of America outlines 4 potential benefits of El Salvador's Bitcoin strategy\",\"Bank of America Outlines Key Benefits of Bitcoin Adoption in El Salvador\",\"Finland Seeking Brokers to Assist in Sale of $82M Worth of Seized BTC\\u00a0\",\"Congressman Warren Davidson On How The Last-Minute Bitcoin Tax Bill Is Bad For America\",\"Bitcoin Price Prediction: BTC Bullish Outlook Steadies Above $40,000 As PayPal Launches Crypto Exchange In The UK\",\"Why The $35 Trillion In United States Retirement Accounts Should Be Spent On Bitcoin\",\"Bitcoin Miners Consider Paraguay In Wake of China Ban\",\"Finland Looking for Brokers to Sell Seized Bitcoins Worth $80 Million\",\"Bitcoin Is Slumping-The News Out Of Europe Is Blended And Congress Is Surrounding.\",\"Bitcoin Banning China Starts Falling Out of Favor, Crypto Booming India Brought In\",\"UK Authorities Seize $9.5 Million Worth of Ethereum Found in USB Sticks\",\"Ethereum Overtakes PayPal, Bank Of America, Nike, And Pfizer In Market Cap As Proponents Set Their Eyes On Bitcoin\",\"Ethereum, China, and how they played a part in Tether's flattened supply\",\"USDT Usage on Ethereum Shifts Away From Asia Daytime Hours\",\"Ethereum Co-Founder Donated $1B Shiba Inu To Aid India In COVID-19 Battle \\u2014 Money Reaching The People Is A Lot Less\",\"India to use Ethereum blockchain to verify diploma certificates\",\"Diploma certificate verification in India to be done using Ethereum blockchain\",\"Not a Lambo In Sight: 3 Days in Paris with Ethereum's Nouveau Riche\",\"Vitalik Buterin Beseeches Ethereum Crowd in Paris to 'Move Beyond DeFi'\",\"Brazil Green Lights First Ethereum ETF in Latin America\",\"Brazilian Securities Regulator Approves First Ethereum ETF To Trade In Latin America\",\"Brazil's SEC Approves First Ethereum ETF in Latin America\",\"Brazil Approves the First Ether ETF Listed in Latin America\",\"Ethereum's London, Berlin and Shanghai forks and their role in Serenity\",\"Brazilian Securities Regulator approves the first Ethereum ETF in Latin America.\",\"Brazil's Securities Commission Approved First ETH ETF In Latin America\",\"Bitcoin, Ethereum And Cardano Among Major Cryptocurrencies To Fall As China Expands Mining Crackdown\",\"Brazilian Securities Regulator Approves the First Ethereum (ETH) ETF of Latin America\",\"Crypto Price Alert: Bitcoin And Ethereum \\u2018In Danger' After Shock China Dump Warning\",\"IBC Group Decides to Close Bitcoin and Ethereum Mining Operations in China\",\"IBC Group Wraps Up Bitcoin And Ethereum Mining In China\",\"Bitcoin, Ether Analysis, Japanese Industry Leader on 'Stupid' Regulator Warnings Against Binance, State of Crypto in Japan\",\"Ethereum Hashrate Drops 25% on China Mining Exodus\",\"Bitcoin, Ether Plummet as China Crypto Crackdown Continues, Ethereum Improvement Proposal Explained\",\"Major Cryptocurrencies\\u2014Including Bitcoin, Ethereum, Dogecoin\\u2014Plummet As China Widens Crackdown\",\"Market Wrap: Bitcoin Slides to Two-Week Low, Ether to Below $2K as China Reiterates Crypto Ban\",\"You Can Now Buy Bitcoin, Dogecoin, Ethereum Alongside Apples, Oranges At H-E-B's Houston Stores\",\"Scientists in UK Solve Privacy on Ethereum Using Only Smart Contracts\",\"Cryptocurrency Holders Rises to 2.3 Million in UK; BTC, XRP, ETH Among Top Choices\",\"UK Farmers Use Cow Dung to Power Ethereum Mining, Boost Revenues\",\"Report: Filecoin and Chia Believers in China Are Converting to Ethereum Swarm Disciples\",\"Paris Hilton Joins Ethereum NFT Project Origin as Advisor\",\"San Jose Sharks Becomes First NHL Team To Accept Bitcoin, Ethereum, Dogecoin\",\"San Jose Sharks to Accept Bitcoin, ETH and DOGE For Season Tickets\",\"Crypto bets via Bitcoin, Ethereum, XRP are fueling illegal gambling in Asia\",\"Canada Based Purpose Ether ETF AUM Breach 50,000 ETH\",\"Ethereum Foundation Says Berlin Hardfork Addressed 'Clear and Present' Threat\",\"Bullish on Ether (ETH) not Bitcoin, UK Parliament Member Mentions the Flippening\",\"Market Wrap: China Breaks Crypto as Bitcoin Falls to $36K, ETH Drops $300 in Two Hours\",\"ETH bullish, UK Parliament Member Mentions the Flippening\",\"Bank of Canada: Intrinsic Value of Bitcoin, Ethereum 'Hard to Establish'\",\"United States, Germany, Turkey lead search interest in Ethereum\",\"Ether's Record-breaking Rally; the Musk Effect, What Crypto Means to Latin America\",\"The great tech exodus: The Ethereum blockchain is the new San Francisco\",\"Ethereum breaks $3,000\\u2014it's now more valued than Bank of America\",\"Another Ethereum ETF has been listed in Germany, this time from WisdomTree\",\"Ethereum hits $3,000 for the first time, now larger than Bank of America\",\"WisdomTree Launches a Physically-Backed Ethereum ETP in Europe\",\"Cardano Last Week: Hoskinson Protests Infra Bill, ADA Reaches Japan, And Alonzo Purple Launch\",\"Cardano Gets Approval for Listing on Crypto Exchanges in Japan\",\"Cardano (ADA) sees Japan listing after passing strict crypto regulatory checks\",\"Cardano (ADA) Receives Approval To Be Listed In Japan\",\"Cardano (ADA) finally receives regulatory approval to be listed in Japan\",\"Cardano ($ADA) Finally Gets Listed in Japan\",\"PoS of Cardano (ADA) Scaring Devil out of PoW of Bitcoin (BTC) in China\",\"Elite Group of Seven Crypto Assets Have \\u2018Insane Potential,' According to Trader Austin Arnold\",\"Canada-Based Crypto Company iMining Launches Cardano Staking\",\"Billionaire Mark Cuban Becomes Cardano-Curious, Says Dallas Mavericks Would Be Happy to Accept It\",\"You can now buy luxury condos with Dogecoin (DOGE) and Cardano (ADA) in Portugal\",\"Three Altcoins With Life-Changing Potential Are Blazing Toward Mass Adoption, Says Trader Austin Arnold\",\"University of Zurich Adds Cardano to their Blockchain Curriculum for 2021\",\"FD7 Ventures launches $250M Micro-Fund in India for Cardano, Polkadot-based projects\",\"$250M Fund to Invest in Polkadot and Cardano Launched in India\",\"A Litecoin (LTC) ETP just launched in Switzerland\",\"Bitcoin, Dogecoin, NFTs Big Deal At Tokyo Olympics: How Crypto-Savvy Olympians Can Feel Right At Home\",\"Young Investors Taking Big Risks To Own Bitcoin and Dogecoin, According to New UK Survey\",\"Doge Killer and Shiba Inu: The Top Trending Coins in USA Last Week\",\"DOGE And BTC ATMs Are Coming To Texas H-E-B Supermarkets\",\"Bitcoin and Dogecoin ATMs Coming to Texas Grocery Giant HEB\",\"Nifty News: Doge NFTs much wow, Paris Hilton is an NFT advisor, NFT game raises $3M\",\"UK Fintech Platform Revolut Adds Support For Dogecoin Due To High Demand From Users\",\"Dogecoin frenzy forces UK fund manager to offload $1.1 billion Bitcoin stash\",\"San Jose Sharks now accept doge payment\",\"NHL team San Jose Sharks to accept payments via Bitcoin, Dogecoin, and others\",\"San Jose Sharks Latest Team to Accept Dogecoin and Bitcoin\",\"Dogecoin Millionaire? A Luxury Penthouse Is Waiting In Portugal To Be Snagged With Your Coins\",\"You can buy condos with DOGE in Portugal as crypto real estate listings soar\",\"Shanghai Man: VeChain on TV, DOGE flips BTC, Hotbit hack, blockchain dev $$$.\",\"Is KFC Canada Really Accepting Dogecoin Payments?\",\"Dogecoin volumes in Korea exceeded those of its entire stock market yesterday\",\"DOGE Taps a Lifetime Price High, Mark Cuban Says Dallas Mavs Shop Won't Sell Its Dogecoin\",\"Much wow! Dallas Mavericks fans bought $122,000 of merch using Dogecoin\",\"DOGE Soars 80% To New ATH: Mark Cuban Says Dallas Mavs Will Never Sell Dogecoin\",\"Dallas Mavericks Accepts Dogecoin, Mark Cuban Supports\",\"Dallas Mavericks boss Mark Cuban says Dogecoin will \\u2018definitely' reach $1\",\"Mark Cuban Says Dallas Mavericks Will Accept Dogecoin \\u2013 Here's Why\",\"Mark Cuban's Dallas Mavericks to Accept Dogecoin Payments\",\"Cuban's Dallas Mavericks accepting Dogecoin is a mistake \\u2013 Bitcoin is where the action is - Novogratz\",\"Much wow! The Dallas Mavericks to accept Dogecoin for tickets and merch\",\"Mark Cuban's Dallas Mavericks Becomes First NBA Team to Accept Dogecoin\",\"Dallas Mavericks Now Accepting Dogecoin as Payment\",\"Mark Cuban's Dallas Mavericks Will Accept Dogecoin\",\"Mark Cuban's Dallas Mavericks will now accept Dogecoin as payment for tickets\",\"NBA Team, Dallas Mavericks, Now Accepts Dogecoin\",\"Dogecoin Will Be Available in Bitcoin ATMs Across America\",\"GoSats launches Bitcoin cashback rewards card in India\",\"The story of Bitcoin adoption in Canada seems strange\",\"Buying Bitcoin is like entering a minefield, Bank of Russia exec says\",\"How Taper Talk, Repos, China And U.S. Legislation Are Impacting The Bitcoin Market\",\"These five North American firms mined 58% more bitcoin in July thanks to China\",\"Could The New \\u201cChina Model\\u201d Be The Reason The Country Banned Bitcoin Mining?\",\"1 million bitcoin mining machines on the way from China to Alberta\",\"Bitcoin (BTC) Bullish Crypto Community Senses America is Great Again\",\"China and US Governments Will Only Strengthen Bitcoin (BTC) It in the End\",\"Xiaomi retailer in Portugal now accepts Bitcoin payments\",\"Bitcoin mining ban in China a 'game changer' for electric vehicle adoption\",\"Chinese Brand Xiaomi Steers Clear of Portugal MI Store Bitcoin Payment Ad\",\"Mi Store Portugal Now Accepts Bitcoin Although Xiaomi Inc. Knows Nothing ABout It\",\"Xiaomi Shops In Portugal Start Accepting Bitcoin Payments\",\"Bakkt Is Bringing BTC Payments To Stores Across The United States\",\"Paris-Based Fund Manager First To Get EU Regulatory Green Light For Bitcoin-Pegged ETF\",\"Xiaomi Starts Accepting Bitcoin, Ethereum and Other Cryptocurrencies in Portugal\",\"Paris-based fund manager gets green light for EU-regulated Bitcoin ETF\",\"France-based Melanion Capital Secures Regulatory Approval for An ETF Tracking Bitcoin (BTC)\",\"A Bitcoin ETF approved in Europe\",\"India: Olympic winners also awarded with bitcoin\",\"El Salvador Feels More Confident about Bitcoin as Bank of America Endorses President Buekele's Policy\",\"First EU-Regulated ETF That Tracks Bitcoin Price to Launch in France\",\"Paris-based Fund Manager to Launch Fund With Up to 90% Bitcoin Price Exposure\",\"Chinese bitcoin miners are look to the West amid China crackdown, plus a look at US regulators\",\"Bakkt partners with Quiznos to pilot bitcoin payments in Denver\",\"Here Are the Four Upsides to El Salvador's Bitcoin Adoption, According to Bank of America\",\"There's more bitcoin up for grabs' amid China crackdown: Riot Blockchain CEO\",\"Russia Is Gearing Up For Bitcoin\",\"India Still Considering Banning Bitcoin and Other Private Cryptocurrencies\",\"Bank of America Sees Benefits in Adopting Bitcoin as Legal Tender in El Salvador\",\"Bank of America Report Sees Upsides to El Salvador Bitcoin Adoption\",\"El Salvador's Bitcoin bill has 5 key benefits, says Bank of America\",\"Bank Of America Sees Four Upsides In El Salvador's Bitcoin Adoption\",\"Bank Of America Sees Opportunities With El Salvador's Bitcoin Adoption\",\"El Salvador: bitcoin's advantages according to Bank of America\",\"Why are Bitcoin (BTC) Fans looking at El Salvador and Bank of America Statements?\",\"Bitcoin in Japan Is Legal BTC Inheritance to Legal heirs is Complex Due to Its Anonymous Nature\",\"China Has Forever Been a Spicy and Soupy Participant in the Bitcoin (BTC) Space\",\"PayPal reportedly assembling crypto team in Ireland as Bitcoin adoption grows\",\"Bank of America outlines 4 potential benefits of El Salvador's Bitcoin strategy\",\"Bank of America Outlines Key Benefits of Bitcoin Adoption in El Salvador\",\"Finland Seeking Brokers to Assist in Sale of $82M Worth of Seized BTC\\u00a0\",\"Congressman Warren Davidson On How The Last-Minute Bitcoin Tax Bill Is Bad For America\",\"Bitcoin Price Prediction: BTC Bullish Outlook Steadies Above $40,000 As PayPal Launches Crypto Exchange In The UK\",\"Why The $35 Trillion In United States Retirement Accounts Should Be Spent On Bitcoin\",\"Bitcoin Miners Consider Paraguay In Wake of China Ban\",\"Finland Looking for Brokers to Sell Seized Bitcoins Worth $80 Million\",\"Bitcoin Is Slumping-The News Out Of Europe Is Blended And Congress Is Surrounding.\",\"Bitcoin Banning China Starts Falling Out of Favor, Crypto Booming India Brought In\",\"UK Police Seize Ethereum Worth $9.5 Million Found On USB Stick\",\"UK Authorities Seize $9.5 Million Worth of Ethereum Found in USB Sticks\",\"Ethereum Overtakes PayPal, Bank Of America, Nike, And Pfizer In Market Cap As Proponents Set Their Eyes On Bitcoin\",\"Ethereum, China, and how they played a part in Tether's flattened supply\",\"USDT Usage on Ethereum Shifts Away From Asia Daytime Hours\",\"Ethereum Co-Founder Donated $1B Shiba Inu To Aid India In COVID-19 Battle \\u2014 Money Reaching The People Is A Lot Less\",\"India to use Ethereum blockchain to verify diploma certificates\",\"Diploma certificate verification in India to be done using Ethereum blockchain\",\"Not a Lambo In Sight: 3 Days in Paris with Ethereum's Nouveau Riche\",\"Vitalik Buterin Beseeches Ethereum Crowd in Paris to 'Move Beyond DeFi'\",\"Brazil Green Lights First Ethereum ETF in Latin America\",\"Brazilian Securities Regulator Approves First Ethereum ETF To Trade In Latin America\",\"Brazil's SEC Approves First Ethereum ETF in Latin America\",\"Brazil Approves the First Ether ETF Listed in Latin America\",\"Ethereum's London, Berlin and Shanghai forks and their role in Serenity\",\"Brazilian Securities Regulator approves the first Ethereum ETF in Latin America.\",\"Brazil's Securities Commission Approved First ETH ETF In Latin America\",\"Bitcoin, Ethereum And Cardano Among Major Cryptocurrencies To Fall As China Expands Mining Crackdown\",\"Brazilian Securities Regulator Approves the First Ethereum (ETH) ETF of Latin America\",\"Crypto Price Alert: Bitcoin And Ethereum \\u2018In Danger' After Shock China Dump Warning\",\"IBC Group Decides to Close Bitcoin and Ethereum Mining Operations in China\",\"IBC Group Wraps Up Bitcoin And Ethereum Mining In China\",\"Bitcoin, Ether Analysis, Japanese Industry Leader on 'Stupid' Regulator Warnings Against Binance, State of Crypto in Japan\",\"Ethereum Hashrate Drops 25% on China Mining Exodus\",\"Bitcoin, Ether Plummet as China Crypto Crackdown Continues, Ethereum Improvement Proposal Explained\",\"Major Cryptocurrencies\\u2014Including Bitcoin, Ethereum, Dogecoin\\u2014Plummet As China Widens Crackdown\",\"Market Wrap: Bitcoin Slides to Two-Week Low, Ether to Below $2K as China Reiterates Crypto Ban\",\"You Can Now Buy Bitcoin, Dogecoin, Ethereum Alongside Apples, Oranges At H-E-B's Houston Stores\",\"Scientists in UK Solve Privacy on Ethereum Using Only Smart Contracts\",\"Cryptocurrency Holders Rises to 2.3 Million in UK; BTC, XRP, ETH Among Top Choices\",\"UK Farmers Use Cow Dung to Power Ethereum Mining, Boost Revenues\",\"Report: Filecoin and Chia Believers in China Are Converting to Ethereum Swarm Disciples\",\"Paris Hilton Joins Ethereum NFT Project Origin as Advisor\",\"San Jose Sharks Becomes First NHL Team To Accept Bitcoin, Ethereum, Dogecoin\",\"San Jose Sharks to Accept Bitcoin, ETH and DOGE For Season Tickets\",\"Crypto bets via Bitcoin, Ethereum, XRP are fueling illegal gambling in Asia\",\"Canada Based Purpose Ether ETF AUM Breach 50,000 ETH\",\"Ethereum Foundation Says Berlin Hardfork Addressed 'Clear and Present' Threat\",\"Bullish on Ether (ETH) not Bitcoin, UK Parliament Member Mentions the Flippening\",\"Market Wrap: China Breaks Crypto as Bitcoin Falls to $36K, ETH Drops $300 in Two Hours\",\"ETH bullish, UK Parliament Member Mentions the Flippening\",\"Bank of Canada: Intrinsic Value of Bitcoin, Ethereum 'Hard to Establish'\",\"United States, Germany, Turkey lead search interest in Ethereum\",\"Ether's Record-breaking Rally; the Musk Effect, What Crypto Means to Latin America\",\"The great tech exodus: The Ethereum blockchain is the new San Francisco\",\"Ethereum breaks $3,000\\u2014it's now more valued than Bank of America\",\"Another Ethereum ETF has been listed in Germany, this time from WisdomTree\",\"Ethereum hits $3,000 for the first time, now larger than Bank of America\",\"WisdomTree Launches a Physically-Backed Ethereum ETP in Europe\",\"Cardano Last Week: Hoskinson Protests Infra Bill, ADA Reaches Japan, And Alonzo Purple Launch\",\"Cardano Gets Approval for Listing on Crypto Exchanges in Japan\",\"Cardano (ADA) sees Japan listing after passing strict crypto regulatory checks\",\"Cardano (ADA) Receives Approval To Be Listed In Japan\",\"Cardano (ADA) finally receives regulatory approval to be listed in Japan\",\"Cardano ($ADA) Finally Gets Listed in Japan\",\"PoS of Cardano (ADA) Scaring Devil out of PoW of Bitcoin (BTC) in China\",\"Elite Group of Seven Crypto Assets Have \\u2018Insane Potential,' According to Trader Austin Arnold\",\"Canada-Based Crypto Company iMining Launches Cardano Staking\",\"Billionaire Mark Cuban Becomes Cardano-Curious, Says Dallas Mavericks Would Be Happy to Accept It\",\"You can now buy luxury condos with Dogecoin (DOGE) and Cardano (ADA) in Portugal\",\"Three Altcoins With Life-Changing Potential Are Blazing Toward Mass Adoption, Says Trader Austin Arnold\",\"University of Zurich Adds Cardano to their Blockchain Curriculum for 2021\",\"FD7 Ventures launches $250M Micro-Fund in India for Cardano, Polkadot-based projects\",\"$250M Fund to Invest in Polkadot and Cardano Launched in India\",\"A Litecoin (LTC) ETP just launched in Switzerland\",\"Bitcoin, Dogecoin, NFTs Big Deal At Tokyo Olympics: How Crypto-Savvy Olympians Can Feel Right At Home\",\"Young Investors Taking Big Risks To Own Bitcoin and Dogecoin, According to New UK Survey\",\"Doge Killer and Shiba Inu: The Top Trending Coins in USA Last Week\",\"DOGE And BTC ATMs Are Coming To Texas H-E-B Supermarkets\",\"Bitcoin and Dogecoin ATMs Coming to Texas Grocery Giant HEB\",\"Nifty News: Doge NFTs much wow, Paris Hilton is an NFT advisor, NFT game raises $3M\",\"UK Fintech Platform Revolut Adds Support For Dogecoin Due To High Demand From Users\",\"Dogecoin frenzy forces UK fund manager to offload $1.1 billion Bitcoin stash\",\"San Jose Sharks now accept doge payment\",\"NHL team San Jose Sharks to accept payments via Bitcoin, Dogecoin, and others\",\"San Jose Sharks Latest Team to Accept Dogecoin and Bitcoin\",\"Dogecoin Millionaire? A Luxury Penthouse Is Waiting In Portugal To Be Snagged With Your Coins\",\"You can buy condos with DOGE in Portugal as crypto real estate listings soar\",\"Shanghai Man: VeChain on TV, DOGE flips BTC, Hotbit hack, blockchain dev $$$.\",\"Is KFC Canada Really Accepting Dogecoin Payments?\",\"Dogecoin volumes in Korea exceeded those of its entire stock market yesterday\",\"DOGE Taps a Lifetime Price High, Mark Cuban Says Dallas Mavs Shop Won't Sell Its Dogecoin\",\"Much wow! Dallas Mavericks fans bought $122,000 of merch using Dogecoin\",\"DOGE Soars 80% To New ATH: Mark Cuban Says Dallas Mavs Will Never Sell Dogecoin\",\"Dallas Mavericks Accepts Dogecoin, Mark Cuban Supports\",\"Dallas Mavericks boss Mark Cuban says Dogecoin will \\u2018definitely' reach $1\",\"Mark Cuban Says Dallas Mavericks Will Accept Dogecoin \\u2013 Here's Why\",\"Mark Cuban's Dallas Mavericks to Accept Dogecoin Payments\",\"Cuban's Dallas Mavericks accepting Dogecoin is a mistake \\u2013 Bitcoin is where the action is - Novogratz\",\"Much wow! The Dallas Mavericks to accept Dogecoin for tickets and merch\",\"Mark Cuban's Dallas Mavericks Becomes First NBA Team to Accept Dogecoin\",\"Dallas Mavericks Now Accepting Dogecoin as Payment\",\"Mark Cuban's Dallas Mavericks Will Accept Dogecoin\",\"Mark Cuban's Dallas Mavericks will now accept Dogecoin as payment for tickets\",\"NBA Team, Dallas Mavericks, Now Accepts Dogecoin\",\"Dogecoin Will Be Available in Bitcoin ATMs Across America\",\"UK Detectives Seize USB Stick With $9.5 Million in Ethereum in Alleged Crypto Scam\",\"GoSats launches Bitcoin cashback rewards card in India\",\"The story of Bitcoin adoption in Canada seems strange\",\"Buying Bitcoin is like entering a minefield, Bank of Russia exec says\",\"How Taper Talk, Repos, China And U.S. Legislation Are Impacting The Bitcoin Market\",\"These five North American firms mined 58% more bitcoin in July thanks to China\",\"Could The New \\u201cChina Model\\u201d Be The Reason The Country Banned Bitcoin Mining?\",\"1 million bitcoin mining machines on the way from China to Alberta\",\"Bitcoin (BTC) Bullish Crypto Community Senses America is Great Again\",\"China and US Governments Will Only Strengthen Bitcoin (BTC) It in the End\",\"Xiaomi retailer in Portugal now accepts Bitcoin payments\",\"Bitcoin mining ban in China a 'game changer' for electric vehicle adoption\",\"Chinese Brand Xiaomi Steers Clear of Portugal MI Store Bitcoin Payment Ad\",\"Mi Store Portugal Now Accepts Bitcoin Although Xiaomi Inc. Knows Nothing ABout It\",\"Xiaomi Shops In Portugal Start Accepting Bitcoin Payments\",\"Bakkt Is Bringing BTC Payments To Stores Across The United States\",\"Paris-Based Fund Manager First To Get EU Regulatory Green Light For Bitcoin-Pegged ETF\",\"Xiaomi Starts Accepting Bitcoin, Ethereum and Other Cryptocurrencies in Portugal\",\"Paris-based fund manager gets green light for EU-regulated Bitcoin ETF\",\"France-based Melanion Capital Secures Regulatory Approval for An ETF Tracking Bitcoin (BTC)\",\"A Bitcoin ETF approved in Europe\",\"India: Olympic winners also awarded with bitcoin\",\"El Salvador Feels More Confident about Bitcoin as Bank of America Endorses President Buekele's Policy\",\"First EU-Regulated ETF That Tracks Bitcoin Price to Launch in France\",\"Paris-based Fund Manager to Launch Fund With Up to 90% Bitcoin Price Exposure\",\"Chinese bitcoin miners are look to the West amid China crackdown, plus a look at US regulators\",\"Bakkt partners with Quiznos to pilot bitcoin payments in Denver\",\"Here Are the Four Upsides to El Salvador's Bitcoin Adoption, According to Bank of America\",\"There's more bitcoin up for grabs' amid China crackdown: Riot Blockchain CEO\",\"Russia Is Gearing Up For Bitcoin\",\"India Still Considering Banning Bitcoin and Other Private Cryptocurrencies\",\"Bank of America Sees Benefits in Adopting Bitcoin as Legal Tender in El Salvador\",\"Bank of America Report Sees Upsides to El Salvador Bitcoin Adoption\",\"El Salvador's Bitcoin bill has 5 key benefits, says Bank of America\",\"Bank Of America Sees Four Upsides In El Salvador's Bitcoin Adoption\",\"Bank Of America Sees Opportunities With El Salvador's Bitcoin Adoption\",\"El Salvador: bitcoin's advantages according to Bank of America\",\"Why are Bitcoin (BTC) Fans looking at El Salvador and Bank of America Statements?\",\"Bitcoin in Japan Is Legal BTC Inheritance to Legal heirs is Complex Due to Its Anonymous Nature\",\"China Has Forever Been a Spicy and Soupy Participant in the Bitcoin (BTC) Space\",\"PayPal reportedly assembling crypto team in Ireland as Bitcoin adoption grows\",\"Bank of America outlines 4 potential benefits of El Salvador's Bitcoin strategy\",\"Bank of America Outlines Key Benefits of Bitcoin Adoption in El Salvador\",\"Finland Seeking Brokers to Assist in Sale of $82M Worth of Seized BTC\\u00a0\",\"Congressman Warren Davidson On How The Last-Minute Bitcoin Tax Bill Is Bad For America\",\"Bitcoin Price Prediction: BTC Bullish Outlook Steadies Above $40,000 As PayPal Launches Crypto Exchange In The UK\",\"Why The $35 Trillion In United States Retirement Accounts Should Be Spent On Bitcoin\",\"Bitcoin Miners Consider Paraguay In Wake of China Ban\",\"Finland Looking for Brokers to Sell Seized Bitcoins Worth $80 Million\",\"Bitcoin Is Slumping-The News Out Of Europe Is Blended And Congress Is Surrounding.\",\"Bitcoin Banning China Starts Falling Out of Favor, Crypto Booming India Brought In\",\"UK Detectives Seize USB Stick With $9.5 Million in Ethereum in Alleged Crypto Scam\",\"UK Police Seize Ethereum Worth $9.5 Million Found On USB Stick\",\"UK Authorities Seize $9.5 Million Worth of Ethereum Found in USB Sticks\",\"Ethereum Overtakes PayPal, Bank Of America, Nike, And Pfizer In Market Cap As Proponents Set Their Eyes On Bitcoin\",\"Ethereum, China, and how they played a part in Tether's flattened supply\",\"USDT Usage on Ethereum Shifts Away From Asia Daytime Hours\",\"Ethereum Co-Founder Donated $1B Shiba Inu To Aid India In COVID-19 Battle \\u2014 Money Reaching The People Is A Lot Less\",\"India to use Ethereum blockchain to verify diploma certificates\",\"Diploma certificate verification in India to be done using Ethereum blockchain\",\"Not a Lambo In Sight: 3 Days in Paris with Ethereum's Nouveau Riche\",\"Vitalik Buterin Beseeches Ethereum Crowd in Paris to 'Move Beyond DeFi'\",\"Brazil Green Lights First Ethereum ETF in Latin America\",\"Brazilian Securities Regulator Approves First Ethereum ETF To Trade In Latin America\",\"Brazil's SEC Approves First Ethereum ETF in Latin America\",\"Brazil Approves the First Ether ETF Listed in Latin America\",\"Ethereum's London, Berlin and Shanghai forks and their role in Serenity\",\"Brazilian Securities Regulator approves the first Ethereum ETF in Latin America.\",\"Brazil's Securities Commission Approved First ETH ETF In Latin America\",\"Bitcoin, Ethereum And Cardano Among Major Cryptocurrencies To Fall As China Expands Mining Crackdown\",\"Brazilian Securities Regulator Approves the First Ethereum (ETH) ETF of Latin America\",\"Crypto Price Alert: Bitcoin And Ethereum \\u2018In Danger' After Shock China Dump Warning\",\"IBC Group Decides to Close Bitcoin and Ethereum Mining Operations in China\",\"IBC Group Wraps Up Bitcoin And Ethereum Mining In China\",\"Bitcoin, Ether Analysis, Japanese Industry Leader on 'Stupid' Regulator Warnings Against Binance, State of Crypto in Japan\",\"Ethereum Hashrate Drops 25% on China Mining Exodus\",\"Bitcoin, Ether Plummet as China Crypto Crackdown Continues, Ethereum Improvement Proposal Explained\",\"Major Cryptocurrencies\\u2014Including Bitcoin, Ethereum, Dogecoin\\u2014Plummet As China Widens Crackdown\",\"Market Wrap: Bitcoin Slides to Two-Week Low, Ether to Below $2K as China Reiterates Crypto Ban\",\"You Can Now Buy Bitcoin, Dogecoin, Ethereum Alongside Apples, Oranges At H-E-B's Houston Stores\",\"Scientists in UK Solve Privacy on Ethereum Using Only Smart Contracts\",\"Cryptocurrency Holders Rises to 2.3 Million in UK; BTC, XRP, ETH Among Top Choices\",\"UK Farmers Use Cow Dung to Power Ethereum Mining, Boost Revenues\",\"Report: Filecoin and Chia Believers in China Are Converting to Ethereum Swarm Disciples\",\"Paris Hilton Joins Ethereum NFT Project Origin as Advisor\",\"San Jose Sharks Becomes First NHL Team To Accept Bitcoin, Ethereum, Dogecoin\",\"San Jose Sharks to Accept Bitcoin, ETH and DOGE For Season Tickets\",\"Crypto bets via Bitcoin, Ethereum, XRP are fueling illegal gambling in Asia\",\"Canada Based Purpose Ether ETF AUM Breach 50,000 ETH\",\"Ethereum Foundation Says Berlin Hardfork Addressed 'Clear and Present' Threat\",\"Bullish on Ether (ETH) not Bitcoin, UK Parliament Member Mentions the Flippening\",\"Market Wrap: China Breaks Crypto as Bitcoin Falls to $36K, ETH Drops $300 in Two Hours\",\"ETH bullish, UK Parliament Member Mentions the Flippening\",\"Bank of Canada: Intrinsic Value of Bitcoin, Ethereum 'Hard to Establish'\",\"United States, Germany, Turkey lead search interest in Ethereum\",\"Ether's Record-breaking Rally; the Musk Effect, What Crypto Means to Latin America\",\"The great tech exodus: The Ethereum blockchain is the new San Francisco\",\"Ethereum breaks $3,000\\u2014it's now more valued than Bank of America\",\"Another Ethereum ETF has been listed in Germany, this time from WisdomTree\",\"Ethereum hits $3,000 for the first time, now larger than Bank of America\",\"Cardano Last Week: Hoskinson Protests Infra Bill, ADA Reaches Japan, And Alonzo Purple Launch\",\"Cardano Gets Approval for Listing on Crypto Exchanges in Japan\",\"Cardano (ADA) sees Japan listing after passing strict crypto regulatory checks\",\"Cardano (ADA) Receives Approval To Be Listed In Japan\",\"Cardano (ADA) finally receives regulatory approval to be listed in Japan\",\"Cardano ($ADA) Finally Gets Listed in Japan\",\"PoS of Cardano (ADA) Scaring Devil out of PoW of Bitcoin (BTC) in China\",\"Elite Group of Seven Crypto Assets Have \\u2018Insane Potential,' According to Trader Austin Arnold\",\"Canada-Based Crypto Company iMining Launches Cardano Staking\",\"Billionaire Mark Cuban Becomes Cardano-Curious, Says Dallas Mavericks Would Be Happy to Accept It\",\"You can now buy luxury condos with Dogecoin (DOGE) and Cardano (ADA) in Portugal\",\"Three Altcoins With Life-Changing Potential Are Blazing Toward Mass Adoption, Says Trader Austin Arnold\",\"University of Zurich Adds Cardano to their Blockchain Curriculum for 2021\",\"FD7 Ventures launches $250M Micro-Fund in India for Cardano, Polkadot-based projects\",\"$250M Fund to Invest in Polkadot and Cardano Launched in India\",\"A Litecoin (LTC) ETP just launched in Switzerland\",\"Bitcoin, Dogecoin, NFTs Big Deal At Tokyo Olympics: How Crypto-Savvy Olympians Can Feel Right At Home\",\"Young Investors Taking Big Risks To Own Bitcoin and Dogecoin, According to New UK Survey\",\"Doge Killer and Shiba Inu: The Top Trending Coins in USA Last Week\",\"DOGE And BTC ATMs Are Coming To Texas H-E-B Supermarkets\",\"Bitcoin and Dogecoin ATMs Coming to Texas Grocery Giant HEB\",\"Nifty News: Doge NFTs much wow, Paris Hilton is an NFT advisor, NFT game raises $3M\",\"UK Fintech Platform Revolut Adds Support For Dogecoin Due To High Demand From Users\",\"Dogecoin frenzy forces UK fund manager to offload $1.1 billion Bitcoin stash\",\"San Jose Sharks now accept doge payment\",\"NHL team San Jose Sharks to accept payments via Bitcoin, Dogecoin, and others\",\"San Jose Sharks Latest Team to Accept Dogecoin and Bitcoin\",\"Dogecoin Millionaire? A Luxury Penthouse Is Waiting In Portugal To Be Snagged With Your Coins\",\"You can buy condos with DOGE in Portugal as crypto real estate listings soar\",\"Shanghai Man: VeChain on TV, DOGE flips BTC, Hotbit hack, blockchain dev $$$.\",\"Is KFC Canada Really Accepting Dogecoin Payments?\",\"Dogecoin volumes in Korea exceeded those of its entire stock market yesterday\",\"DOGE Taps a Lifetime Price High, Mark Cuban Says Dallas Mavs Shop Won't Sell Its Dogecoin\",\"Much wow! Dallas Mavericks fans bought $122,000 of merch using Dogecoin\",\"DOGE Soars 80% To New ATH: Mark Cuban Says Dallas Mavs Will Never Sell Dogecoin\",\"Dallas Mavericks Accepts Dogecoin, Mark Cuban Supports\",\"Dallas Mavericks boss Mark Cuban says Dogecoin will \\u2018definitely' reach $1\",\"Mark Cuban Says Dallas Mavericks Will Accept Dogecoin \\u2013 Here's Why\",\"Mark Cuban's Dallas Mavericks to Accept Dogecoin Payments\",\"Cuban's Dallas Mavericks accepting Dogecoin is a mistake \\u2013 Bitcoin is where the action is - Novogratz\",\"Much wow! The Dallas Mavericks to accept Dogecoin for tickets and merch\",\"Mark Cuban's Dallas Mavericks Becomes First NBA Team to Accept Dogecoin\",\"Dallas Mavericks Now Accepting Dogecoin as Payment\",\"Mark Cuban's Dallas Mavericks Will Accept Dogecoin\",\"Mark Cuban's Dallas Mavericks will now accept Dogecoin as payment for tickets\",\"NBA Team, Dallas Mavericks, Now Accepts Dogecoin\",\"Dogecoin Will Be Available in Bitcoin ATMs Across America\",\"Bitcoin Adoption and How to Buy Bitcoin in Canada\",\"UK Police to Return Ethereum Stolen in $22 Million Investment Scam\",\"Bitcoin Adoption and How to Buy Bitcoin in Canada\",\"GoSats launches Bitcoin cashback rewards card in India\",\"The story of Bitcoin adoption in Canada seems strange\",\"Buying Bitcoin is like entering a minefield, Bank of Russia exec says\",\"How Taper Talk, Repos, China And U.S. Legislation Are Impacting The Bitcoin Market\",\"These five North American firms mined 58% more bitcoin in July thanks to China\",\"Could The New \\u201cChina Model\\u201d Be The Reason The Country Banned Bitcoin Mining?\",\"1 million bitcoin mining machines on the way from China to Alberta\",\"Bitcoin (BTC) Bullish Crypto Community Senses America is Great Again\",\"China and US Governments Will Only Strengthen Bitcoin (BTC) It in the End\",\"Xiaomi retailer in Portugal now accepts Bitcoin payments\",\"Bitcoin mining ban in China a 'game changer' for electric vehicle adoption\",\"Chinese Brand Xiaomi Steers Clear of Portugal MI Store Bitcoin Payment Ad\",\"Mi Store Portugal Now Accepts Bitcoin Although Xiaomi Inc. Knows Nothing ABout It\",\"Xiaomi Shops In Portugal Start Accepting Bitcoin Payments\",\"Bakkt Is Bringing BTC Payments To Stores Across The United States\",\"Paris-Based Fund Manager First To Get EU Regulatory Green Light For Bitcoin-Pegged ETF\",\"Xiaomi Starts Accepting Bitcoin, Ethereum and Other Cryptocurrencies in Portugal\",\"Paris-based fund manager gets green light for EU-regulated Bitcoin ETF\",\"France-based Melanion Capital Secures Regulatory Approval for An ETF Tracking Bitcoin (BTC)\",\"A Bitcoin ETF approved in Europe\",\"India: Olympic winners also awarded with bitcoin\",\"El Salvador Feels More Confident about Bitcoin as Bank of America Endorses President Buekele's Policy\",\"First EU-Regulated ETF That Tracks Bitcoin Price to Launch in France\",\"Paris-based Fund Manager to Launch Fund With Up to 90% Bitcoin Price Exposure\",\"Chinese bitcoin miners are look to the West amid China crackdown, plus a look at US regulators\",\"Bakkt partners with Quiznos to pilot bitcoin payments in Denver\",\"Here Are the Four Upsides to El Salvador's Bitcoin Adoption, According to Bank of America\",\"There's more bitcoin up for grabs' amid China crackdown: Riot Blockchain CEO\",\"Russia Is Gearing Up For Bitcoin\",\"India Still Considering Banning Bitcoin and Other Private Cryptocurrencies\",\"Bank of America Sees Benefits in Adopting Bitcoin as Legal Tender in El Salvador\",\"Bank of America Report Sees Upsides to El Salvador Bitcoin Adoption\",\"El Salvador's Bitcoin bill has 5 key benefits, says Bank of America\",\"Bank Of America Sees Four Upsides In El Salvador's Bitcoin Adoption\",\"Bank Of America Sees Opportunities With El Salvador's Bitcoin Adoption\",\"El Salvador: bitcoin's advantages according to Bank of America\",\"Why are Bitcoin (BTC) Fans looking at El Salvador and Bank of America Statements?\",\"Bitcoin in Japan Is Legal BTC Inheritance to Legal heirs is Complex Due to Its Anonymous Nature\",\"China Has Forever Been a Spicy and Soupy Participant in the Bitcoin (BTC) Space\",\"PayPal reportedly assembling crypto team in Ireland as Bitcoin adoption grows\",\"Bank of America outlines 4 potential benefits of El Salvador's Bitcoin strategy\",\"Bank of America Outlines Key Benefits of Bitcoin Adoption in El Salvador\",\"Finland Seeking Brokers to Assist in Sale of $82M Worth of Seized BTC\\u00a0\",\"Congressman Warren Davidson On How The Last-Minute Bitcoin Tax Bill Is Bad For America\",\"Bitcoin Price Prediction: BTC Bullish Outlook Steadies Above $40,000 As PayPal Launches Crypto Exchange In The UK\",\"Why The $35 Trillion In United States Retirement Accounts Should Be Spent On Bitcoin\",\"Bitcoin Miners Consider Paraguay In Wake of China Ban\",\"Finland Looking for Brokers to Sell Seized Bitcoins Worth $80 Million\",\"Bitcoin Is Slumping-The News Out Of Europe Is Blended And Congress Is Surrounding.\",\"UK Police to Return Ethereum Stolen in $22 Million Investment Scam\",\"UK Detectives Seize USB Stick With $9.5 Million in Ethereum in Alleged Crypto Scam\",\"UK Police Seize Ethereum Worth $9.5 Million Found On USB Stick\",\"UK Authorities Seize $9.5 Million Worth of Ethereum Found in USB Sticks\",\"Ethereum Overtakes PayPal, Bank Of America, Nike, And Pfizer In Market Cap As Proponents Set Their Eyes On Bitcoin\",\"Ethereum, China, and how they played a part in Tether's flattened supply\",\"USDT Usage on Ethereum Shifts Away From Asia Daytime Hours\",\"Ethereum Co-Founder Donated $1B Shiba Inu To Aid India In COVID-19 Battle \\u2014 Money Reaching The People Is A Lot Less\",\"India to use Ethereum blockchain to verify diploma certificates\",\"Diploma certificate verification in India to be done using Ethereum blockchain\",\"Not a Lambo In Sight: 3 Days in Paris with Ethereum's Nouveau Riche\",\"Vitalik Buterin Beseeches Ethereum Crowd in Paris to 'Move Beyond DeFi'\",\"Brazil Green Lights First Ethereum ETF in Latin America\",\"Brazilian Securities Regulator Approves First Ethereum ETF To Trade In Latin America\",\"Brazil's SEC Approves First Ethereum ETF in Latin America\",\"Brazil Approves the First Ether ETF Listed in Latin America\",\"Ethereum's London, Berlin and Shanghai forks and their role in Serenity\",\"Brazilian Securities Regulator approves the first Ethereum ETF in Latin America.\",\"Brazil's Securities Commission Approved First ETH ETF In Latin America\",\"Bitcoin, Ethereum And Cardano Among Major Cryptocurrencies To Fall As China Expands Mining Crackdown\",\"Brazilian Securities Regulator Approves the First Ethereum (ETH) ETF of Latin America\",\"Crypto Price Alert: Bitcoin And Ethereum \\u2018In Danger' After Shock China Dump Warning\",\"IBC Group Decides to Close Bitcoin and Ethereum Mining Operations in China\",\"IBC Group Wraps Up Bitcoin And Ethereum Mining In China\",\"Bitcoin, Ether Analysis, Japanese Industry Leader on 'Stupid' Regulator Warnings Against Binance, State of Crypto in Japan\",\"Ethereum Hashrate Drops 25% on China Mining Exodus\",\"Bitcoin, Ether Plummet as China Crypto Crackdown Continues, Ethereum Improvement Proposal Explained\",\"Major Cryptocurrencies\\u2014Including Bitcoin, Ethereum, Dogecoin\\u2014Plummet As China Widens Crackdown\",\"Market Wrap: Bitcoin Slides to Two-Week Low, Ether to Below $2K as China Reiterates Crypto Ban\",\"You Can Now Buy Bitcoin, Dogecoin, Ethereum Alongside Apples, Oranges At H-E-B's Houston Stores\",\"Scientists in UK Solve Privacy on Ethereum Using Only Smart Contracts\",\"Cryptocurrency Holders Rises to 2.3 Million in UK; BTC, XRP, ETH Among Top Choices\",\"UK Farmers Use Cow Dung to Power Ethereum Mining, Boost Revenues\",\"Report: Filecoin and Chia Believers in China Are Converting to Ethereum Swarm Disciples\",\"Paris Hilton Joins Ethereum NFT Project Origin as Advisor\",\"San Jose Sharks Becomes First NHL Team To Accept Bitcoin, Ethereum, Dogecoin\",\"San Jose Sharks to Accept Bitcoin, ETH and DOGE For Season Tickets\",\"Crypto bets via Bitcoin, Ethereum, XRP are fueling illegal gambling in Asia\",\"Canada Based Purpose Ether ETF AUM Breach 50,000 ETH\",\"Ethereum Foundation Says Berlin Hardfork Addressed 'Clear and Present' Threat\",\"Bullish on Ether (ETH) not Bitcoin, UK Parliament Member Mentions the Flippening\",\"Market Wrap: China Breaks Crypto as Bitcoin Falls to $36K, ETH Drops $300 in Two Hours\",\"ETH bullish, UK Parliament Member Mentions the Flippening\",\"Bank of Canada: Intrinsic Value of Bitcoin, Ethereum 'Hard to Establish'\",\"United States, Germany, Turkey lead search interest in Ethereum\",\"Ether's Record-breaking Rally; the Musk Effect, What Crypto Means to Latin America\",\"The great tech exodus: The Ethereum blockchain is the new San Francisco\",\"Ethereum breaks $3,000\\u2014it's now more valued than Bank of America\",\"Another Ethereum ETF has been listed in Germany, this time from WisdomTree\",\"Cardano Last Week: Hoskinson Protests Infra Bill, ADA Reaches Japan, And Alonzo Purple Launch\",\"Cardano Gets Approval for Listing on Crypto Exchanges in Japan\",\"Cardano (ADA) sees Japan listing after passing strict crypto regulatory checks\",\"Cardano (ADA) Receives Approval To Be Listed In Japan\",\"Cardano (ADA) finally receives regulatory approval to be listed in Japan\",\"Cardano ($ADA) Finally Gets Listed in Japan\",\"PoS of Cardano (ADA) Scaring Devil out of PoW of Bitcoin (BTC) in China\",\"Elite Group of Seven Crypto Assets Have \\u2018Insane Potential,' According to Trader Austin Arnold\",\"Canada-Based Crypto Company iMining Launches Cardano Staking\",\"Billionaire Mark Cuban Becomes Cardano-Curious, Says Dallas Mavericks Would Be Happy to Accept It\",\"You can now buy luxury condos with Dogecoin (DOGE) and Cardano (ADA) in Portugal\",\"Three Altcoins With Life-Changing Potential Are Blazing Toward Mass Adoption, Says Trader Austin Arnold\",\"University of Zurich Adds Cardano to their Blockchain Curriculum for 2021\",\"FD7 Ventures launches $250M Micro-Fund in India for Cardano, Polkadot-based projects\",\"$250M Fund to Invest in Polkadot and Cardano Launched in India\",\"A Litecoin (LTC) ETP just launched in Switzerland\",\"Bitcoin, Dogecoin, NFTs Big Deal At Tokyo Olympics: How Crypto-Savvy Olympians Can Feel Right At Home\",\"Young Investors Taking Big Risks To Own Bitcoin and Dogecoin, According to New UK Survey\",\"Doge Killer and Shiba Inu: The Top Trending Coins in USA Last Week\",\"DOGE And BTC ATMs Are Coming To Texas H-E-B Supermarkets\",\"Bitcoin and Dogecoin ATMs Coming to Texas Grocery Giant HEB\",\"Nifty News: Doge NFTs much wow, Paris Hilton is an NFT advisor, NFT game raises $3M\",\"UK Fintech Platform Revolut Adds Support For Dogecoin Due To High Demand From Users\",\"Dogecoin frenzy forces UK fund manager to offload $1.1 billion Bitcoin stash\",\"San Jose Sharks now accept doge payment\",\"NHL team San Jose Sharks to accept payments via Bitcoin, Dogecoin, and others\",\"San Jose Sharks Latest Team to Accept Dogecoin and Bitcoin\",\"Dogecoin Millionaire? A Luxury Penthouse Is Waiting In Portugal To Be Snagged With Your Coins\",\"You can buy condos with DOGE in Portugal as crypto real estate listings soar\",\"Shanghai Man: VeChain on TV, DOGE flips BTC, Hotbit hack, blockchain dev $$$.\",\"Is KFC Canada Really Accepting Dogecoin Payments?\",\"Dogecoin volumes in Korea exceeded those of its entire stock market yesterday\",\"DOGE Taps a Lifetime Price High, Mark Cuban Says Dallas Mavs Shop Won't Sell Its Dogecoin\",\"Much wow! Dallas Mavericks fans bought $122,000 of merch using Dogecoin\",\"DOGE Soars 80% To New ATH: Mark Cuban Says Dallas Mavs Will Never Sell Dogecoin\",\"Dallas Mavericks Accepts Dogecoin, Mark Cuban Supports\",\"Dallas Mavericks boss Mark Cuban says Dogecoin will \\u2018definitely' reach $1\",\"Mark Cuban Says Dallas Mavericks Will Accept Dogecoin \\u2013 Here's Why\",\"Mark Cuban's Dallas Mavericks to Accept Dogecoin Payments\",\"Cuban's Dallas Mavericks accepting Dogecoin is a mistake \\u2013 Bitcoin is where the action is - Novogratz\",\"Much wow! The Dallas Mavericks to accept Dogecoin for tickets and merch\",\"Mark Cuban's Dallas Mavericks Becomes First NBA Team to Accept Dogecoin\",\"Dallas Mavericks Now Accepting Dogecoin as Payment\",\"Mark Cuban's Dallas Mavericks Will Accept Dogecoin\",\"Mark Cuban's Dallas Mavericks will now accept Dogecoin as payment for tickets\",\"NBA Team, Dallas Mavericks, Now Accepts Dogecoin\",\"Dogecoin Will Be Available in Bitcoin ATMs Across America\",\"Bitcoin Mining Revenue Up $35 Million Per Day Since China Crackdown\",\"Bitcoin Mining Revenue Up $35 Million Per Day Since China Crackdown\",\"Up to 1 Million Bitcoin Processors Could be Relocated to Alberta from China Under the Energy Firm's Proposal\",\"Up to 1 Million Bitcoin Processors Could be Relocated to Alberta from China Under the Energy Firm's Proposal\",\"Bitcoin Mining Revenue Up $35 Million Per Day Since China Crackdown\",\"Bitcoin Adoption and How to Buy Bitcoin in Canada\",\"GoSats launches Bitcoin cashback rewards card in India\",\"The story of Bitcoin adoption in Canada seems strange\",\"Buying Bitcoin is like entering a minefield, Bank of Russia exec says\",\"How Taper Talk, Repos, China And U.S. Legislation Are Impacting The Bitcoin Market\",\"These five North American firms mined 58% more bitcoin in July thanks to China\",\"Could The New \\u201cChina Model\\u201d Be The Reason The Country Banned Bitcoin Mining?\",\"1 million bitcoin mining machines on the way from China to Alberta\",\"Bitcoin (BTC) Bullish Crypto Community Senses America is Great Again\",\"China and US Governments Will Only Strengthen Bitcoin (BTC) It in the End\",\"Xiaomi retailer in Portugal now accepts Bitcoin payments\",\"Bitcoin mining ban in China a 'game changer' for electric vehicle adoption\",\"Chinese Brand Xiaomi Steers Clear of Portugal MI Store Bitcoin Payment Ad\",\"Mi Store Portugal Now Accepts Bitcoin Although Xiaomi Inc. Knows Nothing ABout It\",\"Xiaomi Shops In Portugal Start Accepting Bitcoin Payments\",\"Bakkt Is Bringing BTC Payments To Stores Across The United States\",\"Paris-Based Fund Manager First To Get EU Regulatory Green Light For Bitcoin-Pegged ETF\",\"Xiaomi Starts Accepting Bitcoin, Ethereum and Other Cryptocurrencies in Portugal\",\"Paris-based fund manager gets green light for EU-regulated Bitcoin ETF\",\"France-based Melanion Capital Secures Regulatory Approval for An ETF Tracking Bitcoin (BTC)\",\"A Bitcoin ETF approved in Europe\",\"India: Olympic winners also awarded with bitcoin\",\"El Salvador Feels More Confident about Bitcoin as Bank of America Endorses President Buekele's Policy\",\"First EU-Regulated ETF That Tracks Bitcoin Price to Launch in France\",\"Paris-based Fund Manager to Launch Fund With Up to 90% Bitcoin Price Exposure\",\"Chinese bitcoin miners are look to the West amid China crackdown, plus a look at US regulators\",\"Bakkt partners with Quiznos to pilot bitcoin payments in Denver\",\"Here Are the Four Upsides to El Salvador's Bitcoin Adoption, According to Bank of America\",\"There's more bitcoin up for grabs' amid China crackdown: Riot Blockchain CEO\",\"Russia Is Gearing Up For Bitcoin\",\"India Still Considering Banning Bitcoin and Other Private Cryptocurrencies\",\"Bank of America Sees Benefits in Adopting Bitcoin as Legal Tender in El Salvador\",\"Bank of America Report Sees Upsides to El Salvador Bitcoin Adoption\",\"El Salvador's Bitcoin bill has 5 key benefits, says Bank of America\",\"Bank Of America Sees Four Upsides In El Salvador's Bitcoin Adoption\",\"Bank Of America Sees Opportunities With El Salvador's Bitcoin Adoption\",\"El Salvador: bitcoin's advantages according to Bank of America\",\"Why are Bitcoin (BTC) Fans looking at El Salvador and Bank of America Statements?\",\"Bitcoin in Japan Is Legal BTC Inheritance to Legal heirs is Complex Due to Its Anonymous Nature\",\"China Has Forever Been a Spicy and Soupy Participant in the Bitcoin (BTC) Space\",\"PayPal reportedly assembling crypto team in Ireland as Bitcoin adoption grows\",\"Bank of America outlines 4 potential benefits of El Salvador's Bitcoin strategy\",\"Bank of America Outlines Key Benefits of Bitcoin Adoption in El Salvador\",\"Finland Seeking Brokers to Assist in Sale of $82M Worth of Seized BTC\\u00a0\",\"Congressman Warren Davidson On How The Last-Minute Bitcoin Tax Bill Is Bad For America\",\"Bitcoin Price Prediction: BTC Bullish Outlook Steadies Above $40,000 As PayPal Launches Crypto Exchange In The UK\",\"Why The $35 Trillion In United States Retirement Accounts Should Be Spent On Bitcoin\",\"Bitcoin Miners Consider Paraguay In Wake of China Ban\",\"UK Police to Return Ethereum Stolen in $22 Million Investment Scam\",\"UK Detectives Seize USB Stick With $9.5 Million in Ethereum in Alleged Crypto Scam\",\"UK Police Seize Ethereum Worth $9.5 Million Found On USB Stick\",\"UK Authorities Seize $9.5 Million Worth of Ethereum Found in USB Sticks\",\"Ethereum Overtakes PayPal, Bank Of America, Nike, And Pfizer In Market Cap As Proponents Set Their Eyes On Bitcoin\",\"Ethereum, China, and how they played a part in Tether's flattened supply\",\"USDT Usage on Ethereum Shifts Away From Asia Daytime Hours\",\"Ethereum Co-Founder Donated $1B Shiba Inu To Aid India In COVID-19 Battle \\u2014 Money Reaching The People Is A Lot Less\",\"India to use Ethereum blockchain to verify diploma certificates\",\"Diploma certificate verification in India to be done using Ethereum blockchain\",\"Not a Lambo In Sight: 3 Days in Paris with Ethereum's Nouveau Riche\",\"Vitalik Buterin Beseeches Ethereum Crowd in Paris to 'Move Beyond DeFi'\",\"Brazil Green Lights First Ethereum ETF in Latin America\",\"Brazilian Securities Regulator Approves First Ethereum ETF To Trade In Latin America\",\"Brazil's SEC Approves First Ethereum ETF in Latin America\",\"Brazil Approves the First Ether ETF Listed in Latin America\",\"Ethereum's London, Berlin and Shanghai forks and their role in Serenity\",\"Brazilian Securities Regulator approves the first Ethereum ETF in Latin America.\",\"Brazil's Securities Commission Approved First ETH ETF In Latin America\",\"Bitcoin, Ethereum And Cardano Among Major Cryptocurrencies To Fall As China Expands Mining Crackdown\",\"Brazilian Securities Regulator Approves the First Ethereum (ETH) ETF of Latin America\",\"Crypto Price Alert: Bitcoin And Ethereum \\u2018In Danger' After Shock China Dump Warning\",\"IBC Group Decides to Close Bitcoin and Ethereum Mining Operations in China\",\"IBC Group Wraps Up Bitcoin And Ethereum Mining In China\",\"Bitcoin, Ether Analysis, Japanese Industry Leader on 'Stupid' Regulator Warnings Against Binance, State of Crypto in Japan\",\"Ethereum Hashrate Drops 25% on China Mining Exodus\",\"Bitcoin, Ether Plummet as China Crypto Crackdown Continues, Ethereum Improvement Proposal Explained\",\"Major Cryptocurrencies\\u2014Including Bitcoin, Ethereum, Dogecoin\\u2014Plummet As China Widens Crackdown\",\"Market Wrap: Bitcoin Slides to Two-Week Low, Ether to Below $2K as China Reiterates Crypto Ban\",\"You Can Now Buy Bitcoin, Dogecoin, Ethereum Alongside Apples, Oranges At H-E-B's Houston Stores\",\"Scientists in UK Solve Privacy on Ethereum Using Only Smart Contracts\",\"Cryptocurrency Holders Rises to 2.3 Million in UK; BTC, XRP, ETH Among Top Choices\",\"UK Farmers Use Cow Dung to Power Ethereum Mining, Boost Revenues\",\"Report: Filecoin and Chia Believers in China Are Converting to Ethereum Swarm Disciples\",\"Paris Hilton Joins Ethereum NFT Project Origin as Advisor\",\"San Jose Sharks Becomes First NHL Team To Accept Bitcoin, Ethereum, Dogecoin\",\"San Jose Sharks to Accept Bitcoin, ETH and DOGE For Season Tickets\",\"Crypto bets via Bitcoin, Ethereum, XRP are fueling illegal gambling in Asia\",\"Canada Based Purpose Ether ETF AUM Breach 50,000 ETH\",\"Ethereum Foundation Says Berlin Hardfork Addressed 'Clear and Present' Threat\",\"Bullish on Ether (ETH) not Bitcoin, UK Parliament Member Mentions the Flippening\",\"Market Wrap: China Breaks Crypto as Bitcoin Falls to $36K, ETH Drops $300 in Two Hours\",\"ETH bullish, UK Parliament Member Mentions the Flippening\",\"Bank of Canada: Intrinsic Value of Bitcoin, Ethereum 'Hard to Establish'\",\"United States, Germany, Turkey lead search interest in Ethereum\",\"Ether's Record-breaking Rally; the Musk Effect, What Crypto Means to Latin America\",\"The great tech exodus: The Ethereum blockchain is the new San Francisco\",\"Ethereum breaks $3,000\\u2014it's now more valued than Bank of America\",\"Another Ethereum ETF has been listed in Germany, this time from WisdomTree\",\"Cardano Last Week: Hoskinson Protests Infra Bill, ADA Reaches Japan, And Alonzo Purple Launch\",\"Cardano Gets Approval for Listing on Crypto Exchanges in Japan\",\"Cardano (ADA) sees Japan listing after passing strict crypto regulatory checks\",\"Cardano (ADA) Receives Approval To Be Listed In Japan\",\"Cardano (ADA) finally receives regulatory approval to be listed in Japan\",\"Cardano ($ADA) Finally Gets Listed in Japan\",\"PoS of Cardano (ADA) Scaring Devil out of PoW of Bitcoin (BTC) in China\",\"Elite Group of Seven Crypto Assets Have \\u2018Insane Potential,' According to Trader Austin Arnold\",\"Canada-Based Crypto Company iMining Launches Cardano Staking\",\"Billionaire Mark Cuban Becomes Cardano-Curious, Says Dallas Mavericks Would Be Happy to Accept It\",\"You can now buy luxury condos with Dogecoin (DOGE) and Cardano (ADA) in Portugal\",\"Three Altcoins With Life-Changing Potential Are Blazing Toward Mass Adoption, Says Trader Austin Arnold\",\"University of Zurich Adds Cardano to their Blockchain Curriculum for 2021\",\"FD7 Ventures launches $250M Micro-Fund in India for Cardano, Polkadot-based projects\",\"$250M Fund to Invest in Polkadot and Cardano Launched in India\",\"A Litecoin (LTC) ETP just launched in Switzerland\",\"Bitcoin, Dogecoin, NFTs Big Deal At Tokyo Olympics: How Crypto-Savvy Olympians Can Feel Right At Home\",\"Young Investors Taking Big Risks To Own Bitcoin and Dogecoin, According to New UK Survey\",\"Doge Killer and Shiba Inu: The Top Trending Coins in USA Last Week\",\"DOGE And BTC ATMs Are Coming To Texas H-E-B Supermarkets\",\"Bitcoin and Dogecoin ATMs Coming to Texas Grocery Giant HEB\",\"Nifty News: Doge NFTs much wow, Paris Hilton is an NFT advisor, NFT game raises $3M\",\"UK Fintech Platform Revolut Adds Support For Dogecoin Due To High Demand From Users\",\"Dogecoin frenzy forces UK fund manager to offload $1.1 billion Bitcoin stash\",\"San Jose Sharks now accept doge payment\",\"NHL team San Jose Sharks to accept payments via Bitcoin, Dogecoin, and others\",\"San Jose Sharks Latest Team to Accept Dogecoin and Bitcoin\",\"Dogecoin Millionaire? A Luxury Penthouse Is Waiting In Portugal To Be Snagged With Your Coins\",\"You can buy condos with DOGE in Portugal as crypto real estate listings soar\",\"Shanghai Man: VeChain on TV, DOGE flips BTC, Hotbit hack, blockchain dev $$$.\",\"Is KFC Canada Really Accepting Dogecoin Payments?\",\"Dogecoin volumes in Korea exceeded those of its entire stock market yesterday\",\"DOGE Taps a Lifetime Price High, Mark Cuban Says Dallas Mavs Shop Won't Sell Its Dogecoin\",\"Much wow! Dallas Mavericks fans bought $122,000 of merch using Dogecoin\",\"DOGE Soars 80% To New ATH: Mark Cuban Says Dallas Mavs Will Never Sell Dogecoin\",\"Dallas Mavericks Accepts Dogecoin, Mark Cuban Supports\",\"Dallas Mavericks boss Mark Cuban says Dogecoin will \\u2018definitely' reach $1\",\"Mark Cuban Says Dallas Mavericks Will Accept Dogecoin \\u2013 Here's Why\",\"Mark Cuban's Dallas Mavericks to Accept Dogecoin Payments\",\"Cuban's Dallas Mavericks accepting Dogecoin is a mistake \\u2013 Bitcoin is where the action is - Novogratz\",\"Much wow! The Dallas Mavericks to accept Dogecoin for tickets and merch\",\"Mark Cuban's Dallas Mavericks Becomes First NBA Team to Accept Dogecoin\",\"Dallas Mavericks Now Accepting Dogecoin as Payment\",\"Mark Cuban's Dallas Mavericks Will Accept Dogecoin\",\"Mark Cuban's Dallas Mavericks will now accept Dogecoin as payment for tickets\",\"NBA Team, Dallas Mavericks, Now Accepts Dogecoin\",\"Dogecoin Will Be Available in Bitcoin ATMs Across America\"]},\"selected\":{\"id\":\"2081\"},\"selection_policy\":{\"id\":\"2102\"}},\"id\":\"2080\",\"type\":\"ColumnDataSource\"},{\"attributes\":{\"children\":[{\"id\":\"2051\"}],\"margin\":[0,0,0,0],\"name\":\"Row02848\"},\"id\":\"2047\",\"type\":\"Row\"},{\"attributes\":{\"end\":9.084,\"reset_end\":9.084,\"reset_start\":0.0,\"tags\":[[[\"rank_score\",\"rank_score\",null]]]},\"id\":\"2049\",\"type\":\"Range1d\"},{\"attributes\":{\"bottom_units\":\"screen\",\"fill_alpha\":0.5,\"fill_color\":\"lightgrey\",\"left_units\":\"screen\",\"level\":\"overlay\",\"line_alpha\":1.0,\"line_color\":\"black\",\"line_dash\":[4,4],\"line_width\":2,\"right_units\":\"screen\",\"syncable\":false,\"top_units\":\"screen\"},\"id\":\"2072\",\"type\":\"BoxAnnotation\"}],\"root_ids\":[\"2044\",\"2145\"]},\"title\":\"Bokeh Application\",\"version\":\"2.3.3\"}};\n",
       "    var render_items = [{\"docid\":\"477d75b9-1944-41e7-9781-5600254d63cb\",\"root_ids\":[\"2044\"],\"roots\":{\"2044\":\"a3705e3b-434e-442f-9fd8-d1286716a932\"}}];\n",
       "    root.Bokeh.embed.embed_items_notebook(docs_json, render_items);\n",
       "  }\n",
       "  if (root.Bokeh !== undefined && root.Bokeh.Panel !== undefined) {\n",
       "    embed_document(root);\n",
       "  } else {\n",
       "    var attempts = 0;\n",
       "    var timer = setInterval(function(root) {\n",
       "      if (root.Bokeh !== undefined && root.Bokeh.Panel !== undefined) {\n",
       "        clearInterval(timer);\n",
       "        embed_document(root);\n",
       "      } else if (document.readyState == \"complete\") {\n",
       "        attempts++;\n",
       "        if (attempts > 200) {\n",
       "          clearInterval(timer);\n",
       "          console.log(\"Bokeh: ERROR: Unable to run BokehJS code because BokehJS library is missing\");\n",
       "        }\n",
       "      }\n",
       "    }, 25, root)\n",
       "  }\n",
       "})(window);</script>"
      ],
      "text/plain": [
       "Column\n",
       "    [0] WidgetBox\n",
       "        [0] Select(name='kind', options=['bar', 'line', ...], value='bar')\n",
       "    [1] ParamFunction(function)"
      ]
     },
     "execution_count": 11,
     "metadata": {
      "application/vnd.holoviews_exec.v0+json": {
       "id": "2044"
      }
     },
     "output_type": "execute_result"
    }
   ],
   "source": [
    "\n",
    "kind = pn.widgets.Select(name='kind', value='bar', options=['bar', 'line','scatter'])\n",
    "plot = df.hvplot(x= 'date', \n",
    "                 y='rank_score',\n",
    "                 ylabel='Rank Score',\n",
    "                 kind=kind, \n",
    "                 colorbar=False, \n",
    "                 width=900, \n",
    "                 widget_location=\"top\",\n",
    "                 xaxis=\"\",\n",
    "                 hover_cols=[\"title\",\"text\"],\n",
    "                 title=\"Various Views of Rank Score\")\n",
    "\n",
    "\n",
    "pn.Column(pn.WidgetBox(kind), plot)\n"
   ]
  },
  {
   "cell_type": "code",
   "execution_count": 15,
   "id": "6b386788",
   "metadata": {},
   "outputs": [
    {
     "data": {
      "application/vnd.plotly.v1+json": {
       "config": {
        "plotlyServerURL": "https://plot.ly"
       },
       "data": [
        {
         "customdata": [
          [
           "Cardano",
           12,
           7,
           2,
           3,
           "4th",
           "4th",
           "3rd",
           "4th",
           0.875,
           "5th"
          ],
          [
           "Bitcoin",
           83,
           38,
           10,
           35,
           "1st",
           "1st",
           "1st",
           "1st",
           0.928,
           "4th"
          ],
          [
           "Dogecoin",
           18,
           8,
           0,
           10,
           "3rd",
           "3rd",
           "5th",
           "3rd",
           1.222,
           "2nd"
          ],
          [
           "Ethereum",
           36,
           20,
           5,
           11,
           "2nd",
           "2nd",
           "2nd",
           "2nd",
           0.931,
           "3rd"
          ],
          [
           "Litecoin",
           3,
           1,
           1,
           1,
           "5th",
           "5th",
           "4th",
           "5th",
           0.333,
           "6th"
          ],
          [
           "Monero",
           1,
           1,
           0,
           0,
           "6th",
           "5th",
           "5th",
           "6th",
           1.5,
           "1st"
          ]
         ],
         "hovertemplate": "\n    <b>%{customdata[0]} (%{x})</b><br><br>\n    Total Mentions: %{customdata[1]:d} (%{customdata[5]})<br>\n    Positive Mentions: %{customdata[2]:d} (%{customdata[6]})<br>\n    Negative Mentions: %{customdata[3]:d} (%{customdata[7]})<br>\n    Neutral Mentions: %{customdata[4]:d} (%{customdata[8]})<br>\n    Sentiment Score: %{customdata[9]:.2f} (%{customdata[10]})<br>\n    <extra></extra>\n    ",
         "name": "Positive Mentions",
         "type": "bar",
         "x": [
          "ADA",
          "BTC",
          "DOGE",
          "ETH",
          "LTC",
          "XMR"
         ],
         "y": [
          7,
          38,
          8,
          20,
          1,
          1
         ]
        },
        {
         "customdata": [
          [
           "Cardano",
           12,
           7,
           2,
           3,
           "4th",
           "4th",
           "3rd",
           "4th",
           0.875,
           "5th"
          ],
          [
           "Bitcoin",
           83,
           38,
           10,
           35,
           "1st",
           "1st",
           "1st",
           "1st",
           0.928,
           "4th"
          ],
          [
           "Dogecoin",
           18,
           8,
           0,
           10,
           "3rd",
           "3rd",
           "5th",
           "3rd",
           1.222,
           "2nd"
          ],
          [
           "Ethereum",
           36,
           20,
           5,
           11,
           "2nd",
           "2nd",
           "2nd",
           "2nd",
           0.931,
           "3rd"
          ],
          [
           "Litecoin",
           3,
           1,
           1,
           1,
           "5th",
           "5th",
           "4th",
           "5th",
           0.333,
           "6th"
          ],
          [
           "Monero",
           1,
           1,
           0,
           0,
           "6th",
           "5th",
           "5th",
           "6th",
           1.5,
           "1st"
          ]
         ],
         "hovertemplate": "\n    <b>%{customdata[0]} (%{x})</b><br><br>\n    Total Mentions: %{customdata[1]:d} (%{customdata[5]})<br>\n    Positive Mentions: %{customdata[2]:d} (%{customdata[6]})<br>\n    Negative Mentions: %{customdata[3]:d} (%{customdata[7]})<br>\n    Neutral Mentions: %{customdata[4]:d} (%{customdata[8]})<br>\n    Sentiment Score: %{customdata[9]:.2f} (%{customdata[10]})<br>\n    <extra></extra>\n    ",
         "name": "Negative Mentions",
         "type": "bar",
         "x": [
          "ADA",
          "BTC",
          "DOGE",
          "ETH",
          "LTC",
          "XMR"
         ],
         "y": [
          2,
          10,
          0,
          5,
          1,
          0
         ]
        },
        {
         "customdata": [
          [
           "Cardano",
           12,
           7,
           2,
           3,
           "4th",
           "4th",
           "3rd",
           "4th",
           0.875,
           "5th"
          ],
          [
           "Bitcoin",
           83,
           38,
           10,
           35,
           "1st",
           "1st",
           "1st",
           "1st",
           0.928,
           "4th"
          ],
          [
           "Dogecoin",
           18,
           8,
           0,
           10,
           "3rd",
           "3rd",
           "5th",
           "3rd",
           1.222,
           "2nd"
          ],
          [
           "Ethereum",
           36,
           20,
           5,
           11,
           "2nd",
           "2nd",
           "2nd",
           "2nd",
           0.931,
           "3rd"
          ],
          [
           "Litecoin",
           3,
           1,
           1,
           1,
           "5th",
           "5th",
           "4th",
           "5th",
           0.333,
           "6th"
          ],
          [
           "Monero",
           1,
           1,
           0,
           0,
           "6th",
           "5th",
           "5th",
           "6th",
           1.5,
           "1st"
          ]
         ],
         "hovertemplate": "\n    <b>%{customdata[0]} (%{x})</b><br><br>\n    Total Mentions: %{customdata[1]:d} (%{customdata[5]})<br>\n    Positive Mentions: %{customdata[2]:d} (%{customdata[6]})<br>\n    Negative Mentions: %{customdata[3]:d} (%{customdata[7]})<br>\n    Neutral Mentions: %{customdata[4]:d} (%{customdata[8]})<br>\n    Sentiment Score: %{customdata[9]:.2f} (%{customdata[10]})<br>\n    <extra></extra>\n    ",
         "name": "Neutral Mentions",
         "type": "bar",
         "x": [
          "ADA",
          "BTC",
          "DOGE",
          "ETH",
          "LTC",
          "XMR"
         ],
         "y": [
          3,
          35,
          10,
          11,
          1,
          0
         ]
        }
       ],
       "layout": {
        "barmode": "stack",
        "height": 600,
        "legend": {
         "x": 0.75,
         "xanchor": "left",
         "y": 0.99,
         "yanchor": "top"
        },
        "margin": {
         "b": 100,
         "l": 50,
         "pad": 4,
         "r": 50,
         "t": 65
        },
        "template": {
         "data": {
          "bar": [
           {
            "error_x": {
             "color": "#2a3f5f"
            },
            "error_y": {
             "color": "#2a3f5f"
            },
            "marker": {
             "line": {
              "color": "#E5ECF6",
              "width": 0.5
             },
             "pattern": {
              "fillmode": "overlay",
              "size": 10,
              "solidity": 0.2
             }
            },
            "type": "bar"
           }
          ],
          "barpolar": [
           {
            "marker": {
             "line": {
              "color": "#E5ECF6",
              "width": 0.5
             },
             "pattern": {
              "fillmode": "overlay",
              "size": 10,
              "solidity": 0.2
             }
            },
            "type": "barpolar"
           }
          ],
          "carpet": [
           {
            "aaxis": {
             "endlinecolor": "#2a3f5f",
             "gridcolor": "white",
             "linecolor": "white",
             "minorgridcolor": "white",
             "startlinecolor": "#2a3f5f"
            },
            "baxis": {
             "endlinecolor": "#2a3f5f",
             "gridcolor": "white",
             "linecolor": "white",
             "minorgridcolor": "white",
             "startlinecolor": "#2a3f5f"
            },
            "type": "carpet"
           }
          ],
          "choropleth": [
           {
            "colorbar": {
             "outlinewidth": 0,
             "ticks": ""
            },
            "type": "choropleth"
           }
          ],
          "contour": [
           {
            "colorbar": {
             "outlinewidth": 0,
             "ticks": ""
            },
            "colorscale": [
             [
              0,
              "#0d0887"
             ],
             [
              0.1111111111111111,
              "#46039f"
             ],
             [
              0.2222222222222222,
              "#7201a8"
             ],
             [
              0.3333333333333333,
              "#9c179e"
             ],
             [
              0.4444444444444444,
              "#bd3786"
             ],
             [
              0.5555555555555556,
              "#d8576b"
             ],
             [
              0.6666666666666666,
              "#ed7953"
             ],
             [
              0.7777777777777778,
              "#fb9f3a"
             ],
             [
              0.8888888888888888,
              "#fdca26"
             ],
             [
              1,
              "#f0f921"
             ]
            ],
            "type": "contour"
           }
          ],
          "contourcarpet": [
           {
            "colorbar": {
             "outlinewidth": 0,
             "ticks": ""
            },
            "type": "contourcarpet"
           }
          ],
          "heatmap": [
           {
            "colorbar": {
             "outlinewidth": 0,
             "ticks": ""
            },
            "colorscale": [
             [
              0,
              "#0d0887"
             ],
             [
              0.1111111111111111,
              "#46039f"
             ],
             [
              0.2222222222222222,
              "#7201a8"
             ],
             [
              0.3333333333333333,
              "#9c179e"
             ],
             [
              0.4444444444444444,
              "#bd3786"
             ],
             [
              0.5555555555555556,
              "#d8576b"
             ],
             [
              0.6666666666666666,
              "#ed7953"
             ],
             [
              0.7777777777777778,
              "#fb9f3a"
             ],
             [
              0.8888888888888888,
              "#fdca26"
             ],
             [
              1,
              "#f0f921"
             ]
            ],
            "type": "heatmap"
           }
          ],
          "heatmapgl": [
           {
            "colorbar": {
             "outlinewidth": 0,
             "ticks": ""
            },
            "colorscale": [
             [
              0,
              "#0d0887"
             ],
             [
              0.1111111111111111,
              "#46039f"
             ],
             [
              0.2222222222222222,
              "#7201a8"
             ],
             [
              0.3333333333333333,
              "#9c179e"
             ],
             [
              0.4444444444444444,
              "#bd3786"
             ],
             [
              0.5555555555555556,
              "#d8576b"
             ],
             [
              0.6666666666666666,
              "#ed7953"
             ],
             [
              0.7777777777777778,
              "#fb9f3a"
             ],
             [
              0.8888888888888888,
              "#fdca26"
             ],
             [
              1,
              "#f0f921"
             ]
            ],
            "type": "heatmapgl"
           }
          ],
          "histogram": [
           {
            "marker": {
             "pattern": {
              "fillmode": "overlay",
              "size": 10,
              "solidity": 0.2
             }
            },
            "type": "histogram"
           }
          ],
          "histogram2d": [
           {
            "colorbar": {
             "outlinewidth": 0,
             "ticks": ""
            },
            "colorscale": [
             [
              0,
              "#0d0887"
             ],
             [
              0.1111111111111111,
              "#46039f"
             ],
             [
              0.2222222222222222,
              "#7201a8"
             ],
             [
              0.3333333333333333,
              "#9c179e"
             ],
             [
              0.4444444444444444,
              "#bd3786"
             ],
             [
              0.5555555555555556,
              "#d8576b"
             ],
             [
              0.6666666666666666,
              "#ed7953"
             ],
             [
              0.7777777777777778,
              "#fb9f3a"
             ],
             [
              0.8888888888888888,
              "#fdca26"
             ],
             [
              1,
              "#f0f921"
             ]
            ],
            "type": "histogram2d"
           }
          ],
          "histogram2dcontour": [
           {
            "colorbar": {
             "outlinewidth": 0,
             "ticks": ""
            },
            "colorscale": [
             [
              0,
              "#0d0887"
             ],
             [
              0.1111111111111111,
              "#46039f"
             ],
             [
              0.2222222222222222,
              "#7201a8"
             ],
             [
              0.3333333333333333,
              "#9c179e"
             ],
             [
              0.4444444444444444,
              "#bd3786"
             ],
             [
              0.5555555555555556,
              "#d8576b"
             ],
             [
              0.6666666666666666,
              "#ed7953"
             ],
             [
              0.7777777777777778,
              "#fb9f3a"
             ],
             [
              0.8888888888888888,
              "#fdca26"
             ],
             [
              1,
              "#f0f921"
             ]
            ],
            "type": "histogram2dcontour"
           }
          ],
          "mesh3d": [
           {
            "colorbar": {
             "outlinewidth": 0,
             "ticks": ""
            },
            "type": "mesh3d"
           }
          ],
          "parcoords": [
           {
            "line": {
             "colorbar": {
              "outlinewidth": 0,
              "ticks": ""
             }
            },
            "type": "parcoords"
           }
          ],
          "pie": [
           {
            "automargin": true,
            "type": "pie"
           }
          ],
          "scatter": [
           {
            "marker": {
             "colorbar": {
              "outlinewidth": 0,
              "ticks": ""
             }
            },
            "type": "scatter"
           }
          ],
          "scatter3d": [
           {
            "line": {
             "colorbar": {
              "outlinewidth": 0,
              "ticks": ""
             }
            },
            "marker": {
             "colorbar": {
              "outlinewidth": 0,
              "ticks": ""
             }
            },
            "type": "scatter3d"
           }
          ],
          "scattercarpet": [
           {
            "marker": {
             "colorbar": {
              "outlinewidth": 0,
              "ticks": ""
             }
            },
            "type": "scattercarpet"
           }
          ],
          "scattergeo": [
           {
            "marker": {
             "colorbar": {
              "outlinewidth": 0,
              "ticks": ""
             }
            },
            "type": "scattergeo"
           }
          ],
          "scattergl": [
           {
            "marker": {
             "colorbar": {
              "outlinewidth": 0,
              "ticks": ""
             }
            },
            "type": "scattergl"
           }
          ],
          "scattermapbox": [
           {
            "marker": {
             "colorbar": {
              "outlinewidth": 0,
              "ticks": ""
             }
            },
            "type": "scattermapbox"
           }
          ],
          "scatterpolar": [
           {
            "marker": {
             "colorbar": {
              "outlinewidth": 0,
              "ticks": ""
             }
            },
            "type": "scatterpolar"
           }
          ],
          "scatterpolargl": [
           {
            "marker": {
             "colorbar": {
              "outlinewidth": 0,
              "ticks": ""
             }
            },
            "type": "scatterpolargl"
           }
          ],
          "scatterternary": [
           {
            "marker": {
             "colorbar": {
              "outlinewidth": 0,
              "ticks": ""
             }
            },
            "type": "scatterternary"
           }
          ],
          "surface": [
           {
            "colorbar": {
             "outlinewidth": 0,
             "ticks": ""
            },
            "colorscale": [
             [
              0,
              "#0d0887"
             ],
             [
              0.1111111111111111,
              "#46039f"
             ],
             [
              0.2222222222222222,
              "#7201a8"
             ],
             [
              0.3333333333333333,
              "#9c179e"
             ],
             [
              0.4444444444444444,
              "#bd3786"
             ],
             [
              0.5555555555555556,
              "#d8576b"
             ],
             [
              0.6666666666666666,
              "#ed7953"
             ],
             [
              0.7777777777777778,
              "#fb9f3a"
             ],
             [
              0.8888888888888888,
              "#fdca26"
             ],
             [
              1,
              "#f0f921"
             ]
            ],
            "type": "surface"
           }
          ],
          "table": [
           {
            "cells": {
             "fill": {
              "color": "#EBF0F8"
             },
             "line": {
              "color": "white"
             }
            },
            "header": {
             "fill": {
              "color": "#C8D4E3"
             },
             "line": {
              "color": "white"
             }
            },
            "type": "table"
           }
          ]
         },
         "layout": {
          "annotationdefaults": {
           "arrowcolor": "#2a3f5f",
           "arrowhead": 0,
           "arrowwidth": 1
          },
          "autotypenumbers": "strict",
          "coloraxis": {
           "colorbar": {
            "outlinewidth": 0,
            "ticks": ""
           }
          },
          "colorscale": {
           "diverging": [
            [
             0,
             "#8e0152"
            ],
            [
             0.1,
             "#c51b7d"
            ],
            [
             0.2,
             "#de77ae"
            ],
            [
             0.3,
             "#f1b6da"
            ],
            [
             0.4,
             "#fde0ef"
            ],
            [
             0.5,
             "#f7f7f7"
            ],
            [
             0.6,
             "#e6f5d0"
            ],
            [
             0.7,
             "#b8e186"
            ],
            [
             0.8,
             "#7fbc41"
            ],
            [
             0.9,
             "#4d9221"
            ],
            [
             1,
             "#276419"
            ]
           ],
           "sequential": [
            [
             0,
             "#0d0887"
            ],
            [
             0.1111111111111111,
             "#46039f"
            ],
            [
             0.2222222222222222,
             "#7201a8"
            ],
            [
             0.3333333333333333,
             "#9c179e"
            ],
            [
             0.4444444444444444,
             "#bd3786"
            ],
            [
             0.5555555555555556,
             "#d8576b"
            ],
            [
             0.6666666666666666,
             "#ed7953"
            ],
            [
             0.7777777777777778,
             "#fb9f3a"
            ],
            [
             0.8888888888888888,
             "#fdca26"
            ],
            [
             1,
             "#f0f921"
            ]
           ],
           "sequentialminus": [
            [
             0,
             "#0d0887"
            ],
            [
             0.1111111111111111,
             "#46039f"
            ],
            [
             0.2222222222222222,
             "#7201a8"
            ],
            [
             0.3333333333333333,
             "#9c179e"
            ],
            [
             0.4444444444444444,
             "#bd3786"
            ],
            [
             0.5555555555555556,
             "#d8576b"
            ],
            [
             0.6666666666666666,
             "#ed7953"
            ],
            [
             0.7777777777777778,
             "#fb9f3a"
            ],
            [
             0.8888888888888888,
             "#fdca26"
            ],
            [
             1,
             "#f0f921"
            ]
           ]
          },
          "colorway": [
           "#636efa",
           "#EF553B",
           "#00cc96",
           "#ab63fa",
           "#FFA15A",
           "#19d3f3",
           "#FF6692",
           "#B6E880",
           "#FF97FF",
           "#FECB52"
          ],
          "font": {
           "color": "#2a3f5f"
          },
          "geo": {
           "bgcolor": "white",
           "lakecolor": "white",
           "landcolor": "#E5ECF6",
           "showlakes": true,
           "showland": true,
           "subunitcolor": "white"
          },
          "hoverlabel": {
           "align": "left"
          },
          "hovermode": "closest",
          "mapbox": {
           "style": "light"
          },
          "paper_bgcolor": "white",
          "plot_bgcolor": "#E5ECF6",
          "polar": {
           "angularaxis": {
            "gridcolor": "white",
            "linecolor": "white",
            "ticks": ""
           },
           "bgcolor": "#E5ECF6",
           "radialaxis": {
            "gridcolor": "white",
            "linecolor": "white",
            "ticks": ""
           }
          },
          "scene": {
           "xaxis": {
            "backgroundcolor": "#E5ECF6",
            "gridcolor": "white",
            "gridwidth": 2,
            "linecolor": "white",
            "showbackground": true,
            "ticks": "",
            "zerolinecolor": "white"
           },
           "yaxis": {
            "backgroundcolor": "#E5ECF6",
            "gridcolor": "white",
            "gridwidth": 2,
            "linecolor": "white",
            "showbackground": true,
            "ticks": "",
            "zerolinecolor": "white"
           },
           "zaxis": {
            "backgroundcolor": "#E5ECF6",
            "gridcolor": "white",
            "gridwidth": 2,
            "linecolor": "white",
            "showbackground": true,
            "ticks": "",
            "zerolinecolor": "white"
           }
          },
          "shapedefaults": {
           "line": {
            "color": "#2a3f5f"
           }
          },
          "ternary": {
           "aaxis": {
            "gridcolor": "white",
            "linecolor": "white",
            "ticks": ""
           },
           "baxis": {
            "gridcolor": "white",
            "linecolor": "white",
            "ticks": ""
           },
           "bgcolor": "#E5ECF6",
           "caxis": {
            "gridcolor": "white",
            "linecolor": "white",
            "ticks": ""
           }
          },
          "title": {
           "x": 0.05
          },
          "xaxis": {
           "automargin": true,
           "gridcolor": "white",
           "linecolor": "white",
           "ticks": "",
           "title": {
            "standoff": 15
           },
           "zerolinecolor": "white",
           "zerolinewidth": 2
          },
          "yaxis": {
           "automargin": true,
           "gridcolor": "white",
           "linecolor": "white",
           "ticks": "",
           "title": {
            "standoff": 15
           },
           "zerolinecolor": "white",
           "zerolinewidth": 2
          }
         }
        },
        "title": {
         "text": "<b>Overal Daily Sentiment - 18-Aug-2021</b><br>Global Media"
        },
        "width": 850,
        "xaxis": {
         "tickmode": "linear",
         "title": {
          "text": "Tickers"
         }
        },
        "yaxis": {
         "title": {
          "text": "Mentions"
         }
        }
       }
      },
      "text/html": [
       "<div>                            <div id=\"9d08bbde-46c5-4cad-a692-766cb0761aa9\" class=\"plotly-graph-div\" style=\"height:600px; width:850px;\"></div>            <script type=\"text/javascript\">                require([\"plotly\"], function(Plotly) {                    window.PLOTLYENV=window.PLOTLYENV || {};                                    if (document.getElementById(\"9d08bbde-46c5-4cad-a692-766cb0761aa9\")) {                    Plotly.newPlot(                        \"9d08bbde-46c5-4cad-a692-766cb0761aa9\",                        [{\"customdata\":[[\"Cardano\",12,7,2,3,\"4th\",\"4th\",\"3rd\",\"4th\",0.875,\"5th\"],[\"Bitcoin\",83,38,10,35,\"1st\",\"1st\",\"1st\",\"1st\",0.928,\"4th\"],[\"Dogecoin\",18,8,0,10,\"3rd\",\"3rd\",\"5th\",\"3rd\",1.222,\"2nd\"],[\"Ethereum\",36,20,5,11,\"2nd\",\"2nd\",\"2nd\",\"2nd\",0.931,\"3rd\"],[\"Litecoin\",3,1,1,1,\"5th\",\"5th\",\"4th\",\"5th\",0.333,\"6th\"],[\"Monero\",1,1,0,0,\"6th\",\"5th\",\"5th\",\"6th\",1.5,\"1st\"]],\"hovertemplate\":\"\\n    <b>%{customdata[0]} (%{x})</b><br><br>\\n    Total Mentions: %{customdata[1]:d} (%{customdata[5]})<br>\\n    Positive Mentions: %{customdata[2]:d} (%{customdata[6]})<br>\\n    Negative Mentions: %{customdata[3]:d} (%{customdata[7]})<br>\\n    Neutral Mentions: %{customdata[4]:d} (%{customdata[8]})<br>\\n    Sentiment Score: %{customdata[9]:.2f} (%{customdata[10]})<br>\\n    <extra></extra>\\n    \",\"name\":\"Positive Mentions\",\"type\":\"bar\",\"x\":[\"ADA\",\"BTC\",\"DOGE\",\"ETH\",\"LTC\",\"XMR\"],\"y\":[7,38,8,20,1,1]},{\"customdata\":[[\"Cardano\",12,7,2,3,\"4th\",\"4th\",\"3rd\",\"4th\",0.875,\"5th\"],[\"Bitcoin\",83,38,10,35,\"1st\",\"1st\",\"1st\",\"1st\",0.928,\"4th\"],[\"Dogecoin\",18,8,0,10,\"3rd\",\"3rd\",\"5th\",\"3rd\",1.222,\"2nd\"],[\"Ethereum\",36,20,5,11,\"2nd\",\"2nd\",\"2nd\",\"2nd\",0.931,\"3rd\"],[\"Litecoin\",3,1,1,1,\"5th\",\"5th\",\"4th\",\"5th\",0.333,\"6th\"],[\"Monero\",1,1,0,0,\"6th\",\"5th\",\"5th\",\"6th\",1.5,\"1st\"]],\"hovertemplate\":\"\\n    <b>%{customdata[0]} (%{x})</b><br><br>\\n    Total Mentions: %{customdata[1]:d} (%{customdata[5]})<br>\\n    Positive Mentions: %{customdata[2]:d} (%{customdata[6]})<br>\\n    Negative Mentions: %{customdata[3]:d} (%{customdata[7]})<br>\\n    Neutral Mentions: %{customdata[4]:d} (%{customdata[8]})<br>\\n    Sentiment Score: %{customdata[9]:.2f} (%{customdata[10]})<br>\\n    <extra></extra>\\n    \",\"name\":\"Negative Mentions\",\"type\":\"bar\",\"x\":[\"ADA\",\"BTC\",\"DOGE\",\"ETH\",\"LTC\",\"XMR\"],\"y\":[2,10,0,5,1,0]},{\"customdata\":[[\"Cardano\",12,7,2,3,\"4th\",\"4th\",\"3rd\",\"4th\",0.875,\"5th\"],[\"Bitcoin\",83,38,10,35,\"1st\",\"1st\",\"1st\",\"1st\",0.928,\"4th\"],[\"Dogecoin\",18,8,0,10,\"3rd\",\"3rd\",\"5th\",\"3rd\",1.222,\"2nd\"],[\"Ethereum\",36,20,5,11,\"2nd\",\"2nd\",\"2nd\",\"2nd\",0.931,\"3rd\"],[\"Litecoin\",3,1,1,1,\"5th\",\"5th\",\"4th\",\"5th\",0.333,\"6th\"],[\"Monero\",1,1,0,0,\"6th\",\"5th\",\"5th\",\"6th\",1.5,\"1st\"]],\"hovertemplate\":\"\\n    <b>%{customdata[0]} (%{x})</b><br><br>\\n    Total Mentions: %{customdata[1]:d} (%{customdata[5]})<br>\\n    Positive Mentions: %{customdata[2]:d} (%{customdata[6]})<br>\\n    Negative Mentions: %{customdata[3]:d} (%{customdata[7]})<br>\\n    Neutral Mentions: %{customdata[4]:d} (%{customdata[8]})<br>\\n    Sentiment Score: %{customdata[9]:.2f} (%{customdata[10]})<br>\\n    <extra></extra>\\n    \",\"name\":\"Neutral Mentions\",\"type\":\"bar\",\"x\":[\"ADA\",\"BTC\",\"DOGE\",\"ETH\",\"LTC\",\"XMR\"],\"y\":[3,35,10,11,1,0]}],                        {\"barmode\":\"stack\",\"height\":600,\"legend\":{\"x\":0.75,\"xanchor\":\"left\",\"y\":0.99,\"yanchor\":\"top\"},\"margin\":{\"b\":100,\"l\":50,\"pad\":4,\"r\":50,\"t\":65},\"template\":{\"data\":{\"bar\":[{\"error_x\":{\"color\":\"#2a3f5f\"},\"error_y\":{\"color\":\"#2a3f5f\"},\"marker\":{\"line\":{\"color\":\"#E5ECF6\",\"width\":0.5},\"pattern\":{\"fillmode\":\"overlay\",\"size\":10,\"solidity\":0.2}},\"type\":\"bar\"}],\"barpolar\":[{\"marker\":{\"line\":{\"color\":\"#E5ECF6\",\"width\":0.5},\"pattern\":{\"fillmode\":\"overlay\",\"size\":10,\"solidity\":0.2}},\"type\":\"barpolar\"}],\"carpet\":[{\"aaxis\":{\"endlinecolor\":\"#2a3f5f\",\"gridcolor\":\"white\",\"linecolor\":\"white\",\"minorgridcolor\":\"white\",\"startlinecolor\":\"#2a3f5f\"},\"baxis\":{\"endlinecolor\":\"#2a3f5f\",\"gridcolor\":\"white\",\"linecolor\":\"white\",\"minorgridcolor\":\"white\",\"startlinecolor\":\"#2a3f5f\"},\"type\":\"carpet\"}],\"choropleth\":[{\"colorbar\":{\"outlinewidth\":0,\"ticks\":\"\"},\"type\":\"choropleth\"}],\"contour\":[{\"colorbar\":{\"outlinewidth\":0,\"ticks\":\"\"},\"colorscale\":[[0.0,\"#0d0887\"],[0.1111111111111111,\"#46039f\"],[0.2222222222222222,\"#7201a8\"],[0.3333333333333333,\"#9c179e\"],[0.4444444444444444,\"#bd3786\"],[0.5555555555555556,\"#d8576b\"],[0.6666666666666666,\"#ed7953\"],[0.7777777777777778,\"#fb9f3a\"],[0.8888888888888888,\"#fdca26\"],[1.0,\"#f0f921\"]],\"type\":\"contour\"}],\"contourcarpet\":[{\"colorbar\":{\"outlinewidth\":0,\"ticks\":\"\"},\"type\":\"contourcarpet\"}],\"heatmap\":[{\"colorbar\":{\"outlinewidth\":0,\"ticks\":\"\"},\"colorscale\":[[0.0,\"#0d0887\"],[0.1111111111111111,\"#46039f\"],[0.2222222222222222,\"#7201a8\"],[0.3333333333333333,\"#9c179e\"],[0.4444444444444444,\"#bd3786\"],[0.5555555555555556,\"#d8576b\"],[0.6666666666666666,\"#ed7953\"],[0.7777777777777778,\"#fb9f3a\"],[0.8888888888888888,\"#fdca26\"],[1.0,\"#f0f921\"]],\"type\":\"heatmap\"}],\"heatmapgl\":[{\"colorbar\":{\"outlinewidth\":0,\"ticks\":\"\"},\"colorscale\":[[0.0,\"#0d0887\"],[0.1111111111111111,\"#46039f\"],[0.2222222222222222,\"#7201a8\"],[0.3333333333333333,\"#9c179e\"],[0.4444444444444444,\"#bd3786\"],[0.5555555555555556,\"#d8576b\"],[0.6666666666666666,\"#ed7953\"],[0.7777777777777778,\"#fb9f3a\"],[0.8888888888888888,\"#fdca26\"],[1.0,\"#f0f921\"]],\"type\":\"heatmapgl\"}],\"histogram\":[{\"marker\":{\"pattern\":{\"fillmode\":\"overlay\",\"size\":10,\"solidity\":0.2}},\"type\":\"histogram\"}],\"histogram2d\":[{\"colorbar\":{\"outlinewidth\":0,\"ticks\":\"\"},\"colorscale\":[[0.0,\"#0d0887\"],[0.1111111111111111,\"#46039f\"],[0.2222222222222222,\"#7201a8\"],[0.3333333333333333,\"#9c179e\"],[0.4444444444444444,\"#bd3786\"],[0.5555555555555556,\"#d8576b\"],[0.6666666666666666,\"#ed7953\"],[0.7777777777777778,\"#fb9f3a\"],[0.8888888888888888,\"#fdca26\"],[1.0,\"#f0f921\"]],\"type\":\"histogram2d\"}],\"histogram2dcontour\":[{\"colorbar\":{\"outlinewidth\":0,\"ticks\":\"\"},\"colorscale\":[[0.0,\"#0d0887\"],[0.1111111111111111,\"#46039f\"],[0.2222222222222222,\"#7201a8\"],[0.3333333333333333,\"#9c179e\"],[0.4444444444444444,\"#bd3786\"],[0.5555555555555556,\"#d8576b\"],[0.6666666666666666,\"#ed7953\"],[0.7777777777777778,\"#fb9f3a\"],[0.8888888888888888,\"#fdca26\"],[1.0,\"#f0f921\"]],\"type\":\"histogram2dcontour\"}],\"mesh3d\":[{\"colorbar\":{\"outlinewidth\":0,\"ticks\":\"\"},\"type\":\"mesh3d\"}],\"parcoords\":[{\"line\":{\"colorbar\":{\"outlinewidth\":0,\"ticks\":\"\"}},\"type\":\"parcoords\"}],\"pie\":[{\"automargin\":true,\"type\":\"pie\"}],\"scatter\":[{\"marker\":{\"colorbar\":{\"outlinewidth\":0,\"ticks\":\"\"}},\"type\":\"scatter\"}],\"scatter3d\":[{\"line\":{\"colorbar\":{\"outlinewidth\":0,\"ticks\":\"\"}},\"marker\":{\"colorbar\":{\"outlinewidth\":0,\"ticks\":\"\"}},\"type\":\"scatter3d\"}],\"scattercarpet\":[{\"marker\":{\"colorbar\":{\"outlinewidth\":0,\"ticks\":\"\"}},\"type\":\"scattercarpet\"}],\"scattergeo\":[{\"marker\":{\"colorbar\":{\"outlinewidth\":0,\"ticks\":\"\"}},\"type\":\"scattergeo\"}],\"scattergl\":[{\"marker\":{\"colorbar\":{\"outlinewidth\":0,\"ticks\":\"\"}},\"type\":\"scattergl\"}],\"scattermapbox\":[{\"marker\":{\"colorbar\":{\"outlinewidth\":0,\"ticks\":\"\"}},\"type\":\"scattermapbox\"}],\"scatterpolar\":[{\"marker\":{\"colorbar\":{\"outlinewidth\":0,\"ticks\":\"\"}},\"type\":\"scatterpolar\"}],\"scatterpolargl\":[{\"marker\":{\"colorbar\":{\"outlinewidth\":0,\"ticks\":\"\"}},\"type\":\"scatterpolargl\"}],\"scatterternary\":[{\"marker\":{\"colorbar\":{\"outlinewidth\":0,\"ticks\":\"\"}},\"type\":\"scatterternary\"}],\"surface\":[{\"colorbar\":{\"outlinewidth\":0,\"ticks\":\"\"},\"colorscale\":[[0.0,\"#0d0887\"],[0.1111111111111111,\"#46039f\"],[0.2222222222222222,\"#7201a8\"],[0.3333333333333333,\"#9c179e\"],[0.4444444444444444,\"#bd3786\"],[0.5555555555555556,\"#d8576b\"],[0.6666666666666666,\"#ed7953\"],[0.7777777777777778,\"#fb9f3a\"],[0.8888888888888888,\"#fdca26\"],[1.0,\"#f0f921\"]],\"type\":\"surface\"}],\"table\":[{\"cells\":{\"fill\":{\"color\":\"#EBF0F8\"},\"line\":{\"color\":\"white\"}},\"header\":{\"fill\":{\"color\":\"#C8D4E3\"},\"line\":{\"color\":\"white\"}},\"type\":\"table\"}]},\"layout\":{\"annotationdefaults\":{\"arrowcolor\":\"#2a3f5f\",\"arrowhead\":0,\"arrowwidth\":1},\"autotypenumbers\":\"strict\",\"coloraxis\":{\"colorbar\":{\"outlinewidth\":0,\"ticks\":\"\"}},\"colorscale\":{\"diverging\":[[0,\"#8e0152\"],[0.1,\"#c51b7d\"],[0.2,\"#de77ae\"],[0.3,\"#f1b6da\"],[0.4,\"#fde0ef\"],[0.5,\"#f7f7f7\"],[0.6,\"#e6f5d0\"],[0.7,\"#b8e186\"],[0.8,\"#7fbc41\"],[0.9,\"#4d9221\"],[1,\"#276419\"]],\"sequential\":[[0.0,\"#0d0887\"],[0.1111111111111111,\"#46039f\"],[0.2222222222222222,\"#7201a8\"],[0.3333333333333333,\"#9c179e\"],[0.4444444444444444,\"#bd3786\"],[0.5555555555555556,\"#d8576b\"],[0.6666666666666666,\"#ed7953\"],[0.7777777777777778,\"#fb9f3a\"],[0.8888888888888888,\"#fdca26\"],[1.0,\"#f0f921\"]],\"sequentialminus\":[[0.0,\"#0d0887\"],[0.1111111111111111,\"#46039f\"],[0.2222222222222222,\"#7201a8\"],[0.3333333333333333,\"#9c179e\"],[0.4444444444444444,\"#bd3786\"],[0.5555555555555556,\"#d8576b\"],[0.6666666666666666,\"#ed7953\"],[0.7777777777777778,\"#fb9f3a\"],[0.8888888888888888,\"#fdca26\"],[1.0,\"#f0f921\"]]},\"colorway\":[\"#636efa\",\"#EF553B\",\"#00cc96\",\"#ab63fa\",\"#FFA15A\",\"#19d3f3\",\"#FF6692\",\"#B6E880\",\"#FF97FF\",\"#FECB52\"],\"font\":{\"color\":\"#2a3f5f\"},\"geo\":{\"bgcolor\":\"white\",\"lakecolor\":\"white\",\"landcolor\":\"#E5ECF6\",\"showlakes\":true,\"showland\":true,\"subunitcolor\":\"white\"},\"hoverlabel\":{\"align\":\"left\"},\"hovermode\":\"closest\",\"mapbox\":{\"style\":\"light\"},\"paper_bgcolor\":\"white\",\"plot_bgcolor\":\"#E5ECF6\",\"polar\":{\"angularaxis\":{\"gridcolor\":\"white\",\"linecolor\":\"white\",\"ticks\":\"\"},\"bgcolor\":\"#E5ECF6\",\"radialaxis\":{\"gridcolor\":\"white\",\"linecolor\":\"white\",\"ticks\":\"\"}},\"scene\":{\"xaxis\":{\"backgroundcolor\":\"#E5ECF6\",\"gridcolor\":\"white\",\"gridwidth\":2,\"linecolor\":\"white\",\"showbackground\":true,\"ticks\":\"\",\"zerolinecolor\":\"white\"},\"yaxis\":{\"backgroundcolor\":\"#E5ECF6\",\"gridcolor\":\"white\",\"gridwidth\":2,\"linecolor\":\"white\",\"showbackground\":true,\"ticks\":\"\",\"zerolinecolor\":\"white\"},\"zaxis\":{\"backgroundcolor\":\"#E5ECF6\",\"gridcolor\":\"white\",\"gridwidth\":2,\"linecolor\":\"white\",\"showbackground\":true,\"ticks\":\"\",\"zerolinecolor\":\"white\"}},\"shapedefaults\":{\"line\":{\"color\":\"#2a3f5f\"}},\"ternary\":{\"aaxis\":{\"gridcolor\":\"white\",\"linecolor\":\"white\",\"ticks\":\"\"},\"baxis\":{\"gridcolor\":\"white\",\"linecolor\":\"white\",\"ticks\":\"\"},\"bgcolor\":\"#E5ECF6\",\"caxis\":{\"gridcolor\":\"white\",\"linecolor\":\"white\",\"ticks\":\"\"}},\"title\":{\"x\":0.05},\"xaxis\":{\"automargin\":true,\"gridcolor\":\"white\",\"linecolor\":\"white\",\"ticks\":\"\",\"title\":{\"standoff\":15},\"zerolinecolor\":\"white\",\"zerolinewidth\":2},\"yaxis\":{\"automargin\":true,\"gridcolor\":\"white\",\"linecolor\":\"white\",\"ticks\":\"\",\"title\":{\"standoff\":15},\"zerolinecolor\":\"white\",\"zerolinewidth\":2}}},\"title\":{\"text\":\"<b>Overal Daily Sentiment - 18-Aug-2021</b><br>Global Media\"},\"width\":850,\"xaxis\":{\"tickmode\":\"linear\",\"title\":{\"text\":\"Tickers\"}},\"yaxis\":{\"title\":{\"text\":\"Mentions\"}}},                        {\"responsive\": true}                    ).then(function(){\n",
       "                            \n",
       "var gd = document.getElementById('9d08bbde-46c5-4cad-a692-766cb0761aa9');\n",
       "var x = new MutationObserver(function (mutations, observer) {{\n",
       "        var display = window.getComputedStyle(gd).display;\n",
       "        if (!display || display === 'none') {{\n",
       "            console.log([gd, 'removed!']);\n",
       "            Plotly.purge(gd);\n",
       "            observer.disconnect();\n",
       "        }}\n",
       "}});\n",
       "\n",
       "// Listen for the removal of the full notebook cells\n",
       "var notebookContainer = gd.closest('#notebook-container');\n",
       "if (notebookContainer) {{\n",
       "    x.observe(notebookContainer, {childList: true});\n",
       "}}\n",
       "\n",
       "// Listen for the clearing of the current output cell\n",
       "var outputEl = gd.closest('.output');\n",
       "if (outputEl) {{\n",
       "    x.observe(outputEl, {childList: true});\n",
       "}}\n",
       "\n",
       "                        })                };                });            </script>        </div>"
      ]
     },
     "metadata": {},
     "output_type": "display_data"
    }
   ],
   "source": [
    "file_path    = r\".\\data\\ticker-top-mention_20210818.csv\"\n",
    "df_mentions  = pd.read_csv(file_path)\n",
    "fig_mentions = mentions_bar(df_mentions, tickers=tickers)\n",
    "\n",
    "fig_mentions.show()\n"
   ]
  },
  {
   "cell_type": "code",
   "execution_count": 16,
   "id": "50436d5c",
   "metadata": {
    "scrolled": false
   },
   "outputs": [
    {
     "data": {
      "application/vnd.plotly.v1+json": {
       "config": {
        "plotlyServerURL": "https://plot.ly"
       },
       "data": [
        {
         "customdata": [
          [
           "2021-08-12",
           17,
           10,
           2,
           5,
           "23rd",
           "21st",
           "17th",
           "23rd",
           145,
           93,
           15,
           37,
           "18th",
           "18th",
           "18th",
           "25th"
          ],
          [
           "2021-08-13",
           39,
           33,
           0,
           6,
           "10th",
           "6th",
           "34th",
           "19th",
           145,
           93,
           15,
           37,
           "18th",
           "18th",
           "18th",
           "25th"
          ],
          [
           "2021-08-14",
           26,
           16,
           1,
           9,
           "15th",
           "16th",
           "23rd",
           "15th",
           145,
           93,
           15,
           37,
           "18th",
           "18th",
           "18th",
           "25th"
          ],
          [
           "2021-08-15",
           10,
           8,
           0,
           2,
           "27th",
           "23rd",
           "34th",
           "30th",
           145,
           93,
           15,
           37,
           "18th",
           "18th",
           "18th",
           "25th"
          ],
          [
           "2021-08-16",
           22,
           8,
           7,
           7,
           "17th",
           "23rd",
           "8th",
           "17th",
           145,
           93,
           15,
           37,
           "18th",
           "18th",
           "18th",
           "25th"
          ],
          [
           "2021-08-17",
           19,
           11,
           3,
           5,
           "20th",
           "19th",
           "14th",
           "23rd",
           145,
           93,
           15,
           37,
           "18th",
           "18th",
           "18th",
           "25th"
          ],
          [
           "2021-08-18",
           12,
           7,
           2,
           3,
           "26th",
           "25th",
           "17th",
           "27th",
           145,
           93,
           15,
           37,
           "18th",
           "18th",
           "18th",
           "25th"
          ],
          [
           "2021-08-12",
           90,
           46,
           21,
           23,
           "1st",
           "1st",
           "1st",
           "5th",
           477,
           235,
           76,
           166,
           "4th",
           "4th",
           "4th",
           "4th"
          ],
          [
           "2021-08-13",
           85,
           36,
           10,
           39,
           "2nd",
           "4th",
           "5th",
           "1st",
           477,
           235,
           76,
           166,
           "4th",
           "4th",
           "4th",
           "4th"
          ],
          [
           "2021-08-14",
           37,
           25,
           3,
           9,
           "12th",
           "9th",
           "14th",
           "15th",
           477,
           235,
           76,
           166,
           "4th",
           "4th",
           "4th",
           "4th"
          ],
          [
           "2021-08-15",
           35,
           19,
           1,
           15,
           "14th",
           "13th",
           "23rd",
           "8th",
           477,
           235,
           76,
           166,
           "4th",
           "4th",
           "4th",
           "4th"
          ],
          [
           "2021-08-16",
           70,
           35,
           14,
           21,
           "5th",
           "5th",
           "3rd",
           "7th",
           477,
           235,
           76,
           166,
           "4th",
           "4th",
           "4th",
           "4th"
          ],
          [
           "2021-08-17",
           80,
           37,
           17,
           26,
           "3rd",
           "2nd",
           "2nd",
           "3rd",
           477,
           235,
           76,
           166,
           "4th",
           "4th",
           "4th",
           "4th"
          ],
          [
           "2021-08-18",
           80,
           37,
           10,
           33,
           "3rd",
           "2nd",
           "5th",
           "2nd",
           477,
           235,
           76,
           166,
           "4th",
           "4th",
           "4th",
           "4th"
          ],
          [
           "2021-08-12",
           10,
           6,
           1,
           3,
           "27th",
           "27th",
           "23rd",
           "27th",
           143,
           91,
           6,
           46,
           "25th",
           "25th",
           "27th",
           "18th"
          ],
          [
           "2021-08-13",
           13,
           5,
           3,
           5,
           "25th",
           "28th",
           "14th",
           "23rd",
           143,
           91,
           6,
           46,
           "25th",
           "25th",
           "27th",
           "18th"
          ],
          [
           "2021-08-14",
           16,
           11,
           0,
           5,
           "24th",
           "19th",
           "34th",
           "23rd",
           143,
           91,
           6,
           46,
           "25th",
           "25th",
           "27th",
           "18th"
          ],
          [
           "2021-08-15",
           21,
           16,
           0,
           5,
           "18th",
           "16th",
           "34th",
           "23rd",
           143,
           91,
           6,
           46,
           "25th",
           "25th",
           "27th",
           "18th"
          ],
          [
           "2021-08-16",
           40,
           28,
           1,
           11,
           "9th",
           "8th",
           "23rd",
           "11th",
           143,
           91,
           6,
           46,
           "25th",
           "25th",
           "27th",
           "18th"
          ],
          [
           "2021-08-17",
           25,
           17,
           1,
           7,
           "16th",
           "14th",
           "23rd",
           "17th",
           143,
           91,
           6,
           46,
           "25th",
           "25th",
           "27th",
           "18th"
          ],
          [
           "2021-08-18",
           18,
           8,
           0,
           10,
           "22nd",
           "23rd",
           "34th",
           "13th",
           143,
           91,
           6,
           46,
           "25th",
           "25th",
           "27th",
           "18th"
          ],
          [
           "2021-08-12",
           56,
           24,
           9,
           23,
           "7th",
           "10th",
           "7th",
           "5th",
           269,
           131,
           38,
           100,
           "11th",
           "11th",
           "11th",
           "11th"
          ],
          [
           "2021-08-13",
           38,
           17,
           7,
           14,
           "11th",
           "14th",
           "8th",
           "9th",
           269,
           131,
           38,
           100,
           "11th",
           "11th",
           "11th",
           "11th"
          ],
          [
           "2021-08-14",
           19,
           13,
           0,
           6,
           "20th",
           "18th",
           "34th",
           "19th",
           269,
           131,
           38,
           100,
           "11th",
           "11th",
           "11th",
           "11th"
          ],
          [
           "2021-08-15",
           19,
           7,
           2,
           10,
           "20th",
           "25th",
           "17th",
           "13th",
           269,
           131,
           38,
           100,
           "11th",
           "11th",
           "11th",
           "11th"
          ],
          [
           "2021-08-16",
           57,
           29,
           5,
           23,
           "6th",
           "7th",
           "10th",
           "5th",
           269,
           131,
           38,
           100,
           "11th",
           "11th",
           "11th",
           "11th"
          ],
          [
           "2021-08-17",
           44,
           21,
           10,
           13,
           "8th",
           "11th",
           "5th",
           "10th",
           269,
           131,
           38,
           100,
           "11th",
           "11th",
           "11th",
           "11th"
          ],
          [
           "2021-08-18",
           36,
           20,
           5,
           11,
           "13th",
           "12th",
           "10th",
           "11th",
           269,
           131,
           38,
           100,
           "11th",
           "11th",
           "11th",
           "11th"
          ],
          [
           "2021-08-12",
           3,
           0,
           0,
           3,
           "34th",
           "37th",
           "34th",
           "27th",
           23,
           10,
           3,
           10,
           "32nd",
           "32nd",
           "37th",
           "32nd"
          ],
          [
           "2021-08-13",
           5,
           3,
           0,
           2,
           "29th",
           "29th",
           "34th",
           "30th",
           23,
           10,
           3,
           10,
           "32nd",
           "32nd",
           "37th",
           "32nd"
          ],
          [
           "2021-08-14",
           4,
           3,
           0,
           1,
           "30th",
           "29th",
           "34th",
           "34th",
           23,
           10,
           3,
           10,
           "32nd",
           "32nd",
           "37th",
           "32nd"
          ],
          [
           "2021-08-15",
           3,
           0,
           1,
           2,
           "34th",
           "37th",
           "23rd",
           "30th",
           23,
           10,
           3,
           10,
           "32nd",
           "32nd",
           "37th",
           "32nd"
          ],
          [
           "2021-08-16",
           3,
           2,
           0,
           1,
           "34th",
           "31st",
           "34th",
           "34th",
           23,
           10,
           3,
           10,
           "32nd",
           "32nd",
           "37th",
           "32nd"
          ],
          [
           "2021-08-17",
           2,
           1,
           1,
           0,
           "37th",
           "33rd",
           "23rd",
           "39th",
           23,
           10,
           3,
           10,
           "32nd",
           "32nd",
           "37th",
           "32nd"
          ],
          [
           "2021-08-18",
           3,
           1,
           1,
           1,
           "34th",
           "33rd",
           "23rd",
           "34th",
           23,
           10,
           3,
           10,
           "32nd",
           "32nd",
           "37th",
           "32nd"
          ],
          [
           "2021-08-12",
           1,
           0,
           0,
           1,
           "39th",
           "37th",
           "34th",
           "34th",
           10,
           1,
           6,
           3,
           "38th",
           "38th",
           "27th",
           "38th"
          ],
          [
           "2021-08-15",
           1,
           0,
           0,
           1,
           "39th",
           "37th",
           "34th",
           "34th",
           10,
           1,
           6,
           3,
           "38th",
           "38th",
           "27th",
           "38th"
          ],
          [
           "2021-08-16",
           3,
           0,
           2,
           1,
           "34th",
           "37th",
           "17th",
           "34th",
           10,
           1,
           6,
           3,
           "38th",
           "38th",
           "27th",
           "38th"
          ],
          [
           "2021-08-17",
           4,
           0,
           4,
           0,
           "30th",
           "37th",
           "12th",
           "39th",
           10,
           1,
           6,
           3,
           "38th",
           "38th",
           "27th",
           "38th"
          ],
          [
           "2021-08-18",
           1,
           1,
           0,
           0,
           "39th",
           "33rd",
           "34th",
           "39th",
           10,
           1,
           6,
           3,
           "38th",
           "38th",
           "27th",
           "38th"
          ]
         ],
         "hovertemplate": "\n    <b>%{x}</b><br><br>\n    <b>%{customdata[0]}:</b><br>\n    Mentions: %{customdata[1]:d} (%{customdata[5]})<br>\n    Positive Mentions: %{customdata[2]:d} (%{customdata[6]})<br>\n    Negative Mentions: %{customdata[3]:d} (%{customdata[7]})<br>\n    Neutral Mentions: %{customdata[4]:d} (%{customdata[8]})<br><br>\n    <b>Total:</b><br>\n    Total Mentions: %{customdata[9]:d} (%{customdata[13]})<br>\n    Positive Mentions: %{customdata[10]:d} (%{customdata[14]})<br>\n    Negative Mentions: %{customdata[11]:d} (%{customdata[15]})<br>\n    Neutral Mentions: %{customdata[12]:d} (%{customdata[16]})<br>\n    <extra></extra>\n    ",
         "name": "Positive Mentions",
         "type": "bar",
         "x": [
          "ADA",
          "ADA",
          "ADA",
          "ADA",
          "ADA",
          "ADA",
          "ADA",
          "BTC",
          "BTC",
          "BTC",
          "BTC",
          "BTC",
          "BTC",
          "BTC",
          "DOGE",
          "DOGE",
          "DOGE",
          "DOGE",
          "DOGE",
          "DOGE",
          "DOGE",
          "ETH",
          "ETH",
          "ETH",
          "ETH",
          "ETH",
          "ETH",
          "ETH",
          "LTC",
          "LTC",
          "LTC",
          "LTC",
          "LTC",
          "LTC",
          "LTC",
          "XMR",
          "XMR",
          "XMR",
          "XMR",
          "XMR"
         ],
         "y": [
          93,
          93,
          93,
          93,
          93,
          93,
          93,
          235,
          235,
          235,
          235,
          235,
          235,
          235,
          91,
          91,
          91,
          91,
          91,
          91,
          91,
          131,
          131,
          131,
          131,
          131,
          131,
          131,
          10,
          10,
          10,
          10,
          10,
          10,
          10,
          1,
          1,
          1,
          1,
          1
         ]
        },
        {
         "customdata": [
          [
           "2021-08-12",
           17,
           10,
           2,
           5,
           "23rd",
           "21st",
           "17th",
           "23rd",
           145,
           93,
           15,
           37,
           "18th",
           "18th",
           "18th",
           "25th"
          ],
          [
           "2021-08-13",
           39,
           33,
           0,
           6,
           "10th",
           "6th",
           "34th",
           "19th",
           145,
           93,
           15,
           37,
           "18th",
           "18th",
           "18th",
           "25th"
          ],
          [
           "2021-08-14",
           26,
           16,
           1,
           9,
           "15th",
           "16th",
           "23rd",
           "15th",
           145,
           93,
           15,
           37,
           "18th",
           "18th",
           "18th",
           "25th"
          ],
          [
           "2021-08-15",
           10,
           8,
           0,
           2,
           "27th",
           "23rd",
           "34th",
           "30th",
           145,
           93,
           15,
           37,
           "18th",
           "18th",
           "18th",
           "25th"
          ],
          [
           "2021-08-16",
           22,
           8,
           7,
           7,
           "17th",
           "23rd",
           "8th",
           "17th",
           145,
           93,
           15,
           37,
           "18th",
           "18th",
           "18th",
           "25th"
          ],
          [
           "2021-08-17",
           19,
           11,
           3,
           5,
           "20th",
           "19th",
           "14th",
           "23rd",
           145,
           93,
           15,
           37,
           "18th",
           "18th",
           "18th",
           "25th"
          ],
          [
           "2021-08-18",
           12,
           7,
           2,
           3,
           "26th",
           "25th",
           "17th",
           "27th",
           145,
           93,
           15,
           37,
           "18th",
           "18th",
           "18th",
           "25th"
          ],
          [
           "2021-08-12",
           90,
           46,
           21,
           23,
           "1st",
           "1st",
           "1st",
           "5th",
           477,
           235,
           76,
           166,
           "4th",
           "4th",
           "4th",
           "4th"
          ],
          [
           "2021-08-13",
           85,
           36,
           10,
           39,
           "2nd",
           "4th",
           "5th",
           "1st",
           477,
           235,
           76,
           166,
           "4th",
           "4th",
           "4th",
           "4th"
          ],
          [
           "2021-08-14",
           37,
           25,
           3,
           9,
           "12th",
           "9th",
           "14th",
           "15th",
           477,
           235,
           76,
           166,
           "4th",
           "4th",
           "4th",
           "4th"
          ],
          [
           "2021-08-15",
           35,
           19,
           1,
           15,
           "14th",
           "13th",
           "23rd",
           "8th",
           477,
           235,
           76,
           166,
           "4th",
           "4th",
           "4th",
           "4th"
          ],
          [
           "2021-08-16",
           70,
           35,
           14,
           21,
           "5th",
           "5th",
           "3rd",
           "7th",
           477,
           235,
           76,
           166,
           "4th",
           "4th",
           "4th",
           "4th"
          ],
          [
           "2021-08-17",
           80,
           37,
           17,
           26,
           "3rd",
           "2nd",
           "2nd",
           "3rd",
           477,
           235,
           76,
           166,
           "4th",
           "4th",
           "4th",
           "4th"
          ],
          [
           "2021-08-18",
           80,
           37,
           10,
           33,
           "3rd",
           "2nd",
           "5th",
           "2nd",
           477,
           235,
           76,
           166,
           "4th",
           "4th",
           "4th",
           "4th"
          ],
          [
           "2021-08-12",
           10,
           6,
           1,
           3,
           "27th",
           "27th",
           "23rd",
           "27th",
           143,
           91,
           6,
           46,
           "25th",
           "25th",
           "27th",
           "18th"
          ],
          [
           "2021-08-13",
           13,
           5,
           3,
           5,
           "25th",
           "28th",
           "14th",
           "23rd",
           143,
           91,
           6,
           46,
           "25th",
           "25th",
           "27th",
           "18th"
          ],
          [
           "2021-08-14",
           16,
           11,
           0,
           5,
           "24th",
           "19th",
           "34th",
           "23rd",
           143,
           91,
           6,
           46,
           "25th",
           "25th",
           "27th",
           "18th"
          ],
          [
           "2021-08-15",
           21,
           16,
           0,
           5,
           "18th",
           "16th",
           "34th",
           "23rd",
           143,
           91,
           6,
           46,
           "25th",
           "25th",
           "27th",
           "18th"
          ],
          [
           "2021-08-16",
           40,
           28,
           1,
           11,
           "9th",
           "8th",
           "23rd",
           "11th",
           143,
           91,
           6,
           46,
           "25th",
           "25th",
           "27th",
           "18th"
          ],
          [
           "2021-08-17",
           25,
           17,
           1,
           7,
           "16th",
           "14th",
           "23rd",
           "17th",
           143,
           91,
           6,
           46,
           "25th",
           "25th",
           "27th",
           "18th"
          ],
          [
           "2021-08-18",
           18,
           8,
           0,
           10,
           "22nd",
           "23rd",
           "34th",
           "13th",
           143,
           91,
           6,
           46,
           "25th",
           "25th",
           "27th",
           "18th"
          ],
          [
           "2021-08-12",
           56,
           24,
           9,
           23,
           "7th",
           "10th",
           "7th",
           "5th",
           269,
           131,
           38,
           100,
           "11th",
           "11th",
           "11th",
           "11th"
          ],
          [
           "2021-08-13",
           38,
           17,
           7,
           14,
           "11th",
           "14th",
           "8th",
           "9th",
           269,
           131,
           38,
           100,
           "11th",
           "11th",
           "11th",
           "11th"
          ],
          [
           "2021-08-14",
           19,
           13,
           0,
           6,
           "20th",
           "18th",
           "34th",
           "19th",
           269,
           131,
           38,
           100,
           "11th",
           "11th",
           "11th",
           "11th"
          ],
          [
           "2021-08-15",
           19,
           7,
           2,
           10,
           "20th",
           "25th",
           "17th",
           "13th",
           269,
           131,
           38,
           100,
           "11th",
           "11th",
           "11th",
           "11th"
          ],
          [
           "2021-08-16",
           57,
           29,
           5,
           23,
           "6th",
           "7th",
           "10th",
           "5th",
           269,
           131,
           38,
           100,
           "11th",
           "11th",
           "11th",
           "11th"
          ],
          [
           "2021-08-17",
           44,
           21,
           10,
           13,
           "8th",
           "11th",
           "5th",
           "10th",
           269,
           131,
           38,
           100,
           "11th",
           "11th",
           "11th",
           "11th"
          ],
          [
           "2021-08-18",
           36,
           20,
           5,
           11,
           "13th",
           "12th",
           "10th",
           "11th",
           269,
           131,
           38,
           100,
           "11th",
           "11th",
           "11th",
           "11th"
          ],
          [
           "2021-08-12",
           3,
           0,
           0,
           3,
           "34th",
           "37th",
           "34th",
           "27th",
           23,
           10,
           3,
           10,
           "32nd",
           "32nd",
           "37th",
           "32nd"
          ],
          [
           "2021-08-13",
           5,
           3,
           0,
           2,
           "29th",
           "29th",
           "34th",
           "30th",
           23,
           10,
           3,
           10,
           "32nd",
           "32nd",
           "37th",
           "32nd"
          ],
          [
           "2021-08-14",
           4,
           3,
           0,
           1,
           "30th",
           "29th",
           "34th",
           "34th",
           23,
           10,
           3,
           10,
           "32nd",
           "32nd",
           "37th",
           "32nd"
          ],
          [
           "2021-08-15",
           3,
           0,
           1,
           2,
           "34th",
           "37th",
           "23rd",
           "30th",
           23,
           10,
           3,
           10,
           "32nd",
           "32nd",
           "37th",
           "32nd"
          ],
          [
           "2021-08-16",
           3,
           2,
           0,
           1,
           "34th",
           "31st",
           "34th",
           "34th",
           23,
           10,
           3,
           10,
           "32nd",
           "32nd",
           "37th",
           "32nd"
          ],
          [
           "2021-08-17",
           2,
           1,
           1,
           0,
           "37th",
           "33rd",
           "23rd",
           "39th",
           23,
           10,
           3,
           10,
           "32nd",
           "32nd",
           "37th",
           "32nd"
          ],
          [
           "2021-08-18",
           3,
           1,
           1,
           1,
           "34th",
           "33rd",
           "23rd",
           "34th",
           23,
           10,
           3,
           10,
           "32nd",
           "32nd",
           "37th",
           "32nd"
          ],
          [
           "2021-08-12",
           1,
           0,
           0,
           1,
           "39th",
           "37th",
           "34th",
           "34th",
           10,
           1,
           6,
           3,
           "38th",
           "38th",
           "27th",
           "38th"
          ],
          [
           "2021-08-15",
           1,
           0,
           0,
           1,
           "39th",
           "37th",
           "34th",
           "34th",
           10,
           1,
           6,
           3,
           "38th",
           "38th",
           "27th",
           "38th"
          ],
          [
           "2021-08-16",
           3,
           0,
           2,
           1,
           "34th",
           "37th",
           "17th",
           "34th",
           10,
           1,
           6,
           3,
           "38th",
           "38th",
           "27th",
           "38th"
          ],
          [
           "2021-08-17",
           4,
           0,
           4,
           0,
           "30th",
           "37th",
           "12th",
           "39th",
           10,
           1,
           6,
           3,
           "38th",
           "38th",
           "27th",
           "38th"
          ],
          [
           "2021-08-18",
           1,
           1,
           0,
           0,
           "39th",
           "33rd",
           "34th",
           "39th",
           10,
           1,
           6,
           3,
           "38th",
           "38th",
           "27th",
           "38th"
          ]
         ],
         "hovertemplate": "\n    <b>%{x}</b><br><br>\n    <b>%{customdata[0]}:</b><br>\n    Mentions: %{customdata[1]:d} (%{customdata[5]})<br>\n    Positive Mentions: %{customdata[2]:d} (%{customdata[6]})<br>\n    Negative Mentions: %{customdata[3]:d} (%{customdata[7]})<br>\n    Neutral Mentions: %{customdata[4]:d} (%{customdata[8]})<br><br>\n    <b>Total:</b><br>\n    Total Mentions: %{customdata[9]:d} (%{customdata[13]})<br>\n    Positive Mentions: %{customdata[10]:d} (%{customdata[14]})<br>\n    Negative Mentions: %{customdata[11]:d} (%{customdata[15]})<br>\n    Neutral Mentions: %{customdata[12]:d} (%{customdata[16]})<br>\n    <extra></extra>\n    ",
         "name": "Negative Mentions",
         "type": "bar",
         "x": [
          "ADA",
          "ADA",
          "ADA",
          "ADA",
          "ADA",
          "ADA",
          "ADA",
          "BTC",
          "BTC",
          "BTC",
          "BTC",
          "BTC",
          "BTC",
          "BTC",
          "DOGE",
          "DOGE",
          "DOGE",
          "DOGE",
          "DOGE",
          "DOGE",
          "DOGE",
          "ETH",
          "ETH",
          "ETH",
          "ETH",
          "ETH",
          "ETH",
          "ETH",
          "LTC",
          "LTC",
          "LTC",
          "LTC",
          "LTC",
          "LTC",
          "LTC",
          "XMR",
          "XMR",
          "XMR",
          "XMR",
          "XMR"
         ],
         "y": [
          15,
          15,
          15,
          15,
          15,
          15,
          15,
          76,
          76,
          76,
          76,
          76,
          76,
          76,
          6,
          6,
          6,
          6,
          6,
          6,
          6,
          38,
          38,
          38,
          38,
          38,
          38,
          38,
          3,
          3,
          3,
          3,
          3,
          3,
          3,
          6,
          6,
          6,
          6,
          6
         ]
        },
        {
         "customdata": [
          [
           "2021-08-12",
           17,
           10,
           2,
           5,
           "23rd",
           "21st",
           "17th",
           "23rd",
           145,
           93,
           15,
           37,
           "18th",
           "18th",
           "18th",
           "25th"
          ],
          [
           "2021-08-13",
           39,
           33,
           0,
           6,
           "10th",
           "6th",
           "34th",
           "19th",
           145,
           93,
           15,
           37,
           "18th",
           "18th",
           "18th",
           "25th"
          ],
          [
           "2021-08-14",
           26,
           16,
           1,
           9,
           "15th",
           "16th",
           "23rd",
           "15th",
           145,
           93,
           15,
           37,
           "18th",
           "18th",
           "18th",
           "25th"
          ],
          [
           "2021-08-15",
           10,
           8,
           0,
           2,
           "27th",
           "23rd",
           "34th",
           "30th",
           145,
           93,
           15,
           37,
           "18th",
           "18th",
           "18th",
           "25th"
          ],
          [
           "2021-08-16",
           22,
           8,
           7,
           7,
           "17th",
           "23rd",
           "8th",
           "17th",
           145,
           93,
           15,
           37,
           "18th",
           "18th",
           "18th",
           "25th"
          ],
          [
           "2021-08-17",
           19,
           11,
           3,
           5,
           "20th",
           "19th",
           "14th",
           "23rd",
           145,
           93,
           15,
           37,
           "18th",
           "18th",
           "18th",
           "25th"
          ],
          [
           "2021-08-18",
           12,
           7,
           2,
           3,
           "26th",
           "25th",
           "17th",
           "27th",
           145,
           93,
           15,
           37,
           "18th",
           "18th",
           "18th",
           "25th"
          ],
          [
           "2021-08-12",
           90,
           46,
           21,
           23,
           "1st",
           "1st",
           "1st",
           "5th",
           477,
           235,
           76,
           166,
           "4th",
           "4th",
           "4th",
           "4th"
          ],
          [
           "2021-08-13",
           85,
           36,
           10,
           39,
           "2nd",
           "4th",
           "5th",
           "1st",
           477,
           235,
           76,
           166,
           "4th",
           "4th",
           "4th",
           "4th"
          ],
          [
           "2021-08-14",
           37,
           25,
           3,
           9,
           "12th",
           "9th",
           "14th",
           "15th",
           477,
           235,
           76,
           166,
           "4th",
           "4th",
           "4th",
           "4th"
          ],
          [
           "2021-08-15",
           35,
           19,
           1,
           15,
           "14th",
           "13th",
           "23rd",
           "8th",
           477,
           235,
           76,
           166,
           "4th",
           "4th",
           "4th",
           "4th"
          ],
          [
           "2021-08-16",
           70,
           35,
           14,
           21,
           "5th",
           "5th",
           "3rd",
           "7th",
           477,
           235,
           76,
           166,
           "4th",
           "4th",
           "4th",
           "4th"
          ],
          [
           "2021-08-17",
           80,
           37,
           17,
           26,
           "3rd",
           "2nd",
           "2nd",
           "3rd",
           477,
           235,
           76,
           166,
           "4th",
           "4th",
           "4th",
           "4th"
          ],
          [
           "2021-08-18",
           80,
           37,
           10,
           33,
           "3rd",
           "2nd",
           "5th",
           "2nd",
           477,
           235,
           76,
           166,
           "4th",
           "4th",
           "4th",
           "4th"
          ],
          [
           "2021-08-12",
           10,
           6,
           1,
           3,
           "27th",
           "27th",
           "23rd",
           "27th",
           143,
           91,
           6,
           46,
           "25th",
           "25th",
           "27th",
           "18th"
          ],
          [
           "2021-08-13",
           13,
           5,
           3,
           5,
           "25th",
           "28th",
           "14th",
           "23rd",
           143,
           91,
           6,
           46,
           "25th",
           "25th",
           "27th",
           "18th"
          ],
          [
           "2021-08-14",
           16,
           11,
           0,
           5,
           "24th",
           "19th",
           "34th",
           "23rd",
           143,
           91,
           6,
           46,
           "25th",
           "25th",
           "27th",
           "18th"
          ],
          [
           "2021-08-15",
           21,
           16,
           0,
           5,
           "18th",
           "16th",
           "34th",
           "23rd",
           143,
           91,
           6,
           46,
           "25th",
           "25th",
           "27th",
           "18th"
          ],
          [
           "2021-08-16",
           40,
           28,
           1,
           11,
           "9th",
           "8th",
           "23rd",
           "11th",
           143,
           91,
           6,
           46,
           "25th",
           "25th",
           "27th",
           "18th"
          ],
          [
           "2021-08-17",
           25,
           17,
           1,
           7,
           "16th",
           "14th",
           "23rd",
           "17th",
           143,
           91,
           6,
           46,
           "25th",
           "25th",
           "27th",
           "18th"
          ],
          [
           "2021-08-18",
           18,
           8,
           0,
           10,
           "22nd",
           "23rd",
           "34th",
           "13th",
           143,
           91,
           6,
           46,
           "25th",
           "25th",
           "27th",
           "18th"
          ],
          [
           "2021-08-12",
           56,
           24,
           9,
           23,
           "7th",
           "10th",
           "7th",
           "5th",
           269,
           131,
           38,
           100,
           "11th",
           "11th",
           "11th",
           "11th"
          ],
          [
           "2021-08-13",
           38,
           17,
           7,
           14,
           "11th",
           "14th",
           "8th",
           "9th",
           269,
           131,
           38,
           100,
           "11th",
           "11th",
           "11th",
           "11th"
          ],
          [
           "2021-08-14",
           19,
           13,
           0,
           6,
           "20th",
           "18th",
           "34th",
           "19th",
           269,
           131,
           38,
           100,
           "11th",
           "11th",
           "11th",
           "11th"
          ],
          [
           "2021-08-15",
           19,
           7,
           2,
           10,
           "20th",
           "25th",
           "17th",
           "13th",
           269,
           131,
           38,
           100,
           "11th",
           "11th",
           "11th",
           "11th"
          ],
          [
           "2021-08-16",
           57,
           29,
           5,
           23,
           "6th",
           "7th",
           "10th",
           "5th",
           269,
           131,
           38,
           100,
           "11th",
           "11th",
           "11th",
           "11th"
          ],
          [
           "2021-08-17",
           44,
           21,
           10,
           13,
           "8th",
           "11th",
           "5th",
           "10th",
           269,
           131,
           38,
           100,
           "11th",
           "11th",
           "11th",
           "11th"
          ],
          [
           "2021-08-18",
           36,
           20,
           5,
           11,
           "13th",
           "12th",
           "10th",
           "11th",
           269,
           131,
           38,
           100,
           "11th",
           "11th",
           "11th",
           "11th"
          ],
          [
           "2021-08-12",
           3,
           0,
           0,
           3,
           "34th",
           "37th",
           "34th",
           "27th",
           23,
           10,
           3,
           10,
           "32nd",
           "32nd",
           "37th",
           "32nd"
          ],
          [
           "2021-08-13",
           5,
           3,
           0,
           2,
           "29th",
           "29th",
           "34th",
           "30th",
           23,
           10,
           3,
           10,
           "32nd",
           "32nd",
           "37th",
           "32nd"
          ],
          [
           "2021-08-14",
           4,
           3,
           0,
           1,
           "30th",
           "29th",
           "34th",
           "34th",
           23,
           10,
           3,
           10,
           "32nd",
           "32nd",
           "37th",
           "32nd"
          ],
          [
           "2021-08-15",
           3,
           0,
           1,
           2,
           "34th",
           "37th",
           "23rd",
           "30th",
           23,
           10,
           3,
           10,
           "32nd",
           "32nd",
           "37th",
           "32nd"
          ],
          [
           "2021-08-16",
           3,
           2,
           0,
           1,
           "34th",
           "31st",
           "34th",
           "34th",
           23,
           10,
           3,
           10,
           "32nd",
           "32nd",
           "37th",
           "32nd"
          ],
          [
           "2021-08-17",
           2,
           1,
           1,
           0,
           "37th",
           "33rd",
           "23rd",
           "39th",
           23,
           10,
           3,
           10,
           "32nd",
           "32nd",
           "37th",
           "32nd"
          ],
          [
           "2021-08-18",
           3,
           1,
           1,
           1,
           "34th",
           "33rd",
           "23rd",
           "34th",
           23,
           10,
           3,
           10,
           "32nd",
           "32nd",
           "37th",
           "32nd"
          ],
          [
           "2021-08-12",
           1,
           0,
           0,
           1,
           "39th",
           "37th",
           "34th",
           "34th",
           10,
           1,
           6,
           3,
           "38th",
           "38th",
           "27th",
           "38th"
          ],
          [
           "2021-08-15",
           1,
           0,
           0,
           1,
           "39th",
           "37th",
           "34th",
           "34th",
           10,
           1,
           6,
           3,
           "38th",
           "38th",
           "27th",
           "38th"
          ],
          [
           "2021-08-16",
           3,
           0,
           2,
           1,
           "34th",
           "37th",
           "17th",
           "34th",
           10,
           1,
           6,
           3,
           "38th",
           "38th",
           "27th",
           "38th"
          ],
          [
           "2021-08-17",
           4,
           0,
           4,
           0,
           "30th",
           "37th",
           "12th",
           "39th",
           10,
           1,
           6,
           3,
           "38th",
           "38th",
           "27th",
           "38th"
          ],
          [
           "2021-08-18",
           1,
           1,
           0,
           0,
           "39th",
           "33rd",
           "34th",
           "39th",
           10,
           1,
           6,
           3,
           "38th",
           "38th",
           "27th",
           "38th"
          ]
         ],
         "hovertemplate": "\n    <b>%{x}</b><br><br>\n    <b>%{customdata[0]}:</b><br>\n    Mentions: %{customdata[1]:d} (%{customdata[5]})<br>\n    Positive Mentions: %{customdata[2]:d} (%{customdata[6]})<br>\n    Negative Mentions: %{customdata[3]:d} (%{customdata[7]})<br>\n    Neutral Mentions: %{customdata[4]:d} (%{customdata[8]})<br><br>\n    <b>Total:</b><br>\n    Total Mentions: %{customdata[9]:d} (%{customdata[13]})<br>\n    Positive Mentions: %{customdata[10]:d} (%{customdata[14]})<br>\n    Negative Mentions: %{customdata[11]:d} (%{customdata[15]})<br>\n    Neutral Mentions: %{customdata[12]:d} (%{customdata[16]})<br>\n    <extra></extra>\n    ",
         "name": "Neutral Mentions",
         "type": "bar",
         "x": [
          "ADA",
          "ADA",
          "ADA",
          "ADA",
          "ADA",
          "ADA",
          "ADA",
          "BTC",
          "BTC",
          "BTC",
          "BTC",
          "BTC",
          "BTC",
          "BTC",
          "DOGE",
          "DOGE",
          "DOGE",
          "DOGE",
          "DOGE",
          "DOGE",
          "DOGE",
          "ETH",
          "ETH",
          "ETH",
          "ETH",
          "ETH",
          "ETH",
          "ETH",
          "LTC",
          "LTC",
          "LTC",
          "LTC",
          "LTC",
          "LTC",
          "LTC",
          "XMR",
          "XMR",
          "XMR",
          "XMR",
          "XMR"
         ],
         "y": [
          37,
          37,
          37,
          37,
          37,
          37,
          37,
          166,
          166,
          166,
          166,
          166,
          166,
          166,
          46,
          46,
          46,
          46,
          46,
          46,
          46,
          100,
          100,
          100,
          100,
          100,
          100,
          100,
          10,
          10,
          10,
          10,
          10,
          10,
          10,
          3,
          3,
          3,
          3,
          3
         ]
        }
       ],
       "layout": {
        "barmode": "stack",
        "height": 600,
        "legend": {
         "x": 0.75,
         "xanchor": "left",
         "y": 0.99,
         "yanchor": "top"
        },
        "margin": {
         "b": 100,
         "l": 50,
         "pad": 4,
         "r": 50,
         "t": 65
        },
        "template": {
         "data": {
          "bar": [
           {
            "error_x": {
             "color": "#2a3f5f"
            },
            "error_y": {
             "color": "#2a3f5f"
            },
            "marker": {
             "line": {
              "color": "#E5ECF6",
              "width": 0.5
             },
             "pattern": {
              "fillmode": "overlay",
              "size": 10,
              "solidity": 0.2
             }
            },
            "type": "bar"
           }
          ],
          "barpolar": [
           {
            "marker": {
             "line": {
              "color": "#E5ECF6",
              "width": 0.5
             },
             "pattern": {
              "fillmode": "overlay",
              "size": 10,
              "solidity": 0.2
             }
            },
            "type": "barpolar"
           }
          ],
          "carpet": [
           {
            "aaxis": {
             "endlinecolor": "#2a3f5f",
             "gridcolor": "white",
             "linecolor": "white",
             "minorgridcolor": "white",
             "startlinecolor": "#2a3f5f"
            },
            "baxis": {
             "endlinecolor": "#2a3f5f",
             "gridcolor": "white",
             "linecolor": "white",
             "minorgridcolor": "white",
             "startlinecolor": "#2a3f5f"
            },
            "type": "carpet"
           }
          ],
          "choropleth": [
           {
            "colorbar": {
             "outlinewidth": 0,
             "ticks": ""
            },
            "type": "choropleth"
           }
          ],
          "contour": [
           {
            "colorbar": {
             "outlinewidth": 0,
             "ticks": ""
            },
            "colorscale": [
             [
              0,
              "#0d0887"
             ],
             [
              0.1111111111111111,
              "#46039f"
             ],
             [
              0.2222222222222222,
              "#7201a8"
             ],
             [
              0.3333333333333333,
              "#9c179e"
             ],
             [
              0.4444444444444444,
              "#bd3786"
             ],
             [
              0.5555555555555556,
              "#d8576b"
             ],
             [
              0.6666666666666666,
              "#ed7953"
             ],
             [
              0.7777777777777778,
              "#fb9f3a"
             ],
             [
              0.8888888888888888,
              "#fdca26"
             ],
             [
              1,
              "#f0f921"
             ]
            ],
            "type": "contour"
           }
          ],
          "contourcarpet": [
           {
            "colorbar": {
             "outlinewidth": 0,
             "ticks": ""
            },
            "type": "contourcarpet"
           }
          ],
          "heatmap": [
           {
            "colorbar": {
             "outlinewidth": 0,
             "ticks": ""
            },
            "colorscale": [
             [
              0,
              "#0d0887"
             ],
             [
              0.1111111111111111,
              "#46039f"
             ],
             [
              0.2222222222222222,
              "#7201a8"
             ],
             [
              0.3333333333333333,
              "#9c179e"
             ],
             [
              0.4444444444444444,
              "#bd3786"
             ],
             [
              0.5555555555555556,
              "#d8576b"
             ],
             [
              0.6666666666666666,
              "#ed7953"
             ],
             [
              0.7777777777777778,
              "#fb9f3a"
             ],
             [
              0.8888888888888888,
              "#fdca26"
             ],
             [
              1,
              "#f0f921"
             ]
            ],
            "type": "heatmap"
           }
          ],
          "heatmapgl": [
           {
            "colorbar": {
             "outlinewidth": 0,
             "ticks": ""
            },
            "colorscale": [
             [
              0,
              "#0d0887"
             ],
             [
              0.1111111111111111,
              "#46039f"
             ],
             [
              0.2222222222222222,
              "#7201a8"
             ],
             [
              0.3333333333333333,
              "#9c179e"
             ],
             [
              0.4444444444444444,
              "#bd3786"
             ],
             [
              0.5555555555555556,
              "#d8576b"
             ],
             [
              0.6666666666666666,
              "#ed7953"
             ],
             [
              0.7777777777777778,
              "#fb9f3a"
             ],
             [
              0.8888888888888888,
              "#fdca26"
             ],
             [
              1,
              "#f0f921"
             ]
            ],
            "type": "heatmapgl"
           }
          ],
          "histogram": [
           {
            "marker": {
             "pattern": {
              "fillmode": "overlay",
              "size": 10,
              "solidity": 0.2
             }
            },
            "type": "histogram"
           }
          ],
          "histogram2d": [
           {
            "colorbar": {
             "outlinewidth": 0,
             "ticks": ""
            },
            "colorscale": [
             [
              0,
              "#0d0887"
             ],
             [
              0.1111111111111111,
              "#46039f"
             ],
             [
              0.2222222222222222,
              "#7201a8"
             ],
             [
              0.3333333333333333,
              "#9c179e"
             ],
             [
              0.4444444444444444,
              "#bd3786"
             ],
             [
              0.5555555555555556,
              "#d8576b"
             ],
             [
              0.6666666666666666,
              "#ed7953"
             ],
             [
              0.7777777777777778,
              "#fb9f3a"
             ],
             [
              0.8888888888888888,
              "#fdca26"
             ],
             [
              1,
              "#f0f921"
             ]
            ],
            "type": "histogram2d"
           }
          ],
          "histogram2dcontour": [
           {
            "colorbar": {
             "outlinewidth": 0,
             "ticks": ""
            },
            "colorscale": [
             [
              0,
              "#0d0887"
             ],
             [
              0.1111111111111111,
              "#46039f"
             ],
             [
              0.2222222222222222,
              "#7201a8"
             ],
             [
              0.3333333333333333,
              "#9c179e"
             ],
             [
              0.4444444444444444,
              "#bd3786"
             ],
             [
              0.5555555555555556,
              "#d8576b"
             ],
             [
              0.6666666666666666,
              "#ed7953"
             ],
             [
              0.7777777777777778,
              "#fb9f3a"
             ],
             [
              0.8888888888888888,
              "#fdca26"
             ],
             [
              1,
              "#f0f921"
             ]
            ],
            "type": "histogram2dcontour"
           }
          ],
          "mesh3d": [
           {
            "colorbar": {
             "outlinewidth": 0,
             "ticks": ""
            },
            "type": "mesh3d"
           }
          ],
          "parcoords": [
           {
            "line": {
             "colorbar": {
              "outlinewidth": 0,
              "ticks": ""
             }
            },
            "type": "parcoords"
           }
          ],
          "pie": [
           {
            "automargin": true,
            "type": "pie"
           }
          ],
          "scatter": [
           {
            "marker": {
             "colorbar": {
              "outlinewidth": 0,
              "ticks": ""
             }
            },
            "type": "scatter"
           }
          ],
          "scatter3d": [
           {
            "line": {
             "colorbar": {
              "outlinewidth": 0,
              "ticks": ""
             }
            },
            "marker": {
             "colorbar": {
              "outlinewidth": 0,
              "ticks": ""
             }
            },
            "type": "scatter3d"
           }
          ],
          "scattercarpet": [
           {
            "marker": {
             "colorbar": {
              "outlinewidth": 0,
              "ticks": ""
             }
            },
            "type": "scattercarpet"
           }
          ],
          "scattergeo": [
           {
            "marker": {
             "colorbar": {
              "outlinewidth": 0,
              "ticks": ""
             }
            },
            "type": "scattergeo"
           }
          ],
          "scattergl": [
           {
            "marker": {
             "colorbar": {
              "outlinewidth": 0,
              "ticks": ""
             }
            },
            "type": "scattergl"
           }
          ],
          "scattermapbox": [
           {
            "marker": {
             "colorbar": {
              "outlinewidth": 0,
              "ticks": ""
             }
            },
            "type": "scattermapbox"
           }
          ],
          "scatterpolar": [
           {
            "marker": {
             "colorbar": {
              "outlinewidth": 0,
              "ticks": ""
             }
            },
            "type": "scatterpolar"
           }
          ],
          "scatterpolargl": [
           {
            "marker": {
             "colorbar": {
              "outlinewidth": 0,
              "ticks": ""
             }
            },
            "type": "scatterpolargl"
           }
          ],
          "scatterternary": [
           {
            "marker": {
             "colorbar": {
              "outlinewidth": 0,
              "ticks": ""
             }
            },
            "type": "scatterternary"
           }
          ],
          "surface": [
           {
            "colorbar": {
             "outlinewidth": 0,
             "ticks": ""
            },
            "colorscale": [
             [
              0,
              "#0d0887"
             ],
             [
              0.1111111111111111,
              "#46039f"
             ],
             [
              0.2222222222222222,
              "#7201a8"
             ],
             [
              0.3333333333333333,
              "#9c179e"
             ],
             [
              0.4444444444444444,
              "#bd3786"
             ],
             [
              0.5555555555555556,
              "#d8576b"
             ],
             [
              0.6666666666666666,
              "#ed7953"
             ],
             [
              0.7777777777777778,
              "#fb9f3a"
             ],
             [
              0.8888888888888888,
              "#fdca26"
             ],
             [
              1,
              "#f0f921"
             ]
            ],
            "type": "surface"
           }
          ],
          "table": [
           {
            "cells": {
             "fill": {
              "color": "#EBF0F8"
             },
             "line": {
              "color": "white"
             }
            },
            "header": {
             "fill": {
              "color": "#C8D4E3"
             },
             "line": {
              "color": "white"
             }
            },
            "type": "table"
           }
          ]
         },
         "layout": {
          "annotationdefaults": {
           "arrowcolor": "#2a3f5f",
           "arrowhead": 0,
           "arrowwidth": 1
          },
          "autotypenumbers": "strict",
          "coloraxis": {
           "colorbar": {
            "outlinewidth": 0,
            "ticks": ""
           }
          },
          "colorscale": {
           "diverging": [
            [
             0,
             "#8e0152"
            ],
            [
             0.1,
             "#c51b7d"
            ],
            [
             0.2,
             "#de77ae"
            ],
            [
             0.3,
             "#f1b6da"
            ],
            [
             0.4,
             "#fde0ef"
            ],
            [
             0.5,
             "#f7f7f7"
            ],
            [
             0.6,
             "#e6f5d0"
            ],
            [
             0.7,
             "#b8e186"
            ],
            [
             0.8,
             "#7fbc41"
            ],
            [
             0.9,
             "#4d9221"
            ],
            [
             1,
             "#276419"
            ]
           ],
           "sequential": [
            [
             0,
             "#0d0887"
            ],
            [
             0.1111111111111111,
             "#46039f"
            ],
            [
             0.2222222222222222,
             "#7201a8"
            ],
            [
             0.3333333333333333,
             "#9c179e"
            ],
            [
             0.4444444444444444,
             "#bd3786"
            ],
            [
             0.5555555555555556,
             "#d8576b"
            ],
            [
             0.6666666666666666,
             "#ed7953"
            ],
            [
             0.7777777777777778,
             "#fb9f3a"
            ],
            [
             0.8888888888888888,
             "#fdca26"
            ],
            [
             1,
             "#f0f921"
            ]
           ],
           "sequentialminus": [
            [
             0,
             "#0d0887"
            ],
            [
             0.1111111111111111,
             "#46039f"
            ],
            [
             0.2222222222222222,
             "#7201a8"
            ],
            [
             0.3333333333333333,
             "#9c179e"
            ],
            [
             0.4444444444444444,
             "#bd3786"
            ],
            [
             0.5555555555555556,
             "#d8576b"
            ],
            [
             0.6666666666666666,
             "#ed7953"
            ],
            [
             0.7777777777777778,
             "#fb9f3a"
            ],
            [
             0.8888888888888888,
             "#fdca26"
            ],
            [
             1,
             "#f0f921"
            ]
           ]
          },
          "colorway": [
           "#636efa",
           "#EF553B",
           "#00cc96",
           "#ab63fa",
           "#FFA15A",
           "#19d3f3",
           "#FF6692",
           "#B6E880",
           "#FF97FF",
           "#FECB52"
          ],
          "font": {
           "color": "#2a3f5f"
          },
          "geo": {
           "bgcolor": "white",
           "lakecolor": "white",
           "landcolor": "#E5ECF6",
           "showlakes": true,
           "showland": true,
           "subunitcolor": "white"
          },
          "hoverlabel": {
           "align": "left"
          },
          "hovermode": "closest",
          "mapbox": {
           "style": "light"
          },
          "paper_bgcolor": "white",
          "plot_bgcolor": "#E5ECF6",
          "polar": {
           "angularaxis": {
            "gridcolor": "white",
            "linecolor": "white",
            "ticks": ""
           },
           "bgcolor": "#E5ECF6",
           "radialaxis": {
            "gridcolor": "white",
            "linecolor": "white",
            "ticks": ""
           }
          },
          "scene": {
           "xaxis": {
            "backgroundcolor": "#E5ECF6",
            "gridcolor": "white",
            "gridwidth": 2,
            "linecolor": "white",
            "showbackground": true,
            "ticks": "",
            "zerolinecolor": "white"
           },
           "yaxis": {
            "backgroundcolor": "#E5ECF6",
            "gridcolor": "white",
            "gridwidth": 2,
            "linecolor": "white",
            "showbackground": true,
            "ticks": "",
            "zerolinecolor": "white"
           },
           "zaxis": {
            "backgroundcolor": "#E5ECF6",
            "gridcolor": "white",
            "gridwidth": 2,
            "linecolor": "white",
            "showbackground": true,
            "ticks": "",
            "zerolinecolor": "white"
           }
          },
          "shapedefaults": {
           "line": {
            "color": "#2a3f5f"
           }
          },
          "ternary": {
           "aaxis": {
            "gridcolor": "white",
            "linecolor": "white",
            "ticks": ""
           },
           "baxis": {
            "gridcolor": "white",
            "linecolor": "white",
            "ticks": ""
           },
           "bgcolor": "#E5ECF6",
           "caxis": {
            "gridcolor": "white",
            "linecolor": "white",
            "ticks": ""
           }
          },
          "title": {
           "x": 0.05
          },
          "xaxis": {
           "automargin": true,
           "gridcolor": "white",
           "linecolor": "white",
           "ticks": "",
           "title": {
            "standoff": 15
           },
           "zerolinecolor": "white",
           "zerolinewidth": 2
          },
          "yaxis": {
           "automargin": true,
           "gridcolor": "white",
           "linecolor": "white",
           "ticks": "",
           "title": {
            "standoff": 15
           },
           "zerolinecolor": "white",
           "zerolinewidth": 2
          }
         }
        },
        "title": {
         "text": "<b>Overal Daily Sentiment - 2021-08-12 to 2021-08-18</b><br>Global Media"
        },
        "width": 850,
        "xaxis": {
         "tickmode": "linear",
         "title": {
          "text": "Tickers"
         }
        },
        "yaxis": {
         "title": {
          "text": "Mentions"
         }
        }
       }
      },
      "text/html": [
       "<div>                            <div id=\"38cfd7b9-06c7-4ff6-afa6-cde47ee3c593\" class=\"plotly-graph-div\" style=\"height:600px; width:850px;\"></div>            <script type=\"text/javascript\">                require([\"plotly\"], function(Plotly) {                    window.PLOTLYENV=window.PLOTLYENV || {};                                    if (document.getElementById(\"38cfd7b9-06c7-4ff6-afa6-cde47ee3c593\")) {                    Plotly.newPlot(                        \"38cfd7b9-06c7-4ff6-afa6-cde47ee3c593\",                        [{\"customdata\":[[\"2021-08-12\",17,10,2,5,\"23rd\",\"21st\",\"17th\",\"23rd\",145,93,15,37,\"18th\",\"18th\",\"18th\",\"25th\"],[\"2021-08-13\",39,33,0,6,\"10th\",\"6th\",\"34th\",\"19th\",145,93,15,37,\"18th\",\"18th\",\"18th\",\"25th\"],[\"2021-08-14\",26,16,1,9,\"15th\",\"16th\",\"23rd\",\"15th\",145,93,15,37,\"18th\",\"18th\",\"18th\",\"25th\"],[\"2021-08-15\",10,8,0,2,\"27th\",\"23rd\",\"34th\",\"30th\",145,93,15,37,\"18th\",\"18th\",\"18th\",\"25th\"],[\"2021-08-16\",22,8,7,7,\"17th\",\"23rd\",\"8th\",\"17th\",145,93,15,37,\"18th\",\"18th\",\"18th\",\"25th\"],[\"2021-08-17\",19,11,3,5,\"20th\",\"19th\",\"14th\",\"23rd\",145,93,15,37,\"18th\",\"18th\",\"18th\",\"25th\"],[\"2021-08-18\",12,7,2,3,\"26th\",\"25th\",\"17th\",\"27th\",145,93,15,37,\"18th\",\"18th\",\"18th\",\"25th\"],[\"2021-08-12\",90,46,21,23,\"1st\",\"1st\",\"1st\",\"5th\",477,235,76,166,\"4th\",\"4th\",\"4th\",\"4th\"],[\"2021-08-13\",85,36,10,39,\"2nd\",\"4th\",\"5th\",\"1st\",477,235,76,166,\"4th\",\"4th\",\"4th\",\"4th\"],[\"2021-08-14\",37,25,3,9,\"12th\",\"9th\",\"14th\",\"15th\",477,235,76,166,\"4th\",\"4th\",\"4th\",\"4th\"],[\"2021-08-15\",35,19,1,15,\"14th\",\"13th\",\"23rd\",\"8th\",477,235,76,166,\"4th\",\"4th\",\"4th\",\"4th\"],[\"2021-08-16\",70,35,14,21,\"5th\",\"5th\",\"3rd\",\"7th\",477,235,76,166,\"4th\",\"4th\",\"4th\",\"4th\"],[\"2021-08-17\",80,37,17,26,\"3rd\",\"2nd\",\"2nd\",\"3rd\",477,235,76,166,\"4th\",\"4th\",\"4th\",\"4th\"],[\"2021-08-18\",80,37,10,33,\"3rd\",\"2nd\",\"5th\",\"2nd\",477,235,76,166,\"4th\",\"4th\",\"4th\",\"4th\"],[\"2021-08-12\",10,6,1,3,\"27th\",\"27th\",\"23rd\",\"27th\",143,91,6,46,\"25th\",\"25th\",\"27th\",\"18th\"],[\"2021-08-13\",13,5,3,5,\"25th\",\"28th\",\"14th\",\"23rd\",143,91,6,46,\"25th\",\"25th\",\"27th\",\"18th\"],[\"2021-08-14\",16,11,0,5,\"24th\",\"19th\",\"34th\",\"23rd\",143,91,6,46,\"25th\",\"25th\",\"27th\",\"18th\"],[\"2021-08-15\",21,16,0,5,\"18th\",\"16th\",\"34th\",\"23rd\",143,91,6,46,\"25th\",\"25th\",\"27th\",\"18th\"],[\"2021-08-16\",40,28,1,11,\"9th\",\"8th\",\"23rd\",\"11th\",143,91,6,46,\"25th\",\"25th\",\"27th\",\"18th\"],[\"2021-08-17\",25,17,1,7,\"16th\",\"14th\",\"23rd\",\"17th\",143,91,6,46,\"25th\",\"25th\",\"27th\",\"18th\"],[\"2021-08-18\",18,8,0,10,\"22nd\",\"23rd\",\"34th\",\"13th\",143,91,6,46,\"25th\",\"25th\",\"27th\",\"18th\"],[\"2021-08-12\",56,24,9,23,\"7th\",\"10th\",\"7th\",\"5th\",269,131,38,100,\"11th\",\"11th\",\"11th\",\"11th\"],[\"2021-08-13\",38,17,7,14,\"11th\",\"14th\",\"8th\",\"9th\",269,131,38,100,\"11th\",\"11th\",\"11th\",\"11th\"],[\"2021-08-14\",19,13,0,6,\"20th\",\"18th\",\"34th\",\"19th\",269,131,38,100,\"11th\",\"11th\",\"11th\",\"11th\"],[\"2021-08-15\",19,7,2,10,\"20th\",\"25th\",\"17th\",\"13th\",269,131,38,100,\"11th\",\"11th\",\"11th\",\"11th\"],[\"2021-08-16\",57,29,5,23,\"6th\",\"7th\",\"10th\",\"5th\",269,131,38,100,\"11th\",\"11th\",\"11th\",\"11th\"],[\"2021-08-17\",44,21,10,13,\"8th\",\"11th\",\"5th\",\"10th\",269,131,38,100,\"11th\",\"11th\",\"11th\",\"11th\"],[\"2021-08-18\",36,20,5,11,\"13th\",\"12th\",\"10th\",\"11th\",269,131,38,100,\"11th\",\"11th\",\"11th\",\"11th\"],[\"2021-08-12\",3,0,0,3,\"34th\",\"37th\",\"34th\",\"27th\",23,10,3,10,\"32nd\",\"32nd\",\"37th\",\"32nd\"],[\"2021-08-13\",5,3,0,2,\"29th\",\"29th\",\"34th\",\"30th\",23,10,3,10,\"32nd\",\"32nd\",\"37th\",\"32nd\"],[\"2021-08-14\",4,3,0,1,\"30th\",\"29th\",\"34th\",\"34th\",23,10,3,10,\"32nd\",\"32nd\",\"37th\",\"32nd\"],[\"2021-08-15\",3,0,1,2,\"34th\",\"37th\",\"23rd\",\"30th\",23,10,3,10,\"32nd\",\"32nd\",\"37th\",\"32nd\"],[\"2021-08-16\",3,2,0,1,\"34th\",\"31st\",\"34th\",\"34th\",23,10,3,10,\"32nd\",\"32nd\",\"37th\",\"32nd\"],[\"2021-08-17\",2,1,1,0,\"37th\",\"33rd\",\"23rd\",\"39th\",23,10,3,10,\"32nd\",\"32nd\",\"37th\",\"32nd\"],[\"2021-08-18\",3,1,1,1,\"34th\",\"33rd\",\"23rd\",\"34th\",23,10,3,10,\"32nd\",\"32nd\",\"37th\",\"32nd\"],[\"2021-08-12\",1,0,0,1,\"39th\",\"37th\",\"34th\",\"34th\",10,1,6,3,\"38th\",\"38th\",\"27th\",\"38th\"],[\"2021-08-15\",1,0,0,1,\"39th\",\"37th\",\"34th\",\"34th\",10,1,6,3,\"38th\",\"38th\",\"27th\",\"38th\"],[\"2021-08-16\",3,0,2,1,\"34th\",\"37th\",\"17th\",\"34th\",10,1,6,3,\"38th\",\"38th\",\"27th\",\"38th\"],[\"2021-08-17\",4,0,4,0,\"30th\",\"37th\",\"12th\",\"39th\",10,1,6,3,\"38th\",\"38th\",\"27th\",\"38th\"],[\"2021-08-18\",1,1,0,0,\"39th\",\"33rd\",\"34th\",\"39th\",10,1,6,3,\"38th\",\"38th\",\"27th\",\"38th\"]],\"hovertemplate\":\"\\n    <b>%{x}</b><br><br>\\n    <b>%{customdata[0]}:</b><br>\\n    Mentions: %{customdata[1]:d} (%{customdata[5]})<br>\\n    Positive Mentions: %{customdata[2]:d} (%{customdata[6]})<br>\\n    Negative Mentions: %{customdata[3]:d} (%{customdata[7]})<br>\\n    Neutral Mentions: %{customdata[4]:d} (%{customdata[8]})<br><br>\\n    <b>Total:</b><br>\\n    Total Mentions: %{customdata[9]:d} (%{customdata[13]})<br>\\n    Positive Mentions: %{customdata[10]:d} (%{customdata[14]})<br>\\n    Negative Mentions: %{customdata[11]:d} (%{customdata[15]})<br>\\n    Neutral Mentions: %{customdata[12]:d} (%{customdata[16]})<br>\\n    <extra></extra>\\n    \",\"name\":\"Positive Mentions\",\"type\":\"bar\",\"x\":[\"ADA\",\"ADA\",\"ADA\",\"ADA\",\"ADA\",\"ADA\",\"ADA\",\"BTC\",\"BTC\",\"BTC\",\"BTC\",\"BTC\",\"BTC\",\"BTC\",\"DOGE\",\"DOGE\",\"DOGE\",\"DOGE\",\"DOGE\",\"DOGE\",\"DOGE\",\"ETH\",\"ETH\",\"ETH\",\"ETH\",\"ETH\",\"ETH\",\"ETH\",\"LTC\",\"LTC\",\"LTC\",\"LTC\",\"LTC\",\"LTC\",\"LTC\",\"XMR\",\"XMR\",\"XMR\",\"XMR\",\"XMR\"],\"y\":[93,93,93,93,93,93,93,235,235,235,235,235,235,235,91,91,91,91,91,91,91,131,131,131,131,131,131,131,10,10,10,10,10,10,10,1,1,1,1,1]},{\"customdata\":[[\"2021-08-12\",17,10,2,5,\"23rd\",\"21st\",\"17th\",\"23rd\",145,93,15,37,\"18th\",\"18th\",\"18th\",\"25th\"],[\"2021-08-13\",39,33,0,6,\"10th\",\"6th\",\"34th\",\"19th\",145,93,15,37,\"18th\",\"18th\",\"18th\",\"25th\"],[\"2021-08-14\",26,16,1,9,\"15th\",\"16th\",\"23rd\",\"15th\",145,93,15,37,\"18th\",\"18th\",\"18th\",\"25th\"],[\"2021-08-15\",10,8,0,2,\"27th\",\"23rd\",\"34th\",\"30th\",145,93,15,37,\"18th\",\"18th\",\"18th\",\"25th\"],[\"2021-08-16\",22,8,7,7,\"17th\",\"23rd\",\"8th\",\"17th\",145,93,15,37,\"18th\",\"18th\",\"18th\",\"25th\"],[\"2021-08-17\",19,11,3,5,\"20th\",\"19th\",\"14th\",\"23rd\",145,93,15,37,\"18th\",\"18th\",\"18th\",\"25th\"],[\"2021-08-18\",12,7,2,3,\"26th\",\"25th\",\"17th\",\"27th\",145,93,15,37,\"18th\",\"18th\",\"18th\",\"25th\"],[\"2021-08-12\",90,46,21,23,\"1st\",\"1st\",\"1st\",\"5th\",477,235,76,166,\"4th\",\"4th\",\"4th\",\"4th\"],[\"2021-08-13\",85,36,10,39,\"2nd\",\"4th\",\"5th\",\"1st\",477,235,76,166,\"4th\",\"4th\",\"4th\",\"4th\"],[\"2021-08-14\",37,25,3,9,\"12th\",\"9th\",\"14th\",\"15th\",477,235,76,166,\"4th\",\"4th\",\"4th\",\"4th\"],[\"2021-08-15\",35,19,1,15,\"14th\",\"13th\",\"23rd\",\"8th\",477,235,76,166,\"4th\",\"4th\",\"4th\",\"4th\"],[\"2021-08-16\",70,35,14,21,\"5th\",\"5th\",\"3rd\",\"7th\",477,235,76,166,\"4th\",\"4th\",\"4th\",\"4th\"],[\"2021-08-17\",80,37,17,26,\"3rd\",\"2nd\",\"2nd\",\"3rd\",477,235,76,166,\"4th\",\"4th\",\"4th\",\"4th\"],[\"2021-08-18\",80,37,10,33,\"3rd\",\"2nd\",\"5th\",\"2nd\",477,235,76,166,\"4th\",\"4th\",\"4th\",\"4th\"],[\"2021-08-12\",10,6,1,3,\"27th\",\"27th\",\"23rd\",\"27th\",143,91,6,46,\"25th\",\"25th\",\"27th\",\"18th\"],[\"2021-08-13\",13,5,3,5,\"25th\",\"28th\",\"14th\",\"23rd\",143,91,6,46,\"25th\",\"25th\",\"27th\",\"18th\"],[\"2021-08-14\",16,11,0,5,\"24th\",\"19th\",\"34th\",\"23rd\",143,91,6,46,\"25th\",\"25th\",\"27th\",\"18th\"],[\"2021-08-15\",21,16,0,5,\"18th\",\"16th\",\"34th\",\"23rd\",143,91,6,46,\"25th\",\"25th\",\"27th\",\"18th\"],[\"2021-08-16\",40,28,1,11,\"9th\",\"8th\",\"23rd\",\"11th\",143,91,6,46,\"25th\",\"25th\",\"27th\",\"18th\"],[\"2021-08-17\",25,17,1,7,\"16th\",\"14th\",\"23rd\",\"17th\",143,91,6,46,\"25th\",\"25th\",\"27th\",\"18th\"],[\"2021-08-18\",18,8,0,10,\"22nd\",\"23rd\",\"34th\",\"13th\",143,91,6,46,\"25th\",\"25th\",\"27th\",\"18th\"],[\"2021-08-12\",56,24,9,23,\"7th\",\"10th\",\"7th\",\"5th\",269,131,38,100,\"11th\",\"11th\",\"11th\",\"11th\"],[\"2021-08-13\",38,17,7,14,\"11th\",\"14th\",\"8th\",\"9th\",269,131,38,100,\"11th\",\"11th\",\"11th\",\"11th\"],[\"2021-08-14\",19,13,0,6,\"20th\",\"18th\",\"34th\",\"19th\",269,131,38,100,\"11th\",\"11th\",\"11th\",\"11th\"],[\"2021-08-15\",19,7,2,10,\"20th\",\"25th\",\"17th\",\"13th\",269,131,38,100,\"11th\",\"11th\",\"11th\",\"11th\"],[\"2021-08-16\",57,29,5,23,\"6th\",\"7th\",\"10th\",\"5th\",269,131,38,100,\"11th\",\"11th\",\"11th\",\"11th\"],[\"2021-08-17\",44,21,10,13,\"8th\",\"11th\",\"5th\",\"10th\",269,131,38,100,\"11th\",\"11th\",\"11th\",\"11th\"],[\"2021-08-18\",36,20,5,11,\"13th\",\"12th\",\"10th\",\"11th\",269,131,38,100,\"11th\",\"11th\",\"11th\",\"11th\"],[\"2021-08-12\",3,0,0,3,\"34th\",\"37th\",\"34th\",\"27th\",23,10,3,10,\"32nd\",\"32nd\",\"37th\",\"32nd\"],[\"2021-08-13\",5,3,0,2,\"29th\",\"29th\",\"34th\",\"30th\",23,10,3,10,\"32nd\",\"32nd\",\"37th\",\"32nd\"],[\"2021-08-14\",4,3,0,1,\"30th\",\"29th\",\"34th\",\"34th\",23,10,3,10,\"32nd\",\"32nd\",\"37th\",\"32nd\"],[\"2021-08-15\",3,0,1,2,\"34th\",\"37th\",\"23rd\",\"30th\",23,10,3,10,\"32nd\",\"32nd\",\"37th\",\"32nd\"],[\"2021-08-16\",3,2,0,1,\"34th\",\"31st\",\"34th\",\"34th\",23,10,3,10,\"32nd\",\"32nd\",\"37th\",\"32nd\"],[\"2021-08-17\",2,1,1,0,\"37th\",\"33rd\",\"23rd\",\"39th\",23,10,3,10,\"32nd\",\"32nd\",\"37th\",\"32nd\"],[\"2021-08-18\",3,1,1,1,\"34th\",\"33rd\",\"23rd\",\"34th\",23,10,3,10,\"32nd\",\"32nd\",\"37th\",\"32nd\"],[\"2021-08-12\",1,0,0,1,\"39th\",\"37th\",\"34th\",\"34th\",10,1,6,3,\"38th\",\"38th\",\"27th\",\"38th\"],[\"2021-08-15\",1,0,0,1,\"39th\",\"37th\",\"34th\",\"34th\",10,1,6,3,\"38th\",\"38th\",\"27th\",\"38th\"],[\"2021-08-16\",3,0,2,1,\"34th\",\"37th\",\"17th\",\"34th\",10,1,6,3,\"38th\",\"38th\",\"27th\",\"38th\"],[\"2021-08-17\",4,0,4,0,\"30th\",\"37th\",\"12th\",\"39th\",10,1,6,3,\"38th\",\"38th\",\"27th\",\"38th\"],[\"2021-08-18\",1,1,0,0,\"39th\",\"33rd\",\"34th\",\"39th\",10,1,6,3,\"38th\",\"38th\",\"27th\",\"38th\"]],\"hovertemplate\":\"\\n    <b>%{x}</b><br><br>\\n    <b>%{customdata[0]}:</b><br>\\n    Mentions: %{customdata[1]:d} (%{customdata[5]})<br>\\n    Positive Mentions: %{customdata[2]:d} (%{customdata[6]})<br>\\n    Negative Mentions: %{customdata[3]:d} (%{customdata[7]})<br>\\n    Neutral Mentions: %{customdata[4]:d} (%{customdata[8]})<br><br>\\n    <b>Total:</b><br>\\n    Total Mentions: %{customdata[9]:d} (%{customdata[13]})<br>\\n    Positive Mentions: %{customdata[10]:d} (%{customdata[14]})<br>\\n    Negative Mentions: %{customdata[11]:d} (%{customdata[15]})<br>\\n    Neutral Mentions: %{customdata[12]:d} (%{customdata[16]})<br>\\n    <extra></extra>\\n    \",\"name\":\"Negative Mentions\",\"type\":\"bar\",\"x\":[\"ADA\",\"ADA\",\"ADA\",\"ADA\",\"ADA\",\"ADA\",\"ADA\",\"BTC\",\"BTC\",\"BTC\",\"BTC\",\"BTC\",\"BTC\",\"BTC\",\"DOGE\",\"DOGE\",\"DOGE\",\"DOGE\",\"DOGE\",\"DOGE\",\"DOGE\",\"ETH\",\"ETH\",\"ETH\",\"ETH\",\"ETH\",\"ETH\",\"ETH\",\"LTC\",\"LTC\",\"LTC\",\"LTC\",\"LTC\",\"LTC\",\"LTC\",\"XMR\",\"XMR\",\"XMR\",\"XMR\",\"XMR\"],\"y\":[15,15,15,15,15,15,15,76,76,76,76,76,76,76,6,6,6,6,6,6,6,38,38,38,38,38,38,38,3,3,3,3,3,3,3,6,6,6,6,6]},{\"customdata\":[[\"2021-08-12\",17,10,2,5,\"23rd\",\"21st\",\"17th\",\"23rd\",145,93,15,37,\"18th\",\"18th\",\"18th\",\"25th\"],[\"2021-08-13\",39,33,0,6,\"10th\",\"6th\",\"34th\",\"19th\",145,93,15,37,\"18th\",\"18th\",\"18th\",\"25th\"],[\"2021-08-14\",26,16,1,9,\"15th\",\"16th\",\"23rd\",\"15th\",145,93,15,37,\"18th\",\"18th\",\"18th\",\"25th\"],[\"2021-08-15\",10,8,0,2,\"27th\",\"23rd\",\"34th\",\"30th\",145,93,15,37,\"18th\",\"18th\",\"18th\",\"25th\"],[\"2021-08-16\",22,8,7,7,\"17th\",\"23rd\",\"8th\",\"17th\",145,93,15,37,\"18th\",\"18th\",\"18th\",\"25th\"],[\"2021-08-17\",19,11,3,5,\"20th\",\"19th\",\"14th\",\"23rd\",145,93,15,37,\"18th\",\"18th\",\"18th\",\"25th\"],[\"2021-08-18\",12,7,2,3,\"26th\",\"25th\",\"17th\",\"27th\",145,93,15,37,\"18th\",\"18th\",\"18th\",\"25th\"],[\"2021-08-12\",90,46,21,23,\"1st\",\"1st\",\"1st\",\"5th\",477,235,76,166,\"4th\",\"4th\",\"4th\",\"4th\"],[\"2021-08-13\",85,36,10,39,\"2nd\",\"4th\",\"5th\",\"1st\",477,235,76,166,\"4th\",\"4th\",\"4th\",\"4th\"],[\"2021-08-14\",37,25,3,9,\"12th\",\"9th\",\"14th\",\"15th\",477,235,76,166,\"4th\",\"4th\",\"4th\",\"4th\"],[\"2021-08-15\",35,19,1,15,\"14th\",\"13th\",\"23rd\",\"8th\",477,235,76,166,\"4th\",\"4th\",\"4th\",\"4th\"],[\"2021-08-16\",70,35,14,21,\"5th\",\"5th\",\"3rd\",\"7th\",477,235,76,166,\"4th\",\"4th\",\"4th\",\"4th\"],[\"2021-08-17\",80,37,17,26,\"3rd\",\"2nd\",\"2nd\",\"3rd\",477,235,76,166,\"4th\",\"4th\",\"4th\",\"4th\"],[\"2021-08-18\",80,37,10,33,\"3rd\",\"2nd\",\"5th\",\"2nd\",477,235,76,166,\"4th\",\"4th\",\"4th\",\"4th\"],[\"2021-08-12\",10,6,1,3,\"27th\",\"27th\",\"23rd\",\"27th\",143,91,6,46,\"25th\",\"25th\",\"27th\",\"18th\"],[\"2021-08-13\",13,5,3,5,\"25th\",\"28th\",\"14th\",\"23rd\",143,91,6,46,\"25th\",\"25th\",\"27th\",\"18th\"],[\"2021-08-14\",16,11,0,5,\"24th\",\"19th\",\"34th\",\"23rd\",143,91,6,46,\"25th\",\"25th\",\"27th\",\"18th\"],[\"2021-08-15\",21,16,0,5,\"18th\",\"16th\",\"34th\",\"23rd\",143,91,6,46,\"25th\",\"25th\",\"27th\",\"18th\"],[\"2021-08-16\",40,28,1,11,\"9th\",\"8th\",\"23rd\",\"11th\",143,91,6,46,\"25th\",\"25th\",\"27th\",\"18th\"],[\"2021-08-17\",25,17,1,7,\"16th\",\"14th\",\"23rd\",\"17th\",143,91,6,46,\"25th\",\"25th\",\"27th\",\"18th\"],[\"2021-08-18\",18,8,0,10,\"22nd\",\"23rd\",\"34th\",\"13th\",143,91,6,46,\"25th\",\"25th\",\"27th\",\"18th\"],[\"2021-08-12\",56,24,9,23,\"7th\",\"10th\",\"7th\",\"5th\",269,131,38,100,\"11th\",\"11th\",\"11th\",\"11th\"],[\"2021-08-13\",38,17,7,14,\"11th\",\"14th\",\"8th\",\"9th\",269,131,38,100,\"11th\",\"11th\",\"11th\",\"11th\"],[\"2021-08-14\",19,13,0,6,\"20th\",\"18th\",\"34th\",\"19th\",269,131,38,100,\"11th\",\"11th\",\"11th\",\"11th\"],[\"2021-08-15\",19,7,2,10,\"20th\",\"25th\",\"17th\",\"13th\",269,131,38,100,\"11th\",\"11th\",\"11th\",\"11th\"],[\"2021-08-16\",57,29,5,23,\"6th\",\"7th\",\"10th\",\"5th\",269,131,38,100,\"11th\",\"11th\",\"11th\",\"11th\"],[\"2021-08-17\",44,21,10,13,\"8th\",\"11th\",\"5th\",\"10th\",269,131,38,100,\"11th\",\"11th\",\"11th\",\"11th\"],[\"2021-08-18\",36,20,5,11,\"13th\",\"12th\",\"10th\",\"11th\",269,131,38,100,\"11th\",\"11th\",\"11th\",\"11th\"],[\"2021-08-12\",3,0,0,3,\"34th\",\"37th\",\"34th\",\"27th\",23,10,3,10,\"32nd\",\"32nd\",\"37th\",\"32nd\"],[\"2021-08-13\",5,3,0,2,\"29th\",\"29th\",\"34th\",\"30th\",23,10,3,10,\"32nd\",\"32nd\",\"37th\",\"32nd\"],[\"2021-08-14\",4,3,0,1,\"30th\",\"29th\",\"34th\",\"34th\",23,10,3,10,\"32nd\",\"32nd\",\"37th\",\"32nd\"],[\"2021-08-15\",3,0,1,2,\"34th\",\"37th\",\"23rd\",\"30th\",23,10,3,10,\"32nd\",\"32nd\",\"37th\",\"32nd\"],[\"2021-08-16\",3,2,0,1,\"34th\",\"31st\",\"34th\",\"34th\",23,10,3,10,\"32nd\",\"32nd\",\"37th\",\"32nd\"],[\"2021-08-17\",2,1,1,0,\"37th\",\"33rd\",\"23rd\",\"39th\",23,10,3,10,\"32nd\",\"32nd\",\"37th\",\"32nd\"],[\"2021-08-18\",3,1,1,1,\"34th\",\"33rd\",\"23rd\",\"34th\",23,10,3,10,\"32nd\",\"32nd\",\"37th\",\"32nd\"],[\"2021-08-12\",1,0,0,1,\"39th\",\"37th\",\"34th\",\"34th\",10,1,6,3,\"38th\",\"38th\",\"27th\",\"38th\"],[\"2021-08-15\",1,0,0,1,\"39th\",\"37th\",\"34th\",\"34th\",10,1,6,3,\"38th\",\"38th\",\"27th\",\"38th\"],[\"2021-08-16\",3,0,2,1,\"34th\",\"37th\",\"17th\",\"34th\",10,1,6,3,\"38th\",\"38th\",\"27th\",\"38th\"],[\"2021-08-17\",4,0,4,0,\"30th\",\"37th\",\"12th\",\"39th\",10,1,6,3,\"38th\",\"38th\",\"27th\",\"38th\"],[\"2021-08-18\",1,1,0,0,\"39th\",\"33rd\",\"34th\",\"39th\",10,1,6,3,\"38th\",\"38th\",\"27th\",\"38th\"]],\"hovertemplate\":\"\\n    <b>%{x}</b><br><br>\\n    <b>%{customdata[0]}:</b><br>\\n    Mentions: %{customdata[1]:d} (%{customdata[5]})<br>\\n    Positive Mentions: %{customdata[2]:d} (%{customdata[6]})<br>\\n    Negative Mentions: %{customdata[3]:d} (%{customdata[7]})<br>\\n    Neutral Mentions: %{customdata[4]:d} (%{customdata[8]})<br><br>\\n    <b>Total:</b><br>\\n    Total Mentions: %{customdata[9]:d} (%{customdata[13]})<br>\\n    Positive Mentions: %{customdata[10]:d} (%{customdata[14]})<br>\\n    Negative Mentions: %{customdata[11]:d} (%{customdata[15]})<br>\\n    Neutral Mentions: %{customdata[12]:d} (%{customdata[16]})<br>\\n    <extra></extra>\\n    \",\"name\":\"Neutral Mentions\",\"type\":\"bar\",\"x\":[\"ADA\",\"ADA\",\"ADA\",\"ADA\",\"ADA\",\"ADA\",\"ADA\",\"BTC\",\"BTC\",\"BTC\",\"BTC\",\"BTC\",\"BTC\",\"BTC\",\"DOGE\",\"DOGE\",\"DOGE\",\"DOGE\",\"DOGE\",\"DOGE\",\"DOGE\",\"ETH\",\"ETH\",\"ETH\",\"ETH\",\"ETH\",\"ETH\",\"ETH\",\"LTC\",\"LTC\",\"LTC\",\"LTC\",\"LTC\",\"LTC\",\"LTC\",\"XMR\",\"XMR\",\"XMR\",\"XMR\",\"XMR\"],\"y\":[37,37,37,37,37,37,37,166,166,166,166,166,166,166,46,46,46,46,46,46,46,100,100,100,100,100,100,100,10,10,10,10,10,10,10,3,3,3,3,3]}],                        {\"barmode\":\"stack\",\"height\":600,\"legend\":{\"x\":0.75,\"xanchor\":\"left\",\"y\":0.99,\"yanchor\":\"top\"},\"margin\":{\"b\":100,\"l\":50,\"pad\":4,\"r\":50,\"t\":65},\"template\":{\"data\":{\"bar\":[{\"error_x\":{\"color\":\"#2a3f5f\"},\"error_y\":{\"color\":\"#2a3f5f\"},\"marker\":{\"line\":{\"color\":\"#E5ECF6\",\"width\":0.5},\"pattern\":{\"fillmode\":\"overlay\",\"size\":10,\"solidity\":0.2}},\"type\":\"bar\"}],\"barpolar\":[{\"marker\":{\"line\":{\"color\":\"#E5ECF6\",\"width\":0.5},\"pattern\":{\"fillmode\":\"overlay\",\"size\":10,\"solidity\":0.2}},\"type\":\"barpolar\"}],\"carpet\":[{\"aaxis\":{\"endlinecolor\":\"#2a3f5f\",\"gridcolor\":\"white\",\"linecolor\":\"white\",\"minorgridcolor\":\"white\",\"startlinecolor\":\"#2a3f5f\"},\"baxis\":{\"endlinecolor\":\"#2a3f5f\",\"gridcolor\":\"white\",\"linecolor\":\"white\",\"minorgridcolor\":\"white\",\"startlinecolor\":\"#2a3f5f\"},\"type\":\"carpet\"}],\"choropleth\":[{\"colorbar\":{\"outlinewidth\":0,\"ticks\":\"\"},\"type\":\"choropleth\"}],\"contour\":[{\"colorbar\":{\"outlinewidth\":0,\"ticks\":\"\"},\"colorscale\":[[0.0,\"#0d0887\"],[0.1111111111111111,\"#46039f\"],[0.2222222222222222,\"#7201a8\"],[0.3333333333333333,\"#9c179e\"],[0.4444444444444444,\"#bd3786\"],[0.5555555555555556,\"#d8576b\"],[0.6666666666666666,\"#ed7953\"],[0.7777777777777778,\"#fb9f3a\"],[0.8888888888888888,\"#fdca26\"],[1.0,\"#f0f921\"]],\"type\":\"contour\"}],\"contourcarpet\":[{\"colorbar\":{\"outlinewidth\":0,\"ticks\":\"\"},\"type\":\"contourcarpet\"}],\"heatmap\":[{\"colorbar\":{\"outlinewidth\":0,\"ticks\":\"\"},\"colorscale\":[[0.0,\"#0d0887\"],[0.1111111111111111,\"#46039f\"],[0.2222222222222222,\"#7201a8\"],[0.3333333333333333,\"#9c179e\"],[0.4444444444444444,\"#bd3786\"],[0.5555555555555556,\"#d8576b\"],[0.6666666666666666,\"#ed7953\"],[0.7777777777777778,\"#fb9f3a\"],[0.8888888888888888,\"#fdca26\"],[1.0,\"#f0f921\"]],\"type\":\"heatmap\"}],\"heatmapgl\":[{\"colorbar\":{\"outlinewidth\":0,\"ticks\":\"\"},\"colorscale\":[[0.0,\"#0d0887\"],[0.1111111111111111,\"#46039f\"],[0.2222222222222222,\"#7201a8\"],[0.3333333333333333,\"#9c179e\"],[0.4444444444444444,\"#bd3786\"],[0.5555555555555556,\"#d8576b\"],[0.6666666666666666,\"#ed7953\"],[0.7777777777777778,\"#fb9f3a\"],[0.8888888888888888,\"#fdca26\"],[1.0,\"#f0f921\"]],\"type\":\"heatmapgl\"}],\"histogram\":[{\"marker\":{\"pattern\":{\"fillmode\":\"overlay\",\"size\":10,\"solidity\":0.2}},\"type\":\"histogram\"}],\"histogram2d\":[{\"colorbar\":{\"outlinewidth\":0,\"ticks\":\"\"},\"colorscale\":[[0.0,\"#0d0887\"],[0.1111111111111111,\"#46039f\"],[0.2222222222222222,\"#7201a8\"],[0.3333333333333333,\"#9c179e\"],[0.4444444444444444,\"#bd3786\"],[0.5555555555555556,\"#d8576b\"],[0.6666666666666666,\"#ed7953\"],[0.7777777777777778,\"#fb9f3a\"],[0.8888888888888888,\"#fdca26\"],[1.0,\"#f0f921\"]],\"type\":\"histogram2d\"}],\"histogram2dcontour\":[{\"colorbar\":{\"outlinewidth\":0,\"ticks\":\"\"},\"colorscale\":[[0.0,\"#0d0887\"],[0.1111111111111111,\"#46039f\"],[0.2222222222222222,\"#7201a8\"],[0.3333333333333333,\"#9c179e\"],[0.4444444444444444,\"#bd3786\"],[0.5555555555555556,\"#d8576b\"],[0.6666666666666666,\"#ed7953\"],[0.7777777777777778,\"#fb9f3a\"],[0.8888888888888888,\"#fdca26\"],[1.0,\"#f0f921\"]],\"type\":\"histogram2dcontour\"}],\"mesh3d\":[{\"colorbar\":{\"outlinewidth\":0,\"ticks\":\"\"},\"type\":\"mesh3d\"}],\"parcoords\":[{\"line\":{\"colorbar\":{\"outlinewidth\":0,\"ticks\":\"\"}},\"type\":\"parcoords\"}],\"pie\":[{\"automargin\":true,\"type\":\"pie\"}],\"scatter\":[{\"marker\":{\"colorbar\":{\"outlinewidth\":0,\"ticks\":\"\"}},\"type\":\"scatter\"}],\"scatter3d\":[{\"line\":{\"colorbar\":{\"outlinewidth\":0,\"ticks\":\"\"}},\"marker\":{\"colorbar\":{\"outlinewidth\":0,\"ticks\":\"\"}},\"type\":\"scatter3d\"}],\"scattercarpet\":[{\"marker\":{\"colorbar\":{\"outlinewidth\":0,\"ticks\":\"\"}},\"type\":\"scattercarpet\"}],\"scattergeo\":[{\"marker\":{\"colorbar\":{\"outlinewidth\":0,\"ticks\":\"\"}},\"type\":\"scattergeo\"}],\"scattergl\":[{\"marker\":{\"colorbar\":{\"outlinewidth\":0,\"ticks\":\"\"}},\"type\":\"scattergl\"}],\"scattermapbox\":[{\"marker\":{\"colorbar\":{\"outlinewidth\":0,\"ticks\":\"\"}},\"type\":\"scattermapbox\"}],\"scatterpolar\":[{\"marker\":{\"colorbar\":{\"outlinewidth\":0,\"ticks\":\"\"}},\"type\":\"scatterpolar\"}],\"scatterpolargl\":[{\"marker\":{\"colorbar\":{\"outlinewidth\":0,\"ticks\":\"\"}},\"type\":\"scatterpolargl\"}],\"scatterternary\":[{\"marker\":{\"colorbar\":{\"outlinewidth\":0,\"ticks\":\"\"}},\"type\":\"scatterternary\"}],\"surface\":[{\"colorbar\":{\"outlinewidth\":0,\"ticks\":\"\"},\"colorscale\":[[0.0,\"#0d0887\"],[0.1111111111111111,\"#46039f\"],[0.2222222222222222,\"#7201a8\"],[0.3333333333333333,\"#9c179e\"],[0.4444444444444444,\"#bd3786\"],[0.5555555555555556,\"#d8576b\"],[0.6666666666666666,\"#ed7953\"],[0.7777777777777778,\"#fb9f3a\"],[0.8888888888888888,\"#fdca26\"],[1.0,\"#f0f921\"]],\"type\":\"surface\"}],\"table\":[{\"cells\":{\"fill\":{\"color\":\"#EBF0F8\"},\"line\":{\"color\":\"white\"}},\"header\":{\"fill\":{\"color\":\"#C8D4E3\"},\"line\":{\"color\":\"white\"}},\"type\":\"table\"}]},\"layout\":{\"annotationdefaults\":{\"arrowcolor\":\"#2a3f5f\",\"arrowhead\":0,\"arrowwidth\":1},\"autotypenumbers\":\"strict\",\"coloraxis\":{\"colorbar\":{\"outlinewidth\":0,\"ticks\":\"\"}},\"colorscale\":{\"diverging\":[[0,\"#8e0152\"],[0.1,\"#c51b7d\"],[0.2,\"#de77ae\"],[0.3,\"#f1b6da\"],[0.4,\"#fde0ef\"],[0.5,\"#f7f7f7\"],[0.6,\"#e6f5d0\"],[0.7,\"#b8e186\"],[0.8,\"#7fbc41\"],[0.9,\"#4d9221\"],[1,\"#276419\"]],\"sequential\":[[0.0,\"#0d0887\"],[0.1111111111111111,\"#46039f\"],[0.2222222222222222,\"#7201a8\"],[0.3333333333333333,\"#9c179e\"],[0.4444444444444444,\"#bd3786\"],[0.5555555555555556,\"#d8576b\"],[0.6666666666666666,\"#ed7953\"],[0.7777777777777778,\"#fb9f3a\"],[0.8888888888888888,\"#fdca26\"],[1.0,\"#f0f921\"]],\"sequentialminus\":[[0.0,\"#0d0887\"],[0.1111111111111111,\"#46039f\"],[0.2222222222222222,\"#7201a8\"],[0.3333333333333333,\"#9c179e\"],[0.4444444444444444,\"#bd3786\"],[0.5555555555555556,\"#d8576b\"],[0.6666666666666666,\"#ed7953\"],[0.7777777777777778,\"#fb9f3a\"],[0.8888888888888888,\"#fdca26\"],[1.0,\"#f0f921\"]]},\"colorway\":[\"#636efa\",\"#EF553B\",\"#00cc96\",\"#ab63fa\",\"#FFA15A\",\"#19d3f3\",\"#FF6692\",\"#B6E880\",\"#FF97FF\",\"#FECB52\"],\"font\":{\"color\":\"#2a3f5f\"},\"geo\":{\"bgcolor\":\"white\",\"lakecolor\":\"white\",\"landcolor\":\"#E5ECF6\",\"showlakes\":true,\"showland\":true,\"subunitcolor\":\"white\"},\"hoverlabel\":{\"align\":\"left\"},\"hovermode\":\"closest\",\"mapbox\":{\"style\":\"light\"},\"paper_bgcolor\":\"white\",\"plot_bgcolor\":\"#E5ECF6\",\"polar\":{\"angularaxis\":{\"gridcolor\":\"white\",\"linecolor\":\"white\",\"ticks\":\"\"},\"bgcolor\":\"#E5ECF6\",\"radialaxis\":{\"gridcolor\":\"white\",\"linecolor\":\"white\",\"ticks\":\"\"}},\"scene\":{\"xaxis\":{\"backgroundcolor\":\"#E5ECF6\",\"gridcolor\":\"white\",\"gridwidth\":2,\"linecolor\":\"white\",\"showbackground\":true,\"ticks\":\"\",\"zerolinecolor\":\"white\"},\"yaxis\":{\"backgroundcolor\":\"#E5ECF6\",\"gridcolor\":\"white\",\"gridwidth\":2,\"linecolor\":\"white\",\"showbackground\":true,\"ticks\":\"\",\"zerolinecolor\":\"white\"},\"zaxis\":{\"backgroundcolor\":\"#E5ECF6\",\"gridcolor\":\"white\",\"gridwidth\":2,\"linecolor\":\"white\",\"showbackground\":true,\"ticks\":\"\",\"zerolinecolor\":\"white\"}},\"shapedefaults\":{\"line\":{\"color\":\"#2a3f5f\"}},\"ternary\":{\"aaxis\":{\"gridcolor\":\"white\",\"linecolor\":\"white\",\"ticks\":\"\"},\"baxis\":{\"gridcolor\":\"white\",\"linecolor\":\"white\",\"ticks\":\"\"},\"bgcolor\":\"#E5ECF6\",\"caxis\":{\"gridcolor\":\"white\",\"linecolor\":\"white\",\"ticks\":\"\"}},\"title\":{\"x\":0.05},\"xaxis\":{\"automargin\":true,\"gridcolor\":\"white\",\"linecolor\":\"white\",\"ticks\":\"\",\"title\":{\"standoff\":15},\"zerolinecolor\":\"white\",\"zerolinewidth\":2},\"yaxis\":{\"automargin\":true,\"gridcolor\":\"white\",\"linecolor\":\"white\",\"ticks\":\"\",\"title\":{\"standoff\":15},\"zerolinecolor\":\"white\",\"zerolinewidth\":2}}},\"title\":{\"text\":\"<b>Overal Daily Sentiment - 2021-08-12 to 2021-08-18</b><br>Global Media\"},\"width\":850,\"xaxis\":{\"tickmode\":\"linear\",\"title\":{\"text\":\"Tickers\"}},\"yaxis\":{\"title\":{\"text\":\"Mentions\"}}},                        {\"responsive\": true}                    ).then(function(){\n",
       "                            \n",
       "var gd = document.getElementById('38cfd7b9-06c7-4ff6-afa6-cde47ee3c593');\n",
       "var x = new MutationObserver(function (mutations, observer) {{\n",
       "        var display = window.getComputedStyle(gd).display;\n",
       "        if (!display || display === 'none') {{\n",
       "            console.log([gd, 'removed!']);\n",
       "            Plotly.purge(gd);\n",
       "            observer.disconnect();\n",
       "        }}\n",
       "}});\n",
       "\n",
       "// Listen for the removal of the full notebook cells\n",
       "var notebookContainer = gd.closest('#notebook-container');\n",
       "if (notebookContainer) {{\n",
       "    x.observe(notebookContainer, {childList: true});\n",
       "}}\n",
       "\n",
       "// Listen for the clearing of the current output cell\n",
       "var outputEl = gd.closest('.output');\n",
       "if (outputEl) {{\n",
       "    x.observe(outputEl, {childList: true});\n",
       "}}\n",
       "\n",
       "                        })                };                });            </script>        </div>"
      ]
     },
     "metadata": {},
     "output_type": "display_data"
    }
   ],
   "source": [
    "file_path = \"./data/ticker-stats_last7days.csv\"\n",
    "df_stats  = pd.read_csv(file_path)\n",
    "fig_stats = stats_bar(df_stats)\n",
    "\n",
    "fig_stats.show()"
   ]
  },
  {
   "cell_type": "code",
   "execution_count": 30,
   "id": "bac24fb4",
   "metadata": {},
   "outputs": [
    {
     "name": "stderr",
     "output_type": "stream",
     "text": [
      "<ipython-input-30-57e877ed1942>:8: DeprecationWarning:\n",
      "\n",
      "`set_matplotlib_formats` is deprecated since IPython 7.23, directly use `matplotlib_inline.backend_inline.set_matplotlib_formats()`\n",
      "\n"
     ]
    }
   ],
   "source": [
    "import numpy as np\n",
    "import ipywidgets as widgets\n",
    "from IPython.display import clear_output, display\n",
    "\n",
    "import matplotlib.pyplot as plt\n",
    "from IPython.display import set_matplotlib_formats\n",
    "%matplotlib inline\n",
    "set_matplotlib_formats('svg')\n",
    "\n",
    "np.random.seed(42)"
   ]
  },
  {
   "cell_type": "code",
   "execution_count": 27,
   "id": "7f70caa8",
   "metadata": {},
   "outputs": [],
   "source": [
    "from IPython.core.display import display, HTML\n",
    "# display(HTML(\"<style>.container { width:80% !important; }</style>\"))\n"
   ]
  },
  {
   "cell_type": "markdown",
   "id": "d197f401",
   "metadata": {
    "size": 750
   },
   "source": [
    "## Section"
   ]
  },
  {
   "cell_type": "code",
   "execution_count": 42,
   "id": "6eed3691",
   "metadata": {},
   "outputs": [
    {
     "ename": "AttributeError",
     "evalue": "'list' object has no attribute 'sort_values'",
     "output_type": "error",
     "traceback": [
      "\u001b[1;31m---------------------------------------------------------------------------\u001b[0m",
      "\u001b[1;31mAttributeError\u001b[0m                            Traceback (most recent call last)",
      "\u001b[1;32m<ipython-input-42-5540f031e943>\u001b[0m in \u001b[0;36m<module>\u001b[1;34m\u001b[0m\n\u001b[1;32m----> 1\u001b[1;33m \u001b[0mavailable_dates\u001b[0m \u001b[1;33m=\u001b[0m \u001b[0mlist\u001b[0m\u001b[1;33m(\u001b[0m\u001b[0mdf_stats\u001b[0m\u001b[1;33m[\u001b[0m\u001b[1;34m\"date\"\u001b[0m\u001b[1;33m]\u001b[0m\u001b[1;33m.\u001b[0m\u001b[0munique\u001b[0m\u001b[1;33m(\u001b[0m\u001b[1;33m)\u001b[0m\u001b[1;33m)\u001b[0m\u001b[1;33m.\u001b[0m\u001b[0msort_values\u001b[0m\u001b[1;33m(\u001b[0m\u001b[1;33m)\u001b[0m\u001b[1;33m\u001b[0m\u001b[1;33m\u001b[0m\u001b[0m\n\u001b[0m",
      "\u001b[1;31mAttributeError\u001b[0m: 'list' object has no attribute 'sort_values'"
     ]
    }
   ],
   "source": [
    "available_dates = list(df_stats[\"date\"].unique()).sort_values()\n"
   ]
  },
  {
   "cell_type": "code",
   "execution_count": 41,
   "id": "2936076e",
   "metadata": {
    "scrolled": true,
    "tags": [
     "body"
    ]
   },
   "outputs": [
    {
     "data": {
      "application/vnd.jupyter.widget-view+json": {
       "model_id": "cf1019d90a2d4d2e93d6b48b18d93761",
       "version_major": 2,
       "version_minor": 0
      },
      "text/plain": [
       "VBox(children=(Dropdown(description='Date to plot:', options=('2021-08-18', '2021-08-17', '2021-08-16', '2021-…"
      ]
     },
     "metadata": {},
     "output_type": "display_data"
    }
   ],
   "source": [
    "# date_label  = widgets.Label(value=\"Dates:\")\n",
    "date_var    = widgets.Dropdown(\n",
    "    options=available_dates,\n",
    "    value=available_dates[0],\n",
    "    description=\"Date to plot:\",\n",
    "    disabled=False,\n",
    ")\n",
    "\n",
    "sigma_label = widgets.Label(value=\"Sigma:\")\n",
    "# sigma_var   = widgets.BoundedIntText(value=15, min=10, max=50)\n",
    "\n",
    "# bins_label  = widgets.Label(value=\"Bins:\")\n",
    "# bins_var    = widgets.IntSlider(value=50, min=1, max=100, step=1)\n",
    "\n",
    "widgets.VBox([date_var,])"
   ]
  },
  {
   "cell_type": "markdown",
   "id": "34944f3a",
   "metadata": {
    "size": 750
   },
   "source": [
    "## Column "
   ]
  },
  {
   "cell_type": "code",
   "execution_count": 32,
   "id": "e80bcf91",
   "metadata": {},
   "outputs": [],
   "source": [
    "out = widgets.Output()\n"
   ]
  },
  {
   "cell_type": "code",
   "execution_count": 33,
   "id": "579ca47e",
   "metadata": {},
   "outputs": [],
   "source": [
    "def on_value_change(change):\n",
    "    date     = date_var.value\n",
    "    sigma = sigma_var.value\n",
    "    num_bins = bins_var.value\n",
    "\n",
    "    with out:\n",
    "        fig, ax = plt.subplots()\n",
    "\n",
    "        # the histogram of the data\n",
    "        x = mu + sigma * np.random.randn(437)\n",
    "        n, bins, patches = ax.hist(x, num_bins, density=1)\n",
    "\n",
    "        # add a 'best fit' line\n",
    "        y = ((1 / (np.sqrt(2 * np.pi) * sigma)) * np.exp(-0.5 * (1 / sigma * (bins - mu))**2))\n",
    "        ax.plot(bins, y, '--')\n",
    "        \n",
    "        ax.set_xlabel('X')\n",
    "        ax.set_ylabel('Probability density')\n",
    "        ax.set_title(f'Histogram with: mu={mu}, sigma={sigma}, bins={num_bins}')\n",
    "\n",
    "        clear_output(wait=True)\n",
    "        plt.show(fig)\n",
    "\n",
    "mu_var.observe(on_value_change, names=\"value\")\n",
    "sigma_var.observe(on_value_change, names=\"value\")\n",
    "bins_var.observe(on_value_change, names=\"value\")\n"
   ]
  },
  {
   "cell_type": "code",
   "execution_count": 34,
   "id": "b8c429f6",
   "metadata": {
    "tags": [
     "body"
    ]
   },
   "outputs": [
    {
     "data": {
      "application/vnd.jupyter.widget-view+json": {
       "model_id": "a15a15b64226472a83edc6bacc9df8e9",
       "version_major": 2,
       "version_minor": 0
      },
      "text/plain": [
       "Output()"
      ]
     },
     "metadata": {},
     "output_type": "display_data"
    }
   ],
   "source": [
    "on_value_change(None)\n",
    "out"
   ]
  }
 ],
 "metadata": {
  "kernelspec": {
   "display_name": "Python (dev)",
   "language": "python",
   "name": "dev"
  },
  "language_info": {
   "codemirror_mode": {
    "name": "ipython",
    "version": 3
   },
   "file_extension": ".py",
   "mimetype": "text/x-python",
   "name": "python",
   "nbconvert_exporter": "python",
   "pygments_lexer": "ipython3",
   "version": "3.8.8"
  }
 },
 "nbformat": 4,
 "nbformat_minor": 5
}
