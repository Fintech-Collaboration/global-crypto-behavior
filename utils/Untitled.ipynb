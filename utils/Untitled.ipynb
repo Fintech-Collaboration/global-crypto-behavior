{
 "cells": [
  {
   "cell_type": "code",
   "execution_count": 7,
   "id": "0302107f-b2f1-485f-9ea4-4ef45bb119c1",
   "metadata": {},
   "outputs": [],
   "source": [
    "import pandas as pd \n",
    "file_path = r\"../data/ticker-top-mention_20210814.csv\"\n",
    "df = pd.read_csv(file_path)"
   ]
  },
  {
   "cell_type": "code",
   "execution_count": 5,
   "id": "ce4abf89-effe-4700-b1b8-51056055d61e",
   "metadata": {},
   "outputs": [],
   "source": [
    "#df.drop(['Unnamed: 17', 'Unnamed: 18', 'Unnamed: 19', 'Unnamed: 20', 'Unnamed: 21'], axis=1, inplace=True)"
   ]
  },
  {
   "cell_type": "code",
   "execution_count": 8,
   "id": "1b8a0c5f-676b-4629-a61b-50ac3841aea1",
   "metadata": {},
   "outputs": [
    {
     "data": {
      "text/plain": [
       "total_mentions            37\n",
       "positive_mentions         25\n",
       "negative_mentions          3\n",
       "neutral_mentions           9\n",
       "ticker                   BTC\n",
       "name                 Bitcoin\n",
       "sentiment_score        1.135\n",
       "from_date            8142021\n",
       "to_date              8142021\n",
       "Name: 0, dtype: object"
      ]
     },
     "execution_count": 8,
     "metadata": {},
     "output_type": "execute_result"
    }
   ],
   "source": [
    "df.iloc[0]\n"
   ]
  },
  {
   "cell_type": "code",
   "execution_count": null,
   "id": "50ee26e7-c9c8-49b9-aa9e-e7e8014dab4d",
   "metadata": {},
   "outputs": [],
   "source": []
  }
 ],
 "metadata": {
  "kernelspec": {
   "display_name": "Python [conda env:pyvizenv]",
   "language": "python",
   "name": "conda-env-pyvizenv-py"
  },
  "language_info": {
   "codemirror_mode": {
    "name": "ipython",
    "version": 3
   },
   "file_extension": ".py",
   "mimetype": "text/x-python",
   "name": "python",
   "nbconvert_exporter": "python",
   "pygments_lexer": "ipython3",
   "version": "3.7.11"
  }
 },
 "nbformat": 4,
 "nbformat_minor": 5
}
