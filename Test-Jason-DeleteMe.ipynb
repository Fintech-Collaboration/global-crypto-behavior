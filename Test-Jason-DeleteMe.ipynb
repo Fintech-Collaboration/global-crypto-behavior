{
 "cells": [
  {
   "cell_type": "code",
   "execution_count": 43,
   "id": "25416501",
   "metadata": {},
   "outputs": [],
   "source": [
    "import pandas as pd\n",
    "import plotly.graph_objects as go\n",
    "\n",
    "from pathlib import Path\n"
   ]
  },
  {
   "cell_type": "code",
   "execution_count": 44,
   "id": "71de6d5e",
   "metadata": {},
   "outputs": [
    {
     "data": {
      "text/html": [
       "<div>\n",
       "<style scoped>\n",
       "    .dataframe tbody tr th:only-of-type {\n",
       "        vertical-align: middle;\n",
       "    }\n",
       "\n",
       "    .dataframe tbody tr th {\n",
       "        vertical-align: top;\n",
       "    }\n",
       "\n",
       "    .dataframe thead th {\n",
       "        text-align: right;\n",
       "    }\n",
       "</style>\n",
       "<table border=\"1\" class=\"dataframe\">\n",
       "  <thead>\n",
       "    <tr style=\"text-align: right;\">\n",
       "      <th></th>\n",
       "      <th>total_mentions</th>\n",
       "      <th>positive_mentions</th>\n",
       "      <th>negative_mentions</th>\n",
       "      <th>neutral_mentions</th>\n",
       "      <th>ticker</th>\n",
       "      <th>name</th>\n",
       "      <th>sentiment_score</th>\n",
       "      <th>from_date</th>\n",
       "      <th>to_date</th>\n",
       "    </tr>\n",
       "  </thead>\n",
       "  <tbody>\n",
       "    <tr>\n",
       "      <th>0</th>\n",
       "      <td>70</td>\n",
       "      <td>35</td>\n",
       "      <td>14</td>\n",
       "      <td>21</td>\n",
       "      <td>BTC</td>\n",
       "      <td>Bitcoin</td>\n",
       "      <td>0.750</td>\n",
       "      <td>8162021</td>\n",
       "      <td>8162021</td>\n",
       "    </tr>\n",
       "    <tr>\n",
       "      <th>1</th>\n",
       "      <td>57</td>\n",
       "      <td>29</td>\n",
       "      <td>5</td>\n",
       "      <td>23</td>\n",
       "      <td>ETH</td>\n",
       "      <td>Ethereum</td>\n",
       "      <td>1.035</td>\n",
       "      <td>8162021</td>\n",
       "      <td>8162021</td>\n",
       "    </tr>\n",
       "    <tr>\n",
       "      <th>2</th>\n",
       "      <td>40</td>\n",
       "      <td>28</td>\n",
       "      <td>1</td>\n",
       "      <td>11</td>\n",
       "      <td>DOGE</td>\n",
       "      <td>Dogecoin</td>\n",
       "      <td>1.288</td>\n",
       "      <td>8162021</td>\n",
       "      <td>8162021</td>\n",
       "    </tr>\n",
       "    <tr>\n",
       "      <th>3</th>\n",
       "      <td>32</td>\n",
       "      <td>31</td>\n",
       "      <td>0</td>\n",
       "      <td>1</td>\n",
       "      <td>SOL</td>\n",
       "      <td>Solana</td>\n",
       "      <td>1.484</td>\n",
       "      <td>8162021</td>\n",
       "      <td>8162021</td>\n",
       "    </tr>\n",
       "    <tr>\n",
       "      <th>4</th>\n",
       "      <td>22</td>\n",
       "      <td>8</td>\n",
       "      <td>7</td>\n",
       "      <td>7</td>\n",
       "      <td>ADA</td>\n",
       "      <td>Cardano</td>\n",
       "      <td>0.386</td>\n",
       "      <td>8162021</td>\n",
       "      <td>8162021</td>\n",
       "    </tr>\n",
       "    <tr>\n",
       "      <th>5</th>\n",
       "      <td>12</td>\n",
       "      <td>8</td>\n",
       "      <td>0</td>\n",
       "      <td>4</td>\n",
       "      <td>XRP</td>\n",
       "      <td>Ripple</td>\n",
       "      <td>1.333</td>\n",
       "      <td>8162021</td>\n",
       "      <td>8162021</td>\n",
       "    </tr>\n",
       "    <tr>\n",
       "      <th>6</th>\n",
       "      <td>6</td>\n",
       "      <td>3</td>\n",
       "      <td>0</td>\n",
       "      <td>3</td>\n",
       "      <td>BNB</td>\n",
       "      <td>Binance Coin</td>\n",
       "      <td>1.250</td>\n",
       "      <td>8162021</td>\n",
       "      <td>8162021</td>\n",
       "    </tr>\n",
       "    <tr>\n",
       "      <th>7</th>\n",
       "      <td>6</td>\n",
       "      <td>3</td>\n",
       "      <td>1</td>\n",
       "      <td>2</td>\n",
       "      <td>MATIC</td>\n",
       "      <td>Polygon</td>\n",
       "      <td>0.833</td>\n",
       "      <td>8162021</td>\n",
       "      <td>8162021</td>\n",
       "    </tr>\n",
       "    <tr>\n",
       "      <th>8</th>\n",
       "      <td>5</td>\n",
       "      <td>4</td>\n",
       "      <td>0</td>\n",
       "      <td>1</td>\n",
       "      <td>LINK</td>\n",
       "      <td>Chainlink</td>\n",
       "      <td>1.400</td>\n",
       "      <td>8162021</td>\n",
       "      <td>8162021</td>\n",
       "    </tr>\n",
       "    <tr>\n",
       "      <th>9</th>\n",
       "      <td>4</td>\n",
       "      <td>2</td>\n",
       "      <td>0</td>\n",
       "      <td>2</td>\n",
       "      <td>DOT</td>\n",
       "      <td>Polkadot</td>\n",
       "      <td>1.250</td>\n",
       "      <td>8162021</td>\n",
       "      <td>8162021</td>\n",
       "    </tr>\n",
       "  </tbody>\n",
       "</table>\n",
       "</div>"
      ],
      "text/plain": [
       "   total_mentions  positive_mentions  negative_mentions  neutral_mentions  \\\n",
       "0              70                 35                 14                21   \n",
       "1              57                 29                  5                23   \n",
       "2              40                 28                  1                11   \n",
       "3              32                 31                  0                 1   \n",
       "4              22                  8                  7                 7   \n",
       "5              12                  8                  0                 4   \n",
       "6               6                  3                  0                 3   \n",
       "7               6                  3                  1                 2   \n",
       "8               5                  4                  0                 1   \n",
       "9               4                  2                  0                 2   \n",
       "\n",
       "  ticker          name  sentiment_score  from_date  to_date  \n",
       "0    BTC       Bitcoin            0.750    8162021  8162021  \n",
       "1    ETH      Ethereum            1.035    8162021  8162021  \n",
       "2   DOGE      Dogecoin            1.288    8162021  8162021  \n",
       "3    SOL        Solana            1.484    8162021  8162021  \n",
       "4    ADA       Cardano            0.386    8162021  8162021  \n",
       "5    XRP        Ripple            1.333    8162021  8162021  \n",
       "6    BNB  Binance Coin            1.250    8162021  8162021  \n",
       "7  MATIC       Polygon            0.833    8162021  8162021  \n",
       "8   LINK     Chainlink            1.400    8162021  8162021  \n",
       "9    DOT      Polkadot            1.250    8162021  8162021  "
      ]
     },
     "execution_count": 44,
     "metadata": {},
     "output_type": "execute_result"
    }
   ],
   "source": [
    "file_path = \"./data/ticker-top-mention_20210816.csv\"\n",
    "\n",
    "df = pd.read_csv(file_path)\n",
    "df.head(10)"
   ]
  },
  {
   "cell_type": "code",
   "execution_count": 45,
   "id": "f02e8e09",
   "metadata": {},
   "outputs": [],
   "source": [
    "hovertemplate_bar = \"\"\"\n",
    "<b>%{x}</b><br><br>\n",
    "Location : (%{customdata[0]:.2f}, %{customdata[1]:.2f})<br>\n",
    "Gross Rent : $%{customdata[4]:.2f} (%{customdata[6]})<br>\n",
    "Sale Price/Square Foot : $%{customdata[5]:.2f} (%{customdata[7]})<br>\n",
    "Gross Rent Increase : %{customdata[8]:.1f}% (%{customdata[10]})<br>\n",
    "Sale Price/Square Foot Increase : %{customdata[9]:.1f}% (%{customdata[11]})<br>\n",
    "Housing Units : %{customdata[2]:.0f} (%{customdata[3]})\n",
    "<extra></extra>\n",
    "\"\"\"\n"
   ]
  },
  {
   "cell_type": "code",
   "execution_count": 46,
   "id": "1b7fa193",
   "metadata": {},
   "outputs": [
    {
     "ename": "ValueError",
     "evalue": "Invalid property specified for object of type plotly.graph_objs.Bar: 'barmode'\n\nDid you mean \"base\"?\n\n    Valid properties:\n        alignmentgroup\n            Set several traces linked to the same position axis or\n            matching axes to the same alignmentgroup. This controls\n            whether bars compute their positional range dependently\n            or independently.\n        base\n            Sets where the bar base is drawn (in position axis\n            units). In \"stack\" or \"relative\" barmode, traces that\n            set \"base\" will be excluded and drawn in \"overlay\" mode\n            instead.\n        basesrc\n            Sets the source reference on Chart Studio Cloud for\n            base .\n        cliponaxis\n            Determines whether the text nodes are clipped about the\n            subplot axes. To show the text nodes above axis lines\n            and tick labels, make sure to set `xaxis.layer` and\n            `yaxis.layer` to *below traces*.\n        constraintext\n            Constrain the size of text inside or outside a bar to\n            be no larger than the bar itself.\n        customdata\n            Assigns extra data each datum. This may be useful when\n            listening to hover, click and selection events. Note\n            that, \"scatter\" traces also appends customdata items in\n            the markers DOM elements\n        customdatasrc\n            Sets the source reference on Chart Studio Cloud for\n            customdata .\n        dx\n            Sets the x coordinate step. See `x0` for more info.\n        dy\n            Sets the y coordinate step. See `y0` for more info.\n        error_x\n            :class:`plotly.graph_objects.bar.ErrorX` instance or\n            dict with compatible properties\n        error_y\n            :class:`plotly.graph_objects.bar.ErrorY` instance or\n            dict with compatible properties\n        hoverinfo\n            Determines which trace information appear on hover. If\n            `none` or `skip` are set, no information is displayed\n            upon hovering. But, if `none` is set, click and hover\n            events are still fired.\n        hoverinfosrc\n            Sets the source reference on Chart Studio Cloud for\n            hoverinfo .\n        hoverlabel\n            :class:`plotly.graph_objects.bar.Hoverlabel` instance\n            or dict with compatible properties\n        hovertemplate\n            Template string used for rendering the information that\n            appear on hover box. Note that this will override\n            `hoverinfo`. Variables are inserted using %{variable},\n            for example \"y: %{y}\" as well as %{xother}, {%_xother},\n            {%_xother_}, {%xother_}. When showing info for several\n            points, \"xother\" will be added to those with different\n            x positions from the first point. An underscore before\n            or after \"(x|y)other\" will add a space on that side,\n            only when this field is shown. Numbers are formatted\n            using d3-format's syntax %{variable:d3-format}, for\n            example \"Price: %{y:$.2f}\".\n            https://github.com/d3/d3-3.x-api-\n            reference/blob/master/Formatting.md#d3_format for\n            details on the formatting syntax. Dates are formatted\n            using d3-time-format's syntax %{variable|d3-time-\n            format}, for example \"Day: %{2019-01-01|%A}\".\n            https://github.com/d3/d3-time-format#locale_format for\n            details on the date formatting syntax. The variables\n            available in `hovertemplate` are the ones emitted as\n            event data described at this link\n            https://plotly.com/javascript/plotlyjs-events/#event-\n            data. Additionally, every attributes that can be\n            specified per-point (the ones that are `arrayOk: true`)\n            are available. variables `value` and `label`. Anything\n            contained in tag `<extra>` is displayed in the\n            secondary box, for example\n            \"<extra>{fullData.name}</extra>\". To hide the secondary\n            box completely, use an empty tag `<extra></extra>`.\n        hovertemplatesrc\n            Sets the source reference on Chart Studio Cloud for\n            hovertemplate .\n        hovertext\n            Sets hover text elements associated with each (x,y)\n            pair. If a single string, the same string appears over\n            all the data points. If an array of string, the items\n            are mapped in order to the this trace's (x,y)\n            coordinates. To be seen, trace `hoverinfo` must contain\n            a \"text\" flag.\n        hovertextsrc\n            Sets the source reference on Chart Studio Cloud for\n            hovertext .\n        ids\n            Assigns id labels to each datum. These ids for object\n            constancy of data points during animation. Should be an\n            array of strings, not numbers or any other type.\n        idssrc\n            Sets the source reference on Chart Studio Cloud for\n            ids .\n        insidetextanchor\n            Determines if texts are kept at center or start/end\n            points in `textposition` \"inside\" mode.\n        insidetextfont\n            Sets the font used for `text` lying inside the bar.\n        legendgroup\n            Sets the legend group for this trace. Traces part of\n            the same legend group hide/show at the same time when\n            toggling legend items.\n        legendgrouptitle\n            :class:`plotly.graph_objects.bar.Legendgrouptitle`\n            instance or dict with compatible properties\n        legendrank\n            Sets the legend rank for this trace. Items and groups\n            with smaller ranks are presented on top/left side while\n            with `*reversed* `legend.traceorder` they are on\n            bottom/right side. The default legendrank is 1000, so\n            that you can use ranks less than 1000 to place certain\n            items before all unranked items, and ranks greater than\n            1000 to go after all unranked items.\n        marker\n            :class:`plotly.graph_objects.bar.Marker` instance or\n            dict with compatible properties\n        meta\n            Assigns extra meta information associated with this\n            trace that can be used in various text attributes.\n            Attributes such as trace `name`, graph, axis and\n            colorbar `title.text`, annotation `text`\n            `rangeselector`, `updatemenues` and `sliders` `label`\n            text all support `meta`. To access the trace `meta`\n            values in an attribute in the same trace, simply use\n            `%{meta[i]}` where `i` is the index or key of the\n            `meta` item in question. To access trace `meta` in\n            layout attributes, use `%{data[n[.meta[i]}` where `i`\n            is the index or key of the `meta` and `n` is the trace\n            index.\n        metasrc\n            Sets the source reference on Chart Studio Cloud for\n            meta .\n        name\n            Sets the trace name. The trace name appear as the\n            legend item and on hover.\n        offset\n            Shifts the position where the bar is drawn (in position\n            axis units). In \"group\" barmode, traces that set\n            \"offset\" will be excluded and drawn in \"overlay\" mode\n            instead.\n        offsetgroup\n            Set several traces linked to the same position axis or\n            matching axes to the same offsetgroup where bars of the\n            same position coordinate will line up.\n        offsetsrc\n            Sets the source reference on Chart Studio Cloud for\n            offset .\n        opacity\n            Sets the opacity of the trace.\n        orientation\n            Sets the orientation of the bars. With \"v\" (\"h\"), the\n            value of the each bar spans along the vertical\n            (horizontal).\n        outsidetextfont\n            Sets the font used for `text` lying outside the bar.\n        selected\n            :class:`plotly.graph_objects.bar.Selected` instance or\n            dict with compatible properties\n        selectedpoints\n            Array containing integer indices of selected points.\n            Has an effect only for traces that support selections.\n            Note that an empty array means an empty selection where\n            the `unselected` are turned on for all points, whereas,\n            any other non-array values means no selection all where\n            the `selected` and `unselected` styles have no effect.\n        showlegend\n            Determines whether or not an item corresponding to this\n            trace is shown in the legend.\n        stream\n            :class:`plotly.graph_objects.bar.Stream` instance or\n            dict with compatible properties\n        text\n            Sets text elements associated with each (x,y) pair. If\n            a single string, the same string appears over all the\n            data points. If an array of string, the items are\n            mapped in order to the this trace's (x,y) coordinates.\n            If trace `hoverinfo` contains a \"text\" flag and\n            \"hovertext\" is not set, these elements will be seen in\n            the hover labels.\n        textangle\n            Sets the angle of the tick labels with respect to the\n            bar. For example, a `tickangle` of -90 draws the tick\n            labels vertically. With \"auto\" the texts may\n            automatically be rotated to fit with the maximum size\n            in bars.\n        textfont\n            Sets the font used for `text`.\n        textposition\n            Specifies the location of the `text`. \"inside\"\n            positions `text` inside, next to the bar end (rotated\n            and scaled if needed). \"outside\" positions `text`\n            outside, next to the bar end (scaled if needed), unless\n            there is another bar stacked on this one, then the text\n            gets pushed inside. \"auto\" tries to position `text`\n            inside the bar, but if the bar is too small and no bar\n            is stacked on this one the text is moved outside. If\n            \"none\", no text appears.\n        textpositionsrc\n            Sets the source reference on Chart Studio Cloud for\n            textposition .\n        textsrc\n            Sets the source reference on Chart Studio Cloud for\n            text .\n        texttemplate\n            Template string used for rendering the information text\n            that appear on points. Note that this will override\n            `textinfo`. Variables are inserted using %{variable},\n            for example \"y: %{y}\". Numbers are formatted using\n            d3-format's syntax %{variable:d3-format}, for example\n            \"Price: %{y:$.2f}\". https://github.com/d3/d3-3.x-api-\n            reference/blob/master/Formatting.md#d3_format for\n            details on the formatting syntax. Dates are formatted\n            using d3-time-format's syntax %{variable|d3-time-\n            format}, for example \"Day: %{2019-01-01|%A}\".\n            https://github.com/d3/d3-time-format#locale_format for\n            details on the date formatting syntax. Every attributes\n            that can be specified per-point (the ones that are\n            `arrayOk: true`) are available. variables `value` and\n            `label`.\n        texttemplatesrc\n            Sets the source reference on Chart Studio Cloud for\n            texttemplate .\n        uid\n            Assign an id to this trace, Use this to provide object\n            constancy between traces during animations and\n            transitions.\n        uirevision\n            Controls persistence of some user-driven changes to the\n            trace: `constraintrange` in `parcoords` traces, as well\n            as some `editable: true` modifications such as `name`\n            and `colorbar.title`. Defaults to `layout.uirevision`.\n            Note that other user-driven trace attribute changes are\n            controlled by `layout` attributes: `trace.visible` is\n            controlled by `layout.legend.uirevision`,\n            `selectedpoints` is controlled by\n            `layout.selectionrevision`, and `colorbar.(x|y)`\n            (accessible with `config: {editable: true}`) is\n            controlled by `layout.editrevision`. Trace changes are\n            tracked by `uid`, which only falls back on trace index\n            if no `uid` is provided. So if your app can add/remove\n            traces before the end of the `data` array, such that\n            the same trace has a different index, you can still\n            preserve user-driven changes if you give each trace a\n            `uid` that stays with it as it moves.\n        unselected\n            :class:`plotly.graph_objects.bar.Unselected` instance\n            or dict with compatible properties\n        visible\n            Determines whether or not this trace is visible. If\n            \"legendonly\", the trace is not drawn, but can appear as\n            a legend item (provided that the legend itself is\n            visible).\n        width\n            Sets the bar width (in position axis units).\n        widthsrc\n            Sets the source reference on Chart Studio Cloud for\n            width .\n        x\n            Sets the x coordinates.\n        x0\n            Alternate to `x`. Builds a linear space of x\n            coordinates. Use with `dx` where `x0` is the starting\n            coordinate and `dx` the step.\n        xaxis\n            Sets a reference between this trace's x coordinates and\n            a 2D cartesian x axis. If \"x\" (the default value), the\n            x coordinates refer to `layout.xaxis`. If \"x2\", the x\n            coordinates refer to `layout.xaxis2`, and so on.\n        xcalendar\n            Sets the calendar system to use with `x` date data.\n        xhoverformat\n            Sets the hover text formatting rulefor `x`  using d3\n            formatting mini-languages which are very similar to\n            those in Python. For numbers, see:\n            https://github.com/d3/d3-3.x-api-\n            reference/blob/master/Formatting.md#d3_format. And for\n            dates see: https://github.com/d3/d3-time-\n            format#locale_format. We add two items to d3's date\n            formatter: \"%h\" for half of the year as a decimal\n            number as well as \"%{n}f\" for fractional seconds with n\n            digits. For example, *2016-10-13 09:15:23.456* with\n            tickformat \"%H~%M~%S.%2f\" would display *09~15~23.46*By\n            default the values are formatted using\n            `xaxis.hoverformat`.\n        xperiod\n            Only relevant when the axis `type` is \"date\". Sets the\n            period positioning in milliseconds or \"M<n>\" on the x\n            axis. Special values in the form of \"M<n>\" could be\n            used to declare the number of months. In this case `n`\n            must be a positive integer.\n        xperiod0\n            Only relevant when the axis `type` is \"date\". Sets the\n            base for period positioning in milliseconds or date\n            string on the x0 axis. When `x0period` is round number\n            of weeks, the `x0period0` by default would be on a\n            Sunday i.e. 2000-01-02, otherwise it would be at\n            2000-01-01.\n        xperiodalignment\n            Only relevant when the axis `type` is \"date\". Sets the\n            alignment of data points on the x axis.\n        xsrc\n            Sets the source reference on Chart Studio Cloud for  x\n            .\n        y\n            Sets the y coordinates.\n        y0\n            Alternate to `y`. Builds a linear space of y\n            coordinates. Use with `dy` where `y0` is the starting\n            coordinate and `dy` the step.\n        yaxis\n            Sets a reference between this trace's y coordinates and\n            a 2D cartesian y axis. If \"y\" (the default value), the\n            y coordinates refer to `layout.yaxis`. If \"y2\", the y\n            coordinates refer to `layout.yaxis2`, and so on.\n        ycalendar\n            Sets the calendar system to use with `y` date data.\n        yhoverformat\n            Sets the hover text formatting rulefor `y`  using d3\n            formatting mini-languages which are very similar to\n            those in Python. For numbers, see:\n            https://github.com/d3/d3-3.x-api-\n            reference/blob/master/Formatting.md#d3_format. And for\n            dates see: https://github.com/d3/d3-time-\n            format#locale_format. We add two items to d3's date\n            formatter: \"%h\" for half of the year as a decimal\n            number as well as \"%{n}f\" for fractional seconds with n\n            digits. For example, *2016-10-13 09:15:23.456* with\n            tickformat \"%H~%M~%S.%2f\" would display *09~15~23.46*By\n            default the values are formatted using\n            `yaxis.hoverformat`.\n        yperiod\n            Only relevant when the axis `type` is \"date\". Sets the\n            period positioning in milliseconds or \"M<n>\" on the y\n            axis. Special values in the form of \"M<n>\" could be\n            used to declare the number of months. In this case `n`\n            must be a positive integer.\n        yperiod0\n            Only relevant when the axis `type` is \"date\". Sets the\n            base for period positioning in milliseconds or date\n            string on the y0 axis. When `y0period` is round number\n            of weeks, the `y0period0` by default would be on a\n            Sunday i.e. 2000-01-02, otherwise it would be at\n            2000-01-01.\n        yperiodalignment\n            Only relevant when the axis `type` is \"date\". Sets the\n            alignment of data points on the y axis.\n        ysrc\n            Sets the source reference on Chart Studio Cloud for  y\n            .\n        \nDid you mean \"base\"?\n\nBad property path:\nbarmode\n^^^^^^^",
     "output_type": "error",
     "traceback": [
      "\u001b[1;31m---------------------------------------------------------------------------\u001b[0m",
      "\u001b[1;31mValueError\u001b[0m                                Traceback (most recent call last)",
      "\u001b[1;32m<ipython-input-46-2db059debcd6>\u001b[0m in \u001b[0;36m<module>\u001b[1;34m\u001b[0m\n\u001b[0;32m     14\u001b[0m fig_bar = go.Figure([\n\u001b[0;32m     15\u001b[0m \u001b[1;31m#     create_bar_trace(df[\"sentiment_score\"], df[\"ticker\"], \"Sentiment Score\"),\u001b[0m\u001b[1;33m\u001b[0m\u001b[1;33m\u001b[0m\u001b[1;33m\u001b[0m\u001b[0m\n\u001b[1;32m---> 16\u001b[1;33m     \u001b[0mcreate_bar_trace\u001b[0m\u001b[1;33m(\u001b[0m\u001b[0mdf\u001b[0m\u001b[1;33m[\u001b[0m\u001b[1;34m\"positive_mentions\"\u001b[0m\u001b[1;33m]\u001b[0m\u001b[1;33m,\u001b[0m \u001b[0mdf\u001b[0m\u001b[1;33m[\u001b[0m\u001b[1;34m\"ticker\"\u001b[0m\u001b[1;33m]\u001b[0m\u001b[1;33m,\u001b[0m \u001b[1;34m\"Positive Mentions\"\u001b[0m\u001b[1;33m)\u001b[0m\u001b[1;33m,\u001b[0m\u001b[1;33m\u001b[0m\u001b[1;33m\u001b[0m\u001b[0m\n\u001b[0m\u001b[0;32m     17\u001b[0m     \u001b[0mcreate_bar_trace\u001b[0m\u001b[1;33m(\u001b[0m\u001b[0mdf\u001b[0m\u001b[1;33m[\u001b[0m\u001b[1;34m\"negative_mentions\"\u001b[0m\u001b[1;33m]\u001b[0m\u001b[1;33m,\u001b[0m \u001b[0mdf\u001b[0m\u001b[1;33m[\u001b[0m\u001b[1;34m\"ticker\"\u001b[0m\u001b[1;33m]\u001b[0m\u001b[1;33m,\u001b[0m \u001b[1;34m\"Negative Mentions\"\u001b[0m\u001b[1;33m)\u001b[0m\u001b[1;33m,\u001b[0m\u001b[1;33m\u001b[0m\u001b[1;33m\u001b[0m\u001b[0m\n\u001b[0;32m     18\u001b[0m     \u001b[0mcreate_bar_trace\u001b[0m\u001b[1;33m(\u001b[0m\u001b[0mdf\u001b[0m\u001b[1;33m[\u001b[0m\u001b[1;34m\"neutral_mentions\"\u001b[0m\u001b[1;33m]\u001b[0m\u001b[1;33m,\u001b[0m  \u001b[0mdf\u001b[0m\u001b[1;33m[\u001b[0m\u001b[1;34m\"ticker\"\u001b[0m\u001b[1;33m]\u001b[0m\u001b[1;33m,\u001b[0m \u001b[1;34m\"Neutral Mentions\"\u001b[0m\u001b[1;33m)\u001b[0m\u001b[1;33m,\u001b[0m\u001b[1;33m\u001b[0m\u001b[1;33m\u001b[0m\u001b[0m\n",
      "\u001b[1;32m<ipython-input-46-2db059debcd6>\u001b[0m in \u001b[0;36mcreate_bar_trace\u001b[1;34m(ydata, xdata, name)\u001b[0m\n\u001b[0;32m      1\u001b[0m \u001b[1;31m# Append the trace data\u001b[0m\u001b[1;33m\u001b[0m\u001b[1;33m\u001b[0m\u001b[1;33m\u001b[0m\u001b[0m\n\u001b[0;32m      2\u001b[0m \u001b[1;32mdef\u001b[0m \u001b[0mcreate_bar_trace\u001b[0m\u001b[1;33m(\u001b[0m\u001b[0mydata\u001b[0m\u001b[1;33m,\u001b[0m \u001b[0mxdata\u001b[0m\u001b[1;33m,\u001b[0m \u001b[0mname\u001b[0m\u001b[1;33m)\u001b[0m\u001b[1;33m:\u001b[0m\u001b[1;33m\u001b[0m\u001b[1;33m\u001b[0m\u001b[0m\n\u001b[1;32m----> 3\u001b[1;33m     trace = go.Bar(\n\u001b[0m\u001b[0;32m      4\u001b[0m         \u001b[0mname\u001b[0m\u001b[1;33m=\u001b[0m\u001b[0mname\u001b[0m\u001b[1;33m,\u001b[0m\u001b[1;33m\u001b[0m\u001b[1;33m\u001b[0m\u001b[0m\n\u001b[0;32m      5\u001b[0m         \u001b[0mx\u001b[0m\u001b[1;33m=\u001b[0m\u001b[0mxdata\u001b[0m\u001b[1;33m,\u001b[0m\u001b[1;33m\u001b[0m\u001b[1;33m\u001b[0m\u001b[0m\n",
      "\u001b[1;32mE:\\Anaconda3\\envs\\dev\\lib\\site-packages\\plotly\\graph_objs\\_bar.py\u001b[0m in \u001b[0;36m__init__\u001b[1;34m(self, arg, alignmentgroup, base, basesrc, cliponaxis, constraintext, customdata, customdatasrc, dx, dy, error_x, error_y, hoverinfo, hoverinfosrc, hoverlabel, hovertemplate, hovertemplatesrc, hovertext, hovertextsrc, ids, idssrc, insidetextanchor, insidetextfont, legendgroup, legendgrouptitle, legendrank, marker, meta, metasrc, name, offset, offsetgroup, offsetsrc, opacity, orientation, outsidetextfont, selected, selectedpoints, showlegend, stream, text, textangle, textfont, textposition, textpositionsrc, textsrc, texttemplate, texttemplatesrc, uid, uirevision, unselected, visible, width, widthsrc, x, x0, xaxis, xcalendar, xhoverformat, xperiod, xperiod0, xperiodalignment, xsrc, y, y0, yaxis, ycalendar, yhoverformat, yperiod, yperiod0, yperiodalignment, ysrc, **kwargs)\u001b[0m\n\u001b[0;32m   3253\u001b[0m         \u001b[1;31m# Process unknown kwargs\u001b[0m\u001b[1;33m\u001b[0m\u001b[1;33m\u001b[0m\u001b[1;33m\u001b[0m\u001b[0m\n\u001b[0;32m   3254\u001b[0m         \u001b[1;31m# ----------------------\u001b[0m\u001b[1;33m\u001b[0m\u001b[1;33m\u001b[0m\u001b[1;33m\u001b[0m\u001b[0m\n\u001b[1;32m-> 3255\u001b[1;33m         \u001b[0mself\u001b[0m\u001b[1;33m.\u001b[0m\u001b[0m_process_kwargs\u001b[0m\u001b[1;33m(\u001b[0m\u001b[1;33m**\u001b[0m\u001b[0mdict\u001b[0m\u001b[1;33m(\u001b[0m\u001b[0marg\u001b[0m\u001b[1;33m,\u001b[0m \u001b[1;33m**\u001b[0m\u001b[0mkwargs\u001b[0m\u001b[1;33m)\u001b[0m\u001b[1;33m)\u001b[0m\u001b[1;33m\u001b[0m\u001b[1;33m\u001b[0m\u001b[0m\n\u001b[0m\u001b[0;32m   3256\u001b[0m \u001b[1;33m\u001b[0m\u001b[0m\n\u001b[0;32m   3257\u001b[0m         \u001b[1;31m# Reset skip_invalid\u001b[0m\u001b[1;33m\u001b[0m\u001b[1;33m\u001b[0m\u001b[1;33m\u001b[0m\u001b[0m\n",
      "\u001b[1;32mE:\\Anaconda3\\envs\\dev\\lib\\site-packages\\plotly\\basedatatypes.py\u001b[0m in \u001b[0;36m_process_kwargs\u001b[1;34m(self, **kwargs)\u001b[0m\n\u001b[0;32m   4335\u001b[0m                 \u001b[0mself\u001b[0m\u001b[1;33m[\u001b[0m\u001b[0mk\u001b[0m\u001b[1;33m]\u001b[0m \u001b[1;33m=\u001b[0m \u001b[0mv\u001b[0m\u001b[1;33m\u001b[0m\u001b[1;33m\u001b[0m\u001b[0m\n\u001b[0;32m   4336\u001b[0m             \u001b[1;32melif\u001b[0m \u001b[1;32mnot\u001b[0m \u001b[0mself\u001b[0m\u001b[1;33m.\u001b[0m\u001b[0m_skip_invalid\u001b[0m\u001b[1;33m:\u001b[0m\u001b[1;33m\u001b[0m\u001b[1;33m\u001b[0m\u001b[0m\n\u001b[1;32m-> 4337\u001b[1;33m                 \u001b[1;32mraise\u001b[0m \u001b[0merr\u001b[0m\u001b[1;33m\u001b[0m\u001b[1;33m\u001b[0m\u001b[0m\n\u001b[0m\u001b[0;32m   4338\u001b[0m         \u001b[1;31m# No need to call _raise_on_invalid_property_error here,\u001b[0m\u001b[1;33m\u001b[0m\u001b[1;33m\u001b[0m\u001b[1;33m\u001b[0m\u001b[0m\n\u001b[0;32m   4339\u001b[0m         \u001b[1;31m# because we have it set up so that the singular case of calling\u001b[0m\u001b[1;33m\u001b[0m\u001b[1;33m\u001b[0m\u001b[1;33m\u001b[0m\u001b[0m\n",
      "\u001b[1;31mValueError\u001b[0m: Invalid property specified for object of type plotly.graph_objs.Bar: 'barmode'\n\nDid you mean \"base\"?\n\n    Valid properties:\n        alignmentgroup\n            Set several traces linked to the same position axis or\n            matching axes to the same alignmentgroup. This controls\n            whether bars compute their positional range dependently\n            or independently.\n        base\n            Sets where the bar base is drawn (in position axis\n            units). In \"stack\" or \"relative\" barmode, traces that\n            set \"base\" will be excluded and drawn in \"overlay\" mode\n            instead.\n        basesrc\n            Sets the source reference on Chart Studio Cloud for\n            base .\n        cliponaxis\n            Determines whether the text nodes are clipped about the\n            subplot axes. To show the text nodes above axis lines\n            and tick labels, make sure to set `xaxis.layer` and\n            `yaxis.layer` to *below traces*.\n        constraintext\n            Constrain the size of text inside or outside a bar to\n            be no larger than the bar itself.\n        customdata\n            Assigns extra data each datum. This may be useful when\n            listening to hover, click and selection events. Note\n            that, \"scatter\" traces also appends customdata items in\n            the markers DOM elements\n        customdatasrc\n            Sets the source reference on Chart Studio Cloud for\n            customdata .\n        dx\n            Sets the x coordinate step. See `x0` for more info.\n        dy\n            Sets the y coordinate step. See `y0` for more info.\n        error_x\n            :class:`plotly.graph_objects.bar.ErrorX` instance or\n            dict with compatible properties\n        error_y\n            :class:`plotly.graph_objects.bar.ErrorY` instance or\n            dict with compatible properties\n        hoverinfo\n            Determines which trace information appear on hover. If\n            `none` or `skip` are set, no information is displayed\n            upon hovering. But, if `none` is set, click and hover\n            events are still fired.\n        hoverinfosrc\n            Sets the source reference on Chart Studio Cloud for\n            hoverinfo .\n        hoverlabel\n            :class:`plotly.graph_objects.bar.Hoverlabel` instance\n            or dict with compatible properties\n        hovertemplate\n            Template string used for rendering the information that\n            appear on hover box. Note that this will override\n            `hoverinfo`. Variables are inserted using %{variable},\n            for example \"y: %{y}\" as well as %{xother}, {%_xother},\n            {%_xother_}, {%xother_}. When showing info for several\n            points, \"xother\" will be added to those with different\n            x positions from the first point. An underscore before\n            or after \"(x|y)other\" will add a space on that side,\n            only when this field is shown. Numbers are formatted\n            using d3-format's syntax %{variable:d3-format}, for\n            example \"Price: %{y:$.2f}\".\n            https://github.com/d3/d3-3.x-api-\n            reference/blob/master/Formatting.md#d3_format for\n            details on the formatting syntax. Dates are formatted\n            using d3-time-format's syntax %{variable|d3-time-\n            format}, for example \"Day: %{2019-01-01|%A}\".\n            https://github.com/d3/d3-time-format#locale_format for\n            details on the date formatting syntax. The variables\n            available in `hovertemplate` are the ones emitted as\n            event data described at this link\n            https://plotly.com/javascript/plotlyjs-events/#event-\n            data. Additionally, every attributes that can be\n            specified per-point (the ones that are `arrayOk: true`)\n            are available. variables `value` and `label`. Anything\n            contained in tag `<extra>` is displayed in the\n            secondary box, for example\n            \"<extra>{fullData.name}</extra>\". To hide the secondary\n            box completely, use an empty tag `<extra></extra>`.\n        hovertemplatesrc\n            Sets the source reference on Chart Studio Cloud for\n            hovertemplate .\n        hovertext\n            Sets hover text elements associated with each (x,y)\n            pair. If a single string, the same string appears over\n            all the data points. If an array of string, the items\n            are mapped in order to the this trace's (x,y)\n            coordinates. To be seen, trace `hoverinfo` must contain\n            a \"text\" flag.\n        hovertextsrc\n            Sets the source reference on Chart Studio Cloud for\n            hovertext .\n        ids\n            Assigns id labels to each datum. These ids for object\n            constancy of data points during animation. Should be an\n            array of strings, not numbers or any other type.\n        idssrc\n            Sets the source reference on Chart Studio Cloud for\n            ids .\n        insidetextanchor\n            Determines if texts are kept at center or start/end\n            points in `textposition` \"inside\" mode.\n        insidetextfont\n            Sets the font used for `text` lying inside the bar.\n        legendgroup\n            Sets the legend group for this trace. Traces part of\n            the same legend group hide/show at the same time when\n            toggling legend items.\n        legendgrouptitle\n            :class:`plotly.graph_objects.bar.Legendgrouptitle`\n            instance or dict with compatible properties\n        legendrank\n            Sets the legend rank for this trace. Items and groups\n            with smaller ranks are presented on top/left side while\n            with `*reversed* `legend.traceorder` they are on\n            bottom/right side. The default legendrank is 1000, so\n            that you can use ranks less than 1000 to place certain\n            items before all unranked items, and ranks greater than\n            1000 to go after all unranked items.\n        marker\n            :class:`plotly.graph_objects.bar.Marker` instance or\n            dict with compatible properties\n        meta\n            Assigns extra meta information associated with this\n            trace that can be used in various text attributes.\n            Attributes such as trace `name`, graph, axis and\n            colorbar `title.text`, annotation `text`\n            `rangeselector`, `updatemenues` and `sliders` `label`\n            text all support `meta`. To access the trace `meta`\n            values in an attribute in the same trace, simply use\n            `%{meta[i]}` where `i` is the index or key of the\n            `meta` item in question. To access trace `meta` in\n            layout attributes, use `%{data[n[.meta[i]}` where `i`\n            is the index or key of the `meta` and `n` is the trace\n            index.\n        metasrc\n            Sets the source reference on Chart Studio Cloud for\n            meta .\n        name\n            Sets the trace name. The trace name appear as the\n            legend item and on hover.\n        offset\n            Shifts the position where the bar is drawn (in position\n            axis units). In \"group\" barmode, traces that set\n            \"offset\" will be excluded and drawn in \"overlay\" mode\n            instead.\n        offsetgroup\n            Set several traces linked to the same position axis or\n            matching axes to the same offsetgroup where bars of the\n            same position coordinate will line up.\n        offsetsrc\n            Sets the source reference on Chart Studio Cloud for\n            offset .\n        opacity\n            Sets the opacity of the trace.\n        orientation\n            Sets the orientation of the bars. With \"v\" (\"h\"), the\n            value of the each bar spans along the vertical\n            (horizontal).\n        outsidetextfont\n            Sets the font used for `text` lying outside the bar.\n        selected\n            :class:`plotly.graph_objects.bar.Selected` instance or\n            dict with compatible properties\n        selectedpoints\n            Array containing integer indices of selected points.\n            Has an effect only for traces that support selections.\n            Note that an empty array means an empty selection where\n            the `unselected` are turned on for all points, whereas,\n            any other non-array values means no selection all where\n            the `selected` and `unselected` styles have no effect.\n        showlegend\n            Determines whether or not an item corresponding to this\n            trace is shown in the legend.\n        stream\n            :class:`plotly.graph_objects.bar.Stream` instance or\n            dict with compatible properties\n        text\n            Sets text elements associated with each (x,y) pair. If\n            a single string, the same string appears over all the\n            data points. If an array of string, the items are\n            mapped in order to the this trace's (x,y) coordinates.\n            If trace `hoverinfo` contains a \"text\" flag and\n            \"hovertext\" is not set, these elements will be seen in\n            the hover labels.\n        textangle\n            Sets the angle of the tick labels with respect to the\n            bar. For example, a `tickangle` of -90 draws the tick\n            labels vertically. With \"auto\" the texts may\n            automatically be rotated to fit with the maximum size\n            in bars.\n        textfont\n            Sets the font used for `text`.\n        textposition\n            Specifies the location of the `text`. \"inside\"\n            positions `text` inside, next to the bar end (rotated\n            and scaled if needed). \"outside\" positions `text`\n            outside, next to the bar end (scaled if needed), unless\n            there is another bar stacked on this one, then the text\n            gets pushed inside. \"auto\" tries to position `text`\n            inside the bar, but if the bar is too small and no bar\n            is stacked on this one the text is moved outside. If\n            \"none\", no text appears.\n        textpositionsrc\n            Sets the source reference on Chart Studio Cloud for\n            textposition .\n        textsrc\n            Sets the source reference on Chart Studio Cloud for\n            text .\n        texttemplate\n            Template string used for rendering the information text\n            that appear on points. Note that this will override\n            `textinfo`. Variables are inserted using %{variable},\n            for example \"y: %{y}\". Numbers are formatted using\n            d3-format's syntax %{variable:d3-format}, for example\n            \"Price: %{y:$.2f}\". https://github.com/d3/d3-3.x-api-\n            reference/blob/master/Formatting.md#d3_format for\n            details on the formatting syntax. Dates are formatted\n            using d3-time-format's syntax %{variable|d3-time-\n            format}, for example \"Day: %{2019-01-01|%A}\".\n            https://github.com/d3/d3-time-format#locale_format for\n            details on the date formatting syntax. Every attributes\n            that can be specified per-point (the ones that are\n            `arrayOk: true`) are available. variables `value` and\n            `label`.\n        texttemplatesrc\n            Sets the source reference on Chart Studio Cloud for\n            texttemplate .\n        uid\n            Assign an id to this trace, Use this to provide object\n            constancy between traces during animations and\n            transitions.\n        uirevision\n            Controls persistence of some user-driven changes to the\n            trace: `constraintrange` in `parcoords` traces, as well\n            as some `editable: true` modifications such as `name`\n            and `colorbar.title`. Defaults to `layout.uirevision`.\n            Note that other user-driven trace attribute changes are\n            controlled by `layout` attributes: `trace.visible` is\n            controlled by `layout.legend.uirevision`,\n            `selectedpoints` is controlled by\n            `layout.selectionrevision`, and `colorbar.(x|y)`\n            (accessible with `config: {editable: true}`) is\n            controlled by `layout.editrevision`. Trace changes are\n            tracked by `uid`, which only falls back on trace index\n            if no `uid` is provided. So if your app can add/remove\n            traces before the end of the `data` array, such that\n            the same trace has a different index, you can still\n            preserve user-driven changes if you give each trace a\n            `uid` that stays with it as it moves.\n        unselected\n            :class:`plotly.graph_objects.bar.Unselected` instance\n            or dict with compatible properties\n        visible\n            Determines whether or not this trace is visible. If\n            \"legendonly\", the trace is not drawn, but can appear as\n            a legend item (provided that the legend itself is\n            visible).\n        width\n            Sets the bar width (in position axis units).\n        widthsrc\n            Sets the source reference on Chart Studio Cloud for\n            width .\n        x\n            Sets the x coordinates.\n        x0\n            Alternate to `x`. Builds a linear space of x\n            coordinates. Use with `dx` where `x0` is the starting\n            coordinate and `dx` the step.\n        xaxis\n            Sets a reference between this trace's x coordinates and\n            a 2D cartesian x axis. If \"x\" (the default value), the\n            x coordinates refer to `layout.xaxis`. If \"x2\", the x\n            coordinates refer to `layout.xaxis2`, and so on.\n        xcalendar\n            Sets the calendar system to use with `x` date data.\n        xhoverformat\n            Sets the hover text formatting rulefor `x`  using d3\n            formatting mini-languages which are very similar to\n            those in Python. For numbers, see:\n            https://github.com/d3/d3-3.x-api-\n            reference/blob/master/Formatting.md#d3_format. And for\n            dates see: https://github.com/d3/d3-time-\n            format#locale_format. We add two items to d3's date\n            formatter: \"%h\" for half of the year as a decimal\n            number as well as \"%{n}f\" for fractional seconds with n\n            digits. For example, *2016-10-13 09:15:23.456* with\n            tickformat \"%H~%M~%S.%2f\" would display *09~15~23.46*By\n            default the values are formatted using\n            `xaxis.hoverformat`.\n        xperiod\n            Only relevant when the axis `type` is \"date\". Sets the\n            period positioning in milliseconds or \"M<n>\" on the x\n            axis. Special values in the form of \"M<n>\" could be\n            used to declare the number of months. In this case `n`\n            must be a positive integer.\n        xperiod0\n            Only relevant when the axis `type` is \"date\". Sets the\n            base for period positioning in milliseconds or date\n            string on the x0 axis. When `x0period` is round number\n            of weeks, the `x0period0` by default would be on a\n            Sunday i.e. 2000-01-02, otherwise it would be at\n            2000-01-01.\n        xperiodalignment\n            Only relevant when the axis `type` is \"date\". Sets the\n            alignment of data points on the x axis.\n        xsrc\n            Sets the source reference on Chart Studio Cloud for  x\n            .\n        y\n            Sets the y coordinates.\n        y0\n            Alternate to `y`. Builds a linear space of y\n            coordinates. Use with `dy` where `y0` is the starting\n            coordinate and `dy` the step.\n        yaxis\n            Sets a reference between this trace's y coordinates and\n            a 2D cartesian y axis. If \"y\" (the default value), the\n            y coordinates refer to `layout.yaxis`. If \"y2\", the y\n            coordinates refer to `layout.yaxis2`, and so on.\n        ycalendar\n            Sets the calendar system to use with `y` date data.\n        yhoverformat\n            Sets the hover text formatting rulefor `y`  using d3\n            formatting mini-languages which are very similar to\n            those in Python. For numbers, see:\n            https://github.com/d3/d3-3.x-api-\n            reference/blob/master/Formatting.md#d3_format. And for\n            dates see: https://github.com/d3/d3-time-\n            format#locale_format. We add two items to d3's date\n            formatter: \"%h\" for half of the year as a decimal\n            number as well as \"%{n}f\" for fractional seconds with n\n            digits. For example, *2016-10-13 09:15:23.456* with\n            tickformat \"%H~%M~%S.%2f\" would display *09~15~23.46*By\n            default the values are formatted using\n            `yaxis.hoverformat`.\n        yperiod\n            Only relevant when the axis `type` is \"date\". Sets the\n            period positioning in milliseconds or \"M<n>\" on the y\n            axis. Special values in the form of \"M<n>\" could be\n            used to declare the number of months. In this case `n`\n            must be a positive integer.\n        yperiod0\n            Only relevant when the axis `type` is \"date\". Sets the\n            base for period positioning in milliseconds or date\n            string on the y0 axis. When `y0period` is round number\n            of weeks, the `y0period0` by default would be on a\n            Sunday i.e. 2000-01-02, otherwise it would be at\n            2000-01-01.\n        yperiodalignment\n            Only relevant when the axis `type` is \"date\". Sets the\n            alignment of data points on the y axis.\n        ysrc\n            Sets the source reference on Chart Studio Cloud for  y\n            .\n        \nDid you mean \"base\"?\n\nBad property path:\nbarmode\n^^^^^^^"
     ]
    }
   ],
   "source": [
    "# Append the trace data\n",
    "def create_bar_trace(ydata, xdata, name):\n",
    "    trace = go.Bar(\n",
    "        name=name,\n",
    "        x=xdata,\n",
    "        y=ydata,\n",
    "        barmode=\"stacked\",\n",
    "#         customdata=customdata_bar,\n",
    "#         hovertemplate=hovertemplate_bar,\n",
    "    )\n",
    "\n",
    "    return trace\n",
    "\n",
    "fig_bar = go.Figure([\n",
    "#     create_bar_trace(df[\"sentiment_score\"], df[\"ticker\"], \"Sentiment Score\"),\n",
    "    create_bar_trace(df[\"positive_mentions\"], df[\"ticker\"], \"Positive Mentions\"),\n",
    "    create_bar_trace(df[\"negative_mentions\"], df[\"ticker\"], \"Negative Mentions\"),\n",
    "    create_bar_trace(df[\"neutral_mentions\"],  df[\"ticker\"], \"Neutral Mentions\"),\n",
    "])"
   ]
  },
  {
   "cell_type": "code",
   "execution_count": 50,
   "id": "957d8de2",
   "metadata": {},
   "outputs": [],
   "source": [
    "# Create the layout\n",
    "legend_bar = go.layout.Legend(\n",
    "    yanchor=\"top\",\n",
    "    y=0.99,\n",
    "    xanchor=\"left\",\n",
    "    x=0.75\n",
    ")\n",
    "\n",
    "margin_bar = go.layout.Margin(\n",
    "    l=50,\n",
    "    r=50,\n",
    "    b=100,\n",
    "    t=65,\n",
    "    pad=4\n",
    ")\n",
    "\n",
    "fig_bar.update_layout(\n",
    "    title=\"<b>Overal Daily Sentiment</b><br>Global Media\",\n",
    "    barmode=\"stack\",\n",
    "    width=850,\n",
    "    height=600,\n",
    "    margin=margin_bar,\n",
    "    legend=legend_bar,\n",
    "    xaxis=dict(tickmode='linear'), #Needed to ensure all xticks are shown.\n",
    ");\n"
   ]
  },
  {
   "cell_type": "code",
   "execution_count": 51,
   "id": "842277ac",
   "metadata": {
    "scrolled": false
   },
   "outputs": [
    {
     "data": {
      "application/vnd.plotly.v1+json": {
       "config": {
        "plotlyServerURL": "https://plot.ly"
       },
       "data": [
        {
         "name": "Positive Mentions",
         "type": "bar",
         "x": [
          "BTC",
          "ETH",
          "DOGE",
          "SOL",
          "ADA",
          "XRP",
          "BNB",
          "MATIC",
          "LINK",
          "DOT",
          "SHIB",
          "BCH",
          "AXS",
          "AUDIO",
          "XMR",
          "KSM",
          "LTC",
          "LUNA",
          "UNI",
          "SUSHI",
          "TVK",
          "USDT",
          "VET",
          "XLM",
          "ETC",
          "ZEC",
          "SNX",
          "ALGO",
          "FLR",
          "NEO",
          "THETA",
          "MMM",
          "MANA",
          "HZN",
          "AAVE",
          "DASH",
          "SAFEMOON",
          "WAVES",
          "SRM",
          "RHO",
          "STEP",
          "RVN",
          "BABYDOGE",
          "ATOM",
          "PRE",
          "AR",
          "BAL",
          "ITAM",
          "AVAX",
          "CAKE"
         ],
         "y": [
          35,
          29,
          28,
          31,
          8,
          8,
          3,
          3,
          4,
          2,
          0,
          1,
          4,
          3,
          0,
          2,
          2,
          3,
          0,
          1,
          0,
          1,
          1,
          1,
          0,
          2,
          0,
          0,
          0,
          0,
          1,
          1,
          0,
          0,
          1,
          1,
          0,
          0,
          1,
          1,
          1,
          0,
          1,
          1,
          1,
          1,
          0,
          1,
          0,
          0
         ]
        },
        {
         "name": "Negative Mentions",
         "type": "bar",
         "x": [
          "BTC",
          "ETH",
          "DOGE",
          "SOL",
          "ADA",
          "XRP",
          "BNB",
          "MATIC",
          "LINK",
          "DOT",
          "SHIB",
          "BCH",
          "AXS",
          "AUDIO",
          "XMR",
          "KSM",
          "LTC",
          "LUNA",
          "UNI",
          "SUSHI",
          "TVK",
          "USDT",
          "VET",
          "XLM",
          "ETC",
          "ZEC",
          "SNX",
          "ALGO",
          "FLR",
          "NEO",
          "THETA",
          "MMM",
          "MANA",
          "HZN",
          "AAVE",
          "DASH",
          "SAFEMOON",
          "WAVES",
          "SRM",
          "RHO",
          "STEP",
          "RVN",
          "BABYDOGE",
          "ATOM",
          "PRE",
          "AR",
          "BAL",
          "ITAM",
          "AVAX",
          "CAKE"
         ],
         "y": [
          14,
          5,
          1,
          0,
          7,
          0,
          0,
          1,
          0,
          0,
          0,
          0,
          0,
          0,
          2,
          0,
          0,
          0,
          1,
          0,
          1,
          0,
          0,
          0,
          0,
          0,
          0,
          0,
          0,
          0,
          0,
          0,
          1,
          0,
          0,
          0,
          1,
          0,
          0,
          0,
          0,
          0,
          0,
          0,
          0,
          0,
          0,
          0,
          0,
          0
         ]
        },
        {
         "name": "Neutral Mentions",
         "type": "bar",
         "x": [
          "BTC",
          "ETH",
          "DOGE",
          "SOL",
          "ADA",
          "XRP",
          "BNB",
          "MATIC",
          "LINK",
          "DOT",
          "SHIB",
          "BCH",
          "AXS",
          "AUDIO",
          "XMR",
          "KSM",
          "LTC",
          "LUNA",
          "UNI",
          "SUSHI",
          "TVK",
          "USDT",
          "VET",
          "XLM",
          "ETC",
          "ZEC",
          "SNX",
          "ALGO",
          "FLR",
          "NEO",
          "THETA",
          "MMM",
          "MANA",
          "HZN",
          "AAVE",
          "DASH",
          "SAFEMOON",
          "WAVES",
          "SRM",
          "RHO",
          "STEP",
          "RVN",
          "BABYDOGE",
          "ATOM",
          "PRE",
          "AR",
          "BAL",
          "ITAM",
          "AVAX",
          "CAKE"
         ],
         "y": [
          21,
          23,
          11,
          1,
          7,
          4,
          3,
          2,
          1,
          2,
          4,
          3,
          0,
          1,
          1,
          1,
          1,
          0,
          2,
          1,
          1,
          1,
          1,
          1,
          2,
          0,
          1,
          1,
          1,
          1,
          0,
          0,
          0,
          1,
          0,
          0,
          0,
          1,
          0,
          0,
          0,
          1,
          0,
          0,
          0,
          0,
          1,
          0,
          1,
          1
         ]
        }
       ],
       "layout": {
        "barmode": "stack",
        "height": 600,
        "legend": {
         "x": 0.75,
         "xanchor": "left",
         "y": 0.99,
         "yanchor": "top"
        },
        "margin": {
         "b": 100,
         "l": 50,
         "pad": 4,
         "r": 50,
         "t": 65
        },
        "template": {
         "data": {
          "bar": [
           {
            "error_x": {
             "color": "#2a3f5f"
            },
            "error_y": {
             "color": "#2a3f5f"
            },
            "marker": {
             "line": {
              "color": "#E5ECF6",
              "width": 0.5
             },
             "pattern": {
              "fillmode": "overlay",
              "size": 10,
              "solidity": 0.2
             }
            },
            "type": "bar"
           }
          ],
          "barpolar": [
           {
            "marker": {
             "line": {
              "color": "#E5ECF6",
              "width": 0.5
             },
             "pattern": {
              "fillmode": "overlay",
              "size": 10,
              "solidity": 0.2
             }
            },
            "type": "barpolar"
           }
          ],
          "carpet": [
           {
            "aaxis": {
             "endlinecolor": "#2a3f5f",
             "gridcolor": "white",
             "linecolor": "white",
             "minorgridcolor": "white",
             "startlinecolor": "#2a3f5f"
            },
            "baxis": {
             "endlinecolor": "#2a3f5f",
             "gridcolor": "white",
             "linecolor": "white",
             "minorgridcolor": "white",
             "startlinecolor": "#2a3f5f"
            },
            "type": "carpet"
           }
          ],
          "choropleth": [
           {
            "colorbar": {
             "outlinewidth": 0,
             "ticks": ""
            },
            "type": "choropleth"
           }
          ],
          "contour": [
           {
            "colorbar": {
             "outlinewidth": 0,
             "ticks": ""
            },
            "colorscale": [
             [
              0,
              "#0d0887"
             ],
             [
              0.1111111111111111,
              "#46039f"
             ],
             [
              0.2222222222222222,
              "#7201a8"
             ],
             [
              0.3333333333333333,
              "#9c179e"
             ],
             [
              0.4444444444444444,
              "#bd3786"
             ],
             [
              0.5555555555555556,
              "#d8576b"
             ],
             [
              0.6666666666666666,
              "#ed7953"
             ],
             [
              0.7777777777777778,
              "#fb9f3a"
             ],
             [
              0.8888888888888888,
              "#fdca26"
             ],
             [
              1,
              "#f0f921"
             ]
            ],
            "type": "contour"
           }
          ],
          "contourcarpet": [
           {
            "colorbar": {
             "outlinewidth": 0,
             "ticks": ""
            },
            "type": "contourcarpet"
           }
          ],
          "heatmap": [
           {
            "colorbar": {
             "outlinewidth": 0,
             "ticks": ""
            },
            "colorscale": [
             [
              0,
              "#0d0887"
             ],
             [
              0.1111111111111111,
              "#46039f"
             ],
             [
              0.2222222222222222,
              "#7201a8"
             ],
             [
              0.3333333333333333,
              "#9c179e"
             ],
             [
              0.4444444444444444,
              "#bd3786"
             ],
             [
              0.5555555555555556,
              "#d8576b"
             ],
             [
              0.6666666666666666,
              "#ed7953"
             ],
             [
              0.7777777777777778,
              "#fb9f3a"
             ],
             [
              0.8888888888888888,
              "#fdca26"
             ],
             [
              1,
              "#f0f921"
             ]
            ],
            "type": "heatmap"
           }
          ],
          "heatmapgl": [
           {
            "colorbar": {
             "outlinewidth": 0,
             "ticks": ""
            },
            "colorscale": [
             [
              0,
              "#0d0887"
             ],
             [
              0.1111111111111111,
              "#46039f"
             ],
             [
              0.2222222222222222,
              "#7201a8"
             ],
             [
              0.3333333333333333,
              "#9c179e"
             ],
             [
              0.4444444444444444,
              "#bd3786"
             ],
             [
              0.5555555555555556,
              "#d8576b"
             ],
             [
              0.6666666666666666,
              "#ed7953"
             ],
             [
              0.7777777777777778,
              "#fb9f3a"
             ],
             [
              0.8888888888888888,
              "#fdca26"
             ],
             [
              1,
              "#f0f921"
             ]
            ],
            "type": "heatmapgl"
           }
          ],
          "histogram": [
           {
            "marker": {
             "pattern": {
              "fillmode": "overlay",
              "size": 10,
              "solidity": 0.2
             }
            },
            "type": "histogram"
           }
          ],
          "histogram2d": [
           {
            "colorbar": {
             "outlinewidth": 0,
             "ticks": ""
            },
            "colorscale": [
             [
              0,
              "#0d0887"
             ],
             [
              0.1111111111111111,
              "#46039f"
             ],
             [
              0.2222222222222222,
              "#7201a8"
             ],
             [
              0.3333333333333333,
              "#9c179e"
             ],
             [
              0.4444444444444444,
              "#bd3786"
             ],
             [
              0.5555555555555556,
              "#d8576b"
             ],
             [
              0.6666666666666666,
              "#ed7953"
             ],
             [
              0.7777777777777778,
              "#fb9f3a"
             ],
             [
              0.8888888888888888,
              "#fdca26"
             ],
             [
              1,
              "#f0f921"
             ]
            ],
            "type": "histogram2d"
           }
          ],
          "histogram2dcontour": [
           {
            "colorbar": {
             "outlinewidth": 0,
             "ticks": ""
            },
            "colorscale": [
             [
              0,
              "#0d0887"
             ],
             [
              0.1111111111111111,
              "#46039f"
             ],
             [
              0.2222222222222222,
              "#7201a8"
             ],
             [
              0.3333333333333333,
              "#9c179e"
             ],
             [
              0.4444444444444444,
              "#bd3786"
             ],
             [
              0.5555555555555556,
              "#d8576b"
             ],
             [
              0.6666666666666666,
              "#ed7953"
             ],
             [
              0.7777777777777778,
              "#fb9f3a"
             ],
             [
              0.8888888888888888,
              "#fdca26"
             ],
             [
              1,
              "#f0f921"
             ]
            ],
            "type": "histogram2dcontour"
           }
          ],
          "mesh3d": [
           {
            "colorbar": {
             "outlinewidth": 0,
             "ticks": ""
            },
            "type": "mesh3d"
           }
          ],
          "parcoords": [
           {
            "line": {
             "colorbar": {
              "outlinewidth": 0,
              "ticks": ""
             }
            },
            "type": "parcoords"
           }
          ],
          "pie": [
           {
            "automargin": true,
            "type": "pie"
           }
          ],
          "scatter": [
           {
            "marker": {
             "colorbar": {
              "outlinewidth": 0,
              "ticks": ""
             }
            },
            "type": "scatter"
           }
          ],
          "scatter3d": [
           {
            "line": {
             "colorbar": {
              "outlinewidth": 0,
              "ticks": ""
             }
            },
            "marker": {
             "colorbar": {
              "outlinewidth": 0,
              "ticks": ""
             }
            },
            "type": "scatter3d"
           }
          ],
          "scattercarpet": [
           {
            "marker": {
             "colorbar": {
              "outlinewidth": 0,
              "ticks": ""
             }
            },
            "type": "scattercarpet"
           }
          ],
          "scattergeo": [
           {
            "marker": {
             "colorbar": {
              "outlinewidth": 0,
              "ticks": ""
             }
            },
            "type": "scattergeo"
           }
          ],
          "scattergl": [
           {
            "marker": {
             "colorbar": {
              "outlinewidth": 0,
              "ticks": ""
             }
            },
            "type": "scattergl"
           }
          ],
          "scattermapbox": [
           {
            "marker": {
             "colorbar": {
              "outlinewidth": 0,
              "ticks": ""
             }
            },
            "type": "scattermapbox"
           }
          ],
          "scatterpolar": [
           {
            "marker": {
             "colorbar": {
              "outlinewidth": 0,
              "ticks": ""
             }
            },
            "type": "scatterpolar"
           }
          ],
          "scatterpolargl": [
           {
            "marker": {
             "colorbar": {
              "outlinewidth": 0,
              "ticks": ""
             }
            },
            "type": "scatterpolargl"
           }
          ],
          "scatterternary": [
           {
            "marker": {
             "colorbar": {
              "outlinewidth": 0,
              "ticks": ""
             }
            },
            "type": "scatterternary"
           }
          ],
          "surface": [
           {
            "colorbar": {
             "outlinewidth": 0,
             "ticks": ""
            },
            "colorscale": [
             [
              0,
              "#0d0887"
             ],
             [
              0.1111111111111111,
              "#46039f"
             ],
             [
              0.2222222222222222,
              "#7201a8"
             ],
             [
              0.3333333333333333,
              "#9c179e"
             ],
             [
              0.4444444444444444,
              "#bd3786"
             ],
             [
              0.5555555555555556,
              "#d8576b"
             ],
             [
              0.6666666666666666,
              "#ed7953"
             ],
             [
              0.7777777777777778,
              "#fb9f3a"
             ],
             [
              0.8888888888888888,
              "#fdca26"
             ],
             [
              1,
              "#f0f921"
             ]
            ],
            "type": "surface"
           }
          ],
          "table": [
           {
            "cells": {
             "fill": {
              "color": "#EBF0F8"
             },
             "line": {
              "color": "white"
             }
            },
            "header": {
             "fill": {
              "color": "#C8D4E3"
             },
             "line": {
              "color": "white"
             }
            },
            "type": "table"
           }
          ]
         },
         "layout": {
          "annotationdefaults": {
           "arrowcolor": "#2a3f5f",
           "arrowhead": 0,
           "arrowwidth": 1
          },
          "autotypenumbers": "strict",
          "coloraxis": {
           "colorbar": {
            "outlinewidth": 0,
            "ticks": ""
           }
          },
          "colorscale": {
           "diverging": [
            [
             0,
             "#8e0152"
            ],
            [
             0.1,
             "#c51b7d"
            ],
            [
             0.2,
             "#de77ae"
            ],
            [
             0.3,
             "#f1b6da"
            ],
            [
             0.4,
             "#fde0ef"
            ],
            [
             0.5,
             "#f7f7f7"
            ],
            [
             0.6,
             "#e6f5d0"
            ],
            [
             0.7,
             "#b8e186"
            ],
            [
             0.8,
             "#7fbc41"
            ],
            [
             0.9,
             "#4d9221"
            ],
            [
             1,
             "#276419"
            ]
           ],
           "sequential": [
            [
             0,
             "#0d0887"
            ],
            [
             0.1111111111111111,
             "#46039f"
            ],
            [
             0.2222222222222222,
             "#7201a8"
            ],
            [
             0.3333333333333333,
             "#9c179e"
            ],
            [
             0.4444444444444444,
             "#bd3786"
            ],
            [
             0.5555555555555556,
             "#d8576b"
            ],
            [
             0.6666666666666666,
             "#ed7953"
            ],
            [
             0.7777777777777778,
             "#fb9f3a"
            ],
            [
             0.8888888888888888,
             "#fdca26"
            ],
            [
             1,
             "#f0f921"
            ]
           ],
           "sequentialminus": [
            [
             0,
             "#0d0887"
            ],
            [
             0.1111111111111111,
             "#46039f"
            ],
            [
             0.2222222222222222,
             "#7201a8"
            ],
            [
             0.3333333333333333,
             "#9c179e"
            ],
            [
             0.4444444444444444,
             "#bd3786"
            ],
            [
             0.5555555555555556,
             "#d8576b"
            ],
            [
             0.6666666666666666,
             "#ed7953"
            ],
            [
             0.7777777777777778,
             "#fb9f3a"
            ],
            [
             0.8888888888888888,
             "#fdca26"
            ],
            [
             1,
             "#f0f921"
            ]
           ]
          },
          "colorway": [
           "#636efa",
           "#EF553B",
           "#00cc96",
           "#ab63fa",
           "#FFA15A",
           "#19d3f3",
           "#FF6692",
           "#B6E880",
           "#FF97FF",
           "#FECB52"
          ],
          "font": {
           "color": "#2a3f5f"
          },
          "geo": {
           "bgcolor": "white",
           "lakecolor": "white",
           "landcolor": "#E5ECF6",
           "showlakes": true,
           "showland": true,
           "subunitcolor": "white"
          },
          "hoverlabel": {
           "align": "left"
          },
          "hovermode": "closest",
          "mapbox": {
           "style": "light"
          },
          "paper_bgcolor": "white",
          "plot_bgcolor": "#E5ECF6",
          "polar": {
           "angularaxis": {
            "gridcolor": "white",
            "linecolor": "white",
            "ticks": ""
           },
           "bgcolor": "#E5ECF6",
           "radialaxis": {
            "gridcolor": "white",
            "linecolor": "white",
            "ticks": ""
           }
          },
          "scene": {
           "xaxis": {
            "backgroundcolor": "#E5ECF6",
            "gridcolor": "white",
            "gridwidth": 2,
            "linecolor": "white",
            "showbackground": true,
            "ticks": "",
            "zerolinecolor": "white"
           },
           "yaxis": {
            "backgroundcolor": "#E5ECF6",
            "gridcolor": "white",
            "gridwidth": 2,
            "linecolor": "white",
            "showbackground": true,
            "ticks": "",
            "zerolinecolor": "white"
           },
           "zaxis": {
            "backgroundcolor": "#E5ECF6",
            "gridcolor": "white",
            "gridwidth": 2,
            "linecolor": "white",
            "showbackground": true,
            "ticks": "",
            "zerolinecolor": "white"
           }
          },
          "shapedefaults": {
           "line": {
            "color": "#2a3f5f"
           }
          },
          "ternary": {
           "aaxis": {
            "gridcolor": "white",
            "linecolor": "white",
            "ticks": ""
           },
           "baxis": {
            "gridcolor": "white",
            "linecolor": "white",
            "ticks": ""
           },
           "bgcolor": "#E5ECF6",
           "caxis": {
            "gridcolor": "white",
            "linecolor": "white",
            "ticks": ""
           }
          },
          "title": {
           "x": 0.05
          },
          "xaxis": {
           "automargin": true,
           "gridcolor": "white",
           "linecolor": "white",
           "ticks": "",
           "title": {
            "standoff": 15
           },
           "zerolinecolor": "white",
           "zerolinewidth": 2
          },
          "yaxis": {
           "automargin": true,
           "gridcolor": "white",
           "linecolor": "white",
           "ticks": "",
           "title": {
            "standoff": 15
           },
           "zerolinecolor": "white",
           "zerolinewidth": 2
          }
         }
        },
        "title": {
         "text": "<b>Overal Daily Sentiment</b><br>Global Media"
        },
        "width": 850,
        "xaxis": {
         "tickmode": "linear"
        }
       }
      },
      "text/html": [
       "<div>                            <div id=\"93a9d186-7fa2-4695-a69f-de119233895e\" class=\"plotly-graph-div\" style=\"height:600px; width:850px;\"></div>            <script type=\"text/javascript\">                require([\"plotly\"], function(Plotly) {                    window.PLOTLYENV=window.PLOTLYENV || {};                                    if (document.getElementById(\"93a9d186-7fa2-4695-a69f-de119233895e\")) {                    Plotly.newPlot(                        \"93a9d186-7fa2-4695-a69f-de119233895e\",                        [{\"name\":\"Positive Mentions\",\"type\":\"bar\",\"x\":[\"BTC\",\"ETH\",\"DOGE\",\"SOL\",\"ADA\",\"XRP\",\"BNB\",\"MATIC\",\"LINK\",\"DOT\",\"SHIB\",\"BCH\",\"AXS\",\"AUDIO\",\"XMR\",\"KSM\",\"LTC\",\"LUNA\",\"UNI\",\"SUSHI\",\"TVK\",\"USDT\",\"VET\",\"XLM\",\"ETC\",\"ZEC\",\"SNX\",\"ALGO\",\"FLR\",\"NEO\",\"THETA\",\"MMM\",\"MANA\",\"HZN\",\"AAVE\",\"DASH\",\"SAFEMOON\",\"WAVES\",\"SRM\",\"RHO\",\"STEP\",\"RVN\",\"BABYDOGE\",\"ATOM\",\"PRE\",\"AR\",\"BAL\",\"ITAM\",\"AVAX\",\"CAKE\"],\"y\":[35,29,28,31,8,8,3,3,4,2,0,1,4,3,0,2,2,3,0,1,0,1,1,1,0,2,0,0,0,0,1,1,0,0,1,1,0,0,1,1,1,0,1,1,1,1,0,1,0,0]},{\"name\":\"Negative Mentions\",\"type\":\"bar\",\"x\":[\"BTC\",\"ETH\",\"DOGE\",\"SOL\",\"ADA\",\"XRP\",\"BNB\",\"MATIC\",\"LINK\",\"DOT\",\"SHIB\",\"BCH\",\"AXS\",\"AUDIO\",\"XMR\",\"KSM\",\"LTC\",\"LUNA\",\"UNI\",\"SUSHI\",\"TVK\",\"USDT\",\"VET\",\"XLM\",\"ETC\",\"ZEC\",\"SNX\",\"ALGO\",\"FLR\",\"NEO\",\"THETA\",\"MMM\",\"MANA\",\"HZN\",\"AAVE\",\"DASH\",\"SAFEMOON\",\"WAVES\",\"SRM\",\"RHO\",\"STEP\",\"RVN\",\"BABYDOGE\",\"ATOM\",\"PRE\",\"AR\",\"BAL\",\"ITAM\",\"AVAX\",\"CAKE\"],\"y\":[14,5,1,0,7,0,0,1,0,0,0,0,0,0,2,0,0,0,1,0,1,0,0,0,0,0,0,0,0,0,0,0,1,0,0,0,1,0,0,0,0,0,0,0,0,0,0,0,0,0]},{\"name\":\"Neutral Mentions\",\"type\":\"bar\",\"x\":[\"BTC\",\"ETH\",\"DOGE\",\"SOL\",\"ADA\",\"XRP\",\"BNB\",\"MATIC\",\"LINK\",\"DOT\",\"SHIB\",\"BCH\",\"AXS\",\"AUDIO\",\"XMR\",\"KSM\",\"LTC\",\"LUNA\",\"UNI\",\"SUSHI\",\"TVK\",\"USDT\",\"VET\",\"XLM\",\"ETC\",\"ZEC\",\"SNX\",\"ALGO\",\"FLR\",\"NEO\",\"THETA\",\"MMM\",\"MANA\",\"HZN\",\"AAVE\",\"DASH\",\"SAFEMOON\",\"WAVES\",\"SRM\",\"RHO\",\"STEP\",\"RVN\",\"BABYDOGE\",\"ATOM\",\"PRE\",\"AR\",\"BAL\",\"ITAM\",\"AVAX\",\"CAKE\"],\"y\":[21,23,11,1,7,4,3,2,1,2,4,3,0,1,1,1,1,0,2,1,1,1,1,1,2,0,1,1,1,1,0,0,0,1,0,0,0,1,0,0,0,1,0,0,0,0,1,0,1,1]}],                        {\"barmode\":\"stack\",\"height\":600,\"legend\":{\"x\":0.75,\"xanchor\":\"left\",\"y\":0.99,\"yanchor\":\"top\"},\"margin\":{\"b\":100,\"l\":50,\"pad\":4,\"r\":50,\"t\":65},\"template\":{\"data\":{\"bar\":[{\"error_x\":{\"color\":\"#2a3f5f\"},\"error_y\":{\"color\":\"#2a3f5f\"},\"marker\":{\"line\":{\"color\":\"#E5ECF6\",\"width\":0.5},\"pattern\":{\"fillmode\":\"overlay\",\"size\":10,\"solidity\":0.2}},\"type\":\"bar\"}],\"barpolar\":[{\"marker\":{\"line\":{\"color\":\"#E5ECF6\",\"width\":0.5},\"pattern\":{\"fillmode\":\"overlay\",\"size\":10,\"solidity\":0.2}},\"type\":\"barpolar\"}],\"carpet\":[{\"aaxis\":{\"endlinecolor\":\"#2a3f5f\",\"gridcolor\":\"white\",\"linecolor\":\"white\",\"minorgridcolor\":\"white\",\"startlinecolor\":\"#2a3f5f\"},\"baxis\":{\"endlinecolor\":\"#2a3f5f\",\"gridcolor\":\"white\",\"linecolor\":\"white\",\"minorgridcolor\":\"white\",\"startlinecolor\":\"#2a3f5f\"},\"type\":\"carpet\"}],\"choropleth\":[{\"colorbar\":{\"outlinewidth\":0,\"ticks\":\"\"},\"type\":\"choropleth\"}],\"contour\":[{\"colorbar\":{\"outlinewidth\":0,\"ticks\":\"\"},\"colorscale\":[[0.0,\"#0d0887\"],[0.1111111111111111,\"#46039f\"],[0.2222222222222222,\"#7201a8\"],[0.3333333333333333,\"#9c179e\"],[0.4444444444444444,\"#bd3786\"],[0.5555555555555556,\"#d8576b\"],[0.6666666666666666,\"#ed7953\"],[0.7777777777777778,\"#fb9f3a\"],[0.8888888888888888,\"#fdca26\"],[1.0,\"#f0f921\"]],\"type\":\"contour\"}],\"contourcarpet\":[{\"colorbar\":{\"outlinewidth\":0,\"ticks\":\"\"},\"type\":\"contourcarpet\"}],\"heatmap\":[{\"colorbar\":{\"outlinewidth\":0,\"ticks\":\"\"},\"colorscale\":[[0.0,\"#0d0887\"],[0.1111111111111111,\"#46039f\"],[0.2222222222222222,\"#7201a8\"],[0.3333333333333333,\"#9c179e\"],[0.4444444444444444,\"#bd3786\"],[0.5555555555555556,\"#d8576b\"],[0.6666666666666666,\"#ed7953\"],[0.7777777777777778,\"#fb9f3a\"],[0.8888888888888888,\"#fdca26\"],[1.0,\"#f0f921\"]],\"type\":\"heatmap\"}],\"heatmapgl\":[{\"colorbar\":{\"outlinewidth\":0,\"ticks\":\"\"},\"colorscale\":[[0.0,\"#0d0887\"],[0.1111111111111111,\"#46039f\"],[0.2222222222222222,\"#7201a8\"],[0.3333333333333333,\"#9c179e\"],[0.4444444444444444,\"#bd3786\"],[0.5555555555555556,\"#d8576b\"],[0.6666666666666666,\"#ed7953\"],[0.7777777777777778,\"#fb9f3a\"],[0.8888888888888888,\"#fdca26\"],[1.0,\"#f0f921\"]],\"type\":\"heatmapgl\"}],\"histogram\":[{\"marker\":{\"pattern\":{\"fillmode\":\"overlay\",\"size\":10,\"solidity\":0.2}},\"type\":\"histogram\"}],\"histogram2d\":[{\"colorbar\":{\"outlinewidth\":0,\"ticks\":\"\"},\"colorscale\":[[0.0,\"#0d0887\"],[0.1111111111111111,\"#46039f\"],[0.2222222222222222,\"#7201a8\"],[0.3333333333333333,\"#9c179e\"],[0.4444444444444444,\"#bd3786\"],[0.5555555555555556,\"#d8576b\"],[0.6666666666666666,\"#ed7953\"],[0.7777777777777778,\"#fb9f3a\"],[0.8888888888888888,\"#fdca26\"],[1.0,\"#f0f921\"]],\"type\":\"histogram2d\"}],\"histogram2dcontour\":[{\"colorbar\":{\"outlinewidth\":0,\"ticks\":\"\"},\"colorscale\":[[0.0,\"#0d0887\"],[0.1111111111111111,\"#46039f\"],[0.2222222222222222,\"#7201a8\"],[0.3333333333333333,\"#9c179e\"],[0.4444444444444444,\"#bd3786\"],[0.5555555555555556,\"#d8576b\"],[0.6666666666666666,\"#ed7953\"],[0.7777777777777778,\"#fb9f3a\"],[0.8888888888888888,\"#fdca26\"],[1.0,\"#f0f921\"]],\"type\":\"histogram2dcontour\"}],\"mesh3d\":[{\"colorbar\":{\"outlinewidth\":0,\"ticks\":\"\"},\"type\":\"mesh3d\"}],\"parcoords\":[{\"line\":{\"colorbar\":{\"outlinewidth\":0,\"ticks\":\"\"}},\"type\":\"parcoords\"}],\"pie\":[{\"automargin\":true,\"type\":\"pie\"}],\"scatter\":[{\"marker\":{\"colorbar\":{\"outlinewidth\":0,\"ticks\":\"\"}},\"type\":\"scatter\"}],\"scatter3d\":[{\"line\":{\"colorbar\":{\"outlinewidth\":0,\"ticks\":\"\"}},\"marker\":{\"colorbar\":{\"outlinewidth\":0,\"ticks\":\"\"}},\"type\":\"scatter3d\"}],\"scattercarpet\":[{\"marker\":{\"colorbar\":{\"outlinewidth\":0,\"ticks\":\"\"}},\"type\":\"scattercarpet\"}],\"scattergeo\":[{\"marker\":{\"colorbar\":{\"outlinewidth\":0,\"ticks\":\"\"}},\"type\":\"scattergeo\"}],\"scattergl\":[{\"marker\":{\"colorbar\":{\"outlinewidth\":0,\"ticks\":\"\"}},\"type\":\"scattergl\"}],\"scattermapbox\":[{\"marker\":{\"colorbar\":{\"outlinewidth\":0,\"ticks\":\"\"}},\"type\":\"scattermapbox\"}],\"scatterpolar\":[{\"marker\":{\"colorbar\":{\"outlinewidth\":0,\"ticks\":\"\"}},\"type\":\"scatterpolar\"}],\"scatterpolargl\":[{\"marker\":{\"colorbar\":{\"outlinewidth\":0,\"ticks\":\"\"}},\"type\":\"scatterpolargl\"}],\"scatterternary\":[{\"marker\":{\"colorbar\":{\"outlinewidth\":0,\"ticks\":\"\"}},\"type\":\"scatterternary\"}],\"surface\":[{\"colorbar\":{\"outlinewidth\":0,\"ticks\":\"\"},\"colorscale\":[[0.0,\"#0d0887\"],[0.1111111111111111,\"#46039f\"],[0.2222222222222222,\"#7201a8\"],[0.3333333333333333,\"#9c179e\"],[0.4444444444444444,\"#bd3786\"],[0.5555555555555556,\"#d8576b\"],[0.6666666666666666,\"#ed7953\"],[0.7777777777777778,\"#fb9f3a\"],[0.8888888888888888,\"#fdca26\"],[1.0,\"#f0f921\"]],\"type\":\"surface\"}],\"table\":[{\"cells\":{\"fill\":{\"color\":\"#EBF0F8\"},\"line\":{\"color\":\"white\"}},\"header\":{\"fill\":{\"color\":\"#C8D4E3\"},\"line\":{\"color\":\"white\"}},\"type\":\"table\"}]},\"layout\":{\"annotationdefaults\":{\"arrowcolor\":\"#2a3f5f\",\"arrowhead\":0,\"arrowwidth\":1},\"autotypenumbers\":\"strict\",\"coloraxis\":{\"colorbar\":{\"outlinewidth\":0,\"ticks\":\"\"}},\"colorscale\":{\"diverging\":[[0,\"#8e0152\"],[0.1,\"#c51b7d\"],[0.2,\"#de77ae\"],[0.3,\"#f1b6da\"],[0.4,\"#fde0ef\"],[0.5,\"#f7f7f7\"],[0.6,\"#e6f5d0\"],[0.7,\"#b8e186\"],[0.8,\"#7fbc41\"],[0.9,\"#4d9221\"],[1,\"#276419\"]],\"sequential\":[[0.0,\"#0d0887\"],[0.1111111111111111,\"#46039f\"],[0.2222222222222222,\"#7201a8\"],[0.3333333333333333,\"#9c179e\"],[0.4444444444444444,\"#bd3786\"],[0.5555555555555556,\"#d8576b\"],[0.6666666666666666,\"#ed7953\"],[0.7777777777777778,\"#fb9f3a\"],[0.8888888888888888,\"#fdca26\"],[1.0,\"#f0f921\"]],\"sequentialminus\":[[0.0,\"#0d0887\"],[0.1111111111111111,\"#46039f\"],[0.2222222222222222,\"#7201a8\"],[0.3333333333333333,\"#9c179e\"],[0.4444444444444444,\"#bd3786\"],[0.5555555555555556,\"#d8576b\"],[0.6666666666666666,\"#ed7953\"],[0.7777777777777778,\"#fb9f3a\"],[0.8888888888888888,\"#fdca26\"],[1.0,\"#f0f921\"]]},\"colorway\":[\"#636efa\",\"#EF553B\",\"#00cc96\",\"#ab63fa\",\"#FFA15A\",\"#19d3f3\",\"#FF6692\",\"#B6E880\",\"#FF97FF\",\"#FECB52\"],\"font\":{\"color\":\"#2a3f5f\"},\"geo\":{\"bgcolor\":\"white\",\"lakecolor\":\"white\",\"landcolor\":\"#E5ECF6\",\"showlakes\":true,\"showland\":true,\"subunitcolor\":\"white\"},\"hoverlabel\":{\"align\":\"left\"},\"hovermode\":\"closest\",\"mapbox\":{\"style\":\"light\"},\"paper_bgcolor\":\"white\",\"plot_bgcolor\":\"#E5ECF6\",\"polar\":{\"angularaxis\":{\"gridcolor\":\"white\",\"linecolor\":\"white\",\"ticks\":\"\"},\"bgcolor\":\"#E5ECF6\",\"radialaxis\":{\"gridcolor\":\"white\",\"linecolor\":\"white\",\"ticks\":\"\"}},\"scene\":{\"xaxis\":{\"backgroundcolor\":\"#E5ECF6\",\"gridcolor\":\"white\",\"gridwidth\":2,\"linecolor\":\"white\",\"showbackground\":true,\"ticks\":\"\",\"zerolinecolor\":\"white\"},\"yaxis\":{\"backgroundcolor\":\"#E5ECF6\",\"gridcolor\":\"white\",\"gridwidth\":2,\"linecolor\":\"white\",\"showbackground\":true,\"ticks\":\"\",\"zerolinecolor\":\"white\"},\"zaxis\":{\"backgroundcolor\":\"#E5ECF6\",\"gridcolor\":\"white\",\"gridwidth\":2,\"linecolor\":\"white\",\"showbackground\":true,\"ticks\":\"\",\"zerolinecolor\":\"white\"}},\"shapedefaults\":{\"line\":{\"color\":\"#2a3f5f\"}},\"ternary\":{\"aaxis\":{\"gridcolor\":\"white\",\"linecolor\":\"white\",\"ticks\":\"\"},\"baxis\":{\"gridcolor\":\"white\",\"linecolor\":\"white\",\"ticks\":\"\"},\"bgcolor\":\"#E5ECF6\",\"caxis\":{\"gridcolor\":\"white\",\"linecolor\":\"white\",\"ticks\":\"\"}},\"title\":{\"x\":0.05},\"xaxis\":{\"automargin\":true,\"gridcolor\":\"white\",\"linecolor\":\"white\",\"ticks\":\"\",\"title\":{\"standoff\":15},\"zerolinecolor\":\"white\",\"zerolinewidth\":2},\"yaxis\":{\"automargin\":true,\"gridcolor\":\"white\",\"linecolor\":\"white\",\"ticks\":\"\",\"title\":{\"standoff\":15},\"zerolinecolor\":\"white\",\"zerolinewidth\":2}}},\"title\":{\"text\":\"<b>Overal Daily Sentiment</b><br>Global Media\"},\"width\":850,\"xaxis\":{\"tickmode\":\"linear\"}},                        {\"responsive\": true}                    ).then(function(){\n",
       "                            \n",
       "var gd = document.getElementById('93a9d186-7fa2-4695-a69f-de119233895e');\n",
       "var x = new MutationObserver(function (mutations, observer) {{\n",
       "        var display = window.getComputedStyle(gd).display;\n",
       "        if (!display || display === 'none') {{\n",
       "            console.log([gd, 'removed!']);\n",
       "            Plotly.purge(gd);\n",
       "            observer.disconnect();\n",
       "        }}\n",
       "}});\n",
       "\n",
       "// Listen for the removal of the full notebook cells\n",
       "var notebookContainer = gd.closest('#notebook-container');\n",
       "if (notebookContainer) {{\n",
       "    x.observe(notebookContainer, {childList: true});\n",
       "}}\n",
       "\n",
       "// Listen for the clearing of the current output cell\n",
       "var outputEl = gd.closest('.output');\n",
       "if (outputEl) {{\n",
       "    x.observe(outputEl, {childList: true});\n",
       "}}\n",
       "\n",
       "                        })                };                });            </script>        </div>"
      ]
     },
     "metadata": {},
     "output_type": "display_data"
    }
   ],
   "source": [
    "fig_bar.show()\n"
   ]
  },
  {
   "cell_type": "code",
   "execution_count": 60,
   "id": "f7565a57",
   "metadata": {},
   "outputs": [
    {
     "data": {
      "text/html": [
       "<div>\n",
       "<style scoped>\n",
       "    .dataframe tbody tr th:only-of-type {\n",
       "        vertical-align: middle;\n",
       "    }\n",
       "\n",
       "    .dataframe tbody tr th {\n",
       "        vertical-align: top;\n",
       "    }\n",
       "\n",
       "    .dataframe thead th {\n",
       "        text-align: right;\n",
       "    }\n",
       "</style>\n",
       "<table border=\"1\" class=\"dataframe\">\n",
       "  <thead>\n",
       "    <tr style=\"text-align: right;\">\n",
       "      <th></th>\n",
       "      <th>Unnamed: 0</th>\n",
       "      <th>name</th>\n",
       "      <th>symbol</th>\n",
       "      <th>slug</th>\n",
       "      <th>num_market_pairs</th>\n",
       "      <th>is_active</th>\n",
       "      <th>cmc_rank</th>\n",
       "      <th>last_updated</th>\n",
       "      <th>quote.USD.price</th>\n",
       "      <th>quote.USD.volume_24h</th>\n",
       "      <th>quote.USD.percent_change_1h</th>\n",
       "      <th>quote.USD.percent_change_24h</th>\n",
       "      <th>quote.USD.percent_change_7d</th>\n",
       "      <th>quote.USD.percent_change_30d</th>\n",
       "      <th>quote.USD.percent_change_60d</th>\n",
       "      <th>quote.USD.percent_change_90d</th>\n",
       "      <th>quote.USD.last_updated</th>\n",
       "    </tr>\n",
       "  </thead>\n",
       "  <tbody>\n",
       "    <tr>\n",
       "      <th>0</th>\n",
       "      <td>0</td>\n",
       "      <td>Bitcoin</td>\n",
       "      <td>BTC</td>\n",
       "      <td>bitcoin</td>\n",
       "      <td>8906</td>\n",
       "      <td>1</td>\n",
       "      <td>1</td>\n",
       "      <td>2021-08-15T20:57:02.000Z</td>\n",
       "      <td>46719.177076</td>\n",
       "      <td>2.990279e+10</td>\n",
       "      <td>0.845958</td>\n",
       "      <td>0.147275</td>\n",
       "      <td>6.520400</td>\n",
       "      <td>46.574497</td>\n",
       "      <td>20.933034</td>\n",
       "      <td>4.304957</td>\n",
       "      <td>2021-08-15 20:57:02+00:00</td>\n",
       "    </tr>\n",
       "    <tr>\n",
       "      <th>1</th>\n",
       "      <td>1</td>\n",
       "      <td>Litecoin</td>\n",
       "      <td>LTC</td>\n",
       "      <td>litecoin</td>\n",
       "      <td>710</td>\n",
       "      <td>1</td>\n",
       "      <td>13</td>\n",
       "      <td>2021-08-15T20:57:02.000Z</td>\n",
       "      <td>183.528205</td>\n",
       "      <td>2.457186e+09</td>\n",
       "      <td>0.744098</td>\n",
       "      <td>2.681438</td>\n",
       "      <td>23.500647</td>\n",
       "      <td>48.241650</td>\n",
       "      <td>9.003472</td>\n",
       "      <td>-37.035929</td>\n",
       "      <td>2021-08-15 20:57:02+00:00</td>\n",
       "    </tr>\n",
       "    <tr>\n",
       "      <th>2</th>\n",
       "      <td>2</td>\n",
       "      <td>Dogecoin</td>\n",
       "      <td>DOGE</td>\n",
       "      <td>dogecoin</td>\n",
       "      <td>379</td>\n",
       "      <td>1</td>\n",
       "      <td>7</td>\n",
       "      <td>2021-08-15T20:57:03.000Z</td>\n",
       "      <td>0.322086</td>\n",
       "      <td>6.287158e+09</td>\n",
       "      <td>0.128095</td>\n",
       "      <td>12.134737</td>\n",
       "      <td>33.711903</td>\n",
       "      <td>83.782625</td>\n",
       "      <td>3.731275</td>\n",
       "      <td>-35.160913</td>\n",
       "      <td>2021-08-15 20:57:03+00:00</td>\n",
       "    </tr>\n",
       "    <tr>\n",
       "      <th>3</th>\n",
       "      <td>3</td>\n",
       "      <td>Monero</td>\n",
       "      <td>XMR</td>\n",
       "      <td>monero</td>\n",
       "      <td>161</td>\n",
       "      <td>1</td>\n",
       "      <td>29</td>\n",
       "      <td>2021-08-15T20:57:04.000Z</td>\n",
       "      <td>270.418296</td>\n",
       "      <td>1.775822e+08</td>\n",
       "      <td>0.782467</td>\n",
       "      <td>0.831886</td>\n",
       "      <td>3.657443</td>\n",
       "      <td>38.710907</td>\n",
       "      <td>1.891365</td>\n",
       "      <td>-23.156102</td>\n",
       "      <td>2021-08-15 20:57:04+00:00</td>\n",
       "    </tr>\n",
       "    <tr>\n",
       "      <th>4</th>\n",
       "      <td>4</td>\n",
       "      <td>Ethereum</td>\n",
       "      <td>ETH</td>\n",
       "      <td>ethereum</td>\n",
       "      <td>5586</td>\n",
       "      <td>1</td>\n",
       "      <td>2</td>\n",
       "      <td>2021-08-15T20:57:02.000Z</td>\n",
       "      <td>3261.244430</td>\n",
       "      <td>2.064771e+10</td>\n",
       "      <td>1.847966</td>\n",
       "      <td>0.921726</td>\n",
       "      <td>9.018318</td>\n",
       "      <td>71.174044</td>\n",
       "      <td>35.589517</td>\n",
       "      <td>-5.232432</td>\n",
       "      <td>2021-08-15 20:57:02+00:00</td>\n",
       "    </tr>\n",
       "    <tr>\n",
       "      <th>5</th>\n",
       "      <td>5</td>\n",
       "      <td>Cardano</td>\n",
       "      <td>ADA</td>\n",
       "      <td>cardano</td>\n",
       "      <td>287</td>\n",
       "      <td>1</td>\n",
       "      <td>3</td>\n",
       "      <td>2021-08-15T20:56:07.000Z</td>\n",
       "      <td>2.185581</td>\n",
       "      <td>5.994879e+09</td>\n",
       "      <td>2.566283</td>\n",
       "      <td>0.624794</td>\n",
       "      <td>53.789065</td>\n",
       "      <td>83.988667</td>\n",
       "      <td>44.556765</td>\n",
       "      <td>3.150500</td>\n",
       "      <td>2021-08-15 20:56:07+00:00</td>\n",
       "    </tr>\n",
       "    <tr>\n",
       "      <th>6</th>\n",
       "      <td>6</td>\n",
       "      <td>Bitcoin</td>\n",
       "      <td>BTC</td>\n",
       "      <td>bitcoin</td>\n",
       "      <td>8906</td>\n",
       "      <td>1</td>\n",
       "      <td>1</td>\n",
       "      <td>2021-08-15T21:04:02.000Z</td>\n",
       "      <td>46781.364681</td>\n",
       "      <td>2.999955e+10</td>\n",
       "      <td>0.940294</td>\n",
       "      <td>0.241118</td>\n",
       "      <td>6.330132</td>\n",
       "      <td>47.006567</td>\n",
       "      <td>21.417996</td>\n",
       "      <td>5.066253</td>\n",
       "      <td>2021-08-15 21:04:02+00:00</td>\n",
       "    </tr>\n",
       "    <tr>\n",
       "      <th>7</th>\n",
       "      <td>7</td>\n",
       "      <td>Litecoin</td>\n",
       "      <td>LTC</td>\n",
       "      <td>litecoin</td>\n",
       "      <td>710</td>\n",
       "      <td>1</td>\n",
       "      <td>13</td>\n",
       "      <td>2021-08-15T21:04:02.000Z</td>\n",
       "      <td>183.754677</td>\n",
       "      <td>2.456820e+09</td>\n",
       "      <td>0.928941</td>\n",
       "      <td>2.712245</td>\n",
       "      <td>23.129387</td>\n",
       "      <td>48.478933</td>\n",
       "      <td>9.444244</td>\n",
       "      <td>-36.114103</td>\n",
       "      <td>2021-08-15 21:04:02+00:00</td>\n",
       "    </tr>\n",
       "    <tr>\n",
       "      <th>8</th>\n",
       "      <td>8</td>\n",
       "      <td>Dogecoin</td>\n",
       "      <td>DOGE</td>\n",
       "      <td>dogecoin</td>\n",
       "      <td>379</td>\n",
       "      <td>1</td>\n",
       "      <td>7</td>\n",
       "      <td>2021-08-15T21:04:03.000Z</td>\n",
       "      <td>0.326067</td>\n",
       "      <td>6.424036e+09</td>\n",
       "      <td>1.999809</td>\n",
       "      <td>13.534630</td>\n",
       "      <td>34.209800</td>\n",
       "      <td>86.656675</td>\n",
       "      <td>5.107932</td>\n",
       "      <td>-33.872008</td>\n",
       "      <td>2021-08-15 21:04:03+00:00</td>\n",
       "    </tr>\n",
       "    <tr>\n",
       "      <th>9</th>\n",
       "      <td>9</td>\n",
       "      <td>Monero</td>\n",
       "      <td>XMR</td>\n",
       "      <td>monero</td>\n",
       "      <td>161</td>\n",
       "      <td>1</td>\n",
       "      <td>29</td>\n",
       "      <td>2021-08-15T21:04:04.000Z</td>\n",
       "      <td>270.329541</td>\n",
       "      <td>1.770080e+08</td>\n",
       "      <td>0.594715</td>\n",
       "      <td>0.742807</td>\n",
       "      <td>3.315886</td>\n",
       "      <td>38.746506</td>\n",
       "      <td>2.208889</td>\n",
       "      <td>-22.606075</td>\n",
       "      <td>2021-08-15 21:04:04+00:00</td>\n",
       "    </tr>\n",
       "  </tbody>\n",
       "</table>\n",
       "</div>"
      ],
      "text/plain": [
       "   Unnamed: 0      name symbol      slug  num_market_pairs  is_active  \\\n",
       "0           0   Bitcoin    BTC   bitcoin              8906          1   \n",
       "1           1  Litecoin    LTC  litecoin               710          1   \n",
       "2           2  Dogecoin   DOGE  dogecoin               379          1   \n",
       "3           3    Monero    XMR    monero               161          1   \n",
       "4           4  Ethereum    ETH  ethereum              5586          1   \n",
       "5           5   Cardano    ADA   cardano               287          1   \n",
       "6           6   Bitcoin    BTC   bitcoin              8906          1   \n",
       "7           7  Litecoin    LTC  litecoin               710          1   \n",
       "8           8  Dogecoin   DOGE  dogecoin               379          1   \n",
       "9           9    Monero    XMR    monero               161          1   \n",
       "\n",
       "   cmc_rank              last_updated  quote.USD.price  quote.USD.volume_24h  \\\n",
       "0         1  2021-08-15T20:57:02.000Z     46719.177076          2.990279e+10   \n",
       "1        13  2021-08-15T20:57:02.000Z       183.528205          2.457186e+09   \n",
       "2         7  2021-08-15T20:57:03.000Z         0.322086          6.287158e+09   \n",
       "3        29  2021-08-15T20:57:04.000Z       270.418296          1.775822e+08   \n",
       "4         2  2021-08-15T20:57:02.000Z      3261.244430          2.064771e+10   \n",
       "5         3  2021-08-15T20:56:07.000Z         2.185581          5.994879e+09   \n",
       "6         1  2021-08-15T21:04:02.000Z     46781.364681          2.999955e+10   \n",
       "7        13  2021-08-15T21:04:02.000Z       183.754677          2.456820e+09   \n",
       "8         7  2021-08-15T21:04:03.000Z         0.326067          6.424036e+09   \n",
       "9        29  2021-08-15T21:04:04.000Z       270.329541          1.770080e+08   \n",
       "\n",
       "   quote.USD.percent_change_1h  quote.USD.percent_change_24h  \\\n",
       "0                     0.845958                      0.147275   \n",
       "1                     0.744098                      2.681438   \n",
       "2                     0.128095                     12.134737   \n",
       "3                     0.782467                      0.831886   \n",
       "4                     1.847966                      0.921726   \n",
       "5                     2.566283                      0.624794   \n",
       "6                     0.940294                      0.241118   \n",
       "7                     0.928941                      2.712245   \n",
       "8                     1.999809                     13.534630   \n",
       "9                     0.594715                      0.742807   \n",
       "\n",
       "   quote.USD.percent_change_7d  quote.USD.percent_change_30d  \\\n",
       "0                     6.520400                     46.574497   \n",
       "1                    23.500647                     48.241650   \n",
       "2                    33.711903                     83.782625   \n",
       "3                     3.657443                     38.710907   \n",
       "4                     9.018318                     71.174044   \n",
       "5                    53.789065                     83.988667   \n",
       "6                     6.330132                     47.006567   \n",
       "7                    23.129387                     48.478933   \n",
       "8                    34.209800                     86.656675   \n",
       "9                     3.315886                     38.746506   \n",
       "\n",
       "   quote.USD.percent_change_60d  quote.USD.percent_change_90d  \\\n",
       "0                     20.933034                      4.304957   \n",
       "1                      9.003472                    -37.035929   \n",
       "2                      3.731275                    -35.160913   \n",
       "3                      1.891365                    -23.156102   \n",
       "4                     35.589517                     -5.232432   \n",
       "5                     44.556765                      3.150500   \n",
       "6                     21.417996                      5.066253   \n",
       "7                      9.444244                    -36.114103   \n",
       "8                      5.107932                    -33.872008   \n",
       "9                      2.208889                    -22.606075   \n",
       "\n",
       "      quote.USD.last_updated  \n",
       "0  2021-08-15 20:57:02+00:00  \n",
       "1  2021-08-15 20:57:02+00:00  \n",
       "2  2021-08-15 20:57:03+00:00  \n",
       "3  2021-08-15 20:57:04+00:00  \n",
       "4  2021-08-15 20:57:02+00:00  \n",
       "5  2021-08-15 20:56:07+00:00  \n",
       "6  2021-08-15 21:04:02+00:00  \n",
       "7  2021-08-15 21:04:02+00:00  \n",
       "8  2021-08-15 21:04:03+00:00  \n",
       "9  2021-08-15 21:04:04+00:00  "
      ]
     },
     "execution_count": 60,
     "metadata": {},
     "output_type": "execute_result"
    }
   ],
   "source": [
    "file_path = \"./data/latest-quotes_data_20210816.csv\"\n",
    "# file_path = r\"C:\\Users\\JasonGarcia24\\Desktop\\global-crypto-behavior\\data\\latest-quotes_data_20210816.csv\"\n",
    "\n",
    "\n",
    "df_crypto = pd.read_csv(file_path)\n",
    "df_crypto.head(10)"
   ]
  },
  {
   "cell_type": "code",
   "execution_count": 59,
   "id": "078b5569",
   "metadata": {},
   "outputs": [
    {
     "data": {
      "text/plain": [
       "Index(['id', 'name', 'symbol', 'slug', 'num_market_pairs', 'date_added',\n",
       "       'tags', 'max_supply', 'circulating_supply', 'total_supply', 'is_active',\n",
       "       'platform', 'cmc_rank', 'is_fiat', 'last_updated', 'quote.USD.price',\n",
       "       'quote.USD.volume_24h', 'quote.USD.percent_change_1h',\n",
       "       'quote.USD.percent_change_24h', 'quote.USD.percent_change_7d',\n",
       "       'quote.USD.percent_change_30d', 'quote.USD.percent_change_60d',\n",
       "       'quote.USD.percent_change_90d', 'quote.USD.market_cap',\n",
       "       'quote.USD.market_cap_dominance', 'quote.USD.fully_diluted_market_cap',\n",
       "       'quote.USD.last_updated'],\n",
       "      dtype='object')"
      ]
     },
     "execution_count": 59,
     "metadata": {},
     "output_type": "execute_result"
    }
   ],
   "source": [
    "df_crypto.columns"
   ]
  }
 ],
 "metadata": {
  "kernelspec": {
   "display_name": "Python (dev)",
   "language": "python",
   "name": "dev"
  },
  "language_info": {
   "codemirror_mode": {
    "name": "ipython",
    "version": 3
   },
   "file_extension": ".py",
   "mimetype": "text/x-python",
   "name": "python",
   "nbconvert_exporter": "python",
   "pygments_lexer": "ipython3",
   "version": "3.8.8"
  }
 },
 "nbformat": 4,
 "nbformat_minor": 5
}
