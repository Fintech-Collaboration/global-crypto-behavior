{
 "cells": [
  {
   "cell_type": "code",
   "execution_count": null,
   "id": "013812fd",
   "metadata": {},
   "outputs": [],
   "source": [
    "import plotly.express as px\n",
    "import hvplot.pandas\n",
    "import numpy as np\n",
    "%matplotlib inline\n",
    "import os\n",
    "from dotenv import load_dotenv"
   ]
  },
  {
   "cell_type": "code",
   "execution_count": null,
   "id": "47d4af34",
   "metadata": {},
   "outputs": [],
   "source": [
    "# Analyzing the number of market pair in real-time grouped by type of cryptocurrency\n",
    "#df_combined.filter(items = ['symbol','percent_change_1h','last_updated'], axis=1)\n",
    "df_combined.filter(items = ['symbol','percent_change_1h','last_updated'], axis=1).hvplot( \n",
    "    y = \"percent_change_1\",\n",
    "    x = \" symbol\",\n",
    "    ylabel = \"Percent Change\",\n",
    "    xlabel = \"Time Last Updated \",\n",
    "    title = \"Percent Change in Real-Time\")\n",
    "    #groupby = \"symbol\")      "
   ]
  },
  {
   "cell_type": "code",
   "execution_count": null,
   "id": "91833f80",
   "metadata": {},
   "outputs": [],
   "source": [
    "\n",
    "\n",
    "price_bar = df_combined.filter(items = ['price','symbol'])\n",
    "\n",
    "price_bar.set_index('symbol').hvplot.bar(   \n",
    "      y='price',\n",
    "      title='Cryptocurrency Price Comparison',\n",
    "      figsize=(15,7),\n",
    "     #ylim=(0,4000)\n",
    "    \n",
    ")\n",
    "# .opts(yformatter='%.0f')\n",
    "\n",
    "                                        "
   ]
  },
  {
   "cell_type": "code",
   "execution_count": null,
   "id": "394ca0ac",
   "metadata": {},
   "outputs": [],
   "source": [
    "# Scatter Mapbox to analyze number of market pairs per region\n",
    "# awaiting data on which regions analyzed\n",
    "\n",
    "load_dotenv()\n",
    "mapbox_api_access_token = os.getenv(\"MAPBOX_API_ACCESS_TOKEN\")\n",
    "print(mapbox_api_access_token)\n",
    "px.set_mapbox_access_token(mapbox_api_access_token)\n",
    "\n",
    "regions_market_pairs = df_combined['num_market_pairs']\n",
    "\n",
    "px.scatter_mapbox(\n",
    "    regions_market_pairs,\n",
    "    size_max = 25,\n",
    "    color = \"price\",\n",
    "    size = \"num_market_pairs\",\n",
    "    zoom = 11, \n",
    "    lat=\"Lat\",\n",
    "    lon=\"Lon\",\n",
    "    title = \" Number of Market Pairs In Selected Regions of the World\",\n",
    ")"
   ]
  },
  {
   "cell_type": "code",
   "execution_count": null,
   "id": "5752c420",
   "metadata": {},
   "outputs": [],
   "source": [
    "import os\n",
    "import json\n",
    "\n",
    "pathname = os.path.getcwd()\n",
    "filename = os.path.join(f\"{pathname}\\debug_news-listings_data.json\")\n",
    "\n",
    "with open(filename, \"r\", encoding=\"utf-8\") as f:\n",
    "    data = json.loads(f.read())\n",
    "\n",
    "print(json.dumps(data, indent=4, sort_keys=True))"
   ]
  }
 ],
 "metadata": {
  "kernelspec": {
   "display_name": "Python [conda env:pyvizenv] *",
   "language": "python",
   "name": "conda-env-pyvizenv-py"
  },
  "language_info": {
   "codemirror_mode": {
    "name": "ipython",
    "version": 3
   },
   "file_extension": ".py",
   "mimetype": "text/x-python",
   "name": "python",
   "nbconvert_exporter": "python",
   "pygments_lexer": "ipython3",
   "version": "3.7.10"
  }
 },
 "nbformat": 4,
 "nbformat_minor": 5
}
