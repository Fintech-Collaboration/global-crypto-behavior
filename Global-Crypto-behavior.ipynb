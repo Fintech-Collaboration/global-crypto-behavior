{
 "cells": [
  {
   "cell_type": "markdown",
   "id": "a53fb3e6-946c-4f2b-8a7d-9654523c3c98",
   "metadata": {},
   "source": [
    "# Global Crypto Behavior Analyzer \n"
   ]
  },
  {
   "cell_type": "markdown",
   "id": "0cd1b4b5-648f-4245-b0c3-514cf5044e3e",
   "metadata": {},
   "source": []
  }
 ],
 "metadata": {
  "kernelspec": {
   "display_name": "Python [conda env:pyvizenv]",
   "language": "python",
   "name": "conda-env-pyvizenv-py"
  },
  "language_info": {
   "codemirror_mode": {
    "name": "ipython",
    "version": 3
   },
   "file_extension": ".py",
   "mimetype": "text/x-python",
   "name": "python",
   "nbconvert_exporter": "python",
   "pygments_lexer": "ipython3",
   "version": "3.7.11"
  }
 },
 "nbformat": 4,
 "nbformat_minor": 5
}
