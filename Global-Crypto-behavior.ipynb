{
 "cells": [
  {
   "cell_type": "markdown",
   "id": "ef8de12c",
   "metadata": {},
   "source": [
    "# Global Crypto Behavior Analyzer \n"
   ]
  },
  {
   "cell_type": "code",
   "execution_count": 6,
   "id": "a9495709",
   "metadata": {},
   "outputs": [
    {
     "name": "stdout",
     "output_type": "stream",
     "text": [
      "Source data : C:\\Users\\JasonGarcia24\\FINTECH-WORKSPACE\\global-crypto-behavior\\data\\debug_data.json\n",
      "\tDEBUG : NO\n",
      "\n",
      "                        1         2        74     328      1027     2010\n",
      "id                      1         2        74     328      1027     2010\n",
      "name              Bitcoin  Litecoin  Dogecoin  Monero  Ethereum  Cardano\n",
      "symbol                BTC       LTC      DOGE     XMR       ETH      ADA\n",
      "slug              bitcoin  litecoin  dogecoin  monero  ethereum  cardano\n",
      "num_market_pairs     8935       710       379     161      5607      285\n"
     ]
    }
   ],
   "source": [
    "from market_response.crypto import CoinMarketCapResponse\n",
    "from utils.json_io          import json_write\n",
    "\n",
    "\n",
    "cryptocurrencies = {\n",
    "    \"Bitcoin\":  (\"BTC\", \"1\"),\n",
    "    \"Ethereum\": (\"ETH\", \"1027\"),\n",
    "    \"Cardano\":  (\"ADA\", \"2010\"),\n",
    "    \"Litecoin\": (\"LTC\", \"2\"),\n",
    "    \"Monero\":   (\"XMR\", \"328\"),\n",
    "    \"Dogecoin\": (\"DOGE\", \"74\"),\n",
    "}\n",
    "\n",
    "slugs, tickers, id = list(zip(*[[x, y, z] for x, (y, z) in cryptocurrencies.items()]))\n",
    "coins    = 5000\n",
    "currency = \"USD\"\n",
    "endpoint = \"latest-quotes\"\n",
    "\n",
    "# debug = \"YES\" # Uses ../data/debug_datat.json (we want this for testing)\n",
    "debug = \"NO\"  # !!! Are you SURE???\n",
    "# debug = \"SANDBOX\"\n",
    "\n",
    "data = CoinMarketCapResponse(tickers, slugs, id, coins, currency, endpoint, debug=debug)\n",
    "\n",
    "print(data.dataframe.head())\n"
   ]
  },
  {
   "cell_type": "code",
   "execution_count": 7,
   "id": "4791df85",
   "metadata": {},
   "outputs": [],
   "source": [
    "# type(data)"
   ]
  },
  {
   "cell_type": "code",
   "execution_count": 8,
   "id": "215b8143",
   "metadata": {},
   "outputs": [],
   "source": [
    "# dir(data)"
   ]
  },
  {
   "cell_type": "code",
   "execution_count": 9,
   "id": "82114f9b",
   "metadata": {},
   "outputs": [],
   "source": [
    "# data.url"
   ]
  },
  {
   "cell_type": "code",
   "execution_count": 10,
   "id": "a8c1ad96",
   "metadata": {},
   "outputs": [],
   "source": [
    "# data.print_json_dump()"
   ]
  },
  {
   "cell_type": "code",
   "execution_count": 11,
   "id": "257a4eb5",
   "metadata": {},
   "outputs": [],
   "source": [
    "# display(data)"
   ]
  },
  {
   "cell_type": "code",
   "execution_count": 12,
   "id": "2f71dbbb",
   "metadata": {},
   "outputs": [],
   "source": [
    "# data.dataframe.head(50)"
   ]
  },
  {
   "cell_type": "code",
   "execution_count": 13,
   "id": "28d8b50e",
   "metadata": {},
   "outputs": [],
   "source": [
    "# data.dataframe.drop(columns = [\"platform\"])"
   ]
  },
  {
   "cell_type": "code",
   "execution_count": null,
   "id": "56267500",
   "metadata": {},
   "outputs": [],
   "source": []
  }
 ],
 "metadata": {
  "kernelspec": {
   "display_name": "Python (dev)",
   "language": "python",
   "name": "dev"
  },
  "language_info": {
   "codemirror_mode": {
    "name": "ipython",
    "version": 3
   },
   "file_extension": ".py",
   "mimetype": "text/x-python",
   "name": "python",
   "nbconvert_exporter": "python",
   "pygments_lexer": "ipython3",
   "version": "3.8.8"
  }
 },
 "nbformat": 4,
 "nbformat_minor": 5
}
