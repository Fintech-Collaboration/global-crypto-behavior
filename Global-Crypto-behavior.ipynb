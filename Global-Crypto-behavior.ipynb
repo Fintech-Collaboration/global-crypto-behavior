{
 "cells": [
  {
   "cell_type": "markdown",
   "id": "a53fb3e6-946c-4f2b-8a7d-9654523c3c98",
   "metadata": {},
   "source": [
    "# Global Crypto Behavior Analyzer \n"
   ]
  },
  {
   "cell_type": "code",
   "execution_count": null,
   "id": "b5ca781f-e9f5-42b0-af7a-0d57699e0d5d",
   "metadata": {},
   "outputs": [],
   "source": [
    "from market_response.crypto import CoinMarketCapResponse\n",
    "from utils.json_io          import json_write\n",
    "cryptocurrencies = {\n",
    "    \"Bitcoin\":  (\"BTC\", \"1\"),\n",
    "    \"Ethereum\": (\"ETH\", \"1027\"),\n",
    "    \"Cardano\":  (\"ADA\", \"2010\"),\n",
    "    \"Litecoin\": (\"LTC\", \"2\"),\n",
    "    \"Monero\":   (\"XMR\", \"328\"),\n",
    "    \"Dogecoin\": (\"DOGE\", \"74\"),\n",
    "}\n",
    "\n",
    "\n",
    "slugs, tickers, id = list(zip(*[[x, y, z] for x, (y, z) in cryptocurrencies.items()]))\n",
    "coins    = 5000\n",
    "currency = \"USD\"\n",
    "endpoint = \"latest-quotes\"\n",
    "# debug = \"YES\" # Uses ../data/debug_datat.json (we want this for testing)\n",
    "debug = \"yes\"  # !!! Are you SURE???\n",
    "# debug = \"SANDBOX\"\n",
    "\n",
    "data = CoinMarketCapResponse(tickers, slugs, id, coins, currency, endpoint, debug=debug)\n",
    "\n",
    "print(data.dataframe.head())"
   ]
  },
  {
   "cell_type": "code",
   "execution_count": null,
   "id": "13f78cef-779c-489a-bfe8-8454b6a3e286",
   "metadata": {},
   "outputs": [],
   "source": [
    "import pandas as pd "
   ]
  },
  {
   "cell_type": "code",
   "execution_count": null,
   "id": "ed3d92c9-7b30-47fd-9b7d-298d2e851aa4",
   "metadata": {},
   "outputs": [],
   "source": [
    "type(data)"
   ]
  },
  {
   "cell_type": "code",
   "execution_count": null,
   "id": "0047d2e5-efe5-4260-8aa1-b90a12d0d913",
   "metadata": {},
   "outputs": [],
   "source": [
    "dir(data)"
   ]
  },
  {
   "cell_type": "code",
   "execution_count": null,
   "id": "e3957ddc-f742-4d0b-9dc2-9f51dca0c5e4",
   "metadata": {},
   "outputs": [],
   "source": [
    "data.url"
   ]
  },
  {
   "cell_type": "code",
   "execution_count": null,
   "id": "b3088bbd-99be-47d5-b68e-63369a4eaaf8",
   "metadata": {},
   "outputs": [],
   "source": [
    "data.print_json_dump()"
   ]
  },
  {
   "cell_type": "code",
   "execution_count": null,
   "id": "ac7df48f-4a90-4bf3-ad8d-1080ec3faf95",
   "metadata": {},
   "outputs": [],
   "source": [
    "display(data)"
   ]
  },
  {
   "cell_type": "code",
   "execution_count": null,
   "id": "842a5fcf-db51-40bc-86a4-54fd383c8c33",
   "metadata": {},
   "outputs": [],
   "source": [
    "data.dataframe"
   ]
  },
  {
   "cell_type": "code",
   "execution_count": null,
   "id": "391c04f9-f9c5-4832-99b5-8969694075af",
   "metadata": {},
   "outputs": [],
   "source": [
    "df = data.dataframe\n",
    "df = df.reset_index(drop=True)\n",
    "df.head()"
   ]
  },
  {
   "cell_type": "code",
   "execution_count": null,
   "id": "fd7e055b-25f7-4d79-a321-3a59848fe415",
   "metadata": {},
   "outputs": [],
   "source": [
    "df[\"max_supply\"] = df[\"max_supply\"].fillna(0).astype(int)"
   ]
  },
  {
   "cell_type": "code",
   "execution_count": null,
   "id": "e08f9167-a401-40e0-b82e-4f65502376e9",
   "metadata": {},
   "outputs": [],
   "source": []
  },
  {
   "cell_type": "code",
   "execution_count": null,
   "id": "de91900b-9ed5-4af1-8a88-36fe5fdca68c",
   "metadata": {},
   "outputs": [],
   "source": [
    "df[\"circulating_supply\"]= df[\"circulating_supply\"].fillna(0).astype(int)"
   ]
  },
  {
   "cell_type": "code",
   "execution_count": null,
   "id": "6e0c633f-38a1-46b9-ba6a-99e9c71172ab",
   "metadata": {},
   "outputs": [],
   "source": [
    "df[\"total_supply\"]= df[\"total_supply\"].fillna(0).astype(int)"
   ]
  },
  {
   "cell_type": "code",
   "execution_count": null,
   "id": "46f49f96-de82-4108-a849-dabdaff621a9",
   "metadata": {},
   "outputs": [],
   "source": [
    "df1 = df[['name', 'symbol','num_market_pairs',\n",
    "        'last_updated', 'quote']]\n",
    "print(df.columns)\n",
    "display(df.dtypes)\n",
    "len(df), df.count()"
   ]
  },
  {
   "cell_type": "code",
   "execution_count": null,
   "id": "7e7650e4-7158-4a2b-a94d-2510d605bd56",
   "metadata": {},
   "outputs": [],
   "source": [
    "df1"
   ]
  },
  {
   "cell_type": "code",
   "execution_count": null,
   "id": "cb6e54b8-5615-4879-af8d-bded771cc55a",
   "metadata": {},
   "outputs": [],
   "source": [
    "df_quote = pd.DataFrame(df1[\"quote\"])\n",
    "df_quote.dtypes"
   ]
  },
  {
   "cell_type": "code",
   "execution_count": null,
   "id": "50c5216f-99d8-4b8e-adc9-09dc26e1c39b",
   "metadata": {},
   "outputs": [],
   "source": []
  },
  {
   "cell_type": "code",
   "execution_count": null,
   "id": "cd8baeeb-98ea-4a21-bfa8-265c15509dde",
   "metadata": {},
   "outputs": [],
   "source": [
    "all = []\n",
    "for x in df_quote[\"quote\"]:\n",
    "#     i = 1\n",
    "    all.append(x[\"USD\"])\n",
    "    \n",
    "new_df = pd.DataFrame(all)\n",
    "\n"
   ]
  },
  {
   "cell_type": "code",
   "execution_count": null,
   "id": "bc8c817a-6e22-4eee-a433-a958a6e4af74",
   "metadata": {},
   "outputs": [],
   "source": [
    "new_df"
   ]
  },
  {
   "cell_type": "code",
   "execution_count": null,
   "id": "0606cfe0-6667-4554-8139-918ad7f707ee",
   "metadata": {},
   "outputs": [],
   "source": [
    "\n",
    "#frames = [df1,new_df]\n",
    "\n",
    "\n",
    "df_combined = df1.join(new_df,rsuffix=\"_quote\").drop(columns= [\"last_updated_quote\",\"quote\"])\n",
    "df_combined"
   ]
  },
  {
   "cell_type": "code",
   "execution_count": null,
   "id": "3f7abf9f-3f33-4c81-b5b9-adce4ad8f5cd",
   "metadata": {},
   "outputs": [],
   "source": []
  },
  {
   "cell_type": "code",
   "execution_count": null,
   "id": "1226fb7c-b0aa-470a-baf6-c9d17731f0f0",
   "metadata": {},
   "outputs": [],
   "source": [
    "df_combined[\"volume_24h\"] = df_combined[\"volume_24h\"].fillna(0).astype(int)"
   ]
  },
  {
   "cell_type": "code",
   "execution_count": null,
   "id": "4df6f2cc-e1f5-4f6a-9ee0-ae111db28124",
   "metadata": {},
   "outputs": [],
   "source": [
    "df_combined[\"market_cap\"] = df_combined[\"market_cap\"].fillna(0).astype(int)"
   ]
  },
  {
   "cell_type": "code",
   "execution_count": null,
   "id": "3b284080-3396-417c-bb79-5d0b91022299",
   "metadata": {},
   "outputs": [],
   "source": [
    "df_combined[\"fully_diluted_market_cap\"] = df_combined[\"fully_diluted_market_cap\"].fillna(0).astype(int)"
   ]
  },
  {
   "cell_type": "code",
   "execution_count": null,
   "id": "34077edd-2b82-4b9e-8c58-761c51b54f82",
   "metadata": {},
   "outputs": [],
   "source": [
    "df_combined"
   ]
  },
  {
   "cell_type": "code",
   "execution_count": null,
   "id": "8849c52c-8fd5-4bc1-b313-40ba64e31dec",
   "metadata": {},
   "outputs": [],
   "source": [
    "df_combined[\"last_updated\"]= pd.to_datetime( df_combined[\"last_updated\"],infer_datetime_format=True)"
   ]
  },
  {
   "cell_type": "code",
   "execution_count": null,
   "id": "40b0d804-0dec-4c3d-bb19-d4b37ea62a79",
   "metadata": {},
   "outputs": [],
   "source": [
    "df_combined"
   ]
  },
  {
   "cell_type": "code",
   "execution_count": null,
   "id": "3eb97c82-52e9-4074-9bac-0644ee2eb516",
   "metadata": {},
   "outputs": [],
   "source": []
  }
 ],
 "metadata": {
  "kernelspec": {
   "display_name": "Python [conda env:pyvizenv] *",
   "language": "python",
   "name": "conda-env-pyvizenv-py"
  },
  "language_info": {
   "codemirror_mode": {
    "name": "ipython",
    "version": 3
   },
   "file_extension": ".py",
   "mimetype": "text/x-python",
   "name": "python",
   "nbconvert_exporter": "python",
   "pygments_lexer": "ipython3",
   "version": "3.7.10"
  }
 },
 "nbformat": 4,
 "nbformat_minor": 5
}
