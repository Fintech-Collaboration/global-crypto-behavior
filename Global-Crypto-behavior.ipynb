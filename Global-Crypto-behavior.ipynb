{
 "cells": [
  {
   "cell_type": "markdown",
   "id": "a53fb3e6-946c-4f2b-8a7d-9654523c3c98",
   "metadata": {},
   "source": [
    "# Global Crypto Behavior Analyzer \n"
   ]
  },
  {
   "cell_type": "code",
   "execution_count": 1,
   "id": "b5ca781f-e9f5-42b0-af7a-0d57699e0d5d",
   "metadata": {},
   "outputs": [
    {
     "name": "stdout",
     "output_type": "stream",
     "text": [
      "Source   : /Users/danieldeleon/Desktop/Fintech_workspace/Challenge_Homeworks/global-crypto-behavior/data/debug_latest-quotes_data.json\n",
      "RUN TYPE : DEBUG\n",
      "  index    id      name symbol      slug num_market_pairs  \\\n",
      "0     1     1   Bitcoin    BTC   bitcoin             8935   \n",
      "1     2     2  Litecoin    LTC  litecoin              711   \n",
      "2    74    74  Dogecoin   DOGE  dogecoin              379   \n",
      "3   328   328    Monero    XMR    monero              162   \n",
      "4  1027  1027  Ethereum    ETH  ethereum             5610   \n",
      "\n",
      "                 date_added  \\\n",
      "0  2013-04-28T00:00:00.000Z   \n",
      "1  2013-04-28T00:00:00.000Z   \n",
      "2  2013-12-15T00:00:00.000Z   \n",
      "3  2014-05-21T00:00:00.000Z   \n",
      "4  2015-08-07T00:00:00.000Z   \n",
      "\n",
      "                                                tags max_supply  \\\n",
      "0  [mineable, pow, sha-256, store-of-value, state...   21000000   \n",
      "1  [mineable, pow, scrypt, medium-of-exchange, bi...   84000000   \n",
      "2  [mineable, pow, scrypt, medium-of-exchange, me...       None   \n",
      "3  [mineable, pow, medium-of-exchange, privacy, r...       None   \n",
      "4  [mineable, pow, smart-contracts, ethereum, bin...       None   \n",
      "\n",
      "    circulating_supply         total_supply is_active platform cmc_rank  \\\n",
      "0             18783175             18783175         1     None        1   \n",
      "1      66752614.515387      66752614.515387         1     None       15   \n",
      "2  130813243560.315384  130813243560.315384         1     None        7   \n",
      "3      17971161.768036      17971161.768036         1     None       28   \n",
      "4        117064497.874        117064497.874         1     None        2   \n",
      "\n",
      "  is_fiat              last_updated  \\\n",
      "0       0  2021-08-11T20:04:02.000Z   \n",
      "1       0  2021-08-11T20:04:02.000Z   \n",
      "2       0  2021-08-11T20:04:03.000Z   \n",
      "3       0  2021-08-11T20:04:04.000Z   \n",
      "4       0  2021-08-11T20:04:02.000Z   \n",
      "\n",
      "                                               quote  \n",
      "0  {'USD': {'price': 46584.7780844161, 'volume_24...  \n",
      "1  {'USD': {'price': 174.70230764025925, 'volume_...  \n",
      "2  {'USD': {'price': 0.2798593285568, 'volume_24h...  \n",
      "3  {'USD': {'price': 275.07627709730235, 'volume_...  \n",
      "4  {'USD': {'price': 3257.2354598728443, 'volume_...  \n"
     ]
    }
   ],
   "source": [
    "import pandas as pd \n",
    "\n",
    "from market_response.crypto import CoinMarketCapResponse\n",
    "from utils.json_io          import json_write\n",
    "from data.data_cleaning import crypto_cleaner\n",
    "\n",
    "\n",
    "cryptocurrencies = {\n",
    "    \"Bitcoin\":  (\"BTC\", \"1\"),\n",
    "    \"Ethereum\": (\"ETH\", \"1027\"),\n",
    "    \"Cardano\":  (\"ADA\", \"2010\"),\n",
    "    \"Litecoin\": (\"LTC\", \"2\"),\n",
    "    \"Monero\":   (\"XMR\", \"328\"),\n",
    "    \"Dogecoin\": (\"DOGE\", \"74\"),\n",
    "}\n",
    "\n",
    "\n",
    "slugs, tickers, id = list(zip(*[[x, y, z] for x, (y, z) in cryptocurrencies.items()]))\n",
    "coins    = 5000\n",
    "currency = \"USD\"\n",
    "endpoint = \"latest-quotes\"\n",
    "# debug = \"YES\" # Uses ../data/debug_datat.json (we want this for testing)\n",
    "debug = \"DEBUG\"  # !!! Are you SURE???\n",
    "# debug = \"SANDBOX\"\n",
    "\n",
    "data = CoinMarketCapResponse(tickers, slugs, id, coins, currency, endpoint, run_type=debug)\n",
    "\n",
    "print(data.dataframe.head())"
   ]
  },
  {
   "cell_type": "code",
   "execution_count": null,
   "id": "042fc704-2a4e-4282-b8db-3b0944305a20",
   "metadata": {},
   "outputs": [],
   "source": []
  }
 ],
 "metadata": {
  "kernelspec": {
   "display_name": "Python [conda env:pyvizenv]",
   "language": "python",
   "name": "conda-env-pyvizenv-py"
  },
  "language_info": {
   "codemirror_mode": {
    "name": "ipython",
    "version": 3
   },
   "file_extension": ".py",
   "mimetype": "text/x-python",
   "name": "python",
   "nbconvert_exporter": "python",
   "pygments_lexer": "ipython3",
   "version": "3.7.11"
  }
 },
 "nbformat": 4,
 "nbformat_minor": 5
}
