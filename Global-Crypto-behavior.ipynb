{
 "cells": [
  {
   "cell_type": "markdown",
   "id": "f3a3571b-58ad-40da-8533-e10d846b5e2b",
   "metadata": {},
   "source": [
    "Test code for commiting\n",
    "another test code for merging "
   ]
  },
  {
   "cell_type": "code",
   "execution_count": null,
   "id": "a548320c-1730-498b-859a-1258350305af",
   "metadata": {},
   "outputs": [],
   "source": []
  }
 ],
 "metadata": {
  "kernelspec": {
   "display_name": "Python [conda env:pyvizenv]",
   "language": "python",
   "name": "conda-env-pyvizenv-py"
  },
  "language_info": {
   "codemirror_mode": {
    "name": "ipython",
    "version": 3
   },
   "file_extension": ".py",
   "mimetype": "text/x-python",
   "name": "python",
   "nbconvert_exporter": "python",
   "pygments_lexer": "ipython3",
   "version": "3.7.11"
  }
 },
 "nbformat": 4,
 "nbformat_minor": 5
}
