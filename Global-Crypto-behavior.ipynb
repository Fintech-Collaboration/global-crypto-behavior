{
 "cells": [
  {
   "cell_type": "markdown",
   "id": "f737ead0",
   "metadata": {},
   "source": [
    "# Global Crypto Behavior Analyzer \n"
   ]
  },
  {
   "cell_type": "code",
   "execution_count": null,
   "id": "2958dc43",
   "metadata": {},
   "outputs": [],
   "source": [
    "import pandas as pd \n",
    "\n",
    "from datetime import datetime\n",
    "\n",
    "from market_response.crypto import CoinMarketCapResponse\n",
    "from utils.json_io          import json_write\n",
    "\n",
    "\n",
    "cryptocurrencies = {\n",
    "    \"Bitcoin\":  (\"BTC\", \"1\"),\n",
    "    \"Ethereum\": (\"ETH\", \"1027\"),\n",
    "    \"Cardano\":  (\"ADA\", \"2010\"),\n",
    "    \"Litecoin\": (\"LTC\", \"2\"),\n",
    "    \"Monero\":   (\"XMR\", \"328\"),\n",
    "    \"Dogecoin\": (\"DOGE\", \"74\"),\n",
    "}\n",
    "\n",
    "slugs, tickers, id = list(zip(*[[x, y, z] for x, (y, z) in cryptocurrencies.items()]))\n",
    "coins    = 5000\n",
    "currency = \"USD\"\n",
    "endpoint = \"latest-quotes\"\n",
    "\n",
    "# run_type = \"API\"      # !!! Uses CMC API key and credit. Are you SURE???\n",
    "# run_type = \"SANDBOX\" # Uses CMC sandbox and no credit.\n",
    "run_type = \"DEBUG\"     # Uses ../data/debug_datat.json (we want this for testing).\n",
    "\n",
    "data = CoinMarketCapResponse(tickers, slugs, id, coins, currency, endpoint,\n",
    "                             run_type=run_type)\n",
    "\n",
    "today = datetime.now().strftime(\"%Y%m%d\")\n",
    "data.combine_responses(mode=\"a\", suffix=today)\n"
   ]
  },
  {
   "cell_type": "code",
   "execution_count": null,
   "id": "857ee759",
   "metadata": {},
   "outputs": [],
   "source": [
    "data.dataframe.head()"
   ]
  },
  {
   "cell_type": "code",
   "execution_count": null,
   "id": "260bccb4",
   "metadata": {},
   "outputs": [],
   "source": [
    "df = data.dataframe\n",
    "df = df.reset_index(drop=True)\n",
    "df.head()"
   ]
  },
  {
   "cell_type": "code",
   "execution_count": null,
   "id": "8fd2807e",
   "metadata": {},
   "outputs": [],
   "source": [
    "df[\"max_supply\"] = df[\"max_supply\"].fillna(0).astype(int)"
   ]
  },
  {
   "cell_type": "code",
   "execution_count": null,
   "id": "09fe9e8f",
   "metadata": {},
   "outputs": [],
   "source": [
    "df[\"circulating_supply\"]= df[\"circulating_supply\"].fillna(0).astype(int)"
   ]
  },
  {
   "cell_type": "code",
   "execution_count": null,
   "id": "73b8a6db",
   "metadata": {},
   "outputs": [],
   "source": [
    "df[\"total_supply\"]= df[\"total_supply\"].fillna(0).astype(int)"
   ]
  },
  {
   "cell_type": "code",
   "execution_count": null,
   "id": "c4cfd493",
   "metadata": {},
   "outputs": [],
   "source": [
    "df1 = df[['name', 'symbol','num_market_pairs',\n",
    "        'last_updated', 'quote']]\n",
    "\n",
    "df1.head()"
   ]
  },
  {
   "cell_type": "code",
   "execution_count": null,
   "id": "f8249a2c",
   "metadata": {},
   "outputs": [],
   "source": [
    "df_quote = pd.DataFrame(df1[\"quote\"])\n",
    "df_quote.dtypes"
   ]
  },
  {
   "cell_type": "code",
   "execution_count": null,
   "id": "03dc1620",
   "metadata": {},
   "outputs": [],
   "source": [
    "all = []\n",
    "for x in df_quote[\"quote\"]:\n",
    "    all.append(x[\"USD\"])\n",
    "    \n",
    "new_df = pd.DataFrame(all)\n",
    "\n"
   ]
  },
  {
   "cell_type": "code",
   "execution_count": null,
   "id": "0b246e18",
   "metadata": {},
   "outputs": [],
   "source": [
    "new_df"
   ]
  },
  {
   "cell_type": "code",
   "execution_count": null,
   "id": "9475e07c",
   "metadata": {},
   "outputs": [],
   "source": [
    "df_combined = df1.join(new_df,rsuffix=\"_quote\").drop(columns= [\"last_updated_quote\",\"quote\"])\n",
    "df_combined"
   ]
  },
  {
   "cell_type": "code",
   "execution_count": null,
   "id": "074f366d",
   "metadata": {},
   "outputs": [],
   "source": [
    "df_combined[\"volume_24h\"] = df_combined[\"volume_24h\"].fillna(0).astype(int)"
   ]
  },
  {
   "cell_type": "code",
   "execution_count": null,
   "id": "3cf2f371",
   "metadata": {},
   "outputs": [],
   "source": [
    "df_combined[\"market_cap\"] = df_combined[\"market_cap\"].fillna(0).astype(int)"
   ]
  },
  {
   "cell_type": "code",
   "execution_count": null,
   "id": "b459105f",
   "metadata": {},
   "outputs": [],
   "source": [
    "df_combined[\"fully_diluted_market_cap\"] = df_combined[\"fully_diluted_market_cap\"].fillna(0).astype(int)"
   ]
  },
  {
   "cell_type": "code",
   "execution_count": null,
   "id": "d34d0666",
   "metadata": {},
   "outputs": [],
   "source": [
    "df_combined.head()"
   ]
  },
  {
   "cell_type": "code",
   "execution_count": null,
   "id": "80c149e5",
   "metadata": {},
   "outputs": [],
   "source": [
    "df_combined[\"last_updated\"]= pd.to_datetime( df_combined[\"last_updated\"],infer_datetime_format=True)"
   ]
  },
  {
   "cell_type": "code",
   "execution_count": null,
   "id": "7c1d4804",
   "metadata": {},
   "outputs": [],
   "source": [
    "df_combined.head()"
   ]
  }
 ],
 "metadata": {
  "kernelspec": {
   "display_name": "Python (dev)",
   "language": "python",
   "name": "dev"
  },
  "language_info": {
   "codemirror_mode": {
    "name": "ipython",
    "version": 3
   },
   "file_extension": ".py",
   "mimetype": "text/x-python",
   "name": "python",
   "nbconvert_exporter": "python",
   "pygments_lexer": "ipython3",
   "version": "3.8.8"
  }
 },
 "nbformat": 4,
 "nbformat_minor": 5
}
